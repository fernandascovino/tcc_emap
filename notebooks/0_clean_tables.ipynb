{
 "cells": [
  {
   "cell_type": "markdown",
   "metadata": {},
   "source": [
    "# Limpeza das bases\n",
    "\n",
    "---\n",
    "\n",
    "- Checagem dos IDs únicos\n",
    "- Filtragem de alunos e escolas estaduais de ensino médio no RJ\n",
    "\n",
    "Bases:\n",
    "- Censo (2016 e 2017): dados de Matrículas e Escolas\n",
    "- INSE (2015)"
   ]
  },
  {
   "cell_type": "markdown",
   "metadata": {
    "toc": true
   },
   "source": [
    "<h1>Table of Contents<span class=\"tocSkip\"></span></h1>\n",
    "<div class=\"toc\"><ul class=\"toc-item\"><li><span><a href=\"#Censo-escolar\" data-toc-modified-id=\"Censo-escolar-1\"><span class=\"toc-item-num\">1&nbsp;&nbsp;</span>Censo escolar</a></span><ul class=\"toc-item\"><li><span><a href=\"#Matrículas\" data-toc-modified-id=\"Matrículas-1.1\"><span class=\"toc-item-num\">1.1&nbsp;&nbsp;</span>Matrículas</a></span><ul class=\"toc-item\"><li><span><a href=\"#Filtragem-de-alunos-em-escolas-estaduais-do-EM\" data-toc-modified-id=\"Filtragem-de-alunos-em-escolas-estaduais-do-EM-1.1.1\"><span class=\"toc-item-num\">1.1.1&nbsp;&nbsp;</span>Filtragem de alunos em escolas estaduais do EM</a></span></li><li><span><a href=\"#Checando-ID-único\" data-toc-modified-id=\"Checando-ID-único-1.1.2\"><span class=\"toc-item-num\">1.1.2&nbsp;&nbsp;</span>Checando ID único</a></span></li></ul></li><li><span><a href=\"#Escolas\" data-toc-modified-id=\"Escolas-1.2\"><span class=\"toc-item-num\">1.2&nbsp;&nbsp;</span>Escolas</a></span><ul class=\"toc-item\"><li><span><a href=\"#Filtrando-escolas-estaduais\" data-toc-modified-id=\"Filtrando-escolas-estaduais-1.2.1\"><span class=\"toc-item-num\">1.2.1&nbsp;&nbsp;</span>Filtrando escolas estaduais</a></span></li></ul></li><li><span><a href=\"#INSE\" data-toc-modified-id=\"INSE-1.3\"><span class=\"toc-item-num\">1.3&nbsp;&nbsp;</span>INSE</a></span></li><li><span><a href=\"#Ideb\" data-toc-modified-id=\"Ideb-1.4\"><span class=\"toc-item-num\">1.4&nbsp;&nbsp;</span>Ideb</a></span></li></ul></li><li><span><a href=\"#Fogo-Cruzado\" data-toc-modified-id=\"Fogo-Cruzado-2\"><span class=\"toc-item-num\">2&nbsp;&nbsp;</span>Fogo Cruzado</a></span></li></ul></div>"
   ]
  },
  {
   "cell_type": "code",
   "execution_count": 3,
   "metadata": {},
   "outputs": [],
   "source": [
    "from paths import RAW_PATH, TREAT_PATH\n",
    "import os\n",
    "import pandas as pd"
   ]
  },
  {
   "cell_type": "markdown",
   "metadata": {},
   "source": [
    "## Censo escolar \n",
    "\n",
    "### Matrículas\n",
    "- Filtragem de alunos do RJ no 1º ano do EM em escolas públicas estaduais (em 2016)\n",
    "- Checagem do ID único: `ID_MATRICULA` não se mantém de um ano para outro (< 2% de 2016 aparece em 2017), usamos o `ID` do CPF criptografado\n",
    "- Separando IDs duplicados"
   ]
  },
  {
   "cell_type": "code",
   "execution_count": 5,
   "metadata": {},
   "outputs": [
    {
     "name": "stdout",
     "output_type": "stream",
     "text": [
      "CPFs que aparecem mais de uma vez:  331\n",
      "CPFs que aparecem mais de uma vez:  687\n"
     ]
    }
   ],
   "source": [
    "def unique_id(df):\n",
    "    \n",
    "    # Código único por pessoa\n",
    "    v = df['ID'].value_counts()\n",
    "    print('CPFs que aparecem mais de uma vez: ', len(v[v > 1]))\n",
    "\n",
    "    # Separando duplicados\n",
    "    duplicate = df[df['ID'].isin(v[v > 1].index)]\n",
    "    df = df[df['ID'].isin(v[v > 1].index) == False]\n",
    "    \n",
    "    return df, duplicate\n",
    "\n",
    "def clean_aluno(df_name):\n",
    "    \n",
    "    df = pd.read_csv(RAW_PATH / 'censo' / df_name)\n",
    "    \n",
    "    # Criptografa os CPFs\n",
    "    df['ID'] = df['CO_PESSOA_FISICA']# .apply(hash)\n",
    "    df = df.drop('CO_PESSOA_FISICA', axis=1)\n",
    "    \n",
    "    # Checa duplicados\n",
    "    df, df_duplicate = unique_id(df)\n",
    "    \n",
    "    # Salva as bases tratadas\n",
    "    clean_name = 'cleaned_'+str(df_name)\n",
    "    duplicate_name = df_name[:-4]+'duplicado.csv'\n",
    "    \n",
    "    df.to_csv(TREAT_PATH / 'censo' / clean_name)\n",
    "    df_duplicate.to_csv(TREAT_PATH / 'censo' / duplicate_name)\n",
    "    \n",
    "dfs = list(filter(lambda x: x.endswith('.csv'), os.listdir(RAW_PATH / 'censo')))\n",
    "\n",
    "for df in dfs:\n",
    "    if 'matricula' in df:\n",
    "        clean_aluno(df)"
   ]
  },
  {
   "cell_type": "code",
   "execution_count": 7,
   "metadata": {},
   "outputs": [],
   "source": [
    "df_aluno17 = pd.read_csv(TREAT_PATH / 'censo' / 'cleaned_matriculas_rj_2017.csv', index_col=0)\n",
    "df_aluno16 = pd.read_csv(TREAT_PATH / 'censo' / 'cleaned_matriculas_rj_2016.csv', index_col=0)"
   ]
  },
  {
   "cell_type": "code",
   "execution_count": 8,
   "metadata": {
    "collapsed": true
   },
   "outputs": [
    {
     "name": "stdout",
     "output_type": "stream",
     "text": [
      "<class 'pandas.core.frame.DataFrame'>\n",
      "Int64Index: 551630 entries, 0 to 552291\n",
      "Data columns (total 92 columns):\n",
      "NU_ANO_CENSO                     551630 non-null int64\n",
      "ID_MATRICULA                     551630 non-null int64\n",
      "NU_DIA                           551630 non-null int64\n",
      "NU_MES                           551630 non-null int64\n",
      "NU_ANO                           551630 non-null int64\n",
      "NU_IDADE_REFERENCIA              551630 non-null int64\n",
      "NU_IDADE                         551630 non-null int64\n",
      "NU_DURACAO_TURMA                 551630 non-null int64\n",
      "NU_DUR_ATIV_COMP_MESMA_REDE      551630 non-null int64\n",
      "NU_DUR_ATIV_COMP_OUTRAS_REDES    551630 non-null int64\n",
      "NU_DUR_AEE_MESMA_REDE            551630 non-null int64\n",
      "NU_DUR_AEE_OUTRAS_REDES          551630 non-null int64\n",
      "NU_DIAS_ATIVIDADE                551630 non-null int64\n",
      "TP_SEXO                          551630 non-null int64\n",
      "TP_COR_RACA                      551630 non-null int64\n",
      "TP_NACIONALIDADE                 551630 non-null int64\n",
      "CO_PAIS_ORIGEM                   551630 non-null int64\n",
      "CO_UF_NASC                       550344 non-null float64\n",
      "CO_MUNICIPIO_NASC                550344 non-null float64\n",
      "CO_UF_END                        141976 non-null float64\n",
      "CO_MUNICIPIO_END                 141976 non-null float64\n",
      "TP_ZONA_RESIDENCIAL              551630 non-null int64\n",
      "TP_OUTRO_LOCAL_AULA              551630 non-null int64\n",
      "IN_TRANSPORTE_PUBLICO            551630 non-null int64\n",
      "TP_RESPONSAVEL_TRANSPORTE        297393 non-null float64\n",
      "IN_TRANSP_VANS_KOMBI             297393 non-null float64\n",
      "IN_TRANSP_MICRO_ONIBUS           297393 non-null float64\n",
      "IN_TRANSP_ONIBUS                 297393 non-null float64\n",
      "IN_TRANSP_BICICLETA              297393 non-null float64\n",
      "IN_TRANSP_TR_ANIMAL              297393 non-null float64\n",
      "IN_TRANSP_OUTRO_VEICULO          297393 non-null float64\n",
      "IN_TRANSP_EMBAR_ATE5             297393 non-null float64\n",
      "IN_TRANSP_EMBAR_5A15             297393 non-null float64\n",
      "IN_TRANSP_EMBAR_15A35            297393 non-null float64\n",
      "IN_TRANSP_EMBAR_35               297393 non-null float64\n",
      "IN_TRANSP_TREM_METRO             297393 non-null float64\n",
      "IN_NECESSIDADE_ESPECIAL          551630 non-null int64\n",
      "IN_CEGUEIRA                      3758 non-null float64\n",
      "IN_BAIXA_VISAO                   3758 non-null float64\n",
      "IN_SURDEZ                        3758 non-null float64\n",
      "IN_DEF_AUDITIVA                  3758 non-null float64\n",
      "IN_SURDOCEGUEIRA                 3758 non-null float64\n",
      "IN_DEF_FISICA                    3758 non-null float64\n",
      "IN_DEF_INTELECTUAL               3758 non-null float64\n",
      "IN_DEF_MULTIPLA                  3758 non-null float64\n",
      "IN_AUTISMO                       3758 non-null float64\n",
      "IN_SINDROME_ASPERGER             3758 non-null float64\n",
      "IN_SINDROME_RETT                 3758 non-null float64\n",
      "IN_TRANSTORNO_DI                 3758 non-null float64\n",
      "IN_SUPERDOTACAO                  3758 non-null float64\n",
      "IN_RECURSO_LEDOR                 3308 non-null float64\n",
      "IN_RECURSO_TRANSCRICAO           3308 non-null float64\n",
      "IN_RECURSO_INTERPRETE            3308 non-null float64\n",
      "IN_RECURSO_LIBRAS                3308 non-null float64\n",
      "IN_RECURSO_LABIAL                3308 non-null float64\n",
      "IN_RECURSO_BRAILLE               3308 non-null float64\n",
      "IN_RECURSO_AMPLIADA_16           3308 non-null float64\n",
      "IN_RECURSO_AMPLIADA_20           3308 non-null float64\n",
      "IN_RECURSO_AMPLIADA_24           3308 non-null float64\n",
      "IN_RECURSO_NENHUM                3308 non-null float64\n",
      "TP_INGRESSO_FEDERAIS             13039 non-null float64\n",
      "TP_MEDIACAO_DIDATICO_PEDAGO      551630 non-null int64\n",
      "IN_ESPECIAL_EXCLUSIVA            551630 non-null int64\n",
      "IN_REGULAR                       551630 non-null int64\n",
      "IN_EJA                           551630 non-null int64\n",
      "IN_PROFISSIONALIZANTE            551630 non-null int64\n",
      "TP_ETAPA_ENSINO                  551630 non-null int64\n",
      "ID_TURMA                         551630 non-null int64\n",
      "CO_CURSO_EDUC_PROFISSIONAL       27490 non-null float64\n",
      "TP_UNIFICADA                     551630 non-null int64\n",
      "TP_TIPO_TURMA                    551630 non-null int64\n",
      "CO_ENTIDADE                      551630 non-null int64\n",
      "CO_REGIAO                        551630 non-null int64\n",
      "CO_MESORREGIAO                   551630 non-null int64\n",
      "CO_MICRORREGIAO                  551630 non-null int64\n",
      "CO_UF                            551630 non-null int64\n",
      "CO_MUNICIPIO                     551630 non-null int64\n",
      "CO_DISTRITO                      551630 non-null int64\n",
      "TP_DEPENDENCIA                   551630 non-null int64\n",
      "TP_LOCALIZACAO                   551630 non-null int64\n",
      "TP_CATEGORIA_ESCOLA_PRIVADA      123372 non-null float64\n",
      "IN_CONVENIADA_PP                 123372 non-null float64\n",
      "TP_CONVENIO_PODER_PUBLICO        7985 non-null float64\n",
      "IN_MANT_ESCOLA_PRIVADA_EMP       123372 non-null float64\n",
      "IN_MANT_ESCOLA_PRIVADA_ONG       123372 non-null float64\n",
      "IN_MANT_ESCOLA_PRIVADA_SIND      123372 non-null float64\n",
      "IN_MANT_ESCOLA_PRIVADA_SIST_S    123372 non-null float64\n",
      "IN_MANT_ESCOLA_PRIVADA_S_FINS    123372 non-null float64\n",
      "TP_REGULAMENTACAO                551630 non-null int64\n",
      "TP_LOCALIZACAO_DIFERENCIADA      551630 non-null int64\n",
      "IN_EDUCACAO_INDIGENA             551630 non-null int64\n",
      "ID                               551630 non-null int64\n",
      "dtypes: float64(49), int64(43)\n",
      "memory usage: 391.4 MB\n"
     ]
    }
   ],
   "source": [
    "df_aluno17.info()"
   ]
  },
  {
   "cell_type": "code",
   "execution_count": 9,
   "metadata": {
    "collapsed": true
   },
   "outputs": [
    {
     "name": "stdout",
     "output_type": "stream",
     "text": [
      "<class 'pandas.core.frame.DataFrame'>\n",
      "Int64Index: 570111 entries, 0 to 571484\n",
      "Data columns (total 92 columns):\n",
      "NU_ANO_CENSO                     570111 non-null int64\n",
      "ID_MATRICULA                     570111 non-null int64\n",
      "NU_DIA                           570111 non-null int64\n",
      "NU_MES                           570111 non-null int64\n",
      "NU_ANO                           570111 non-null int64\n",
      "NU_IDADE_REFERENCIA              570111 non-null int64\n",
      "NU_IDADE                         570111 non-null int64\n",
      "NU_DURACAO_TURMA                 570111 non-null int64\n",
      "NU_DUR_ATIV_COMP_MESMA_REDE      570111 non-null int64\n",
      "NU_DUR_ATIV_COMP_OUTRAS_REDES    570111 non-null int64\n",
      "NU_DUR_AEE_MESMA_REDE            570111 non-null int64\n",
      "NU_DUR_AEE_OUTRAS_REDES          570111 non-null int64\n",
      "NU_DIAS_ATIVIDADE                570111 non-null int64\n",
      "TP_SEXO                          570111 non-null int64\n",
      "TP_COR_RACA                      570111 non-null int64\n",
      "TP_NACIONALIDADE                 570111 non-null int64\n",
      "CO_PAIS_ORIGEM                   570111 non-null int64\n",
      "CO_UF_NASC                       568709 non-null float64\n",
      "CO_MUNICIPIO_NASC                568709 non-null float64\n",
      "CO_UF_END                        149063 non-null float64\n",
      "CO_MUNICIPIO_END                 149063 non-null float64\n",
      "TP_ZONA_RESIDENCIAL              570111 non-null int64\n",
      "TP_OUTRO_LOCAL_AULA              570111 non-null int64\n",
      "IN_TRANSPORTE_PUBLICO            570111 non-null int64\n",
      "TP_RESPONSAVEL_TRANSPORTE        315524 non-null float64\n",
      "IN_TRANSP_VANS_KOMBI             315524 non-null float64\n",
      "IN_TRANSP_MICRO_ONIBUS           315524 non-null float64\n",
      "IN_TRANSP_ONIBUS                 315524 non-null float64\n",
      "IN_TRANSP_BICICLETA              315524 non-null float64\n",
      "IN_TRANSP_TR_ANIMAL              315524 non-null float64\n",
      "IN_TRANSP_OUTRO_VEICULO          315524 non-null float64\n",
      "IN_TRANSP_EMBAR_ATE5             315524 non-null float64\n",
      "IN_TRANSP_EMBAR_5A15             315524 non-null float64\n",
      "IN_TRANSP_EMBAR_15A35            315524 non-null float64\n",
      "IN_TRANSP_EMBAR_35               315524 non-null float64\n",
      "IN_TRANSP_TREM_METRO             315524 non-null float64\n",
      "IN_NECESSIDADE_ESPECIAL          570111 non-null int64\n",
      "IN_CEGUEIRA                      2922 non-null float64\n",
      "IN_BAIXA_VISAO                   2922 non-null float64\n",
      "IN_SURDEZ                        2922 non-null float64\n",
      "IN_DEF_AUDITIVA                  2922 non-null float64\n",
      "IN_SURDOCEGUEIRA                 2922 non-null float64\n",
      "IN_DEF_FISICA                    2922 non-null float64\n",
      "IN_DEF_INTELECTUAL               2922 non-null float64\n",
      "IN_DEF_MULTIPLA                  2922 non-null float64\n",
      "IN_AUTISMO                       2922 non-null float64\n",
      "IN_SINDROME_ASPERGER             2922 non-null float64\n",
      "IN_SINDROME_RETT                 2922 non-null float64\n",
      "IN_TRANSTORNO_DI                 2922 non-null float64\n",
      "IN_SUPERDOTACAO                  2922 non-null float64\n",
      "IN_RECURSO_LEDOR                 2591 non-null float64\n",
      "IN_RECURSO_TRANSCRICAO           2591 non-null float64\n",
      "IN_RECURSO_INTERPRETE            2591 non-null float64\n",
      "IN_RECURSO_LIBRAS                2591 non-null float64\n",
      "IN_RECURSO_LABIAL                2591 non-null float64\n",
      "IN_RECURSO_BRAILLE               2591 non-null float64\n",
      "IN_RECURSO_AMPLIADA_16           2591 non-null float64\n",
      "IN_RECURSO_AMPLIADA_20           2591 non-null float64\n",
      "IN_RECURSO_AMPLIADA_24           2591 non-null float64\n",
      "IN_RECURSO_NENHUM                2591 non-null float64\n",
      "TP_INGRESSO_FEDERAIS             11870 non-null float64\n",
      "TP_MEDIACAO_DIDATICO_PEDAGO      570111 non-null int64\n",
      "IN_ESPECIAL_EXCLUSIVA            570111 non-null int64\n",
      "IN_REGULAR                       570111 non-null int64\n",
      "IN_EJA                           570111 non-null int64\n",
      "IN_PROFISSIONALIZANTE            570111 non-null int64\n",
      "TP_ETAPA_ENSINO                  570111 non-null int64\n",
      "ID_TURMA                         570111 non-null int64\n",
      "CO_CURSO_EDUC_PROFISSIONAL       29865 non-null float64\n",
      "TP_UNIFICADA                     570111 non-null int64\n",
      "TP_TIPO_TURMA                    570111 non-null int64\n",
      "CO_ENTIDADE                      570111 non-null int64\n",
      "CO_REGIAO                        570111 non-null int64\n",
      "CO_MESORREGIAO                   570111 non-null int64\n",
      "CO_MICRORREGIAO                  570111 non-null int64\n",
      "CO_UF                            570111 non-null int64\n",
      "CO_MUNICIPIO                     570111 non-null int64\n",
      "CO_DISTRITO                      570111 non-null int64\n",
      "TP_DEPENDENCIA                   570111 non-null int64\n",
      "TP_LOCALIZACAO                   570111 non-null int64\n",
      "TP_CATEGORIA_ESCOLA_PRIVADA      123137 non-null float64\n",
      "IN_CONVENIADA_PP                 123137 non-null float64\n",
      "TP_CONVENIO_PODER_PUBLICO        9849 non-null float64\n",
      "IN_MANT_ESCOLA_PRIVADA_EMP       123137 non-null float64\n",
      "IN_MANT_ESCOLA_PRIVADA_ONG       123137 non-null float64\n",
      "IN_MANT_ESCOLA_PRIVADA_SIND      123137 non-null float64\n",
      "IN_MANT_ESCOLA_PRIVADA_SIST_S    123137 non-null float64\n",
      "IN_MANT_ESCOLA_PRIVADA_S_FINS    123137 non-null float64\n",
      "TP_REGULAMENTACAO                570111 non-null int64\n",
      "TP_LOCALIZACAO_DIFERENCIADA      570111 non-null int64\n",
      "IN_EDUCACAO_INDIGENA             570111 non-null int64\n",
      "ID                               570111 non-null int64\n",
      "dtypes: float64(49), int64(43)\n",
      "memory usage: 404.5 MB\n"
     ]
    }
   ],
   "source": [
    "df_aluno16.info()"
   ]
  },
  {
   "cell_type": "markdown",
   "metadata": {},
   "source": [
    "#### Filtragem de alunos em escolas estaduais do EM"
   ]
  },
  {
   "cell_type": "code",
   "execution_count": 10,
   "metadata": {
    "collapsed": true
   },
   "outputs": [
    {
     "name": "stdout",
     "output_type": "stream",
     "text": [
      "<class 'pandas.core.frame.DataFrame'>\n",
      "Int64Index: 182838 entries, 118 to 553389\n",
      "Data columns (total 92 columns):\n",
      "NU_ANO_CENSO                     182838 non-null int64\n",
      "ID_MATRICULA                     182838 non-null int64\n",
      "NU_DIA                           182838 non-null int64\n",
      "NU_MES                           182838 non-null int64\n",
      "NU_ANO                           182838 non-null int64\n",
      "NU_IDADE_REFERENCIA              182838 non-null int64\n",
      "NU_IDADE                         182838 non-null int64\n",
      "NU_DURACAO_TURMA                 182838 non-null int64\n",
      "NU_DUR_ATIV_COMP_MESMA_REDE      182838 non-null int64\n",
      "NU_DUR_ATIV_COMP_OUTRAS_REDES    182838 non-null int64\n",
      "NU_DUR_AEE_MESMA_REDE            182838 non-null int64\n",
      "NU_DUR_AEE_OUTRAS_REDES          182838 non-null int64\n",
      "NU_DIAS_ATIVIDADE                182838 non-null int64\n",
      "TP_SEXO                          182838 non-null int64\n",
      "TP_COR_RACA                      182838 non-null int64\n",
      "TP_NACIONALIDADE                 182838 non-null int64\n",
      "CO_PAIS_ORIGEM                   182838 non-null int64\n",
      "CO_UF_NASC                       182737 non-null float64\n",
      "CO_MUNICIPIO_NASC                182737 non-null float64\n",
      "CO_UF_END                        11814 non-null float64\n",
      "CO_MUNICIPIO_END                 11814 non-null float64\n",
      "TP_ZONA_RESIDENCIAL              182838 non-null int64\n",
      "TP_OUTRO_LOCAL_AULA              182838 non-null int64\n",
      "IN_TRANSPORTE_PUBLICO            182838 non-null int64\n",
      "TP_RESPONSAVEL_TRANSPORTE        121962 non-null float64\n",
      "IN_TRANSP_VANS_KOMBI             121962 non-null float64\n",
      "IN_TRANSP_MICRO_ONIBUS           121962 non-null float64\n",
      "IN_TRANSP_ONIBUS                 121962 non-null float64\n",
      "IN_TRANSP_BICICLETA              121962 non-null float64\n",
      "IN_TRANSP_TR_ANIMAL              121962 non-null float64\n",
      "IN_TRANSP_OUTRO_VEICULO          121962 non-null float64\n",
      "IN_TRANSP_EMBAR_ATE5             121962 non-null float64\n",
      "IN_TRANSP_EMBAR_5A15             121962 non-null float64\n",
      "IN_TRANSP_EMBAR_15A35            121962 non-null float64\n",
      "IN_TRANSP_EMBAR_35               121962 non-null float64\n",
      "IN_TRANSP_TREM_METRO             121962 non-null float64\n",
      "IN_NECESSIDADE_ESPECIAL          182838 non-null int64\n",
      "IN_CEGUEIRA                      964 non-null float64\n",
      "IN_BAIXA_VISAO                   964 non-null float64\n",
      "IN_SURDEZ                        964 non-null float64\n",
      "IN_DEF_AUDITIVA                  964 non-null float64\n",
      "IN_SURDOCEGUEIRA                 964 non-null float64\n",
      "IN_DEF_FISICA                    964 non-null float64\n",
      "IN_DEF_INTELECTUAL               964 non-null float64\n",
      "IN_DEF_MULTIPLA                  964 non-null float64\n",
      "IN_AUTISMO                       964 non-null float64\n",
      "IN_SINDROME_ASPERGER             964 non-null float64\n",
      "IN_SINDROME_RETT                 964 non-null float64\n",
      "IN_TRANSTORNO_DI                 964 non-null float64\n",
      "IN_SUPERDOTACAO                  964 non-null float64\n",
      "IN_RECURSO_LEDOR                 877 non-null float64\n",
      "IN_RECURSO_TRANSCRICAO           877 non-null float64\n",
      "IN_RECURSO_INTERPRETE            877 non-null float64\n",
      "IN_RECURSO_LIBRAS                877 non-null float64\n",
      "IN_RECURSO_LABIAL                877 non-null float64\n",
      "IN_RECURSO_BRAILLE               877 non-null float64\n",
      "IN_RECURSO_AMPLIADA_16           877 non-null float64\n",
      "IN_RECURSO_AMPLIADA_20           877 non-null float64\n",
      "IN_RECURSO_AMPLIADA_24           877 non-null float64\n",
      "IN_RECURSO_NENHUM                877 non-null float64\n",
      "TP_INGRESSO_FEDERAIS             0 non-null float64\n",
      "TP_MEDIACAO_DIDATICO_PEDAGO      182838 non-null int64\n",
      "IN_ESPECIAL_EXCLUSIVA            182838 non-null int64\n",
      "IN_REGULAR                       182838 non-null int64\n",
      "IN_EJA                           182838 non-null int64\n",
      "IN_PROFISSIONALIZANTE            182838 non-null int64\n",
      "TP_ETAPA_ENSINO                  182838 non-null int64\n",
      "ID_TURMA                         182838 non-null int64\n",
      "CO_CURSO_EDUC_PROFISSIONAL       4176 non-null float64\n",
      "TP_UNIFICADA                     182838 non-null int64\n",
      "TP_TIPO_TURMA                    182838 non-null int64\n",
      "CO_ENTIDADE                      182838 non-null int64\n",
      "CO_REGIAO                        182838 non-null int64\n",
      "CO_MESORREGIAO                   182838 non-null int64\n",
      "CO_MICRORREGIAO                  182838 non-null int64\n",
      "CO_UF                            182838 non-null int64\n",
      "CO_MUNICIPIO                     182838 non-null int64\n",
      "CO_DISTRITO                      182838 non-null int64\n",
      "TP_DEPENDENCIA                   182838 non-null int64\n",
      "TP_LOCALIZACAO                   182838 non-null int64\n",
      "TP_CATEGORIA_ESCOLA_PRIVADA      0 non-null float64\n",
      "IN_CONVENIADA_PP                 0 non-null float64\n",
      "TP_CONVENIO_PODER_PUBLICO        0 non-null float64\n",
      "IN_MANT_ESCOLA_PRIVADA_EMP       0 non-null float64\n",
      "IN_MANT_ESCOLA_PRIVADA_ONG       0 non-null float64\n",
      "IN_MANT_ESCOLA_PRIVADA_SIND      0 non-null float64\n",
      "IN_MANT_ESCOLA_PRIVADA_SIST_S    0 non-null float64\n",
      "IN_MANT_ESCOLA_PRIVADA_S_FINS    0 non-null float64\n",
      "TP_REGULAMENTACAO                182838 non-null int64\n",
      "TP_LOCALIZACAO_DIFERENCIADA      182838 non-null int64\n",
      "IN_EDUCACAO_INDIGENA             182838 non-null int64\n",
      "ID                               182838 non-null int64\n",
      "dtypes: float64(49), int64(43)\n",
      "memory usage: 129.7 MB\n"
     ]
    }
   ],
   "source": [
    "df_aluno16 = df_aluno16[df_aluno16['TP_ETAPA_ENSINO'].isin([25, 31])] \n",
    "df_aluno16 = df_aluno16[df_aluno16['TP_DEPENDENCIA'] == 2] # Escolas estaduais\n",
    "\n",
    "df_aluno16.info()"
   ]
  },
  {
   "cell_type": "markdown",
   "metadata": {},
   "source": [
    "#### Checando ID único\n",
    "\n",
    "- Ambos são únicos por ano, mas `ID_MATRICULA` não se mantém de um ano para outro"
   ]
  },
  {
   "cell_type": "code",
   "execution_count": 11,
   "metadata": {},
   "outputs": [
    {
     "data": {
      "text/plain": [
       "208668671    1\n",
       "210148729    1\n",
       "210888086    1\n",
       "211418517    1\n",
       "211154324    1\n",
       "Name: ID_MATRICULA, dtype: int64"
      ]
     },
     "execution_count": 11,
     "metadata": {},
     "output_type": "execute_result"
    }
   ],
   "source": [
    "df_aluno16['ID_MATRICULA'].value_counts()[:5]"
   ]
  },
  {
   "cell_type": "code",
   "execution_count": 12,
   "metadata": {},
   "outputs": [
    {
     "data": {
      "text/plain": [
       "222300159    1\n",
       "247419713    1\n",
       "237785889    1\n",
       "247233316    1\n",
       "247231269    1\n",
       "Name: ID_MATRICULA, dtype: int64"
      ]
     },
     "execution_count": 12,
     "metadata": {},
     "output_type": "execute_result"
    }
   ],
   "source": [
    "df_aluno17['ID_MATRICULA'].value_counts()[:5]"
   ]
  },
  {
   "cell_type": "markdown",
   "metadata": {},
   "source": [
    "- ID_MATRICULA: Só 1,4% de 2016 aparece em 2017"
   ]
  },
  {
   "cell_type": "code",
   "execution_count": 13,
   "metadata": {},
   "outputs": [
    {
     "name": "stdout",
     "output_type": "stream",
     "text": [
      "ID_MATRICULA de 2016 que aparece em 2017: 2590\n",
      "Percentual (de 2016): 1.4165545455539876\n"
     ]
    }
   ],
   "source": [
    "n = len(df_aluno16[df_aluno16['ID_MATRICULA'].isin(df_aluno17['ID_MATRICULA'])])\n",
    "\n",
    "print('ID_MATRICULA de 2016 que aparece em 2017:', n)\n",
    "print('Percentual (de 2016):', 100*n/len(df_aluno16))"
   ]
  },
  {
   "cell_type": "markdown",
   "metadata": {},
   "source": [
    "- ID (CPF criptografado): Mais de 60% de 2016 aparece em 2017 (mais razoável, dado que entram novos alunos e saem também)"
   ]
  },
  {
   "cell_type": "code",
   "execution_count": 14,
   "metadata": {},
   "outputs": [
    {
     "name": "stdout",
     "output_type": "stream",
     "text": [
      "ID de 2016 que aparece em 2017: 120955\n",
      "Percentual (de 2016): 66.15419114188516\n"
     ]
    }
   ],
   "source": [
    "n = len(df_aluno16[df_aluno16['ID'].isin(df_aluno17['ID'])])\n",
    "\n",
    "print('ID de 2016 que aparece em 2017:', n)\n",
    "print('Percentual (de 2016):', 100*n/len(df_aluno16))"
   ]
  },
  {
   "cell_type": "code",
   "execution_count": 15,
   "metadata": {},
   "outputs": [],
   "source": [
    "del df_aluno16['ID_MATRICULA']\n",
    "del df_aluno17['ID_MATRICULA']"
   ]
  },
  {
   "cell_type": "markdown",
   "metadata": {},
   "source": [
    "* Total de escolas dos alunos de 2016:"
   ]
  },
  {
   "cell_type": "code",
   "execution_count": 16,
   "metadata": {},
   "outputs": [
    {
     "name": "stdout",
     "output_type": "stream",
     "text": [
      "Total de escolas: 1097\n"
     ]
    }
   ],
   "source": [
    "print('Total de escolas:', len(df_aluno16['CO_ENTIDADE'].unique()))"
   ]
  },
  {
   "cell_type": "markdown",
   "metadata": {},
   "source": [
    "### Escolas\n",
    "\n",
    "- Total de 166 variáveis, 121 indicadores"
   ]
  },
  {
   "cell_type": "code",
   "execution_count": 19,
   "metadata": {},
   "outputs": [
    {
     "name": "stderr",
     "output_type": "stream",
     "text": [
      "/usr/local/lib/python3.7/site-packages/IPython/core/interactiveshell.py:3044: DtypeWarning: Columns (3,5,6) have mixed types. Specify dtype option on import or set low_memory=False.\n",
      "  interactivity=interactivity, compiler=compiler, result=result)\n"
     ]
    },
    {
     "name": "stdout",
     "output_type": "stream",
     "text": [
      "<class 'pandas.core.frame.DataFrame'>\n",
      "RangeIndex: 279358 entries, 0 to 279357\n",
      "Columns: 166 entries, NU_ANO_CENSO to IN_ESP_EXCLUSIVA_PROF\n",
      "dtypes: float64(151), int64(11), object(4)\n",
      "memory usage: 353.8+ MB\n"
     ]
    }
   ],
   "source": [
    "escolas_16 = pd.read_csv(RAW_PATH / 'censo' / 'escolas_2016.csv', encoding='latin1', sep='|')\n",
    "escolas_16.info()"
   ]
  },
  {
   "cell_type": "code",
   "execution_count": 20,
   "metadata": {},
   "outputs": [
    {
     "name": "stdout",
     "output_type": "stream",
     "text": [
      "Número de variáveis: 166\n"
     ]
    }
   ],
   "source": [
    "print('Número de variáveis:', len(escolas_16.columns.values))"
   ]
  },
  {
   "cell_type": "code",
   "execution_count": 21,
   "metadata": {},
   "outputs": [
    {
     "name": "stdout",
     "output_type": "stream",
     "text": [
      "Número de indicadores: 121\n"
     ]
    }
   ],
   "source": [
    "indicadores = [i for i in escolas_16.columns if i.startswith('IN')]\n",
    "print('Número de indicadores:', len(indicadores))"
   ]
  },
  {
   "cell_type": "markdown",
   "metadata": {},
   "source": [
    "#### Filtrando escolas estaduais\n",
    "\n",
    "- 1689 escolas estaduais no RJ"
   ]
  },
  {
   "cell_type": "code",
   "execution_count": 22,
   "metadata": {},
   "outputs": [
    {
     "name": "stdout",
     "output_type": "stream",
     "text": [
      "<class 'pandas.core.frame.DataFrame'>\n",
      "Int64Index: 1689 entries, 4012 to 275339\n",
      "Columns: 166 entries, NU_ANO_CENSO to IN_ESP_EXCLUSIVA_PROF\n",
      "dtypes: float64(151), int64(11), object(4)\n",
      "memory usage: 2.2+ MB\n"
     ]
    }
   ],
   "source": [
    "escolas_16 = escolas_16[escolas_16['TP_DEPENDENCIA'] == 2] # Escolas estaduais\n",
    "escolas_16 = escolas_16[escolas_16['CO_UF'] == 33] # no RJ\n",
    "\n",
    "escolas_16.info()"
   ]
  },
  {
   "cell_type": "code",
   "execution_count": 23,
   "metadata": {},
   "outputs": [],
   "source": [
    "escolas_16.to_csv(TREAT_PATH / 'censo' / 'cleaned_escolas_rj_2016.csv')"
   ]
  },
  {
   "cell_type": "markdown",
   "metadata": {},
   "source": [
    "### INSE\n",
    "\n",
    "- 936 escolas possuem nível socioeconômico"
   ]
  },
  {
   "cell_type": "code",
   "execution_count": 24,
   "metadata": {
    "collapsed": true
   },
   "outputs": [
    {
     "name": "stdout",
     "output_type": "stream",
     "text": [
      "<class 'pandas.core.frame.DataFrame'>\n",
      "RangeIndex: 63258 entries, 0 to 63257\n",
      "Data columns (total 12 columns):\n",
      "CO_ESCOLA              63258 non-null int64\n",
      "NOME_ESCOLA            63258 non-null object\n",
      "CO_UF                  63258 non-null int64\n",
      "NOME_UF                63258 non-null object\n",
      "CO_MUNICIPIO           63258 non-null int64\n",
      "NOME_MUNICIPIO         63258 non-null int64\n",
      "ID_AREA                63258 non-null int64\n",
      "TP_DEPENDENCIA         63258 non-null int64\n",
      "TP_LOCALIZACAO         63258 non-null int64\n",
      "QTD_ALUNOS_INSE        63258 non-null int64\n",
      "INSE_VALOR_ABSOLUTO    63258 non-null float64\n",
      "INSE_CLASSIFICACAO     63258 non-null object\n",
      "dtypes: float64(1), int64(8), object(3)\n",
      "memory usage: 5.8+ MB\n"
     ]
    }
   ],
   "source": [
    "# Nível socioeconômico\n",
    "# ! pip3 install xlrd\n",
    "\n",
    "df_inse_2015 = pd.read_excel(RAW_PATH / 'INSE_2015.xlsx')\n",
    "df_inse_2015.info()"
   ]
  },
  {
   "cell_type": "code",
   "execution_count": 25,
   "metadata": {},
   "outputs": [],
   "source": [
    "df_inse_2015 = df_inse_2015[df_inse_2015['TP_DEPENDENCIA'] == 2] # Escolas estaduais\n",
    "df_inse_2015 = df_inse_2015[df_inse_2015['CO_UF'] == 33] # no RJ"
   ]
  },
  {
   "cell_type": "code",
   "execution_count": 26,
   "metadata": {
    "collapsed": true
   },
   "outputs": [
    {
     "name": "stdout",
     "output_type": "stream",
     "text": [
      "<class 'pandas.core.frame.DataFrame'>\n",
      "Int64Index: 936 entries, 33485 to 37804\n",
      "Data columns (total 13 columns):\n",
      "CO_ESCOLA              936 non-null int64\n",
      "NOME_ESCOLA            936 non-null object\n",
      "CO_UF                  936 non-null int64\n",
      "NOME_UF                936 non-null object\n",
      "CO_MUNICIPIO           936 non-null int64\n",
      "NOME_MUNICIPIO         936 non-null int64\n",
      "ID_AREA                936 non-null int64\n",
      "TP_DEPENDENCIA         936 non-null int64\n",
      "TP_LOCALIZACAO         936 non-null int64\n",
      "QTD_ALUNOS_INSE        936 non-null int64\n",
      "INSE_VALOR_ABSOLUTO    936 non-null float64\n",
      "INSE_CLASSIFICACAO     936 non-null object\n",
      "NIVEL                  936 non-null int64\n",
      "dtypes: float64(1), int64(9), object(3)\n",
      "memory usage: 102.4+ KB\n"
     ]
    }
   ],
   "source": [
    "df_inse_2015['NIVEL'] = df_inse_2015['INSE_CLASSIFICACAO'].apply(lambda x: int(x.split()[1]))\n",
    "df_inse_2015.info()"
   ]
  },
  {
   "cell_type": "code",
   "execution_count": 27,
   "metadata": {},
   "outputs": [],
   "source": [
    "df_inse_2015.to_csv(TREAT_PATH / 'inse_2015_rj.csv')"
   ]
  },
  {
   "cell_type": "markdown",
   "metadata": {},
   "source": [
    "### Ideb"
   ]
  },
  {
   "cell_type": "code",
   "execution_count": 17,
   "metadata": {},
   "outputs": [
    {
     "data": {
      "text/html": [
       "<div>\n",
       "<style scoped>\n",
       "    .dataframe tbody tr th:only-of-type {\n",
       "        vertical-align: middle;\n",
       "    }\n",
       "\n",
       "    .dataframe tbody tr th {\n",
       "        vertical-align: top;\n",
       "    }\n",
       "\n",
       "    .dataframe thead th {\n",
       "        text-align: right;\n",
       "    }\n",
       "</style>\n",
       "<table border=\"1\" class=\"dataframe\">\n",
       "  <thead>\n",
       "    <tr style=\"text-align: right;\">\n",
       "      <th></th>\n",
       "      <th>Sigla da UF</th>\n",
       "      <th>Código do Município</th>\n",
       "      <th>Nome do Município</th>\n",
       "      <th>Código da Escola</th>\n",
       "      <th>Nome da Escola</th>\n",
       "      <th>Rede</th>\n",
       "      <th>Taxa de Aprovação - 2005</th>\n",
       "      <th>Unnamed: 7</th>\n",
       "      <th>Unnamed: 8</th>\n",
       "      <th>Unnamed: 9</th>\n",
       "      <th>...</th>\n",
       "      <th>IDEB\n",
       "2015\n",
       "(N x P)</th>\n",
       "      <th>IDEB\n",
       "2017\n",
       "(N x P)</th>\n",
       "      <th>Projeções</th>\n",
       "      <th>Unnamed: 77</th>\n",
       "      <th>Unnamed: 78</th>\n",
       "      <th>Unnamed: 79</th>\n",
       "      <th>Unnamed: 80</th>\n",
       "      <th>Unnamed: 81</th>\n",
       "      <th>Unnamed: 82</th>\n",
       "      <th>Unnamed: 83</th>\n",
       "    </tr>\n",
       "  </thead>\n",
       "  <tbody>\n",
       "    <tr>\n",
       "      <th>0</th>\n",
       "      <td>NaN</td>\n",
       "      <td>NaN</td>\n",
       "      <td>NaN</td>\n",
       "      <td>NaN</td>\n",
       "      <td>NaN</td>\n",
       "      <td>NaN</td>\n",
       "      <td>NaN</td>\n",
       "      <td>NaN</td>\n",
       "      <td>NaN</td>\n",
       "      <td>NaN</td>\n",
       "      <td>...</td>\n",
       "      <td>NaN</td>\n",
       "      <td>NaN</td>\n",
       "      <td>NaN</td>\n",
       "      <td>NaN</td>\n",
       "      <td>NaN</td>\n",
       "      <td>NaN</td>\n",
       "      <td>NaN</td>\n",
       "      <td>NaN</td>\n",
       "      <td>NaN</td>\n",
       "      <td>NaN</td>\n",
       "    </tr>\n",
       "    <tr>\n",
       "      <th>1</th>\n",
       "      <td>NaN</td>\n",
       "      <td>NaN</td>\n",
       "      <td>NaN</td>\n",
       "      <td>NaN</td>\n",
       "      <td>NaN</td>\n",
       "      <td>NaN</td>\n",
       "      <td>6º a 9º ano</td>\n",
       "      <td>6º</td>\n",
       "      <td>7º</td>\n",
       "      <td>8º</td>\n",
       "      <td>...</td>\n",
       "      <td>NaN</td>\n",
       "      <td>NaN</td>\n",
       "      <td>2007</td>\n",
       "      <td>2009</td>\n",
       "      <td>2011</td>\n",
       "      <td>2013</td>\n",
       "      <td>2015</td>\n",
       "      <td>2017</td>\n",
       "      <td>2019</td>\n",
       "      <td>2021</td>\n",
       "    </tr>\n",
       "    <tr>\n",
       "      <th>2</th>\n",
       "      <td>NaN</td>\n",
       "      <td>NaN</td>\n",
       "      <td>NaN</td>\n",
       "      <td>NaN</td>\n",
       "      <td>NaN</td>\n",
       "      <td>NaN</td>\n",
       "      <td>NaN</td>\n",
       "      <td>NaN</td>\n",
       "      <td>NaN</td>\n",
       "      <td>NaN</td>\n",
       "      <td>...</td>\n",
       "      <td>NaN</td>\n",
       "      <td>NaN</td>\n",
       "      <td>NaN</td>\n",
       "      <td>NaN</td>\n",
       "      <td>NaN</td>\n",
       "      <td>NaN</td>\n",
       "      <td>NaN</td>\n",
       "      <td>NaN</td>\n",
       "      <td>NaN</td>\n",
       "      <td>NaN</td>\n",
       "    </tr>\n",
       "    <tr>\n",
       "      <th>3</th>\n",
       "      <td>RO</td>\n",
       "      <td>1100015.0</td>\n",
       "      <td>Alta Floresta D'Oeste</td>\n",
       "      <td>11024666.0</td>\n",
       "      <td>EMEIEF BOA ESPERANCA</td>\n",
       "      <td>Municipal</td>\n",
       "      <td>-</td>\n",
       "      <td>-</td>\n",
       "      <td>-</td>\n",
       "      <td>-</td>\n",
       "      <td>...</td>\n",
       "      <td>-</td>\n",
       "      <td>4.1</td>\n",
       "      <td>-</td>\n",
       "      <td>-</td>\n",
       "      <td>4.3</td>\n",
       "      <td>4.6</td>\n",
       "      <td>4.9</td>\n",
       "      <td>5.2</td>\n",
       "      <td>5.4</td>\n",
       "      <td>5.7</td>\n",
       "    </tr>\n",
       "    <tr>\n",
       "      <th>4</th>\n",
       "      <td>RO</td>\n",
       "      <td>1100015.0</td>\n",
       "      <td>Alta Floresta D'Oeste</td>\n",
       "      <td>11024682.0</td>\n",
       "      <td>EEEF EURIDICE LOPES PEDROSO</td>\n",
       "      <td>Estadual</td>\n",
       "      <td>81</td>\n",
       "      <td>75.6</td>\n",
       "      <td>86.2</td>\n",
       "      <td>84.5</td>\n",
       "      <td>...</td>\n",
       "      <td>-</td>\n",
       "      <td>-</td>\n",
       "      <td>3.9</td>\n",
       "      <td>4.1</td>\n",
       "      <td>4.3</td>\n",
       "      <td>4.7</td>\n",
       "      <td>5.1</td>\n",
       "      <td>5.4</td>\n",
       "      <td>5.6</td>\n",
       "      <td>5.8</td>\n",
       "    </tr>\n",
       "  </tbody>\n",
       "</table>\n",
       "<p>5 rows × 84 columns</p>\n",
       "</div>"
      ],
      "text/plain": [
       "  Sigla da UF  Código do Município      Nome do Município  Código da Escola  \\\n",
       "0         NaN                  NaN                    NaN               NaN   \n",
       "1         NaN                  NaN                    NaN               NaN   \n",
       "2         NaN                  NaN                    NaN               NaN   \n",
       "3          RO            1100015.0  Alta Floresta D'Oeste        11024666.0   \n",
       "4          RO            1100015.0  Alta Floresta D'Oeste        11024682.0   \n",
       "\n",
       "                Nome da Escola       Rede Taxa de Aprovação - 2005 Unnamed: 7  \\\n",
       "0                          NaN        NaN                      NaN        NaN   \n",
       "1                          NaN        NaN              6º a 9º ano         6º   \n",
       "2                          NaN        NaN                      NaN        NaN   \n",
       "3         EMEIEF BOA ESPERANCA  Municipal                        -          -   \n",
       "4  EEEF EURIDICE LOPES PEDROSO   Estadual                       81       75.6   \n",
       "\n",
       "  Unnamed: 8 Unnamed: 9     ...     IDEB\\n2015\\n(N x P) IDEB\\n2017\\n(N x P)  \\\n",
       "0        NaN        NaN     ...                     NaN                 NaN   \n",
       "1         7º         8º     ...                     NaN                 NaN   \n",
       "2        NaN        NaN     ...                     NaN                 NaN   \n",
       "3          -          -     ...                       -                 4.1   \n",
       "4       86.2       84.5     ...                       -                   -   \n",
       "\n",
       "  Projeções Unnamed: 77 Unnamed: 78 Unnamed: 79 Unnamed: 80 Unnamed: 81  \\\n",
       "0       NaN         NaN         NaN         NaN         NaN         NaN   \n",
       "1      2007        2009        2011        2013        2015        2017   \n",
       "2       NaN         NaN         NaN         NaN         NaN         NaN   \n",
       "3         -           -         4.3         4.6         4.9         5.2   \n",
       "4       3.9         4.1         4.3         4.7         5.1         5.4   \n",
       "\n",
       "  Unnamed: 82 Unnamed: 83  \n",
       "0         NaN         NaN  \n",
       "1        2019        2021  \n",
       "2         NaN         NaN  \n",
       "3         5.4         5.7  \n",
       "4         5.6         5.8  \n",
       "\n",
       "[5 rows x 84 columns]"
      ]
     },
     "execution_count": 17,
     "metadata": {},
     "output_type": "execute_result"
    }
   ],
   "source": [
    "df_ideb = pd.read_excel(RAW_PATH / 'saeb' / 'divulgacao_anos_finais-escolas-2017.xlsx', header=4)\n",
    "df_ideb.head()"
   ]
  },
  {
   "cell_type": "code",
   "execution_count": 18,
   "metadata": {
    "scrolled": true
   },
   "outputs": [
    {
     "data": {
      "text/plain": [
       "{'sigla_uf': 'Sigla da UF',\n",
       " 'cod_municipio': 'Código do Município',\n",
       " 'nome_municipio': 'Nome do Município',\n",
       " 'cod_inep': 'Código da Escola',\n",
       " 'nome_escola': 'Nome da Escola',\n",
       " 'rede': 'Rede',\n",
       " 'taxa_aprovacao_2005_todos': 'Taxa de Aprovação - 2005',\n",
       " 'taxa_aprovacao_2005_6': 'Unnamed: 7',\n",
       " 'taxa_aprovacao_2005_7': 'Unnamed: 8',\n",
       " 'taxa_aprovacao_2005_8': 'Unnamed: 9',\n",
       " 'taxa_aprovacao_2005_9': 'Unnamed: 10',\n",
       " 'taxa_aprovacao_2005_indicador': 'Unnamed: 11',\n",
       " 'taxa_aprovacao_2007_todos': 'Taxa de Aprovação - 2007',\n",
       " 'taxa_aprovacao_2007_6': 'Unnamed: 13',\n",
       " 'taxa_aprovacao_2007_7': 'Unnamed: 14',\n",
       " 'taxa_aprovacao_2007_8': 'Unnamed: 15',\n",
       " 'taxa_aprovacao_2007_9': 'Unnamed: 16',\n",
       " 'taxa_aprovacao_2007_indicador': 'Unnamed: 17',\n",
       " 'taxa_aprovacao_2009_todos': 'Taxa de Aprovação - 2009',\n",
       " 'taxa_aprovacao_2009_6': 'Unnamed: 19',\n",
       " 'taxa_aprovacao_2009_7': 'Unnamed: 20',\n",
       " 'taxa_aprovacao_2009_8': 'Unnamed: 21',\n",
       " 'taxa_aprovacao_2009_9': 'Unnamed: 22',\n",
       " 'taxa_aprovacao_2009_indicador': 'Unnamed: 23',\n",
       " 'taxa_aprovacao_2011_todos': 'Taxa de Aprovação - 2011',\n",
       " 'taxa_aprovacao_2011_6': 'Unnamed: 25',\n",
       " 'taxa_aprovacao_2011_7': 'Unnamed: 26',\n",
       " 'taxa_aprovacao_2011_8': 'Unnamed: 27',\n",
       " 'taxa_aprovacao_2011_9': 'Unnamed: 28',\n",
       " 'taxa_aprovacao_2011_indicador': 'Unnamed: 29',\n",
       " 'taxa_aprovacao_2013_todos': 'Taxa de Aprovação - 2013',\n",
       " 'taxa_aprovacao_2013_6': 'Unnamed: 31',\n",
       " 'taxa_aprovacao_2013_7': 'Unnamed: 32',\n",
       " 'taxa_aprovacao_2013_8': 'Unnamed: 33',\n",
       " 'taxa_aprovacao_2013_9': 'Unnamed: 34',\n",
       " 'taxa_aprovacao_2013_indicador': 'Unnamed: 35',\n",
       " 'taxa_aprovacao_2015_todos': 'Taxa de Aprovação - 2015',\n",
       " 'taxa_aprovacao_2015_6': 'Unnamed: 37',\n",
       " 'taxa_aprovacao_2015_7': 'Unnamed: 38',\n",
       " 'taxa_aprovacao_2015_8': 'Unnamed: 39',\n",
       " 'taxa_aprovacao_2015_9': 'Unnamed: 40',\n",
       " 'taxa_aprovacao_2015_indicador': 'Unnamed: 41',\n",
       " 'taxa_aprovacao_2017_todos': 'Taxa de Aprovação - 2017',\n",
       " 'taxa_aprovacao_2017_6': 'Unnamed: 43',\n",
       " 'taxa_aprovacao_2017_7': 'Unnamed: 44',\n",
       " 'taxa_aprovacao_2017_8': 'Unnamed: 45',\n",
       " 'taxa_aprovacao_2017_9': 'Unnamed: 46',\n",
       " 'taxa_aprovacao_2017_indicador': 'Unnamed: 47',\n",
       " 'saeb_2005_mat': 'Nota SAEB - 2005',\n",
       " 'saeb_2005_pt': 'Unnamed: 49',\n",
       " 'saeb_2005_media_padrao': 'Unnamed: 50',\n",
       " 'saeb_2007_mat': 'Nota SAEB - 2007',\n",
       " 'saeb_2007_pt': 'Unnamed: 52',\n",
       " 'saeb_2007_media_padrao': 'Unnamed: 53',\n",
       " 'saeb_2009_mat': 'Nota SAEB - 2009',\n",
       " 'saeb_2009_pt': 'Unnamed: 55',\n",
       " 'saeb_2009_media_padrao': 'Unnamed: 56',\n",
       " 'saeb_2011_mat': 'Nota SAEB - 2011',\n",
       " 'saeb_2011_pt': 'Unnamed: 58',\n",
       " 'saeb_2011_media_padrao': 'Unnamed: 59',\n",
       " 'saeb_2013_mat': 'Nota SAEB - 2013',\n",
       " 'saeb_2013_pt': 'Unnamed: 61',\n",
       " 'saeb_2013_media_padrao': 'Unnamed: 62',\n",
       " 'saeb_2015_mat': 'Nota SAEB - 2015',\n",
       " 'saeb_2015_pt': 'Unnamed: 64',\n",
       " 'saeb_2015_media_padrao': 'Unnamed: 65',\n",
       " 'saeb_2017_mat': 'Nota SAEB - 2017',\n",
       " 'saeb_2017_pt': 'Unnamed: 67',\n",
       " 'saeb_2017_media_padrao': 'Unnamed: 68',\n",
       " 'ideb_2005': 'IDEB\\n2005\\n(N x P)',\n",
       " 'ideb_2007': 'IDEB\\n2007\\n(N x P)',\n",
       " 'ideb_2009': 'IDEB\\n2009\\n(N x P)',\n",
       " 'ideb_2011': 'IDEB\\n2011\\n(N x P)',\n",
       " 'ideb_2013': 'IDEB\\n2013\\n(N x P)',\n",
       " 'ideb_2015': 'IDEB\\n2015\\n(N x P)',\n",
       " 'ideb_2017': 'IDEB\\n2017\\n(N x P)',\n",
       " 'projecoes_2007': 'Projeções',\n",
       " 'projecoes_2009': 'Unnamed: 77',\n",
       " 'projecoes_2011': 'Unnamed: 78',\n",
       " 'projecoes_2013': 'Unnamed: 79',\n",
       " 'projecoes_2015': 'Unnamed: 80',\n",
       " 'projecoes_2017': 'Unnamed: 81',\n",
       " 'projecoes_2019': 'Unnamed: 82',\n",
       " 'projecoes_2021': 'Unnamed: 83'}"
      ]
     },
     "execution_count": 18,
     "metadata": {},
     "output_type": "execute_result"
    }
   ],
   "source": [
    "cols = df_ideb.columns\n",
    "\n",
    "new_cols_name = ['sigla_uf', 'cod_municipio', 'nome_municipio', 'cod_inep', 'nome_escola', 'rede']\n",
    "anos = [2005 + 2*i for i in range(7)]\n",
    "\n",
    "taxa = ['taxa_aprovacao_{}_{}'.format(ano, serie) for ano in anos for serie in ['todos']+list(range(6,10))+['indicador']]\n",
    "saeb = ['saeb_{}_{}'.format(ano, mod) for ano in anos for mod in ['mat', 'pt', 'media_padrao']]\n",
    "ideb = ['ideb_{}'.format(ano) for ano in anos]\n",
    "projecoes = ['projecoes_{}'.format(ano) for ano in anos[1:]+['2019', '2021']]\n",
    "\n",
    "\n",
    "new_cols_name  = new_cols_name + taxa + saeb + ideb + projecoes\n",
    "\n",
    "ideb_dic_cols = dict(zip(new_cols_name, cols))\n",
    "ideb_dic_cols"
   ]
  },
  {
   "cell_type": "code",
   "execution_count": 19,
   "metadata": {
    "scrolled": true
   },
   "outputs": [
    {
     "name": "stdout",
     "output_type": "stream",
     "text": [
      "<class 'pandas.core.frame.DataFrame'>\n",
      "Int64Index: 43607 entries, 3 to 43609\n",
      "Data columns (total 84 columns):\n",
      "SIGLA_UF                         43607 non-null object\n",
      "COD_MUNICIPIO                    43607 non-null float64\n",
      "NOME_MUNICIPIO                   43607 non-null object\n",
      "COD_INEP                         43607 non-null float64\n",
      "NOME_ESCOLA                      43607 non-null object\n",
      "REDE                             43607 non-null object\n",
      "TAXA_APROVACAO_2005_TODOS        43607 non-null object\n",
      "TAXA_APROVACAO_2005_6            43607 non-null object\n",
      "TAXA_APROVACAO_2005_7            43607 non-null object\n",
      "TAXA_APROVACAO_2005_8            43607 non-null object\n",
      "TAXA_APROVACAO_2005_9            43607 non-null object\n",
      "TAXA_APROVACAO_2005_INDICADOR    43607 non-null object\n",
      "TAXA_APROVACAO_2007_TODOS        43607 non-null object\n",
      "TAXA_APROVACAO_2007_6            43607 non-null object\n",
      "TAXA_APROVACAO_2007_7            43607 non-null object\n",
      "TAXA_APROVACAO_2007_8            43607 non-null object\n",
      "TAXA_APROVACAO_2007_9            43607 non-null object\n",
      "TAXA_APROVACAO_2007_INDICADOR    43607 non-null object\n",
      "TAXA_APROVACAO_2009_TODOS        43607 non-null object\n",
      "TAXA_APROVACAO_2009_6            43607 non-null object\n",
      "TAXA_APROVACAO_2009_7            43607 non-null object\n",
      "TAXA_APROVACAO_2009_8            43607 non-null object\n",
      "TAXA_APROVACAO_2009_9            43607 non-null object\n",
      "TAXA_APROVACAO_2009_INDICADOR    43607 non-null object\n",
      "TAXA_APROVACAO_2011_TODOS        43607 non-null object\n",
      "TAXA_APROVACAO_2011_6            43607 non-null object\n",
      "TAXA_APROVACAO_2011_7            43607 non-null object\n",
      "TAXA_APROVACAO_2011_8            43607 non-null object\n",
      "TAXA_APROVACAO_2011_9            43607 non-null object\n",
      "TAXA_APROVACAO_2011_INDICADOR    43607 non-null object\n",
      "TAXA_APROVACAO_2013_TODOS        43607 non-null object\n",
      "TAXA_APROVACAO_2013_6            43607 non-null object\n",
      "TAXA_APROVACAO_2013_7            43607 non-null object\n",
      "TAXA_APROVACAO_2013_8            43607 non-null object\n",
      "TAXA_APROVACAO_2013_9            43607 non-null object\n",
      "TAXA_APROVACAO_2013_INDICADOR    43607 non-null object\n",
      "TAXA_APROVACAO_2015_TODOS        43607 non-null object\n",
      "TAXA_APROVACAO_2015_6            43607 non-null object\n",
      "TAXA_APROVACAO_2015_7            43607 non-null object\n",
      "TAXA_APROVACAO_2015_8            43607 non-null object\n",
      "TAXA_APROVACAO_2015_9            43607 non-null object\n",
      "TAXA_APROVACAO_2015_INDICADOR    43607 non-null object\n",
      "TAXA_APROVACAO_2017_TODOS        43607 non-null object\n",
      "TAXA_APROVACAO_2017_6            43607 non-null object\n",
      "TAXA_APROVACAO_2017_7            43607 non-null object\n",
      "TAXA_APROVACAO_2017_8            43607 non-null object\n",
      "TAXA_APROVACAO_2017_9            43607 non-null object\n",
      "TAXA_APROVACAO_2017_INDICADOR    43607 non-null object\n",
      "SAEB_2005_MAT                    43607 non-null object\n",
      "SAEB_2005_PT                     43607 non-null object\n",
      "SAEB_2005_MEDIA_PADRAO           43607 non-null object\n",
      "SAEB_2007_MAT                    43607 non-null object\n",
      "SAEB_2007_PT                     43607 non-null object\n",
      "SAEB_2007_MEDIA_PADRAO           43607 non-null object\n",
      "SAEB_2009_MAT                    43607 non-null object\n",
      "SAEB_2009_PT                     43607 non-null object\n",
      "SAEB_2009_MEDIA_PADRAO           43607 non-null object\n",
      "SAEB_2011_MAT                    43607 non-null object\n",
      "SAEB_2011_PT                     43607 non-null object\n",
      "SAEB_2011_MEDIA_PADRAO           43607 non-null object\n",
      "SAEB_2013_MAT                    43607 non-null object\n",
      "SAEB_2013_PT                     43607 non-null object\n",
      "SAEB_2013_MEDIA_PADRAO           43607 non-null object\n",
      "SAEB_2015_MAT                    43607 non-null object\n",
      "SAEB_2015_PT                     43607 non-null object\n",
      "SAEB_2015_MEDIA_PADRAO           43607 non-null object\n",
      "SAEB_2017_MAT                    43607 non-null object\n",
      "SAEB_2017_PT                     43607 non-null object\n",
      "SAEB_2017_MEDIA_PADRAO           43607 non-null object\n",
      "IDEB_2005                        43607 non-null object\n",
      "IDEB_2007                        43607 non-null object\n",
      "IDEB_2009                        43607 non-null object\n",
      "IDEB_2011                        43607 non-null object\n",
      "IDEB_2013                        43607 non-null object\n",
      "IDEB_2015                        43607 non-null object\n",
      "IDEB_2017                        43607 non-null object\n",
      "PROJECOES_2007                   43607 non-null object\n",
      "PROJECOES_2009                   43607 non-null object\n",
      "PROJECOES_2011                   43607 non-null object\n",
      "PROJECOES_2013                   43607 non-null object\n",
      "PROJECOES_2015                   43607 non-null object\n",
      "PROJECOES_2017                   43607 non-null object\n",
      "PROJECOES_2019                   43607 non-null object\n",
      "PROJECOES_2021                   43607 non-null object\n",
      "dtypes: float64(2), object(82)\n",
      "memory usage: 28.3+ MB\n"
     ]
    }
   ],
   "source": [
    "df_ideb = df_ideb.drop([0,1,2], axis='index')\n",
    "df_ideb = df_ideb.drop([43610, 43611, 43612], axis=0) # notas\n",
    "\n",
    "df_ideb.columns = [i.upper() for i in ideb_dic_cols.keys()]\n",
    "df_ideb.info()"
   ]
  },
  {
   "cell_type": "code",
   "execution_count": 20,
   "metadata": {
    "scrolled": false
   },
   "outputs": [
    {
     "data": {
      "text/html": [
       "<div>\n",
       "<style scoped>\n",
       "    .dataframe tbody tr th:only-of-type {\n",
       "        vertical-align: middle;\n",
       "    }\n",
       "\n",
       "    .dataframe tbody tr th {\n",
       "        vertical-align: top;\n",
       "    }\n",
       "\n",
       "    .dataframe thead th {\n",
       "        text-align: right;\n",
       "    }\n",
       "</style>\n",
       "<table border=\"1\" class=\"dataframe\">\n",
       "  <thead>\n",
       "    <tr style=\"text-align: right;\">\n",
       "      <th></th>\n",
       "      <th>SIGLA_UF</th>\n",
       "      <th>COD_MUNICIPIO</th>\n",
       "      <th>NOME_MUNICIPIO</th>\n",
       "      <th>COD_INEP</th>\n",
       "      <th>NOME_ESCOLA</th>\n",
       "      <th>REDE</th>\n",
       "      <th>TAXA_APROVACAO_2005_TODOS</th>\n",
       "      <th>TAXA_APROVACAO_2005_6</th>\n",
       "      <th>TAXA_APROVACAO_2005_7</th>\n",
       "      <th>TAXA_APROVACAO_2005_8</th>\n",
       "      <th>...</th>\n",
       "      <th>IDEB_2015</th>\n",
       "      <th>IDEB_2017</th>\n",
       "      <th>PROJECOES_2007</th>\n",
       "      <th>PROJECOES_2009</th>\n",
       "      <th>PROJECOES_2011</th>\n",
       "      <th>PROJECOES_2013</th>\n",
       "      <th>PROJECOES_2015</th>\n",
       "      <th>PROJECOES_2017</th>\n",
       "      <th>PROJECOES_2019</th>\n",
       "      <th>PROJECOES_2021</th>\n",
       "    </tr>\n",
       "  </thead>\n",
       "  <tbody>\n",
       "    <tr>\n",
       "      <th>43608</th>\n",
       "      <td>DF</td>\n",
       "      <td>5300108.0</td>\n",
       "      <td>Brasília</td>\n",
       "      <td>53068149.0</td>\n",
       "      <td>CEF 32 DE CEILANDIA</td>\n",
       "      <td>Estadual</td>\n",
       "      <td>-</td>\n",
       "      <td>-</td>\n",
       "      <td>-</td>\n",
       "      <td>-</td>\n",
       "      <td>...</td>\n",
       "      <td>3.8</td>\n",
       "      <td>4</td>\n",
       "      <td>-</td>\n",
       "      <td>-</td>\n",
       "      <td>-</td>\n",
       "      <td>-</td>\n",
       "      <td>4.1</td>\n",
       "      <td>4.4</td>\n",
       "      <td>4.6</td>\n",
       "      <td>4.9</td>\n",
       "    </tr>\n",
       "    <tr>\n",
       "      <th>43609</th>\n",
       "      <td>DF</td>\n",
       "      <td>5300108.0</td>\n",
       "      <td>Brasília</td>\n",
       "      <td>53068211.0</td>\n",
       "      <td>CEF MIGUEL ARCANJO</td>\n",
       "      <td>Estadual</td>\n",
       "      <td>-</td>\n",
       "      <td>-</td>\n",
       "      <td>-</td>\n",
       "      <td>-</td>\n",
       "      <td>...</td>\n",
       "      <td>4.2</td>\n",
       "      <td>-</td>\n",
       "      <td>-</td>\n",
       "      <td>-</td>\n",
       "      <td>-</td>\n",
       "      <td>-</td>\n",
       "      <td>4</td>\n",
       "      <td>4.2</td>\n",
       "      <td>4.5</td>\n",
       "      <td>4.7</td>\n",
       "    </tr>\n",
       "  </tbody>\n",
       "</table>\n",
       "<p>2 rows × 84 columns</p>\n",
       "</div>"
      ],
      "text/plain": [
       "      SIGLA_UF  COD_MUNICIPIO NOME_MUNICIPIO    COD_INEP          NOME_ESCOLA  \\\n",
       "43608       DF      5300108.0       Brasília  53068149.0  CEF 32 DE CEILANDIA   \n",
       "43609       DF      5300108.0       Brasília  53068211.0   CEF MIGUEL ARCANJO   \n",
       "\n",
       "           REDE TAXA_APROVACAO_2005_TODOS TAXA_APROVACAO_2005_6  \\\n",
       "43608  Estadual                         -                     -   \n",
       "43609  Estadual                         -                     -   \n",
       "\n",
       "      TAXA_APROVACAO_2005_7 TAXA_APROVACAO_2005_8      ...       IDEB_2015  \\\n",
       "43608                     -                     -      ...             3.8   \n",
       "43609                     -                     -      ...             4.2   \n",
       "\n",
       "      IDEB_2017 PROJECOES_2007 PROJECOES_2009 PROJECOES_2011 PROJECOES_2013  \\\n",
       "43608         4              -              -              -              -   \n",
       "43609         -              -              -              -              -   \n",
       "\n",
       "      PROJECOES_2015 PROJECOES_2017 PROJECOES_2019 PROJECOES_2021  \n",
       "43608            4.1            4.4            4.6            4.9  \n",
       "43609              4            4.2            4.5            4.7  \n",
       "\n",
       "[2 rows x 84 columns]"
      ]
     },
     "execution_count": 20,
     "metadata": {},
     "output_type": "execute_result"
    }
   ],
   "source": [
    "df_ideb.tail(2)"
   ]
  },
  {
   "cell_type": "code",
   "execution_count": 21,
   "metadata": {
    "scrolled": true
   },
   "outputs": [
    {
     "name": "stdout",
     "output_type": "stream",
     "text": [
      "<class 'pandas.core.frame.DataFrame'>\n",
      "Int64Index: 967 entries, 25378 to 27683\n",
      "Data columns (total 84 columns):\n",
      "SIGLA_UF                         967 non-null object\n",
      "COD_MUNICIPIO                    967 non-null float64\n",
      "NOME_MUNICIPIO                   967 non-null object\n",
      "COD_INEP                         967 non-null float64\n",
      "NOME_ESCOLA                      967 non-null object\n",
      "REDE                             967 non-null object\n",
      "TAXA_APROVACAO_2005_TODOS        967 non-null object\n",
      "TAXA_APROVACAO_2005_6            967 non-null object\n",
      "TAXA_APROVACAO_2005_7            967 non-null object\n",
      "TAXA_APROVACAO_2005_8            967 non-null object\n",
      "TAXA_APROVACAO_2005_9            967 non-null object\n",
      "TAXA_APROVACAO_2005_INDICADOR    967 non-null object\n",
      "TAXA_APROVACAO_2007_TODOS        967 non-null object\n",
      "TAXA_APROVACAO_2007_6            967 non-null object\n",
      "TAXA_APROVACAO_2007_7            967 non-null object\n",
      "TAXA_APROVACAO_2007_8            967 non-null object\n",
      "TAXA_APROVACAO_2007_9            967 non-null object\n",
      "TAXA_APROVACAO_2007_INDICADOR    967 non-null object\n",
      "TAXA_APROVACAO_2009_TODOS        967 non-null object\n",
      "TAXA_APROVACAO_2009_6            967 non-null object\n",
      "TAXA_APROVACAO_2009_7            967 non-null object\n",
      "TAXA_APROVACAO_2009_8            967 non-null object\n",
      "TAXA_APROVACAO_2009_9            967 non-null object\n",
      "TAXA_APROVACAO_2009_INDICADOR    967 non-null object\n",
      "TAXA_APROVACAO_2011_TODOS        967 non-null object\n",
      "TAXA_APROVACAO_2011_6            967 non-null object\n",
      "TAXA_APROVACAO_2011_7            967 non-null object\n",
      "TAXA_APROVACAO_2011_8            967 non-null object\n",
      "TAXA_APROVACAO_2011_9            967 non-null object\n",
      "TAXA_APROVACAO_2011_INDICADOR    967 non-null object\n",
      "TAXA_APROVACAO_2013_TODOS        967 non-null object\n",
      "TAXA_APROVACAO_2013_6            967 non-null object\n",
      "TAXA_APROVACAO_2013_7            967 non-null object\n",
      "TAXA_APROVACAO_2013_8            967 non-null object\n",
      "TAXA_APROVACAO_2013_9            967 non-null object\n",
      "TAXA_APROVACAO_2013_INDICADOR    967 non-null object\n",
      "TAXA_APROVACAO_2015_TODOS        967 non-null object\n",
      "TAXA_APROVACAO_2015_6            967 non-null object\n",
      "TAXA_APROVACAO_2015_7            967 non-null object\n",
      "TAXA_APROVACAO_2015_8            967 non-null object\n",
      "TAXA_APROVACAO_2015_9            967 non-null object\n",
      "TAXA_APROVACAO_2015_INDICADOR    967 non-null object\n",
      "TAXA_APROVACAO_2017_TODOS        967 non-null object\n",
      "TAXA_APROVACAO_2017_6            967 non-null object\n",
      "TAXA_APROVACAO_2017_7            967 non-null object\n",
      "TAXA_APROVACAO_2017_8            967 non-null object\n",
      "TAXA_APROVACAO_2017_9            967 non-null object\n",
      "TAXA_APROVACAO_2017_INDICADOR    967 non-null object\n",
      "SAEB_2005_MAT                    967 non-null object\n",
      "SAEB_2005_PT                     967 non-null object\n",
      "SAEB_2005_MEDIA_PADRAO           967 non-null object\n",
      "SAEB_2007_MAT                    967 non-null object\n",
      "SAEB_2007_PT                     967 non-null object\n",
      "SAEB_2007_MEDIA_PADRAO           967 non-null object\n",
      "SAEB_2009_MAT                    967 non-null object\n",
      "SAEB_2009_PT                     967 non-null object\n",
      "SAEB_2009_MEDIA_PADRAO           967 non-null object\n",
      "SAEB_2011_MAT                    967 non-null object\n",
      "SAEB_2011_PT                     967 non-null object\n",
      "SAEB_2011_MEDIA_PADRAO           967 non-null object\n",
      "SAEB_2013_MAT                    967 non-null object\n",
      "SAEB_2013_PT                     967 non-null object\n",
      "SAEB_2013_MEDIA_PADRAO           967 non-null object\n",
      "SAEB_2015_MAT                    967 non-null object\n",
      "SAEB_2015_PT                     967 non-null object\n",
      "SAEB_2015_MEDIA_PADRAO           967 non-null object\n",
      "SAEB_2017_MAT                    967 non-null object\n",
      "SAEB_2017_PT                     967 non-null object\n",
      "SAEB_2017_MEDIA_PADRAO           967 non-null object\n",
      "IDEB_2005                        967 non-null object\n",
      "IDEB_2007                        967 non-null object\n",
      "IDEB_2009                        967 non-null object\n",
      "IDEB_2011                        967 non-null object\n",
      "IDEB_2013                        967 non-null object\n",
      "IDEB_2015                        967 non-null object\n",
      "IDEB_2017                        967 non-null object\n",
      "PROJECOES_2007                   967 non-null object\n",
      "PROJECOES_2009                   967 non-null object\n",
      "PROJECOES_2011                   967 non-null object\n",
      "PROJECOES_2013                   967 non-null object\n",
      "PROJECOES_2015                   967 non-null object\n",
      "PROJECOES_2017                   967 non-null object\n",
      "PROJECOES_2019                   967 non-null object\n",
      "PROJECOES_2021                   967 non-null object\n",
      "dtypes: float64(2), object(82)\n",
      "memory usage: 642.1+ KB\n"
     ]
    }
   ],
   "source": [
    "df_ideb = df_ideb[df_ideb['REDE'] == 'Estadual']\n",
    "df_ideb = df_ideb[df_ideb['SIGLA_UF'] == 'RJ']\n",
    "\n",
    "df_ideb.info()"
   ]
  },
  {
   "cell_type": "code",
   "execution_count": 30,
   "metadata": {
    "scrolled": true
   },
   "outputs": [
    {
     "data": {
      "text/plain": [
       "-                   259\n",
       "4.76833333333333      2\n",
       "4.33916666666667      2\n",
       "5.607                 2\n",
       "5.06066666666667      2\n",
       "4.51983333333333      2\n",
       "3.79433333333333      2\n",
       "4.281                 2\n",
       "4.64516666666667      2\n",
       "4.49933333333333      2\n",
       "Name: SAEB_2015_MEDIA_PADRAO, dtype: int64"
      ]
     },
     "execution_count": 30,
     "metadata": {},
     "output_type": "execute_result"
    }
   ],
   "source": [
    "df_ideb['SAEB_2015_MEDIA_PADRAO'].value_counts()[:10]"
   ]
  },
  {
   "cell_type": "code",
   "execution_count": 32,
   "metadata": {},
   "outputs": [
    {
     "data": {
      "text/plain": [
       "-       252\n",
       "100      35\n",
       "92.6     10\n",
       "83.3      9\n",
       "75        9\n",
       "92.3      9\n",
       "88.5      8\n",
       "85.5      7\n",
       "91.3      7\n",
       "88.2      7\n",
       "Name: TAXA_APROVACAO_2015_9, dtype: int64"
      ]
     },
     "execution_count": 32,
     "metadata": {},
     "output_type": "execute_result"
    }
   ],
   "source": [
    "df_ideb['TAXA_APROVACAO_2015_9'].value_counts()[:10]"
   ]
  },
  {
   "cell_type": "code",
   "execution_count": 31,
   "metadata": {
    "scrolled": true
   },
   "outputs": [
    {
     "data": {
      "text/plain": [
       "-      259\n",
       "4       42\n",
       "3.6     40\n",
       "3.8     40\n",
       "3.7     40\n",
       "3       34\n",
       "3.9     32\n",
       "4.2     31\n",
       "4.5     31\n",
       "3.5     30\n",
       "Name: IDEB_2015, dtype: int64"
      ]
     },
     "execution_count": 31,
     "metadata": {},
     "output_type": "execute_result"
    }
   ],
   "source": [
    "df_ideb['IDEB_2015'].value_counts()[:10]"
   ]
  },
  {
   "cell_type": "code",
   "execution_count": 27,
   "metadata": {
    "scrolled": true
   },
   "outputs": [
    {
     "data": {
      "text/plain": [
       "708"
      ]
     },
     "execution_count": 27,
     "metadata": {},
     "output_type": "execute_result"
    }
   ],
   "source": [
    "len(df_ideb[df_ideb['IDEB_2015'] != '-'])"
   ]
  },
  {
   "cell_type": "code",
   "execution_count": 34,
   "metadata": {},
   "outputs": [],
   "source": [
    "df_ideb.to_csv(TREAT_PATH / 'ideb_2015_rj.csv')"
   ]
  },
  {
   "cell_type": "markdown",
   "metadata": {},
   "source": [
    "## Fogo Cruzado"
   ]
  },
  {
   "cell_type": "code",
   "execution_count": 41,
   "metadata": {},
   "outputs": [
    {
     "data": {
      "text/html": [
       "<div>\n",
       "<style scoped>\n",
       "    .dataframe tbody tr th:only-of-type {\n",
       "        vertical-align: middle;\n",
       "    }\n",
       "\n",
       "    .dataframe tbody tr th {\n",
       "        vertical-align: top;\n",
       "    }\n",
       "\n",
       "    .dataframe thead th {\n",
       "        text-align: right;\n",
       "    }\n",
       "</style>\n",
       "<table border=\"1\" class=\"dataframe\">\n",
       "  <thead>\n",
       "    <tr style=\"text-align: right;\">\n",
       "      <th></th>\n",
       "      <th>id_ocorrencia</th>\n",
       "      <th>local_ocorrencia</th>\n",
       "      <th>latitude_ocorrencia</th>\n",
       "      <th>longitude_ocorrencia</th>\n",
       "      <th>data_ocorrencia</th>\n",
       "      <th>hora_ocorrencia</th>\n",
       "      <th>presen_agen_segur_ocorrencia</th>\n",
       "      <th>qtd_morto_civil_ocorrencia</th>\n",
       "      <th>qtd_morto_agen_segur_ocorrencia</th>\n",
       "      <th>qtd_ferido_civil_ocorrencia</th>\n",
       "      <th>...</th>\n",
       "      <th>cidade_id</th>\n",
       "      <th>nome_cidade</th>\n",
       "      <th>cod_ibge_cidade</th>\n",
       "      <th>gentilico_cidade</th>\n",
       "      <th>populacao_cidade</th>\n",
       "      <th>area_cidade</th>\n",
       "      <th>densidade_demo_cidade</th>\n",
       "      <th>nome_estado</th>\n",
       "      <th>uf_estado</th>\n",
       "      <th>cod_ibge_estado</th>\n",
       "    </tr>\n",
       "  </thead>\n",
       "  <tbody>\n",
       "    <tr>\n",
       "      <th>0</th>\n",
       "      <td>16</td>\n",
       "      <td>Santa Cruz, Rio de Janeiro - RJ, Brasil</td>\n",
       "      <td>-22.919651</td>\n",
       "      <td>-43.684387</td>\n",
       "      <td>05/07/2016</td>\n",
       "      <td>6:02:00</td>\n",
       "      <td>1</td>\n",
       "      <td>0</td>\n",
       "      <td>1</td>\n",
       "      <td>0</td>\n",
       "      <td>...</td>\n",
       "      <td>3661</td>\n",
       "      <td>Rio de Janeiro</td>\n",
       "      <td>3304557</td>\n",
       "      <td>carioca</td>\n",
       "      <td>6320446</td>\n",
       "      <td>119746</td>\n",
       "      <td>5.27</td>\n",
       "      <td>Rio de Janeiro</td>\n",
       "      <td>RJ</td>\n",
       "      <td>33</td>\n",
       "    </tr>\n",
       "    <tr>\n",
       "      <th>1</th>\n",
       "      <td>17</td>\n",
       "      <td>Rua Barão - Praça Seca, Rio de Janeiro - RJ, B...</td>\n",
       "      <td>-22.898642</td>\n",
       "      <td>-43.352360</td>\n",
       "      <td>05/07/2016</td>\n",
       "      <td>13:44:00</td>\n",
       "      <td>1</td>\n",
       "      <td>0</td>\n",
       "      <td>0</td>\n",
       "      <td>0</td>\n",
       "      <td>...</td>\n",
       "      <td>3661</td>\n",
       "      <td>Rio de Janeiro</td>\n",
       "      <td>3304557</td>\n",
       "      <td>carioca</td>\n",
       "      <td>6320446</td>\n",
       "      <td>119746</td>\n",
       "      <td>5.27</td>\n",
       "      <td>Rio de Janeiro</td>\n",
       "      <td>RJ</td>\n",
       "      <td>33</td>\n",
       "    </tr>\n",
       "    <tr>\n",
       "      <th>2</th>\n",
       "      <td>18</td>\n",
       "      <td>Estrada da Covanca - Tanque, Rio de Janeiro - ...</td>\n",
       "      <td>-22.914858</td>\n",
       "      <td>-43.348198</td>\n",
       "      <td>05/07/2016</td>\n",
       "      <td>13:48:00</td>\n",
       "      <td>1</td>\n",
       "      <td>0</td>\n",
       "      <td>0</td>\n",
       "      <td>0</td>\n",
       "      <td>...</td>\n",
       "      <td>3661</td>\n",
       "      <td>Rio de Janeiro</td>\n",
       "      <td>3304557</td>\n",
       "      <td>carioca</td>\n",
       "      <td>6320446</td>\n",
       "      <td>119746</td>\n",
       "      <td>5.27</td>\n",
       "      <td>Rio de Janeiro</td>\n",
       "      <td>RJ</td>\n",
       "      <td>33</td>\n",
       "    </tr>\n",
       "    <tr>\n",
       "      <th>3</th>\n",
       "      <td>21</td>\n",
       "      <td>Complexo do Alemão, Rio de Janeiro - RJ, Brasil</td>\n",
       "      <td>-22.859333</td>\n",
       "      <td>-43.275475</td>\n",
       "      <td>05/07/2016</td>\n",
       "      <td>16:32:00</td>\n",
       "      <td>0</td>\n",
       "      <td>0</td>\n",
       "      <td>0</td>\n",
       "      <td>0</td>\n",
       "      <td>...</td>\n",
       "      <td>3661</td>\n",
       "      <td>Rio de Janeiro</td>\n",
       "      <td>3304557</td>\n",
       "      <td>carioca</td>\n",
       "      <td>6320446</td>\n",
       "      <td>119746</td>\n",
       "      <td>5.27</td>\n",
       "      <td>Rio de Janeiro</td>\n",
       "      <td>RJ</td>\n",
       "      <td>33</td>\n",
       "    </tr>\n",
       "    <tr>\n",
       "      <th>4</th>\n",
       "      <td>22</td>\n",
       "      <td>Santa Cruz, Rio de Janeiro - RJ, Brasil</td>\n",
       "      <td>-22.919651</td>\n",
       "      <td>-43.684387</td>\n",
       "      <td>05/07/2016</td>\n",
       "      <td>16:35:00</td>\n",
       "      <td>0</td>\n",
       "      <td>0</td>\n",
       "      <td>0</td>\n",
       "      <td>0</td>\n",
       "      <td>...</td>\n",
       "      <td>3661</td>\n",
       "      <td>Rio de Janeiro</td>\n",
       "      <td>3304557</td>\n",
       "      <td>carioca</td>\n",
       "      <td>6320446</td>\n",
       "      <td>119746</td>\n",
       "      <td>5.27</td>\n",
       "      <td>Rio de Janeiro</td>\n",
       "      <td>RJ</td>\n",
       "      <td>33</td>\n",
       "    </tr>\n",
       "  </tbody>\n",
       "</table>\n",
       "<p>5 rows × 23 columns</p>\n",
       "</div>"
      ],
      "text/plain": [
       "   id_ocorrencia                                   local_ocorrencia  \\\n",
       "0             16            Santa Cruz, Rio de Janeiro - RJ, Brasil   \n",
       "1             17  Rua Barão - Praça Seca, Rio de Janeiro - RJ, B...   \n",
       "2             18  Estrada da Covanca - Tanque, Rio de Janeiro - ...   \n",
       "3             21    Complexo do Alemão, Rio de Janeiro - RJ, Brasil   \n",
       "4             22            Santa Cruz, Rio de Janeiro - RJ, Brasil   \n",
       "\n",
       "   latitude_ocorrencia  longitude_ocorrencia data_ocorrencia hora_ocorrencia  \\\n",
       "0           -22.919651            -43.684387      05/07/2016         6:02:00   \n",
       "1           -22.898642            -43.352360      05/07/2016        13:44:00   \n",
       "2           -22.914858            -43.348198      05/07/2016        13:48:00   \n",
       "3           -22.859333            -43.275475      05/07/2016        16:32:00   \n",
       "4           -22.919651            -43.684387      05/07/2016        16:35:00   \n",
       "\n",
       "   presen_agen_segur_ocorrencia  qtd_morto_civil_ocorrencia  \\\n",
       "0                             1                           0   \n",
       "1                             1                           0   \n",
       "2                             1                           0   \n",
       "3                             0                           0   \n",
       "4                             0                           0   \n",
       "\n",
       "   qtd_morto_agen_segur_ocorrencia  qtd_ferido_civil_ocorrencia  \\\n",
       "0                                1                            0   \n",
       "1                                0                            0   \n",
       "2                                0                            0   \n",
       "3                                0                            0   \n",
       "4                                0                            0   \n",
       "\n",
       "        ...         cidade_id     nome_cidade  cod_ibge_cidade  \\\n",
       "0       ...              3661  Rio de Janeiro          3304557   \n",
       "1       ...              3661  Rio de Janeiro          3304557   \n",
       "2       ...              3661  Rio de Janeiro          3304557   \n",
       "3       ...              3661  Rio de Janeiro          3304557   \n",
       "4       ...              3661  Rio de Janeiro          3304557   \n",
       "\n",
       "   gentilico_cidade populacao_cidade  area_cidade densidade_demo_cidade  \\\n",
       "0           carioca          6320446       119746                  5.27   \n",
       "1           carioca          6320446       119746                  5.27   \n",
       "2           carioca          6320446       119746                  5.27   \n",
       "3           carioca          6320446       119746                  5.27   \n",
       "4           carioca          6320446       119746                  5.27   \n",
       "\n",
       "      nome_estado  uf_estado  cod_ibge_estado  \n",
       "0  Rio de Janeiro         RJ               33  \n",
       "1  Rio de Janeiro         RJ               33  \n",
       "2  Rio de Janeiro         RJ               33  \n",
       "3  Rio de Janeiro         RJ               33  \n",
       "4  Rio de Janeiro         RJ               33  \n",
       "\n",
       "[5 rows x 23 columns]"
      ]
     },
     "execution_count": 41,
     "metadata": {},
     "output_type": "execute_result"
    }
   ],
   "source": [
    "fogo_2016 = pd.read_csv(RAW_PATH / 'fogo_cruzado_tiroteios.csv', sep=';', encoding='latin-1')\n",
    "fogo_2016.head()"
   ]
  },
  {
   "cell_type": "code",
   "execution_count": 46,
   "metadata": {},
   "outputs": [
    {
     "name": "stdout",
     "output_type": "stream",
     "text": [
      "<class 'geopandas.geodataframe.GeoDataFrame'>\n",
      "RangeIndex: 2204 entries, 0 to 2203\n",
      "Data columns (total 24 columns):\n",
      "id_ocorrencia                       2204 non-null int64\n",
      "local_ocorrencia                    2204 non-null object\n",
      "latitude_ocorrencia                 2204 non-null float64\n",
      "longitude_ocorrencia                2204 non-null float64\n",
      "data_ocorrencia                     2204 non-null object\n",
      "hora_ocorrencia                     2204 non-null object\n",
      "presen_agen_segur_ocorrencia        2204 non-null int64\n",
      "qtd_morto_civil_ocorrencia          2204 non-null int64\n",
      "qtd_morto_agen_segur_ocorrencia     2204 non-null int64\n",
      "qtd_ferido_civil_ocorrencia         2204 non-null int64\n",
      "qtd_ferido_agen_segur_ocorrencia    2204 non-null int64\n",
      "fonte_ocorrencia                    2204 non-null int64\n",
      "estado_id                           2204 non-null int64\n",
      "cidade_id                           2204 non-null int64\n",
      "nome_cidade                         2204 non-null object\n",
      "cod_ibge_cidade                     2204 non-null int64\n",
      "gentilico_cidade                    2204 non-null object\n",
      "populacao_cidade                    2204 non-null int64\n",
      "area_cidade                         2204 non-null int64\n",
      "densidade_demo_cidade               2204 non-null float64\n",
      "nome_estado                         2204 non-null object\n",
      "uf_estado                           2204 non-null object\n",
      "cod_ibge_estado                     2204 non-null int64\n",
      "geometry                            2204 non-null object\n",
      "dtypes: float64(3), int64(13), object(8)\n",
      "memory usage: 413.3+ KB\n"
     ]
    }
   ],
   "source": [
    "import geopandas as gpd\n",
    "from shapely.geometry import Point\n",
    "\n",
    "fogo_2016 = gpd.GeoDataFrame(fogo_2016, geometry=[Point(x, y) for x, y in zip(fogo_2016['longitude_ocorrencia'], fogo_2016['latitude_ocorrencia'])])\n",
    "fogo_2016.info()"
   ]
  },
  {
   "cell_type": "code",
   "execution_count": 50,
   "metadata": {},
   "outputs": [],
   "source": [
    "fogo_2016.to_file(TREAT_PATH / 'fogo_2016_rj.shp')"
   ]
  },
  {
   "cell_type": "code",
   "execution_count": null,
   "metadata": {},
   "outputs": [],
   "source": []
  }
 ],
 "metadata": {
  "kernelspec": {
   "display_name": "Python 3",
   "language": "python",
   "name": "python3"
  },
  "language_info": {
   "codemirror_mode": {
    "name": "ipython",
    "version": 3
   },
   "file_extension": ".py",
   "mimetype": "text/x-python",
   "name": "python",
   "nbconvert_exporter": "python",
   "pygments_lexer": "ipython3",
   "version": "3.7.4"
  },
  "toc": {
   "base_numbering": 1,
   "nav_menu": {},
   "number_sections": true,
   "sideBar": true,
   "skip_h1_title": true,
   "title_cell": "Table of Contents",
   "title_sidebar": "Contents",
   "toc_cell": true,
   "toc_position": {},
   "toc_section_display": true,
   "toc_window_display": false
  }
 },
 "nbformat": 4,
 "nbformat_minor": 2
}
