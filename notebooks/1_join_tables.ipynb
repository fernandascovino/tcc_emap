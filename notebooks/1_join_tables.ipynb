{
 "cells": [
  {
   "cell_type": "markdown",
   "metadata": {},
   "source": [
    "# Junção das bases de dados\n",
    "\n",
    "---\n",
    "\n",
    "Bases: Matrícula (2016 e 2017), Escolas (2016), INSE (2015), Proximidade de comunidades (? - shapefile MP em Mapas) e tiroteios (2016 - Fogo Cruzado)\n",
    "\n",
    "- Seleção dos alunos em escolas que possuem INSE e geolocalização\n",
    "- Criação da variável de evasão\n",
    "- Adicionando indicadoras de comunidades e tiroteios num raio de 500m e 1km"
   ]
  },
  {
   "cell_type": "markdown",
   "metadata": {
    "toc": true
   },
   "source": [
    "<h1>Table of Contents<span class=\"tocSkip\"></span></h1>\n",
    "<div class=\"toc\"><ul class=\"toc-item\"><li><span><a href=\"#Importando-as-bases\" data-toc-modified-id=\"Importando-as-bases-1\"><span class=\"toc-item-num\">1&nbsp;&nbsp;</span>Importando as bases</a></span></li><li><span><a href=\"#Seleção-de-alunos-e-escolas\" data-toc-modified-id=\"Seleção-de-alunos-e-escolas-2\"><span class=\"toc-item-num\">2&nbsp;&nbsp;</span>Seleção de alunos e escolas</a></span><ul class=\"toc-item\"><li><span><a href=\"#Verificando-escolas-com-alunos-do-ensino-médio-regular\" data-toc-modified-id=\"Verificando-escolas-com-alunos-do-ensino-médio-regular-2.1\"><span class=\"toc-item-num\">2.1&nbsp;&nbsp;</span>Verificando escolas com alunos do ensino médio regular</a></span></li><li><span><a href=\"#Criando-variável-de-evasão\" data-toc-modified-id=\"Criando-variável-de-evasão-2.2\"><span class=\"toc-item-num\">2.2&nbsp;&nbsp;</span>Criando variável de evasão</a></span></li><li><span><a href=\"#Verificando-escolas-que-possuem-INSE-e-geolocalização\" data-toc-modified-id=\"Verificando-escolas-que-possuem-INSE-e-geolocalização-2.3\"><span class=\"toc-item-num\">2.3&nbsp;&nbsp;</span>Verificando escolas que possuem INSE e geolocalização</a></span></li></ul></li><li><span><a href=\"#Proximidade-da-escola-para-comunidades\" data-toc-modified-id=\"Proximidade-da-escola-para-comunidades-3\"><span class=\"toc-item-num\">3&nbsp;&nbsp;</span>Proximidade da escola para comunidades</a></span><ul class=\"toc-item\"><li><span><a href=\"#Áreas-de-comunidades\" data-toc-modified-id=\"Áreas-de-comunidades-3.1\"><span class=\"toc-item-num\">3.1&nbsp;&nbsp;</span>Áreas de comunidades</a></span></li><li><span><a href=\"#Visualizando-escolas-e-comunidades\" data-toc-modified-id=\"Visualizando-escolas-e-comunidades-3.2\"><span class=\"toc-item-num\">3.2&nbsp;&nbsp;</span>Visualizando escolas e comunidades</a></span></li><li><span><a href=\"#Identificando-as-escolas-próximas-de-comunidades\" data-toc-modified-id=\"Identificando-as-escolas-próximas-de-comunidades-3.3\"><span class=\"toc-item-num\">3.3&nbsp;&nbsp;</span>Identificando as escolas próximas de comunidades</a></span></li><li><span><a href=\"#Tiroteios-no-entorno\" data-toc-modified-id=\"Tiroteios-no-entorno-3.4\"><span class=\"toc-item-num\">3.4&nbsp;&nbsp;</span>Tiroteios no entorno</a></span></li><li><span><a href=\"#Adicionando-na-tabela-de-escolas\" data-toc-modified-id=\"Adicionando-na-tabela-de-escolas-3.5\"><span class=\"toc-item-num\">3.5&nbsp;&nbsp;</span>Adicionando na tabela de escolas</a></span></li></ul></li><li><span><a href=\"#IDEB\" data-toc-modified-id=\"IDEB-4\"><span class=\"toc-item-num\">4&nbsp;&nbsp;</span>IDEB</a></span><ul class=\"toc-item\"><li><span><a href=\"#Número-de-escolas-e-alunos-selecionados\" data-toc-modified-id=\"Número-de-escolas-e-alunos-selecionados-4.1\"><span class=\"toc-item-num\">4.1&nbsp;&nbsp;</span>Número de escolas e alunos selecionados</a></span></li></ul></li><li><span><a href=\"#Finalizando-as-tabelas\" data-toc-modified-id=\"Finalizando-as-tabelas-5\"><span class=\"toc-item-num\">5&nbsp;&nbsp;</span>Finalizando as tabelas</a></span></li><li><span><a href=\"#Rascunhos\" data-toc-modified-id=\"Rascunhos-6\"><span class=\"toc-item-num\">6&nbsp;&nbsp;</span>Rascunhos</a></span></li></ul></div>"
   ]
  },
  {
   "cell_type": "code",
   "execution_count": 169,
   "metadata": {},
   "outputs": [
    {
     "data": {
      "text/html": [
       "        <script type=\"text/javascript\">\n",
       "        window.PlotlyConfig = {MathJaxConfig: 'local'};\n",
       "        if (window.MathJax) {MathJax.Hub.Config({SVG: {font: \"STIX-Web\"}});}\n",
       "        if (typeof require !== 'undefined') {\n",
       "        require.undef(\"plotly\");\n",
       "        requirejs.config({\n",
       "            paths: {\n",
       "                'plotly': ['https://cdn.plot.ly/plotly-latest.min']\n",
       "            }\n",
       "        });\n",
       "        require(['plotly'], function(Plotly) {\n",
       "            window._Plotly = Plotly;\n",
       "        });\n",
       "        }\n",
       "        </script>\n",
       "        "
      ]
     },
     "metadata": {},
     "output_type": "display_data"
    },
    {
     "data": {
      "text/html": [
       "        <script type=\"text/javascript\">\n",
       "        window.PlotlyConfig = {MathJaxConfig: 'local'};\n",
       "        if (window.MathJax) {MathJax.Hub.Config({SVG: {font: \"STIX-Web\"}});}\n",
       "        if (typeof require !== 'undefined') {\n",
       "        require.undef(\"plotly\");\n",
       "        requirejs.config({\n",
       "            paths: {\n",
       "                'plotly': ['https://cdn.plot.ly/plotly-latest.min']\n",
       "            }\n",
       "        });\n",
       "        require(['plotly'], function(Plotly) {\n",
       "            window._Plotly = Plotly;\n",
       "        });\n",
       "        }\n",
       "        </script>\n",
       "        "
      ]
     },
     "metadata": {},
     "output_type": "display_data"
    }
   ],
   "source": [
    "# %load first_cell.py\n",
    "%reload_ext autoreload\n",
    "%autoreload 2\n",
    "\n",
    "from paths import RAW_PATH, TREAT_PATH, OUTPUT_PATH, FIGURES_PATH, MODEL_PATH\n",
    "\n",
    "import os\n",
    "from copy import deepcopy\n",
    "import numpy as np\n",
    "import pandas as pd\n",
    "pd.options.display.max_columns = 999\n",
    "import pandas_profiling\n",
    "\n",
    "import warnings\n",
    "warnings.filterwarnings('ignore')\n",
    "\n",
    "# Plotting\n",
    "import plotly\n",
    "import plotly.graph_objs as go\n",
    "import cufflinks as cf\n",
    "plotly.offline.init_notebook_mode(connected=True)\n",
    "\n",
    "# Metrics\n",
    "from plot_metrics import plot_roc, plot_confusion\n",
    "\n",
    "cf.go_offline()\n",
    "cf.set_config_file(offline=False, world_readable=True)\n",
    "\n",
    "colorscale = ['#025951', '#8BD9CA', '#BF7F30', '#F2C124', '#8C470B', '#DFC27D']"
   ]
  },
  {
   "cell_type": "code",
   "execution_count": 170,
   "metadata": {},
   "outputs": [
    {
     "data": {
      "text/plain": [
       "['cleaned_escolas_rj_2017.csv',\n",
       " 'cleaned_escolas_rj_2016.csv',\n",
       " 'matriculas_rj_2017duplicado.csv',\n",
       " 'cleaned_matriculas_rj_2016.csv',\n",
       " 'cleaned_matriculas_rj_2017.csv',\n",
       " 'matriculas_rj_2016duplicado.csv',\n",
       " 'cleaned_alunos_em_rj_2016.csv']"
      ]
     },
     "execution_count": 170,
     "metadata": {},
     "output_type": "execute_result"
    }
   ],
   "source": [
    "from pylab import rcParams\n",
    "rcParams['figure.figsize'] = 15, 15\n",
    "\n",
    "import geopandas as gpd\n",
    "\n",
    "os.listdir(TREAT_PATH / 'censo')"
   ]
  },
  {
   "cell_type": "markdown",
   "metadata": {},
   "source": [
    "## Importando as bases"
   ]
  },
  {
   "cell_type": "code",
   "execution_count": 171,
   "metadata": {},
   "outputs": [],
   "source": [
    "inse_rj_2015 = pd.read_csv(TREAT_PATH / 'inse_2015_rj.csv', index_col=0)\n",
    "# inse_rj_2015.info()"
   ]
  },
  {
   "cell_type": "code",
   "execution_count": 172,
   "metadata": {},
   "outputs": [],
   "source": [
    "alunos_rj_16 = pd.read_csv(TREAT_PATH / 'censo' / 'cleaned_alunos_em_rj_2016.csv', index_col=0)\n",
    "# alunos_rj_16.info()"
   ]
  },
  {
   "cell_type": "code",
   "execution_count": 173,
   "metadata": {},
   "outputs": [],
   "source": [
    "escolas_16 = pd.read_csv(TREAT_PATH / 'censo' / 'cleaned_escolas_rj_2016.csv', index_col=0)\n",
    "# escolas_16.info()"
   ]
  },
  {
   "cell_type": "code",
   "execution_count": 174,
   "metadata": {},
   "outputs": [],
   "source": [
    "alunos_rj_17 = pd.read_csv(TREAT_PATH / 'censo' / 'cleaned_matriculas_rj_2017.csv', index_col=0)\n",
    "# alunos_rj_17.info()"
   ]
  },
  {
   "cell_type": "code",
   "execution_count": 175,
   "metadata": {},
   "outputs": [],
   "source": [
    "shp_escolas = gpd.GeoDataFrame.from_file(RAW_PATH / 'shp_educ_escolas' / 'educ_escolas.shp')\n",
    "# shp_escolas.info()"
   ]
  },
  {
   "cell_type": "code",
   "execution_count": 176,
   "metadata": {},
   "outputs": [],
   "source": [
    "shp_comunidades = gpd.GeoDataFrame.from_file(RAW_PATH / 'shp_hab_comunidades' / 'hab_comunidadesPolygon.shp')\n",
    "# shp_comunidades.info()"
   ]
  },
  {
   "cell_type": "code",
   "execution_count": 177,
   "metadata": {},
   "outputs": [],
   "source": [
    "ideb_rj_2015 = pd.read_csv(TREAT_PATH / 'ideb_2015_rj.csv', index_col=0)\n",
    "# ideb_rj_2015.info()"
   ]
  },
  {
   "cell_type": "code",
   "execution_count": 178,
   "metadata": {
    "scrolled": true
   },
   "outputs": [],
   "source": [
    "fogo_rj_2016 = gpd.GeoDataFrame.from_file(TREAT_PATH / 'fogo_2016_rj.shp')\n",
    "# fogo_rj_2016.info()"
   ]
  },
  {
   "cell_type": "markdown",
   "metadata": {},
   "source": [
    "## Seleção de alunos e escolas\n",
    "\n",
    "- 837 de 1097 escolas (76% das escolas)\n",
    "- 147mil de 183mil (80% dos alunos)\n",
    "- Mantivemos a proporção de alunos evadidos (66 para 68%)"
   ]
  },
  {
   "cell_type": "markdown",
   "metadata": {},
   "source": [
    "### Verificando escolas com alunos do ensino médio regular\n",
    "\n",
    "\n",
    "- Alunos do 1º ano regular no RJ na rede estadual em 2016: 183.146 alunos em 1097 escolas"
   ]
  },
  {
   "cell_type": "code",
   "execution_count": 179,
   "metadata": {},
   "outputs": [
    {
     "name": "stdout",
     "output_type": "stream",
     "text": [
      "# de escolas com infos de alunos: 1097\n",
      "# de escolas com info do Censo: 1097\n"
     ]
    }
   ],
   "source": [
    "escolas = alunos_rj_16['CO_ENTIDADE'].unique()\n",
    "escolas_17 = escolas_16[escolas_16['CO_ENTIDADE'].isin(escolas)]\n",
    "\n",
    "print('# de escolas com infos de alunos:', len(escolas))\n",
    "print('# de escolas com info do Censo:', len(escolas_16[escolas_16['CO_ENTIDADE'].isin(escolas)]))"
   ]
  },
  {
   "cell_type": "code",
   "execution_count": 180,
   "metadata": {},
   "outputs": [],
   "source": [
    "alunos = len(alunos_rj_16)\n",
    "df_alunos = alunos_rj_16.copy()"
   ]
  },
  {
   "cell_type": "code",
   "execution_count": 181,
   "metadata": {},
   "outputs": [
    {
     "name": "stdout",
     "output_type": "stream",
     "text": [
      "<class 'pandas.core.frame.DataFrame'>\n",
      "Int64Index: 1097 entries, 6560 to 275339\n",
      "Columns: 166 entries, NU_ANO_CENSO to IN_ESP_EXCLUSIVA_PROF\n",
      "dtypes: float64(151), int64(11), object(4)\n",
      "memory usage: 1.4+ MB\n"
     ]
    }
   ],
   "source": [
    "df_escolas = escolas_16[escolas_16['CO_ENTIDADE'].isin(df_alunos['CO_ENTIDADE'])]\n",
    "df_escolas.info()"
   ]
  },
  {
   "cell_type": "markdown",
   "metadata": {},
   "source": [
    "### Criando variável de evasão"
   ]
  },
  {
   "cell_type": "code",
   "execution_count": 182,
   "metadata": {},
   "outputs": [
    {
     "data": {
      "text/plain": [
       "0    66.15\n",
       "1    33.85\n",
       "Name: IN_EVASAO, dtype: float64"
      ]
     },
     "execution_count": 182,
     "metadata": {},
     "output_type": "execute_result"
    }
   ],
   "source": [
    "alunos_permanente = df_alunos[df_alunos['ID'].isin(alunos_rj_17['ID'])]['ID']\n",
    "\n",
    "df_alunos['IN_EVASAO'] = np.where(df_alunos['ID'].isin(alunos_permanente), 0, 1)\n",
    "evasao_17 = df_alunos['IN_EVASAO'].value_counts(normalize=True).apply(lambda x: round(100*x, 2))\n",
    "evasao_17"
   ]
  },
  {
   "cell_type": "markdown",
   "metadata": {},
   "source": [
    "- Salvando as mudanças para o texto:"
   ]
  },
  {
   "cell_type": "code",
   "execution_count": 183,
   "metadata": {},
   "outputs": [
    {
     "data": {
      "text/html": [
       "<div>\n",
       "<style scoped>\n",
       "    .dataframe tbody tr th:only-of-type {\n",
       "        vertical-align: middle;\n",
       "    }\n",
       "\n",
       "    .dataframe tbody tr th {\n",
       "        vertical-align: top;\n",
       "    }\n",
       "\n",
       "    .dataframe thead th {\n",
       "        text-align: right;\n",
       "    }\n",
       "</style>\n",
       "<table border=\"1\" class=\"dataframe\">\n",
       "  <thead>\n",
       "    <tr style=\"text-align: right;\">\n",
       "      <th></th>\n",
       "      <th>Filtro</th>\n",
       "      <th>Número de alunas(os) - 2016</th>\n",
       "      <th>Número de escolas</th>\n",
       "      <th>Evadidas(os) (%)</th>\n",
       "    </tr>\n",
       "  </thead>\n",
       "  <tbody>\n",
       "    <tr>\n",
       "      <th>0</th>\n",
       "      <td>Escolas com Censo 2016 e 2017</td>\n",
       "      <td>182838</td>\n",
       "      <td>1097</td>\n",
       "      <td>33.85</td>\n",
       "    </tr>\n",
       "  </tbody>\n",
       "</table>\n",
       "</div>"
      ],
      "text/plain": [
       "                          Filtro Número de alunas(os) - 2016  \\\n",
       "0  Escolas com Censo 2016 e 2017                      182838   \n",
       "\n",
       "  Número de escolas  Evadidas(os) (%)  \n",
       "0              1097             33.85  "
      ]
     },
     "execution_count": 183,
     "metadata": {},
     "output_type": "execute_result"
    }
   ],
   "source": [
    "filtro = pd.DataFrame(columns=['Filtro', 'Número de alunas(os) - 2016', 'Número de escolas', 'Evadidas(os) (%)'])\n",
    "\n",
    "filtro.loc[0] = ['Escolas com Censo 2016 e 2017', alunos, len(escolas), evasao_17[1]]\n",
    "filtro"
   ]
  },
  {
   "cell_type": "markdown",
   "metadata": {},
   "source": [
    "### Verificando escolas que possuem INSE e geolocalização"
   ]
  },
  {
   "cell_type": "markdown",
   "metadata": {},
   "source": [
    "- INSE"
   ]
  },
  {
   "cell_type": "code",
   "execution_count": 184,
   "metadata": {},
   "outputs": [
    {
     "name": "stdout",
     "output_type": "stream",
     "text": [
      "<class 'pandas.core.frame.DataFrame'>\n",
      "Int64Index: 936 entries, 33485 to 37804\n",
      "Data columns (total 13 columns):\n",
      "CO_ENTIDADE            936 non-null int64\n",
      "NOME_ESCOLA            936 non-null object\n",
      "CO_UF                  936 non-null int64\n",
      "NOME_UF                936 non-null object\n",
      "CO_MUNICIPIO           936 non-null int64\n",
      "NOME_MUNICIPIO         936 non-null int64\n",
      "ID_AREA                936 non-null int64\n",
      "TP_DEPENDENCIA         936 non-null int64\n",
      "TP_LOCALIZACAO         936 non-null int64\n",
      "QTD_ALUNOS_INSE        936 non-null int64\n",
      "INSE_VALOR_ABSOLUTO    936 non-null float64\n",
      "INSE_CLASSIFICACAO     936 non-null object\n",
      "INSE_NIVEL             936 non-null int64\n",
      "dtypes: float64(1), int64(9), object(3)\n",
      "memory usage: 102.4+ KB\n"
     ]
    }
   ],
   "source": [
    "inse_rj_2015 = inse_rj_2015.rename({'CO_ESCOLA': 'CO_ENTIDADE', 'NIVEL': 'INSE_NIVEL'}, axis=1)\n",
    "inse_rj_2015.info()"
   ]
  },
  {
   "cell_type": "code",
   "execution_count": 185,
   "metadata": {},
   "outputs": [
    {
     "data": {
      "text/html": [
       "<div>\n",
       "<style scoped>\n",
       "    .dataframe tbody tr th:only-of-type {\n",
       "        vertical-align: middle;\n",
       "    }\n",
       "\n",
       "    .dataframe tbody tr th {\n",
       "        vertical-align: top;\n",
       "    }\n",
       "\n",
       "    .dataframe thead th {\n",
       "        text-align: right;\n",
       "    }\n",
       "</style>\n",
       "<table border=\"1\" class=\"dataframe\">\n",
       "  <thead>\n",
       "    <tr style=\"text-align: right;\">\n",
       "      <th></th>\n",
       "      <th>CO_ENTIDADE</th>\n",
       "      <th>NOME_ESCOLA</th>\n",
       "      <th>CO_UF</th>\n",
       "      <th>NOME_UF</th>\n",
       "      <th>CO_MUNICIPIO</th>\n",
       "      <th>NOME_MUNICIPIO</th>\n",
       "      <th>ID_AREA</th>\n",
       "      <th>TP_DEPENDENCIA</th>\n",
       "      <th>TP_LOCALIZACAO</th>\n",
       "      <th>QTD_ALUNOS_INSE</th>\n",
       "      <th>INSE_VALOR_ABSOLUTO</th>\n",
       "      <th>INSE_CLASSIFICACAO</th>\n",
       "      <th>INSE_NIVEL</th>\n",
       "    </tr>\n",
       "  </thead>\n",
       "  <tbody>\n",
       "    <tr>\n",
       "      <th>33485</th>\n",
       "      <td>33000026</td>\n",
       "      <td>CE GOVERNADOR ROBERTO SILVEIRA</td>\n",
       "      <td>33</td>\n",
       "      <td>Rio de Janeiro</td>\n",
       "      <td>3300605</td>\n",
       "      <td>3300605</td>\n",
       "      <td>0</td>\n",
       "      <td>2</td>\n",
       "      <td>1</td>\n",
       "      <td>41</td>\n",
       "      <td>49.53</td>\n",
       "      <td>Grupo 3</td>\n",
       "      <td>3</td>\n",
       "    </tr>\n",
       "    <tr>\n",
       "      <th>33486</th>\n",
       "      <td>33000042</td>\n",
       "      <td>CE PADRE MELLO</td>\n",
       "      <td>33</td>\n",
       "      <td>Rio de Janeiro</td>\n",
       "      <td>3300605</td>\n",
       "      <td>3300605</td>\n",
       "      <td>0</td>\n",
       "      <td>2</td>\n",
       "      <td>1</td>\n",
       "      <td>129</td>\n",
       "      <td>46.42</td>\n",
       "      <td>Grupo 3</td>\n",
       "      <td>3</td>\n",
       "    </tr>\n",
       "    <tr>\n",
       "      <th>33488</th>\n",
       "      <td>33000158</td>\n",
       "      <td>CE EUCLIDES FELICIANO TARDIN</td>\n",
       "      <td>33</td>\n",
       "      <td>Rio de Janeiro</td>\n",
       "      <td>3300605</td>\n",
       "      <td>3300605</td>\n",
       "      <td>0</td>\n",
       "      <td>2</td>\n",
       "      <td>1</td>\n",
       "      <td>205</td>\n",
       "      <td>49.97</td>\n",
       "      <td>Grupo 3</td>\n",
       "      <td>3</td>\n",
       "    </tr>\n",
       "  </tbody>\n",
       "</table>\n",
       "</div>"
      ],
      "text/plain": [
       "       CO_ENTIDADE                     NOME_ESCOLA  CO_UF         NOME_UF  \\\n",
       "33485     33000026  CE GOVERNADOR ROBERTO SILVEIRA     33  Rio de Janeiro   \n",
       "33486     33000042                  CE PADRE MELLO     33  Rio de Janeiro   \n",
       "33488     33000158    CE EUCLIDES FELICIANO TARDIN     33  Rio de Janeiro   \n",
       "\n",
       "       CO_MUNICIPIO  NOME_MUNICIPIO  ID_AREA  TP_DEPENDENCIA  TP_LOCALIZACAO  \\\n",
       "33485       3300605         3300605        0               2               1   \n",
       "33486       3300605         3300605        0               2               1   \n",
       "33488       3300605         3300605        0               2               1   \n",
       "\n",
       "       QTD_ALUNOS_INSE  INSE_VALOR_ABSOLUTO INSE_CLASSIFICACAO  INSE_NIVEL  \n",
       "33485               41                49.53            Grupo 3           3  \n",
       "33486              129                46.42            Grupo 3           3  \n",
       "33488              205                49.97            Grupo 3           3  "
      ]
     },
     "execution_count": 185,
     "metadata": {},
     "output_type": "execute_result"
    }
   ],
   "source": [
    "inse_rj_2015.head(3)"
   ]
  },
  {
   "cell_type": "code",
   "execution_count": 186,
   "metadata": {},
   "outputs": [
    {
     "name": "stdout",
     "output_type": "stream",
     "text": [
      "<class 'pandas.core.frame.DataFrame'>\n",
      "Int64Index: 1097 entries, 0 to 1096\n",
      "Columns: 168 entries, NU_ANO_CENSO to INSE_NIVEL\n",
      "dtypes: float64(153), int64(11), object(4)\n",
      "memory usage: 1.4+ MB\n"
     ]
    }
   ],
   "source": [
    "inse_rj_2015 = inse_rj_2015[['CO_ENTIDADE', 'INSE_VALOR_ABSOLUTO', 'INSE_NIVEL']]\n",
    "\n",
    "df_escolas = df_escolas.merge(inse_rj_2015, on='CO_ENTIDADE', how='left')\n",
    "df_escolas.info()"
   ]
  },
  {
   "cell_type": "code",
   "execution_count": 187,
   "metadata": {},
   "outputs": [
    {
     "name": "stdout",
     "output_type": "stream",
     "text": [
      "<class 'pandas.core.frame.DataFrame'>\n",
      "Int64Index: 1097 entries, 0 to 1096\n",
      "Data columns (total 1 columns):\n",
      "INSE_NIVEL    849 non-null float64\n",
      "dtypes: float64(1)\n",
      "memory usage: 17.1 KB\n"
     ]
    }
   ],
   "source": [
    "df_escolas[['INSE_NIVEL']].info()"
   ]
  },
  {
   "cell_type": "code",
   "execution_count": 188,
   "metadata": {},
   "outputs": [
    {
     "data": {
      "text/plain": [
       "849"
      ]
     },
     "execution_count": 188,
     "metadata": {},
     "output_type": "execute_result"
    }
   ],
   "source": [
    "escolas_inse = df_escolas[df_escolas['INSE_NIVEL'].isnull() == False]['CO_ENTIDADE']\n",
    "len(escolas_inse)"
   ]
  },
  {
   "cell_type": "markdown",
   "metadata": {},
   "source": [
    "- Geolocalização"
   ]
  },
  {
   "cell_type": "code",
   "execution_count": 189,
   "metadata": {},
   "outputs": [
    {
     "name": "stdout",
     "output_type": "stream",
     "text": [
      "<class 'geopandas.geodataframe.GeoDataFrame'>\n",
      "RangeIndex: 10191 entries, 0 to 10190\n",
      "Data columns (total 23 columns):\n",
      "CO_ENTIDADE    10191 non-null int64\n",
      "ESCOLA         10191 non-null object\n",
      "REDE           10191 non-null object\n",
      "GESTAO         10191 non-null object\n",
      "SITUACAO       10191 non-null object\n",
      "MUNICIPIO      10191 non-null object\n",
      "DISTRITO       10191 non-null object\n",
      "ENDERECO       10191 non-null object\n",
      "IDEB_2005      10191 non-null object\n",
      "IDEB_2007      10191 non-null object\n",
      "IDEB_2009      10191 non-null object\n",
      "IDEB_2011      10191 non-null object\n",
      "IDEB_2013      10191 non-null object\n",
      "IDEB_2015      10191 non-null object\n",
      "IDEB_20050     10191 non-null object\n",
      "IDEB_20070     10191 non-null object\n",
      "IDEB_20090     10191 non-null object\n",
      "IDEB_20110     10191 non-null object\n",
      "IDEB_20130     10191 non-null object\n",
      "IDEB_20150     10191 non-null object\n",
      "DUPLA_REGR     10191 non-null object\n",
      "TIPO_UNIDA     10191 non-null object\n",
      "geometry       10191 non-null object\n",
      "dtypes: int64(1), object(22)\n",
      "memory usage: 1.8+ MB\n"
     ]
    }
   ],
   "source": [
    "from unidecode import unidecode as unidc\n",
    "from string import punctuation as punc\n",
    "\n",
    "# Formatando colunas\n",
    "shp_escolas.columns = [unidc(i.upper().strip(punc)) if i != 'geometry' else i for i in shp_escolas.columns]\n",
    "shp_escolas = shp_escolas.rename({'CODIGO_ESC': 'CO_ENTIDADE'}, axis=1)\n",
    "shp_escolas.info()"
   ]
  },
  {
   "cell_type": "code",
   "execution_count": 190,
   "metadata": {},
   "outputs": [
    {
     "data": {
      "text/html": [
       "<div>\n",
       "<style scoped>\n",
       "    .dataframe tbody tr th:only-of-type {\n",
       "        vertical-align: middle;\n",
       "    }\n",
       "\n",
       "    .dataframe tbody tr th {\n",
       "        vertical-align: top;\n",
       "    }\n",
       "\n",
       "    .dataframe thead th {\n",
       "        text-align: right;\n",
       "    }\n",
       "</style>\n",
       "<table border=\"1\" class=\"dataframe\">\n",
       "  <thead>\n",
       "    <tr style=\"text-align: right;\">\n",
       "      <th></th>\n",
       "      <th>CO_ENTIDADE</th>\n",
       "      <th>ESCOLA</th>\n",
       "      <th>REDE</th>\n",
       "      <th>GESTAO</th>\n",
       "      <th>SITUACAO</th>\n",
       "      <th>MUNICIPIO</th>\n",
       "      <th>DISTRITO</th>\n",
       "      <th>ENDERECO</th>\n",
       "      <th>IDEB_2005</th>\n",
       "      <th>IDEB_2007</th>\n",
       "      <th>IDEB_2009</th>\n",
       "      <th>IDEB_2011</th>\n",
       "      <th>IDEB_2013</th>\n",
       "      <th>IDEB_2015</th>\n",
       "      <th>IDEB_20050</th>\n",
       "      <th>IDEB_20070</th>\n",
       "      <th>IDEB_20090</th>\n",
       "      <th>IDEB_20110</th>\n",
       "      <th>IDEB_20130</th>\n",
       "      <th>IDEB_20150</th>\n",
       "      <th>DUPLA_REGR</th>\n",
       "      <th>TIPO_UNIDA</th>\n",
       "      <th>geometry</th>\n",
       "    </tr>\n",
       "  </thead>\n",
       "  <tbody>\n",
       "    <tr>\n",
       "      <th>0</th>\n",
       "      <td>33000026</td>\n",
       "      <td>CE GOVERNADOR ROBERTO SILVEIRA</td>\n",
       "      <td>Pública</td>\n",
       "      <td>Estadual</td>\n",
       "      <td>Em Atividade</td>\n",
       "      <td>Bom Jesus do Itabapoana</td>\n",
       "      <td>Bom Jesus do Itabapoana</td>\n",
       "      <td>RUA GONCALVES DA SILVA 75 CENTRO - Bom Jesus d...</td>\n",
       "      <td>3.79999995</td>\n",
       "      <td>3.9000001</td>\n",
       "      <td>4.5</td>\n",
       "      <td>4.30000019</td>\n",
       "      <td>não informado</td>\n",
       "      <td>não informado</td>\n",
       "      <td>3.5999999</td>\n",
       "      <td>2.9000001</td>\n",
       "      <td>3.20000005</td>\n",
       "      <td>3.70000005</td>\n",
       "      <td>4.0999999</td>\n",
       "      <td>2.79999995</td>\n",
       "      <td>NÃO</td>\n",
       "      <td>não informada</td>\n",
       "      <td>(POINT (-41.68119899999999 -21.135829))</td>\n",
       "    </tr>\n",
       "    <tr>\n",
       "      <th>1</th>\n",
       "      <td>33000042</td>\n",
       "      <td>CE PADRE MELLO</td>\n",
       "      <td>Pública</td>\n",
       "      <td>Estadual</td>\n",
       "      <td>Em Atividade</td>\n",
       "      <td>Bom Jesus do Itabapoana</td>\n",
       "      <td>Bom Jesus do Itabapoana</td>\n",
       "      <td>AVENIDA GOVERNADOR ROBERTO SILVEIRA 578 CENTRO...</td>\n",
       "      <td>não informado</td>\n",
       "      <td>não informado</td>\n",
       "      <td>não informado</td>\n",
       "      <td>não informado</td>\n",
       "      <td>não informado</td>\n",
       "      <td>não informado</td>\n",
       "      <td>4</td>\n",
       "      <td>3.20000005</td>\n",
       "      <td>4.0999999</td>\n",
       "      <td>4.0999999</td>\n",
       "      <td>4.5</td>\n",
       "      <td>5.80000019</td>\n",
       "      <td>NÃO</td>\n",
       "      <td>não informada</td>\n",
       "      <td>(POINT (-41.671929 -21.135799))</td>\n",
       "    </tr>\n",
       "    <tr>\n",
       "      <th>2</th>\n",
       "      <td>33000077</td>\n",
       "      <td>IFF - CAMPUS BOM JESUS DO ITABAPOANA</td>\n",
       "      <td>Pública</td>\n",
       "      <td>Federal</td>\n",
       "      <td>Em Atividade</td>\n",
       "      <td>Bom Jesus do Itabapoana</td>\n",
       "      <td>Bom Jesus do Itabapoana</td>\n",
       "      <td>AVENIDA DARIO VIEIRA BORGES 235 LIA MARCIA - B...</td>\n",
       "      <td>não informado</td>\n",
       "      <td>não informado</td>\n",
       "      <td>não informado</td>\n",
       "      <td>não informado</td>\n",
       "      <td>não informado</td>\n",
       "      <td>não informado</td>\n",
       "      <td>não informado</td>\n",
       "      <td>não informado</td>\n",
       "      <td>não informado</td>\n",
       "      <td>não informado</td>\n",
       "      <td>não informado</td>\n",
       "      <td>não informado</td>\n",
       "      <td>não calculada</td>\n",
       "      <td>não informada</td>\n",
       "      <td>(POINT (-41.659904 -21.13615300000001))</td>\n",
       "    </tr>\n",
       "  </tbody>\n",
       "</table>\n",
       "</div>"
      ],
      "text/plain": [
       "   CO_ENTIDADE                                ESCOLA     REDE    GESTAO  \\\n",
       "0     33000026        CE GOVERNADOR ROBERTO SILVEIRA  Pública  Estadual   \n",
       "1     33000042                        CE PADRE MELLO  Pública  Estadual   \n",
       "2     33000077  IFF - CAMPUS BOM JESUS DO ITABAPOANA  Pública   Federal   \n",
       "\n",
       "       SITUACAO                MUNICIPIO                 DISTRITO  \\\n",
       "0  Em Atividade  Bom Jesus do Itabapoana  Bom Jesus do Itabapoana   \n",
       "1  Em Atividade  Bom Jesus do Itabapoana  Bom Jesus do Itabapoana   \n",
       "2  Em Atividade  Bom Jesus do Itabapoana  Bom Jesus do Itabapoana   \n",
       "\n",
       "                                            ENDERECO      IDEB_2005  \\\n",
       "0  RUA GONCALVES DA SILVA 75 CENTRO - Bom Jesus d...     3.79999995   \n",
       "1  AVENIDA GOVERNADOR ROBERTO SILVEIRA 578 CENTRO...  não informado   \n",
       "2  AVENIDA DARIO VIEIRA BORGES 235 LIA MARCIA - B...  não informado   \n",
       "\n",
       "       IDEB_2007      IDEB_2009      IDEB_2011      IDEB_2013      IDEB_2015  \\\n",
       "0      3.9000001            4.5     4.30000019  não informado  não informado   \n",
       "1  não informado  não informado  não informado  não informado  não informado   \n",
       "2  não informado  não informado  não informado  não informado  não informado   \n",
       "\n",
       "      IDEB_20050     IDEB_20070     IDEB_20090     IDEB_20110     IDEB_20130  \\\n",
       "0      3.5999999      2.9000001     3.20000005     3.70000005      4.0999999   \n",
       "1              4     3.20000005      4.0999999      4.0999999            4.5   \n",
       "2  não informado  não informado  não informado  não informado  não informado   \n",
       "\n",
       "      IDEB_20150     DUPLA_REGR     TIPO_UNIDA  \\\n",
       "0     2.79999995            NÃO  não informada   \n",
       "1     5.80000019            NÃO  não informada   \n",
       "2  não informado  não calculada  não informada   \n",
       "\n",
       "                                  geometry  \n",
       "0  (POINT (-41.68119899999999 -21.135829))  \n",
       "1          (POINT (-41.671929 -21.135799))  \n",
       "2  (POINT (-41.659904 -21.13615300000001))  "
      ]
     },
     "execution_count": 190,
     "metadata": {},
     "output_type": "execute_result"
    }
   ],
   "source": [
    "shp_escolas.head(3)"
   ]
  },
  {
   "cell_type": "code",
   "execution_count": 191,
   "metadata": {},
   "outputs": [
    {
     "name": "stdout",
     "output_type": "stream",
     "text": [
      "<class 'pandas.core.frame.DataFrame'>\n",
      "Int64Index: 1097 entries, 0 to 1096\n",
      "Columns: 169 entries, NU_ANO_CENSO to geometry\n",
      "dtypes: float64(153), int64(11), object(5)\n",
      "memory usage: 1.4+ MB\n"
     ]
    }
   ],
   "source": [
    "shp_escolas = shp_escolas[['CO_ENTIDADE', 'geometry']]\n",
    "\n",
    "df_escolas = df_escolas.merge(shp_escolas, on='CO_ENTIDADE', how='left')\n",
    "df_escolas.info()"
   ]
  },
  {
   "cell_type": "markdown",
   "metadata": {},
   "source": [
    "* Verificando escolas com ambos"
   ]
  },
  {
   "cell_type": "code",
   "execution_count": 192,
   "metadata": {
    "scrolled": true
   },
   "outputs": [
    {
     "name": "stdout",
     "output_type": "stream",
     "text": [
      "<class 'pandas.core.frame.DataFrame'>\n",
      "Int64Index: 1097 entries, 0 to 1096\n",
      "Data columns (total 2 columns):\n",
      "INSE_NIVEL    849 non-null float64\n",
      "geometry      1080 non-null object\n",
      "dtypes: float64(1), object(1)\n",
      "memory usage: 25.7+ KB\n"
     ]
    }
   ],
   "source": [
    "df_escolas[['INSE_NIVEL', 'geometry']].info()"
   ]
  },
  {
   "cell_type": "code",
   "execution_count": 193,
   "metadata": {},
   "outputs": [
    {
     "data": {
      "text/plain": [
       "837"
      ]
     },
     "execution_count": 193,
     "metadata": {},
     "output_type": "execute_result"
    }
   ],
   "source": [
    "add_cols = ['INSE_NIVEL', 'geometry']\n",
    "\n",
    "escolas_shp = df_escolas.dropna(subset=add_cols)['CO_ENTIDADE'].unique()\n",
    "len(escolas_shp)"
   ]
  },
  {
   "cell_type": "code",
   "execution_count": 194,
   "metadata": {},
   "outputs": [],
   "source": [
    "# escolas_final = shp_escolas['CO_ENTIDADE'].unique()\n",
    "# print('# de escolas com info do INSE e geoloc.:', len(escolas_final))\n",
    "# print('% de escolas com info do INSE e geoloc.:', 100*len(escolas_final)/len(escolas))"
   ]
  },
  {
   "cell_type": "markdown",
   "metadata": {},
   "source": [
    "## Proximidade da escola para comunidades"
   ]
  },
  {
   "cell_type": "code",
   "execution_count": 195,
   "metadata": {},
   "outputs": [
    {
     "name": "stdout",
     "output_type": "stream",
     "text": [
      "<class 'geopandas.geodataframe.GeoDataFrame'>\n",
      "RangeIndex: 837 entries, 0 to 836\n",
      "Data columns (total 2 columns):\n",
      "CO_ENTIDADE    837 non-null int64\n",
      "geometry       837 non-null object\n",
      "dtypes: int64(1), object(1)\n",
      "memory usage: 13.2+ KB\n"
     ]
    }
   ],
   "source": [
    "shp_escolas = shp_escolas[shp_escolas['CO_ENTIDADE'].isin(escolas_shp)].reset_index(drop=True)\n",
    "shp_escolas.info()"
   ]
  },
  {
   "cell_type": "code",
   "execution_count": 196,
   "metadata": {},
   "outputs": [
    {
     "data": {
      "text/plain": [
       "<matplotlib.axes._subplots.AxesSubplot at 0x124cec210>"
      ]
     },
     "execution_count": 196,
     "metadata": {},
     "output_type": "execute_result"
    },
    {
     "data": {
      "image/png": "[encoded data removed]",
      "text/plain": [
       "<Figure size 1440x1440 with 1 Axes>"
      ]
     },
     "metadata": {
      "needs_background": "light"
     },
     "output_type": "display_data"
    }
   ],
   "source": [
    "from pylab import rcParams\n",
    "rcParams['figure.figsize'] = 20, 20\n",
    "\n",
    "# Todas as escolas selecionadas\n",
    "shp_escolas.plot(color=colorscale[0], alpha=.7)"
   ]
  },
  {
   "cell_type": "markdown",
   "metadata": {},
   "source": [
    "### Áreas de comunidades\n",
    "\n",
    "- Ao todo, são 80 comunidades e complexos (mais de uma região delimitada) geolocalizadas do RJ"
   ]
  },
  {
   "cell_type": "code",
   "execution_count": 197,
   "metadata": {},
   "outputs": [
    {
     "name": "stdout",
     "output_type": "stream",
     "text": [
      "<class 'geopandas.geodataframe.GeoDataFrame'>\n",
      "RangeIndex: 3076 entries, 0 to 3075\n",
      "Data columns (total 8 columns):\n",
      "ID            3076 non-null float64\n",
      "FONTE         3076 non-null object\n",
      "CODIGO_MUN    3076 non-null int64\n",
      "MUNICÍPIO     3076 non-null object\n",
      "CÓDIGO_COM    3076 non-null float64\n",
      "COMUNIDADE    3076 non-null object\n",
      "REFERÊNCIA    2713 non-null object\n",
      "geometry      3076 non-null object\n",
      "dtypes: float64(2), int64(1), object(5)\n",
      "memory usage: 192.3+ KB\n"
     ]
    }
   ],
   "source": [
    "# Formatando colunas\n",
    "shp_comunidades.columns = [i.upper() if i != 'geometry' else i for i in shp_comunidades.columns]\n",
    "shp_comunidades.info()"
   ]
  },
  {
   "cell_type": "code",
   "execution_count": 198,
   "metadata": {},
   "outputs": [],
   "source": [
    "# from pylab import rcParams\n",
    "# rcParams['figure.figsize'] = 20, 20\n",
    "# shp_comunidades.plot(color=colorscale[-1])"
   ]
  },
  {
   "cell_type": "markdown",
   "metadata": {},
   "source": [
    "### Visualizando escolas e comunidades"
   ]
  },
  {
   "cell_type": "code",
   "execution_count": 199,
   "metadata": {},
   "outputs": [
    {
     "data": {
      "text/plain": [
       "<matplotlib.axes._subplots.AxesSubplot at 0x124ce5f90>"
      ]
     },
     "execution_count": 199,
     "metadata": {},
     "output_type": "execute_result"
    },
    {
     "data": {
      "image/png": "[encoded data removed]",
      "text/plain": [
       "<Figure size 1440x1440 with 1 Axes>"
      ]
     },
     "metadata": {
      "needs_background": "light"
     },
     "output_type": "display_data"
    }
   ],
   "source": [
    "rcParams['figure.figsize'] = 20, 20\n",
    "\n",
    "ax = shp_escolas.plot(markersize=20, color=colorscale[0], label='Escolas', alpha=.7, legend=True)\n",
    "shp_comunidades.plot(ax=ax, color=colorscale[-1], label='Comunidades', legend=True)"
   ]
  },
  {
   "cell_type": "markdown",
   "metadata": {},
   "source": [
    "### Identificando as escolas próximas de comunidades\n",
    "\n",
    "- Verificamos a existência de uma comunidade ao redor da escola num raio de 500m (mais próximo da escola) e 1km (supondo área de efeito direto na escola / residência do aluno) "
   ]
  },
  {
   "cell_type": "code",
   "execution_count": 200,
   "metadata": {},
   "outputs": [],
   "source": [
    "# shp_escolas['geometry'].apply(lambda p: p.buffer(0.005))"
   ]
  },
  {
   "cell_type": "code",
   "execution_count": 245,
   "metadata": {},
   "outputs": [],
   "source": [
    "shp_escolas['RAIO_5KM'] = shp_escolas['geometry'].apply(lambda p: p.buffer(0.045))\n",
    "shp_escolas['RAIO_1KM'] = shp_escolas['geometry'].apply(lambda p: p.buffer(0.009))"
   ]
  },
  {
   "cell_type": "code",
   "execution_count": 246,
   "metadata": {
    "scrolled": true
   },
   "outputs": [],
   "source": [
    "p1 = [i.strip('(),') for i in str(shp_escolas.loc[0]['geometry']).split()[1:3]]\n",
    "p2 = [i.strip('(),') for i in str(shp_escolas.loc[0]['RAIO_1KM']).split()[1:3]]"
   ]
  },
  {
   "cell_type": "code",
   "execution_count": 247,
   "metadata": {},
   "outputs": [
    {
     "data": {
      "text/plain": [
       "1.0010684990666083"
      ]
     },
     "execution_count": 247,
     "metadata": {},
     "output_type": "execute_result"
    }
   ],
   "source": [
    "from math import sin, cos, sqrt, atan2, radians\n",
    "\n",
    "# approximate radius of earth in km\n",
    "R = 6373.0\n",
    "\n",
    "lat1, lon1 = radians(float(p1[0])), radians(float(p1[1]))\n",
    "lat2, lon2 = radians(float(p2[0])), radians(float(p2[1]))\n",
    "\n",
    "\n",
    "dlon = lon2 - lon1\n",
    "dlat = lat2 - lat1\n",
    "\n",
    "a = sin(dlat / 2)**2 + cos(lat1) * cos(lat2) * sin(dlon / 2)**2\n",
    "c = 2 * atan2(sqrt(a), sqrt(1 - a))\n",
    "\n",
    "dist_comum = R * c\n",
    "dist_comum"
   ]
  },
  {
   "cell_type": "code",
   "execution_count": 252,
   "metadata": {},
   "outputs": [],
   "source": [
    "def intersect_comunidade(row, df=shp_comunidades):\n",
    "    \n",
    "    # Comunidades no raio de 1km\n",
    "    int1 = df[df['geometry'].apply(lambda x: row['RAIO_1KM'].intersects(x))]\n",
    "    \n",
    "    if len(int1) > 0:\n",
    "        return (1, 1)\n",
    "    \n",
    "    # Comunidades no raio de 5KM\n",
    "    int5 = df[df['geometry'].apply(lambda x: row['RAIO_5KM'].intersects(x))]\n",
    "    \n",
    "    if len(int5) > 0:\n",
    "        return (0, 1)\n",
    "\n",
    "    # Sem comunidade no entorno\n",
    "    return (0, 0)"
   ]
  },
  {
   "cell_type": "code",
   "execution_count": 253,
   "metadata": {},
   "outputs": [
    {
     "name": "stderr",
     "output_type": "stream",
     "text": [
      "100%|██████████| 837/837 [01:34<00:00,  8.85it/s]\n"
     ]
    }
   ],
   "source": [
    "from tqdm import tqdm\n",
    "tqdm.pandas()\n",
    "\n",
    "shp_escolas['IN_COMUNIDADE_5KM'], shp_escolas['IN_COMUNIDADE_1KM'] = zip(*shp_escolas.progress_apply(intersect_comunidade, axis=1))"
   ]
  },
  {
   "cell_type": "code",
   "execution_count": 254,
   "metadata": {},
   "outputs": [
    {
     "data": {
      "text/plain": [
       "1    480\n",
       "0    357\n",
       "Name: IN_COMUNIDADE_5KM, dtype: int64"
      ]
     },
     "execution_count": 254,
     "metadata": {},
     "output_type": "execute_result"
    }
   ],
   "source": [
    "shp_escolas['IN_COMUNIDADE_5KM'].value_counts()"
   ]
  },
  {
   "cell_type": "code",
   "execution_count": 255,
   "metadata": {},
   "outputs": [
    {
     "data": {
      "text/plain": [
       "1    642\n",
       "0    195\n",
       "Name: IN_COMUNIDADE_1KM, dtype: int64"
      ]
     },
     "execution_count": 255,
     "metadata": {},
     "output_type": "execute_result"
    }
   ],
   "source": [
    "shp_escolas['IN_COMUNIDADE_1KM'].value_counts()"
   ]
  },
  {
   "cell_type": "markdown",
   "metadata": {},
   "source": [
    "### Tiroteios no entorno"
   ]
  },
  {
   "cell_type": "code",
   "execution_count": 208,
   "metadata": {},
   "outputs": [
    {
     "data": {
      "text/plain": [
       "<matplotlib.axes._subplots.AxesSubplot at 0x1242f9290>"
      ]
     },
     "execution_count": 208,
     "metadata": {},
     "output_type": "execute_result"
    },
    {
     "data": {
      "image/png": "[encoded data removed]",
      "text/plain": [
       "<Figure size 1440x1440 with 1 Axes>"
      ]
     },
     "metadata": {
      "needs_background": "light"
     },
     "output_type": "display_data"
    }
   ],
   "source": [
    "rcParams['figure.figsize'] = 20, 20\n",
    "\n",
    "ax = shp_escolas.plot(markersize=25, color=colorscale[0], label='Escolas', alpha=.7, legend=True)\n",
    "shp_comunidades.plot(ax=ax, color=colorscale[2], label='Comunidades', legend=True)\n",
    "fogo_rj_2016.plot(ax=ax, color=colorscale[3], label='Tiroteios', alpha=.1, legend=True)"
   ]
  },
  {
   "cell_type": "code",
   "execution_count": 256,
   "metadata": {},
   "outputs": [],
   "source": [
    "def intersect_tiroteios(row, df=fogo_rj_2016):\n",
    "    \n",
    "    # Tiroteios no raio de 1km\n",
    "    int1 = df[df['geometry'].apply(lambda x: row['RAIO_1KM'].intersects(x))]\n",
    "    \n",
    "    if len(int1) > 0:\n",
    "        return (1, 1)\n",
    "    \n",
    "    # Tiroteios no raio de 5km\n",
    "    int5 = df[df['geometry'].apply(lambda x: row['RAIO_5KM'].intersects(x))]\n",
    "    \n",
    "    if len(int5) > 0:\n",
    "        return (0, 1)\n",
    "\n",
    "    # Sem tiroteios no entorno\n",
    "    return (0, 0)"
   ]
  },
  {
   "cell_type": "code",
   "execution_count": 257,
   "metadata": {},
   "outputs": [
    {
     "name": "stderr",
     "output_type": "stream",
     "text": [
      "100%|██████████| 837/837 [01:19<00:00, 10.52it/s]\n"
     ]
    }
   ],
   "source": [
    "from tqdm import tqdm\n",
    "tqdm.pandas()\n",
    "\n",
    "shp_escolas['IN_TIROTEIO_5KM'], shp_escolas['IN_TIROTEIO_1KM'] = zip(*shp_escolas.progress_apply(intersect_tiroteios, axis=1))"
   ]
  },
  {
   "cell_type": "markdown",
   "metadata": {},
   "source": [
    "### Adicionando na tabela de escolas"
   ]
  },
  {
   "cell_type": "code",
   "execution_count": 266,
   "metadata": {},
   "outputs": [
    {
     "name": "stdout",
     "output_type": "stream",
     "text": [
      "<class 'pandas.core.frame.DataFrame'>\n",
      "Int64Index: 837 entries, 0 to 836\n",
      "Columns: 175 entries, NU_ANO_CENSO to IN_TIROTEIO_5KM\n",
      "dtypes: float64(154), int64(16), object(5)\n",
      "memory usage: 1.1+ MB\n"
     ]
    }
   ],
   "source": [
    "cols = ['CO_ENTIDADE', 'IN_COMUNIDADE_1KM', 'IN_COMUNIDADE_5KM', 'IN_TIROTEIO_1KM', 'IN_TIROTEIO_5KM']\n",
    "df_escolas = df_escolas.merge(shp_escolas[cols], on='CO_ENTIDADE', how='left')\n",
    "df_escolas.info()"
   ]
  },
  {
   "cell_type": "code",
   "execution_count": 268,
   "metadata": {},
   "outputs": [
    {
     "data": {
      "text/plain": [
       "1    0.767025\n",
       "0    0.232975\n",
       "Name: IN_COMUNIDADE_1KM, dtype: float64"
      ]
     },
     "execution_count": 268,
     "metadata": {},
     "output_type": "execute_result"
    }
   ],
   "source": [
    "df_escolas['IN_COMUNIDADE_1KM'].value_counts(normalize=True)"
   ]
  },
  {
   "cell_type": "code",
   "execution_count": 269,
   "metadata": {},
   "outputs": [
    {
     "data": {
      "text/plain": [
       "1    0.573477\n",
       "0    0.426523\n",
       "Name: IN_COMUNIDADE_5KM, dtype: float64"
      ]
     },
     "execution_count": 269,
     "metadata": {},
     "output_type": "execute_result"
    }
   ],
   "source": [
    "df_escolas['IN_COMUNIDADE_5KM'].value_counts(normalize=True)"
   ]
  },
  {
   "cell_type": "code",
   "execution_count": 270,
   "metadata": {},
   "outputs": [
    {
     "data": {
      "text/plain": [
       "1    0.544803\n",
       "0    0.455197\n",
       "Name: IN_TIROTEIO_1KM, dtype: float64"
      ]
     },
     "execution_count": 270,
     "metadata": {},
     "output_type": "execute_result"
    }
   ],
   "source": [
    "df_escolas['IN_TIROTEIO_1KM'].value_counts(normalize=True)"
   ]
  },
  {
   "cell_type": "code",
   "execution_count": 271,
   "metadata": {},
   "outputs": [
    {
     "data": {
      "text/plain": [
       "0    0.608124\n",
       "1    0.391876\n",
       "Name: IN_TIROTEIO_5KM, dtype: float64"
      ]
     },
     "execution_count": 271,
     "metadata": {},
     "output_type": "execute_result"
    }
   ],
   "source": [
    "df_escolas['IN_TIROTEIO_5KM'].value_counts(normalize=True)"
   ]
  },
  {
   "cell_type": "markdown",
   "metadata": {},
   "source": [
    "## IDEB"
   ]
  },
  {
   "cell_type": "code",
   "execution_count": 217,
   "metadata": {
    "scrolled": true
   },
   "outputs": [],
   "source": [
    "# ideb_rj_2015.head(3)"
   ]
  },
  {
   "cell_type": "code",
   "execution_count": 218,
   "metadata": {
    "scrolled": true
   },
   "outputs": [],
   "source": [
    "# ideb_rj_2015['COD_MUNICIPIO'].value_counts()"
   ]
  },
  {
   "cell_type": "code",
   "execution_count": 219,
   "metadata": {},
   "outputs": [],
   "source": [
    "# ideb_rj_2015 = ideb_rj_2015.rename({'COD_INEP': 'CO_ENTIDADE'}, axis=1)"
   ]
  },
  {
   "cell_type": "code",
   "execution_count": 220,
   "metadata": {},
   "outputs": [],
   "source": [
    "# escolas_shp = pd.Series(escolas_shp)\n",
    "# escolas_ideb = escolas_shp[escolas_shp.isin(ideb_rj_2015['CO_ENTIDADE'])]\n",
    "# len(escolas_ideb)"
   ]
  },
  {
   "cell_type": "code",
   "execution_count": 221,
   "metadata": {},
   "outputs": [],
   "source": [
    "# ideb_rj_escolas = ideb_rj_2015[ideb_rj_2015['CO_ENTIDADE'].isin(escolas_ideb)]\n",
    "# ideb_rj_escolas.info()"
   ]
  },
  {
   "cell_type": "code",
   "execution_count": 222,
   "metadata": {},
   "outputs": [],
   "source": [
    "# ideb_rj_escolas['TAXA_APROVACAO_2015_9'] = ideb_rj_escolas['TAXA_APROVACAO_2015_9'].replace({'-': np.nan})\n",
    "# ideb_rj_escolas['IDEB_2015'] = ideb_rj_escolas['IDEB_2015'].replace({'-': np.nan})\n",
    "# ideb_rj_escolas[['TAXA_APROVACAO_2015_9', 'IDEB_2015']].info()"
   ]
  },
  {
   "cell_type": "code",
   "execution_count": 223,
   "metadata": {},
   "outputs": [],
   "source": [
    "# escolas_ideb = ideb_rj_escolas[ideb_rj_escolas['IDEB_2015'].isnull() == False]['CO_ENTIDADE']\n",
    "# len(escolas_ideb)"
   ]
  },
  {
   "cell_type": "code",
   "execution_count": 224,
   "metadata": {},
   "outputs": [],
   "source": [
    "# add_ideb = ['TAXA_APROVACAO_2015_9', 'IDEB_2015']"
   ]
  },
  {
   "cell_type": "code",
   "execution_count": 225,
   "metadata": {},
   "outputs": [],
   "source": [
    "# cols = ['CO_ENTIDADE', 'TAXA_APROVACAO_2015_9', 'IDEB_2015']\n",
    "# df_escolas = df_escolas.merge(ideb_rj_escolas[cols], on='CO_ENTIDADE', how='left')\n",
    "# df_escolas.info()"
   ]
  },
  {
   "cell_type": "markdown",
   "metadata": {},
   "source": [
    "### Número de escolas e alunos selecionados"
   ]
  },
  {
   "cell_type": "code",
   "execution_count": 226,
   "metadata": {
    "scrolled": true
   },
   "outputs": [
    {
     "data": {
      "text/html": [
       "<div>\n",
       "<style scoped>\n",
       "    .dataframe tbody tr th:only-of-type {\n",
       "        vertical-align: middle;\n",
       "    }\n",
       "\n",
       "    .dataframe tbody tr th {\n",
       "        vertical-align: top;\n",
       "    }\n",
       "\n",
       "    .dataframe thead th {\n",
       "        text-align: right;\n",
       "    }\n",
       "</style>\n",
       "<table border=\"1\" class=\"dataframe\">\n",
       "  <thead>\n",
       "    <tr style=\"text-align: right;\">\n",
       "      <th></th>\n",
       "      <th>Filtro</th>\n",
       "      <th>Número de alunas(os) - 2016</th>\n",
       "      <th>Número de escolas</th>\n",
       "      <th>Evadidas(os) (%)</th>\n",
       "    </tr>\n",
       "  </thead>\n",
       "  <tbody>\n",
       "    <tr>\n",
       "      <th>0</th>\n",
       "      <td>Escolas com Censo 2016 e 2017</td>\n",
       "      <td>182838</td>\n",
       "      <td>1097</td>\n",
       "      <td>33.85</td>\n",
       "    </tr>\n",
       "  </tbody>\n",
       "</table>\n",
       "</div>"
      ],
      "text/plain": [
       "                          Filtro Número de alunas(os) - 2016  \\\n",
       "0  Escolas com Censo 2016 e 2017                      182838   \n",
       "\n",
       "  Número de escolas  Evadidas(os) (%)  \n",
       "0              1097             33.85  "
      ]
     },
     "execution_count": 226,
     "metadata": {},
     "output_type": "execute_result"
    }
   ],
   "source": [
    "filtro"
   ]
  },
  {
   "cell_type": "code",
   "execution_count": 227,
   "metadata": {},
   "outputs": [
    {
     "data": {
      "text/plain": [
       "(182838, 1097)"
      ]
     },
     "execution_count": 227,
     "metadata": {},
     "output_type": "execute_result"
    }
   ],
   "source": [
    "len(df_alunos), len(escolas)"
   ]
  },
  {
   "cell_type": "code",
   "execution_count": 228,
   "metadata": {},
   "outputs": [],
   "source": [
    "def add_filtro(escolas, title):\n",
    "    \n",
    "    alunos_df = df_alunos[df_alunos['CO_ENTIDADE'].isin(escolas)]\n",
    "    evasao_df = alunos_df['IN_EVASAO'].value_counts(normalize=True).apply(lambda x: round(100*x, 2))\n",
    "    \n",
    "    n = len(filtro)\n",
    "    filtro.loc[n] = [title, len(alunos_df), len(escolas), evasao_df[1]]\n",
    "    \n",
    "    return filtro"
   ]
  },
  {
   "cell_type": "code",
   "execution_count": 229,
   "metadata": {},
   "outputs": [
    {
     "data": {
      "text/html": [
       "<div>\n",
       "<style scoped>\n",
       "    .dataframe tbody tr th:only-of-type {\n",
       "        vertical-align: middle;\n",
       "    }\n",
       "\n",
       "    .dataframe tbody tr th {\n",
       "        vertical-align: top;\n",
       "    }\n",
       "\n",
       "    .dataframe thead th {\n",
       "        text-align: right;\n",
       "    }\n",
       "</style>\n",
       "<table border=\"1\" class=\"dataframe\">\n",
       "  <thead>\n",
       "    <tr style=\"text-align: right;\">\n",
       "      <th></th>\n",
       "      <th>Filtro</th>\n",
       "      <th>Número de alunas(os) - 2016</th>\n",
       "      <th>Número de escolas</th>\n",
       "      <th>Evadidas(os) (%)</th>\n",
       "    </tr>\n",
       "  </thead>\n",
       "  <tbody>\n",
       "    <tr>\n",
       "      <th>0</th>\n",
       "      <td>Escolas com Censo 2016 e 2017</td>\n",
       "      <td>182838</td>\n",
       "      <td>1097</td>\n",
       "      <td>33.85</td>\n",
       "    </tr>\n",
       "    <tr>\n",
       "      <th>1</th>\n",
       "      <td>Escolas com INSE</td>\n",
       "      <td>149234</td>\n",
       "      <td>849</td>\n",
       "      <td>31.88</td>\n",
       "    </tr>\n",
       "  </tbody>\n",
       "</table>\n",
       "</div>"
      ],
      "text/plain": [
       "                          Filtro Número de alunas(os) - 2016  \\\n",
       "0  Escolas com Censo 2016 e 2017                      182838   \n",
       "1               Escolas com INSE                      149234   \n",
       "\n",
       "  Número de escolas  Evadidas(os) (%)  \n",
       "0              1097             33.85  \n",
       "1               849             31.88  "
      ]
     },
     "execution_count": 229,
     "metadata": {},
     "output_type": "execute_result"
    }
   ],
   "source": [
    "add_filtro(escolas_inse, 'Escolas com INSE')"
   ]
  },
  {
   "cell_type": "code",
   "execution_count": 230,
   "metadata": {},
   "outputs": [
    {
     "data": {
      "text/html": [
       "<div>\n",
       "<style scoped>\n",
       "    .dataframe tbody tr th:only-of-type {\n",
       "        vertical-align: middle;\n",
       "    }\n",
       "\n",
       "    .dataframe tbody tr th {\n",
       "        vertical-align: top;\n",
       "    }\n",
       "\n",
       "    .dataframe thead th {\n",
       "        text-align: right;\n",
       "    }\n",
       "</style>\n",
       "<table border=\"1\" class=\"dataframe\">\n",
       "  <thead>\n",
       "    <tr style=\"text-align: right;\">\n",
       "      <th></th>\n",
       "      <th>Filtro</th>\n",
       "      <th>Número de alunas(os) - 2016</th>\n",
       "      <th>Número de escolas</th>\n",
       "      <th>Evadidas(os) (%)</th>\n",
       "    </tr>\n",
       "  </thead>\n",
       "  <tbody>\n",
       "    <tr>\n",
       "      <th>0</th>\n",
       "      <td>Escolas com Censo 2016 e 2017</td>\n",
       "      <td>182838</td>\n",
       "      <td>1097</td>\n",
       "      <td>33.85</td>\n",
       "    </tr>\n",
       "    <tr>\n",
       "      <th>1</th>\n",
       "      <td>Escolas com INSE</td>\n",
       "      <td>149234</td>\n",
       "      <td>849</td>\n",
       "      <td>31.88</td>\n",
       "    </tr>\n",
       "    <tr>\n",
       "      <th>2</th>\n",
       "      <td>Escolas com geolocalização</td>\n",
       "      <td>147267</td>\n",
       "      <td>837</td>\n",
       "      <td>31.95</td>\n",
       "    </tr>\n",
       "  </tbody>\n",
       "</table>\n",
       "</div>"
      ],
      "text/plain": [
       "                          Filtro Número de alunas(os) - 2016  \\\n",
       "0  Escolas com Censo 2016 e 2017                      182838   \n",
       "1               Escolas com INSE                      149234   \n",
       "2     Escolas com geolocalização                      147267   \n",
       "\n",
       "  Número de escolas  Evadidas(os) (%)  \n",
       "0              1097             33.85  \n",
       "1               849             31.88  \n",
       "2               837             31.95  "
      ]
     },
     "execution_count": 230,
     "metadata": {},
     "output_type": "execute_result"
    }
   ],
   "source": [
    "add_filtro(escolas_shp, 'Escolas com geolocalização')"
   ]
  },
  {
   "cell_type": "code",
   "execution_count": 231,
   "metadata": {},
   "outputs": [],
   "source": [
    "# add_filtro(escolas_ideb, 'Escolas com IDEB')"
   ]
  },
  {
   "cell_type": "code",
   "execution_count": 232,
   "metadata": {},
   "outputs": [
    {
     "name": "stdout",
     "output_type": "stream",
     "text": [
      "\\begin{tabular}{llllr}\n",
      "\\toprule\n",
      "{} &                         Filtro & Número de alunas(os) - 2016 & Número de escolas &  Evadidas(os) (\\%) \\\\\n",
      "\\midrule\n",
      "0 &  Escolas com Censo 2016 e 2017 &                      182838 &              1097 &             33.85 \\\\\n",
      "1 &               Escolas com INSE &                      149234 &               849 &             31.88 \\\\\n",
      "2 &     Escolas com geolocalização &                      147267 &               837 &             31.95 \\\\\n",
      "\\bottomrule\n",
      "\\end{tabular}\n",
      "\n"
     ]
    }
   ],
   "source": [
    "print(filtro.to_latex())"
   ]
  },
  {
   "cell_type": "markdown",
   "metadata": {},
   "source": [
    "## Finalizando as tabelas"
   ]
  },
  {
   "cell_type": "code",
   "execution_count": 233,
   "metadata": {},
   "outputs": [
    {
     "name": "stdout",
     "output_type": "stream",
     "text": [
      "<class 'pandas.core.frame.DataFrame'>\n",
      "Int64Index: 837 entries, 1 to 1096\n",
      "Columns: 173 entries, NU_ANO_CENSO to IN_TIROTEIO_5KM\n",
      "dtypes: float64(157), int64(11), object(5)\n",
      "memory usage: 1.1+ MB\n"
     ]
    }
   ],
   "source": [
    "df_escolas = df_escolas[(df_escolas['CO_ENTIDADE'].isin(escolas_shp)) & \n",
    "                       (df_escolas['CO_ENTIDADE'].isin(escolas_inse))]\n",
    "                       #& (df_escolas['CO_ENTIDADE'].isin(escolas_ideb))]\n",
    "df_escolas.info()"
   ]
  },
  {
   "cell_type": "code",
   "execution_count": 234,
   "metadata": {
    "collapsed": true
   },
   "outputs": [
    {
     "name": "stdout",
     "output_type": "stream",
     "text": [
      "<class 'pandas.core.frame.DataFrame'>\n",
      "Int64Index: 147267 entries, 118 to 553388\n",
      "Data columns (total 92 columns):\n",
      "NU_ANO_CENSO                     147267 non-null int64\n",
      "NU_DIA                           147267 non-null int64\n",
      "NU_MES                           147267 non-null int64\n",
      "NU_ANO                           147267 non-null int64\n",
      "NU_IDADE_REFERENCIA              147267 non-null int64\n",
      "NU_IDADE                         147267 non-null int64\n",
      "NU_DURACAO_TURMA                 147267 non-null int64\n",
      "NU_DUR_ATIV_COMP_MESMA_REDE      147267 non-null int64\n",
      "NU_DUR_ATIV_COMP_OUTRAS_REDES    147267 non-null int64\n",
      "NU_DUR_AEE_MESMA_REDE            147267 non-null int64\n",
      "NU_DUR_AEE_OUTRAS_REDES          147267 non-null int64\n",
      "NU_DIAS_ATIVIDADE                147267 non-null int64\n",
      "TP_SEXO                          147267 non-null int64\n",
      "TP_COR_RACA                      147267 non-null int64\n",
      "TP_NACIONALIDADE                 147267 non-null int64\n",
      "CO_PAIS_ORIGEM                   147267 non-null int64\n",
      "CO_UF_NASC                       147181 non-null float64\n",
      "CO_MUNICIPIO_NASC                147181 non-null float64\n",
      "CO_UF_END                        9970 non-null float64\n",
      "CO_MUNICIPIO_END                 9970 non-null float64\n",
      "TP_ZONA_RESIDENCIAL              147267 non-null int64\n",
      "TP_OUTRO_LOCAL_AULA              147267 non-null int64\n",
      "IN_TRANSPORTE_PUBLICO            147267 non-null int64\n",
      "TP_RESPONSAVEL_TRANSPORTE        102206 non-null float64\n",
      "IN_TRANSP_VANS_KOMBI             102206 non-null float64\n",
      "IN_TRANSP_MICRO_ONIBUS           102206 non-null float64\n",
      "IN_TRANSP_ONIBUS                 102206 non-null float64\n",
      "IN_TRANSP_BICICLETA              102206 non-null float64\n",
      "IN_TRANSP_TR_ANIMAL              102206 non-null float64\n",
      "IN_TRANSP_OUTRO_VEICULO          102206 non-null float64\n",
      "IN_TRANSP_EMBAR_ATE5             102206 non-null float64\n",
      "IN_TRANSP_EMBAR_5A15             102206 non-null float64\n",
      "IN_TRANSP_EMBAR_15A35            102206 non-null float64\n",
      "IN_TRANSP_EMBAR_35               102206 non-null float64\n",
      "IN_TRANSP_TREM_METRO             102206 non-null float64\n",
      "IN_NECESSIDADE_ESPECIAL          147267 non-null int64\n",
      "IN_CEGUEIRA                      818 non-null float64\n",
      "IN_BAIXA_VISAO                   818 non-null float64\n",
      "IN_SURDEZ                        818 non-null float64\n",
      "IN_DEF_AUDITIVA                  818 non-null float64\n",
      "IN_SURDOCEGUEIRA                 818 non-null float64\n",
      "IN_DEF_FISICA                    818 non-null float64\n",
      "IN_DEF_INTELECTUAL               818 non-null float64\n",
      "IN_DEF_MULTIPLA                  818 non-null float64\n",
      "IN_AUTISMO                       818 non-null float64\n",
      "IN_SINDROME_ASPERGER             818 non-null float64\n",
      "IN_SINDROME_RETT                 818 non-null float64\n",
      "IN_TRANSTORNO_DI                 818 non-null float64\n",
      "IN_SUPERDOTACAO                  818 non-null float64\n",
      "IN_RECURSO_LEDOR                 745 non-null float64\n",
      "IN_RECURSO_TRANSCRICAO           745 non-null float64\n",
      "IN_RECURSO_INTERPRETE            745 non-null float64\n",
      "IN_RECURSO_LIBRAS                745 non-null float64\n",
      "IN_RECURSO_LABIAL                745 non-null float64\n",
      "IN_RECURSO_BRAILLE               745 non-null float64\n",
      "IN_RECURSO_AMPLIADA_16           745 non-null float64\n",
      "IN_RECURSO_AMPLIADA_20           745 non-null float64\n",
      "IN_RECURSO_AMPLIADA_24           745 non-null float64\n",
      "IN_RECURSO_NENHUM                745 non-null float64\n",
      "TP_INGRESSO_FEDERAIS             0 non-null float64\n",
      "TP_MEDIACAO_DIDATICO_PEDAGO      147267 non-null int64\n",
      "IN_ESPECIAL_EXCLUSIVA            147267 non-null int64\n",
      "IN_REGULAR                       147267 non-null int64\n",
      "IN_EJA                           147267 non-null int64\n",
      "IN_PROFISSIONALIZANTE            147267 non-null int64\n",
      "TP_ETAPA_ENSINO                  147267 non-null int64\n",
      "ID_TURMA                         147267 non-null int64\n",
      "CO_CURSO_EDUC_PROFISSIONAL       3642 non-null float64\n",
      "TP_UNIFICADA                     147267 non-null int64\n",
      "TP_TIPO_TURMA                    147267 non-null int64\n",
      "CO_ENTIDADE                      147267 non-null int64\n",
      "CO_REGIAO                        147267 non-null int64\n",
      "CO_MESORREGIAO                   147267 non-null int64\n",
      "CO_MICRORREGIAO                  147267 non-null int64\n",
      "CO_UF                            147267 non-null int64\n",
      "CO_MUNICIPIO                     147267 non-null int64\n",
      "CO_DISTRITO                      147267 non-null int64\n",
      "TP_DEPENDENCIA                   147267 non-null int64\n",
      "TP_LOCALIZACAO                   147267 non-null int64\n",
      "TP_CATEGORIA_ESCOLA_PRIVADA      0 non-null float64\n",
      "IN_CONVENIADA_PP                 0 non-null float64\n",
      "TP_CONVENIO_PODER_PUBLICO        0 non-null float64\n",
      "IN_MANT_ESCOLA_PRIVADA_EMP       0 non-null float64\n",
      "IN_MANT_ESCOLA_PRIVADA_ONG       0 non-null float64\n",
      "IN_MANT_ESCOLA_PRIVADA_SIND      0 non-null float64\n",
      "IN_MANT_ESCOLA_PRIVADA_SIST_S    0 non-null float64\n",
      "IN_MANT_ESCOLA_PRIVADA_S_FINS    0 non-null float64\n",
      "TP_REGULAMENTACAO                147267 non-null int64\n",
      "TP_LOCALIZACAO_DIFERENCIADA      147267 non-null int64\n",
      "IN_EDUCACAO_INDIGENA             147267 non-null int64\n",
      "ID                               147267 non-null int64\n",
      "IN_EVASAO                        147267 non-null int64\n",
      "dtypes: float64(49), int64(43)\n",
      "memory usage: 104.5 MB\n"
     ]
    }
   ],
   "source": [
    "df_alunos = df_alunos[df_alunos['CO_ENTIDADE'].isin(df_escolas['CO_ENTIDADE'])]\n",
    "df_alunos.info()"
   ]
  },
  {
   "cell_type": "code",
   "execution_count": 235,
   "metadata": {
    "collapsed": true
   },
   "outputs": [
    {
     "data": {
      "text/plain": [
       "3304557    42428\n",
       "3301702    11584\n",
       "3303500     9261\n",
       "3304904     8545\n",
       "3305109     6452\n",
       "3300456     4933\n",
       "3301009     4659\n",
       "3303302     4447\n",
       "3302502     3365\n",
       "3303906     2958\n",
       "3301900     2712\n",
       "3303203     2631\n",
       "3306305     2581\n",
       "3302403     2404\n",
       "3300100     2062\n",
       "3305802     2047\n",
       "3300407     1865\n",
       "3302858     1694\n",
       "3304144     1650\n",
       "3303401     1591\n",
       "3300704     1560\n",
       "3304201     1543\n",
       "3304524     1397\n",
       "3302700     1382\n",
       "3302007     1224\n",
       "3302205     1014\n",
       "3305208     1012\n",
       "3305505      830\n",
       "3300803      828\n",
       "3300308      813\n",
       "           ...  \n",
       "3305406      227\n",
       "3301801      221\n",
       "3304409      213\n",
       "3301504      201\n",
       "3303104      191\n",
       "3301207      184\n",
       "3304102      174\n",
       "3303955      159\n",
       "3301108      154\n",
       "3301603      151\n",
       "3302056      121\n",
       "3304128      115\n",
       "3306156      111\n",
       "3300902      111\n",
       "3300225      107\n",
       "3304003      106\n",
       "3304607      104\n",
       "3302304       95\n",
       "3304508       93\n",
       "3305703       91\n",
       "3301157       89\n",
       "3300159       87\n",
       "3302452       86\n",
       "3305307       81\n",
       "3300951       78\n",
       "3305901       65\n",
       "3302809       59\n",
       "3305133       59\n",
       "3301405       53\n",
       "3300258       25\n",
       "Name: CO_MUNICIPIO, Length: 87, dtype: int64"
      ]
     },
     "execution_count": 235,
     "metadata": {},
     "output_type": "execute_result"
    }
   ],
   "source": [
    "df_alunos['CO_MUNICIPIO'].value_counts()"
   ]
  },
  {
   "cell_type": "code",
   "execution_count": 236,
   "metadata": {},
   "outputs": [],
   "source": [
    "df_escolas.to_csv(TREAT_PATH / 'analysis' / 'df_escolas16.csv')"
   ]
  },
  {
   "cell_type": "code",
   "execution_count": 237,
   "metadata": {},
   "outputs": [],
   "source": [
    "df_alunos.to_csv(TREAT_PATH / 'analysis' / 'df_alunos16.csv')"
   ]
  },
  {
   "cell_type": "markdown",
   "metadata": {},
   "source": [
    "## Rascunhos"
   ]
  },
  {
   "cell_type": "raw",
   "metadata": {},
   "source": [
    "print(shp_escolas.loc[0]['geometry'])"
   ]
  },
  {
   "cell_type": "raw",
   "metadata": {},
   "source": [
    "p1 = [i.strip('(),') for i in str(shp_escolas.loc[0]['geometry']).split()[1:3]]\n",
    "p1"
   ]
  },
  {
   "cell_type": "raw",
   "metadata": {},
   "source": [
    "p2 = [i.strip('(),') for i in str(shp_escolas.loc[0]['RAIO_1km']).split()[1:3]]\n",
    "p2"
   ]
  },
  {
   "cell_type": "raw",
   "metadata": {},
   "source": [
    "from math import sin, cos, sqrt, atan2, radians\n",
    "\n",
    "# approximate radius of earth in km\n",
    "R = 6373.0\n",
    "\n",
    "lat1, lon1 = radians(float(p1[0])), radians(float(p1[1]))\n",
    "lat2, lon2 = radians(float(p2[0])), radians(float(p2[1]))\n",
    "\n",
    "\n",
    "dlon = lon2 - lon1\n",
    "dlat = lat2 - lat1\n",
    "\n",
    "a = sin(dlat / 2)**2 + cos(lat1) * cos(lat2) * sin(dlon / 2)**2\n",
    "c = 2 * atan2(sqrt(a), sqrt(1 - a))\n",
    "\n",
    "dist_comum = R * c\n",
    "dist_comum"
   ]
  },
  {
   "cell_type": "raw",
   "metadata": {},
   "source": [
    "p2 = [i.strip('(),') for i in str(shp_escolas.loc[0]['RAIO_5km']).split()[1:3]]\n",
    "p2"
   ]
  },
  {
   "cell_type": "raw",
   "metadata": {},
   "source": [
    "# approximate radius of earth in km\n",
    "R = 6373.0\n",
    "\n",
    "lat1, lon1 = radians(float(p1[0])), radians(float(p1[1]))\n",
    "lat2, lon2 = radians(float(p2[0])), radians(float(p2[1]))\n",
    "\n",
    "\n",
    "dlon = lon2 - lon1\n",
    "dlat = lat2 - lat1\n",
    "\n",
    "a = sin(dlat / 2)**2 + cos(lat1) * cos(lat2) * sin(dlon / 2)**2\n",
    "c = 2 * atan2(sqrt(a), sqrt(1 - a))\n",
    "\n",
    "dist_comum = R * c\n",
    "dist_comum"
   ]
  },
  {
   "cell_type": "raw",
   "metadata": {},
   "source": [
    "### (Testes) Áreas de complexos\n",
    "\n",
    "- Ao todo, são 80 complexos geolocalizados do RJ"
   ]
  },
  {
   "cell_type": "raw",
   "metadata": {
    "collapsed": true
   },
   "source": [
    "shp_complexos = gpd.GeoDataFrame.from_file(RAW_PATH / 'shp_hab_complexos' / 'hab_complexos.shp')\n",
    "\n",
    "# Formatando colunas\n",
    "shp_complexos.columns = [i.upper() if i != 'geometry' else i for i in shp_complexos.columns]\n",
    "shp_complexos.info()"
   ]
  },
  {
   "cell_type": "raw",
   "metadata": {
    "collapsed": true
   },
   "source": [
    "# from pylab import rcParams\n",
    "# rcParams['figure.figsize'] = 20, 20\n",
    "shp_complexos.plot()"
   ]
  },
  {
   "cell_type": "raw",
   "metadata": {},
   "source": [
    "#### Visualizando escolas, comunidades e complexos"
   ]
  },
  {
   "cell_type": "raw",
   "metadata": {
    "collapsed": true
   },
   "source": [
    "rcParams['figure.figsize'] = 20, 20\n",
    "\n",
    "ax = shp_escolas.plot(markersize=4)\n",
    "\n",
    "shp_comunidades.plot(ax=ax, color='red')\n",
    "shp_complexos.plot(ax=ax, color='orange')"
   ]
  },
  {
   "cell_type": "raw",
   "metadata": {},
   "source": [
    "### (Testes): Escola no complexo e fora\n",
    "\n",
    "- Utilizamos a função `nearest_points`, que retorna o ponto mais próximo de cada geometria passada `g1`, `g2`"
   ]
  },
  {
   "cell_type": "raw",
   "metadata": {},
   "source": [
    "shp_complexos[shp_complexos['COMPLEXO'].str.upper() == 'COMPLEXO DO CAJU']"
   ]
  },
  {
   "cell_type": "raw",
   "metadata": {
    "collapsed": true
   },
   "source": [
    "ax = shp_complexos.iloc[36:37].plot()\n",
    "shp_escolas.loc[[629, 1043]].plot(ax=ax, color='red', markersize=4)"
   ]
  },
  {
   "cell_type": "raw",
   "metadata": {},
   "source": [
    "from shapely.geometry import Point, LinearRing, MultiPolygon\n",
    "\n",
    "def project_point(point, poly):\n",
    "    pol_ext = LinearRing(poly.exterior.coords)\n",
    "    d = pol_ext.project(point)\n",
    "    p = pol_ext.interpolate(d)\n",
    "    \n",
    "    closest_point = list(p.coords)[0]\n",
    "    return closest_point\n",
    "\n",
    "\n",
    "def calculate_dist_comunidade(escola, comunidade):\n",
    "    \n",
    "    if type(comunidade) == MultiPolygon:\n",
    "        closest_points = [project_point(escola, shape) for shape in comunidade]\n",
    "        distances = [escola.distance(Point(p)) for p in closest_points]\n",
    "\n",
    "        d_min = np.argmin(distances)\n",
    "        dist = distances[d_min]\n",
    "        closest_point = closest_points[d_min]\n",
    "\n",
    "    else:\n",
    "        closest_point = project_point(escola, comunidade)\n",
    "        dist = escola.distance(Point(closest_point))\n",
    "\n",
    "    return closest_point, dist"
   ]
  },
  {
   "cell_type": "raw",
   "metadata": {},
   "source": [
    "from shapely.ops import nearest_points\n",
    "\n",
    "poly = shp_complexos.loc[36]['geometry']\n",
    "\n",
    "def test_dist(point):\n",
    "    point = point['geometry']\n",
    "    print('\\nEscola:', point)\n",
    "\n",
    "    print('\\n==> shapely.nearest_points:')\n",
    "    closest = nearest_points(poly, point)\n",
    "    closest = [i.coords[0] for i in closest][0]\n",
    "    dist = point.distance(Point(closest))\n",
    "\n",
    "    print('Ponto + proximo:', closest)\n",
    "    print('\\nPertence ao polígono?', Point(closest).intersects(poly))\n",
    "    print('Distância:', dist)\n",
    "    \n",
    "    print('\\n==> distancia pela borda:')\n",
    "    closes, dist = calculate_dist_comunidade(point, poly)\n",
    "    print('Ponto + proximo:', closest)\n",
    "    print('\\nPertence ao polígono?', Point(closest).intersects(poly))\n",
    "    print('Distância:', dist)"
   ]
  },
  {
   "cell_type": "raw",
   "metadata": {},
   "source": [
    "test_dist(shp_escolas.loc[1043])"
   ]
  },
  {
   "cell_type": "raw",
   "metadata": {},
   "source": [
    "test_dist(shp_escolas.loc[629])"
   ]
  },
  {
   "cell_type": "raw",
   "metadata": {},
   "source": [
    "#### Complexo mais próximo"
   ]
  },
  {
   "cell_type": "raw",
   "metadata": {},
   "source": [
    "from tqdm import tqdm\n",
    "tqdm.pandas()\n",
    "\n",
    "def closest_complexo(escola, tag='bultin'):\n",
    "\n",
    "    point = 0\n",
    "    distance = 1000\n",
    "    nome = ''\n",
    "    \n",
    "    for complexo in shp_complexos['geometry']:\n",
    "        \n",
    "        if tag == 'bultin':\n",
    "            closest_point = [i.coords[0] for i in nearest_points(complexo, escola)][0]\n",
    "            closest_dist = escola.distance(Point(closest_point))\n",
    "            \n",
    "        if tag == 'my_dist':\n",
    "            closest_point, closest_dist = calculate_dist_complexo(escola, complexo)\n",
    "        \n",
    "        if closest_dist < distance:\n",
    "            point = closest_point\n",
    "            distance = closest_dist\n",
    "            nome = shp_complexos[shp_complexos['geometry'] == complexo]['COMPLEXO'].values[0]\n",
    "        \n",
    "    return nome, point, distance"
   ]
  },
  {
   "cell_type": "raw",
   "metadata": {
    "scrolled": true
   },
   "source": [
    "shp_escolas['complexo_prox'], shp_escolas['complexo_point'], shp_escolas['complexo_dist'] = zip(*shp_escolas['geometry'].progress_apply(lambda x: closest_complexo(x)))"
   ]
  },
  {
   "cell_type": "raw",
   "metadata": {},
   "source": [
    "shp_escolas.head()"
   ]
  },
  {
   "cell_type": "raw",
   "metadata": {},
   "source": [
    "# from tqdm import tqdm\n",
    "# tqdm.pandas()\n",
    "\n",
    "def closest_comunidade(escola, tag='bultin'):\n",
    "\n",
    "    point = 0\n",
    "    distance = 1000\n",
    "    nome = ''\n",
    "    \n",
    "    for comunidade in shp_comunidades['geometry']:\n",
    "        \n",
    "        if tag == 'bultin':\n",
    "            closest_point = [i.coords[0] for i in nearest_points(comunidade, escola)][0]\n",
    "            closest_dist = escola.distance(Point(closest_point))\n",
    "            \n",
    "        if tag == 'my_dist':\n",
    "            closest_point, closest_dist = calculate_dist_comunidade(escola, comunidade)\n",
    "        \n",
    "        if closest_dist < distance:\n",
    "            point = closest_point\n",
    "            distance = closest_dist\n",
    "            nome = shp_comunidades[shp_comunidades['geometry'] == comunidade]['COMUNIDADE'].values[0]\n",
    "        \n",
    "    return nome, point, distance"
   ]
  },
  {
   "cell_type": "raw",
   "metadata": {
    "collapsed": true
   },
   "source": [
    "shp_escolas['comunidade_prox'], shp_escolas['comunidade_point'], shp_escolas['comunidade_dist'] = zip(*shp_escolas['geometry'].progress_apply(lambda x: closest_comunidade(x)))"
   ]
  },
  {
   "cell_type": "raw",
   "metadata": {},
   "source": [
    "#### Distância em km"
   ]
  },
  {
   "cell_type": "raw",
   "metadata": {},
   "source": [
    "# from geopy.distance import vincenty\n",
    "from math import sin, cos, sqrt, atan2, radians\n",
    "\n",
    "\n",
    "def calculate_dist_lat_long(lat1, lon1, lat2, lon2):\n",
    "\n",
    "    dlon = lon2 - lon1\n",
    "    dlat = lat2 - lat1\n",
    "\n",
    "    a = sin(dlat / 2)**2 + cos(lat1) * cos(lat2) * sin(dlon / 2)**2\n",
    "    c = 2 * atan2(sqrt(a), sqrt(1 - a))\n",
    "\n",
    "    dist_comum = R * c\n",
    "    \n",
    "def calculate_dist_km(row):\n",
    "    \n",
    "    # approximate radius of earth in km\n",
    "    R = 6373.0\n",
    "    \n",
    "    p1 = [i.strip('()') for i in str(row['geometry']).split()][1:]\n",
    "    lat1, lon1 = radians(float(p1[0])), radians(float(p1[1]))\n",
    "    \n",
    "    # Distancia km comunidade\n",
    "    p2 = row['comunidade_point']\n",
    "    lat2, lon2 = radians(float(p2[0])), radians(float(p2[1]))\n",
    "    \n",
    "    dist_comun = calculate_dist_lat_long(lat1, lon1, lat2, lon2)\n",
    "    \n",
    "    # Distancia km complexo\n",
    "    p3 = row['complexo_point']\n",
    "    lat3, lon3 = radians(float(p3[0])), radians(float(p3[1]))\n",
    "    \n",
    "    dist_compl = calculate_dist_lat_long(lat1, lon1, lat3, lon3)\n",
    "    \n",
    "    return dist_comun, dist_compl"
   ]
  },
  {
   "cell_type": "raw",
   "metadata": {},
   "source": [
    "shp_escolas['comunidade_dist_km'], shp_escolas['complexo_dist_km'] = shp_escolas.apply(calculate_dist_km, axis=1)\n",
    "shp_escolas.loc[1043]#['comunidade_dist_km']"
   ]
  },
  {
   "cell_type": "raw",
   "metadata": {},
   "source": [
    "#### Distribuição das distâncias"
   ]
  },
  {
   "cell_type": "raw",
   "metadata": {},
   "source": [
    "shp_escolas['comunidade_dist_km'].describe()"
   ]
  },
  {
   "cell_type": "raw",
   "metadata": {},
   "source": [
    "pd.cut(shp_escolas['comunidade_dist_km'], bins=5).unique()"
   ]
  },
  {
   "cell_type": "raw",
   "metadata": {},
   "source": [
    "pd.cut(shp_escolas['comunidade_dist_km'], bins=5).value_counts()"
   ]
  },
  {
   "cell_type": "raw",
   "metadata": {},
   "source": [
    "rcParams['figure.figsize'] = 15, 5\n",
    "shp_escolas['comunidade_dist_km'].hist(bins='fd')"
   ]
  },
  {
   "cell_type": "raw",
   "metadata": {
    "scrolled": true
   },
   "source": [
    "# shp_escolas[shp_escolas['comunidade_dist_km'] < 10]['comunidade_dist_km'].hist(bins='fd')"
   ]
  }
 ],
 "metadata": {
  "kernelspec": {
   "display_name": "Python 3",
   "language": "python",
   "name": "python3"
  },
  "language_info": {
   "codemirror_mode": {
    "name": "ipython",
    "version": 3
   },
   "file_extension": ".py",
   "mimetype": "text/x-python",
   "name": "python",
   "nbconvert_exporter": "python",
   "pygments_lexer": "ipython3",
   "version": "3.7.4"
  },
  "toc": {
   "base_numbering": 1,
   "nav_menu": {},
   "number_sections": true,
   "sideBar": true,
   "skip_h1_title": true,
   "title_cell": "Table of Contents",
   "title_sidebar": "Contents",
   "toc_cell": true,
   "toc_position": {},
   "toc_section_display": true,
   "toc_window_display": false
  }
 },
 "nbformat": 4,
 "nbformat_minor": 2
}
