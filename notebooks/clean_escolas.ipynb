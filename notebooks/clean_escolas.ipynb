{
 "cells": [
  {
   "cell_type": "markdown",
   "metadata": {
    "toc": true
   },
   "source": [
    "<h1>Table of Contents<span class=\"tocSkip\"></span></h1>\n",
    "<div class=\"toc\"><ul class=\"toc-item\"></ul></div>"
   ]
  },
  {
   "cell_type": "code",
   "execution_count": 22,
   "metadata": {},
   "outputs": [
    {
     "data": {
      "text/html": [
       "<script>requirejs.config({paths: { 'plotly': ['https://cdn.plot.ly/plotly-latest.min']},});if(!window.Plotly) {{require(['plotly'],function(plotly) {window.Plotly=plotly;});}}</script>"
      ],
      "text/vnd.plotly.v1+html": [
       "<script>requirejs.config({paths: { 'plotly': ['https://cdn.plot.ly/plotly-latest.min']},});if(!window.Plotly) {{require(['plotly'],function(plotly) {window.Plotly=plotly;});}}</script>"
      ]
     },
     "metadata": {},
     "output_type": "display_data"
    }
   ],
   "source": [
    "# %load first_cell.py\n",
    "%reload_ext autoreload\n",
    "%autoreload 2\n",
    "\n",
    "from paths import RAW_PATH, TREAT_PATH, OUTPUT_PATH, FIGURES_PATH\n",
    "\n",
    "from copy import deepcopy\n",
    "import numpy as np\n",
    "import pandas as pd\n",
    "pd.options.display.max_columns = 999\n",
    "import pandas_profiling\n",
    "\n",
    "import warnings\n",
    "warnings.filterwarnings('ignore')\n",
    "\n",
    "# Plotting\n",
    "import plotly\n",
    "import plotly.graph_objs as go\n",
    "# import cufflinks as cf\n",
    "plotly.offline.init_notebook_mode(connected=True)\n",
    "\n",
    "# cf.go_offline()\n",
    "# cf.set_config_file(offline=False, world_readable=True)"
   ]
  },
  {
   "cell_type": "code",
   "execution_count": 35,
   "metadata": {},
   "outputs": [
    {
     "name": "stdout",
     "output_type": "stream",
     "text": [
      "<class 'pandas.core.frame.DataFrame'>\n",
      "RangeIndex: 279358 entries, 0 to 279357\n",
      "Columns: 166 entries, NU_ANO_CENSO to IN_ESP_EXCLUSIVA_PROF\n",
      "dtypes: float64(151), int64(11), object(4)\n",
      "memory usage: 353.8+ MB\n"
     ]
    }
   ],
   "source": [
    "escolas_16 = pd.read_csv(RAW_PATH / 'censo' / 'escolas_2016.csv', encoding='latin1', sep='|')\n",
    "escolas_16.info()"
   ]
  },
  {
   "cell_type": "code",
   "execution_count": 36,
   "metadata": {
    "scrolled": true
   },
   "outputs": [
    {
     "data": {
      "text/plain": [
       "array(['NU_ANO_CENSO', 'CO_ENTIDADE', 'NO_ENTIDADE', 'CO_ORGAO_REGIONAL',\n",
       "       'TP_SITUACAO_FUNCIONAMENTO', 'DT_ANO_LETIVO_INICIO',\n",
       "       'DT_ANO_LETIVO_TERMINO', 'CO_REGIAO', 'CO_MESORREGIAO',\n",
       "       'CO_MICRORREGIAO', 'CO_UF', 'CO_MUNICIPIO', 'CO_DISTRITO',\n",
       "       'TP_DEPENDENCIA', 'TP_LOCALIZACAO', 'TP_CATEGORIA_ESCOLA_PRIVADA',\n",
       "       'IN_CONVENIADA_PP', 'TP_CONVENIO_PODER_PUBLICO',\n",
       "       'IN_MANT_ESCOLA_PRIVADA_EMP', 'IN_MANT_ESCOLA_PRIVADA_ONG',\n",
       "       'IN_MANT_ESCOLA_PRIVADA_SIND', 'IN_MANT_ESCOLA_PRIVADA_SIST_S',\n",
       "       'IN_MANT_ESCOLA_PRIVADA_S_FINS', 'CO_ESCOLA_SEDE_VINCULADA',\n",
       "       'CO_IES_OFERTANTE', 'TP_REGULAMENTACAO',\n",
       "       'IN_LOCAL_FUNC_PREDIO_ESCOLAR', 'TP_OCUPACAO_PREDIO_ESCOLAR',\n",
       "       'IN_LOCAL_FUNC_SALAS_EMPRESA', 'IN_LOCAL_FUNC_SOCIOEDUCATIVO',\n",
       "       'IN_LOCAL_FUNC_UNID_PRISIONAL', 'IN_LOCAL_FUNC_PRISIONAL_SOCIO',\n",
       "       'IN_LOCAL_FUNC_TEMPLO_IGREJA', 'IN_LOCAL_FUNC_CASA_PROFESSOR',\n",
       "       'IN_LOCAL_FUNC_GALPAO', 'TP_OCUPACAO_GALPAO',\n",
       "       'IN_LOCAL_FUNC_SALAS_OUTRA_ESC', 'IN_LOCAL_FUNC_OUTROS',\n",
       "       'IN_PREDIO_COMPARTILHADO', 'IN_AGUA_FILTRADA',\n",
       "       'IN_AGUA_REDE_PUBLICA', 'IN_AGUA_POCO_ARTESIANO',\n",
       "       'IN_AGUA_CACIMBA', 'IN_AGUA_FONTE_RIO', 'IN_AGUA_INEXISTENTE',\n",
       "       'IN_ENERGIA_REDE_PUBLICA', 'IN_ENERGIA_GERADOR',\n",
       "       'IN_ENERGIA_OUTROS', 'IN_ENERGIA_INEXISTENTE',\n",
       "       'IN_ESGOTO_REDE_PUBLICA', 'IN_ESGOTO_FOSSA',\n",
       "       'IN_ESGOTO_INEXISTENTE', 'IN_LIXO_COLETA_PERIODICA',\n",
       "       'IN_LIXO_QUEIMA', 'IN_LIXO_JOGA_OUTRA_AREA', 'IN_LIXO_RECICLA',\n",
       "       'IN_LIXO_ENTERRA', 'IN_LIXO_OUTROS', 'IN_SALA_DIRETORIA',\n",
       "       'IN_SALA_PROFESSOR', 'IN_LABORATORIO_INFORMATICA',\n",
       "       'IN_LABORATORIO_CIENCIAS', 'IN_SALA_ATENDIMENTO_ESPECIAL',\n",
       "       'IN_QUADRA_ESPORTES_COBERTA', 'IN_QUADRA_ESPORTES_DESCOBERTA',\n",
       "       'IN_QUADRA_ESPORTES', 'IN_COZINHA', 'IN_BIBLIOTECA',\n",
       "       'IN_SALA_LEITURA', 'IN_BIBLIOTECA_SALA_LEITURA',\n",
       "       'IN_PARQUE_INFANTIL', 'IN_BERCARIO', 'IN_BANHEIRO_FORA_PREDIO',\n",
       "       'IN_BANHEIRO_DENTRO_PREDIO', 'IN_BANHEIRO_EI', 'IN_BANHEIRO_PNE',\n",
       "       'IN_DEPENDENCIAS_PNE', 'IN_SECRETARIA', 'IN_BANHEIRO_CHUVEIRO',\n",
       "       'IN_REFEITORIO', 'IN_DESPENSA', 'IN_ALMOXARIFADO', 'IN_AUDITORIO',\n",
       "       'IN_PATIO_COBERTO', 'IN_PATIO_DESCOBERTO', 'IN_ALOJAM_ALUNO',\n",
       "       'IN_ALOJAM_PROFESSOR', 'IN_AREA_VERDE', 'IN_LAVANDERIA',\n",
       "       'IN_DEPENDENCIAS_OUTRAS', 'NU_SALAS_EXISTENTES',\n",
       "       'NU_SALAS_UTILIZADAS', 'IN_EQUIP_TV', 'IN_EQUIP_VIDEOCASSETE',\n",
       "       'IN_EQUIP_DVD', 'IN_EQUIP_PARABOLICA', 'IN_EQUIP_COPIADORA',\n",
       "       'IN_EQUIP_RETROPROJETOR', 'IN_EQUIP_IMPRESSORA',\n",
       "       'IN_EQUIP_IMPRESSORA_MULT', 'IN_EQUIP_SOM', 'IN_EQUIP_MULTIMIDIA',\n",
       "       'IN_EQUIP_FAX', 'IN_EQUIP_FOTO', 'IN_COMPUTADOR', 'NU_EQUIP_TV',\n",
       "       'NU_EQUIP_VIDEOCASSETE', 'NU_EQUIP_DVD', 'NU_EQUIP_PARABOLICA',\n",
       "       'NU_EQUIP_COPIADORA', 'NU_EQUIP_RETROPROJETOR',\n",
       "       'NU_EQUIP_IMPRESSORA', 'NU_EQUIP_IMPRESSORA_MULT', 'NU_EQUIP_SOM',\n",
       "       'NU_EQUIP_MULTIMIDIA', 'NU_EQUIP_FAX', 'NU_EQUIP_FOTO',\n",
       "       'NU_COMPUTADOR', 'NU_COMP_ADMINISTRATIVO', 'NU_COMP_ALUNO',\n",
       "       'IN_INTERNET', 'IN_BANDA_LARGA', 'NU_FUNCIONARIOS',\n",
       "       'IN_ALIMENTACAO', 'TP_AEE', 'TP_ATIVIDADE_COMPLEMENTAR',\n",
       "       'IN_FUNDAMENTAL_CICLOS', 'TP_LOCALIZACAO_DIFERENCIADA',\n",
       "       'IN_MATERIAL_ESP_QUILOMBOLA', 'IN_MATERIAL_ESP_INDIGENA',\n",
       "       'IN_MATERIAL_ESP_NAO_UTILIZA', 'IN_EDUCACAO_INDIGENA',\n",
       "       'TP_INDIGENA_LINGUA', 'CO_LINGUA_INDIGENA',\n",
       "       'IN_BRASIL_ALFABETIZADO', 'IN_FINAL_SEMANA',\n",
       "       'IN_FORMACAO_ALTERNANCIA', 'IN_MEDIACAO_PRESENCIAL',\n",
       "       'IN_MEDIACAO_SEMIPRESENCIAL', 'IN_MEDIACAO_EAD',\n",
       "       'IN_ESPECIAL_EXCLUSIVA', 'IN_REGULAR', 'IN_EJA',\n",
       "       'IN_PROFISSIONALIZANTE', 'IN_COMUM_CRECHE', 'IN_COMUM_PRE',\n",
       "       'IN_COMUM_FUND_AI', 'IN_COMUM_FUND_AF', 'IN_COMUM_MEDIO_MEDIO',\n",
       "       'IN_COMUM_MEDIO_INTEGRADO', 'IN_COMUM_MEDIO_NORMAL',\n",
       "       'IN_ESP_EXCLUSIVA_CRECHE', 'IN_ESP_EXCLUSIVA_PRE',\n",
       "       'IN_ESP_EXCLUSIVA_FUND_AI', 'IN_ESP_EXCLUSIVA_FUND_AF',\n",
       "       'IN_ESP_EXCLUSIVA_MEDIO_MEDIO', 'IN_ESP_EXCLUSIVA_MEDIO_INTEGR',\n",
       "       'IN_ESP_EXCLUSIVA_MEDIO_NORMAL', 'IN_COMUM_EJA_FUND',\n",
       "       'IN_COMUM_EJA_MEDIO', 'IN_COMUM_EJA_PROF',\n",
       "       'IN_ESP_EXCLUSIVA_EJA_FUND', 'IN_ESP_EXCLUSIVA_EJA_MEDIO',\n",
       "       'IN_ESP_EXCLUSIVA_EJA_PROF', 'IN_COMUM_PROF',\n",
       "       'IN_ESP_EXCLUSIVA_PROF'], dtype=object)"
      ]
     },
     "execution_count": 36,
     "metadata": {},
     "output_type": "execute_result"
    }
   ],
   "source": [
    "escolas_16.columns.values"
   ]
  },
  {
   "cell_type": "code",
   "execution_count": 37,
   "metadata": {},
   "outputs": [],
   "source": [
    "escolas_16 = escolas_16[escolas_16['TP_DEPENDENCIA'] == 2] # Escolas estaduais\n",
    "escolas_16 = escolas_16[escolas_16['CO_UF'] == 33] # no RJ"
   ]
  },
  {
   "cell_type": "code",
   "execution_count": 38,
   "metadata": {},
   "outputs": [],
   "source": [
    "cols = ['NU_ANO_CENSO', 'CO_ENTIDADE', 'CO_MUNICIPIO', 'IN_AGUA_FILTRADA', \n",
    "        'IN_AGUA_INEXISTENTE', 'IN_ENERGIA_INEXISTENTE', 'IN_LIXO_COLETA_PERIODICA', 'IN_LABORATORIO_INFORMATICA', \n",
    "        'IN_LABORATORIO_CIENCIAS', 'IN_QUADRA_ESPORTES', 'IN_COZINHA', 'IN_REFEITORIO', 'IN_BIBLIOTECA',\n",
    "        'IN_BANHEIRO_FORA_PREDIO', 'IN_BANHEIRO_DENTRO_PREDIO', 'IN_AREA_VERDE', 'NU_COMP_ALUNO', 'IN_ALIMENTACAO']\n",
    "\n",
    "escolas_16 = escolas_16[cols]"
   ]
  },
  {
   "cell_type": "code",
   "execution_count": 39,
   "metadata": {},
   "outputs": [
    {
     "name": "stdout",
     "output_type": "stream",
     "text": [
      "<class 'pandas.core.frame.DataFrame'>\n",
      "Int64Index: 1689 entries, 4012 to 275339\n",
      "Data columns (total 18 columns):\n",
      "NU_ANO_CENSO                  1689 non-null int64\n",
      "CO_ENTIDADE                   1689 non-null int64\n",
      "CO_MUNICIPIO                  1689 non-null int64\n",
      "IN_AGUA_FILTRADA              1324 non-null float64\n",
      "IN_AGUA_INEXISTENTE           1324 non-null float64\n",
      "IN_ENERGIA_INEXISTENTE        1324 non-null float64\n",
      "IN_LIXO_COLETA_PERIODICA      1324 non-null float64\n",
      "IN_LABORATORIO_INFORMATICA    1324 non-null float64\n",
      "IN_LABORATORIO_CIENCIAS       1324 non-null float64\n",
      "IN_QUADRA_ESPORTES            1324 non-null float64\n",
      "IN_COZINHA                    1324 non-null float64\n",
      "IN_REFEITORIO                 1324 non-null float64\n",
      "IN_BIBLIOTECA                 1324 non-null float64\n",
      "IN_BANHEIRO_FORA_PREDIO       1324 non-null float64\n",
      "IN_BANHEIRO_DENTRO_PREDIO     1324 non-null float64\n",
      "IN_AREA_VERDE                 1324 non-null float64\n",
      "NU_COMP_ALUNO                 1324 non-null float64\n",
      "IN_ALIMENTACAO                1324 non-null float64\n",
      "dtypes: float64(15), int64(3)\n",
      "memory usage: 250.7 KB\n"
     ]
    }
   ],
   "source": [
    "escolas_16.info() # próximo ao total na base"
   ]
  },
  {
   "cell_type": "code",
   "execution_count": 40,
   "metadata": {},
   "outputs": [],
   "source": [
    "escolas_16.to_csv(TREAT_PATH / 'censo' / 'cleaned_escolas_rj_2016.csv')"
   ]
  }
 ],
 "metadata": {
  "kernelspec": {
   "display_name": "Python 3",
   "language": "python",
   "name": "python3"
  },
  "language_info": {
   "codemirror_mode": {
    "name": "ipython",
    "version": 3
   },
   "file_extension": ".py",
   "mimetype": "text/x-python",
   "name": "python",
   "nbconvert_exporter": "python",
   "pygments_lexer": "ipython3",
   "version": "3.7.4"
  },
  "toc": {
   "base_numbering": 1,
   "nav_menu": {},
   "number_sections": true,
   "sideBar": true,
   "skip_h1_title": true,
   "title_cell": "Table of Contents",
   "title_sidebar": "Contents",
   "toc_cell": true,
   "toc_position": {},
   "toc_section_display": true,
   "toc_window_display": false
  }
 },
 "nbformat": 4,
 "nbformat_minor": 2
}
