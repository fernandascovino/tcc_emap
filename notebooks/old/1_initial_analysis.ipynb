{
 "cells": [
  {
   "cell_type": "markdown",
   "metadata": {
    "toc": true
   },
   "source": [
    "<h1>Table of Contents<span class=\"tocSkip\"></span></h1>\n",
    "<div class=\"toc\"><ul class=\"toc-item\"><li><span><a href=\"#Inferência-do-INSE\" data-toc-modified-id=\"Inferência-do-INSE-1\"><span class=\"toc-item-num\">1&nbsp;&nbsp;</span>Inferência do INSE</a></span></li><li><span><a href=\"#Percentual-de-evasão\" data-toc-modified-id=\"Percentual-de-evasão-2\"><span class=\"toc-item-num\">2&nbsp;&nbsp;</span>Percentual de evasão</a></span></li><li><span><a href=\"#Cruzamentos-com-dados-de-aluno\" data-toc-modified-id=\"Cruzamentos-com-dados-de-aluno-3\"><span class=\"toc-item-num\">3&nbsp;&nbsp;</span>Cruzamentos com dados de aluno</a></span><ul class=\"toc-item\"><li><span><a href=\"#Sexo\" data-toc-modified-id=\"Sexo-3.1\"><span class=\"toc-item-num\">3.1&nbsp;&nbsp;</span>Sexo</a></span></li><li><span><a href=\"#Distorção-Idade-Série\" data-toc-modified-id=\"Distorção-Idade-Série-3.2\"><span class=\"toc-item-num\">3.2&nbsp;&nbsp;</span>Distorção Idade-Série</a></span></li><li><span><a href=\"#Transporte-público\" data-toc-modified-id=\"Transporte-público-3.3\"><span class=\"toc-item-num\">3.3&nbsp;&nbsp;</span>Transporte público</a></span></li><li><span><a href=\"#Município-da-escola\" data-toc-modified-id=\"Município-da-escola-3.4\"><span class=\"toc-item-num\">3.4&nbsp;&nbsp;</span>Município da escola</a></span></li><li><span><a href=\"#Tamanho-da-turma\" data-toc-modified-id=\"Tamanho-da-turma-3.5\"><span class=\"toc-item-num\">3.5&nbsp;&nbsp;</span>Tamanho da turma</a></span></li></ul></li><li><span><a href=\"#Cruzamentos-com-dados-da-escola\" data-toc-modified-id=\"Cruzamentos-com-dados-da-escola-4\"><span class=\"toc-item-num\">4&nbsp;&nbsp;</span>Cruzamentos com dados da escola</a></span></li></ul></div>"
   ]
  },
  {
   "cell_type": "code",
   "execution_count": 1,
   "metadata": {},
   "outputs": [
    {
     "data": {
      "text/html": [
       "        <script type=\"text/javascript\">\n",
       "        window.PlotlyConfig = {MathJaxConfig: 'local'};\n",
       "        if (window.MathJax) {MathJax.Hub.Config({SVG: {font: \"STIX-Web\"}});}\n",
       "        if (typeof require !== 'undefined') {\n",
       "        require.undef(\"plotly\");\n",
       "        requirejs.config({\n",
       "            paths: {\n",
       "                'plotly': ['https://cdn.plot.ly/plotly-latest.min']\n",
       "            }\n",
       "        });\n",
       "        require(['plotly'], function(Plotly) {\n",
       "            window._Plotly = Plotly;\n",
       "        });\n",
       "        }\n",
       "        </script>\n",
       "        "
      ]
     },
     "metadata": {},
     "output_type": "display_data"
    },
    {
     "data": {
      "text/html": [
       "        <script type=\"text/javascript\">\n",
       "        window.PlotlyConfig = {MathJaxConfig: 'local'};\n",
       "        if (window.MathJax) {MathJax.Hub.Config({SVG: {font: \"STIX-Web\"}});}\n",
       "        if (typeof require !== 'undefined') {\n",
       "        require.undef(\"plotly\");\n",
       "        requirejs.config({\n",
       "            paths: {\n",
       "                'plotly': ['https://cdn.plot.ly/plotly-latest.min']\n",
       "            }\n",
       "        });\n",
       "        require(['plotly'], function(Plotly) {\n",
       "            window._Plotly = Plotly;\n",
       "        });\n",
       "        }\n",
       "        </script>\n",
       "        "
      ]
     },
     "metadata": {},
     "output_type": "display_data"
    }
   ],
   "source": [
    "# %load first_cell.py\n",
    "%reload_ext autoreload\n",
    "%autoreload 2\n",
    "\n",
    "from paths import RAW_PATH, TREAT_PATH, OUTPUT_PATH, FIGURES_PATH\n",
    "\n",
    "import os\n",
    "from copy import deepcopy\n",
    "import numpy as np\n",
    "import pandas as pd\n",
    "pd.options.display.max_columns = 999\n",
    "import pandas_profiling\n",
    "\n",
    "import warnings\n",
    "warnings.filterwarnings('ignore')\n",
    "\n",
    "# Plotting\n",
    "import plotly\n",
    "import plotly.graph_objs as go\n",
    "import cufflinks as cf\n",
    "plotly.offline.init_notebook_mode(connected=True)\n",
    "\n",
    "import seaborn as sns\n",
    "sns.set()\n",
    "\n",
    "cf.go_offline()\n",
    "cf.set_config_file(offline=False, world_readable=True)\n",
    "\n",
    "colorscale = ['#025951', '#8BD9CA', '#BF7F30', '#F2C124', '#8C470B', '#DFC27D']"
   ]
  },
  {
   "cell_type": "code",
   "execution_count": 3,
   "metadata": {},
   "outputs": [
    {
     "name": "stdout",
     "output_type": "stream",
     "text": [
      "<class 'pandas.core.frame.DataFrame'>\n",
      "RangeIndex: 182838 entries, 0 to 182837\n",
      "Data columns (total 20 columns):\n",
      "Unnamed: 0                    182838 non-null int64\n",
      "ID                            182838 non-null int64\n",
      "CO_ENTIDADE                   182838 non-null int64\n",
      "TP_SEXO                       182838 non-null int64\n",
      "NU_IDADE                      182838 non-null int64\n",
      "IN_DISTORCAO                  182838 non-null int64\n",
      "IN_TRANSPORTE_PUBLICO         182838 non-null int64\n",
      "IN_LOCAL_ESCOLA               182838 non-null int64\n",
      "N_TURMA                       182838 non-null int64\n",
      "IN_EVASAO                     182838 non-null int64\n",
      "NU_ANO_CENSO                  182838 non-null int64\n",
      "CO_MUNICIPIO                  182838 non-null int64\n",
      "IN_LABORATORIO_INFORMATICA    182838 non-null float64\n",
      "IN_LABORATORIO_CIENCIAS       182838 non-null float64\n",
      "IN_QUADRA_ESPORTES            182838 non-null float64\n",
      "IN_BIBLIOTECA                 182838 non-null float64\n",
      "IN_BANHEIRO_FORA_PREDIO       182838 non-null float64\n",
      "IN_AREA_VERDE                 182838 non-null float64\n",
      "IN_N_COMP_15                  182838 non-null int64\n",
      "NIVEL                         149234 non-null float64\n",
      "dtypes: float64(7), int64(13)\n",
      "memory usage: 27.9 MB\n"
     ]
    }
   ],
   "source": [
    "df = pd.read_csv(TREAT_PATH / 'analysis' / 'df_alunos.csv')\n",
    "df.info()"
   ]
  },
  {
   "cell_type": "code",
   "execution_count": 4,
   "metadata": {},
   "outputs": [
    {
     "data": {
      "text/html": [
       "<div>\n",
       "<style scoped>\n",
       "    .dataframe tbody tr th:only-of-type {\n",
       "        vertical-align: middle;\n",
       "    }\n",
       "\n",
       "    .dataframe tbody tr th {\n",
       "        vertical-align: top;\n",
       "    }\n",
       "\n",
       "    .dataframe thead th {\n",
       "        text-align: right;\n",
       "    }\n",
       "</style>\n",
       "<table border=\"1\" class=\"dataframe\">\n",
       "  <thead>\n",
       "    <tr style=\"text-align: right;\">\n",
       "      <th></th>\n",
       "      <th>Unnamed: 0</th>\n",
       "      <th>ID</th>\n",
       "      <th>CO_ENTIDADE</th>\n",
       "      <th>TP_SEXO</th>\n",
       "      <th>NU_IDADE</th>\n",
       "      <th>IN_DISTORCAO</th>\n",
       "      <th>IN_TRANSPORTE_PUBLICO</th>\n",
       "      <th>IN_LOCAL_ESCOLA</th>\n",
       "      <th>N_TURMA</th>\n",
       "      <th>IN_EVASAO</th>\n",
       "      <th>NU_ANO_CENSO</th>\n",
       "      <th>CO_MUNICIPIO</th>\n",
       "      <th>IN_LABORATORIO_INFORMATICA</th>\n",
       "      <th>IN_LABORATORIO_CIENCIAS</th>\n",
       "      <th>IN_QUADRA_ESPORTES</th>\n",
       "      <th>IN_BIBLIOTECA</th>\n",
       "      <th>IN_BANHEIRO_FORA_PREDIO</th>\n",
       "      <th>IN_AREA_VERDE</th>\n",
       "      <th>IN_N_COMP_15</th>\n",
       "      <th>NIVEL</th>\n",
       "    </tr>\n",
       "  </thead>\n",
       "  <tbody>\n",
       "    <tr>\n",
       "      <th>0</th>\n",
       "      <td>0</td>\n",
       "      <td>112132289130</td>\n",
       "      <td>33009627</td>\n",
       "      <td>2</td>\n",
       "      <td>17</td>\n",
       "      <td>0</td>\n",
       "      <td>0</td>\n",
       "      <td>2</td>\n",
       "      <td>0</td>\n",
       "      <td>0</td>\n",
       "      <td>2016</td>\n",
       "      <td>3301009</td>\n",
       "      <td>1.0</td>\n",
       "      <td>1.0</td>\n",
       "      <td>1.0</td>\n",
       "      <td>1.0</td>\n",
       "      <td>1.0</td>\n",
       "      <td>0.0</td>\n",
       "      <td>1</td>\n",
       "      <td>3.0</td>\n",
       "    </tr>\n",
       "    <tr>\n",
       "      <th>1</th>\n",
       "      <td>1</td>\n",
       "      <td>113220290328</td>\n",
       "      <td>33009627</td>\n",
       "      <td>2</td>\n",
       "      <td>21</td>\n",
       "      <td>1</td>\n",
       "      <td>0</td>\n",
       "      <td>2</td>\n",
       "      <td>0</td>\n",
       "      <td>1</td>\n",
       "      <td>2016</td>\n",
       "      <td>3301009</td>\n",
       "      <td>1.0</td>\n",
       "      <td>1.0</td>\n",
       "      <td>1.0</td>\n",
       "      <td>1.0</td>\n",
       "      <td>1.0</td>\n",
       "      <td>0.0</td>\n",
       "      <td>1</td>\n",
       "      <td>3.0</td>\n",
       "    </tr>\n",
       "    <tr>\n",
       "      <th>2</th>\n",
       "      <td>2</td>\n",
       "      <td>112752673352</td>\n",
       "      <td>33009627</td>\n",
       "      <td>2</td>\n",
       "      <td>16</td>\n",
       "      <td>0</td>\n",
       "      <td>0</td>\n",
       "      <td>2</td>\n",
       "      <td>0</td>\n",
       "      <td>0</td>\n",
       "      <td>2016</td>\n",
       "      <td>3301009</td>\n",
       "      <td>1.0</td>\n",
       "      <td>1.0</td>\n",
       "      <td>1.0</td>\n",
       "      <td>1.0</td>\n",
       "      <td>1.0</td>\n",
       "      <td>0.0</td>\n",
       "      <td>1</td>\n",
       "      <td>3.0</td>\n",
       "    </tr>\n",
       "    <tr>\n",
       "      <th>3</th>\n",
       "      <td>3</td>\n",
       "      <td>117459545545</td>\n",
       "      <td>33009627</td>\n",
       "      <td>2</td>\n",
       "      <td>17</td>\n",
       "      <td>0</td>\n",
       "      <td>0</td>\n",
       "      <td>2</td>\n",
       "      <td>0</td>\n",
       "      <td>0</td>\n",
       "      <td>2016</td>\n",
       "      <td>3301009</td>\n",
       "      <td>1.0</td>\n",
       "      <td>1.0</td>\n",
       "      <td>1.0</td>\n",
       "      <td>1.0</td>\n",
       "      <td>1.0</td>\n",
       "      <td>0.0</td>\n",
       "      <td>1</td>\n",
       "      <td>3.0</td>\n",
       "    </tr>\n",
       "    <tr>\n",
       "      <th>4</th>\n",
       "      <td>4</td>\n",
       "      <td>113868062938</td>\n",
       "      <td>33009627</td>\n",
       "      <td>2</td>\n",
       "      <td>18</td>\n",
       "      <td>1</td>\n",
       "      <td>0</td>\n",
       "      <td>2</td>\n",
       "      <td>0</td>\n",
       "      <td>1</td>\n",
       "      <td>2016</td>\n",
       "      <td>3301009</td>\n",
       "      <td>1.0</td>\n",
       "      <td>1.0</td>\n",
       "      <td>1.0</td>\n",
       "      <td>1.0</td>\n",
       "      <td>1.0</td>\n",
       "      <td>0.0</td>\n",
       "      <td>1</td>\n",
       "      <td>3.0</td>\n",
       "    </tr>\n",
       "  </tbody>\n",
       "</table>\n",
       "</div>"
      ],
      "text/plain": [
       "   Unnamed: 0            ID  CO_ENTIDADE  TP_SEXO  NU_IDADE  IN_DISTORCAO  \\\n",
       "0           0  112132289130     33009627        2        17             0   \n",
       "1           1  113220290328     33009627        2        21             1   \n",
       "2           2  112752673352     33009627        2        16             0   \n",
       "3           3  117459545545     33009627        2        17             0   \n",
       "4           4  113868062938     33009627        2        18             1   \n",
       "\n",
       "   IN_TRANSPORTE_PUBLICO  IN_LOCAL_ESCOLA  N_TURMA  IN_EVASAO  NU_ANO_CENSO  \\\n",
       "0                      0                2        0          0          2016   \n",
       "1                      0                2        0          1          2016   \n",
       "2                      0                2        0          0          2016   \n",
       "3                      0                2        0          0          2016   \n",
       "4                      0                2        0          1          2016   \n",
       "\n",
       "   CO_MUNICIPIO  IN_LABORATORIO_INFORMATICA  IN_LABORATORIO_CIENCIAS  \\\n",
       "0       3301009                         1.0                      1.0   \n",
       "1       3301009                         1.0                      1.0   \n",
       "2       3301009                         1.0                      1.0   \n",
       "3       3301009                         1.0                      1.0   \n",
       "4       3301009                         1.0                      1.0   \n",
       "\n",
       "   IN_QUADRA_ESPORTES  IN_BIBLIOTECA  IN_BANHEIRO_FORA_PREDIO  IN_AREA_VERDE  \\\n",
       "0                 1.0            1.0                      1.0            0.0   \n",
       "1                 1.0            1.0                      1.0            0.0   \n",
       "2                 1.0            1.0                      1.0            0.0   \n",
       "3                 1.0            1.0                      1.0            0.0   \n",
       "4                 1.0            1.0                      1.0            0.0   \n",
       "\n",
       "   IN_N_COMP_15  NIVEL  \n",
       "0             1    3.0  \n",
       "1             1    3.0  \n",
       "2             1    3.0  \n",
       "3             1    3.0  \n",
       "4             1    3.0  "
      ]
     },
     "execution_count": 4,
     "metadata": {},
     "output_type": "execute_result"
    }
   ],
   "source": [
    "df.head()"
   ]
  },
  {
   "cell_type": "code",
   "execution_count": 5,
   "metadata": {},
   "outputs": [],
   "source": [
    "dic_categorias = {\n",
    "    'IN_DISTORCAO': {0: 'Até 17 anos', 1: 'Maior ou igual a 17 anos'},\n",
    "    'TP_SEXO': {1: 'Homem', 2: 'Mulher'},\n",
    "    'IN_EVASAO': {0: 'Não evadido', 1: 'Evadido'},\n",
    "    'IN_TRANSPORTE_PUBLICO': {1: 'Utiliza transporte público', 0: 'Não utiliza'},\n",
    "    'IN_LOCAL_ESCOLA': {0: 'Rio de Janeiro (cidade)', 1: 'Grande Rio', 2: 'Outros municípios no estado'},\n",
    "    'N_TURMA': {0: 'Menos de 30 alunos', 1: '30 a 40', 2: 'Mais de 40 alunos'},\n",
    "    'IN_LABORATORIO_CIENCIAS': {0: 'Escola não possui laboratório de ciências', 1: 'Escola possui laboratório de ciências'},\n",
    "    'IN_LABORATORIO_INFORMATICA': {0: 'Escola não possui laboratório de informática', 1: 'Escola possui laboratório de informática'},\n",
    "    'IN_QUADRA_ESPORTES': {0: 'Escola não possui quadra', 1: 'Escola possui quadra'},\n",
    "    'IN_BIBLIOTECA': {0: 'Escola não possui biblioteca', 1: 'Escola possui biblioteca'},\n",
    "    'IN_BANHEIRO_FORA_PREDIO': {0: 'Escola não possui banheiro fora do prédio', 1: 'Escola possui banheiro fora do prédio'},\n",
    "    'IN_AREA_VERDE': {0: 'Escola não possui área verde', 1: 'Escola possui áreaa verde'},\n",
    "    'IN_N_COMP_15': {0: 'Escola possui menos de 15 computadores', 1: 'Escola possui mais de 15 computadores'},\n",
    "}"
   ]
  },
  {
   "cell_type": "code",
   "execution_count": 6,
   "metadata": {},
   "outputs": [],
   "source": [
    "for k,v in dic_categorias.items():\n",
    "    df['CAT_'+k] = df[k].map(v)"
   ]
  },
  {
   "cell_type": "code",
   "execution_count": 7,
   "metadata": {},
   "outputs": [
    {
     "data": {
      "text/html": [
       "<div>\n",
       "<style scoped>\n",
       "    .dataframe tbody tr th:only-of-type {\n",
       "        vertical-align: middle;\n",
       "    }\n",
       "\n",
       "    .dataframe tbody tr th {\n",
       "        vertical-align: top;\n",
       "    }\n",
       "\n",
       "    .dataframe thead th {\n",
       "        text-align: right;\n",
       "    }\n",
       "</style>\n",
       "<table border=\"1\" class=\"dataframe\">\n",
       "  <thead>\n",
       "    <tr style=\"text-align: right;\">\n",
       "      <th></th>\n",
       "      <th>Unnamed: 0</th>\n",
       "      <th>ID</th>\n",
       "      <th>CO_ENTIDADE</th>\n",
       "      <th>TP_SEXO</th>\n",
       "      <th>NU_IDADE</th>\n",
       "      <th>IN_DISTORCAO</th>\n",
       "      <th>IN_TRANSPORTE_PUBLICO</th>\n",
       "      <th>IN_LOCAL_ESCOLA</th>\n",
       "      <th>N_TURMA</th>\n",
       "      <th>IN_EVASAO</th>\n",
       "      <th>NU_ANO_CENSO</th>\n",
       "      <th>CO_MUNICIPIO</th>\n",
       "      <th>IN_LABORATORIO_INFORMATICA</th>\n",
       "      <th>IN_LABORATORIO_CIENCIAS</th>\n",
       "      <th>IN_QUADRA_ESPORTES</th>\n",
       "      <th>IN_BIBLIOTECA</th>\n",
       "      <th>IN_BANHEIRO_FORA_PREDIO</th>\n",
       "      <th>IN_AREA_VERDE</th>\n",
       "      <th>IN_N_COMP_15</th>\n",
       "      <th>NIVEL</th>\n",
       "      <th>CAT_IN_DISTORCAO</th>\n",
       "      <th>CAT_TP_SEXO</th>\n",
       "      <th>CAT_IN_EVASAO</th>\n",
       "      <th>CAT_IN_TRANSPORTE_PUBLICO</th>\n",
       "      <th>CAT_IN_LOCAL_ESCOLA</th>\n",
       "      <th>CAT_N_TURMA</th>\n",
       "      <th>CAT_IN_LABORATORIO_CIENCIAS</th>\n",
       "      <th>CAT_IN_LABORATORIO_INFORMATICA</th>\n",
       "      <th>CAT_IN_QUADRA_ESPORTES</th>\n",
       "      <th>CAT_IN_BIBLIOTECA</th>\n",
       "      <th>CAT_IN_BANHEIRO_FORA_PREDIO</th>\n",
       "      <th>CAT_IN_AREA_VERDE</th>\n",
       "      <th>CAT_IN_N_COMP_15</th>\n",
       "    </tr>\n",
       "  </thead>\n",
       "  <tbody>\n",
       "    <tr>\n",
       "      <th>0</th>\n",
       "      <td>0</td>\n",
       "      <td>112132289130</td>\n",
       "      <td>33009627</td>\n",
       "      <td>2</td>\n",
       "      <td>17</td>\n",
       "      <td>0</td>\n",
       "      <td>0</td>\n",
       "      <td>2</td>\n",
       "      <td>0</td>\n",
       "      <td>0</td>\n",
       "      <td>2016</td>\n",
       "      <td>3301009</td>\n",
       "      <td>1.0</td>\n",
       "      <td>1.0</td>\n",
       "      <td>1.0</td>\n",
       "      <td>1.0</td>\n",
       "      <td>1.0</td>\n",
       "      <td>0.0</td>\n",
       "      <td>1</td>\n",
       "      <td>3.0</td>\n",
       "      <td>Até 17 anos</td>\n",
       "      <td>Mulher</td>\n",
       "      <td>Não evadido</td>\n",
       "      <td>Não utiliza</td>\n",
       "      <td>Outros municípios no estado</td>\n",
       "      <td>Menos de 30 alunos</td>\n",
       "      <td>Escola possui laboratório de ciências</td>\n",
       "      <td>Escola possui laboratório de informática</td>\n",
       "      <td>Escola possui quadra</td>\n",
       "      <td>Escola possui biblioteca</td>\n",
       "      <td>Escola possui banheiro fora do prédio</td>\n",
       "      <td>Escola não possui área verde</td>\n",
       "      <td>Escola possui mais de 15 computadores</td>\n",
       "    </tr>\n",
       "    <tr>\n",
       "      <th>1</th>\n",
       "      <td>1</td>\n",
       "      <td>113220290328</td>\n",
       "      <td>33009627</td>\n",
       "      <td>2</td>\n",
       "      <td>21</td>\n",
       "      <td>1</td>\n",
       "      <td>0</td>\n",
       "      <td>2</td>\n",
       "      <td>0</td>\n",
       "      <td>1</td>\n",
       "      <td>2016</td>\n",
       "      <td>3301009</td>\n",
       "      <td>1.0</td>\n",
       "      <td>1.0</td>\n",
       "      <td>1.0</td>\n",
       "      <td>1.0</td>\n",
       "      <td>1.0</td>\n",
       "      <td>0.0</td>\n",
       "      <td>1</td>\n",
       "      <td>3.0</td>\n",
       "      <td>Maior ou igual a 17 anos</td>\n",
       "      <td>Mulher</td>\n",
       "      <td>Evadido</td>\n",
       "      <td>Não utiliza</td>\n",
       "      <td>Outros municípios no estado</td>\n",
       "      <td>Menos de 30 alunos</td>\n",
       "      <td>Escola possui laboratório de ciências</td>\n",
       "      <td>Escola possui laboratório de informática</td>\n",
       "      <td>Escola possui quadra</td>\n",
       "      <td>Escola possui biblioteca</td>\n",
       "      <td>Escola possui banheiro fora do prédio</td>\n",
       "      <td>Escola não possui área verde</td>\n",
       "      <td>Escola possui mais de 15 computadores</td>\n",
       "    </tr>\n",
       "    <tr>\n",
       "      <th>2</th>\n",
       "      <td>2</td>\n",
       "      <td>112752673352</td>\n",
       "      <td>33009627</td>\n",
       "      <td>2</td>\n",
       "      <td>16</td>\n",
       "      <td>0</td>\n",
       "      <td>0</td>\n",
       "      <td>2</td>\n",
       "      <td>0</td>\n",
       "      <td>0</td>\n",
       "      <td>2016</td>\n",
       "      <td>3301009</td>\n",
       "      <td>1.0</td>\n",
       "      <td>1.0</td>\n",
       "      <td>1.0</td>\n",
       "      <td>1.0</td>\n",
       "      <td>1.0</td>\n",
       "      <td>0.0</td>\n",
       "      <td>1</td>\n",
       "      <td>3.0</td>\n",
       "      <td>Até 17 anos</td>\n",
       "      <td>Mulher</td>\n",
       "      <td>Não evadido</td>\n",
       "      <td>Não utiliza</td>\n",
       "      <td>Outros municípios no estado</td>\n",
       "      <td>Menos de 30 alunos</td>\n",
       "      <td>Escola possui laboratório de ciências</td>\n",
       "      <td>Escola possui laboratório de informática</td>\n",
       "      <td>Escola possui quadra</td>\n",
       "      <td>Escola possui biblioteca</td>\n",
       "      <td>Escola possui banheiro fora do prédio</td>\n",
       "      <td>Escola não possui área verde</td>\n",
       "      <td>Escola possui mais de 15 computadores</td>\n",
       "    </tr>\n",
       "    <tr>\n",
       "      <th>3</th>\n",
       "      <td>3</td>\n",
       "      <td>117459545545</td>\n",
       "      <td>33009627</td>\n",
       "      <td>2</td>\n",
       "      <td>17</td>\n",
       "      <td>0</td>\n",
       "      <td>0</td>\n",
       "      <td>2</td>\n",
       "      <td>0</td>\n",
       "      <td>0</td>\n",
       "      <td>2016</td>\n",
       "      <td>3301009</td>\n",
       "      <td>1.0</td>\n",
       "      <td>1.0</td>\n",
       "      <td>1.0</td>\n",
       "      <td>1.0</td>\n",
       "      <td>1.0</td>\n",
       "      <td>0.0</td>\n",
       "      <td>1</td>\n",
       "      <td>3.0</td>\n",
       "      <td>Até 17 anos</td>\n",
       "      <td>Mulher</td>\n",
       "      <td>Não evadido</td>\n",
       "      <td>Não utiliza</td>\n",
       "      <td>Outros municípios no estado</td>\n",
       "      <td>Menos de 30 alunos</td>\n",
       "      <td>Escola possui laboratório de ciências</td>\n",
       "      <td>Escola possui laboratório de informática</td>\n",
       "      <td>Escola possui quadra</td>\n",
       "      <td>Escola possui biblioteca</td>\n",
       "      <td>Escola possui banheiro fora do prédio</td>\n",
       "      <td>Escola não possui área verde</td>\n",
       "      <td>Escola possui mais de 15 computadores</td>\n",
       "    </tr>\n",
       "    <tr>\n",
       "      <th>4</th>\n",
       "      <td>4</td>\n",
       "      <td>113868062938</td>\n",
       "      <td>33009627</td>\n",
       "      <td>2</td>\n",
       "      <td>18</td>\n",
       "      <td>1</td>\n",
       "      <td>0</td>\n",
       "      <td>2</td>\n",
       "      <td>0</td>\n",
       "      <td>1</td>\n",
       "      <td>2016</td>\n",
       "      <td>3301009</td>\n",
       "      <td>1.0</td>\n",
       "      <td>1.0</td>\n",
       "      <td>1.0</td>\n",
       "      <td>1.0</td>\n",
       "      <td>1.0</td>\n",
       "      <td>0.0</td>\n",
       "      <td>1</td>\n",
       "      <td>3.0</td>\n",
       "      <td>Maior ou igual a 17 anos</td>\n",
       "      <td>Mulher</td>\n",
       "      <td>Evadido</td>\n",
       "      <td>Não utiliza</td>\n",
       "      <td>Outros municípios no estado</td>\n",
       "      <td>Menos de 30 alunos</td>\n",
       "      <td>Escola possui laboratório de ciências</td>\n",
       "      <td>Escola possui laboratório de informática</td>\n",
       "      <td>Escola possui quadra</td>\n",
       "      <td>Escola possui biblioteca</td>\n",
       "      <td>Escola possui banheiro fora do prédio</td>\n",
       "      <td>Escola não possui área verde</td>\n",
       "      <td>Escola possui mais de 15 computadores</td>\n",
       "    </tr>\n",
       "  </tbody>\n",
       "</table>\n",
       "</div>"
      ],
      "text/plain": [
       "   Unnamed: 0            ID  CO_ENTIDADE  TP_SEXO  NU_IDADE  IN_DISTORCAO  \\\n",
       "0           0  112132289130     33009627        2        17             0   \n",
       "1           1  113220290328     33009627        2        21             1   \n",
       "2           2  112752673352     33009627        2        16             0   \n",
       "3           3  117459545545     33009627        2        17             0   \n",
       "4           4  113868062938     33009627        2        18             1   \n",
       "\n",
       "   IN_TRANSPORTE_PUBLICO  IN_LOCAL_ESCOLA  N_TURMA  IN_EVASAO  NU_ANO_CENSO  \\\n",
       "0                      0                2        0          0          2016   \n",
       "1                      0                2        0          1          2016   \n",
       "2                      0                2        0          0          2016   \n",
       "3                      0                2        0          0          2016   \n",
       "4                      0                2        0          1          2016   \n",
       "\n",
       "   CO_MUNICIPIO  IN_LABORATORIO_INFORMATICA  IN_LABORATORIO_CIENCIAS  \\\n",
       "0       3301009                         1.0                      1.0   \n",
       "1       3301009                         1.0                      1.0   \n",
       "2       3301009                         1.0                      1.0   \n",
       "3       3301009                         1.0                      1.0   \n",
       "4       3301009                         1.0                      1.0   \n",
       "\n",
       "   IN_QUADRA_ESPORTES  IN_BIBLIOTECA  IN_BANHEIRO_FORA_PREDIO  IN_AREA_VERDE  \\\n",
       "0                 1.0            1.0                      1.0            0.0   \n",
       "1                 1.0            1.0                      1.0            0.0   \n",
       "2                 1.0            1.0                      1.0            0.0   \n",
       "3                 1.0            1.0                      1.0            0.0   \n",
       "4                 1.0            1.0                      1.0            0.0   \n",
       "\n",
       "   IN_N_COMP_15  NIVEL          CAT_IN_DISTORCAO CAT_TP_SEXO CAT_IN_EVASAO  \\\n",
       "0             1    3.0               Até 17 anos      Mulher   Não evadido   \n",
       "1             1    3.0  Maior ou igual a 17 anos      Mulher       Evadido   \n",
       "2             1    3.0               Até 17 anos      Mulher   Não evadido   \n",
       "3             1    3.0               Até 17 anos      Mulher   Não evadido   \n",
       "4             1    3.0  Maior ou igual a 17 anos      Mulher       Evadido   \n",
       "\n",
       "  CAT_IN_TRANSPORTE_PUBLICO          CAT_IN_LOCAL_ESCOLA         CAT_N_TURMA  \\\n",
       "0               Não utiliza  Outros municípios no estado  Menos de 30 alunos   \n",
       "1               Não utiliza  Outros municípios no estado  Menos de 30 alunos   \n",
       "2               Não utiliza  Outros municípios no estado  Menos de 30 alunos   \n",
       "3               Não utiliza  Outros municípios no estado  Menos de 30 alunos   \n",
       "4               Não utiliza  Outros municípios no estado  Menos de 30 alunos   \n",
       "\n",
       "             CAT_IN_LABORATORIO_CIENCIAS  \\\n",
       "0  Escola possui laboratório de ciências   \n",
       "1  Escola possui laboratório de ciências   \n",
       "2  Escola possui laboratório de ciências   \n",
       "3  Escola possui laboratório de ciências   \n",
       "4  Escola possui laboratório de ciências   \n",
       "\n",
       "             CAT_IN_LABORATORIO_INFORMATICA CAT_IN_QUADRA_ESPORTES  \\\n",
       "0  Escola possui laboratório de informática   Escola possui quadra   \n",
       "1  Escola possui laboratório de informática   Escola possui quadra   \n",
       "2  Escola possui laboratório de informática   Escola possui quadra   \n",
       "3  Escola possui laboratório de informática   Escola possui quadra   \n",
       "4  Escola possui laboratório de informática   Escola possui quadra   \n",
       "\n",
       "          CAT_IN_BIBLIOTECA            CAT_IN_BANHEIRO_FORA_PREDIO  \\\n",
       "0  Escola possui biblioteca  Escola possui banheiro fora do prédio   \n",
       "1  Escola possui biblioteca  Escola possui banheiro fora do prédio   \n",
       "2  Escola possui biblioteca  Escola possui banheiro fora do prédio   \n",
       "3  Escola possui biblioteca  Escola possui banheiro fora do prédio   \n",
       "4  Escola possui biblioteca  Escola possui banheiro fora do prédio   \n",
       "\n",
       "              CAT_IN_AREA_VERDE                       CAT_IN_N_COMP_15  \n",
       "0  Escola não possui área verde  Escola possui mais de 15 computadores  \n",
       "1  Escola não possui área verde  Escola possui mais de 15 computadores  \n",
       "2  Escola não possui área verde  Escola possui mais de 15 computadores  \n",
       "3  Escola não possui área verde  Escola possui mais de 15 computadores  \n",
       "4  Escola não possui área verde  Escola possui mais de 15 computadores  "
      ]
     },
     "execution_count": 7,
     "metadata": {},
     "output_type": "execute_result"
    }
   ],
   "source": [
    "df.head()"
   ]
  },
  {
   "cell_type": "markdown",
   "metadata": {
    "heading_collapsed": true
   },
   "source": [
    "##  Inferência do INSE"
   ]
  },
  {
   "cell_type": "code",
   "execution_count": 8,
   "metadata": {
    "hidden": true
   },
   "outputs": [
    {
     "data": {
      "text/plain": [
       "3.0    0.865687\n",
       "4.0    0.123035\n",
       "2.0    0.007646\n",
       "5.0    0.002747\n",
       "6.0    0.000590\n",
       "1.0    0.000295\n",
       "Name: NIVEL, dtype: float64"
      ]
     },
     "execution_count": 8,
     "metadata": {},
     "output_type": "execute_result"
    }
   ],
   "source": [
    "df['NIVEL'].value_counts(normalize=True) # total dos alunos"
   ]
  },
  {
   "cell_type": "code",
   "execution_count": 9,
   "metadata": {
    "hidden": true
   },
   "outputs": [
    {
     "data": {
      "text/plain": [
       "3.0    0.815077\n",
       "4.0    0.148410\n",
       "2.0    0.024735\n",
       "5.0    0.008245\n",
       "1.0    0.002356\n",
       "6.0    0.001178\n",
       "Name: NIVEL, dtype: float64"
      ]
     },
     "execution_count": 9,
     "metadata": {},
     "output_type": "execute_result"
    }
   ],
   "source": [
    "df[['CO_ENTIDADE', 'NIVEL']].drop_duplicates()['NIVEL'].value_counts(normalize=True)"
   ]
  },
  {
   "cell_type": "code",
   "execution_count": 10,
   "metadata": {
    "hidden": true
   },
   "outputs": [
    {
     "data": {
      "text/plain": [
       "3.0    692\n",
       "4.0    126\n",
       "2.0     21\n",
       "5.0      7\n",
       "1.0      2\n",
       "6.0      1\n",
       "Name: NIVEL, dtype: int64"
      ]
     },
     "execution_count": 10,
     "metadata": {},
     "output_type": "execute_result"
    }
   ],
   "source": [
    "df[['CO_ENTIDADE', 'NIVEL']].drop_duplicates()['NIVEL'].value_counts()"
   ]
  },
  {
   "cell_type": "code",
   "execution_count": 11,
   "metadata": {
    "hidden": true
   },
   "outputs": [
    {
     "data": {
      "text/plain": [
       "Index(['Unnamed: 0', 'ID', 'CO_ENTIDADE', 'TP_SEXO', 'NU_IDADE',\n",
       "       'IN_DISTORCAO', 'IN_TRANSPORTE_PUBLICO', 'IN_LOCAL_ESCOLA', 'N_TURMA',\n",
       "       'IN_EVASAO', 'NU_ANO_CENSO', 'CO_MUNICIPIO',\n",
       "       'IN_LABORATORIO_INFORMATICA', 'IN_LABORATORIO_CIENCIAS',\n",
       "       'IN_QUADRA_ESPORTES', 'IN_BIBLIOTECA', 'IN_BANHEIRO_FORA_PREDIO',\n",
       "       'IN_AREA_VERDE', 'IN_N_COMP_15', 'NIVEL', 'CAT_IN_DISTORCAO',\n",
       "       'CAT_TP_SEXO', 'CAT_IN_EVASAO', 'CAT_IN_TRANSPORTE_PUBLICO',\n",
       "       'CAT_IN_LOCAL_ESCOLA', 'CAT_N_TURMA', 'CAT_IN_LABORATORIO_CIENCIAS',\n",
       "       'CAT_IN_LABORATORIO_INFORMATICA', 'CAT_IN_QUADRA_ESPORTES',\n",
       "       'CAT_IN_BIBLIOTECA', 'CAT_IN_BANHEIRO_FORA_PREDIO', 'CAT_IN_AREA_VERDE',\n",
       "       'CAT_IN_N_COMP_15'],\n",
       "      dtype='object')"
      ]
     },
     "execution_count": 11,
     "metadata": {},
     "output_type": "execute_result"
    }
   ],
   "source": [
    "df.columns"
   ]
  },
  {
   "cell_type": "code",
   "execution_count": 12,
   "metadata": {
    "hidden": true
   },
   "outputs": [
    {
     "name": "stdout",
     "output_type": "stream",
     "text": [
      "<class 'pandas.core.frame.DataFrame'>\n",
      "Int64Index: 1097 entries, 0 to 34258\n",
      "Data columns (total 10 columns):\n",
      "CO_ENTIDADE                   1097 non-null int64\n",
      "IN_LOCAL_ESCOLA               1097 non-null int64\n",
      "IN_LABORATORIO_INFORMATICA    1097 non-null float64\n",
      "IN_LABORATORIO_CIENCIAS       1097 non-null float64\n",
      "IN_QUADRA_ESPORTES            1097 non-null float64\n",
      "IN_BIBLIOTECA                 1097 non-null float64\n",
      "IN_BANHEIRO_FORA_PREDIO       1097 non-null float64\n",
      "IN_AREA_VERDE                 1097 non-null float64\n",
      "IN_N_COMP_15                  1097 non-null int64\n",
      "NIVEL                         849 non-null float64\n",
      "dtypes: float64(7), int64(3)\n",
      "memory usage: 94.3 KB\n"
     ]
    }
   ],
   "source": [
    "inse = df[['CO_ENTIDADE', 'IN_LOCAL_ESCOLA', 'IN_LABORATORIO_INFORMATICA', 'IN_LABORATORIO_CIENCIAS',\n",
    "           'IN_QUADRA_ESPORTES', 'IN_BIBLIOTECA', 'IN_BANHEIRO_FORA_PREDIO', 'IN_AREA_VERDE', \n",
    "           'IN_N_COMP_15', 'NIVEL']].drop_duplicates()\n",
    "inse.info()"
   ]
  },
  {
   "cell_type": "code",
   "execution_count": 13,
   "metadata": {
    "hidden": true
   },
   "outputs": [
    {
     "name": "stdout",
     "output_type": "stream",
     "text": [
      "IN_LOCAL_ESCOLA   0    1    2\n",
      "NIVEL                        \n",
      "1.0               0    0    2\n",
      "2.0               1    1   19\n",
      "3.0              81  363  248\n",
      "4.0              11   45   70\n",
      "5.0               0    2    5\n",
      "6.0               1    0    0\n"
     ]
    },
    {
     "data": {
      "text/html": [
       "<div>\n",
       "<style scoped>\n",
       "    .dataframe tbody tr th:only-of-type {\n",
       "        vertical-align: middle;\n",
       "    }\n",
       "\n",
       "    .dataframe tbody tr th {\n",
       "        vertical-align: top;\n",
       "    }\n",
       "\n",
       "    .dataframe thead th {\n",
       "        text-align: right;\n",
       "    }\n",
       "</style>\n",
       "<table border=\"1\" class=\"dataframe\">\n",
       "  <thead>\n",
       "    <tr style=\"text-align: right;\">\n",
       "      <th>IN_LOCAL_ESCOLA</th>\n",
       "      <th>0</th>\n",
       "      <th>1</th>\n",
       "      <th>2</th>\n",
       "    </tr>\n",
       "    <tr>\n",
       "      <th>NIVEL</th>\n",
       "      <th></th>\n",
       "      <th></th>\n",
       "      <th></th>\n",
       "    </tr>\n",
       "  </thead>\n",
       "  <tbody>\n",
       "    <tr>\n",
       "      <th>1.0</th>\n",
       "      <td>0.000000</td>\n",
       "      <td>0.000000</td>\n",
       "      <td>0.235571</td>\n",
       "    </tr>\n",
       "    <tr>\n",
       "      <th>2.0</th>\n",
       "      <td>0.117786</td>\n",
       "      <td>0.117786</td>\n",
       "      <td>2.237927</td>\n",
       "    </tr>\n",
       "    <tr>\n",
       "      <th>3.0</th>\n",
       "      <td>9.540636</td>\n",
       "      <td>42.756184</td>\n",
       "      <td>29.210836</td>\n",
       "    </tr>\n",
       "    <tr>\n",
       "      <th>4.0</th>\n",
       "      <td>1.295642</td>\n",
       "      <td>5.300353</td>\n",
       "      <td>8.244994</td>\n",
       "    </tr>\n",
       "    <tr>\n",
       "      <th>5.0</th>\n",
       "      <td>0.000000</td>\n",
       "      <td>0.235571</td>\n",
       "      <td>0.588928</td>\n",
       "    </tr>\n",
       "    <tr>\n",
       "      <th>6.0</th>\n",
       "      <td>0.117786</td>\n",
       "      <td>0.000000</td>\n",
       "      <td>0.000000</td>\n",
       "    </tr>\n",
       "  </tbody>\n",
       "</table>\n",
       "</div>"
      ],
      "text/plain": [
       "IN_LOCAL_ESCOLA         0          1          2\n",
       "NIVEL                                          \n",
       "1.0              0.000000   0.000000   0.235571\n",
       "2.0              0.117786   0.117786   2.237927\n",
       "3.0              9.540636  42.756184  29.210836\n",
       "4.0              1.295642   5.300353   8.244994\n",
       "5.0              0.000000   0.235571   0.588928\n",
       "6.0              0.117786   0.000000   0.000000"
      ]
     },
     "execution_count": 13,
     "metadata": {},
     "output_type": "execute_result"
    }
   ],
   "source": [
    "print(pd.crosstab(inse['NIVEL'], inse['IN_LOCAL_ESCOLA']))\n",
    "pd.crosstab(inse['NIVEL'], inse['IN_LOCAL_ESCOLA'], normalize=True)*100"
   ]
  },
  {
   "cell_type": "code",
   "execution_count": 14,
   "metadata": {
    "hidden": true
   },
   "outputs": [
    {
     "name": "stdout",
     "output_type": "stream",
     "text": [
      "IN_LABORATORIO_INFORMATICA  0.0  1.0\n",
      "NIVEL                               \n",
      "1.0                           0    2\n",
      "2.0                           3   18\n",
      "3.0                         119  573\n",
      "4.0                          17  109\n",
      "5.0                           2    5\n",
      "6.0                           0    1\n"
     ]
    },
    {
     "data": {
      "text/html": [
       "<div>\n",
       "<style scoped>\n",
       "    .dataframe tbody tr th:only-of-type {\n",
       "        vertical-align: middle;\n",
       "    }\n",
       "\n",
       "    .dataframe tbody tr th {\n",
       "        vertical-align: top;\n",
       "    }\n",
       "\n",
       "    .dataframe thead th {\n",
       "        text-align: right;\n",
       "    }\n",
       "</style>\n",
       "<table border=\"1\" class=\"dataframe\">\n",
       "  <thead>\n",
       "    <tr style=\"text-align: right;\">\n",
       "      <th>IN_LABORATORIO_INFORMATICA</th>\n",
       "      <th>0.0</th>\n",
       "      <th>1.0</th>\n",
       "    </tr>\n",
       "    <tr>\n",
       "      <th>NIVEL</th>\n",
       "      <th></th>\n",
       "      <th></th>\n",
       "    </tr>\n",
       "  </thead>\n",
       "  <tbody>\n",
       "    <tr>\n",
       "      <th>1.0</th>\n",
       "      <td>0.000000</td>\n",
       "      <td>0.282486</td>\n",
       "    </tr>\n",
       "    <tr>\n",
       "      <th>2.0</th>\n",
       "      <td>2.127660</td>\n",
       "      <td>2.542373</td>\n",
       "    </tr>\n",
       "    <tr>\n",
       "      <th>3.0</th>\n",
       "      <td>84.397163</td>\n",
       "      <td>80.932203</td>\n",
       "    </tr>\n",
       "    <tr>\n",
       "      <th>4.0</th>\n",
       "      <td>12.056738</td>\n",
       "      <td>15.395480</td>\n",
       "    </tr>\n",
       "    <tr>\n",
       "      <th>5.0</th>\n",
       "      <td>1.418440</td>\n",
       "      <td>0.706215</td>\n",
       "    </tr>\n",
       "    <tr>\n",
       "      <th>6.0</th>\n",
       "      <td>0.000000</td>\n",
       "      <td>0.141243</td>\n",
       "    </tr>\n",
       "  </tbody>\n",
       "</table>\n",
       "</div>"
      ],
      "text/plain": [
       "IN_LABORATORIO_INFORMATICA        0.0        1.0\n",
       "NIVEL                                           \n",
       "1.0                          0.000000   0.282486\n",
       "2.0                          2.127660   2.542373\n",
       "3.0                         84.397163  80.932203\n",
       "4.0                         12.056738  15.395480\n",
       "5.0                          1.418440   0.706215\n",
       "6.0                          0.000000   0.141243"
      ]
     },
     "execution_count": 14,
     "metadata": {},
     "output_type": "execute_result"
    }
   ],
   "source": [
    "print(pd.crosstab(inse['NIVEL'], inse['IN_LABORATORIO_INFORMATICA']))\n",
    "pd.crosstab(inse['NIVEL'], inse['IN_LABORATORIO_INFORMATICA'], normalize=1)*100"
   ]
  },
  {
   "cell_type": "markdown",
   "metadata": {
    "hidden": true
   },
   "source": [
    "* Todas escolas fora da região metropolitana sem laboratório de informática estão no nível 3. Porém, para outros casos, > 80% também estão nesse nível"
   ]
  },
  {
   "cell_type": "code",
   "execution_count": 15,
   "metadata": {
    "hidden": true
   },
   "outputs": [
    {
     "name": "stdout",
     "output_type": "stream",
     "text": [
      "IN_LOCAL_ESCOLA                0           1            2       \n",
      "IN_LABORATORIO_INFORMATICA   0.0   1.0   0.0    1.0   0.0    1.0\n",
      "NIVEL                                                           \n",
      "1.0                            0     0     0      0     0    200\n",
      "2.0                            0   100     0    100   300   1600\n",
      "3.0                         1600  6500  5800  30500  4500  20300\n",
      "4.0                            0  1100  1000   3500   700   6300\n",
      "5.0                            0     0   100    100   100    400\n",
      "6.0                            0   100     0      0     0      0\n"
     ]
    },
    {
     "data": {
      "text/html": [
       "<div>\n",
       "<style scoped>\n",
       "    .dataframe tbody tr th:only-of-type {\n",
       "        vertical-align: middle;\n",
       "    }\n",
       "\n",
       "    .dataframe tbody tr th {\n",
       "        vertical-align: top;\n",
       "    }\n",
       "\n",
       "    .dataframe thead tr th {\n",
       "        text-align: left;\n",
       "    }\n",
       "\n",
       "    .dataframe thead tr:last-of-type th {\n",
       "        text-align: right;\n",
       "    }\n",
       "</style>\n",
       "<table border=\"1\" class=\"dataframe\">\n",
       "  <thead>\n",
       "    <tr>\n",
       "      <th>IN_LOCAL_ESCOLA</th>\n",
       "      <th colspan=\"2\" halign=\"left\">0</th>\n",
       "      <th colspan=\"2\" halign=\"left\">1</th>\n",
       "      <th colspan=\"2\" halign=\"left\">2</th>\n",
       "    </tr>\n",
       "    <tr>\n",
       "      <th>IN_LABORATORIO_INFORMATICA</th>\n",
       "      <th>0.0</th>\n",
       "      <th>1.0</th>\n",
       "      <th>0.0</th>\n",
       "      <th>1.0</th>\n",
       "      <th>0.0</th>\n",
       "      <th>1.0</th>\n",
       "    </tr>\n",
       "    <tr>\n",
       "      <th>NIVEL</th>\n",
       "      <th></th>\n",
       "      <th></th>\n",
       "      <th></th>\n",
       "      <th></th>\n",
       "      <th></th>\n",
       "      <th></th>\n",
       "    </tr>\n",
       "  </thead>\n",
       "  <tbody>\n",
       "    <tr>\n",
       "      <th>1.0</th>\n",
       "      <td>0.0</td>\n",
       "      <td>0.000000</td>\n",
       "      <td>0.000000</td>\n",
       "      <td>0.000000</td>\n",
       "      <td>0.000000</td>\n",
       "      <td>0.694444</td>\n",
       "    </tr>\n",
       "    <tr>\n",
       "      <th>2.0</th>\n",
       "      <td>0.0</td>\n",
       "      <td>1.282051</td>\n",
       "      <td>0.000000</td>\n",
       "      <td>0.292398</td>\n",
       "      <td>5.357143</td>\n",
       "      <td>5.555556</td>\n",
       "    </tr>\n",
       "    <tr>\n",
       "      <th>3.0</th>\n",
       "      <td>100.0</td>\n",
       "      <td>83.333333</td>\n",
       "      <td>84.057971</td>\n",
       "      <td>89.181287</td>\n",
       "      <td>80.357143</td>\n",
       "      <td>70.486111</td>\n",
       "    </tr>\n",
       "    <tr>\n",
       "      <th>4.0</th>\n",
       "      <td>0.0</td>\n",
       "      <td>14.102564</td>\n",
       "      <td>14.492754</td>\n",
       "      <td>10.233918</td>\n",
       "      <td>12.500000</td>\n",
       "      <td>21.875000</td>\n",
       "    </tr>\n",
       "    <tr>\n",
       "      <th>5.0</th>\n",
       "      <td>0.0</td>\n",
       "      <td>0.000000</td>\n",
       "      <td>1.449275</td>\n",
       "      <td>0.292398</td>\n",
       "      <td>1.785714</td>\n",
       "      <td>1.388889</td>\n",
       "    </tr>\n",
       "    <tr>\n",
       "      <th>6.0</th>\n",
       "      <td>0.0</td>\n",
       "      <td>1.282051</td>\n",
       "      <td>0.000000</td>\n",
       "      <td>0.000000</td>\n",
       "      <td>0.000000</td>\n",
       "      <td>0.000000</td>\n",
       "    </tr>\n",
       "  </tbody>\n",
       "</table>\n",
       "</div>"
      ],
      "text/plain": [
       "IN_LOCAL_ESCOLA                 0                     1                     2  \\\n",
       "IN_LABORATORIO_INFORMATICA    0.0        1.0        0.0        1.0        0.0   \n",
       "NIVEL                                                                           \n",
       "1.0                           0.0   0.000000   0.000000   0.000000   0.000000   \n",
       "2.0                           0.0   1.282051   0.000000   0.292398   5.357143   \n",
       "3.0                         100.0  83.333333  84.057971  89.181287  80.357143   \n",
       "4.0                           0.0  14.102564  14.492754  10.233918  12.500000   \n",
       "5.0                           0.0   0.000000   1.449275   0.292398   1.785714   \n",
       "6.0                           0.0   1.282051   0.000000   0.000000   0.000000   \n",
       "\n",
       "IN_LOCAL_ESCOLA                        \n",
       "IN_LABORATORIO_INFORMATICA        1.0  \n",
       "NIVEL                                  \n",
       "1.0                          0.694444  \n",
       "2.0                          5.555556  \n",
       "3.0                         70.486111  \n",
       "4.0                         21.875000  \n",
       "5.0                          1.388889  \n",
       "6.0                          0.000000  "
      ]
     },
     "execution_count": 15,
     "metadata": {},
     "output_type": "execute_result"
    }
   ],
   "source": [
    "compare = [inse['IN_LOCAL_ESCOLA'], inse['IN_LABORATORIO_INFORMATICA']]\n",
    "\n",
    "print(pd.crosstab(inse['NIVEL'], compare)*100)\n",
    "pd.crosstab(inse['NIVEL'], compare, normalize=1)*100"
   ]
  },
  {
   "cell_type": "code",
   "execution_count": 16,
   "metadata": {
    "hidden": true
   },
   "outputs": [
    {
     "name": "stdout",
     "output_type": "stream",
     "text": [
      "IN_LABORATORIO_CIENCIAS  0.0  1.0\n",
      "NIVEL                            \n",
      "1.0                        2    0\n",
      "2.0                       11   10\n",
      "3.0                      174  518\n",
      "4.0                       31   95\n",
      "5.0                        1    6\n",
      "6.0                        0    1\n"
     ]
    },
    {
     "data": {
      "text/html": [
       "<div>\n",
       "<style scoped>\n",
       "    .dataframe tbody tr th:only-of-type {\n",
       "        vertical-align: middle;\n",
       "    }\n",
       "\n",
       "    .dataframe tbody tr th {\n",
       "        vertical-align: top;\n",
       "    }\n",
       "\n",
       "    .dataframe thead th {\n",
       "        text-align: right;\n",
       "    }\n",
       "</style>\n",
       "<table border=\"1\" class=\"dataframe\">\n",
       "  <thead>\n",
       "    <tr style=\"text-align: right;\">\n",
       "      <th>IN_LABORATORIO_CIENCIAS</th>\n",
       "      <th>0.0</th>\n",
       "      <th>1.0</th>\n",
       "    </tr>\n",
       "    <tr>\n",
       "      <th>NIVEL</th>\n",
       "      <th></th>\n",
       "      <th></th>\n",
       "    </tr>\n",
       "  </thead>\n",
       "  <tbody>\n",
       "    <tr>\n",
       "      <th>1.0</th>\n",
       "      <td>0.913242</td>\n",
       "      <td>0.000000</td>\n",
       "    </tr>\n",
       "    <tr>\n",
       "      <th>2.0</th>\n",
       "      <td>5.022831</td>\n",
       "      <td>1.587302</td>\n",
       "    </tr>\n",
       "    <tr>\n",
       "      <th>3.0</th>\n",
       "      <td>79.452055</td>\n",
       "      <td>82.222222</td>\n",
       "    </tr>\n",
       "    <tr>\n",
       "      <th>4.0</th>\n",
       "      <td>14.155251</td>\n",
       "      <td>15.079365</td>\n",
       "    </tr>\n",
       "    <tr>\n",
       "      <th>5.0</th>\n",
       "      <td>0.456621</td>\n",
       "      <td>0.952381</td>\n",
       "    </tr>\n",
       "    <tr>\n",
       "      <th>6.0</th>\n",
       "      <td>0.000000</td>\n",
       "      <td>0.158730</td>\n",
       "    </tr>\n",
       "  </tbody>\n",
       "</table>\n",
       "</div>"
      ],
      "text/plain": [
       "IN_LABORATORIO_CIENCIAS        0.0        1.0\n",
       "NIVEL                                        \n",
       "1.0                       0.913242   0.000000\n",
       "2.0                       5.022831   1.587302\n",
       "3.0                      79.452055  82.222222\n",
       "4.0                      14.155251  15.079365\n",
       "5.0                       0.456621   0.952381\n",
       "6.0                       0.000000   0.158730"
      ]
     },
     "execution_count": 16,
     "metadata": {},
     "output_type": "execute_result"
    }
   ],
   "source": [
    "print(pd.crosstab(inse['NIVEL'], inse['IN_LABORATORIO_CIENCIAS']))\n",
    "pd.crosstab(inse['NIVEL'], inse['IN_LABORATORIO_CIENCIAS'], normalize=1)*100"
   ]
  },
  {
   "cell_type": "code",
   "execution_count": 17,
   "metadata": {
    "hidden": true
   },
   "outputs": [
    {
     "data": {
      "text/html": [
       "<div>\n",
       "<style scoped>\n",
       "    .dataframe tbody tr th:only-of-type {\n",
       "        vertical-align: middle;\n",
       "    }\n",
       "\n",
       "    .dataframe tbody tr th {\n",
       "        vertical-align: top;\n",
       "    }\n",
       "\n",
       "    .dataframe thead tr th {\n",
       "        text-align: left;\n",
       "    }\n",
       "\n",
       "    .dataframe thead tr:last-of-type th {\n",
       "        text-align: right;\n",
       "    }\n",
       "</style>\n",
       "<table border=\"1\" class=\"dataframe\">\n",
       "  <thead>\n",
       "    <tr>\n",
       "      <th>IN_LABORATORIO_INFORMATICA</th>\n",
       "      <th colspan=\"2\" halign=\"left\">0.0</th>\n",
       "      <th colspan=\"2\" halign=\"left\">1.0</th>\n",
       "    </tr>\n",
       "    <tr>\n",
       "      <th>IN_LABORATORIO_CIENCIAS</th>\n",
       "      <th>0.0</th>\n",
       "      <th>1.0</th>\n",
       "      <th>0.0</th>\n",
       "      <th>1.0</th>\n",
       "    </tr>\n",
       "    <tr>\n",
       "      <th>NIVEL</th>\n",
       "      <th></th>\n",
       "      <th></th>\n",
       "      <th></th>\n",
       "      <th></th>\n",
       "    </tr>\n",
       "  </thead>\n",
       "  <tbody>\n",
       "    <tr>\n",
       "      <th>1.0</th>\n",
       "      <td>0.000000</td>\n",
       "      <td>0.000000</td>\n",
       "      <td>1.075269</td>\n",
       "      <td>0.000000</td>\n",
       "    </tr>\n",
       "    <tr>\n",
       "      <th>2.0</th>\n",
       "      <td>9.090909</td>\n",
       "      <td>0.000000</td>\n",
       "      <td>4.301075</td>\n",
       "      <td>1.915709</td>\n",
       "    </tr>\n",
       "    <tr>\n",
       "      <th>3.0</th>\n",
       "      <td>75.757576</td>\n",
       "      <td>87.037037</td>\n",
       "      <td>80.107527</td>\n",
       "      <td>81.226054</td>\n",
       "    </tr>\n",
       "    <tr>\n",
       "      <th>4.0</th>\n",
       "      <td>15.151515</td>\n",
       "      <td>11.111111</td>\n",
       "      <td>13.978495</td>\n",
       "      <td>15.900383</td>\n",
       "    </tr>\n",
       "    <tr>\n",
       "      <th>5.0</th>\n",
       "      <td>0.000000</td>\n",
       "      <td>1.851852</td>\n",
       "      <td>0.537634</td>\n",
       "      <td>0.766284</td>\n",
       "    </tr>\n",
       "    <tr>\n",
       "      <th>6.0</th>\n",
       "      <td>0.000000</td>\n",
       "      <td>0.000000</td>\n",
       "      <td>0.000000</td>\n",
       "      <td>0.191571</td>\n",
       "    </tr>\n",
       "  </tbody>\n",
       "</table>\n",
       "</div>"
      ],
      "text/plain": [
       "IN_LABORATORIO_INFORMATICA        0.0                   1.0           \n",
       "IN_LABORATORIO_CIENCIAS           0.0        1.0        0.0        1.0\n",
       "NIVEL                                                                 \n",
       "1.0                          0.000000   0.000000   1.075269   0.000000\n",
       "2.0                          9.090909   0.000000   4.301075   1.915709\n",
       "3.0                         75.757576  87.037037  80.107527  81.226054\n",
       "4.0                         15.151515  11.111111  13.978495  15.900383\n",
       "5.0                          0.000000   1.851852   0.537634   0.766284\n",
       "6.0                          0.000000   0.000000   0.000000   0.191571"
      ]
     },
     "execution_count": 17,
     "metadata": {},
     "output_type": "execute_result"
    }
   ],
   "source": [
    "compare = [inse['IN_LABORATORIO_INFORMATICA'], inse['IN_LABORATORIO_CIENCIAS']]\n",
    "pd.crosstab(inse['NIVEL'], compare, normalize=1)*100"
   ]
  },
  {
   "cell_type": "code",
   "execution_count": 18,
   "metadata": {
    "hidden": true
   },
   "outputs": [
    {
     "data": {
      "text/html": [
       "<div>\n",
       "<style scoped>\n",
       "    .dataframe tbody tr th:only-of-type {\n",
       "        vertical-align: middle;\n",
       "    }\n",
       "\n",
       "    .dataframe tbody tr th {\n",
       "        vertical-align: top;\n",
       "    }\n",
       "\n",
       "    .dataframe thead th {\n",
       "        text-align: right;\n",
       "    }\n",
       "</style>\n",
       "<table border=\"1\" class=\"dataframe\">\n",
       "  <thead>\n",
       "    <tr style=\"text-align: right;\">\n",
       "      <th>IN_BIBLIOTECA</th>\n",
       "      <th>0.0</th>\n",
       "      <th>1.0</th>\n",
       "    </tr>\n",
       "    <tr>\n",
       "      <th>NIVEL</th>\n",
       "      <th></th>\n",
       "      <th></th>\n",
       "    </tr>\n",
       "  </thead>\n",
       "  <tbody>\n",
       "    <tr>\n",
       "      <th>1.0</th>\n",
       "      <td>1.428571</td>\n",
       "      <td>0.128370</td>\n",
       "    </tr>\n",
       "    <tr>\n",
       "      <th>2.0</th>\n",
       "      <td>2.857143</td>\n",
       "      <td>2.439024</td>\n",
       "    </tr>\n",
       "    <tr>\n",
       "      <th>3.0</th>\n",
       "      <td>84.285714</td>\n",
       "      <td>81.258023</td>\n",
       "    </tr>\n",
       "    <tr>\n",
       "      <th>4.0</th>\n",
       "      <td>10.000000</td>\n",
       "      <td>15.275995</td>\n",
       "    </tr>\n",
       "    <tr>\n",
       "      <th>5.0</th>\n",
       "      <td>1.428571</td>\n",
       "      <td>0.770218</td>\n",
       "    </tr>\n",
       "    <tr>\n",
       "      <th>6.0</th>\n",
       "      <td>0.000000</td>\n",
       "      <td>0.128370</td>\n",
       "    </tr>\n",
       "  </tbody>\n",
       "</table>\n",
       "</div>"
      ],
      "text/plain": [
       "IN_BIBLIOTECA        0.0        1.0\n",
       "NIVEL                              \n",
       "1.0             1.428571   0.128370\n",
       "2.0             2.857143   2.439024\n",
       "3.0            84.285714  81.258023\n",
       "4.0            10.000000  15.275995\n",
       "5.0             1.428571   0.770218\n",
       "6.0             0.000000   0.128370"
      ]
     },
     "execution_count": 18,
     "metadata": {},
     "output_type": "execute_result"
    }
   ],
   "source": [
    "pd.crosstab(inse['NIVEL'], inse['IN_BIBLIOTECA'], normalize=1)*100"
   ]
  },
  {
   "cell_type": "code",
   "execution_count": 19,
   "metadata": {
    "hidden": true
   },
   "outputs": [
    {
     "data": {
      "text/html": [
       "<div>\n",
       "<style scoped>\n",
       "    .dataframe tbody tr th:only-of-type {\n",
       "        vertical-align: middle;\n",
       "    }\n",
       "\n",
       "    .dataframe tbody tr th {\n",
       "        vertical-align: top;\n",
       "    }\n",
       "\n",
       "    .dataframe thead tr th {\n",
       "        text-align: left;\n",
       "    }\n",
       "\n",
       "    .dataframe thead tr:last-of-type th {\n",
       "        text-align: right;\n",
       "    }\n",
       "</style>\n",
       "<table border=\"1\" class=\"dataframe\">\n",
       "  <thead>\n",
       "    <tr>\n",
       "      <th>IN_BIBLIOTECA</th>\n",
       "      <th colspan=\"2\" halign=\"left\">0.0</th>\n",
       "      <th colspan=\"2\" halign=\"left\">1.0</th>\n",
       "    </tr>\n",
       "    <tr>\n",
       "      <th>IN_LABORATORIO_CIENCIAS</th>\n",
       "      <th>0.0</th>\n",
       "      <th>1.0</th>\n",
       "      <th>0.0</th>\n",
       "      <th>1.0</th>\n",
       "    </tr>\n",
       "    <tr>\n",
       "      <th>NIVEL</th>\n",
       "      <th></th>\n",
       "      <th></th>\n",
       "      <th></th>\n",
       "      <th></th>\n",
       "    </tr>\n",
       "  </thead>\n",
       "  <tbody>\n",
       "    <tr>\n",
       "      <th>1.0</th>\n",
       "      <td>2.0</td>\n",
       "      <td>0.0</td>\n",
       "      <td>0.591716</td>\n",
       "      <td>0.000000</td>\n",
       "    </tr>\n",
       "    <tr>\n",
       "      <th>2.0</th>\n",
       "      <td>4.0</td>\n",
       "      <td>0.0</td>\n",
       "      <td>5.325444</td>\n",
       "      <td>1.639344</td>\n",
       "    </tr>\n",
       "    <tr>\n",
       "      <th>3.0</th>\n",
       "      <td>86.0</td>\n",
       "      <td>80.0</td>\n",
       "      <td>77.514793</td>\n",
       "      <td>82.295082</td>\n",
       "    </tr>\n",
       "    <tr>\n",
       "      <th>4.0</th>\n",
       "      <td>8.0</td>\n",
       "      <td>15.0</td>\n",
       "      <td>15.976331</td>\n",
       "      <td>15.081967</td>\n",
       "    </tr>\n",
       "    <tr>\n",
       "      <th>5.0</th>\n",
       "      <td>0.0</td>\n",
       "      <td>5.0</td>\n",
       "      <td>0.591716</td>\n",
       "      <td>0.819672</td>\n",
       "    </tr>\n",
       "    <tr>\n",
       "      <th>6.0</th>\n",
       "      <td>0.0</td>\n",
       "      <td>0.0</td>\n",
       "      <td>0.000000</td>\n",
       "      <td>0.163934</td>\n",
       "    </tr>\n",
       "  </tbody>\n",
       "</table>\n",
       "</div>"
      ],
      "text/plain": [
       "IN_BIBLIOTECA             0.0              1.0           \n",
       "IN_LABORATORIO_CIENCIAS   0.0   1.0        0.0        1.0\n",
       "NIVEL                                                    \n",
       "1.0                       2.0   0.0   0.591716   0.000000\n",
       "2.0                       4.0   0.0   5.325444   1.639344\n",
       "3.0                      86.0  80.0  77.514793  82.295082\n",
       "4.0                       8.0  15.0  15.976331  15.081967\n",
       "5.0                       0.0   5.0   0.591716   0.819672\n",
       "6.0                       0.0   0.0   0.000000   0.163934"
      ]
     },
     "execution_count": 19,
     "metadata": {},
     "output_type": "execute_result"
    }
   ],
   "source": [
    "compare = [inse['IN_BIBLIOTECA'], inse['IN_LABORATORIO_CIENCIAS']]\n",
    "pd.crosstab(inse['NIVEL'], compare, normalize=1)*100"
   ]
  },
  {
   "cell_type": "code",
   "execution_count": 20,
   "metadata": {
    "hidden": true
   },
   "outputs": [
    {
     "data": {
      "text/html": [
       "<div>\n",
       "<style scoped>\n",
       "    .dataframe tbody tr th:only-of-type {\n",
       "        vertical-align: middle;\n",
       "    }\n",
       "\n",
       "    .dataframe tbody tr th {\n",
       "        vertical-align: top;\n",
       "    }\n",
       "\n",
       "    .dataframe thead th {\n",
       "        text-align: right;\n",
       "    }\n",
       "</style>\n",
       "<table border=\"1\" class=\"dataframe\">\n",
       "  <thead>\n",
       "    <tr style=\"text-align: right;\">\n",
       "      <th>IN_BANHEIRO_FORA_PREDIO</th>\n",
       "      <th>0.0</th>\n",
       "      <th>1.0</th>\n",
       "    </tr>\n",
       "    <tr>\n",
       "      <th>NIVEL</th>\n",
       "      <th></th>\n",
       "      <th></th>\n",
       "    </tr>\n",
       "  </thead>\n",
       "  <tbody>\n",
       "    <tr>\n",
       "      <th>1.0</th>\n",
       "      <td>1.020408</td>\n",
       "      <td>0.000000</td>\n",
       "    </tr>\n",
       "    <tr>\n",
       "      <th>2.0</th>\n",
       "      <td>2.551020</td>\n",
       "      <td>2.450230</td>\n",
       "    </tr>\n",
       "    <tr>\n",
       "      <th>3.0</th>\n",
       "      <td>77.040816</td>\n",
       "      <td>82.848392</td>\n",
       "    </tr>\n",
       "    <tr>\n",
       "      <th>4.0</th>\n",
       "      <td>17.857143</td>\n",
       "      <td>13.935681</td>\n",
       "    </tr>\n",
       "    <tr>\n",
       "      <th>5.0</th>\n",
       "      <td>1.020408</td>\n",
       "      <td>0.765697</td>\n",
       "    </tr>\n",
       "    <tr>\n",
       "      <th>6.0</th>\n",
       "      <td>0.510204</td>\n",
       "      <td>0.000000</td>\n",
       "    </tr>\n",
       "  </tbody>\n",
       "</table>\n",
       "</div>"
      ],
      "text/plain": [
       "IN_BANHEIRO_FORA_PREDIO        0.0        1.0\n",
       "NIVEL                                        \n",
       "1.0                       1.020408   0.000000\n",
       "2.0                       2.551020   2.450230\n",
       "3.0                      77.040816  82.848392\n",
       "4.0                      17.857143  13.935681\n",
       "5.0                       1.020408   0.765697\n",
       "6.0                       0.510204   0.000000"
      ]
     },
     "execution_count": 20,
     "metadata": {},
     "output_type": "execute_result"
    }
   ],
   "source": [
    "pd.crosstab(inse['NIVEL'], inse['IN_BANHEIRO_FORA_PREDIO'], normalize=1)*100"
   ]
  },
  {
   "cell_type": "code",
   "execution_count": 21,
   "metadata": {
    "hidden": true
   },
   "outputs": [
    {
     "data": {
      "text/html": [
       "<div>\n",
       "<style scoped>\n",
       "    .dataframe tbody tr th:only-of-type {\n",
       "        vertical-align: middle;\n",
       "    }\n",
       "\n",
       "    .dataframe tbody tr th {\n",
       "        vertical-align: top;\n",
       "    }\n",
       "\n",
       "    .dataframe thead tr th {\n",
       "        text-align: left;\n",
       "    }\n",
       "\n",
       "    .dataframe thead tr:last-of-type th {\n",
       "        text-align: right;\n",
       "    }\n",
       "</style>\n",
       "<table border=\"1\" class=\"dataframe\">\n",
       "  <thead>\n",
       "    <tr>\n",
       "      <th>IN_BIBLIOTECA</th>\n",
       "      <th colspan=\"2\" halign=\"left\">0.0</th>\n",
       "      <th colspan=\"2\" halign=\"left\">1.0</th>\n",
       "    </tr>\n",
       "    <tr>\n",
       "      <th>IN_BANHEIRO_FORA_PREDIO</th>\n",
       "      <th>0.0</th>\n",
       "      <th>1.0</th>\n",
       "      <th>0.0</th>\n",
       "      <th>1.0</th>\n",
       "    </tr>\n",
       "    <tr>\n",
       "      <th>NIVEL</th>\n",
       "      <th></th>\n",
       "      <th></th>\n",
       "      <th></th>\n",
       "      <th></th>\n",
       "    </tr>\n",
       "  </thead>\n",
       "  <tbody>\n",
       "    <tr>\n",
       "      <th>1.0</th>\n",
       "      <td>2.222222</td>\n",
       "      <td>0.0</td>\n",
       "      <td>0.662252</td>\n",
       "      <td>0.000000</td>\n",
       "    </tr>\n",
       "    <tr>\n",
       "      <th>2.0</th>\n",
       "      <td>2.222222</td>\n",
       "      <td>4.0</td>\n",
       "      <td>2.649007</td>\n",
       "      <td>2.388535</td>\n",
       "    </tr>\n",
       "    <tr>\n",
       "      <th>3.0</th>\n",
       "      <td>88.888889</td>\n",
       "      <td>76.0</td>\n",
       "      <td>73.509934</td>\n",
       "      <td>83.121019</td>\n",
       "    </tr>\n",
       "    <tr>\n",
       "      <th>4.0</th>\n",
       "      <td>4.444444</td>\n",
       "      <td>20.0</td>\n",
       "      <td>21.854305</td>\n",
       "      <td>13.694268</td>\n",
       "    </tr>\n",
       "    <tr>\n",
       "      <th>5.0</th>\n",
       "      <td>2.222222</td>\n",
       "      <td>0.0</td>\n",
       "      <td>0.662252</td>\n",
       "      <td>0.796178</td>\n",
       "    </tr>\n",
       "    <tr>\n",
       "      <th>6.0</th>\n",
       "      <td>0.000000</td>\n",
       "      <td>0.0</td>\n",
       "      <td>0.662252</td>\n",
       "      <td>0.000000</td>\n",
       "    </tr>\n",
       "  </tbody>\n",
       "</table>\n",
       "</div>"
      ],
      "text/plain": [
       "IN_BIBLIOTECA                  0.0              1.0           \n",
       "IN_BANHEIRO_FORA_PREDIO        0.0   1.0        0.0        1.0\n",
       "NIVEL                                                         \n",
       "1.0                       2.222222   0.0   0.662252   0.000000\n",
       "2.0                       2.222222   4.0   2.649007   2.388535\n",
       "3.0                      88.888889  76.0  73.509934  83.121019\n",
       "4.0                       4.444444  20.0  21.854305  13.694268\n",
       "5.0                       2.222222   0.0   0.662252   0.796178\n",
       "6.0                       0.000000   0.0   0.662252   0.000000"
      ]
     },
     "execution_count": 21,
     "metadata": {},
     "output_type": "execute_result"
    }
   ],
   "source": [
    "compare = [inse['IN_BIBLIOTECA'], inse['IN_BANHEIRO_FORA_PREDIO']]\n",
    "pd.crosstab(inse['NIVEL'], compare, normalize=1)*100"
   ]
  },
  {
   "cell_type": "code",
   "execution_count": 22,
   "metadata": {
    "hidden": true
   },
   "outputs": [
    {
     "data": {
      "text/html": [
       "<div>\n",
       "<style scoped>\n",
       "    .dataframe tbody tr th:only-of-type {\n",
       "        vertical-align: middle;\n",
       "    }\n",
       "\n",
       "    .dataframe tbody tr th {\n",
       "        vertical-align: top;\n",
       "    }\n",
       "\n",
       "    .dataframe thead th {\n",
       "        text-align: right;\n",
       "    }\n",
       "</style>\n",
       "<table border=\"1\" class=\"dataframe\">\n",
       "  <thead>\n",
       "    <tr style=\"text-align: right;\">\n",
       "      <th>IN_N_COMP_15</th>\n",
       "      <th>0</th>\n",
       "      <th>1</th>\n",
       "    </tr>\n",
       "    <tr>\n",
       "      <th>NIVEL</th>\n",
       "      <th></th>\n",
       "      <th></th>\n",
       "    </tr>\n",
       "  </thead>\n",
       "  <tbody>\n",
       "    <tr>\n",
       "      <th>1.0</th>\n",
       "      <td>0.313480</td>\n",
       "      <td>0.000000</td>\n",
       "    </tr>\n",
       "    <tr>\n",
       "      <th>2.0</th>\n",
       "      <td>2.664577</td>\n",
       "      <td>1.895735</td>\n",
       "    </tr>\n",
       "    <tr>\n",
       "      <th>3.0</th>\n",
       "      <td>81.347962</td>\n",
       "      <td>81.990521</td>\n",
       "    </tr>\n",
       "    <tr>\n",
       "      <th>4.0</th>\n",
       "      <td>14.576803</td>\n",
       "      <td>15.639810</td>\n",
       "    </tr>\n",
       "    <tr>\n",
       "      <th>5.0</th>\n",
       "      <td>1.097179</td>\n",
       "      <td>0.000000</td>\n",
       "    </tr>\n",
       "    <tr>\n",
       "      <th>6.0</th>\n",
       "      <td>0.000000</td>\n",
       "      <td>0.473934</td>\n",
       "    </tr>\n",
       "  </tbody>\n",
       "</table>\n",
       "</div>"
      ],
      "text/plain": [
       "IN_N_COMP_15          0          1\n",
       "NIVEL                             \n",
       "1.0            0.313480   0.000000\n",
       "2.0            2.664577   1.895735\n",
       "3.0           81.347962  81.990521\n",
       "4.0           14.576803  15.639810\n",
       "5.0            1.097179   0.000000\n",
       "6.0            0.000000   0.473934"
      ]
     },
     "execution_count": 22,
     "metadata": {},
     "output_type": "execute_result"
    }
   ],
   "source": [
    "pd.crosstab(inse['NIVEL'], inse['IN_N_COMP_15'], normalize=1)*100"
   ]
  },
  {
   "cell_type": "code",
   "execution_count": 23,
   "metadata": {
    "hidden": true
   },
   "outputs": [
    {
     "data": {
      "text/html": [
       "<div>\n",
       "<style scoped>\n",
       "    .dataframe tbody tr th:only-of-type {\n",
       "        vertical-align: middle;\n",
       "    }\n",
       "\n",
       "    .dataframe tbody tr th {\n",
       "        vertical-align: top;\n",
       "    }\n",
       "\n",
       "    .dataframe thead tr th {\n",
       "        text-align: left;\n",
       "    }\n",
       "\n",
       "    .dataframe thead tr:last-of-type th {\n",
       "        text-align: right;\n",
       "    }\n",
       "</style>\n",
       "<table border=\"1\" class=\"dataframe\">\n",
       "  <thead>\n",
       "    <tr>\n",
       "      <th>IN_LABORATORIO_INFORMATICA</th>\n",
       "      <th colspan=\"4\" halign=\"left\">0.0</th>\n",
       "      <th colspan=\"4\" halign=\"left\">1.0</th>\n",
       "    </tr>\n",
       "    <tr>\n",
       "      <th>IN_LABORATORIO_CIENCIAS</th>\n",
       "      <th colspan=\"2\" halign=\"left\">0.0</th>\n",
       "      <th colspan=\"2\" halign=\"left\">1.0</th>\n",
       "      <th colspan=\"2\" halign=\"left\">0.0</th>\n",
       "      <th colspan=\"2\" halign=\"left\">1.0</th>\n",
       "    </tr>\n",
       "    <tr>\n",
       "      <th>IN_N_COMP_15</th>\n",
       "      <th>0</th>\n",
       "      <th>1</th>\n",
       "      <th>0</th>\n",
       "      <th>1</th>\n",
       "      <th>0</th>\n",
       "      <th>1</th>\n",
       "      <th>0</th>\n",
       "      <th>1</th>\n",
       "    </tr>\n",
       "    <tr>\n",
       "      <th>NIVEL</th>\n",
       "      <th></th>\n",
       "      <th></th>\n",
       "      <th></th>\n",
       "      <th></th>\n",
       "      <th></th>\n",
       "      <th></th>\n",
       "      <th></th>\n",
       "      <th></th>\n",
       "    </tr>\n",
       "  </thead>\n",
       "  <tbody>\n",
       "    <tr>\n",
       "      <th>1.0</th>\n",
       "      <td>0.000</td>\n",
       "      <td>0.0</td>\n",
       "      <td>0.000000</td>\n",
       "      <td>0.0</td>\n",
       "      <td>1.526718</td>\n",
       "      <td>0.000000</td>\n",
       "      <td>0.000000</td>\n",
       "      <td>0.000000</td>\n",
       "    </tr>\n",
       "    <tr>\n",
       "      <th>2.0</th>\n",
       "      <td>9.375</td>\n",
       "      <td>0.0</td>\n",
       "      <td>0.000000</td>\n",
       "      <td>0.0</td>\n",
       "      <td>5.343511</td>\n",
       "      <td>1.818182</td>\n",
       "      <td>1.897019</td>\n",
       "      <td>1.960784</td>\n",
       "    </tr>\n",
       "    <tr>\n",
       "      <th>3.0</th>\n",
       "      <td>78.125</td>\n",
       "      <td>0.0</td>\n",
       "      <td>86.792453</td>\n",
       "      <td>100.0</td>\n",
       "      <td>79.389313</td>\n",
       "      <td>81.818182</td>\n",
       "      <td>80.758808</td>\n",
       "      <td>82.352941</td>\n",
       "    </tr>\n",
       "    <tr>\n",
       "      <th>4.0</th>\n",
       "      <td>12.500</td>\n",
       "      <td>100.0</td>\n",
       "      <td>11.320755</td>\n",
       "      <td>0.0</td>\n",
       "      <td>12.977099</td>\n",
       "      <td>16.363636</td>\n",
       "      <td>16.260163</td>\n",
       "      <td>15.032680</td>\n",
       "    </tr>\n",
       "    <tr>\n",
       "      <th>5.0</th>\n",
       "      <td>0.000</td>\n",
       "      <td>0.0</td>\n",
       "      <td>1.886792</td>\n",
       "      <td>0.0</td>\n",
       "      <td>0.763359</td>\n",
       "      <td>0.000000</td>\n",
       "      <td>1.084011</td>\n",
       "      <td>0.000000</td>\n",
       "    </tr>\n",
       "    <tr>\n",
       "      <th>6.0</th>\n",
       "      <td>0.000</td>\n",
       "      <td>0.0</td>\n",
       "      <td>0.000000</td>\n",
       "      <td>0.0</td>\n",
       "      <td>0.000000</td>\n",
       "      <td>0.000000</td>\n",
       "      <td>0.000000</td>\n",
       "      <td>0.653595</td>\n",
       "    </tr>\n",
       "  </tbody>\n",
       "</table>\n",
       "</div>"
      ],
      "text/plain": [
       "IN_LABORATORIO_INFORMATICA     0.0                                 1.0  \\\n",
       "IN_LABORATORIO_CIENCIAS        0.0               1.0               0.0   \n",
       "IN_N_COMP_15                     0      1          0      1          0   \n",
       "NIVEL                                                                    \n",
       "1.0                          0.000    0.0   0.000000    0.0   1.526718   \n",
       "2.0                          9.375    0.0   0.000000    0.0   5.343511   \n",
       "3.0                         78.125    0.0  86.792453  100.0  79.389313   \n",
       "4.0                         12.500  100.0  11.320755    0.0  12.977099   \n",
       "5.0                          0.000    0.0   1.886792    0.0   0.763359   \n",
       "6.0                          0.000    0.0   0.000000    0.0   0.000000   \n",
       "\n",
       "IN_LABORATORIO_INFORMATICA                                   \n",
       "IN_LABORATORIO_CIENCIAS                      1.0             \n",
       "IN_N_COMP_15                        1          0          1  \n",
       "NIVEL                                                        \n",
       "1.0                          0.000000   0.000000   0.000000  \n",
       "2.0                          1.818182   1.897019   1.960784  \n",
       "3.0                         81.818182  80.758808  82.352941  \n",
       "4.0                         16.363636  16.260163  15.032680  \n",
       "5.0                          0.000000   1.084011   0.000000  \n",
       "6.0                          0.000000   0.000000   0.653595  "
      ]
     },
     "execution_count": 23,
     "metadata": {},
     "output_type": "execute_result"
    }
   ],
   "source": [
    "compare = [inse['IN_LABORATORIO_INFORMATICA'], inse['IN_LABORATORIO_CIENCIAS'], inse['IN_N_COMP_15']]\n",
    "           # inse['IN_BIBLIOTECA'], inse['IN_BANHEIRO_FORA_PREDIO'], inse['IN_QUADRA_ESPORTES']]\n",
    "\n",
    "pd.crosstab(inse['NIVEL'], compare, normalize=1)*100"
   ]
  },
  {
   "cell_type": "code",
   "execution_count": 24,
   "metadata": {
    "hidden": true
   },
   "outputs": [
    {
     "data": {
      "text/html": [
       "<div>\n",
       "<style scoped>\n",
       "    .dataframe tbody tr th:only-of-type {\n",
       "        vertical-align: middle;\n",
       "    }\n",
       "\n",
       "    .dataframe tbody tr th {\n",
       "        vertical-align: top;\n",
       "    }\n",
       "\n",
       "    .dataframe thead tr th {\n",
       "        text-align: left;\n",
       "    }\n",
       "\n",
       "    .dataframe thead tr:last-of-type th {\n",
       "        text-align: right;\n",
       "    }\n",
       "</style>\n",
       "<table border=\"1\" class=\"dataframe\">\n",
       "  <thead>\n",
       "    <tr>\n",
       "      <th>IN_BIBLIOTECA</th>\n",
       "      <th colspan=\"4\" halign=\"left\">0.0</th>\n",
       "      <th colspan=\"4\" halign=\"left\">1.0</th>\n",
       "    </tr>\n",
       "    <tr>\n",
       "      <th>IN_BANHEIRO_FORA_PREDIO</th>\n",
       "      <th colspan=\"2\" halign=\"left\">0.0</th>\n",
       "      <th colspan=\"2\" halign=\"left\">1.0</th>\n",
       "      <th colspan=\"2\" halign=\"left\">0.0</th>\n",
       "      <th colspan=\"2\" halign=\"left\">1.0</th>\n",
       "    </tr>\n",
       "    <tr>\n",
       "      <th>IN_QUADRA_ESPORTES</th>\n",
       "      <th>0.0</th>\n",
       "      <th>1.0</th>\n",
       "      <th>0.0</th>\n",
       "      <th>1.0</th>\n",
       "      <th>0.0</th>\n",
       "      <th>1.0</th>\n",
       "      <th>0.0</th>\n",
       "      <th>1.0</th>\n",
       "    </tr>\n",
       "    <tr>\n",
       "      <th>NIVEL</th>\n",
       "      <th></th>\n",
       "      <th></th>\n",
       "      <th></th>\n",
       "      <th></th>\n",
       "      <th></th>\n",
       "      <th></th>\n",
       "      <th></th>\n",
       "      <th></th>\n",
       "    </tr>\n",
       "  </thead>\n",
       "  <tbody>\n",
       "    <tr>\n",
       "      <th>1.0</th>\n",
       "      <td>5.555556</td>\n",
       "      <td>0.000000</td>\n",
       "      <td>0.0</td>\n",
       "      <td>0.000000</td>\n",
       "      <td>0.000000</td>\n",
       "      <td>0.884956</td>\n",
       "      <td>0.000000</td>\n",
       "      <td>0.000000</td>\n",
       "    </tr>\n",
       "    <tr>\n",
       "      <th>2.0</th>\n",
       "      <td>5.555556</td>\n",
       "      <td>0.000000</td>\n",
       "      <td>25.0</td>\n",
       "      <td>0.000000</td>\n",
       "      <td>2.631579</td>\n",
       "      <td>2.654867</td>\n",
       "      <td>7.142857</td>\n",
       "      <td>2.280130</td>\n",
       "    </tr>\n",
       "    <tr>\n",
       "      <th>3.0</th>\n",
       "      <td>77.777778</td>\n",
       "      <td>96.296296</td>\n",
       "      <td>50.0</td>\n",
       "      <td>80.952381</td>\n",
       "      <td>73.684211</td>\n",
       "      <td>73.451327</td>\n",
       "      <td>71.428571</td>\n",
       "      <td>83.387622</td>\n",
       "    </tr>\n",
       "    <tr>\n",
       "      <th>4.0</th>\n",
       "      <td>5.555556</td>\n",
       "      <td>3.703704</td>\n",
       "      <td>25.0</td>\n",
       "      <td>19.047619</td>\n",
       "      <td>21.052632</td>\n",
       "      <td>22.123894</td>\n",
       "      <td>21.428571</td>\n",
       "      <td>13.517915</td>\n",
       "    </tr>\n",
       "    <tr>\n",
       "      <th>5.0</th>\n",
       "      <td>5.555556</td>\n",
       "      <td>0.000000</td>\n",
       "      <td>0.0</td>\n",
       "      <td>0.000000</td>\n",
       "      <td>2.631579</td>\n",
       "      <td>0.000000</td>\n",
       "      <td>0.000000</td>\n",
       "      <td>0.814332</td>\n",
       "    </tr>\n",
       "    <tr>\n",
       "      <th>6.0</th>\n",
       "      <td>0.000000</td>\n",
       "      <td>0.000000</td>\n",
       "      <td>0.0</td>\n",
       "      <td>0.000000</td>\n",
       "      <td>0.000000</td>\n",
       "      <td>0.884956</td>\n",
       "      <td>0.000000</td>\n",
       "      <td>0.000000</td>\n",
       "    </tr>\n",
       "  </tbody>\n",
       "</table>\n",
       "</div>"
      ],
      "text/plain": [
       "IN_BIBLIOTECA                  0.0                                    1.0  \\\n",
       "IN_BANHEIRO_FORA_PREDIO        0.0              1.0                   0.0   \n",
       "IN_QUADRA_ESPORTES             0.0        1.0   0.0        1.0        0.0   \n",
       "NIVEL                                                                       \n",
       "1.0                       5.555556   0.000000   0.0   0.000000   0.000000   \n",
       "2.0                       5.555556   0.000000  25.0   0.000000   2.631579   \n",
       "3.0                      77.777778  96.296296  50.0  80.952381  73.684211   \n",
       "4.0                       5.555556   3.703704  25.0  19.047619  21.052632   \n",
       "5.0                       5.555556   0.000000   0.0   0.000000   2.631579   \n",
       "6.0                       0.000000   0.000000   0.0   0.000000   0.000000   \n",
       "\n",
       "IN_BIBLIOTECA                                             \n",
       "IN_BANHEIRO_FORA_PREDIO                   1.0             \n",
       "IN_QUADRA_ESPORTES             1.0        0.0        1.0  \n",
       "NIVEL                                                     \n",
       "1.0                       0.884956   0.000000   0.000000  \n",
       "2.0                       2.654867   7.142857   2.280130  \n",
       "3.0                      73.451327  71.428571  83.387622  \n",
       "4.0                      22.123894  21.428571  13.517915  \n",
       "5.0                       0.000000   0.000000   0.814332  \n",
       "6.0                       0.884956   0.000000   0.000000  "
      ]
     },
     "execution_count": 24,
     "metadata": {},
     "output_type": "execute_result"
    }
   ],
   "source": [
    "compare = [inse['IN_BIBLIOTECA'], inse['IN_BANHEIRO_FORA_PREDIO'], inse['IN_QUADRA_ESPORTES']]\n",
    "\n",
    "pd.crosstab(inse['NIVEL'], compare, normalize=1)*100"
   ]
  },
  {
   "cell_type": "code",
   "execution_count": 25,
   "metadata": {
    "hidden": true
   },
   "outputs": [
    {
     "data": {
      "text/html": [
       "<div>\n",
       "<style scoped>\n",
       "    .dataframe tbody tr th:only-of-type {\n",
       "        vertical-align: middle;\n",
       "    }\n",
       "\n",
       "    .dataframe tbody tr th {\n",
       "        vertical-align: top;\n",
       "    }\n",
       "\n",
       "    .dataframe thead tr th {\n",
       "        text-align: left;\n",
       "    }\n",
       "\n",
       "    .dataframe thead tr:last-of-type th {\n",
       "        text-align: right;\n",
       "    }\n",
       "</style>\n",
       "<table border=\"1\" class=\"dataframe\">\n",
       "  <thead>\n",
       "    <tr>\n",
       "      <th>IN_BIBLIOTECA</th>\n",
       "      <th colspan=\"4\" halign=\"left\">0.0</th>\n",
       "      <th colspan=\"4\" halign=\"left\">1.0</th>\n",
       "    </tr>\n",
       "    <tr>\n",
       "      <th>IN_BANHEIRO_FORA_PREDIO</th>\n",
       "      <th colspan=\"2\" halign=\"left\">0.0</th>\n",
       "      <th colspan=\"2\" halign=\"left\">1.0</th>\n",
       "      <th colspan=\"2\" halign=\"left\">0.0</th>\n",
       "      <th colspan=\"2\" halign=\"left\">1.0</th>\n",
       "    </tr>\n",
       "    <tr>\n",
       "      <th>IN_QUADRA_ESPORTES</th>\n",
       "      <th>0.0</th>\n",
       "      <th>1.0</th>\n",
       "      <th>0.0</th>\n",
       "      <th>1.0</th>\n",
       "      <th>0.0</th>\n",
       "      <th>1.0</th>\n",
       "      <th>0.0</th>\n",
       "      <th>1.0</th>\n",
       "    </tr>\n",
       "    <tr>\n",
       "      <th>NIVEL</th>\n",
       "      <th></th>\n",
       "      <th></th>\n",
       "      <th></th>\n",
       "      <th></th>\n",
       "      <th></th>\n",
       "      <th></th>\n",
       "      <th></th>\n",
       "      <th></th>\n",
       "    </tr>\n",
       "  </thead>\n",
       "  <tbody>\n",
       "    <tr>\n",
       "      <th>1.0</th>\n",
       "      <td>1</td>\n",
       "      <td>0</td>\n",
       "      <td>0</td>\n",
       "      <td>0</td>\n",
       "      <td>0</td>\n",
       "      <td>1</td>\n",
       "      <td>0</td>\n",
       "      <td>0</td>\n",
       "    </tr>\n",
       "    <tr>\n",
       "      <th>2.0</th>\n",
       "      <td>1</td>\n",
       "      <td>0</td>\n",
       "      <td>1</td>\n",
       "      <td>0</td>\n",
       "      <td>1</td>\n",
       "      <td>3</td>\n",
       "      <td>1</td>\n",
       "      <td>14</td>\n",
       "    </tr>\n",
       "    <tr>\n",
       "      <th>3.0</th>\n",
       "      <td>14</td>\n",
       "      <td>26</td>\n",
       "      <td>2</td>\n",
       "      <td>17</td>\n",
       "      <td>28</td>\n",
       "      <td>83</td>\n",
       "      <td>10</td>\n",
       "      <td>512</td>\n",
       "    </tr>\n",
       "    <tr>\n",
       "      <th>4.0</th>\n",
       "      <td>1</td>\n",
       "      <td>1</td>\n",
       "      <td>1</td>\n",
       "      <td>4</td>\n",
       "      <td>8</td>\n",
       "      <td>25</td>\n",
       "      <td>3</td>\n",
       "      <td>83</td>\n",
       "    </tr>\n",
       "    <tr>\n",
       "      <th>5.0</th>\n",
       "      <td>1</td>\n",
       "      <td>0</td>\n",
       "      <td>0</td>\n",
       "      <td>0</td>\n",
       "      <td>1</td>\n",
       "      <td>0</td>\n",
       "      <td>0</td>\n",
       "      <td>5</td>\n",
       "    </tr>\n",
       "    <tr>\n",
       "      <th>6.0</th>\n",
       "      <td>0</td>\n",
       "      <td>0</td>\n",
       "      <td>0</td>\n",
       "      <td>0</td>\n",
       "      <td>0</td>\n",
       "      <td>1</td>\n",
       "      <td>0</td>\n",
       "      <td>0</td>\n",
       "    </tr>\n",
       "  </tbody>\n",
       "</table>\n",
       "</div>"
      ],
      "text/plain": [
       "IN_BIBLIOTECA           0.0             1.0             \n",
       "IN_BANHEIRO_FORA_PREDIO 0.0     1.0     0.0     1.0     \n",
       "IN_QUADRA_ESPORTES      0.0 1.0 0.0 1.0 0.0 1.0 0.0  1.0\n",
       "NIVEL                                                   \n",
       "1.0                       1   0   0   0   0   1   0    0\n",
       "2.0                       1   0   1   0   1   3   1   14\n",
       "3.0                      14  26   2  17  28  83  10  512\n",
       "4.0                       1   1   1   4   8  25   3   83\n",
       "5.0                       1   0   0   0   1   0   0    5\n",
       "6.0                       0   0   0   0   0   1   0    0"
      ]
     },
     "execution_count": 25,
     "metadata": {},
     "output_type": "execute_result"
    }
   ],
   "source": [
    "pd.crosstab(inse['NIVEL'], compare)"
   ]
  },
  {
   "cell_type": "markdown",
   "metadata": {},
   "source": [
    "## Percentual de evasão"
   ]
  },
  {
   "cell_type": "code",
   "execution_count": 26,
   "metadata": {
    "scrolled": false
   },
   "outputs": [
    {
     "data": {
      "application/vnd.plotly.v1+json": {
       "config": {
        "linkText": "Export to plot.ly",
        "plotlyServerURL": "https://plot.ly",
        "showLink": true
       },
       "data": [
        {
         "marker": {
          "color": "rgba(139, 217, 202, 0.6)",
          "line": {
           "color": "rgba(139, 217, 202, 1.0)",
           "width": 1
          }
         },
         "name": "CAT_IN_EVASAO",
         "orientation": "v",
         "text": "",
         "type": "bar",
         "uid": "a86a1ceb-e358-4e3a-b1ab-77159cd7226d",
         "x": [
          "Não evadido",
          "Evadido"
         ],
         "y": [
          0.6571719226856562,
          0.34282807731434384
         ]
        }
       ],
       "layout": {
        "legend": {
         "bgcolor": "#F5F6F9",
         "font": {
          "color": "#4D5663"
         }
        },
        "paper_bgcolor": "#F5F6F9",
        "plot_bgcolor": "#F5F6F9",
        "title": {
         "font": {
          "color": "#4D5663"
         },
         "text": "Percentual de alunos do 1º ano evadidos e não evadidos (2016 para 2017)"
        },
        "xaxis": {
         "gridcolor": "#E1E5ED",
         "showgrid": true,
         "tickfont": {
          "color": "#4D5663"
         },
         "title": {
          "font": {
           "color": "#4D5663"
          },
          "text": ""
         },
         "zerolinecolor": "#E1E5ED"
        },
        "yaxis": {
         "gridcolor": "#E1E5ED",
         "showgrid": true,
         "tickfont": {
          "color": "#4D5663"
         },
         "title": {
          "font": {
           "color": "#4D5663"
          },
          "text": ""
         },
         "zerolinecolor": "#E1E5ED"
        }
       }
      },
      "text/html": [
       "<div>\n",
       "        \n",
       "        \n",
       "            <div id=\"ff6c3810-9c16-4e2d-875f-eb902bc79a53\" class=\"plotly-graph-div\" style=\"height:525px; width:100%;\"></div>\n",
       "            <script type=\"text/javascript\">\n",
       "                require([\"plotly\"], function(Plotly) {\n",
       "                    window.PLOTLYENV=window.PLOTLYENV || {};\n",
       "                    window.PLOTLYENV.BASE_URL='https://plot.ly';\n",
       "                    \n",
       "                if (document.getElementById(\"ff6c3810-9c16-4e2d-875f-eb902bc79a53\")) {\n",
       "                    Plotly.newPlot(\n",
       "                        'ff6c3810-9c16-4e2d-875f-eb902bc79a53',\n",
       "                        [{\"marker\": {\"color\": \"rgba(139, 217, 202, 0.6)\", \"line\": {\"color\": \"rgba(139, 217, 202, 1.0)\", \"width\": 1}}, \"name\": \"CAT_IN_EVASAO\", \"orientation\": \"v\", \"text\": \"\", \"type\": \"bar\", \"uid\": \"a86a1ceb-e358-4e3a-b1ab-77159cd7226d\", \"x\": [\"N\\u00e3o evadido\", \"Evadido\"], \"y\": [0.6571719226856562, 0.34282807731434384]}],\n",
       "                        {\"legend\": {\"bgcolor\": \"#F5F6F9\", \"font\": {\"color\": \"#4D5663\"}}, \"paper_bgcolor\": \"#F5F6F9\", \"plot_bgcolor\": \"#F5F6F9\", \"title\": {\"font\": {\"color\": \"#4D5663\"}, \"text\": \"Percentual de alunos do 1\\u00ba ano evadidos e n\\u00e3o evadidos (2016 para 2017)\"}, \"xaxis\": {\"gridcolor\": \"#E1E5ED\", \"showgrid\": true, \"tickfont\": {\"color\": \"#4D5663\"}, \"title\": {\"font\": {\"color\": \"#4D5663\"}, \"text\": \"\"}, \"zerolinecolor\": \"#E1E5ED\"}, \"yaxis\": {\"gridcolor\": \"#E1E5ED\", \"showgrid\": true, \"tickfont\": {\"color\": \"#4D5663\"}, \"title\": {\"font\": {\"color\": \"#4D5663\"}, \"text\": \"\"}, \"zerolinecolor\": \"#E1E5ED\"}},\n",
       "                        {\"showLink\": true, \"linkText\": \"Export to plot.ly\", \"plotlyServerURL\": \"https://plot.ly\", \"responsive\": true}\n",
       "                    ).then(function(){\n",
       "                            \n",
       "var gd = document.getElementById('ff6c3810-9c16-4e2d-875f-eb902bc79a53');\n",
       "var x = new MutationObserver(function (mutations, observer) {{\n",
       "        var display = window.getComputedStyle(gd).display;\n",
       "        if (!display || display === 'none') {{\n",
       "            console.log([gd, 'removed!']);\n",
       "            Plotly.purge(gd);\n",
       "            observer.disconnect();\n",
       "        }}\n",
       "}});\n",
       "\n",
       "// Listen for the removal of the full notebook cells\n",
       "var notebookContainer = gd.closest('#notebook-container');\n",
       "if (notebookContainer) {{\n",
       "    x.observe(notebookContainer, {childList: true});\n",
       "}}\n",
       "\n",
       "// Listen for the clearing of the current output cell\n",
       "var outputEl = gd.closest('.output');\n",
       "if (outputEl) {{\n",
       "    x.observe(outputEl, {childList: true});\n",
       "}}\n",
       "\n",
       "                        })\n",
       "                };\n",
       "                });\n",
       "            </script>\n",
       "        </div>"
      ]
     },
     "metadata": {},
     "output_type": "display_data"
    }
   ],
   "source": [
    "v = df['CAT_IN_EVASAO'].value_counts(normalize=True)\n",
    "\n",
    "fig = v.iplot(kind='bar', color=colorscale[1], \n",
    "              title='Percentual de alunos do 1º ano evadidos e não evadidos (2016 para 2017)')"
   ]
  },
  {
   "cell_type": "markdown",
   "metadata": {},
   "source": [
    "## Cruzamentos com dados de aluno"
   ]
  },
  {
   "cell_type": "code",
   "execution_count": 27,
   "metadata": {},
   "outputs": [],
   "source": [
    "def plot_dist(x, title2, save=True):\n",
    "    \n",
    "    v_cat = df[x].value_counts(normalize=True)\n",
    "    data = [go.Bar({'x': v_cat.index, 'y': v_cat, 'marker': {'color': colorscale}})]\n",
    "\n",
    "    fig = {'data': data, 'layout': {'title': title2}}\n",
    "    \n",
    "    if save:\n",
    "        plotly.offline.iplot(fig, image='png', filename='dist_'+x)\n",
    "    else: \n",
    "        plotly.offline.iplot(fig)\n",
    "    # plotly.offline.iplot({'data': data, 'layout': {'title': title2}}, image='png', filename='dist_'+x)\n",
    "\n",
    "def plot_categoria(x, title1, filename, ambos=True, title2=None, save=True):\n",
    "    \n",
    "    if ambos:\n",
    "        # Distribuição total\n",
    "        plot_dist(x, title2, save)\n",
    "        \n",
    "    # Distribuição com evasão\n",
    "    data = []\n",
    "    i = 0\n",
    "    for label in df[x].unique():\n",
    "        \n",
    "        v_cat = df[df[x] == label]['CAT_IN_EVASAO'].value_counts(normalize=True)\n",
    "\n",
    "        data.append(go.Bar({'x': v_cat.index, 'y': v_cat, 'name': label,\n",
    "                           'marker': {'color': colorscale[i]}}))\n",
    "        i += 1\n",
    "        \n",
    "    # Adicionando total\n",
    "    total = df['CAT_IN_EVASAO'].value_counts(normalize=True)\n",
    "    data.append(go.Bar({'x': total.index, 'y': total, 'name': 'Total', \n",
    "                        'marker': {'color': '#dbdbdb'}}))\n",
    "    \n",
    "    fig = {'data': data, 'layout': {'title': title1}}\n",
    "    \n",
    "    if save:\n",
    "        plotly.offline.iplot(fig, image='png', filename=filename)\n",
    "    else: \n",
    "        plotly.offline.iplot(fig)"
   ]
  },
  {
   "cell_type": "code",
   "execution_count": 28,
   "metadata": {},
   "outputs": [],
   "source": [
    "def cross_evasao_sexo(x, y='CAT_TP_SEXO'):\n",
    "    t = pd.crosstab([df[x], df[y]], df['CAT_IN_EVASAO'], normalize=0)*100\n",
    "    t.columns.name = None\n",
    "    return t\n",
    "\n",
    "def plot_categoria_sexo(x, title, filename, y='CAT_TP_SEXO', save=True):\n",
    "    \n",
    "    v = cross_evasao_sexo(x, y).reset_index()\n",
    "        \n",
    "    # Distribuição com evasão\n",
    "    data = []\n",
    "    i = 0\n",
    "    for label in v[x].unique():\n",
    "\n",
    "        v_cat = v[v[x] == label]\n",
    "        data.append(go.Bar({'x': v_cat[y], 'y': v_cat['Evadido'], 'name': label,\n",
    "                           'marker': {'color': colorscale[i]}}))\n",
    "        i += 1\n",
    "    \n",
    "    fig = {'data': data, 'layout': {'title': title}}\n",
    "    \n",
    "    if save:\n",
    "        plotly.offline.iplot(fig, image='png', filename=filename)\n",
    "    else: \n",
    "        plotly.offline.iplot(fig)\n",
    "        \n",
    "    # plotly.offline.iplot({'data': data, 'layout': {'title': title}}, image='png', filename=filename)\n",
    "    return v"
   ]
  },
  {
   "cell_type": "markdown",
   "metadata": {},
   "source": [
    "### Sexo"
   ]
  },
  {
   "cell_type": "code",
   "execution_count": 29,
   "metadata": {},
   "outputs": [],
   "source": [
    "# def plot_perc_categoria(x):\n",
    "    \n",
    "#     v = df[['ID', 'IN_EVASAO', x]].groupby(['IN_EVASAO', x]).sum()\n",
    "#     return v"
   ]
  },
  {
   "cell_type": "code",
   "execution_count": 30,
   "metadata": {},
   "outputs": [
    {
     "data": {
      "text/plain": [
       "array(['Mulher', 'Homem'], dtype=object)"
      ]
     },
     "execution_count": 30,
     "metadata": {},
     "output_type": "execute_result"
    }
   ],
   "source": [
    "df['CAT_TP_SEXO'].unique()"
   ]
  },
  {
   "cell_type": "code",
   "execution_count": 31,
   "metadata": {},
   "outputs": [
    {
     "data": {
      "application/vnd.plotly.v1+json": {
       "config": {
        "linkText": "Export to plot.ly",
        "plotlyServerURL": "https://plot.ly",
        "showLink": false
       },
       "data": [
        {
         "marker": {
          "color": [
           "#025951",
           "#8BD9CA",
           "#BF7F30",
           "#F2C124",
           "#8C470B",
           "#DFC27D"
          ]
         },
         "type": "bar",
         "uid": "53100a04-8de8-41d7-a8d3-96843b0f99d3",
         "x": [
          "Homem",
          "Mulher"
         ],
         "y": [
          0.5155164681302574,
          0.48448353186974263
         ]
        }
       ],
       "layout": {
        "title": {
         "text": "Distribuição de sexo entre alunos"
        }
       }
      },
      "text/html": [
       "<div>\n",
       "        \n",
       "        \n",
       "            <div id=\"f8e45dd9-52be-4126-91db-ab5d095fcef2\" class=\"plotly-graph-div\" style=\"height:525px; width:100%;\"></div>\n",
       "            <script type=\"text/javascript\">\n",
       "                require([\"plotly\"], function(Plotly) {\n",
       "                    window.PLOTLYENV=window.PLOTLYENV || {};\n",
       "                    window.PLOTLYENV.BASE_URL='https://plot.ly';\n",
       "                    \n",
       "                if (document.getElementById(\"f8e45dd9-52be-4126-91db-ab5d095fcef2\")) {\n",
       "                    Plotly.newPlot(\n",
       "                        'f8e45dd9-52be-4126-91db-ab5d095fcef2',\n",
       "                        [{\"marker\": {\"color\": [\"#025951\", \"#8BD9CA\", \"#BF7F30\", \"#F2C124\", \"#8C470B\", \"#DFC27D\"]}, \"type\": \"bar\", \"uid\": \"53100a04-8de8-41d7-a8d3-96843b0f99d3\", \"x\": [\"Homem\", \"Mulher\"], \"y\": [0.5155164681302574, 0.48448353186974263]}],\n",
       "                        {\"title\": {\"text\": \"Distribui\\u00e7\\u00e3o de sexo entre alunos\"}},\n",
       "                        {\"showLink\": false, \"linkText\": \"Export to plot.ly\", \"plotlyServerURL\": \"https://plot.ly\", \"responsive\": true}\n",
       "                    ).then(function(){\n",
       "                            \n",
       "var gd = document.getElementById('f8e45dd9-52be-4126-91db-ab5d095fcef2');\n",
       "var x = new MutationObserver(function (mutations, observer) {{\n",
       "        var display = window.getComputedStyle(gd).display;\n",
       "        if (!display || display === 'none') {{\n",
       "            console.log([gd, 'removed!']);\n",
       "            Plotly.purge(gd);\n",
       "            observer.disconnect();\n",
       "        }}\n",
       "}});\n",
       "\n",
       "// Listen for the removal of the full notebook cells\n",
       "var notebookContainer = gd.closest('#notebook-container');\n",
       "if (notebookContainer) {{\n",
       "    x.observe(notebookContainer, {childList: true});\n",
       "}}\n",
       "\n",
       "// Listen for the clearing of the current output cell\n",
       "var outputEl = gd.closest('.output');\n",
       "if (outputEl) {{\n",
       "    x.observe(outputEl, {childList: true});\n",
       "}}\n",
       "\n",
       "                        })\n",
       "                };\n",
       "                });\n",
       "            </script>\n",
       "        </div>"
      ]
     },
     "metadata": {},
     "output_type": "display_data"
    },
    {
     "data": {
      "application/vnd.plotly.v1+json": {
       "config": {
        "linkText": "Export to plot.ly",
        "plotlyServerURL": "https://plot.ly",
        "showLink": false
       },
       "data": [
        {
         "marker": {
          "color": "#025951"
         },
         "name": "Mulher",
         "type": "bar",
         "uid": "8ef6e486-f431-4906-99d5-caeb17561e23",
         "x": [
          "Não evadido",
          "Evadido"
         ],
         "y": [
          0.6796640400984398,
          0.32033595990156016
         ]
        },
        {
         "marker": {
          "color": "#8BD9CA"
         },
         "name": "Homem",
         "type": "bar",
         "uid": "0cc174ac-ab0c-4171-9124-095c407b44bf",
         "x": [
          "Não evadido",
          "Evadido"
         ],
         "y": [
          0.6360337803428959,
          0.3639662196571041
         ]
        },
        {
         "marker": {
          "color": "#dbdbdb"
         },
         "name": "Total",
         "type": "bar",
         "uid": "2e541b95-df6a-4e1b-85a0-44595dd379bb",
         "x": [
          "Não evadido",
          "Evadido"
         ],
         "y": [
          0.6571719226856562,
          0.34282807731434384
         ]
        }
       ],
       "layout": {
        "title": {
         "text": "Dentre as mulheres e homens, qual percentual evade?"
        }
       }
      },
      "text/html": [
       "<div>\n",
       "        \n",
       "        \n",
       "            <div id=\"f0a11066-8f47-40e7-b301-1c81484ed868\" class=\"plotly-graph-div\" style=\"height:525px; width:100%;\"></div>\n",
       "            <script type=\"text/javascript\">\n",
       "                require([\"plotly\"], function(Plotly) {\n",
       "                    window.PLOTLYENV=window.PLOTLYENV || {};\n",
       "                    window.PLOTLYENV.BASE_URL='https://plot.ly';\n",
       "                    \n",
       "                if (document.getElementById(\"f0a11066-8f47-40e7-b301-1c81484ed868\")) {\n",
       "                    Plotly.newPlot(\n",
       "                        'f0a11066-8f47-40e7-b301-1c81484ed868',\n",
       "                        [{\"marker\": {\"color\": \"#025951\"}, \"name\": \"Mulher\", \"type\": \"bar\", \"uid\": \"8ef6e486-f431-4906-99d5-caeb17561e23\", \"x\": [\"N\\u00e3o evadido\", \"Evadido\"], \"y\": [0.6796640400984398, 0.32033595990156016]}, {\"marker\": {\"color\": \"#8BD9CA\"}, \"name\": \"Homem\", \"type\": \"bar\", \"uid\": \"0cc174ac-ab0c-4171-9124-095c407b44bf\", \"x\": [\"N\\u00e3o evadido\", \"Evadido\"], \"y\": [0.6360337803428959, 0.3639662196571041]}, {\"marker\": {\"color\": \"#dbdbdb\"}, \"name\": \"Total\", \"type\": \"bar\", \"uid\": \"2e541b95-df6a-4e1b-85a0-44595dd379bb\", \"x\": [\"N\\u00e3o evadido\", \"Evadido\"], \"y\": [0.6571719226856562, 0.34282807731434384]}],\n",
       "                        {\"title\": {\"text\": \"Dentre as mulheres e homens, qual percentual evade?\"}},\n",
       "                        {\"showLink\": false, \"linkText\": \"Export to plot.ly\", \"plotlyServerURL\": \"https://plot.ly\", \"responsive\": true}\n",
       "                    ).then(function(){\n",
       "                            \n",
       "var gd = document.getElementById('f0a11066-8f47-40e7-b301-1c81484ed868');\n",
       "var x = new MutationObserver(function (mutations, observer) {{\n",
       "        var display = window.getComputedStyle(gd).display;\n",
       "        if (!display || display === 'none') {{\n",
       "            console.log([gd, 'removed!']);\n",
       "            Plotly.purge(gd);\n",
       "            observer.disconnect();\n",
       "        }}\n",
       "}});\n",
       "\n",
       "// Listen for the removal of the full notebook cells\n",
       "var notebookContainer = gd.closest('#notebook-container');\n",
       "if (notebookContainer) {{\n",
       "    x.observe(notebookContainer, {childList: true});\n",
       "}}\n",
       "\n",
       "// Listen for the clearing of the current output cell\n",
       "var outputEl = gd.closest('.output');\n",
       "if (outputEl) {{\n",
       "    x.observe(outputEl, {childList: true});\n",
       "}}\n",
       "\n",
       "                        })\n",
       "                };\n",
       "                });\n",
       "            </script>\n",
       "        </div>"
      ]
     },
     "metadata": {},
     "output_type": "display_data"
    }
   ],
   "source": [
    "title = 'Dentre as mulheres e homens, qual percentual evade?'\n",
    "x = 'CAT_TP_SEXO'\n",
    "categorias = {1: 'Homens', 2: 'Mulheres'}\n",
    "\n",
    "plot_categoria(x, title, 'perc_sexo_evasao', title2='Distribuição de sexo entre alunos', save=False)"
   ]
  },
  {
   "cell_type": "code",
   "execution_count": 32,
   "metadata": {},
   "outputs": [],
   "source": [
    "# v_sexo = df[df['TP_SEXO'] == 1]['IN_EVASAO'].value_counts(normalize=True)\n",
    "\n",
    "# v_sexo.index = v_sexo.index.map({1: 'Evadidos', 0: 'Não evadidos'})\n",
    "\n",
    "# data = [go.Bar({'x': v_sexo.index, \n",
    "#                 'y': v_sexo, \n",
    "#                 'name': 'Homens'}), \n",
    "#         go.Bar({'x': v.index, \n",
    "#                 'y': v, \n",
    "#                 'name': 'Total'})]\n",
    "\n",
    "# plotly.offline.iplot({'data': data, 'layout': {'title': 'Dentre os homens, qual percentual evade?'}})"
   ]
  },
  {
   "cell_type": "code",
   "execution_count": 33,
   "metadata": {},
   "outputs": [],
   "source": [
    "# v_sexo = df[['ID', 'IN_EVASAO', 'TP_SEXO']].groupby(['IN_EVASAO', 'TP_SEXO']).count() # dentre evadidos, quantas mulheres?\n",
    "# n = v_sexo.groupby('IN_EVASAO').sum()\n",
    "\n",
    "# v_sexo/n\n",
    "\n",
    "# data = [go.Bar({'x': v_sexo.index, \n",
    "#                 'y': v_sexo, \n",
    "#                 'name': 'Mulheres'}), \n",
    "#         go.Bar({'x': v.index, \n",
    "#                 'y': v, \n",
    "#                 'name': 'Total'})]\n",
    "\n",
    "# plotly.offline.iplot({'data': data, 'layout': {'title': 'Dentre evadidos, quantas são mulheres?'}})"
   ]
  },
  {
   "cell_type": "markdown",
   "metadata": {},
   "source": [
    "### Distorção Idade-Série"
   ]
  },
  {
   "cell_type": "code",
   "execution_count": 34,
   "metadata": {},
   "outputs": [
    {
     "data": {
      "application/vnd.plotly.v1+json": {
       "config": {
        "linkText": "Export to plot.ly",
        "plotlyServerURL": "https://plot.ly",
        "showLink": false
       },
       "data": [
        {
         "marker": {
          "color": "#025951"
         },
         "name": "Até 17 anos",
         "type": "bar",
         "uid": "7358062a-8876-442d-be8d-bff69a3804a6",
         "x": [
          "Homem",
          "Mulher"
         ],
         "y": [
          23.12274519674469,
          22.526100949839076
         ]
        },
        {
         "marker": {
          "color": "#8BD9CA"
         },
         "name": "Maior ou igual a 17 anos",
         "type": "bar",
         "uid": "53114127-9588-4b61-9c88-7b13acf9152a",
         "x": [
          "Homem",
          "Mulher"
         ],
         "y": [
          59.21929546175817,
          56.36677783581789
         ]
        }
       ],
       "layout": {
        "title": {
         "text": "Dentre alunos com e sem distorção idade-série, qual percentual evade?"
        }
       }
      },
      "text/html": [
       "<div>\n",
       "        \n",
       "        \n",
       "            <div id=\"2ef66d03-e968-47c4-b802-d6ed6d357ae8\" class=\"plotly-graph-div\" style=\"height:525px; width:100%;\"></div>\n",
       "            <script type=\"text/javascript\">\n",
       "                require([\"plotly\"], function(Plotly) {\n",
       "                    window.PLOTLYENV=window.PLOTLYENV || {};\n",
       "                    window.PLOTLYENV.BASE_URL='https://plot.ly';\n",
       "                    \n",
       "                if (document.getElementById(\"2ef66d03-e968-47c4-b802-d6ed6d357ae8\")) {\n",
       "                    Plotly.newPlot(\n",
       "                        '2ef66d03-e968-47c4-b802-d6ed6d357ae8',\n",
       "                        [{\"marker\": {\"color\": \"#025951\"}, \"name\": \"At\\u00e9 17 anos\", \"type\": \"bar\", \"uid\": \"7358062a-8876-442d-be8d-bff69a3804a6\", \"x\": [\"Homem\", \"Mulher\"], \"y\": [23.12274519674469, 22.526100949839076]}, {\"marker\": {\"color\": \"#8BD9CA\"}, \"name\": \"Maior ou igual a 17 anos\", \"type\": \"bar\", \"uid\": \"53114127-9588-4b61-9c88-7b13acf9152a\", \"x\": [\"Homem\", \"Mulher\"], \"y\": [59.21929546175817, 56.36677783581789]}],\n",
       "                        {\"title\": {\"text\": \"Dentre alunos com e sem distor\\u00e7\\u00e3o idade-s\\u00e9rie, qual percentual evade?\"}},\n",
       "                        {\"showLink\": false, \"linkText\": \"Export to plot.ly\", \"plotlyServerURL\": \"https://plot.ly\", \"responsive\": true}\n",
       "                    ).then(function(){\n",
       "                            \n",
       "var gd = document.getElementById('2ef66d03-e968-47c4-b802-d6ed6d357ae8');\n",
       "var x = new MutationObserver(function (mutations, observer) {{\n",
       "        var display = window.getComputedStyle(gd).display;\n",
       "        if (!display || display === 'none') {{\n",
       "            console.log([gd, 'removed!']);\n",
       "            Plotly.purge(gd);\n",
       "            observer.disconnect();\n",
       "        }}\n",
       "}});\n",
       "\n",
       "// Listen for the removal of the full notebook cells\n",
       "var notebookContainer = gd.closest('#notebook-container');\n",
       "if (notebookContainer) {{\n",
       "    x.observe(notebookContainer, {childList: true});\n",
       "}}\n",
       "\n",
       "// Listen for the clearing of the current output cell\n",
       "var outputEl = gd.closest('.output');\n",
       "if (outputEl) {{\n",
       "    x.observe(outputEl, {childList: true});\n",
       "}}\n",
       "\n",
       "                        })\n",
       "                };\n",
       "                });\n",
       "            </script>\n",
       "        </div>"
      ]
     },
     "metadata": {},
     "output_type": "display_data"
    },
    {
     "data": {
      "text/html": [
       "<div>\n",
       "<style scoped>\n",
       "    .dataframe tbody tr th:only-of-type {\n",
       "        vertical-align: middle;\n",
       "    }\n",
       "\n",
       "    .dataframe tbody tr th {\n",
       "        vertical-align: top;\n",
       "    }\n",
       "\n",
       "    .dataframe thead th {\n",
       "        text-align: right;\n",
       "    }\n",
       "</style>\n",
       "<table border=\"1\" class=\"dataframe\">\n",
       "  <thead>\n",
       "    <tr style=\"text-align: right;\">\n",
       "      <th></th>\n",
       "      <th>CAT_IN_DISTORCAO</th>\n",
       "      <th>CAT_TP_SEXO</th>\n",
       "      <th>Evadido</th>\n",
       "      <th>Não evadido</th>\n",
       "    </tr>\n",
       "  </thead>\n",
       "  <tbody>\n",
       "    <tr>\n",
       "      <th>0</th>\n",
       "      <td>Até 17 anos</td>\n",
       "      <td>Homem</td>\n",
       "      <td>23.122745</td>\n",
       "      <td>76.877255</td>\n",
       "    </tr>\n",
       "    <tr>\n",
       "      <th>1</th>\n",
       "      <td>Até 17 anos</td>\n",
       "      <td>Mulher</td>\n",
       "      <td>22.526101</td>\n",
       "      <td>77.473899</td>\n",
       "    </tr>\n",
       "    <tr>\n",
       "      <th>2</th>\n",
       "      <td>Maior ou igual a 17 anos</td>\n",
       "      <td>Homem</td>\n",
       "      <td>59.219295</td>\n",
       "      <td>40.780705</td>\n",
       "    </tr>\n",
       "    <tr>\n",
       "      <th>3</th>\n",
       "      <td>Maior ou igual a 17 anos</td>\n",
       "      <td>Mulher</td>\n",
       "      <td>56.366778</td>\n",
       "      <td>43.633222</td>\n",
       "    </tr>\n",
       "  </tbody>\n",
       "</table>\n",
       "</div>"
      ],
      "text/plain": [
       "           CAT_IN_DISTORCAO CAT_TP_SEXO    Evadido  Não evadido\n",
       "0               Até 17 anos       Homem  23.122745    76.877255\n",
       "1               Até 17 anos      Mulher  22.526101    77.473899\n",
       "2  Maior ou igual a 17 anos       Homem  59.219295    40.780705\n",
       "3  Maior ou igual a 17 anos      Mulher  56.366778    43.633222"
      ]
     },
     "execution_count": 34,
     "metadata": {},
     "output_type": "execute_result"
    }
   ],
   "source": [
    "title = 'Dentre alunos com e sem distorção idade-série, qual percentual evade?'\n",
    "x = 'CAT_IN_DISTORCAO'\n",
    "\n",
    "plot_categoria_sexo(x, title, 'perc_sexo_idade_evasao', save=False)"
   ]
  },
  {
   "cell_type": "code",
   "execution_count": 35,
   "metadata": {
    "scrolled": false
   },
   "outputs": [
    {
     "data": {
      "application/vnd.plotly.v1+json": {
       "config": {
        "linkText": "Export to plot.ly",
        "plotlyServerURL": "https://plot.ly",
        "showLink": false
       },
       "data": [
        {
         "marker": {
          "color": [
           "#025951",
           "#8BD9CA",
           "#BF7F30",
           "#F2C124",
           "#8C470B",
           "#DFC27D"
          ]
         },
         "type": "bar",
         "uid": "6d2b9baf-ddc0-4f65-bbbb-9c2d66bfa3be",
         "x": [
          "Até 17 anos",
          "Maior ou igual a 17 anos"
         ],
         "y": [
          0.6743127796191164,
          0.3256872203808836
         ]
        }
       ],
       "layout": {
        "title": {
         "text": "Percentual de alunos com e sem distorção idade-série"
        }
       }
      },
      "text/html": [
       "<div>\n",
       "        \n",
       "        \n",
       "            <div id=\"deefbf47-c4ff-4453-876a-b554c6991012\" class=\"plotly-graph-div\" style=\"height:525px; width:100%;\"></div>\n",
       "            <script type=\"text/javascript\">\n",
       "                require([\"plotly\"], function(Plotly) {\n",
       "                    window.PLOTLYENV=window.PLOTLYENV || {};\n",
       "                    window.PLOTLYENV.BASE_URL='https://plot.ly';\n",
       "                    \n",
       "                if (document.getElementById(\"deefbf47-c4ff-4453-876a-b554c6991012\")) {\n",
       "                    Plotly.newPlot(\n",
       "                        'deefbf47-c4ff-4453-876a-b554c6991012',\n",
       "                        [{\"marker\": {\"color\": [\"#025951\", \"#8BD9CA\", \"#BF7F30\", \"#F2C124\", \"#8C470B\", \"#DFC27D\"]}, \"type\": \"bar\", \"uid\": \"6d2b9baf-ddc0-4f65-bbbb-9c2d66bfa3be\", \"x\": [\"At\\u00e9 17 anos\", \"Maior ou igual a 17 anos\"], \"y\": [0.6743127796191164, 0.3256872203808836]}],\n",
       "                        {\"title\": {\"text\": \"Percentual de alunos com e sem distor\\u00e7\\u00e3o idade-s\\u00e9rie\"}},\n",
       "                        {\"showLink\": false, \"linkText\": \"Export to plot.ly\", \"plotlyServerURL\": \"https://plot.ly\", \"responsive\": true}\n",
       "                    ).then(function(){\n",
       "                            \n",
       "var gd = document.getElementById('deefbf47-c4ff-4453-876a-b554c6991012');\n",
       "var x = new MutationObserver(function (mutations, observer) {{\n",
       "        var display = window.getComputedStyle(gd).display;\n",
       "        if (!display || display === 'none') {{\n",
       "            console.log([gd, 'removed!']);\n",
       "            Plotly.purge(gd);\n",
       "            observer.disconnect();\n",
       "        }}\n",
       "}});\n",
       "\n",
       "// Listen for the removal of the full notebook cells\n",
       "var notebookContainer = gd.closest('#notebook-container');\n",
       "if (notebookContainer) {{\n",
       "    x.observe(notebookContainer, {childList: true});\n",
       "}}\n",
       "\n",
       "// Listen for the clearing of the current output cell\n",
       "var outputEl = gd.closest('.output');\n",
       "if (outputEl) {{\n",
       "    x.observe(outputEl, {childList: true});\n",
       "}}\n",
       "\n",
       "                        })\n",
       "                };\n",
       "                });\n",
       "            </script>\n",
       "        </div>"
      ]
     },
     "metadata": {},
     "output_type": "display_data"
    },
    {
     "data": {
      "application/vnd.plotly.v1+json": {
       "config": {
        "linkText": "Export to plot.ly",
        "plotlyServerURL": "https://plot.ly",
        "showLink": false
       },
       "data": [
        {
         "marker": {
          "color": "#025951"
         },
         "name": "Até 17 anos",
         "type": "bar",
         "uid": "957855f1-d241-4fa3-81dc-eee7ec67802c",
         "x": [
          "Não evadido",
          "Evadido"
         ],
         "y": [
          0.7718549760726742,
          0.22814502392732583
         ]
        },
        {
         "marker": {
          "color": "#8BD9CA"
         },
         "name": "Maior ou igual a 17 anos",
         "type": "bar",
         "uid": "6e50c8a8-e063-4edf-9d64-757ba1624f5e",
         "x": [
          "Evadido",
          "Não evadido"
         ],
         "y": [
          0.5802713777120978,
          0.4197286222879022
         ]
        },
        {
         "marker": {
          "color": "#dbdbdb"
         },
         "name": "Total",
         "type": "bar",
         "uid": "d41f8a1a-b59a-48ef-8b51-5895cd61f6bd",
         "x": [
          "Não evadido",
          "Evadido"
         ],
         "y": [
          0.6571719226856562,
          0.34282807731434384
         ]
        }
       ],
       "layout": {
        "title": {
         "text": "Dentre alunos com e sem distorção idade-série, qual percentual evade?"
        }
       }
      },
      "text/html": [
       "<div>\n",
       "        \n",
       "        \n",
       "            <div id=\"6ad48c8f-8877-4958-9233-7a60759ffe10\" class=\"plotly-graph-div\" style=\"height:525px; width:100%;\"></div>\n",
       "            <script type=\"text/javascript\">\n",
       "                require([\"plotly\"], function(Plotly) {\n",
       "                    window.PLOTLYENV=window.PLOTLYENV || {};\n",
       "                    window.PLOTLYENV.BASE_URL='https://plot.ly';\n",
       "                    \n",
       "                if (document.getElementById(\"6ad48c8f-8877-4958-9233-7a60759ffe10\")) {\n",
       "                    Plotly.newPlot(\n",
       "                        '6ad48c8f-8877-4958-9233-7a60759ffe10',\n",
       "                        [{\"marker\": {\"color\": \"#025951\"}, \"name\": \"At\\u00e9 17 anos\", \"type\": \"bar\", \"uid\": \"957855f1-d241-4fa3-81dc-eee7ec67802c\", \"x\": [\"N\\u00e3o evadido\", \"Evadido\"], \"y\": [0.7718549760726742, 0.22814502392732583]}, {\"marker\": {\"color\": \"#8BD9CA\"}, \"name\": \"Maior ou igual a 17 anos\", \"type\": \"bar\", \"uid\": \"6e50c8a8-e063-4edf-9d64-757ba1624f5e\", \"x\": [\"Evadido\", \"N\\u00e3o evadido\"], \"y\": [0.5802713777120978, 0.4197286222879022]}, {\"marker\": {\"color\": \"#dbdbdb\"}, \"name\": \"Total\", \"type\": \"bar\", \"uid\": \"d41f8a1a-b59a-48ef-8b51-5895cd61f6bd\", \"x\": [\"N\\u00e3o evadido\", \"Evadido\"], \"y\": [0.6571719226856562, 0.34282807731434384]}],\n",
       "                        {\"title\": {\"text\": \"Dentre alunos com e sem distor\\u00e7\\u00e3o idade-s\\u00e9rie, qual percentual evade?\"}},\n",
       "                        {\"showLink\": false, \"linkText\": \"Export to plot.ly\", \"plotlyServerURL\": \"https://plot.ly\", \"responsive\": true}\n",
       "                    ).then(function(){\n",
       "                            \n",
       "var gd = document.getElementById('6ad48c8f-8877-4958-9233-7a60759ffe10');\n",
       "var x = new MutationObserver(function (mutations, observer) {{\n",
       "        var display = window.getComputedStyle(gd).display;\n",
       "        if (!display || display === 'none') {{\n",
       "            console.log([gd, 'removed!']);\n",
       "            Plotly.purge(gd);\n",
       "            observer.disconnect();\n",
       "        }}\n",
       "}});\n",
       "\n",
       "// Listen for the removal of the full notebook cells\n",
       "var notebookContainer = gd.closest('#notebook-container');\n",
       "if (notebookContainer) {{\n",
       "    x.observe(notebookContainer, {childList: true});\n",
       "}}\n",
       "\n",
       "// Listen for the clearing of the current output cell\n",
       "var outputEl = gd.closest('.output');\n",
       "if (outputEl) {{\n",
       "    x.observe(outputEl, {childList: true});\n",
       "}}\n",
       "\n",
       "                        })\n",
       "                };\n",
       "                });\n",
       "            </script>\n",
       "        </div>"
      ]
     },
     "metadata": {},
     "output_type": "display_data"
    }
   ],
   "source": [
    "title = 'Dentre alunos com e sem distorção idade-série, qual percentual evade?'\n",
    "x = 'CAT_IN_DISTORCAO'\n",
    "categorias = {1: 'Maior ou igual a 17 anos', 0: 'Até 17 anos'}\n",
    "\n",
    "plot_categoria(x, title, 'perc_distorcao_evasao', \n",
    "               title2='Percentual de alunos com e sem distorção idade-série', save=False)"
   ]
  },
  {
   "cell_type": "markdown",
   "metadata": {},
   "source": [
    "### Transporte público"
   ]
  },
  {
   "cell_type": "code",
   "execution_count": 36,
   "metadata": {},
   "outputs": [
    {
     "data": {
      "text/html": [
       "<div>\n",
       "<style scoped>\n",
       "    .dataframe tbody tr th:only-of-type {\n",
       "        vertical-align: middle;\n",
       "    }\n",
       "\n",
       "    .dataframe tbody tr th {\n",
       "        vertical-align: top;\n",
       "    }\n",
       "\n",
       "    .dataframe thead th {\n",
       "        text-align: right;\n",
       "    }\n",
       "</style>\n",
       "<table border=\"1\" class=\"dataframe\">\n",
       "  <thead>\n",
       "    <tr style=\"text-align: right;\">\n",
       "      <th></th>\n",
       "      <th>CAT_IN_TRANSPORTE_PUBLICO</th>\n",
       "      <th>CAT_TP_SEXO</th>\n",
       "      <th>Evadido</th>\n",
       "      <th>Não evadido</th>\n",
       "    </tr>\n",
       "  </thead>\n",
       "  <tbody>\n",
       "    <tr>\n",
       "      <th>0</th>\n",
       "      <td>Não utiliza</td>\n",
       "      <td>Homem</td>\n",
       "      <td>42.841745</td>\n",
       "      <td>57.158255</td>\n",
       "    </tr>\n",
       "    <tr>\n",
       "      <th>1</th>\n",
       "      <td>Não utiliza</td>\n",
       "      <td>Mulher</td>\n",
       "      <td>38.883217</td>\n",
       "      <td>61.116783</td>\n",
       "    </tr>\n",
       "    <tr>\n",
       "      <th>2</th>\n",
       "      <td>Utiliza transporte público</td>\n",
       "      <td>Homem</td>\n",
       "      <td>33.009080</td>\n",
       "      <td>66.990920</td>\n",
       "    </tr>\n",
       "    <tr>\n",
       "      <th>3</th>\n",
       "      <td>Utiliza transporte público</td>\n",
       "      <td>Mulher</td>\n",
       "      <td>28.800744</td>\n",
       "      <td>71.199256</td>\n",
       "    </tr>\n",
       "  </tbody>\n",
       "</table>\n",
       "</div>"
      ],
      "text/plain": [
       "    CAT_IN_TRANSPORTE_PUBLICO CAT_TP_SEXO    Evadido  Não evadido\n",
       "0                 Não utiliza       Homem  42.841745    57.158255\n",
       "1                 Não utiliza      Mulher  38.883217    61.116783\n",
       "2  Utiliza transporte público       Homem  33.009080    66.990920\n",
       "3  Utiliza transporte público      Mulher  28.800744    71.199256"
      ]
     },
     "execution_count": 36,
     "metadata": {},
     "output_type": "execute_result"
    }
   ],
   "source": [
    "v = cross_evasao_sexo('CAT_IN_TRANSPORTE_PUBLICO').reset_index()\n",
    "v"
   ]
  },
  {
   "cell_type": "code",
   "execution_count": 37,
   "metadata": {
    "scrolled": false
   },
   "outputs": [
    {
     "data": {
      "application/vnd.plotly.v1+json": {
       "config": {
        "linkText": "Export to plot.ly",
        "plotlyServerURL": "https://plot.ly",
        "showLink": false
       },
       "data": [
        {
         "marker": {
          "color": "#025951"
         },
         "name": "Não utiliza",
         "type": "bar",
         "uid": "eb72f968-05b4-4008-88dc-4e87eb551a1e",
         "x": [
          "Homem",
          "Mulher"
         ],
         "y": [
          42.84174545006621,
          38.88321656163081
         ]
        },
        {
         "marker": {
          "color": "#8BD9CA"
         },
         "name": "Utiliza transporte público",
         "type": "bar",
         "uid": "14a2b8c2-7265-47d6-8986-57256030160f",
         "x": [
          "Homem",
          "Mulher"
         ],
         "y": [
          33.00908016768367,
          28.800744445736886
         ]
        }
       ],
       "layout": {
        "title": {
         "text": "Dentre alunos que utilizam ou não transporte público, qual percentual evade?"
        }
       }
      },
      "text/html": [
       "<div>\n",
       "        \n",
       "        \n",
       "            <div id=\"897b3bda-e459-4a28-a68e-1b49bd6c9b1c\" class=\"plotly-graph-div\" style=\"height:525px; width:100%;\"></div>\n",
       "            <script type=\"text/javascript\">\n",
       "                require([\"plotly\"], function(Plotly) {\n",
       "                    window.PLOTLYENV=window.PLOTLYENV || {};\n",
       "                    window.PLOTLYENV.BASE_URL='https://plot.ly';\n",
       "                    \n",
       "                if (document.getElementById(\"897b3bda-e459-4a28-a68e-1b49bd6c9b1c\")) {\n",
       "                    Plotly.newPlot(\n",
       "                        '897b3bda-e459-4a28-a68e-1b49bd6c9b1c',\n",
       "                        [{\"marker\": {\"color\": \"#025951\"}, \"name\": \"N\\u00e3o utiliza\", \"type\": \"bar\", \"uid\": \"eb72f968-05b4-4008-88dc-4e87eb551a1e\", \"x\": [\"Homem\", \"Mulher\"], \"y\": [42.84174545006621, 38.88321656163081]}, {\"marker\": {\"color\": \"#8BD9CA\"}, \"name\": \"Utiliza transporte p\\u00fablico\", \"type\": \"bar\", \"uid\": \"14a2b8c2-7265-47d6-8986-57256030160f\", \"x\": [\"Homem\", \"Mulher\"], \"y\": [33.00908016768367, 28.800744445736886]}],\n",
       "                        {\"title\": {\"text\": \"Dentre alunos que utilizam ou n\\u00e3o transporte p\\u00fablico, qual percentual evade?\"}},\n",
       "                        {\"showLink\": false, \"linkText\": \"Export to plot.ly\", \"plotlyServerURL\": \"https://plot.ly\", \"responsive\": true}\n",
       "                    ).then(function(){\n",
       "                            \n",
       "var gd = document.getElementById('897b3bda-e459-4a28-a68e-1b49bd6c9b1c');\n",
       "var x = new MutationObserver(function (mutations, observer) {{\n",
       "        var display = window.getComputedStyle(gd).display;\n",
       "        if (!display || display === 'none') {{\n",
       "            console.log([gd, 'removed!']);\n",
       "            Plotly.purge(gd);\n",
       "            observer.disconnect();\n",
       "        }}\n",
       "}});\n",
       "\n",
       "// Listen for the removal of the full notebook cells\n",
       "var notebookContainer = gd.closest('#notebook-container');\n",
       "if (notebookContainer) {{\n",
       "    x.observe(notebookContainer, {childList: true});\n",
       "}}\n",
       "\n",
       "// Listen for the clearing of the current output cell\n",
       "var outputEl = gd.closest('.output');\n",
       "if (outputEl) {{\n",
       "    x.observe(outputEl, {childList: true});\n",
       "}}\n",
       "\n",
       "                        })\n",
       "                };\n",
       "                });\n",
       "            </script>\n",
       "        </div>"
      ]
     },
     "metadata": {},
     "output_type": "display_data"
    },
    {
     "data": {
      "text/html": [
       "<div>\n",
       "<style scoped>\n",
       "    .dataframe tbody tr th:only-of-type {\n",
       "        vertical-align: middle;\n",
       "    }\n",
       "\n",
       "    .dataframe tbody tr th {\n",
       "        vertical-align: top;\n",
       "    }\n",
       "\n",
       "    .dataframe thead th {\n",
       "        text-align: right;\n",
       "    }\n",
       "</style>\n",
       "<table border=\"1\" class=\"dataframe\">\n",
       "  <thead>\n",
       "    <tr style=\"text-align: right;\">\n",
       "      <th></th>\n",
       "      <th>CAT_IN_TRANSPORTE_PUBLICO</th>\n",
       "      <th>CAT_TP_SEXO</th>\n",
       "      <th>Evadido</th>\n",
       "      <th>Não evadido</th>\n",
       "    </tr>\n",
       "  </thead>\n",
       "  <tbody>\n",
       "    <tr>\n",
       "      <th>0</th>\n",
       "      <td>Não utiliza</td>\n",
       "      <td>Homem</td>\n",
       "      <td>42.841745</td>\n",
       "      <td>57.158255</td>\n",
       "    </tr>\n",
       "    <tr>\n",
       "      <th>1</th>\n",
       "      <td>Não utiliza</td>\n",
       "      <td>Mulher</td>\n",
       "      <td>38.883217</td>\n",
       "      <td>61.116783</td>\n",
       "    </tr>\n",
       "    <tr>\n",
       "      <th>2</th>\n",
       "      <td>Utiliza transporte público</td>\n",
       "      <td>Homem</td>\n",
       "      <td>33.009080</td>\n",
       "      <td>66.990920</td>\n",
       "    </tr>\n",
       "    <tr>\n",
       "      <th>3</th>\n",
       "      <td>Utiliza transporte público</td>\n",
       "      <td>Mulher</td>\n",
       "      <td>28.800744</td>\n",
       "      <td>71.199256</td>\n",
       "    </tr>\n",
       "  </tbody>\n",
       "</table>\n",
       "</div>"
      ],
      "text/plain": [
       "    CAT_IN_TRANSPORTE_PUBLICO CAT_TP_SEXO    Evadido  Não evadido\n",
       "0                 Não utiliza       Homem  42.841745    57.158255\n",
       "1                 Não utiliza      Mulher  38.883217    61.116783\n",
       "2  Utiliza transporte público       Homem  33.009080    66.990920\n",
       "3  Utiliza transporte público      Mulher  28.800744    71.199256"
      ]
     },
     "execution_count": 37,
     "metadata": {},
     "output_type": "execute_result"
    }
   ],
   "source": [
    "title = 'Dentre alunos que utilizam ou não transporte público, qual percentual evade?'\n",
    "x = 'CAT_IN_TRANSPORTE_PUBLICO'\n",
    "\n",
    "plot_categoria_sexo(x, title, 'perc_sexo_transporte_evasao', save=False)"
   ]
  },
  {
   "cell_type": "code",
   "execution_count": 38,
   "metadata": {
    "scrolled": false
   },
   "outputs": [
    {
     "data": {
      "application/vnd.plotly.v1+json": {
       "config": {
        "linkText": "Export to plot.ly",
        "plotlyServerURL": "https://plot.ly",
        "showLink": false
       },
       "data": [
        {
         "marker": {
          "color": [
           "#025951",
           "#8BD9CA",
           "#BF7F30",
           "#F2C124",
           "#8C470B",
           "#DFC27D"
          ]
         },
         "type": "bar",
         "uid": "c525c9d9-bab5-4e73-86db-f713b652eba1",
         "x": [
          "Utiliza transporte público",
          "Não utiliza"
         ],
         "y": [
          0.6670495192465461,
          0.3329504807534539
         ]
        }
       ],
       "layout": {
        "title": {
         "text": "Percentual de alunos por tipo de transporte"
        }
       }
      },
      "text/html": [
       "<div>\n",
       "        \n",
       "        \n",
       "            <div id=\"00c03097-686d-43c7-b784-0be7a22d8473\" class=\"plotly-graph-div\" style=\"height:525px; width:100%;\"></div>\n",
       "            <script type=\"text/javascript\">\n",
       "                require([\"plotly\"], function(Plotly) {\n",
       "                    window.PLOTLYENV=window.PLOTLYENV || {};\n",
       "                    window.PLOTLYENV.BASE_URL='https://plot.ly';\n",
       "                    \n",
       "                if (document.getElementById(\"00c03097-686d-43c7-b784-0be7a22d8473\")) {\n",
       "                    Plotly.newPlot(\n",
       "                        '00c03097-686d-43c7-b784-0be7a22d8473',\n",
       "                        [{\"marker\": {\"color\": [\"#025951\", \"#8BD9CA\", \"#BF7F30\", \"#F2C124\", \"#8C470B\", \"#DFC27D\"]}, \"type\": \"bar\", \"uid\": \"c525c9d9-bab5-4e73-86db-f713b652eba1\", \"x\": [\"Utiliza transporte p\\u00fablico\", \"N\\u00e3o utiliza\"], \"y\": [0.6670495192465461, 0.3329504807534539]}],\n",
       "                        {\"title\": {\"text\": \"Percentual de alunos por tipo de transporte\"}},\n",
       "                        {\"showLink\": false, \"linkText\": \"Export to plot.ly\", \"plotlyServerURL\": \"https://plot.ly\", \"responsive\": true}\n",
       "                    ).then(function(){\n",
       "                            \n",
       "var gd = document.getElementById('00c03097-686d-43c7-b784-0be7a22d8473');\n",
       "var x = new MutationObserver(function (mutations, observer) {{\n",
       "        var display = window.getComputedStyle(gd).display;\n",
       "        if (!display || display === 'none') {{\n",
       "            console.log([gd, 'removed!']);\n",
       "            Plotly.purge(gd);\n",
       "            observer.disconnect();\n",
       "        }}\n",
       "}});\n",
       "\n",
       "// Listen for the removal of the full notebook cells\n",
       "var notebookContainer = gd.closest('#notebook-container');\n",
       "if (notebookContainer) {{\n",
       "    x.observe(notebookContainer, {childList: true});\n",
       "}}\n",
       "\n",
       "// Listen for the clearing of the current output cell\n",
       "var outputEl = gd.closest('.output');\n",
       "if (outputEl) {{\n",
       "    x.observe(outputEl, {childList: true});\n",
       "}}\n",
       "\n",
       "                        })\n",
       "                };\n",
       "                });\n",
       "            </script>\n",
       "        </div>"
      ]
     },
     "metadata": {},
     "output_type": "display_data"
    },
    {
     "data": {
      "application/vnd.plotly.v1+json": {
       "config": {
        "linkText": "Export to plot.ly",
        "plotlyServerURL": "https://plot.ly",
        "showLink": false
       },
       "data": [
        {
         "marker": {
          "color": "#025951"
         },
         "name": "Não utiliza",
         "type": "bar",
         "uid": "c677cfa3-f5b4-4a57-af21-497c3084c1df",
         "x": [
          "Não evadido",
          "Evadido"
         ],
         "y": [
          0.5900519087982128,
          0.4099480912017872
         ]
        },
        {
         "marker": {
          "color": "#8BD9CA"
         },
         "name": "Utiliza transporte público",
         "type": "bar",
         "uid": "e9ae8836-f938-46b6-8b33-56e7841a7de2",
         "x": [
          "Não evadido",
          "Evadido"
         ],
         "y": [
          0.6906741444056346,
          0.3093258555943655
         ]
        },
        {
         "marker": {
          "color": "#dbdbdb"
         },
         "name": "Total",
         "type": "bar",
         "uid": "3f802a7f-15d3-4d01-8faa-8d8b49df69b5",
         "x": [
          "Não evadido",
          "Evadido"
         ],
         "y": [
          0.6571719226856562,
          0.34282807731434384
         ]
        }
       ],
       "layout": {
        "title": {
         "text": "Dentre alunos que utilizam ou não transporte público, qual percentual evade?"
        }
       }
      },
      "text/html": [
       "<div>\n",
       "        \n",
       "        \n",
       "            <div id=\"e75995b5-e7aa-4a4e-b013-3ae86e840fb3\" class=\"plotly-graph-div\" style=\"height:525px; width:100%;\"></div>\n",
       "            <script type=\"text/javascript\">\n",
       "                require([\"plotly\"], function(Plotly) {\n",
       "                    window.PLOTLYENV=window.PLOTLYENV || {};\n",
       "                    window.PLOTLYENV.BASE_URL='https://plot.ly';\n",
       "                    \n",
       "                if (document.getElementById(\"e75995b5-e7aa-4a4e-b013-3ae86e840fb3\")) {\n",
       "                    Plotly.newPlot(\n",
       "                        'e75995b5-e7aa-4a4e-b013-3ae86e840fb3',\n",
       "                        [{\"marker\": {\"color\": \"#025951\"}, \"name\": \"N\\u00e3o utiliza\", \"type\": \"bar\", \"uid\": \"c677cfa3-f5b4-4a57-af21-497c3084c1df\", \"x\": [\"N\\u00e3o evadido\", \"Evadido\"], \"y\": [0.5900519087982128, 0.4099480912017872]}, {\"marker\": {\"color\": \"#8BD9CA\"}, \"name\": \"Utiliza transporte p\\u00fablico\", \"type\": \"bar\", \"uid\": \"e9ae8836-f938-46b6-8b33-56e7841a7de2\", \"x\": [\"N\\u00e3o evadido\", \"Evadido\"], \"y\": [0.6906741444056346, 0.3093258555943655]}, {\"marker\": {\"color\": \"#dbdbdb\"}, \"name\": \"Total\", \"type\": \"bar\", \"uid\": \"3f802a7f-15d3-4d01-8faa-8d8b49df69b5\", \"x\": [\"N\\u00e3o evadido\", \"Evadido\"], \"y\": [0.6571719226856562, 0.34282807731434384]}],\n",
       "                        {\"title\": {\"text\": \"Dentre alunos que utilizam ou n\\u00e3o transporte p\\u00fablico, qual percentual evade?\"}},\n",
       "                        {\"showLink\": false, \"linkText\": \"Export to plot.ly\", \"plotlyServerURL\": \"https://plot.ly\", \"responsive\": true}\n",
       "                    ).then(function(){\n",
       "                            \n",
       "var gd = document.getElementById('e75995b5-e7aa-4a4e-b013-3ae86e840fb3');\n",
       "var x = new MutationObserver(function (mutations, observer) {{\n",
       "        var display = window.getComputedStyle(gd).display;\n",
       "        if (!display || display === 'none') {{\n",
       "            console.log([gd, 'removed!']);\n",
       "            Plotly.purge(gd);\n",
       "            observer.disconnect();\n",
       "        }}\n",
       "}});\n",
       "\n",
       "// Listen for the removal of the full notebook cells\n",
       "var notebookContainer = gd.closest('#notebook-container');\n",
       "if (notebookContainer) {{\n",
       "    x.observe(notebookContainer, {childList: true});\n",
       "}}\n",
       "\n",
       "// Listen for the clearing of the current output cell\n",
       "var outputEl = gd.closest('.output');\n",
       "if (outputEl) {{\n",
       "    x.observe(outputEl, {childList: true});\n",
       "}}\n",
       "\n",
       "                        })\n",
       "                };\n",
       "                });\n",
       "            </script>\n",
       "        </div>"
      ]
     },
     "metadata": {},
     "output_type": "display_data"
    }
   ],
   "source": [
    "title = 'Dentre alunos que utilizam ou não transporte público, qual percentual evade?'\n",
    "x = 'CAT_IN_TRANSPORTE_PUBLICO'\n",
    "\n",
    "plot_categoria(x, title, 'perc_transporte_evasao', title2='Percentual de alunos por tipo de transporte', save=False)"
   ]
  },
  {
   "cell_type": "markdown",
   "metadata": {},
   "source": [
    "### Município da escola"
   ]
  },
  {
   "cell_type": "code",
   "execution_count": 39,
   "metadata": {
    "scrolled": true
   },
   "outputs": [
    {
     "data": {
      "text/html": [
       "<div>\n",
       "<style scoped>\n",
       "    .dataframe tbody tr th:only-of-type {\n",
       "        vertical-align: middle;\n",
       "    }\n",
       "\n",
       "    .dataframe tbody tr th {\n",
       "        vertical-align: top;\n",
       "    }\n",
       "\n",
       "    .dataframe thead th {\n",
       "        text-align: right;\n",
       "    }\n",
       "</style>\n",
       "<table border=\"1\" class=\"dataframe\">\n",
       "  <thead>\n",
       "    <tr style=\"text-align: right;\">\n",
       "      <th></th>\n",
       "      <th></th>\n",
       "      <th>Evadido</th>\n",
       "      <th>Não evadido</th>\n",
       "    </tr>\n",
       "    <tr>\n",
       "      <th>CAT_IN_LOCAL_ESCOLA</th>\n",
       "      <th>CAT_TP_SEXO</th>\n",
       "      <th></th>\n",
       "      <th></th>\n",
       "    </tr>\n",
       "  </thead>\n",
       "  <tbody>\n",
       "    <tr>\n",
       "      <th rowspan=\"2\" valign=\"top\">Grande Rio</th>\n",
       "      <th>Homem</th>\n",
       "      <td>33.288517</td>\n",
       "      <td>66.711483</td>\n",
       "    </tr>\n",
       "    <tr>\n",
       "      <th>Mulher</th>\n",
       "      <td>28.494898</td>\n",
       "      <td>71.505102</td>\n",
       "    </tr>\n",
       "    <tr>\n",
       "      <th rowspan=\"2\" valign=\"top\">Outros municípios no estado</th>\n",
       "      <th>Homem</th>\n",
       "      <td>34.530864</td>\n",
       "      <td>65.469136</td>\n",
       "    </tr>\n",
       "    <tr>\n",
       "      <th>Mulher</th>\n",
       "      <td>29.496369</td>\n",
       "      <td>70.503631</td>\n",
       "    </tr>\n",
       "    <tr>\n",
       "      <th rowspan=\"2\" valign=\"top\">Rio de Janeiro (cidade)</th>\n",
       "      <th>Homem</th>\n",
       "      <td>40.609709</td>\n",
       "      <td>59.390291</td>\n",
       "    </tr>\n",
       "    <tr>\n",
       "      <th>Mulher</th>\n",
       "      <td>37.530117</td>\n",
       "      <td>62.469883</td>\n",
       "    </tr>\n",
       "  </tbody>\n",
       "</table>\n",
       "</div>"
      ],
      "text/plain": [
       "                                           Evadido  Não evadido\n",
       "CAT_IN_LOCAL_ESCOLA         CAT_TP_SEXO                        \n",
       "Grande Rio                  Homem        33.288517    66.711483\n",
       "                            Mulher       28.494898    71.505102\n",
       "Outros municípios no estado Homem        34.530864    65.469136\n",
       "                            Mulher       29.496369    70.503631\n",
       "Rio de Janeiro (cidade)     Homem        40.609709    59.390291\n",
       "                            Mulher       37.530117    62.469883"
      ]
     },
     "execution_count": 39,
     "metadata": {},
     "output_type": "execute_result"
    }
   ],
   "source": [
    "cross_evasao_sexo('CAT_IN_LOCAL_ESCOLA')"
   ]
  },
  {
   "cell_type": "code",
   "execution_count": 40,
   "metadata": {
    "scrolled": false
   },
   "outputs": [
    {
     "data": {
      "application/vnd.plotly.v1+json": {
       "config": {
        "linkText": "Export to plot.ly",
        "plotlyServerURL": "https://plot.ly",
        "showLink": false
       },
       "data": [
        {
         "marker": {
          "color": "#025951"
         },
         "name": "Grande Rio",
         "type": "bar",
         "uid": "2e2f8596-b156-41f1-b941-f152a8acf49a",
         "x": [
          "Não utiliza",
          "Utiliza transporte público"
         ],
         "y": [
          41.293630447643466,
          26.844345949728815
         ]
        },
        {
         "marker": {
          "color": "#8BD9CA"
         },
         "name": "Outros municípios no estado",
         "type": "bar",
         "uid": "cea40e6d-0410-4257-9483-ba45a324fcee",
         "x": [
          "Não utiliza",
          "Utiliza transporte público"
         ],
         "y": [
          34.97653766587618,
          29.464998669150916
         ]
        },
        {
         "marker": {
          "color": "#BF7F30"
         },
         "name": "Rio de Janeiro (cidade)",
         "type": "bar",
         "uid": "550f1517-553e-476a-bf8a-42cac840f04a",
         "x": [
          "Não utiliza",
          "Utiliza transporte público"
         ],
         "y": [
          46.4449044432677,
          36.00533566768795
         ]
        }
       ],
       "layout": {
        "title": {
         "text": "Dentre alunos que utilizam ou não transporte público, qual percentual evade?"
        }
       }
      },
      "text/html": [
       "<div>\n",
       "        \n",
       "        \n",
       "            <div id=\"92bfee1e-a4fa-4b9a-b427-a27f47c7cb88\" class=\"plotly-graph-div\" style=\"height:525px; width:100%;\"></div>\n",
       "            <script type=\"text/javascript\">\n",
       "                require([\"plotly\"], function(Plotly) {\n",
       "                    window.PLOTLYENV=window.PLOTLYENV || {};\n",
       "                    window.PLOTLYENV.BASE_URL='https://plot.ly';\n",
       "                    \n",
       "                if (document.getElementById(\"92bfee1e-a4fa-4b9a-b427-a27f47c7cb88\")) {\n",
       "                    Plotly.newPlot(\n",
       "                        '92bfee1e-a4fa-4b9a-b427-a27f47c7cb88',\n",
       "                        [{\"marker\": {\"color\": \"#025951\"}, \"name\": \"Grande Rio\", \"type\": \"bar\", \"uid\": \"2e2f8596-b156-41f1-b941-f152a8acf49a\", \"x\": [\"N\\u00e3o utiliza\", \"Utiliza transporte p\\u00fablico\"], \"y\": [41.293630447643466, 26.844345949728815]}, {\"marker\": {\"color\": \"#8BD9CA\"}, \"name\": \"Outros munic\\u00edpios no estado\", \"type\": \"bar\", \"uid\": \"cea40e6d-0410-4257-9483-ba45a324fcee\", \"x\": [\"N\\u00e3o utiliza\", \"Utiliza transporte p\\u00fablico\"], \"y\": [34.97653766587618, 29.464998669150916]}, {\"marker\": {\"color\": \"#BF7F30\"}, \"name\": \"Rio de Janeiro (cidade)\", \"type\": \"bar\", \"uid\": \"550f1517-553e-476a-bf8a-42cac840f04a\", \"x\": [\"N\\u00e3o utiliza\", \"Utiliza transporte p\\u00fablico\"], \"y\": [46.4449044432677, 36.00533566768795]}],\n",
       "                        {\"title\": {\"text\": \"Dentre alunos que utilizam ou n\\u00e3o transporte p\\u00fablico, qual percentual evade?\"}},\n",
       "                        {\"showLink\": false, \"linkText\": \"Export to plot.ly\", \"plotlyServerURL\": \"https://plot.ly\", \"responsive\": true}\n",
       "                    ).then(function(){\n",
       "                            \n",
       "var gd = document.getElementById('92bfee1e-a4fa-4b9a-b427-a27f47c7cb88');\n",
       "var x = new MutationObserver(function (mutations, observer) {{\n",
       "        var display = window.getComputedStyle(gd).display;\n",
       "        if (!display || display === 'none') {{\n",
       "            console.log([gd, 'removed!']);\n",
       "            Plotly.purge(gd);\n",
       "            observer.disconnect();\n",
       "        }}\n",
       "}});\n",
       "\n",
       "// Listen for the removal of the full notebook cells\n",
       "var notebookContainer = gd.closest('#notebook-container');\n",
       "if (notebookContainer) {{\n",
       "    x.observe(notebookContainer, {childList: true});\n",
       "}}\n",
       "\n",
       "// Listen for the clearing of the current output cell\n",
       "var outputEl = gd.closest('.output');\n",
       "if (outputEl) {{\n",
       "    x.observe(outputEl, {childList: true});\n",
       "}}\n",
       "\n",
       "                        })\n",
       "                };\n",
       "                });\n",
       "            </script>\n",
       "        </div>"
      ]
     },
     "metadata": {},
     "output_type": "display_data"
    },
    {
     "data": {
      "text/html": [
       "<div>\n",
       "<style scoped>\n",
       "    .dataframe tbody tr th:only-of-type {\n",
       "        vertical-align: middle;\n",
       "    }\n",
       "\n",
       "    .dataframe tbody tr th {\n",
       "        vertical-align: top;\n",
       "    }\n",
       "\n",
       "    .dataframe thead th {\n",
       "        text-align: right;\n",
       "    }\n",
       "</style>\n",
       "<table border=\"1\" class=\"dataframe\">\n",
       "  <thead>\n",
       "    <tr style=\"text-align: right;\">\n",
       "      <th></th>\n",
       "      <th>CAT_IN_LOCAL_ESCOLA</th>\n",
       "      <th>CAT_IN_TRANSPORTE_PUBLICO</th>\n",
       "      <th>Evadido</th>\n",
       "      <th>Não evadido</th>\n",
       "    </tr>\n",
       "  </thead>\n",
       "  <tbody>\n",
       "    <tr>\n",
       "      <th>0</th>\n",
       "      <td>Grande Rio</td>\n",
       "      <td>Não utiliza</td>\n",
       "      <td>41.293630</td>\n",
       "      <td>58.706370</td>\n",
       "    </tr>\n",
       "    <tr>\n",
       "      <th>1</th>\n",
       "      <td>Grande Rio</td>\n",
       "      <td>Utiliza transporte público</td>\n",
       "      <td>26.844346</td>\n",
       "      <td>73.155654</td>\n",
       "    </tr>\n",
       "    <tr>\n",
       "      <th>2</th>\n",
       "      <td>Outros municípios no estado</td>\n",
       "      <td>Não utiliza</td>\n",
       "      <td>34.976538</td>\n",
       "      <td>65.023462</td>\n",
       "    </tr>\n",
       "    <tr>\n",
       "      <th>3</th>\n",
       "      <td>Outros municípios no estado</td>\n",
       "      <td>Utiliza transporte público</td>\n",
       "      <td>29.464999</td>\n",
       "      <td>70.535001</td>\n",
       "    </tr>\n",
       "    <tr>\n",
       "      <th>4</th>\n",
       "      <td>Rio de Janeiro (cidade)</td>\n",
       "      <td>Não utiliza</td>\n",
       "      <td>46.444904</td>\n",
       "      <td>53.555096</td>\n",
       "    </tr>\n",
       "    <tr>\n",
       "      <th>5</th>\n",
       "      <td>Rio de Janeiro (cidade)</td>\n",
       "      <td>Utiliza transporte público</td>\n",
       "      <td>36.005336</td>\n",
       "      <td>63.994664</td>\n",
       "    </tr>\n",
       "  </tbody>\n",
       "</table>\n",
       "</div>"
      ],
      "text/plain": [
       "           CAT_IN_LOCAL_ESCOLA   CAT_IN_TRANSPORTE_PUBLICO    Evadido  \\\n",
       "0                   Grande Rio                 Não utiliza  41.293630   \n",
       "1                   Grande Rio  Utiliza transporte público  26.844346   \n",
       "2  Outros municípios no estado                 Não utiliza  34.976538   \n",
       "3  Outros municípios no estado  Utiliza transporte público  29.464999   \n",
       "4      Rio de Janeiro (cidade)                 Não utiliza  46.444904   \n",
       "5      Rio de Janeiro (cidade)  Utiliza transporte público  36.005336   \n",
       "\n",
       "   Não evadido  \n",
       "0    58.706370  \n",
       "1    73.155654  \n",
       "2    65.023462  \n",
       "3    70.535001  \n",
       "4    53.555096  \n",
       "5    63.994664  "
      ]
     },
     "execution_count": 40,
     "metadata": {},
     "output_type": "execute_result"
    }
   ],
   "source": [
    "x = 'CAT_IN_LOCAL_ESCOLA'\n",
    "y = 'CAT_IN_TRANSPORTE_PUBLICO'\n",
    "plot_categoria_sexo(x, title, 'perc_cross_transp_local_evasao', y, save=False)"
   ]
  },
  {
   "cell_type": "code",
   "execution_count": 41,
   "metadata": {
    "scrolled": false
   },
   "outputs": [
    {
     "data": {
      "application/vnd.plotly.v1+json": {
       "config": {
        "linkText": "Export to plot.ly",
        "plotlyServerURL": "https://plot.ly",
        "showLink": false
       },
       "data": [
        {
         "marker": {
          "color": [
           "#025951",
           "#8BD9CA",
           "#BF7F30",
           "#F2C124",
           "#8C470B",
           "#DFC27D"
          ]
         },
         "type": "bar",
         "uid": "ecc7a36f-706a-4e05-bca7-acc42bb027ed",
         "x": [
          "Grande Rio",
          "Rio de Janeiro (cidade)",
          "Outros municípios no estado"
         ],
         "y": [
          0.3922871613121999,
          0.3760268653124624,
          0.23168597337533772
         ]
        }
       ],
       "layout": {
        "title": {
         "text": "Percentual de alunos por município"
        }
       }
      },
      "text/html": [
       "<div>\n",
       "        \n",
       "        \n",
       "            <div id=\"b642dbba-6a3a-4fc2-a499-33e6f1830ce2\" class=\"plotly-graph-div\" style=\"height:525px; width:100%;\"></div>\n",
       "            <script type=\"text/javascript\">\n",
       "                require([\"plotly\"], function(Plotly) {\n",
       "                    window.PLOTLYENV=window.PLOTLYENV || {};\n",
       "                    window.PLOTLYENV.BASE_URL='https://plot.ly';\n",
       "                    \n",
       "                if (document.getElementById(\"b642dbba-6a3a-4fc2-a499-33e6f1830ce2\")) {\n",
       "                    Plotly.newPlot(\n",
       "                        'b642dbba-6a3a-4fc2-a499-33e6f1830ce2',\n",
       "                        [{\"marker\": {\"color\": [\"#025951\", \"#8BD9CA\", \"#BF7F30\", \"#F2C124\", \"#8C470B\", \"#DFC27D\"]}, \"type\": \"bar\", \"uid\": \"ecc7a36f-706a-4e05-bca7-acc42bb027ed\", \"x\": [\"Grande Rio\", \"Rio de Janeiro (cidade)\", \"Outros munic\\u00edpios no estado\"], \"y\": [0.3922871613121999, 0.3760268653124624, 0.23168597337533772]}],\n",
       "                        {\"title\": {\"text\": \"Percentual de alunos por munic\\u00edpio\"}},\n",
       "                        {\"showLink\": false, \"linkText\": \"Export to plot.ly\", \"plotlyServerURL\": \"https://plot.ly\", \"responsive\": true}\n",
       "                    ).then(function(){\n",
       "                            \n",
       "var gd = document.getElementById('b642dbba-6a3a-4fc2-a499-33e6f1830ce2');\n",
       "var x = new MutationObserver(function (mutations, observer) {{\n",
       "        var display = window.getComputedStyle(gd).display;\n",
       "        if (!display || display === 'none') {{\n",
       "            console.log([gd, 'removed!']);\n",
       "            Plotly.purge(gd);\n",
       "            observer.disconnect();\n",
       "        }}\n",
       "}});\n",
       "\n",
       "// Listen for the removal of the full notebook cells\n",
       "var notebookContainer = gd.closest('#notebook-container');\n",
       "if (notebookContainer) {{\n",
       "    x.observe(notebookContainer, {childList: true});\n",
       "}}\n",
       "\n",
       "// Listen for the clearing of the current output cell\n",
       "var outputEl = gd.closest('.output');\n",
       "if (outputEl) {{\n",
       "    x.observe(outputEl, {childList: true});\n",
       "}}\n",
       "\n",
       "                        })\n",
       "                };\n",
       "                });\n",
       "            </script>\n",
       "        </div>"
      ]
     },
     "metadata": {},
     "output_type": "display_data"
    },
    {
     "data": {
      "application/vnd.plotly.v1+json": {
       "config": {
        "linkText": "Export to plot.ly",
        "plotlyServerURL": "https://plot.ly",
        "showLink": false
       },
       "data": [
        {
         "marker": {
          "color": "#025951"
         },
         "name": "Outros municípios no estado",
         "type": "bar",
         "uid": "a53d4e43-0463-4ae4-b1ca-4b55bb59968c",
         "x": [
          "Não evadido",
          "Evadido"
         ],
         "y": [
          0.679563749675409,
          0.320436250324591
         ]
        },
        {
         "marker": {
          "color": "#8BD9CA"
         },
         "name": "Rio de Janeiro (cidade)",
         "type": "bar",
         "uid": "a1cfa61b-a3ce-4966-95ae-da44341f40fc",
         "x": [
          "Não evadido",
          "Evadido"
         ],
         "y": [
          0.6084041191528974,
          0.3915958808471026
         ]
        },
        {
         "marker": {
          "color": "#BF7F30"
         },
         "name": "Grande Rio",
         "type": "bar",
         "uid": "60c4c50a-cde4-4566-b2ab-0ae35b84063a",
         "x": [
          "Não evadido",
          "Evadido"
         ],
         "y": [
          0.6906936214708957,
          0.3093063785291042
         ]
        },
        {
         "marker": {
          "color": "#dbdbdb"
         },
         "name": "Total",
         "type": "bar",
         "uid": "157006b5-ce90-4cf9-958f-0e1c78678a60",
         "x": [
          "Não evadido",
          "Evadido"
         ],
         "y": [
          0.6571719226856562,
          0.34282807731434384
         ]
        }
       ],
       "layout": {
        "title": {
         "text": "Dentre os locais que os alunos estudam, qual percentual evade?"
        }
       }
      },
      "text/html": [
       "<div>\n",
       "        \n",
       "        \n",
       "            <div id=\"4c816138-dc88-494b-a33a-000b045c8df5\" class=\"plotly-graph-div\" style=\"height:525px; width:100%;\"></div>\n",
       "            <script type=\"text/javascript\">\n",
       "                require([\"plotly\"], function(Plotly) {\n",
       "                    window.PLOTLYENV=window.PLOTLYENV || {};\n",
       "                    window.PLOTLYENV.BASE_URL='https://plot.ly';\n",
       "                    \n",
       "                if (document.getElementById(\"4c816138-dc88-494b-a33a-000b045c8df5\")) {\n",
       "                    Plotly.newPlot(\n",
       "                        '4c816138-dc88-494b-a33a-000b045c8df5',\n",
       "                        [{\"marker\": {\"color\": \"#025951\"}, \"name\": \"Outros munic\\u00edpios no estado\", \"type\": \"bar\", \"uid\": \"a53d4e43-0463-4ae4-b1ca-4b55bb59968c\", \"x\": [\"N\\u00e3o evadido\", \"Evadido\"], \"y\": [0.679563749675409, 0.320436250324591]}, {\"marker\": {\"color\": \"#8BD9CA\"}, \"name\": \"Rio de Janeiro (cidade)\", \"type\": \"bar\", \"uid\": \"a1cfa61b-a3ce-4966-95ae-da44341f40fc\", \"x\": [\"N\\u00e3o evadido\", \"Evadido\"], \"y\": [0.6084041191528974, 0.3915958808471026]}, {\"marker\": {\"color\": \"#BF7F30\"}, \"name\": \"Grande Rio\", \"type\": \"bar\", \"uid\": \"60c4c50a-cde4-4566-b2ab-0ae35b84063a\", \"x\": [\"N\\u00e3o evadido\", \"Evadido\"], \"y\": [0.6906936214708957, 0.3093063785291042]}, {\"marker\": {\"color\": \"#dbdbdb\"}, \"name\": \"Total\", \"type\": \"bar\", \"uid\": \"157006b5-ce90-4cf9-958f-0e1c78678a60\", \"x\": [\"N\\u00e3o evadido\", \"Evadido\"], \"y\": [0.6571719226856562, 0.34282807731434384]}],\n",
       "                        {\"title\": {\"text\": \"Dentre os locais que os alunos estudam, qual percentual evade?\"}},\n",
       "                        {\"showLink\": false, \"linkText\": \"Export to plot.ly\", \"plotlyServerURL\": \"https://plot.ly\", \"responsive\": true}\n",
       "                    ).then(function(){\n",
       "                            \n",
       "var gd = document.getElementById('4c816138-dc88-494b-a33a-000b045c8df5');\n",
       "var x = new MutationObserver(function (mutations, observer) {{\n",
       "        var display = window.getComputedStyle(gd).display;\n",
       "        if (!display || display === 'none') {{\n",
       "            console.log([gd, 'removed!']);\n",
       "            Plotly.purge(gd);\n",
       "            observer.disconnect();\n",
       "        }}\n",
       "}});\n",
       "\n",
       "// Listen for the removal of the full notebook cells\n",
       "var notebookContainer = gd.closest('#notebook-container');\n",
       "if (notebookContainer) {{\n",
       "    x.observe(notebookContainer, {childList: true});\n",
       "}}\n",
       "\n",
       "// Listen for the clearing of the current output cell\n",
       "var outputEl = gd.closest('.output');\n",
       "if (outputEl) {{\n",
       "    x.observe(outputEl, {childList: true});\n",
       "}}\n",
       "\n",
       "                        })\n",
       "                };\n",
       "                });\n",
       "            </script>\n",
       "        </div>"
      ]
     },
     "metadata": {},
     "output_type": "display_data"
    }
   ],
   "source": [
    "title = 'Dentre os locais que os alunos estudam, qual percentual evade?'\n",
    "x = 'CAT_IN_LOCAL_ESCOLA'\n",
    "\n",
    "plot_categoria(x, title, 'perc_cidade_evasao', title2='Percentual de alunos por município', save=False)"
   ]
  },
  {
   "cell_type": "markdown",
   "metadata": {},
   "source": [
    "### Tamanho da turma"
   ]
  },
  {
   "cell_type": "code",
   "execution_count": 42,
   "metadata": {},
   "outputs": [
    {
     "data": {
      "text/plain": [
       "1    87925\n",
       "0    60450\n",
       "2    34463\n",
       "Name: N_TURMA, dtype: int64"
      ]
     },
     "execution_count": 42,
     "metadata": {},
     "output_type": "execute_result"
    }
   ],
   "source": [
    "df['N_TURMA'].value_counts()"
   ]
  },
  {
   "cell_type": "code",
   "execution_count": 43,
   "metadata": {
    "scrolled": false
   },
   "outputs": [
    {
     "data": {
      "application/vnd.plotly.v1+json": {
       "config": {
        "linkText": "Export to plot.ly",
        "plotlyServerURL": "https://plot.ly",
        "showLink": false
       },
       "data": [
        {
         "marker": {
          "color": "#025951"
         },
         "name": "30 a 40",
         "type": "bar",
         "uid": "1f36f81a-3376-45c4-ac2b-cf962d28ce5d",
         "x": [
          "Grande Rio",
          "Outros municípios no estado",
          "Rio de Janeiro (cidade)"
         ],
         "y": [
          29.937127196517814,
          31.805749372034608,
          39.41205171993169
         ]
        },
        {
         "marker": {
          "color": "#8BD9CA"
         },
         "name": "Mais de 40 alunos",
         "type": "bar",
         "uid": "f993cb3d-0da4-45e6-b42d-9bb3f08340f5",
         "x": [
          "Grande Rio",
          "Outros municípios no estado",
          "Rio de Janeiro (cidade)"
         ],
         "y": [
          32.08575581395349,
          34.625044851094366,
          38.14261315115286
         ]
        },
        {
         "marker": {
          "color": "#BF7F30"
         },
         "name": "Menos de 30 alunos",
         "type": "bar",
         "uid": "ffb21d73-c362-43f4-b5ff-6c07b57db857",
         "x": [
          "Grande Rio",
          "Outros municípios no estado",
          "Rio de Janeiro (cidade)"
         ],
         "y": [
          31.97592472667708,
          31.908213675608295,
          40.39872408293461
         ]
        }
       ],
       "layout": {
        "title": {
         "text": "Dentre os locais que os alunos estudam, qual percentual evade?"
        }
       }
      },
      "text/html": [
       "<div>\n",
       "        \n",
       "        \n",
       "            <div id=\"08809938-a4fe-47b5-a03f-992b9539f7d6\" class=\"plotly-graph-div\" style=\"height:525px; width:100%;\"></div>\n",
       "            <script type=\"text/javascript\">\n",
       "                require([\"plotly\"], function(Plotly) {\n",
       "                    window.PLOTLYENV=window.PLOTLYENV || {};\n",
       "                    window.PLOTLYENV.BASE_URL='https://plot.ly';\n",
       "                    \n",
       "                if (document.getElementById(\"08809938-a4fe-47b5-a03f-992b9539f7d6\")) {\n",
       "                    Plotly.newPlot(\n",
       "                        '08809938-a4fe-47b5-a03f-992b9539f7d6',\n",
       "                        [{\"marker\": {\"color\": \"#025951\"}, \"name\": \"30 a 40\", \"type\": \"bar\", \"uid\": \"1f36f81a-3376-45c4-ac2b-cf962d28ce5d\", \"x\": [\"Grande Rio\", \"Outros munic\\u00edpios no estado\", \"Rio de Janeiro (cidade)\"], \"y\": [29.937127196517814, 31.805749372034608, 39.41205171993169]}, {\"marker\": {\"color\": \"#8BD9CA\"}, \"name\": \"Mais de 40 alunos\", \"type\": \"bar\", \"uid\": \"f993cb3d-0da4-45e6-b42d-9bb3f08340f5\", \"x\": [\"Grande Rio\", \"Outros munic\\u00edpios no estado\", \"Rio de Janeiro (cidade)\"], \"y\": [32.08575581395349, 34.625044851094366, 38.14261315115286]}, {\"marker\": {\"color\": \"#BF7F30\"}, \"name\": \"Menos de 30 alunos\", \"type\": \"bar\", \"uid\": \"ffb21d73-c362-43f4-b5ff-6c07b57db857\", \"x\": [\"Grande Rio\", \"Outros munic\\u00edpios no estado\", \"Rio de Janeiro (cidade)\"], \"y\": [31.97592472667708, 31.908213675608295, 40.39872408293461]}],\n",
       "                        {\"title\": {\"text\": \"Dentre os locais que os alunos estudam, qual percentual evade?\"}},\n",
       "                        {\"showLink\": false, \"linkText\": \"Export to plot.ly\", \"plotlyServerURL\": \"https://plot.ly\", \"responsive\": true}\n",
       "                    ).then(function(){\n",
       "                            \n",
       "var gd = document.getElementById('08809938-a4fe-47b5-a03f-992b9539f7d6');\n",
       "var x = new MutationObserver(function (mutations, observer) {{\n",
       "        var display = window.getComputedStyle(gd).display;\n",
       "        if (!display || display === 'none') {{\n",
       "            console.log([gd, 'removed!']);\n",
       "            Plotly.purge(gd);\n",
       "            observer.disconnect();\n",
       "        }}\n",
       "}});\n",
       "\n",
       "// Listen for the removal of the full notebook cells\n",
       "var notebookContainer = gd.closest('#notebook-container');\n",
       "if (notebookContainer) {{\n",
       "    x.observe(notebookContainer, {childList: true});\n",
       "}}\n",
       "\n",
       "// Listen for the clearing of the current output cell\n",
       "var outputEl = gd.closest('.output');\n",
       "if (outputEl) {{\n",
       "    x.observe(outputEl, {childList: true});\n",
       "}}\n",
       "\n",
       "                        })\n",
       "                };\n",
       "                });\n",
       "            </script>\n",
       "        </div>"
      ]
     },
     "metadata": {},
     "output_type": "display_data"
    },
    {
     "data": {
      "text/html": [
       "<div>\n",
       "<style scoped>\n",
       "    .dataframe tbody tr th:only-of-type {\n",
       "        vertical-align: middle;\n",
       "    }\n",
       "\n",
       "    .dataframe tbody tr th {\n",
       "        vertical-align: top;\n",
       "    }\n",
       "\n",
       "    .dataframe thead th {\n",
       "        text-align: right;\n",
       "    }\n",
       "</style>\n",
       "<table border=\"1\" class=\"dataframe\">\n",
       "  <thead>\n",
       "    <tr style=\"text-align: right;\">\n",
       "      <th></th>\n",
       "      <th>CAT_N_TURMA</th>\n",
       "      <th>CAT_IN_LOCAL_ESCOLA</th>\n",
       "      <th>Evadido</th>\n",
       "      <th>Não evadido</th>\n",
       "    </tr>\n",
       "  </thead>\n",
       "  <tbody>\n",
       "    <tr>\n",
       "      <th>0</th>\n",
       "      <td>30 a 40</td>\n",
       "      <td>Grande Rio</td>\n",
       "      <td>29.937127</td>\n",
       "      <td>70.062873</td>\n",
       "    </tr>\n",
       "    <tr>\n",
       "      <th>1</th>\n",
       "      <td>30 a 40</td>\n",
       "      <td>Outros municípios no estado</td>\n",
       "      <td>31.805749</td>\n",
       "      <td>68.194251</td>\n",
       "    </tr>\n",
       "    <tr>\n",
       "      <th>2</th>\n",
       "      <td>30 a 40</td>\n",
       "      <td>Rio de Janeiro (cidade)</td>\n",
       "      <td>39.412052</td>\n",
       "      <td>60.587948</td>\n",
       "    </tr>\n",
       "    <tr>\n",
       "      <th>3</th>\n",
       "      <td>Mais de 40 alunos</td>\n",
       "      <td>Grande Rio</td>\n",
       "      <td>32.085756</td>\n",
       "      <td>67.914244</td>\n",
       "    </tr>\n",
       "    <tr>\n",
       "      <th>4</th>\n",
       "      <td>Mais de 40 alunos</td>\n",
       "      <td>Outros municípios no estado</td>\n",
       "      <td>34.625045</td>\n",
       "      <td>65.374955</td>\n",
       "    </tr>\n",
       "    <tr>\n",
       "      <th>5</th>\n",
       "      <td>Mais de 40 alunos</td>\n",
       "      <td>Rio de Janeiro (cidade)</td>\n",
       "      <td>38.142613</td>\n",
       "      <td>61.857387</td>\n",
       "    </tr>\n",
       "    <tr>\n",
       "      <th>6</th>\n",
       "      <td>Menos de 30 alunos</td>\n",
       "      <td>Grande Rio</td>\n",
       "      <td>31.975925</td>\n",
       "      <td>68.024075</td>\n",
       "    </tr>\n",
       "    <tr>\n",
       "      <th>7</th>\n",
       "      <td>Menos de 30 alunos</td>\n",
       "      <td>Outros municípios no estado</td>\n",
       "      <td>31.908214</td>\n",
       "      <td>68.091786</td>\n",
       "    </tr>\n",
       "    <tr>\n",
       "      <th>8</th>\n",
       "      <td>Menos de 30 alunos</td>\n",
       "      <td>Rio de Janeiro (cidade)</td>\n",
       "      <td>40.398724</td>\n",
       "      <td>59.601276</td>\n",
       "    </tr>\n",
       "  </tbody>\n",
       "</table>\n",
       "</div>"
      ],
      "text/plain": [
       "          CAT_N_TURMA          CAT_IN_LOCAL_ESCOLA    Evadido  Não evadido\n",
       "0             30 a 40                   Grande Rio  29.937127    70.062873\n",
       "1             30 a 40  Outros municípios no estado  31.805749    68.194251\n",
       "2             30 a 40      Rio de Janeiro (cidade)  39.412052    60.587948\n",
       "3   Mais de 40 alunos                   Grande Rio  32.085756    67.914244\n",
       "4   Mais de 40 alunos  Outros municípios no estado  34.625045    65.374955\n",
       "5   Mais de 40 alunos      Rio de Janeiro (cidade)  38.142613    61.857387\n",
       "6  Menos de 30 alunos                   Grande Rio  31.975925    68.024075\n",
       "7  Menos de 30 alunos  Outros municípios no estado  31.908214    68.091786\n",
       "8  Menos de 30 alunos      Rio de Janeiro (cidade)  40.398724    59.601276"
      ]
     },
     "execution_count": 43,
     "metadata": {},
     "output_type": "execute_result"
    }
   ],
   "source": [
    "title = 'Dentre os locais que os alunos estudam, qual percentual evade?'\n",
    "x = 'CAT_N_TURMA'\n",
    "y = 'CAT_IN_LOCAL_ESCOLA'\n",
    "\n",
    "plot_categoria_sexo(x, title, 'perc_cross_turma_local_evasao', y, save=False)"
   ]
  },
  {
   "cell_type": "code",
   "execution_count": 44,
   "metadata": {
    "scrolled": false
   },
   "outputs": [
    {
     "data": {
      "application/vnd.plotly.v1+json": {
       "config": {
        "linkText": "Export to plot.ly",
        "plotlyServerURL": "https://plot.ly",
        "showLink": false
       },
       "data": [
        {
         "marker": {
          "color": "#025951"
         },
         "name": "30 a 40",
         "type": "bar",
         "uid": "f8e62cb1-4e71-4dd5-bd6b-14599187c9ac",
         "x": [
          "Homem",
          "Mulher"
         ],
         "y": [
          35.880317615224236,
          31.71642662060272
         ]
        },
        {
         "marker": {
          "color": "#8BD9CA"
         },
         "name": "Mais de 40 alunos",
         "type": "bar",
         "uid": "9bc36d5b-3b8e-42d8-9344-2a72da3ef6dd",
         "x": [
          "Homem",
          "Mulher"
         ],
         "y": [
          38.33305307998431,
          34.340031283840695
         ]
        },
        {
         "marker": {
          "color": "#BF7F30"
         },
         "name": "Menos de 30 alunos",
         "type": "bar",
         "uid": "f6746c0e-894f-4483-9502-b25787c98016",
         "x": [
          "Homem",
          "Mulher"
         ],
         "y": [
          36.03689872003575,
          31.18368187905635
         ]
        }
       ],
       "layout": {
        "title": {
         "text": "Dentre os locais que os alunos estudam, qual percentual evade?"
        }
       }
      },
      "text/html": [
       "<div>\n",
       "        \n",
       "        \n",
       "            <div id=\"de39cf48-188d-4275-bdc8-7ea430cbb328\" class=\"plotly-graph-div\" style=\"height:525px; width:100%;\"></div>\n",
       "            <script type=\"text/javascript\">\n",
       "                require([\"plotly\"], function(Plotly) {\n",
       "                    window.PLOTLYENV=window.PLOTLYENV || {};\n",
       "                    window.PLOTLYENV.BASE_URL='https://plot.ly';\n",
       "                    \n",
       "                if (document.getElementById(\"de39cf48-188d-4275-bdc8-7ea430cbb328\")) {\n",
       "                    Plotly.newPlot(\n",
       "                        'de39cf48-188d-4275-bdc8-7ea430cbb328',\n",
       "                        [{\"marker\": {\"color\": \"#025951\"}, \"name\": \"30 a 40\", \"type\": \"bar\", \"uid\": \"f8e62cb1-4e71-4dd5-bd6b-14599187c9ac\", \"x\": [\"Homem\", \"Mulher\"], \"y\": [35.880317615224236, 31.71642662060272]}, {\"marker\": {\"color\": \"#8BD9CA\"}, \"name\": \"Mais de 40 alunos\", \"type\": \"bar\", \"uid\": \"9bc36d5b-3b8e-42d8-9344-2a72da3ef6dd\", \"x\": [\"Homem\", \"Mulher\"], \"y\": [38.33305307998431, 34.340031283840695]}, {\"marker\": {\"color\": \"#BF7F30\"}, \"name\": \"Menos de 30 alunos\", \"type\": \"bar\", \"uid\": \"f6746c0e-894f-4483-9502-b25787c98016\", \"x\": [\"Homem\", \"Mulher\"], \"y\": [36.03689872003575, 31.18368187905635]}],\n",
       "                        {\"title\": {\"text\": \"Dentre os locais que os alunos estudam, qual percentual evade?\"}},\n",
       "                        {\"showLink\": false, \"linkText\": \"Export to plot.ly\", \"plotlyServerURL\": \"https://plot.ly\", \"responsive\": true}\n",
       "                    ).then(function(){\n",
       "                            \n",
       "var gd = document.getElementById('de39cf48-188d-4275-bdc8-7ea430cbb328');\n",
       "var x = new MutationObserver(function (mutations, observer) {{\n",
       "        var display = window.getComputedStyle(gd).display;\n",
       "        if (!display || display === 'none') {{\n",
       "            console.log([gd, 'removed!']);\n",
       "            Plotly.purge(gd);\n",
       "            observer.disconnect();\n",
       "        }}\n",
       "}});\n",
       "\n",
       "// Listen for the removal of the full notebook cells\n",
       "var notebookContainer = gd.closest('#notebook-container');\n",
       "if (notebookContainer) {{\n",
       "    x.observe(notebookContainer, {childList: true});\n",
       "}}\n",
       "\n",
       "// Listen for the clearing of the current output cell\n",
       "var outputEl = gd.closest('.output');\n",
       "if (outputEl) {{\n",
       "    x.observe(outputEl, {childList: true});\n",
       "}}\n",
       "\n",
       "                        })\n",
       "                };\n",
       "                });\n",
       "            </script>\n",
       "        </div>"
      ]
     },
     "metadata": {},
     "output_type": "display_data"
    },
    {
     "data": {
      "text/html": [
       "<div>\n",
       "<style scoped>\n",
       "    .dataframe tbody tr th:only-of-type {\n",
       "        vertical-align: middle;\n",
       "    }\n",
       "\n",
       "    .dataframe tbody tr th {\n",
       "        vertical-align: top;\n",
       "    }\n",
       "\n",
       "    .dataframe thead th {\n",
       "        text-align: right;\n",
       "    }\n",
       "</style>\n",
       "<table border=\"1\" class=\"dataframe\">\n",
       "  <thead>\n",
       "    <tr style=\"text-align: right;\">\n",
       "      <th></th>\n",
       "      <th>CAT_N_TURMA</th>\n",
       "      <th>CAT_TP_SEXO</th>\n",
       "      <th>Evadido</th>\n",
       "      <th>Não evadido</th>\n",
       "    </tr>\n",
       "  </thead>\n",
       "  <tbody>\n",
       "    <tr>\n",
       "      <th>0</th>\n",
       "      <td>30 a 40</td>\n",
       "      <td>Homem</td>\n",
       "      <td>35.880318</td>\n",
       "      <td>64.119682</td>\n",
       "    </tr>\n",
       "    <tr>\n",
       "      <th>1</th>\n",
       "      <td>30 a 40</td>\n",
       "      <td>Mulher</td>\n",
       "      <td>31.716427</td>\n",
       "      <td>68.283573</td>\n",
       "    </tr>\n",
       "    <tr>\n",
       "      <th>2</th>\n",
       "      <td>Mais de 40 alunos</td>\n",
       "      <td>Homem</td>\n",
       "      <td>38.333053</td>\n",
       "      <td>61.666947</td>\n",
       "    </tr>\n",
       "    <tr>\n",
       "      <th>3</th>\n",
       "      <td>Mais de 40 alunos</td>\n",
       "      <td>Mulher</td>\n",
       "      <td>34.340031</td>\n",
       "      <td>65.659969</td>\n",
       "    </tr>\n",
       "    <tr>\n",
       "      <th>4</th>\n",
       "      <td>Menos de 30 alunos</td>\n",
       "      <td>Homem</td>\n",
       "      <td>36.036899</td>\n",
       "      <td>63.963101</td>\n",
       "    </tr>\n",
       "    <tr>\n",
       "      <th>5</th>\n",
       "      <td>Menos de 30 alunos</td>\n",
       "      <td>Mulher</td>\n",
       "      <td>31.183682</td>\n",
       "      <td>68.816318</td>\n",
       "    </tr>\n",
       "  </tbody>\n",
       "</table>\n",
       "</div>"
      ],
      "text/plain": [
       "          CAT_N_TURMA CAT_TP_SEXO    Evadido  Não evadido\n",
       "0             30 a 40       Homem  35.880318    64.119682\n",
       "1             30 a 40      Mulher  31.716427    68.283573\n",
       "2   Mais de 40 alunos       Homem  38.333053    61.666947\n",
       "3   Mais de 40 alunos      Mulher  34.340031    65.659969\n",
       "4  Menos de 30 alunos       Homem  36.036899    63.963101\n",
       "5  Menos de 30 alunos      Mulher  31.183682    68.816318"
      ]
     },
     "execution_count": 44,
     "metadata": {},
     "output_type": "execute_result"
    }
   ],
   "source": [
    "title = 'Dentre os locais que os alunos estudam, qual percentual evade?'\n",
    "x = 'CAT_N_TURMA'\n",
    "\n",
    "plot_categoria_sexo(x, title, 'perc_cross_turma_sexo_evasao', save=False)"
   ]
  },
  {
   "cell_type": "code",
   "execution_count": 45,
   "metadata": {
    "scrolled": false
   },
   "outputs": [
    {
     "data": {
      "application/vnd.plotly.v1+json": {
       "config": {
        "linkText": "Export to plot.ly",
        "plotlyServerURL": "https://plot.ly",
        "showLink": false
       },
       "data": [
        {
         "marker": {
          "color": [
           "#025951",
           "#8BD9CA",
           "#BF7F30",
           "#F2C124",
           "#8C470B",
           "#DFC27D"
          ]
         },
         "type": "bar",
         "uid": "b28cf63c-0afe-4a95-b8a7-bb9fef8646f4",
         "x": [
          "30 a 40",
          "Menos de 30 alunos",
          "Mais de 40 alunos"
         ],
         "y": [
          0.4808901869414454,
          0.3306205493387589,
          0.18848926371979566
         ]
        }
       ],
       "layout": {
        "title": {
         "text": "Percentual de alunos por tamanho da turma"
        }
       }
      },
      "text/html": [
       "<div>\n",
       "        \n",
       "        \n",
       "            <div id=\"3379f295-3410-4348-9643-ec24bb60a019\" class=\"plotly-graph-div\" style=\"height:525px; width:100%;\"></div>\n",
       "            <script type=\"text/javascript\">\n",
       "                require([\"plotly\"], function(Plotly) {\n",
       "                    window.PLOTLYENV=window.PLOTLYENV || {};\n",
       "                    window.PLOTLYENV.BASE_URL='https://plot.ly';\n",
       "                    \n",
       "                if (document.getElementById(\"3379f295-3410-4348-9643-ec24bb60a019\")) {\n",
       "                    Plotly.newPlot(\n",
       "                        '3379f295-3410-4348-9643-ec24bb60a019',\n",
       "                        [{\"marker\": {\"color\": [\"#025951\", \"#8BD9CA\", \"#BF7F30\", \"#F2C124\", \"#8C470B\", \"#DFC27D\"]}, \"type\": \"bar\", \"uid\": \"b28cf63c-0afe-4a95-b8a7-bb9fef8646f4\", \"x\": [\"30 a 40\", \"Menos de 30 alunos\", \"Mais de 40 alunos\"], \"y\": [0.4808901869414454, 0.3306205493387589, 0.18848926371979566]}],\n",
       "                        {\"title\": {\"text\": \"Percentual de alunos por tamanho da turma\"}},\n",
       "                        {\"showLink\": false, \"linkText\": \"Export to plot.ly\", \"plotlyServerURL\": \"https://plot.ly\", \"responsive\": true}\n",
       "                    ).then(function(){\n",
       "                            \n",
       "var gd = document.getElementById('3379f295-3410-4348-9643-ec24bb60a019');\n",
       "var x = new MutationObserver(function (mutations, observer) {{\n",
       "        var display = window.getComputedStyle(gd).display;\n",
       "        if (!display || display === 'none') {{\n",
       "            console.log([gd, 'removed!']);\n",
       "            Plotly.purge(gd);\n",
       "            observer.disconnect();\n",
       "        }}\n",
       "}});\n",
       "\n",
       "// Listen for the removal of the full notebook cells\n",
       "var notebookContainer = gd.closest('#notebook-container');\n",
       "if (notebookContainer) {{\n",
       "    x.observe(notebookContainer, {childList: true});\n",
       "}}\n",
       "\n",
       "// Listen for the clearing of the current output cell\n",
       "var outputEl = gd.closest('.output');\n",
       "if (outputEl) {{\n",
       "    x.observe(outputEl, {childList: true});\n",
       "}}\n",
       "\n",
       "                        })\n",
       "                };\n",
       "                });\n",
       "            </script>\n",
       "        </div>"
      ]
     },
     "metadata": {},
     "output_type": "display_data"
    },
    {
     "data": {
      "application/vnd.plotly.v1+json": {
       "config": {
        "linkText": "Export to plot.ly",
        "plotlyServerURL": "https://plot.ly",
        "showLink": false
       },
       "data": [
        {
         "marker": {
          "color": "#025951"
         },
         "name": "Menos de 30 alunos",
         "type": "bar",
         "uid": "0f6a6355-7bb9-4206-9fd9-4c0c370237ee",
         "x": [
          "Não evadido",
          "Evadido"
         ],
         "y": [
          0.663010752688172,
          0.33698924731182794
         ]
        },
        {
         "marker": {
          "color": "#8BD9CA"
         },
         "name": "30 a 40",
         "type": "bar",
         "uid": "e1b409dc-6d98-4ec4-8632-6da423ddc87b",
         "x": [
          "Não evadido",
          "Evadido"
         ],
         "y": [
          0.6614842195052602,
          0.33851578049473985
         ]
        },
        {
         "marker": {
          "color": "#BF7F30"
         },
         "name": "Mais de 40 alunos",
         "type": "bar",
         "uid": "03192c80-e12e-4a66-a4a5-f0fe36d8d84b",
         "x": [
          "Não evadido",
          "Evadido"
         ],
         "y": [
          0.6359283869657314,
          0.36407161303426866
         ]
        },
        {
         "marker": {
          "color": "#dbdbdb"
         },
         "name": "Total",
         "type": "bar",
         "uid": "25937ade-fd6c-4078-9090-69962ac17931",
         "x": [
          "Não evadido",
          "Evadido"
         ],
         "y": [
          0.6571719226856562,
          0.34282807731434384
         ]
        }
       ],
       "layout": {
        "title": {
         "text": "Qual o percentual de evasão por tamanho de turma?"
        }
       }
      },
      "text/html": [
       "<div>\n",
       "        \n",
       "        \n",
       "            <div id=\"ff7e22f0-92af-4519-b97f-a21505bfa62c\" class=\"plotly-graph-div\" style=\"height:525px; width:100%;\"></div>\n",
       "            <script type=\"text/javascript\">\n",
       "                require([\"plotly\"], function(Plotly) {\n",
       "                    window.PLOTLYENV=window.PLOTLYENV || {};\n",
       "                    window.PLOTLYENV.BASE_URL='https://plot.ly';\n",
       "                    \n",
       "                if (document.getElementById(\"ff7e22f0-92af-4519-b97f-a21505bfa62c\")) {\n",
       "                    Plotly.newPlot(\n",
       "                        'ff7e22f0-92af-4519-b97f-a21505bfa62c',\n",
       "                        [{\"marker\": {\"color\": \"#025951\"}, \"name\": \"Menos de 30 alunos\", \"type\": \"bar\", \"uid\": \"0f6a6355-7bb9-4206-9fd9-4c0c370237ee\", \"x\": [\"N\\u00e3o evadido\", \"Evadido\"], \"y\": [0.663010752688172, 0.33698924731182794]}, {\"marker\": {\"color\": \"#8BD9CA\"}, \"name\": \"30 a 40\", \"type\": \"bar\", \"uid\": \"e1b409dc-6d98-4ec4-8632-6da423ddc87b\", \"x\": [\"N\\u00e3o evadido\", \"Evadido\"], \"y\": [0.6614842195052602, 0.33851578049473985]}, {\"marker\": {\"color\": \"#BF7F30\"}, \"name\": \"Mais de 40 alunos\", \"type\": \"bar\", \"uid\": \"03192c80-e12e-4a66-a4a5-f0fe36d8d84b\", \"x\": [\"N\\u00e3o evadido\", \"Evadido\"], \"y\": [0.6359283869657314, 0.36407161303426866]}, {\"marker\": {\"color\": \"#dbdbdb\"}, \"name\": \"Total\", \"type\": \"bar\", \"uid\": \"25937ade-fd6c-4078-9090-69962ac17931\", \"x\": [\"N\\u00e3o evadido\", \"Evadido\"], \"y\": [0.6571719226856562, 0.34282807731434384]}],\n",
       "                        {\"title\": {\"text\": \"Qual o percentual de evas\\u00e3o por tamanho de turma?\"}},\n",
       "                        {\"showLink\": false, \"linkText\": \"Export to plot.ly\", \"plotlyServerURL\": \"https://plot.ly\", \"responsive\": true}\n",
       "                    ).then(function(){\n",
       "                            \n",
       "var gd = document.getElementById('ff7e22f0-92af-4519-b97f-a21505bfa62c');\n",
       "var x = new MutationObserver(function (mutations, observer) {{\n",
       "        var display = window.getComputedStyle(gd).display;\n",
       "        if (!display || display === 'none') {{\n",
       "            console.log([gd, 'removed!']);\n",
       "            Plotly.purge(gd);\n",
       "            observer.disconnect();\n",
       "        }}\n",
       "}});\n",
       "\n",
       "// Listen for the removal of the full notebook cells\n",
       "var notebookContainer = gd.closest('#notebook-container');\n",
       "if (notebookContainer) {{\n",
       "    x.observe(notebookContainer, {childList: true});\n",
       "}}\n",
       "\n",
       "// Listen for the clearing of the current output cell\n",
       "var outputEl = gd.closest('.output');\n",
       "if (outputEl) {{\n",
       "    x.observe(outputEl, {childList: true});\n",
       "}}\n",
       "\n",
       "                        })\n",
       "                };\n",
       "                });\n",
       "            </script>\n",
       "        </div>"
      ]
     },
     "metadata": {},
     "output_type": "display_data"
    }
   ],
   "source": [
    "title = 'Qual o percentual de evasão por tamanho de turma?'\n",
    "\n",
    "x = 'CAT_N_TURMA'\n",
    "plot_categoria(x, title, 'perc_n_turma_evasao', title2='Percentual de alunos por tamanho da turma', save=False)"
   ]
  },
  {
   "cell_type": "markdown",
   "metadata": {},
   "source": [
    "## Cruzamentos com dados da escola"
   ]
  },
  {
   "cell_type": "code",
   "execution_count": 46,
   "metadata": {},
   "outputs": [
    {
     "data": {
      "application/vnd.plotly.v1+json": {
       "config": {
        "linkText": "Export to plot.ly",
        "plotlyServerURL": "https://plot.ly",
        "showLink": false
       },
       "data": [
        {
         "marker": {
          "color": [
           "#025951",
           "#8BD9CA",
           "#BF7F30",
           "#F2C124",
           "#8C470B",
           "#DFC27D"
          ]
         },
         "type": "bar",
         "uid": "c4e10842-efc9-4b0c-98d7-b881c5531441",
         "x": [
          "Escola possui laboratório de informática",
          "Escola não possui laboratório de informática"
         ],
         "y": [
          0.8083932224154716,
          0.19160677758452838
         ]
        }
       ],
       "layout": {
        "title": {
         "text": "Distribuição alunos em escolas com e sem laboratório de informática"
        }
       }
      },
      "text/html": [
       "<div>\n",
       "        \n",
       "        \n",
       "            <div id=\"e9acaf2e-7fa6-4515-9f60-f78c8c25f6c0\" class=\"plotly-graph-div\" style=\"height:525px; width:100%;\"></div>\n",
       "            <script type=\"text/javascript\">\n",
       "                require([\"plotly\"], function(Plotly) {\n",
       "                    window.PLOTLYENV=window.PLOTLYENV || {};\n",
       "                    window.PLOTLYENV.BASE_URL='https://plot.ly';\n",
       "                    \n",
       "                if (document.getElementById(\"e9acaf2e-7fa6-4515-9f60-f78c8c25f6c0\")) {\n",
       "                    Plotly.newPlot(\n",
       "                        'e9acaf2e-7fa6-4515-9f60-f78c8c25f6c0',\n",
       "                        [{\"marker\": {\"color\": [\"#025951\", \"#8BD9CA\", \"#BF7F30\", \"#F2C124\", \"#8C470B\", \"#DFC27D\"]}, \"type\": \"bar\", \"uid\": \"c4e10842-efc9-4b0c-98d7-b881c5531441\", \"x\": [\"Escola possui laborat\\u00f3rio de inform\\u00e1tica\", \"Escola n\\u00e3o possui laborat\\u00f3rio de inform\\u00e1tica\"], \"y\": [0.8083932224154716, 0.19160677758452838]}],\n",
       "                        {\"title\": {\"text\": \"Distribui\\u00e7\\u00e3o alunos em escolas com e sem laborat\\u00f3rio de inform\\u00e1tica\"}},\n",
       "                        {\"showLink\": false, \"linkText\": \"Export to plot.ly\", \"plotlyServerURL\": \"https://plot.ly\", \"responsive\": true}\n",
       "                    ).then(function(){\n",
       "                            \n",
       "var gd = document.getElementById('e9acaf2e-7fa6-4515-9f60-f78c8c25f6c0');\n",
       "var x = new MutationObserver(function (mutations, observer) {{\n",
       "        var display = window.getComputedStyle(gd).display;\n",
       "        if (!display || display === 'none') {{\n",
       "            console.log([gd, 'removed!']);\n",
       "            Plotly.purge(gd);\n",
       "            observer.disconnect();\n",
       "        }}\n",
       "}});\n",
       "\n",
       "// Listen for the removal of the full notebook cells\n",
       "var notebookContainer = gd.closest('#notebook-container');\n",
       "if (notebookContainer) {{\n",
       "    x.observe(notebookContainer, {childList: true});\n",
       "}}\n",
       "\n",
       "// Listen for the clearing of the current output cell\n",
       "var outputEl = gd.closest('.output');\n",
       "if (outputEl) {{\n",
       "    x.observe(outputEl, {childList: true});\n",
       "}}\n",
       "\n",
       "                        })\n",
       "                };\n",
       "                });\n",
       "            </script>\n",
       "        </div>"
      ]
     },
     "metadata": {},
     "output_type": "display_data"
    },
    {
     "data": {
      "application/vnd.plotly.v1+json": {
       "config": {
        "linkText": "Export to plot.ly",
        "plotlyServerURL": "https://plot.ly",
        "showLink": false
       },
       "data": [
        {
         "marker": {
          "color": "#025951"
         },
         "name": "Escola possui laboratório de informática",
         "type": "bar",
         "uid": "a959f8ef-45dd-433f-8564-6a1254c51bf5",
         "x": [
          "Não evadido",
          "Evadido"
         ],
         "y": [
          0.665742024965326,
          0.3342579750346741
         ]
        },
        {
         "marker": {
          "color": "#8BD9CA"
         },
         "name": "Escola não possui laboratório de informática",
         "type": "bar",
         "uid": "b4060371-4a54-42fc-96b5-fef6289be718",
         "x": [
          "Não evadido",
          "Evadido"
         ],
         "y": [
          0.6210144720691919,
          0.3789855279308081
         ]
        },
        {
         "marker": {
          "color": "#dbdbdb"
         },
         "name": "Total",
         "type": "bar",
         "uid": "bbef25cb-f9e5-44e7-9aee-30b7c7d93220",
         "x": [
          "Não evadido",
          "Evadido"
         ],
         "y": [
          0.6571719226856562,
          0.34282807731434384
         ]
        }
       ],
       "layout": {
        "title": {
         "text": "Dentre alunos de escolas com laboratório de informática, qual percentual evade?"
        }
       }
      },
      "text/html": [
       "<div>\n",
       "        \n",
       "        \n",
       "            <div id=\"f06f22d9-8ec7-4c43-a411-4cfce24bb823\" class=\"plotly-graph-div\" style=\"height:525px; width:100%;\"></div>\n",
       "            <script type=\"text/javascript\">\n",
       "                require([\"plotly\"], function(Plotly) {\n",
       "                    window.PLOTLYENV=window.PLOTLYENV || {};\n",
       "                    window.PLOTLYENV.BASE_URL='https://plot.ly';\n",
       "                    \n",
       "                if (document.getElementById(\"f06f22d9-8ec7-4c43-a411-4cfce24bb823\")) {\n",
       "                    Plotly.newPlot(\n",
       "                        'f06f22d9-8ec7-4c43-a411-4cfce24bb823',\n",
       "                        [{\"marker\": {\"color\": \"#025951\"}, \"name\": \"Escola possui laborat\\u00f3rio de inform\\u00e1tica\", \"type\": \"bar\", \"uid\": \"a959f8ef-45dd-433f-8564-6a1254c51bf5\", \"x\": [\"N\\u00e3o evadido\", \"Evadido\"], \"y\": [0.665742024965326, 0.3342579750346741]}, {\"marker\": {\"color\": \"#8BD9CA\"}, \"name\": \"Escola n\\u00e3o possui laborat\\u00f3rio de inform\\u00e1tica\", \"type\": \"bar\", \"uid\": \"b4060371-4a54-42fc-96b5-fef6289be718\", \"x\": [\"N\\u00e3o evadido\", \"Evadido\"], \"y\": [0.6210144720691919, 0.3789855279308081]}, {\"marker\": {\"color\": \"#dbdbdb\"}, \"name\": \"Total\", \"type\": \"bar\", \"uid\": \"bbef25cb-f9e5-44e7-9aee-30b7c7d93220\", \"x\": [\"N\\u00e3o evadido\", \"Evadido\"], \"y\": [0.6571719226856562, 0.34282807731434384]}],\n",
       "                        {\"title\": {\"text\": \"Dentre alunos de escolas com laborat\\u00f3rio de inform\\u00e1tica, qual percentual evade?\"}},\n",
       "                        {\"showLink\": false, \"linkText\": \"Export to plot.ly\", \"plotlyServerURL\": \"https://plot.ly\", \"responsive\": true}\n",
       "                    ).then(function(){\n",
       "                            \n",
       "var gd = document.getElementById('f06f22d9-8ec7-4c43-a411-4cfce24bb823');\n",
       "var x = new MutationObserver(function (mutations, observer) {{\n",
       "        var display = window.getComputedStyle(gd).display;\n",
       "        if (!display || display === 'none') {{\n",
       "            console.log([gd, 'removed!']);\n",
       "            Plotly.purge(gd);\n",
       "            observer.disconnect();\n",
       "        }}\n",
       "}});\n",
       "\n",
       "// Listen for the removal of the full notebook cells\n",
       "var notebookContainer = gd.closest('#notebook-container');\n",
       "if (notebookContainer) {{\n",
       "    x.observe(notebookContainer, {childList: true});\n",
       "}}\n",
       "\n",
       "// Listen for the clearing of the current output cell\n",
       "var outputEl = gd.closest('.output');\n",
       "if (outputEl) {{\n",
       "    x.observe(outputEl, {childList: true});\n",
       "}}\n",
       "\n",
       "                        })\n",
       "                };\n",
       "                });\n",
       "            </script>\n",
       "        </div>"
      ]
     },
     "metadata": {},
     "output_type": "display_data"
    }
   ],
   "source": [
    "title = 'Dentre alunos de escolas com laboratório de informática, qual percentual evade?'\n",
    "x = 'CAT_IN_LABORATORIO_INFORMATICA'\n",
    "\n",
    "plot_categoria(x, title, 'perc_lab_inform_evasao', \n",
    "               title2='Distribuição alunos em escolas com e sem laboratório de informática', save=False)"
   ]
  },
  {
   "cell_type": "code",
   "execution_count": 47,
   "metadata": {},
   "outputs": [
    {
     "data": {
      "application/vnd.plotly.v1+json": {
       "config": {
        "linkText": "Export to plot.ly",
        "plotlyServerURL": "https://plot.ly",
        "showLink": false
       },
       "data": [
        {
         "marker": {
          "color": [
           "#025951",
           "#8BD9CA",
           "#BF7F30",
           "#F2C124",
           "#8C470B",
           "#DFC27D"
          ]
         },
         "type": "bar",
         "uid": "2d7f1837-fbcd-4497-aa35-59e34827cb5c",
         "x": [
          "Escola possui laboratório de ciências",
          "Escola não possui laboratório de ciências"
         ],
         "y": [
          0.7592951137072163,
          0.24070488629278378
         ]
        }
       ],
       "layout": {
        "title": {
         "text": "Distribuição alunos em escolas com e sem laboratório de ciências"
        }
       }
      },
      "text/html": [
       "<div>\n",
       "        \n",
       "        \n",
       "            <div id=\"cf246843-a9df-457e-98f1-d24d227177f8\" class=\"plotly-graph-div\" style=\"height:525px; width:100%;\"></div>\n",
       "            <script type=\"text/javascript\">\n",
       "                require([\"plotly\"], function(Plotly) {\n",
       "                    window.PLOTLYENV=window.PLOTLYENV || {};\n",
       "                    window.PLOTLYENV.BASE_URL='https://plot.ly';\n",
       "                    \n",
       "                if (document.getElementById(\"cf246843-a9df-457e-98f1-d24d227177f8\")) {\n",
       "                    Plotly.newPlot(\n",
       "                        'cf246843-a9df-457e-98f1-d24d227177f8',\n",
       "                        [{\"marker\": {\"color\": [\"#025951\", \"#8BD9CA\", \"#BF7F30\", \"#F2C124\", \"#8C470B\", \"#DFC27D\"]}, \"type\": \"bar\", \"uid\": \"2d7f1837-fbcd-4497-aa35-59e34827cb5c\", \"x\": [\"Escola possui laborat\\u00f3rio de ci\\u00eancias\", \"Escola n\\u00e3o possui laborat\\u00f3rio de ci\\u00eancias\"], \"y\": [0.7592951137072163, 0.24070488629278378]}],\n",
       "                        {\"title\": {\"text\": \"Distribui\\u00e7\\u00e3o alunos em escolas com e sem laborat\\u00f3rio de ci\\u00eancias\"}},\n",
       "                        {\"showLink\": false, \"linkText\": \"Export to plot.ly\", \"plotlyServerURL\": \"https://plot.ly\", \"responsive\": true}\n",
       "                    ).then(function(){\n",
       "                            \n",
       "var gd = document.getElementById('cf246843-a9df-457e-98f1-d24d227177f8');\n",
       "var x = new MutationObserver(function (mutations, observer) {{\n",
       "        var display = window.getComputedStyle(gd).display;\n",
       "        if (!display || display === 'none') {{\n",
       "            console.log([gd, 'removed!']);\n",
       "            Plotly.purge(gd);\n",
       "            observer.disconnect();\n",
       "        }}\n",
       "}});\n",
       "\n",
       "// Listen for the removal of the full notebook cells\n",
       "var notebookContainer = gd.closest('#notebook-container');\n",
       "if (notebookContainer) {{\n",
       "    x.observe(notebookContainer, {childList: true});\n",
       "}}\n",
       "\n",
       "// Listen for the clearing of the current output cell\n",
       "var outputEl = gd.closest('.output');\n",
       "if (outputEl) {{\n",
       "    x.observe(outputEl, {childList: true});\n",
       "}}\n",
       "\n",
       "                        })\n",
       "                };\n",
       "                });\n",
       "            </script>\n",
       "        </div>"
      ]
     },
     "metadata": {},
     "output_type": "display_data"
    },
    {
     "data": {
      "application/vnd.plotly.v1+json": {
       "config": {
        "linkText": "Export to plot.ly",
        "plotlyServerURL": "https://plot.ly",
        "showLink": false
       },
       "data": [
        {
         "marker": {
          "color": "#025951"
         },
         "name": "Escola possui laboratório de ciências",
         "type": "bar",
         "uid": "54486db4-d336-412f-a6ea-b615ec44b700",
         "x": [
          "Não evadido",
          "Evadido"
         ],
         "y": [
          0.658988100383208,
          0.341011899616792
         ]
        },
        {
         "marker": {
          "color": "#8BD9CA"
         },
         "name": "Escola não possui laboratório de ciências",
         "type": "bar",
         "uid": "f0c39ce2-bdd6-47b5-870f-7529195b1c6e",
         "x": [
          "Não evadido",
          "Evadido"
         ],
         "y": [
          0.6514428538968416,
          0.34855714610315836
         ]
        },
        {
         "marker": {
          "color": "#dbdbdb"
         },
         "name": "Total",
         "type": "bar",
         "uid": "ab18300c-cf96-4030-9508-b0b62a7ae6e3",
         "x": [
          "Não evadido",
          "Evadido"
         ],
         "y": [
          0.6571719226856562,
          0.34282807731434384
         ]
        }
       ],
       "layout": {
        "title": {
         "text": "Dentre alunos de escolas com laboratório de ciências, qual percentual evade?"
        }
       }
      },
      "text/html": [
       "<div>\n",
       "        \n",
       "        \n",
       "            <div id=\"f740c080-997b-466e-a3e1-8eb404af5731\" class=\"plotly-graph-div\" style=\"height:525px; width:100%;\"></div>\n",
       "            <script type=\"text/javascript\">\n",
       "                require([\"plotly\"], function(Plotly) {\n",
       "                    window.PLOTLYENV=window.PLOTLYENV || {};\n",
       "                    window.PLOTLYENV.BASE_URL='https://plot.ly';\n",
       "                    \n",
       "                if (document.getElementById(\"f740c080-997b-466e-a3e1-8eb404af5731\")) {\n",
       "                    Plotly.newPlot(\n",
       "                        'f740c080-997b-466e-a3e1-8eb404af5731',\n",
       "                        [{\"marker\": {\"color\": \"#025951\"}, \"name\": \"Escola possui laborat\\u00f3rio de ci\\u00eancias\", \"type\": \"bar\", \"uid\": \"54486db4-d336-412f-a6ea-b615ec44b700\", \"x\": [\"N\\u00e3o evadido\", \"Evadido\"], \"y\": [0.658988100383208, 0.341011899616792]}, {\"marker\": {\"color\": \"#8BD9CA\"}, \"name\": \"Escola n\\u00e3o possui laborat\\u00f3rio de ci\\u00eancias\", \"type\": \"bar\", \"uid\": \"f0c39ce2-bdd6-47b5-870f-7529195b1c6e\", \"x\": [\"N\\u00e3o evadido\", \"Evadido\"], \"y\": [0.6514428538968416, 0.34855714610315836]}, {\"marker\": {\"color\": \"#dbdbdb\"}, \"name\": \"Total\", \"type\": \"bar\", \"uid\": \"ab18300c-cf96-4030-9508-b0b62a7ae6e3\", \"x\": [\"N\\u00e3o evadido\", \"Evadido\"], \"y\": [0.6571719226856562, 0.34282807731434384]}],\n",
       "                        {\"title\": {\"text\": \"Dentre alunos de escolas com laborat\\u00f3rio de ci\\u00eancias, qual percentual evade?\"}},\n",
       "                        {\"showLink\": false, \"linkText\": \"Export to plot.ly\", \"plotlyServerURL\": \"https://plot.ly\", \"responsive\": true}\n",
       "                    ).then(function(){\n",
       "                            \n",
       "var gd = document.getElementById('f740c080-997b-466e-a3e1-8eb404af5731');\n",
       "var x = new MutationObserver(function (mutations, observer) {{\n",
       "        var display = window.getComputedStyle(gd).display;\n",
       "        if (!display || display === 'none') {{\n",
       "            console.log([gd, 'removed!']);\n",
       "            Plotly.purge(gd);\n",
       "            observer.disconnect();\n",
       "        }}\n",
       "}});\n",
       "\n",
       "// Listen for the removal of the full notebook cells\n",
       "var notebookContainer = gd.closest('#notebook-container');\n",
       "if (notebookContainer) {{\n",
       "    x.observe(notebookContainer, {childList: true});\n",
       "}}\n",
       "\n",
       "// Listen for the clearing of the current output cell\n",
       "var outputEl = gd.closest('.output');\n",
       "if (outputEl) {{\n",
       "    x.observe(outputEl, {childList: true});\n",
       "}}\n",
       "\n",
       "                        })\n",
       "                };\n",
       "                });\n",
       "            </script>\n",
       "        </div>"
      ]
     },
     "metadata": {},
     "output_type": "display_data"
    }
   ],
   "source": [
    "title = 'Dentre alunos de escolas com laboratório de ciências, qual percentual evade?'\n",
    "x = 'CAT_IN_LABORATORIO_CIENCIAS'\n",
    "\n",
    "plot_categoria(x, title, 'perc_lab_ciencias_evasao',\n",
    "               title2='Distribuição alunos em escolas com e sem laboratório de ciências', save=False)"
   ]
  },
  {
   "cell_type": "code",
   "execution_count": 48,
   "metadata": {},
   "outputs": [
    {
     "data": {
      "application/vnd.plotly.v1+json": {
       "config": {
        "linkText": "Export to plot.ly",
        "plotlyServerURL": "https://plot.ly",
        "showLink": false
       },
       "data": [
        {
         "marker": {
          "color": [
           "#025951",
           "#8BD9CA",
           "#BF7F30",
           "#F2C124",
           "#8C470B",
           "#DFC27D"
          ]
         },
         "type": "bar",
         "uid": "37bc1278-53cb-419a-b208-ede3d6ef22a5",
         "x": [
          "Escola possui quadra",
          "Escola não possui quadra"
         ],
         "y": [
          0.9416423281812315,
          0.058357671818768525
         ]
        }
       ],
       "layout": {
        "title": {
         "text": "Distribuição alunos em escolas com e sem quadra"
        }
       }
      },
      "text/html": [
       "<div>\n",
       "        \n",
       "        \n",
       "            <div id=\"b63c0e7a-3005-4e84-9b1a-4b675e65ed43\" class=\"plotly-graph-div\" style=\"height:525px; width:100%;\"></div>\n",
       "            <script type=\"text/javascript\">\n",
       "                require([\"plotly\"], function(Plotly) {\n",
       "                    window.PLOTLYENV=window.PLOTLYENV || {};\n",
       "                    window.PLOTLYENV.BASE_URL='https://plot.ly';\n",
       "                    \n",
       "                if (document.getElementById(\"b63c0e7a-3005-4e84-9b1a-4b675e65ed43\")) {\n",
       "                    Plotly.newPlot(\n",
       "                        'b63c0e7a-3005-4e84-9b1a-4b675e65ed43',\n",
       "                        [{\"marker\": {\"color\": [\"#025951\", \"#8BD9CA\", \"#BF7F30\", \"#F2C124\", \"#8C470B\", \"#DFC27D\"]}, \"type\": \"bar\", \"uid\": \"37bc1278-53cb-419a-b208-ede3d6ef22a5\", \"x\": [\"Escola possui quadra\", \"Escola n\\u00e3o possui quadra\"], \"y\": [0.9416423281812315, 0.058357671818768525]}],\n",
       "                        {\"title\": {\"text\": \"Distribui\\u00e7\\u00e3o alunos em escolas com e sem quadra\"}},\n",
       "                        {\"showLink\": false, \"linkText\": \"Export to plot.ly\", \"plotlyServerURL\": \"https://plot.ly\", \"responsive\": true}\n",
       "                    ).then(function(){\n",
       "                            \n",
       "var gd = document.getElementById('b63c0e7a-3005-4e84-9b1a-4b675e65ed43');\n",
       "var x = new MutationObserver(function (mutations, observer) {{\n",
       "        var display = window.getComputedStyle(gd).display;\n",
       "        if (!display || display === 'none') {{\n",
       "            console.log([gd, 'removed!']);\n",
       "            Plotly.purge(gd);\n",
       "            observer.disconnect();\n",
       "        }}\n",
       "}});\n",
       "\n",
       "// Listen for the removal of the full notebook cells\n",
       "var notebookContainer = gd.closest('#notebook-container');\n",
       "if (notebookContainer) {{\n",
       "    x.observe(notebookContainer, {childList: true});\n",
       "}}\n",
       "\n",
       "// Listen for the clearing of the current output cell\n",
       "var outputEl = gd.closest('.output');\n",
       "if (outputEl) {{\n",
       "    x.observe(outputEl, {childList: true});\n",
       "}}\n",
       "\n",
       "                        })\n",
       "                };\n",
       "                });\n",
       "            </script>\n",
       "        </div>"
      ]
     },
     "metadata": {},
     "output_type": "display_data"
    },
    {
     "data": {
      "application/vnd.plotly.v1+json": {
       "config": {
        "linkText": "Export to plot.ly",
        "plotlyServerURL": "https://plot.ly",
        "showLink": false
       },
       "data": [
        {
         "marker": {
          "color": "#025951"
         },
         "name": "Escola possui quadra",
         "type": "bar",
         "uid": "5eff31aa-d8a2-47e5-b56c-51a2492cb861",
         "x": [
          "Não evadido",
          "Evadido"
         ],
         "y": [
          0.6556038288183634,
          0.34439617118163657
         ]
        },
        {
         "marker": {
          "color": "#8BD9CA"
         },
         "name": "Escola não possui quadra",
         "type": "bar",
         "uid": "d3cbde66-5e4f-472a-9722-2b3f5d5579a2",
         "x": [
          "Não evadido",
          "Evadido"
         ],
         "y": [
          0.6824742268041237,
          0.31752577319587627
         ]
        },
        {
         "marker": {
          "color": "#dbdbdb"
         },
         "name": "Total",
         "type": "bar",
         "uid": "2f787e7f-696e-4e4f-b966-1393bea36a1f",
         "x": [
          "Não evadido",
          "Evadido"
         ],
         "y": [
          0.6571719226856562,
          0.34282807731434384
         ]
        }
       ],
       "layout": {
        "title": {
         "text": "Dentre alunos de escolas com quadra, qual percentual evade?"
        }
       }
      },
      "text/html": [
       "<div>\n",
       "        \n",
       "        \n",
       "            <div id=\"fb18e4d9-35db-4e4f-938c-5252abdf5ca1\" class=\"plotly-graph-div\" style=\"height:525px; width:100%;\"></div>\n",
       "            <script type=\"text/javascript\">\n",
       "                require([\"plotly\"], function(Plotly) {\n",
       "                    window.PLOTLYENV=window.PLOTLYENV || {};\n",
       "                    window.PLOTLYENV.BASE_URL='https://plot.ly';\n",
       "                    \n",
       "                if (document.getElementById(\"fb18e4d9-35db-4e4f-938c-5252abdf5ca1\")) {\n",
       "                    Plotly.newPlot(\n",
       "                        'fb18e4d9-35db-4e4f-938c-5252abdf5ca1',\n",
       "                        [{\"marker\": {\"color\": \"#025951\"}, \"name\": \"Escola possui quadra\", \"type\": \"bar\", \"uid\": \"5eff31aa-d8a2-47e5-b56c-51a2492cb861\", \"x\": [\"N\\u00e3o evadido\", \"Evadido\"], \"y\": [0.6556038288183634, 0.34439617118163657]}, {\"marker\": {\"color\": \"#8BD9CA\"}, \"name\": \"Escola n\\u00e3o possui quadra\", \"type\": \"bar\", \"uid\": \"d3cbde66-5e4f-472a-9722-2b3f5d5579a2\", \"x\": [\"N\\u00e3o evadido\", \"Evadido\"], \"y\": [0.6824742268041237, 0.31752577319587627]}, {\"marker\": {\"color\": \"#dbdbdb\"}, \"name\": \"Total\", \"type\": \"bar\", \"uid\": \"2f787e7f-696e-4e4f-b966-1393bea36a1f\", \"x\": [\"N\\u00e3o evadido\", \"Evadido\"], \"y\": [0.6571719226856562, 0.34282807731434384]}],\n",
       "                        {\"title\": {\"text\": \"Dentre alunos de escolas com quadra, qual percentual evade?\"}},\n",
       "                        {\"showLink\": false, \"linkText\": \"Export to plot.ly\", \"plotlyServerURL\": \"https://plot.ly\", \"responsive\": true}\n",
       "                    ).then(function(){\n",
       "                            \n",
       "var gd = document.getElementById('fb18e4d9-35db-4e4f-938c-5252abdf5ca1');\n",
       "var x = new MutationObserver(function (mutations, observer) {{\n",
       "        var display = window.getComputedStyle(gd).display;\n",
       "        if (!display || display === 'none') {{\n",
       "            console.log([gd, 'removed!']);\n",
       "            Plotly.purge(gd);\n",
       "            observer.disconnect();\n",
       "        }}\n",
       "}});\n",
       "\n",
       "// Listen for the removal of the full notebook cells\n",
       "var notebookContainer = gd.closest('#notebook-container');\n",
       "if (notebookContainer) {{\n",
       "    x.observe(notebookContainer, {childList: true});\n",
       "}}\n",
       "\n",
       "// Listen for the clearing of the current output cell\n",
       "var outputEl = gd.closest('.output');\n",
       "if (outputEl) {{\n",
       "    x.observe(outputEl, {childList: true});\n",
       "}}\n",
       "\n",
       "                        })\n",
       "                };\n",
       "                });\n",
       "            </script>\n",
       "        </div>"
      ]
     },
     "metadata": {},
     "output_type": "display_data"
    }
   ],
   "source": [
    "title = 'Dentre alunos de escolas com quadra, qual percentual evade?'\n",
    "x = 'CAT_IN_QUADRA_ESPORTES'\n",
    "\n",
    "plot_categoria(x, title, 'perc_quadra_evasao', \n",
    "               title2='Distribuição alunos em escolas com e sem quadra', save=False)"
   ]
  },
  {
   "cell_type": "code",
   "execution_count": 49,
   "metadata": {},
   "outputs": [
    {
     "data": {
      "application/vnd.plotly.v1+json": {
       "config": {
        "linkText": "Export to plot.ly",
        "plotlyServerURL": "https://plot.ly",
        "showLink": false
       },
       "data": [
        {
         "marker": {
          "color": [
           "#025951",
           "#8BD9CA",
           "#BF7F30",
           "#F2C124",
           "#8C470B",
           "#DFC27D"
          ]
         },
         "type": "bar",
         "uid": "cd74ecae-cbfe-4c8c-8c11-5564b7ab61e0",
         "x": [
          "Escola possui biblioteca",
          "Escola não possui biblioteca"
         ],
         "y": [
          0.9116923177895185,
          0.08830768221048141
         ]
        }
       ],
       "layout": {
        "title": {
         "text": "Distribuição alunos em escolas com e sem bibioteca"
        }
       }
      },
      "text/html": [
       "<div>\n",
       "        \n",
       "        \n",
       "            <div id=\"51d3da26-3336-48ac-b64a-e60216ff83c7\" class=\"plotly-graph-div\" style=\"height:525px; width:100%;\"></div>\n",
       "            <script type=\"text/javascript\">\n",
       "                require([\"plotly\"], function(Plotly) {\n",
       "                    window.PLOTLYENV=window.PLOTLYENV || {};\n",
       "                    window.PLOTLYENV.BASE_URL='https://plot.ly';\n",
       "                    \n",
       "                if (document.getElementById(\"51d3da26-3336-48ac-b64a-e60216ff83c7\")) {\n",
       "                    Plotly.newPlot(\n",
       "                        '51d3da26-3336-48ac-b64a-e60216ff83c7',\n",
       "                        [{\"marker\": {\"color\": [\"#025951\", \"#8BD9CA\", \"#BF7F30\", \"#F2C124\", \"#8C470B\", \"#DFC27D\"]}, \"type\": \"bar\", \"uid\": \"cd74ecae-cbfe-4c8c-8c11-5564b7ab61e0\", \"x\": [\"Escola possui biblioteca\", \"Escola n\\u00e3o possui biblioteca\"], \"y\": [0.9116923177895185, 0.08830768221048141]}],\n",
       "                        {\"title\": {\"text\": \"Distribui\\u00e7\\u00e3o alunos em escolas com e sem bibioteca\"}},\n",
       "                        {\"showLink\": false, \"linkText\": \"Export to plot.ly\", \"plotlyServerURL\": \"https://plot.ly\", \"responsive\": true}\n",
       "                    ).then(function(){\n",
       "                            \n",
       "var gd = document.getElementById('51d3da26-3336-48ac-b64a-e60216ff83c7');\n",
       "var x = new MutationObserver(function (mutations, observer) {{\n",
       "        var display = window.getComputedStyle(gd).display;\n",
       "        if (!display || display === 'none') {{\n",
       "            console.log([gd, 'removed!']);\n",
       "            Plotly.purge(gd);\n",
       "            observer.disconnect();\n",
       "        }}\n",
       "}});\n",
       "\n",
       "// Listen for the removal of the full notebook cells\n",
       "var notebookContainer = gd.closest('#notebook-container');\n",
       "if (notebookContainer) {{\n",
       "    x.observe(notebookContainer, {childList: true});\n",
       "}}\n",
       "\n",
       "// Listen for the clearing of the current output cell\n",
       "var outputEl = gd.closest('.output');\n",
       "if (outputEl) {{\n",
       "    x.observe(outputEl, {childList: true});\n",
       "}}\n",
       "\n",
       "                        })\n",
       "                };\n",
       "                });\n",
       "            </script>\n",
       "        </div>"
      ]
     },
     "metadata": {},
     "output_type": "display_data"
    },
    {
     "data": {
      "application/vnd.plotly.v1+json": {
       "config": {
        "linkText": "Export to plot.ly",
        "plotlyServerURL": "https://plot.ly",
        "showLink": false
       },
       "data": [
        {
         "marker": {
          "color": "#025951"
         },
         "name": "Escola possui biblioteca",
         "type": "bar",
         "uid": "c895f3a0-9936-425d-aa08-f263d6a3180b",
         "x": [
          "Não evadido",
          "Evadido"
         ],
         "y": [
          0.6599296906870156,
          0.34007030931298443
         ]
        },
        {
         "marker": {
          "color": "#8BD9CA"
         },
         "name": "Escola não possui biblioteca",
         "type": "bar",
         "uid": "c4b2fa2f-65c1-4a6f-bc9b-67cb5087f52e",
         "x": [
          "Não evadido",
          "Evadido"
         ],
         "y": [
          0.6287006069614766,
          0.3712993930385235
         ]
        },
        {
         "marker": {
          "color": "#dbdbdb"
         },
         "name": "Total",
         "type": "bar",
         "uid": "4c6ecdf6-cb74-467f-b844-d72b84f95a61",
         "x": [
          "Não evadido",
          "Evadido"
         ],
         "y": [
          0.6571719226856562,
          0.34282807731434384
         ]
        }
       ],
       "layout": {
        "title": {
         "text": "Dentre alunos de escolas com biblioteca, qual percentual evade?"
        }
       }
      },
      "text/html": [
       "<div>\n",
       "        \n",
       "        \n",
       "            <div id=\"05980f90-380d-4c3a-a3cd-d0090cbcb850\" class=\"plotly-graph-div\" style=\"height:525px; width:100%;\"></div>\n",
       "            <script type=\"text/javascript\">\n",
       "                require([\"plotly\"], function(Plotly) {\n",
       "                    window.PLOTLYENV=window.PLOTLYENV || {};\n",
       "                    window.PLOTLYENV.BASE_URL='https://plot.ly';\n",
       "                    \n",
       "                if (document.getElementById(\"05980f90-380d-4c3a-a3cd-d0090cbcb850\")) {\n",
       "                    Plotly.newPlot(\n",
       "                        '05980f90-380d-4c3a-a3cd-d0090cbcb850',\n",
       "                        [{\"marker\": {\"color\": \"#025951\"}, \"name\": \"Escola possui biblioteca\", \"type\": \"bar\", \"uid\": \"c895f3a0-9936-425d-aa08-f263d6a3180b\", \"x\": [\"N\\u00e3o evadido\", \"Evadido\"], \"y\": [0.6599296906870156, 0.34007030931298443]}, {\"marker\": {\"color\": \"#8BD9CA\"}, \"name\": \"Escola n\\u00e3o possui biblioteca\", \"type\": \"bar\", \"uid\": \"c4b2fa2f-65c1-4a6f-bc9b-67cb5087f52e\", \"x\": [\"N\\u00e3o evadido\", \"Evadido\"], \"y\": [0.6287006069614766, 0.3712993930385235]}, {\"marker\": {\"color\": \"#dbdbdb\"}, \"name\": \"Total\", \"type\": \"bar\", \"uid\": \"4c6ecdf6-cb74-467f-b844-d72b84f95a61\", \"x\": [\"N\\u00e3o evadido\", \"Evadido\"], \"y\": [0.6571719226856562, 0.34282807731434384]}],\n",
       "                        {\"title\": {\"text\": \"Dentre alunos de escolas com biblioteca, qual percentual evade?\"}},\n",
       "                        {\"showLink\": false, \"linkText\": \"Export to plot.ly\", \"plotlyServerURL\": \"https://plot.ly\", \"responsive\": true}\n",
       "                    ).then(function(){\n",
       "                            \n",
       "var gd = document.getElementById('05980f90-380d-4c3a-a3cd-d0090cbcb850');\n",
       "var x = new MutationObserver(function (mutations, observer) {{\n",
       "        var display = window.getComputedStyle(gd).display;\n",
       "        if (!display || display === 'none') {{\n",
       "            console.log([gd, 'removed!']);\n",
       "            Plotly.purge(gd);\n",
       "            observer.disconnect();\n",
       "        }}\n",
       "}});\n",
       "\n",
       "// Listen for the removal of the full notebook cells\n",
       "var notebookContainer = gd.closest('#notebook-container');\n",
       "if (notebookContainer) {{\n",
       "    x.observe(notebookContainer, {childList: true});\n",
       "}}\n",
       "\n",
       "// Listen for the clearing of the current output cell\n",
       "var outputEl = gd.closest('.output');\n",
       "if (outputEl) {{\n",
       "    x.observe(outputEl, {childList: true});\n",
       "}}\n",
       "\n",
       "                        })\n",
       "                };\n",
       "                });\n",
       "            </script>\n",
       "        </div>"
      ]
     },
     "metadata": {},
     "output_type": "display_data"
    }
   ],
   "source": [
    "title = 'Dentre alunos de escolas com biblioteca, qual percentual evade?'\n",
    "x = 'CAT_IN_BIBLIOTECA'\n",
    "\n",
    "plot_categoria(x, title, 'perc_biblioteca_evasao', \n",
    "               title2='Distribuição alunos em escolas com e sem bibioteca', save=False)"
   ]
  },
  {
   "cell_type": "code",
   "execution_count": 50,
   "metadata": {},
   "outputs": [
    {
     "data": {
      "application/vnd.plotly.v1+json": {
       "config": {
        "linkText": "Export to plot.ly",
        "plotlyServerURL": "https://plot.ly",
        "showLink": false
       },
       "data": [
        {
         "marker": {
          "color": [
           "#025951",
           "#8BD9CA",
           "#BF7F30",
           "#F2C124",
           "#8C470B",
           "#DFC27D"
          ]
         },
         "type": "bar",
         "uid": "b5b698ca-0924-44db-a230-b7ca34ef0aa3",
         "x": [
          "Escola possui banheiro fora do prédio",
          "Escola não possui banheiro fora do prédio"
         ],
         "y": [
          0.7796792789245124,
          0.22032072107548759
         ]
        }
       ],
       "layout": {
        "title": {
         "text": "Distribuição alunos em escolas com e sem banheiro fora do prédio"
        }
       }
      },
      "text/html": [
       "<div>\n",
       "        \n",
       "        \n",
       "            <div id=\"537e63ca-ee8b-4265-b215-dd48ad57f3c2\" class=\"plotly-graph-div\" style=\"height:525px; width:100%;\"></div>\n",
       "            <script type=\"text/javascript\">\n",
       "                require([\"plotly\"], function(Plotly) {\n",
       "                    window.PLOTLYENV=window.PLOTLYENV || {};\n",
       "                    window.PLOTLYENV.BASE_URL='https://plot.ly';\n",
       "                    \n",
       "                if (document.getElementById(\"537e63ca-ee8b-4265-b215-dd48ad57f3c2\")) {\n",
       "                    Plotly.newPlot(\n",
       "                        '537e63ca-ee8b-4265-b215-dd48ad57f3c2',\n",
       "                        [{\"marker\": {\"color\": [\"#025951\", \"#8BD9CA\", \"#BF7F30\", \"#F2C124\", \"#8C470B\", \"#DFC27D\"]}, \"type\": \"bar\", \"uid\": \"b5b698ca-0924-44db-a230-b7ca34ef0aa3\", \"x\": [\"Escola possui banheiro fora do pr\\u00e9dio\", \"Escola n\\u00e3o possui banheiro fora do pr\\u00e9dio\"], \"y\": [0.7796792789245124, 0.22032072107548759]}],\n",
       "                        {\"title\": {\"text\": \"Distribui\\u00e7\\u00e3o alunos em escolas com e sem banheiro fora do pr\\u00e9dio\"}},\n",
       "                        {\"showLink\": false, \"linkText\": \"Export to plot.ly\", \"plotlyServerURL\": \"https://plot.ly\", \"responsive\": true}\n",
       "                    ).then(function(){\n",
       "                            \n",
       "var gd = document.getElementById('537e63ca-ee8b-4265-b215-dd48ad57f3c2');\n",
       "var x = new MutationObserver(function (mutations, observer) {{\n",
       "        var display = window.getComputedStyle(gd).display;\n",
       "        if (!display || display === 'none') {{\n",
       "            console.log([gd, 'removed!']);\n",
       "            Plotly.purge(gd);\n",
       "            observer.disconnect();\n",
       "        }}\n",
       "}});\n",
       "\n",
       "// Listen for the removal of the full notebook cells\n",
       "var notebookContainer = gd.closest('#notebook-container');\n",
       "if (notebookContainer) {{\n",
       "    x.observe(notebookContainer, {childList: true});\n",
       "}}\n",
       "\n",
       "// Listen for the clearing of the current output cell\n",
       "var outputEl = gd.closest('.output');\n",
       "if (outputEl) {{\n",
       "    x.observe(outputEl, {childList: true});\n",
       "}}\n",
       "\n",
       "                        })\n",
       "                };\n",
       "                });\n",
       "            </script>\n",
       "        </div>"
      ]
     },
     "metadata": {},
     "output_type": "display_data"
    },
    {
     "data": {
      "application/vnd.plotly.v1+json": {
       "config": {
        "linkText": "Export to plot.ly",
        "plotlyServerURL": "https://plot.ly",
        "showLink": false
       },
       "data": [
        {
         "marker": {
          "color": "#025951"
         },
         "name": "Escola possui banheiro fora do prédio",
         "type": "bar",
         "uid": "ebc67b32-8a85-4b01-820e-6127773047c3",
         "x": [
          "Não evadido",
          "Evadido"
         ],
         "y": [
          0.6575497176528358,
          0.34245028234716424
         ]
        },
        {
         "marker": {
          "color": "#8BD9CA"
         },
         "name": "Escola não possui banheiro fora do prédio",
         "type": "bar",
         "uid": "50e24c7f-5d39-4eae-bd62-46d1693818a3",
         "x": [
          "Não evadido",
          "Evadido"
         ],
         "y": [
          0.6558349676042002,
          0.3441650323957997
         ]
        },
        {
         "marker": {
          "color": "#dbdbdb"
         },
         "name": "Total",
         "type": "bar",
         "uid": "686b5221-af29-4c49-b59f-26a9061a4704",
         "x": [
          "Não evadido",
          "Evadido"
         ],
         "y": [
          0.6571719226856562,
          0.34282807731434384
         ]
        }
       ],
       "layout": {
        "title": {
         "text": "Dentre alunos de escolas com banheiro fora do prédio, qual percentual evade?"
        }
       }
      },
      "text/html": [
       "<div>\n",
       "        \n",
       "        \n",
       "            <div id=\"a3d971df-a322-44c8-92b2-9b126a1291b9\" class=\"plotly-graph-div\" style=\"height:525px; width:100%;\"></div>\n",
       "            <script type=\"text/javascript\">\n",
       "                require([\"plotly\"], function(Plotly) {\n",
       "                    window.PLOTLYENV=window.PLOTLYENV || {};\n",
       "                    window.PLOTLYENV.BASE_URL='https://plot.ly';\n",
       "                    \n",
       "                if (document.getElementById(\"a3d971df-a322-44c8-92b2-9b126a1291b9\")) {\n",
       "                    Plotly.newPlot(\n",
       "                        'a3d971df-a322-44c8-92b2-9b126a1291b9',\n",
       "                        [{\"marker\": {\"color\": \"#025951\"}, \"name\": \"Escola possui banheiro fora do pr\\u00e9dio\", \"type\": \"bar\", \"uid\": \"ebc67b32-8a85-4b01-820e-6127773047c3\", \"x\": [\"N\\u00e3o evadido\", \"Evadido\"], \"y\": [0.6575497176528358, 0.34245028234716424]}, {\"marker\": {\"color\": \"#8BD9CA\"}, \"name\": \"Escola n\\u00e3o possui banheiro fora do pr\\u00e9dio\", \"type\": \"bar\", \"uid\": \"50e24c7f-5d39-4eae-bd62-46d1693818a3\", \"x\": [\"N\\u00e3o evadido\", \"Evadido\"], \"y\": [0.6558349676042002, 0.3441650323957997]}, {\"marker\": {\"color\": \"#dbdbdb\"}, \"name\": \"Total\", \"type\": \"bar\", \"uid\": \"686b5221-af29-4c49-b59f-26a9061a4704\", \"x\": [\"N\\u00e3o evadido\", \"Evadido\"], \"y\": [0.6571719226856562, 0.34282807731434384]}],\n",
       "                        {\"title\": {\"text\": \"Dentre alunos de escolas com banheiro fora do pr\\u00e9dio, qual percentual evade?\"}},\n",
       "                        {\"showLink\": false, \"linkText\": \"Export to plot.ly\", \"plotlyServerURL\": \"https://plot.ly\", \"responsive\": true}\n",
       "                    ).then(function(){\n",
       "                            \n",
       "var gd = document.getElementById('a3d971df-a322-44c8-92b2-9b126a1291b9');\n",
       "var x = new MutationObserver(function (mutations, observer) {{\n",
       "        var display = window.getComputedStyle(gd).display;\n",
       "        if (!display || display === 'none') {{\n",
       "            console.log([gd, 'removed!']);\n",
       "            Plotly.purge(gd);\n",
       "            observer.disconnect();\n",
       "        }}\n",
       "}});\n",
       "\n",
       "// Listen for the removal of the full notebook cells\n",
       "var notebookContainer = gd.closest('#notebook-container');\n",
       "if (notebookContainer) {{\n",
       "    x.observe(notebookContainer, {childList: true});\n",
       "}}\n",
       "\n",
       "// Listen for the clearing of the current output cell\n",
       "var outputEl = gd.closest('.output');\n",
       "if (outputEl) {{\n",
       "    x.observe(outputEl, {childList: true});\n",
       "}}\n",
       "\n",
       "                        })\n",
       "                };\n",
       "                });\n",
       "            </script>\n",
       "        </div>"
      ]
     },
     "metadata": {},
     "output_type": "display_data"
    }
   ],
   "source": [
    "title = 'Dentre alunos de escolas com banheiro fora do prédio, qual percentual evade?'\n",
    "x = 'CAT_IN_BANHEIRO_FORA_PREDIO'\n",
    "\n",
    "plot_categoria(x, title, 'perc_ban_fora_evasao', \n",
    "               title2='Distribuição alunos em escolas com e sem banheiro fora do prédio', save=False)"
   ]
  },
  {
   "cell_type": "code",
   "execution_count": 51,
   "metadata": {},
   "outputs": [
    {
     "data": {
      "application/vnd.plotly.v1+json": {
       "config": {
        "linkText": "Export to plot.ly",
        "plotlyServerURL": "https://plot.ly",
        "showLink": false
       },
       "data": [
        {
         "marker": {
          "color": [
           "#025951",
           "#8BD9CA",
           "#BF7F30",
           "#F2C124",
           "#8C470B",
           "#DFC27D"
          ]
         },
         "type": "bar",
         "uid": "ac900248-09c1-4bec-ab53-908182128c12",
         "x": [
          "Escola possui áreaa verde",
          "Escola não possui área verde"
         ],
         "y": [
          0.8354608998129491,
          0.16453910018705084
         ]
        }
       ],
       "layout": {
        "title": {
         "text": "Distribuição alunos em escolas com e sem banheiro fora do prédio"
        }
       }
      },
      "text/html": [
       "<div>\n",
       "        \n",
       "        \n",
       "            <div id=\"a49ba067-9b64-4175-8e73-f0cde9b69b2d\" class=\"plotly-graph-div\" style=\"height:525px; width:100%;\"></div>\n",
       "            <script type=\"text/javascript\">\n",
       "                require([\"plotly\"], function(Plotly) {\n",
       "                    window.PLOTLYENV=window.PLOTLYENV || {};\n",
       "                    window.PLOTLYENV.BASE_URL='https://plot.ly';\n",
       "                    \n",
       "                if (document.getElementById(\"a49ba067-9b64-4175-8e73-f0cde9b69b2d\")) {\n",
       "                    Plotly.newPlot(\n",
       "                        'a49ba067-9b64-4175-8e73-f0cde9b69b2d',\n",
       "                        [{\"marker\": {\"color\": [\"#025951\", \"#8BD9CA\", \"#BF7F30\", \"#F2C124\", \"#8C470B\", \"#DFC27D\"]}, \"type\": \"bar\", \"uid\": \"ac900248-09c1-4bec-ab53-908182128c12\", \"x\": [\"Escola possui \\u00e1reaa verde\", \"Escola n\\u00e3o possui \\u00e1rea verde\"], \"y\": [0.8354608998129491, 0.16453910018705084]}],\n",
       "                        {\"title\": {\"text\": \"Distribui\\u00e7\\u00e3o alunos em escolas com e sem banheiro fora do pr\\u00e9dio\"}},\n",
       "                        {\"showLink\": false, \"linkText\": \"Export to plot.ly\", \"plotlyServerURL\": \"https://plot.ly\", \"responsive\": true}\n",
       "                    ).then(function(){\n",
       "                            \n",
       "var gd = document.getElementById('a49ba067-9b64-4175-8e73-f0cde9b69b2d');\n",
       "var x = new MutationObserver(function (mutations, observer) {{\n",
       "        var display = window.getComputedStyle(gd).display;\n",
       "        if (!display || display === 'none') {{\n",
       "            console.log([gd, 'removed!']);\n",
       "            Plotly.purge(gd);\n",
       "            observer.disconnect();\n",
       "        }}\n",
       "}});\n",
       "\n",
       "// Listen for the removal of the full notebook cells\n",
       "var notebookContainer = gd.closest('#notebook-container');\n",
       "if (notebookContainer) {{\n",
       "    x.observe(notebookContainer, {childList: true});\n",
       "}}\n",
       "\n",
       "// Listen for the clearing of the current output cell\n",
       "var outputEl = gd.closest('.output');\n",
       "if (outputEl) {{\n",
       "    x.observe(outputEl, {childList: true});\n",
       "}}\n",
       "\n",
       "                        })\n",
       "                };\n",
       "                });\n",
       "            </script>\n",
       "        </div>"
      ]
     },
     "metadata": {},
     "output_type": "display_data"
    },
    {
     "data": {
      "application/vnd.plotly.v1+json": {
       "config": {
        "linkText": "Export to plot.ly",
        "plotlyServerURL": "https://plot.ly",
        "showLink": false
       },
       "data": [
        {
         "marker": {
          "color": "#025951"
         },
         "name": "Escola não possui área verde",
         "type": "bar",
         "uid": "e1d1c2c2-7219-448f-a9f9-28a41b461abc",
         "x": [
          "Não evadido",
          "Evadido"
         ],
         "y": [
          0.6483512830740593,
          0.3516487169259407
         ]
        },
        {
         "marker": {
          "color": "#8BD9CA"
         },
         "name": "Escola possui áreaa verde",
         "type": "bar",
         "uid": "375ffe22-d2da-4103-ae37-d0afaa5c9eda",
         "x": [
          "Não evadido",
          "Evadido"
         ],
         "y": [
          0.6589090956701625,
          0.3410909043298375
         ]
        },
        {
         "marker": {
          "color": "#dbdbdb"
         },
         "name": "Total",
         "type": "bar",
         "uid": "d52e8d28-6be8-4609-8afb-b1b0d6177330",
         "x": [
          "Não evadido",
          "Evadido"
         ],
         "y": [
          0.6571719226856562,
          0.34282807731434384
         ]
        }
       ],
       "layout": {
        "title": {
         "text": "Dentre alunos de escolas com área verde, qual percentual evade?"
        }
       }
      },
      "text/html": [
       "<div>\n",
       "        \n",
       "        \n",
       "            <div id=\"6767fb26-aea5-4484-92eb-6d6a0964a7b0\" class=\"plotly-graph-div\" style=\"height:525px; width:100%;\"></div>\n",
       "            <script type=\"text/javascript\">\n",
       "                require([\"plotly\"], function(Plotly) {\n",
       "                    window.PLOTLYENV=window.PLOTLYENV || {};\n",
       "                    window.PLOTLYENV.BASE_URL='https://plot.ly';\n",
       "                    \n",
       "                if (document.getElementById(\"6767fb26-aea5-4484-92eb-6d6a0964a7b0\")) {\n",
       "                    Plotly.newPlot(\n",
       "                        '6767fb26-aea5-4484-92eb-6d6a0964a7b0',\n",
       "                        [{\"marker\": {\"color\": \"#025951\"}, \"name\": \"Escola n\\u00e3o possui \\u00e1rea verde\", \"type\": \"bar\", \"uid\": \"e1d1c2c2-7219-448f-a9f9-28a41b461abc\", \"x\": [\"N\\u00e3o evadido\", \"Evadido\"], \"y\": [0.6483512830740593, 0.3516487169259407]}, {\"marker\": {\"color\": \"#8BD9CA\"}, \"name\": \"Escola possui \\u00e1reaa verde\", \"type\": \"bar\", \"uid\": \"375ffe22-d2da-4103-ae37-d0afaa5c9eda\", \"x\": [\"N\\u00e3o evadido\", \"Evadido\"], \"y\": [0.6589090956701625, 0.3410909043298375]}, {\"marker\": {\"color\": \"#dbdbdb\"}, \"name\": \"Total\", \"type\": \"bar\", \"uid\": \"d52e8d28-6be8-4609-8afb-b1b0d6177330\", \"x\": [\"N\\u00e3o evadido\", \"Evadido\"], \"y\": [0.6571719226856562, 0.34282807731434384]}],\n",
       "                        {\"title\": {\"text\": \"Dentre alunos de escolas com \\u00e1rea verde, qual percentual evade?\"}},\n",
       "                        {\"showLink\": false, \"linkText\": \"Export to plot.ly\", \"plotlyServerURL\": \"https://plot.ly\", \"responsive\": true}\n",
       "                    ).then(function(){\n",
       "                            \n",
       "var gd = document.getElementById('6767fb26-aea5-4484-92eb-6d6a0964a7b0');\n",
       "var x = new MutationObserver(function (mutations, observer) {{\n",
       "        var display = window.getComputedStyle(gd).display;\n",
       "        if (!display || display === 'none') {{\n",
       "            console.log([gd, 'removed!']);\n",
       "            Plotly.purge(gd);\n",
       "            observer.disconnect();\n",
       "        }}\n",
       "}});\n",
       "\n",
       "// Listen for the removal of the full notebook cells\n",
       "var notebookContainer = gd.closest('#notebook-container');\n",
       "if (notebookContainer) {{\n",
       "    x.observe(notebookContainer, {childList: true});\n",
       "}}\n",
       "\n",
       "// Listen for the clearing of the current output cell\n",
       "var outputEl = gd.closest('.output');\n",
       "if (outputEl) {{\n",
       "    x.observe(outputEl, {childList: true});\n",
       "}}\n",
       "\n",
       "                        })\n",
       "                };\n",
       "                });\n",
       "            </script>\n",
       "        </div>"
      ]
     },
     "metadata": {},
     "output_type": "display_data"
    }
   ],
   "source": [
    "title = 'Dentre alunos de escolas com área verde, qual percentual evade?'\n",
    "x = 'CAT_IN_AREA_VERDE'\n",
    "\n",
    "plot_categoria(x, title, 'perc_verde_evasao', \n",
    "               title2='Distribuição alunos em escolas com e sem banheiro fora do prédio', save=False)"
   ]
  },
  {
   "cell_type": "code",
   "execution_count": 52,
   "metadata": {},
   "outputs": [
    {
     "data": {
      "application/vnd.plotly.v1+json": {
       "config": {
        "linkText": "Export to plot.ly",
        "plotlyServerURL": "https://plot.ly",
        "showLink": false
       },
       "data": [
        {
         "marker": {
          "color": [
           "#025951",
           "#8BD9CA",
           "#BF7F30",
           "#F2C124",
           "#8C470B",
           "#DFC27D"
          ]
         },
         "type": "bar",
         "uid": "1446b3ab-d9c5-48f4-b965-c136ea77d9c3",
         "x": [
          "Escola possui menos de 15 computadores",
          "Escola possui mais de 15 computadores"
         ],
         "y": [
          0.7049081700740546,
          0.29509182992594535
         ]
        }
       ],
       "layout": {
        "title": {
         "text": "Distribuição alunos em escolas com e sem computadores"
        }
       }
      },
      "text/html": [
       "<div>\n",
       "        \n",
       "        \n",
       "            <div id=\"cf19d52d-d0c9-4611-9b1b-9ee12a4f25c6\" class=\"plotly-graph-div\" style=\"height:525px; width:100%;\"></div>\n",
       "            <script type=\"text/javascript\">\n",
       "                require([\"plotly\"], function(Plotly) {\n",
       "                    window.PLOTLYENV=window.PLOTLYENV || {};\n",
       "                    window.PLOTLYENV.BASE_URL='https://plot.ly';\n",
       "                    \n",
       "                if (document.getElementById(\"cf19d52d-d0c9-4611-9b1b-9ee12a4f25c6\")) {\n",
       "                    Plotly.newPlot(\n",
       "                        'cf19d52d-d0c9-4611-9b1b-9ee12a4f25c6',\n",
       "                        [{\"marker\": {\"color\": [\"#025951\", \"#8BD9CA\", \"#BF7F30\", \"#F2C124\", \"#8C470B\", \"#DFC27D\"]}, \"type\": \"bar\", \"uid\": \"1446b3ab-d9c5-48f4-b965-c136ea77d9c3\", \"x\": [\"Escola possui menos de 15 computadores\", \"Escola possui mais de 15 computadores\"], \"y\": [0.7049081700740546, 0.29509182992594535]}],\n",
       "                        {\"title\": {\"text\": \"Distribui\\u00e7\\u00e3o alunos em escolas com e sem computadores\"}},\n",
       "                        {\"showLink\": false, \"linkText\": \"Export to plot.ly\", \"plotlyServerURL\": \"https://plot.ly\", \"responsive\": true}\n",
       "                    ).then(function(){\n",
       "                            \n",
       "var gd = document.getElementById('cf19d52d-d0c9-4611-9b1b-9ee12a4f25c6');\n",
       "var x = new MutationObserver(function (mutations, observer) {{\n",
       "        var display = window.getComputedStyle(gd).display;\n",
       "        if (!display || display === 'none') {{\n",
       "            console.log([gd, 'removed!']);\n",
       "            Plotly.purge(gd);\n",
       "            observer.disconnect();\n",
       "        }}\n",
       "}});\n",
       "\n",
       "// Listen for the removal of the full notebook cells\n",
       "var notebookContainer = gd.closest('#notebook-container');\n",
       "if (notebookContainer) {{\n",
       "    x.observe(notebookContainer, {childList: true});\n",
       "}}\n",
       "\n",
       "// Listen for the clearing of the current output cell\n",
       "var outputEl = gd.closest('.output');\n",
       "if (outputEl) {{\n",
       "    x.observe(outputEl, {childList: true});\n",
       "}}\n",
       "\n",
       "                        })\n",
       "                };\n",
       "                });\n",
       "            </script>\n",
       "        </div>"
      ]
     },
     "metadata": {},
     "output_type": "display_data"
    },
    {
     "data": {
      "application/vnd.plotly.v1+json": {
       "config": {
        "linkText": "Export to plot.ly",
        "plotlyServerURL": "https://plot.ly",
        "showLink": false
       },
       "data": [
        {
         "marker": {
          "color": "#025951"
         },
         "name": "Escola possui mais de 15 computadores",
         "type": "bar",
         "uid": "462400ba-e780-45e8-a37c-c416e403e2bb",
         "x": [
          "Não evadido",
          "Evadido"
         ],
         "y": [
          0.6710716536308707,
          0.32892834636912927
         ]
        },
        {
         "marker": {
          "color": "#8BD9CA"
         },
         "name": "Escola possui menos de 15 computadores",
         "type": "bar",
         "uid": "e0e9ad42-41e6-4773-b814-9d769e742aea",
         "x": [
          "Não evadido",
          "Evadido"
         ],
         "y": [
          0.6513531547748362,
          0.3486468452251637
         ]
        },
        {
         "marker": {
          "color": "#dbdbdb"
         },
         "name": "Total",
         "type": "bar",
         "uid": "4792e457-2088-4446-9ca0-df21aa1e58ce",
         "x": [
          "Não evadido",
          "Evadido"
         ],
         "y": [
          0.6571719226856562,
          0.34282807731434384
         ]
        }
       ],
       "layout": {
        "title": {
         "text": "Dentre alunos de escolas com computadores disponíveis, qual percentual evade?"
        }
       }
      },
      "text/html": [
       "<div>\n",
       "        \n",
       "        \n",
       "            <div id=\"4e1d1f01-0acb-4b7c-aad3-0fd8f0e45564\" class=\"plotly-graph-div\" style=\"height:525px; width:100%;\"></div>\n",
       "            <script type=\"text/javascript\">\n",
       "                require([\"plotly\"], function(Plotly) {\n",
       "                    window.PLOTLYENV=window.PLOTLYENV || {};\n",
       "                    window.PLOTLYENV.BASE_URL='https://plot.ly';\n",
       "                    \n",
       "                if (document.getElementById(\"4e1d1f01-0acb-4b7c-aad3-0fd8f0e45564\")) {\n",
       "                    Plotly.newPlot(\n",
       "                        '4e1d1f01-0acb-4b7c-aad3-0fd8f0e45564',\n",
       "                        [{\"marker\": {\"color\": \"#025951\"}, \"name\": \"Escola possui mais de 15 computadores\", \"type\": \"bar\", \"uid\": \"462400ba-e780-45e8-a37c-c416e403e2bb\", \"x\": [\"N\\u00e3o evadido\", \"Evadido\"], \"y\": [0.6710716536308707, 0.32892834636912927]}, {\"marker\": {\"color\": \"#8BD9CA\"}, \"name\": \"Escola possui menos de 15 computadores\", \"type\": \"bar\", \"uid\": \"e0e9ad42-41e6-4773-b814-9d769e742aea\", \"x\": [\"N\\u00e3o evadido\", \"Evadido\"], \"y\": [0.6513531547748362, 0.3486468452251637]}, {\"marker\": {\"color\": \"#dbdbdb\"}, \"name\": \"Total\", \"type\": \"bar\", \"uid\": \"4792e457-2088-4446-9ca0-df21aa1e58ce\", \"x\": [\"N\\u00e3o evadido\", \"Evadido\"], \"y\": [0.6571719226856562, 0.34282807731434384]}],\n",
       "                        {\"title\": {\"text\": \"Dentre alunos de escolas com computadores dispon\\u00edveis, qual percentual evade?\"}},\n",
       "                        {\"showLink\": false, \"linkText\": \"Export to plot.ly\", \"plotlyServerURL\": \"https://plot.ly\", \"responsive\": true}\n",
       "                    ).then(function(){\n",
       "                            \n",
       "var gd = document.getElementById('4e1d1f01-0acb-4b7c-aad3-0fd8f0e45564');\n",
       "var x = new MutationObserver(function (mutations, observer) {{\n",
       "        var display = window.getComputedStyle(gd).display;\n",
       "        if (!display || display === 'none') {{\n",
       "            console.log([gd, 'removed!']);\n",
       "            Plotly.purge(gd);\n",
       "            observer.disconnect();\n",
       "        }}\n",
       "}});\n",
       "\n",
       "// Listen for the removal of the full notebook cells\n",
       "var notebookContainer = gd.closest('#notebook-container');\n",
       "if (notebookContainer) {{\n",
       "    x.observe(notebookContainer, {childList: true});\n",
       "}}\n",
       "\n",
       "// Listen for the clearing of the current output cell\n",
       "var outputEl = gd.closest('.output');\n",
       "if (outputEl) {{\n",
       "    x.observe(outputEl, {childList: true});\n",
       "}}\n",
       "\n",
       "                        })\n",
       "                };\n",
       "                });\n",
       "            </script>\n",
       "        </div>"
      ]
     },
     "metadata": {},
     "output_type": "display_data"
    }
   ],
   "source": [
    "title = 'Dentre alunos de escolas com computadores disponíveis, qual percentual evade?'\n",
    "x = 'CAT_IN_N_COMP_15'\n",
    "\n",
    "plot_categoria(x, title, 'perc_verde_evasao', \n",
    "               title2='Distribuição alunos em escolas com e sem computadores', save=False)"
   ]
  },
  {
   "cell_type": "code",
   "execution_count": null,
   "metadata": {},
   "outputs": [],
   "source": []
  }
 ],
 "metadata": {
  "kernelspec": {
   "display_name": "Python 3",
   "language": "python",
   "name": "python3"
  },
  "language_info": {
   "codemirror_mode": {
    "name": "ipython",
    "version": 3
   },
   "file_extension": ".py",
   "mimetype": "text/x-python",
   "name": "python",
   "nbconvert_exporter": "python",
   "pygments_lexer": "ipython3",
   "version": "3.7.4"
  },
  "toc": {
   "base_numbering": 1,
   "nav_menu": {},
   "number_sections": true,
   "sideBar": true,
   "skip_h1_title": true,
   "title_cell": "Table of Contents",
   "title_sidebar": "Contents",
   "toc_cell": true,
   "toc_position": {},
   "toc_section_display": true,
   "toc_window_display": false
  }
 },
 "nbformat": 4,
 "nbformat_minor": 2
}
