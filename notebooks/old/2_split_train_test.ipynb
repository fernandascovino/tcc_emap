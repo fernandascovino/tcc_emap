{
 "cells": [
  {
   "cell_type": "markdown",
   "metadata": {
    "toc": true
   },
   "source": [
    "<h1>Table of Contents<span class=\"tocSkip\"></span></h1>\n",
    "<div class=\"toc\"><ul class=\"toc-item\"><li><span><a href=\"#Importando-dataframe\" data-toc-modified-id=\"Importando-dataframe-1\"><span class=\"toc-item-num\">1&nbsp;&nbsp;</span>Importando dataframe</a></span></li><li><span><a href=\"#Refinamento-do-tratamento-do-dado\" data-toc-modified-id=\"Refinamento-do-tratamento-do-dado-2\"><span class=\"toc-item-num\">2&nbsp;&nbsp;</span>Refinamento do tratamento do dado</a></span><ul class=\"toc-item\"><li><span><a href=\"#Removendo-valores-faltantes\" data-toc-modified-id=\"Removendo-valores-faltantes-2.1\"><span class=\"toc-item-num\">2.1&nbsp;&nbsp;</span>Removendo valores faltantes</a></span></li><li><span><a href=\"#Remoção-de-outliers-por-idade\" data-toc-modified-id=\"Remoção-de-outliers-por-idade-2.2\"><span class=\"toc-item-num\">2.2&nbsp;&nbsp;</span>Remoção de <em>outliers</em> por idade</a></span></li></ul></li><li><span><a href=\"#Separando-treino-e-teste,-e-normalizando-o-dado\" data-toc-modified-id=\"Separando-treino-e-teste,-e-normalizando-o-dado-3\"><span class=\"toc-item-num\">3&nbsp;&nbsp;</span>Separando treino e teste, e normalizando o dado</a></span><ul class=\"toc-item\"><li><span><a href=\"#Separando-treino-e-teste-(70-30)\" data-toc-modified-id=\"Separando-treino-e-teste-(70-30)-3.1\"><span class=\"toc-item-num\">3.1&nbsp;&nbsp;</span>Separando treino e teste (70-30)</a></span></li><li><span><a href=\"#Normalizando-o-treino\" data-toc-modified-id=\"Normalizando-o-treino-3.2\"><span class=\"toc-item-num\">3.2&nbsp;&nbsp;</span>Normalizando o treino</a></span><ul class=\"toc-item\"><li><span><a href=\"#Aplicando-normalização-no-teste\" data-toc-modified-id=\"Aplicando-normalização-no-teste-3.2.1\"><span class=\"toc-item-num\">3.2.1&nbsp;&nbsp;</span>Aplicando normalização no teste</a></span></li></ul></li><li><span><a href=\"#Dados-balanceados\" data-toc-modified-id=\"Dados-balanceados-3.3\"><span class=\"toc-item-num\">3.3&nbsp;&nbsp;</span>Dados balanceados</a></span></li></ul></li></ul></div>"
   ]
  },
  {
   "cell_type": "markdown",
   "metadata": {},
   "source": [
    "# Tratamento dos dados para treino e teste"
   ]
  },
  {
   "cell_type": "code",
   "execution_count": 1,
   "metadata": {},
   "outputs": [
    {
     "data": {
      "text/html": [
       "        <script type=\"text/javascript\">\n",
       "        window.PlotlyConfig = {MathJaxConfig: 'local'};\n",
       "        if (window.MathJax) {MathJax.Hub.Config({SVG: {font: \"STIX-Web\"}});}\n",
       "        if (typeof require !== 'undefined') {\n",
       "        require.undef(\"plotly\");\n",
       "        requirejs.config({\n",
       "            paths: {\n",
       "                'plotly': ['https://cdn.plot.ly/plotly-latest.min']\n",
       "            }\n",
       "        });\n",
       "        require(['plotly'], function(Plotly) {\n",
       "            window._Plotly = Plotly;\n",
       "        });\n",
       "        }\n",
       "        </script>\n",
       "        "
      ]
     },
     "metadata": {},
     "output_type": "display_data"
    },
    {
     "data": {
      "text/html": [
       "        <script type=\"text/javascript\">\n",
       "        window.PlotlyConfig = {MathJaxConfig: 'local'};\n",
       "        if (window.MathJax) {MathJax.Hub.Config({SVG: {font: \"STIX-Web\"}});}\n",
       "        if (typeof require !== 'undefined') {\n",
       "        require.undef(\"plotly\");\n",
       "        requirejs.config({\n",
       "            paths: {\n",
       "                'plotly': ['https://cdn.plot.ly/plotly-latest.min']\n",
       "            }\n",
       "        });\n",
       "        require(['plotly'], function(Plotly) {\n",
       "            window._Plotly = Plotly;\n",
       "        });\n",
       "        }\n",
       "        </script>\n",
       "        "
      ]
     },
     "metadata": {},
     "output_type": "display_data"
    }
   ],
   "source": [
    "# %load first_cell.py\n",
    "%reload_ext autoreload\n",
    "%autoreload 2\n",
    "\n",
    "from paths import RAW_PATH, TREAT_PATH, OUTPUT_PATH, FIGURES_PATH, MODEL_PATH\n",
    "\n",
    "import os\n",
    "from copy import deepcopy\n",
    "import numpy as np\n",
    "import pandas as pd\n",
    "pd.options.display.max_columns = 999\n",
    "import pandas_profiling\n",
    "\n",
    "import warnings\n",
    "warnings.filterwarnings('ignore')\n",
    "\n",
    "# Plotting\n",
    "import plotly\n",
    "import plotly.graph_objs as go\n",
    "import cufflinks as cf\n",
    "plotly.offline.init_notebook_mode(connected=True)\n",
    "\n",
    "# Metrics\n",
    "from plot_metrics import plot_roc, plot_confusion\n",
    "\n",
    "cf.go_offline()\n",
    "cf.set_config_file(offline=False, world_readable=True)\n",
    "\n",
    "colorscale = ['#025951', '#8BD9CA', '#BF7F30', '#F2C124', '#8C470B', '#DFC27D']"
   ]
  },
  {
   "cell_type": "markdown",
   "metadata": {},
   "source": [
    "## Importando dataframe"
   ]
  },
  {
   "cell_type": "code",
   "execution_count": 2,
   "metadata": {},
   "outputs": [
    {
     "name": "stdout",
     "output_type": "stream",
     "text": [
      "<class 'pandas.core.frame.DataFrame'>\n",
      "Int64Index: 182838 entries, 0 to 182837\n",
      "Data columns (total 19 columns):\n",
      "ID                            182838 non-null int64\n",
      "CO_ENTIDADE                   182838 non-null int64\n",
      "TP_SEXO                       182838 non-null int64\n",
      "NU_IDADE                      182838 non-null int64\n",
      "IN_DISTORCAO                  182838 non-null int64\n",
      "IN_TRANSPORTE_PUBLICO         182838 non-null int64\n",
      "IN_LOCAL_ESCOLA               182838 non-null int64\n",
      "N_TURMA                       182838 non-null int64\n",
      "IN_EVASAO                     182838 non-null int64\n",
      "NU_ANO_CENSO                  182838 non-null int64\n",
      "CO_MUNICIPIO                  182838 non-null int64\n",
      "IN_LABORATORIO_INFORMATICA    182838 non-null float64\n",
      "IN_LABORATORIO_CIENCIAS       182838 non-null float64\n",
      "IN_QUADRA_ESPORTES            182838 non-null float64\n",
      "IN_BIBLIOTECA                 182838 non-null float64\n",
      "IN_BANHEIRO_FORA_PREDIO       182838 non-null float64\n",
      "IN_AREA_VERDE                 182838 non-null float64\n",
      "IN_N_COMP_15                  182838 non-null int64\n",
      "NIVEL                         149234 non-null float64\n",
      "dtypes: float64(7), int64(12)\n",
      "memory usage: 27.9 MB\n"
     ]
    }
   ],
   "source": [
    "df = pd.read_csv(TREAT_PATH / 'analysis' / 'df_alunos.csv', index_col=0)\n",
    "df.info()"
   ]
  },
  {
   "cell_type": "code",
   "execution_count": 3,
   "metadata": {},
   "outputs": [
    {
     "data": {
      "text/html": [
       "<div>\n",
       "<style scoped>\n",
       "    .dataframe tbody tr th:only-of-type {\n",
       "        vertical-align: middle;\n",
       "    }\n",
       "\n",
       "    .dataframe tbody tr th {\n",
       "        vertical-align: top;\n",
       "    }\n",
       "\n",
       "    .dataframe thead th {\n",
       "        text-align: right;\n",
       "    }\n",
       "</style>\n",
       "<table border=\"1\" class=\"dataframe\">\n",
       "  <thead>\n",
       "    <tr style=\"text-align: right;\">\n",
       "      <th></th>\n",
       "      <th>ID</th>\n",
       "      <th>CO_ENTIDADE</th>\n",
       "      <th>TP_SEXO</th>\n",
       "      <th>NU_IDADE</th>\n",
       "      <th>IN_DISTORCAO</th>\n",
       "      <th>IN_TRANSPORTE_PUBLICO</th>\n",
       "      <th>IN_LOCAL_ESCOLA</th>\n",
       "      <th>N_TURMA</th>\n",
       "      <th>IN_EVASAO</th>\n",
       "      <th>CO_MUNICIPIO</th>\n",
       "      <th>IN_LABORATORIO_INFORMATICA</th>\n",
       "      <th>IN_LABORATORIO_CIENCIAS</th>\n",
       "      <th>IN_QUADRA_ESPORTES</th>\n",
       "      <th>IN_BIBLIOTECA</th>\n",
       "      <th>IN_BANHEIRO_FORA_PREDIO</th>\n",
       "      <th>IN_AREA_VERDE</th>\n",
       "      <th>IN_N_COMP_15</th>\n",
       "      <th>NIVEL</th>\n",
       "    </tr>\n",
       "  </thead>\n",
       "  <tbody>\n",
       "    <tr>\n",
       "      <th>0</th>\n",
       "      <td>112132289130</td>\n",
       "      <td>33009627</td>\n",
       "      <td>2</td>\n",
       "      <td>17</td>\n",
       "      <td>0</td>\n",
       "      <td>0</td>\n",
       "      <td>2</td>\n",
       "      <td>0</td>\n",
       "      <td>0</td>\n",
       "      <td>3301009</td>\n",
       "      <td>1.0</td>\n",
       "      <td>1.0</td>\n",
       "      <td>1.0</td>\n",
       "      <td>1.0</td>\n",
       "      <td>1.0</td>\n",
       "      <td>0.0</td>\n",
       "      <td>1</td>\n",
       "      <td>3.0</td>\n",
       "    </tr>\n",
       "    <tr>\n",
       "      <th>1</th>\n",
       "      <td>113220290328</td>\n",
       "      <td>33009627</td>\n",
       "      <td>2</td>\n",
       "      <td>21</td>\n",
       "      <td>1</td>\n",
       "      <td>0</td>\n",
       "      <td>2</td>\n",
       "      <td>0</td>\n",
       "      <td>1</td>\n",
       "      <td>3301009</td>\n",
       "      <td>1.0</td>\n",
       "      <td>1.0</td>\n",
       "      <td>1.0</td>\n",
       "      <td>1.0</td>\n",
       "      <td>1.0</td>\n",
       "      <td>0.0</td>\n",
       "      <td>1</td>\n",
       "      <td>3.0</td>\n",
       "    </tr>\n",
       "  </tbody>\n",
       "</table>\n",
       "</div>"
      ],
      "text/plain": [
       "             ID  CO_ENTIDADE  TP_SEXO  NU_IDADE  IN_DISTORCAO  \\\n",
       "0  112132289130     33009627        2        17             0   \n",
       "1  113220290328     33009627        2        21             1   \n",
       "\n",
       "   IN_TRANSPORTE_PUBLICO  IN_LOCAL_ESCOLA  N_TURMA  IN_EVASAO  CO_MUNICIPIO  \\\n",
       "0                      0                2        0          0       3301009   \n",
       "1                      0                2        0          1       3301009   \n",
       "\n",
       "   IN_LABORATORIO_INFORMATICA  IN_LABORATORIO_CIENCIAS  IN_QUADRA_ESPORTES  \\\n",
       "0                         1.0                      1.0                 1.0   \n",
       "1                         1.0                      1.0                 1.0   \n",
       "\n",
       "   IN_BIBLIOTECA  IN_BANHEIRO_FORA_PREDIO  IN_AREA_VERDE  IN_N_COMP_15  NIVEL  \n",
       "0            1.0                      1.0            0.0             1    3.0  \n",
       "1            1.0                      1.0            0.0             1    3.0  "
      ]
     },
     "execution_count": 3,
     "metadata": {},
     "output_type": "execute_result"
    }
   ],
   "source": [
    "df = df.drop('NU_ANO_CENSO', axis=1)\n",
    "df.head(2)"
   ]
  },
  {
   "cell_type": "code",
   "execution_count": 4,
   "metadata": {},
   "outputs": [
    {
     "data": {
      "text/plain": [
       "0    0.657172\n",
       "1    0.342828\n",
       "Name: IN_EVASAO, dtype: float64"
      ]
     },
     "execution_count": 4,
     "metadata": {},
     "output_type": "execute_result"
    }
   ],
   "source": [
    "df['IN_EVASAO'].value_counts(normalize=True)"
   ]
  },
  {
   "cell_type": "markdown",
   "metadata": {},
   "source": [
    "## Refinamento do tratamento do dado"
   ]
  },
  {
   "cell_type": "markdown",
   "metadata": {},
   "source": [
    "### Removendo valores faltantes\n",
    "\n",
    "~18% das observações não possui nível socioeconômico. De resto, possuem todas as outras features. \n",
    "* Dentre esses, temos ~23% dos evadidos da base total. Isso não muda muito a proporção: removendo essas observações passamos de 34 para 32% de evadidos na base utilizada."
   ]
  },
  {
   "cell_type": "code",
   "execution_count": 5,
   "metadata": {},
   "outputs": [
    {
     "name": "stdout",
     "output_type": "stream",
     "text": [
      "<class 'pandas.core.frame.DataFrame'>\n",
      "Int64Index: 33604 entries, 22 to 182837\n",
      "Data columns (total 18 columns):\n",
      "ID                            33604 non-null int64\n",
      "CO_ENTIDADE                   33604 non-null int64\n",
      "TP_SEXO                       33604 non-null int64\n",
      "NU_IDADE                      33604 non-null int64\n",
      "IN_DISTORCAO                  33604 non-null int64\n",
      "IN_TRANSPORTE_PUBLICO         33604 non-null int64\n",
      "IN_LOCAL_ESCOLA               33604 non-null int64\n",
      "N_TURMA                       33604 non-null int64\n",
      "IN_EVASAO                     33604 non-null int64\n",
      "CO_MUNICIPIO                  33604 non-null int64\n",
      "IN_LABORATORIO_INFORMATICA    33604 non-null float64\n",
      "IN_LABORATORIO_CIENCIAS       33604 non-null float64\n",
      "IN_QUADRA_ESPORTES            33604 non-null float64\n",
      "IN_BIBLIOTECA                 33604 non-null float64\n",
      "IN_BANHEIRO_FORA_PREDIO       33604 non-null float64\n",
      "IN_AREA_VERDE                 33604 non-null float64\n",
      "IN_N_COMP_15                  33604 non-null int64\n",
      "NIVEL                         0 non-null float64\n",
      "dtypes: float64(7), int64(11)\n",
      "memory usage: 4.9 MB\n"
     ]
    }
   ],
   "source": [
    "df_null = df[df.isnull().any(axis=1)]\n",
    "df_null.info()"
   ]
  },
  {
   "cell_type": "markdown",
   "metadata": {},
   "source": [
    "* Percentual de observações removidas"
   ]
  },
  {
   "cell_type": "code",
   "execution_count": 6,
   "metadata": {},
   "outputs": [
    {
     "data": {
      "text/plain": [
       "18.37911156324178"
      ]
     },
     "execution_count": 6,
     "metadata": {},
     "output_type": "execute_result"
    }
   ],
   "source": [
    "100*len(df_null)/len(df)"
   ]
  },
  {
   "cell_type": "code",
   "execution_count": 7,
   "metadata": {},
   "outputs": [
    {
     "data": {
      "text/plain": [
       "0    0.570498\n",
       "1    0.429502\n",
       "Name: IN_EVASAO, dtype: float64"
      ]
     },
     "execution_count": 7,
     "metadata": {},
     "output_type": "execute_result"
    }
   ],
   "source": [
    "df_null['IN_EVASAO'].value_counts(normalize=True)"
   ]
  },
  {
   "cell_type": "markdown",
   "metadata": {},
   "source": [
    "* Percentual de evadidos e não evadidos removido"
   ]
  },
  {
   "cell_type": "code",
   "execution_count": 8,
   "metadata": {
    "scrolled": true
   },
   "outputs": [
    {
     "data": {
      "text/plain": [
       "0    15.955092\n",
       "1    23.025749\n",
       "Name: IN_EVASAO, dtype: float64"
      ]
     },
     "execution_count": 8,
     "metadata": {},
     "output_type": "execute_result"
    }
   ],
   "source": [
    "100*df_null['IN_EVASAO'].value_counts()/df['IN_EVASAO'].value_counts()"
   ]
  },
  {
   "cell_type": "code",
   "execution_count": 9,
   "metadata": {},
   "outputs": [
    {
     "name": "stdout",
     "output_type": "stream",
     "text": [
      "<class 'pandas.core.frame.DataFrame'>\n",
      "Int64Index: 149234 entries, 0 to 182836\n",
      "Data columns (total 18 columns):\n",
      "ID                            149234 non-null int64\n",
      "CO_ENTIDADE                   149234 non-null int64\n",
      "TP_SEXO                       149234 non-null int64\n",
      "NU_IDADE                      149234 non-null int64\n",
      "IN_DISTORCAO                  149234 non-null int64\n",
      "IN_TRANSPORTE_PUBLICO         149234 non-null int64\n",
      "IN_LOCAL_ESCOLA               149234 non-null int64\n",
      "N_TURMA                       149234 non-null int64\n",
      "IN_EVASAO                     149234 non-null int64\n",
      "CO_MUNICIPIO                  149234 non-null int64\n",
      "IN_LABORATORIO_INFORMATICA    149234 non-null float64\n",
      "IN_LABORATORIO_CIENCIAS       149234 non-null float64\n",
      "IN_QUADRA_ESPORTES            149234 non-null float64\n",
      "IN_BIBLIOTECA                 149234 non-null float64\n",
      "IN_BANHEIRO_FORA_PREDIO       149234 non-null float64\n",
      "IN_AREA_VERDE                 149234 non-null float64\n",
      "IN_N_COMP_15                  149234 non-null int64\n",
      "NIVEL                         149234 non-null float64\n",
      "dtypes: float64(7), int64(11)\n",
      "memory usage: 21.6 MB\n"
     ]
    }
   ],
   "source": [
    "df = df.dropna()\n",
    "df.info()"
   ]
  },
  {
   "cell_type": "code",
   "execution_count": 10,
   "metadata": {},
   "outputs": [
    {
     "data": {
      "text/plain": [
       "0    0.676689\n",
       "1    0.323311\n",
       "Name: IN_EVASAO, dtype: float64"
      ]
     },
     "execution_count": 10,
     "metadata": {},
     "output_type": "execute_result"
    }
   ],
   "source": [
    "df['IN_EVASAO'].value_counts(normalize=True)"
   ]
  },
  {
   "cell_type": "markdown",
   "metadata": {},
   "source": [
    "### Remoção de *outliers* por idade\n",
    "\n",
    "Nos primeiros testes com modelos, a idade se apresentou como o fator mais relevante (0.2 de importância no *Random Forest*). Consertamos aqui o tratamento dessa variável removendo valores muito discrepantes: > 99% dos dados i.e. acima de 21 anos de idade."
   ]
  },
  {
   "cell_type": "code",
   "execution_count": 11,
   "metadata": {},
   "outputs": [
    {
     "data": {
      "text/plain": [
       "(<matplotlib.axes._subplots.AxesSubplot at 0x10ba35b90>, count    149234.000000\n",
       " mean         16.675034\n",
       " std           1.798304\n",
       " min          12.000000\n",
       " 25%          16.000000\n",
       " 50%          16.000000\n",
       " 75%          17.000000\n",
       " max          77.000000\n",
       " Name: NU_IDADE, dtype: float64)"
      ]
     },
     "execution_count": 11,
     "metadata": {},
     "output_type": "execute_result"
    },
    {
     "data": {
      "image/png": "[encoded data removed]",
      "text/plain": [
       "<Figure size 432x288 with 1 Axes>"
      ]
     },
     "metadata": {
      "needs_background": "light"
     },
     "output_type": "display_data"
    }
   ],
   "source": [
    "df['NU_IDADE'].hist(), df['NU_IDADE'].describe()"
   ]
  },
  {
   "cell_type": "markdown",
   "metadata": {},
   "source": [
    "* Idade no quantil-99 (cauda)"
   ]
  },
  {
   "cell_type": "code",
   "execution_count": 12,
   "metadata": {},
   "outputs": [
    {
     "data": {
      "text/plain": [
       "21.0"
      ]
     },
     "execution_count": 12,
     "metadata": {},
     "output_type": "execute_result"
    }
   ],
   "source": [
    "np.quantile(df['NU_IDADE'], 0.99)"
   ]
  },
  {
   "cell_type": "markdown",
   "metadata": {},
   "source": [
    "* Filtrando a cauda das idades"
   ]
  },
  {
   "cell_type": "code",
   "execution_count": 13,
   "metadata": {},
   "outputs": [
    {
     "name": "stdout",
     "output_type": "stream",
     "text": [
      "<class 'pandas.core.frame.DataFrame'>\n",
      "Int64Index: 147944 entries, 0 to 182836\n",
      "Data columns (total 18 columns):\n",
      "ID                            147944 non-null int64\n",
      "CO_ENTIDADE                   147944 non-null int64\n",
      "TP_SEXO                       147944 non-null int64\n",
      "NU_IDADE                      147944 non-null int64\n",
      "IN_DISTORCAO                  147944 non-null int64\n",
      "IN_TRANSPORTE_PUBLICO         147944 non-null int64\n",
      "IN_LOCAL_ESCOLA               147944 non-null int64\n",
      "N_TURMA                       147944 non-null int64\n",
      "IN_EVASAO                     147944 non-null int64\n",
      "CO_MUNICIPIO                  147944 non-null int64\n",
      "IN_LABORATORIO_INFORMATICA    147944 non-null float64\n",
      "IN_LABORATORIO_CIENCIAS       147944 non-null float64\n",
      "IN_QUADRA_ESPORTES            147944 non-null float64\n",
      "IN_BIBLIOTECA                 147944 non-null float64\n",
      "IN_BANHEIRO_FORA_PREDIO       147944 non-null float64\n",
      "IN_AREA_VERDE                 147944 non-null float64\n",
      "IN_N_COMP_15                  147944 non-null int64\n",
      "NIVEL                         147944 non-null float64\n",
      "dtypes: float64(7), int64(11)\n",
      "memory usage: 21.4 MB\n"
     ]
    }
   ],
   "source": [
    "df = df[df['NU_IDADE'] <= np.quantile(df['NU_IDADE'], 0.99)]\n",
    "df.info()"
   ]
  },
  {
   "cell_type": "markdown",
   "metadata": {},
   "source": [
    "## Separando treino e teste, e normalizando o dado\n",
    "\n",
    "Utilizamos um *encoder* ordinal para a categorização, com 70% separado para treino."
   ]
  },
  {
   "cell_type": "code",
   "execution_count": 14,
   "metadata": {},
   "outputs": [
    {
     "data": {
      "text/plain": [
       "111677686633    1\n",
       "144795399807    1\n",
       "116663420410    1\n",
       "116469827038    1\n",
       "114949151540    1\n",
       "Name: ID, dtype: int64"
      ]
     },
     "execution_count": 14,
     "metadata": {},
     "output_type": "execute_result"
    }
   ],
   "source": [
    "# Unicidade do ID\n",
    "df['ID'].value_counts()[:5]"
   ]
  },
  {
   "cell_type": "code",
   "execution_count": 15,
   "metadata": {},
   "outputs": [
    {
     "data": {
      "text/html": [
       "<div>\n",
       "<style scoped>\n",
       "    .dataframe tbody tr th:only-of-type {\n",
       "        vertical-align: middle;\n",
       "    }\n",
       "\n",
       "    .dataframe tbody tr th {\n",
       "        vertical-align: top;\n",
       "    }\n",
       "\n",
       "    .dataframe thead th {\n",
       "        text-align: right;\n",
       "    }\n",
       "</style>\n",
       "<table border=\"1\" class=\"dataframe\">\n",
       "  <thead>\n",
       "    <tr style=\"text-align: right;\">\n",
       "      <th></th>\n",
       "      <th>CO_ENTIDADE</th>\n",
       "      <th>TP_SEXO</th>\n",
       "      <th>NU_IDADE</th>\n",
       "      <th>IN_DISTORCAO</th>\n",
       "      <th>IN_TRANSPORTE_PUBLICO</th>\n",
       "      <th>IN_LOCAL_ESCOLA</th>\n",
       "      <th>N_TURMA</th>\n",
       "      <th>CO_MUNICIPIO</th>\n",
       "      <th>IN_LABORATORIO_INFORMATICA</th>\n",
       "      <th>IN_LABORATORIO_CIENCIAS</th>\n",
       "      <th>IN_QUADRA_ESPORTES</th>\n",
       "      <th>IN_BIBLIOTECA</th>\n",
       "      <th>IN_BANHEIRO_FORA_PREDIO</th>\n",
       "      <th>IN_AREA_VERDE</th>\n",
       "      <th>IN_N_COMP_15</th>\n",
       "      <th>NIVEL</th>\n",
       "    </tr>\n",
       "    <tr>\n",
       "      <th>ID</th>\n",
       "      <th></th>\n",
       "      <th></th>\n",
       "      <th></th>\n",
       "      <th></th>\n",
       "      <th></th>\n",
       "      <th></th>\n",
       "      <th></th>\n",
       "      <th></th>\n",
       "      <th></th>\n",
       "      <th></th>\n",
       "      <th></th>\n",
       "      <th></th>\n",
       "      <th></th>\n",
       "      <th></th>\n",
       "      <th></th>\n",
       "      <th></th>\n",
       "    </tr>\n",
       "  </thead>\n",
       "  <tbody>\n",
       "    <tr>\n",
       "      <th>112132289130</th>\n",
       "      <td>33009627</td>\n",
       "      <td>2</td>\n",
       "      <td>17</td>\n",
       "      <td>0</td>\n",
       "      <td>0</td>\n",
       "      <td>2</td>\n",
       "      <td>0</td>\n",
       "      <td>3301009</td>\n",
       "      <td>1.0</td>\n",
       "      <td>1.0</td>\n",
       "      <td>1.0</td>\n",
       "      <td>1.0</td>\n",
       "      <td>1.0</td>\n",
       "      <td>0.0</td>\n",
       "      <td>1</td>\n",
       "      <td>3.0</td>\n",
       "    </tr>\n",
       "    <tr>\n",
       "      <th>113220290328</th>\n",
       "      <td>33009627</td>\n",
       "      <td>2</td>\n",
       "      <td>21</td>\n",
       "      <td>1</td>\n",
       "      <td>0</td>\n",
       "      <td>2</td>\n",
       "      <td>0</td>\n",
       "      <td>3301009</td>\n",
       "      <td>1.0</td>\n",
       "      <td>1.0</td>\n",
       "      <td>1.0</td>\n",
       "      <td>1.0</td>\n",
       "      <td>1.0</td>\n",
       "      <td>0.0</td>\n",
       "      <td>1</td>\n",
       "      <td>3.0</td>\n",
       "    </tr>\n",
       "  </tbody>\n",
       "</table>\n",
       "</div>"
      ],
      "text/plain": [
       "              CO_ENTIDADE  TP_SEXO  NU_IDADE  IN_DISTORCAO  \\\n",
       "ID                                                           \n",
       "112132289130     33009627        2        17             0   \n",
       "113220290328     33009627        2        21             1   \n",
       "\n",
       "              IN_TRANSPORTE_PUBLICO  IN_LOCAL_ESCOLA  N_TURMA  CO_MUNICIPIO  \\\n",
       "ID                                                                            \n",
       "112132289130                      0                2        0       3301009   \n",
       "113220290328                      0                2        0       3301009   \n",
       "\n",
       "              IN_LABORATORIO_INFORMATICA  IN_LABORATORIO_CIENCIAS  \\\n",
       "ID                                                                  \n",
       "112132289130                         1.0                      1.0   \n",
       "113220290328                         1.0                      1.0   \n",
       "\n",
       "              IN_QUADRA_ESPORTES  IN_BIBLIOTECA  IN_BANHEIRO_FORA_PREDIO  \\\n",
       "ID                                                                         \n",
       "112132289130                 1.0            1.0                      1.0   \n",
       "113220290328                 1.0            1.0                      1.0   \n",
       "\n",
       "              IN_AREA_VERDE  IN_N_COMP_15  NIVEL  \n",
       "ID                                                \n",
       "112132289130            0.0             1    3.0  \n",
       "113220290328            0.0             1    3.0  "
      ]
     },
     "execution_count": 15,
     "metadata": {},
     "output_type": "execute_result"
    }
   ],
   "source": [
    "df = df.set_index('ID', drop=True)\n",
    "\n",
    "X = df.columns\n",
    "X = X.drop('IN_EVASAO')\n",
    "df_x = df[X]\n",
    "\n",
    "df_x.head(2)"
   ]
  },
  {
   "cell_type": "code",
   "execution_count": 16,
   "metadata": {},
   "outputs": [
    {
     "data": {
      "text/plain": [
       "ID\n",
       "112132289130    0\n",
       "113220290328    1\n",
       "112752673352    0\n",
       "117459545545    0\n",
       "113868062938    1\n",
       "Name: IN_EVASAO, dtype: int64"
      ]
     },
     "execution_count": 16,
     "metadata": {},
     "output_type": "execute_result"
    }
   ],
   "source": [
    "y = df['IN_EVASAO']\n",
    "y.head()"
   ]
  },
  {
   "cell_type": "markdown",
   "metadata": {},
   "source": [
    "### Separando treino e teste (70-30)"
   ]
  },
  {
   "cell_type": "code",
   "execution_count": 20,
   "metadata": {},
   "outputs": [],
   "source": [
    "# from sklearn.model_selection import train_test_split \n",
    "# X_train, X_test, y_train, y_test = train_test_split(df_x, y, test_size=0.3, random_state=0)\n",
    "\n",
    "# # Salvando treino e teste\n",
    "# X_train.join(y_train).to_csv(TREAT_PATH / 'modelo' / 'df_treino_bruto.csv')\n",
    "# X_test.join(y_test).to_csv(TREAT_PATH / 'modelo' / 'df_teste_bruto.csv')\n",
    "\n",
    "X_train = pd.read_csv(TREAT_PATH / 'modelo' / 'df_treino_bruto.csv', index_col='ID')\n",
    "y_train = X_train['IN_EVASAO']\n",
    "X_train = X_train.drop('IN_EVASAO', axis=1)\n",
    "\n",
    "X_test = pd.read_csv(TREAT_PATH / 'modelo' / 'df_teste_bruto.csv', index_col='ID')\n",
    "y_test = X_test['IN_EVASAO']\n",
    "X_test = X_test.drop('IN_EVASAO', axis=1)"
   ]
  },
  {
   "cell_type": "code",
   "execution_count": 21,
   "metadata": {},
   "outputs": [
    {
     "data": {
      "text/html": [
       "<div>\n",
       "<style scoped>\n",
       "    .dataframe tbody tr th:only-of-type {\n",
       "        vertical-align: middle;\n",
       "    }\n",
       "\n",
       "    .dataframe tbody tr th {\n",
       "        vertical-align: top;\n",
       "    }\n",
       "\n",
       "    .dataframe thead th {\n",
       "        text-align: right;\n",
       "    }\n",
       "</style>\n",
       "<table border=\"1\" class=\"dataframe\">\n",
       "  <thead>\n",
       "    <tr style=\"text-align: right;\">\n",
       "      <th></th>\n",
       "      <th>CO_ENTIDADE</th>\n",
       "      <th>TP_SEXO</th>\n",
       "      <th>NU_IDADE</th>\n",
       "      <th>IN_DISTORCAO</th>\n",
       "      <th>IN_TRANSPORTE_PUBLICO</th>\n",
       "      <th>IN_LOCAL_ESCOLA</th>\n",
       "      <th>N_TURMA</th>\n",
       "      <th>CO_MUNICIPIO</th>\n",
       "      <th>IN_LABORATORIO_INFORMATICA</th>\n",
       "      <th>IN_LABORATORIO_CIENCIAS</th>\n",
       "      <th>IN_QUADRA_ESPORTES</th>\n",
       "      <th>IN_BIBLIOTECA</th>\n",
       "      <th>IN_BANHEIRO_FORA_PREDIO</th>\n",
       "      <th>IN_AREA_VERDE</th>\n",
       "      <th>IN_N_COMP_15</th>\n",
       "      <th>NIVEL</th>\n",
       "    </tr>\n",
       "    <tr>\n",
       "      <th>ID</th>\n",
       "      <th></th>\n",
       "      <th></th>\n",
       "      <th></th>\n",
       "      <th></th>\n",
       "      <th></th>\n",
       "      <th></th>\n",
       "      <th></th>\n",
       "      <th></th>\n",
       "      <th></th>\n",
       "      <th></th>\n",
       "      <th></th>\n",
       "      <th></th>\n",
       "      <th></th>\n",
       "      <th></th>\n",
       "      <th></th>\n",
       "      <th></th>\n",
       "    </tr>\n",
       "  </thead>\n",
       "  <tbody>\n",
       "    <tr>\n",
       "      <th>113112940902</th>\n",
       "      <td>33053383</td>\n",
       "      <td>2</td>\n",
       "      <td>18</td>\n",
       "      <td>1</td>\n",
       "      <td>1</td>\n",
       "      <td>1</td>\n",
       "      <td>1</td>\n",
       "      <td>3302502</td>\n",
       "      <td>1.0</td>\n",
       "      <td>1.0</td>\n",
       "      <td>1.0</td>\n",
       "      <td>1.0</td>\n",
       "      <td>1.0</td>\n",
       "      <td>1.0</td>\n",
       "      <td>0</td>\n",
       "      <td>3.0</td>\n",
       "    </tr>\n",
       "    <tr>\n",
       "      <th>116567624204</th>\n",
       "      <td>33049696</td>\n",
       "      <td>1</td>\n",
       "      <td>18</td>\n",
       "      <td>1</td>\n",
       "      <td>1</td>\n",
       "      <td>1</td>\n",
       "      <td>1</td>\n",
       "      <td>3301702</td>\n",
       "      <td>1.0</td>\n",
       "      <td>1.0</td>\n",
       "      <td>1.0</td>\n",
       "      <td>1.0</td>\n",
       "      <td>1.0</td>\n",
       "      <td>1.0</td>\n",
       "      <td>1</td>\n",
       "      <td>3.0</td>\n",
       "    </tr>\n",
       "    <tr>\n",
       "      <th>110334970619</th>\n",
       "      <td>33088900</td>\n",
       "      <td>2</td>\n",
       "      <td>16</td>\n",
       "      <td>0</td>\n",
       "      <td>1</td>\n",
       "      <td>1</td>\n",
       "      <td>0</td>\n",
       "      <td>3304904</td>\n",
       "      <td>0.0</td>\n",
       "      <td>1.0</td>\n",
       "      <td>1.0</td>\n",
       "      <td>1.0</td>\n",
       "      <td>1.0</td>\n",
       "      <td>1.0</td>\n",
       "      <td>0</td>\n",
       "      <td>3.0</td>\n",
       "    </tr>\n",
       "    <tr>\n",
       "      <th>114122977290</th>\n",
       "      <td>33089108</td>\n",
       "      <td>2</td>\n",
       "      <td>20</td>\n",
       "      <td>1</td>\n",
       "      <td>1</td>\n",
       "      <td>1</td>\n",
       "      <td>1</td>\n",
       "      <td>3304904</td>\n",
       "      <td>1.0</td>\n",
       "      <td>1.0</td>\n",
       "      <td>1.0</td>\n",
       "      <td>1.0</td>\n",
       "      <td>0.0</td>\n",
       "      <td>1.0</td>\n",
       "      <td>0</td>\n",
       "      <td>3.0</td>\n",
       "    </tr>\n",
       "    <tr>\n",
       "      <th>116861051771</th>\n",
       "      <td>33104344</td>\n",
       "      <td>2</td>\n",
       "      <td>16</td>\n",
       "      <td>0</td>\n",
       "      <td>1</td>\n",
       "      <td>1</td>\n",
       "      <td>1</td>\n",
       "      <td>3305109</td>\n",
       "      <td>1.0</td>\n",
       "      <td>0.0</td>\n",
       "      <td>1.0</td>\n",
       "      <td>1.0</td>\n",
       "      <td>1.0</td>\n",
       "      <td>1.0</td>\n",
       "      <td>1</td>\n",
       "      <td>3.0</td>\n",
       "    </tr>\n",
       "  </tbody>\n",
       "</table>\n",
       "</div>"
      ],
      "text/plain": [
       "              CO_ENTIDADE  TP_SEXO  NU_IDADE  IN_DISTORCAO  \\\n",
       "ID                                                           \n",
       "113112940902     33053383        2        18             1   \n",
       "116567624204     33049696        1        18             1   \n",
       "110334970619     33088900        2        16             0   \n",
       "114122977290     33089108        2        20             1   \n",
       "116861051771     33104344        2        16             0   \n",
       "\n",
       "              IN_TRANSPORTE_PUBLICO  IN_LOCAL_ESCOLA  N_TURMA  CO_MUNICIPIO  \\\n",
       "ID                                                                            \n",
       "113112940902                      1                1        1       3302502   \n",
       "116567624204                      1                1        1       3301702   \n",
       "110334970619                      1                1        0       3304904   \n",
       "114122977290                      1                1        1       3304904   \n",
       "116861051771                      1                1        1       3305109   \n",
       "\n",
       "              IN_LABORATORIO_INFORMATICA  IN_LABORATORIO_CIENCIAS  \\\n",
       "ID                                                                  \n",
       "113112940902                         1.0                      1.0   \n",
       "116567624204                         1.0                      1.0   \n",
       "110334970619                         0.0                      1.0   \n",
       "114122977290                         1.0                      1.0   \n",
       "116861051771                         1.0                      0.0   \n",
       "\n",
       "              IN_QUADRA_ESPORTES  IN_BIBLIOTECA  IN_BANHEIRO_FORA_PREDIO  \\\n",
       "ID                                                                         \n",
       "113112940902                 1.0            1.0                      1.0   \n",
       "116567624204                 1.0            1.0                      1.0   \n",
       "110334970619                 1.0            1.0                      1.0   \n",
       "114122977290                 1.0            1.0                      0.0   \n",
       "116861051771                 1.0            1.0                      1.0   \n",
       "\n",
       "              IN_AREA_VERDE  IN_N_COMP_15  NIVEL  \n",
       "ID                                                \n",
       "113112940902            1.0             0    3.0  \n",
       "116567624204            1.0             1    3.0  \n",
       "110334970619            1.0             0    3.0  \n",
       "114122977290            1.0             0    3.0  \n",
       "116861051771            1.0             1    3.0  "
      ]
     },
     "execution_count": 21,
     "metadata": {},
     "output_type": "execute_result"
    }
   ],
   "source": [
    "X_train.head()"
   ]
  },
  {
   "cell_type": "code",
   "execution_count": 40,
   "metadata": {},
   "outputs": [
    {
     "data": {
      "text/plain": [
       "954"
      ]
     },
     "execution_count": 40,
     "metadata": {},
     "output_type": "execute_result"
    }
   ],
   "source": [
    "len(set(X_train.values.flatten()))"
   ]
  },
  {
   "cell_type": "code",
   "execution_count": 22,
   "metadata": {},
   "outputs": [
    {
     "data": {
      "text/html": [
       "<div>\n",
       "<style scoped>\n",
       "    .dataframe tbody tr th:only-of-type {\n",
       "        vertical-align: middle;\n",
       "    }\n",
       "\n",
       "    .dataframe tbody tr th {\n",
       "        vertical-align: top;\n",
       "    }\n",
       "\n",
       "    .dataframe thead th {\n",
       "        text-align: right;\n",
       "    }\n",
       "</style>\n",
       "<table border=\"1\" class=\"dataframe\">\n",
       "  <thead>\n",
       "    <tr style=\"text-align: right;\">\n",
       "      <th></th>\n",
       "      <th>CO_ENTIDADE</th>\n",
       "      <th>TP_SEXO</th>\n",
       "      <th>NU_IDADE</th>\n",
       "      <th>IN_DISTORCAO</th>\n",
       "      <th>IN_TRANSPORTE_PUBLICO</th>\n",
       "      <th>IN_LOCAL_ESCOLA</th>\n",
       "      <th>N_TURMA</th>\n",
       "      <th>CO_MUNICIPIO</th>\n",
       "      <th>IN_LABORATORIO_INFORMATICA</th>\n",
       "      <th>IN_LABORATORIO_CIENCIAS</th>\n",
       "      <th>IN_QUADRA_ESPORTES</th>\n",
       "      <th>IN_BIBLIOTECA</th>\n",
       "      <th>IN_BANHEIRO_FORA_PREDIO</th>\n",
       "      <th>IN_AREA_VERDE</th>\n",
       "      <th>IN_N_COMP_15</th>\n",
       "      <th>NIVEL</th>\n",
       "    </tr>\n",
       "    <tr>\n",
       "      <th>ID</th>\n",
       "      <th></th>\n",
       "      <th></th>\n",
       "      <th></th>\n",
       "      <th></th>\n",
       "      <th></th>\n",
       "      <th></th>\n",
       "      <th></th>\n",
       "      <th></th>\n",
       "      <th></th>\n",
       "      <th></th>\n",
       "      <th></th>\n",
       "      <th></th>\n",
       "      <th></th>\n",
       "      <th></th>\n",
       "      <th></th>\n",
       "      <th></th>\n",
       "    </tr>\n",
       "  </thead>\n",
       "  <tbody>\n",
       "    <tr>\n",
       "      <th>122688991280</th>\n",
       "      <td>33048444</td>\n",
       "      <td>2</td>\n",
       "      <td>16</td>\n",
       "      <td>0</td>\n",
       "      <td>1</td>\n",
       "      <td>1</td>\n",
       "      <td>1</td>\n",
       "      <td>3301702</td>\n",
       "      <td>1.0</td>\n",
       "      <td>1.0</td>\n",
       "      <td>1.0</td>\n",
       "      <td>1.0</td>\n",
       "      <td>1.0</td>\n",
       "      <td>1.0</td>\n",
       "      <td>0</td>\n",
       "      <td>3.0</td>\n",
       "    </tr>\n",
       "    <tr>\n",
       "      <th>112004177984</th>\n",
       "      <td>33011842</td>\n",
       "      <td>1</td>\n",
       "      <td>16</td>\n",
       "      <td>0</td>\n",
       "      <td>0</td>\n",
       "      <td>2</td>\n",
       "      <td>0</td>\n",
       "      <td>3301009</td>\n",
       "      <td>1.0</td>\n",
       "      <td>1.0</td>\n",
       "      <td>1.0</td>\n",
       "      <td>1.0</td>\n",
       "      <td>0.0</td>\n",
       "      <td>1.0</td>\n",
       "      <td>0</td>\n",
       "      <td>3.0</td>\n",
       "    </tr>\n",
       "    <tr>\n",
       "      <th>111551586796</th>\n",
       "      <td>33162174</td>\n",
       "      <td>1</td>\n",
       "      <td>16</td>\n",
       "      <td>0</td>\n",
       "      <td>0</td>\n",
       "      <td>2</td>\n",
       "      <td>0</td>\n",
       "      <td>3305505</td>\n",
       "      <td>1.0</td>\n",
       "      <td>1.0</td>\n",
       "      <td>1.0</td>\n",
       "      <td>1.0</td>\n",
       "      <td>0.0</td>\n",
       "      <td>1.0</td>\n",
       "      <td>1</td>\n",
       "      <td>3.0</td>\n",
       "    </tr>\n",
       "    <tr>\n",
       "      <th>113447628919</th>\n",
       "      <td>33060193</td>\n",
       "      <td>1</td>\n",
       "      <td>16</td>\n",
       "      <td>0</td>\n",
       "      <td>1</td>\n",
       "      <td>1</td>\n",
       "      <td>0</td>\n",
       "      <td>3303500</td>\n",
       "      <td>1.0</td>\n",
       "      <td>1.0</td>\n",
       "      <td>1.0</td>\n",
       "      <td>1.0</td>\n",
       "      <td>1.0</td>\n",
       "      <td>1.0</td>\n",
       "      <td>0</td>\n",
       "      <td>3.0</td>\n",
       "    </tr>\n",
       "    <tr>\n",
       "      <th>118341995300</th>\n",
       "      <td>33104182</td>\n",
       "      <td>2</td>\n",
       "      <td>16</td>\n",
       "      <td>0</td>\n",
       "      <td>1</td>\n",
       "      <td>1</td>\n",
       "      <td>0</td>\n",
       "      <td>3304904</td>\n",
       "      <td>1.0</td>\n",
       "      <td>1.0</td>\n",
       "      <td>1.0</td>\n",
       "      <td>1.0</td>\n",
       "      <td>1.0</td>\n",
       "      <td>1.0</td>\n",
       "      <td>1</td>\n",
       "      <td>3.0</td>\n",
       "    </tr>\n",
       "  </tbody>\n",
       "</table>\n",
       "</div>"
      ],
      "text/plain": [
       "              CO_ENTIDADE  TP_SEXO  NU_IDADE  IN_DISTORCAO  \\\n",
       "ID                                                           \n",
       "122688991280     33048444        2        16             0   \n",
       "112004177984     33011842        1        16             0   \n",
       "111551586796     33162174        1        16             0   \n",
       "113447628919     33060193        1        16             0   \n",
       "118341995300     33104182        2        16             0   \n",
       "\n",
       "              IN_TRANSPORTE_PUBLICO  IN_LOCAL_ESCOLA  N_TURMA  CO_MUNICIPIO  \\\n",
       "ID                                                                            \n",
       "122688991280                      1                1        1       3301702   \n",
       "112004177984                      0                2        0       3301009   \n",
       "111551586796                      0                2        0       3305505   \n",
       "113447628919                      1                1        0       3303500   \n",
       "118341995300                      1                1        0       3304904   \n",
       "\n",
       "              IN_LABORATORIO_INFORMATICA  IN_LABORATORIO_CIENCIAS  \\\n",
       "ID                                                                  \n",
       "122688991280                         1.0                      1.0   \n",
       "112004177984                         1.0                      1.0   \n",
       "111551586796                         1.0                      1.0   \n",
       "113447628919                         1.0                      1.0   \n",
       "118341995300                         1.0                      1.0   \n",
       "\n",
       "              IN_QUADRA_ESPORTES  IN_BIBLIOTECA  IN_BANHEIRO_FORA_PREDIO  \\\n",
       "ID                                                                         \n",
       "122688991280                 1.0            1.0                      1.0   \n",
       "112004177984                 1.0            1.0                      0.0   \n",
       "111551586796                 1.0            1.0                      0.0   \n",
       "113447628919                 1.0            1.0                      1.0   \n",
       "118341995300                 1.0            1.0                      1.0   \n",
       "\n",
       "              IN_AREA_VERDE  IN_N_COMP_15  NIVEL  \n",
       "ID                                                \n",
       "122688991280            1.0             0    3.0  \n",
       "112004177984            1.0             0    3.0  \n",
       "111551586796            1.0             1    3.0  \n",
       "113447628919            1.0             0    3.0  \n",
       "118341995300            1.0             1    3.0  "
      ]
     },
     "execution_count": 22,
     "metadata": {},
     "output_type": "execute_result"
    }
   ],
   "source": [
    "X_test.head()"
   ]
  },
  {
   "cell_type": "markdown",
   "metadata": {},
   "source": [
    "### Normalizando o treino"
   ]
  },
  {
   "cell_type": "code",
   "execution_count": 24,
   "metadata": {},
   "outputs": [],
   "source": [
    "# from sklearn.preprocessing import OrdinalEncoder\n",
    "\n",
    "# enc = OrdinalEncoder()\n",
    "# X_norm = enc.fit_transform(X_train)\n",
    "\n",
    "# # Salvando encoder\n",
    "# import pickle\n",
    "# filename = 'ordinal_encoder.sav'\n",
    "# pickle.dump(enc, open(MODEL_PATH / filename, 'wb'))\n",
    "\n",
    "import pickle\n",
    "filename = 'ordinal_encoder.sav'\n",
    "enc = pickle.load(open(MODEL_PATH / filename,\"rb\"))"
   ]
  },
  {
   "cell_type": "code",
   "execution_count": 46,
   "metadata": {},
   "outputs": [
    {
     "data": {
      "text/plain": [
       "979"
      ]
     },
     "execution_count": 46,
     "metadata": {},
     "output_type": "execute_result"
    }
   ],
   "source": [
    "len([item for sublist in enc.categories_ for item in sublist])"
   ]
  },
  {
   "cell_type": "code",
   "execution_count": 26,
   "metadata": {},
   "outputs": [
    {
     "data": {
      "text/html": [
       "<div>\n",
       "<style scoped>\n",
       "    .dataframe tbody tr th:only-of-type {\n",
       "        vertical-align: middle;\n",
       "    }\n",
       "\n",
       "    .dataframe tbody tr th {\n",
       "        vertical-align: top;\n",
       "    }\n",
       "\n",
       "    .dataframe thead th {\n",
       "        text-align: right;\n",
       "    }\n",
       "</style>\n",
       "<table border=\"1\" class=\"dataframe\">\n",
       "  <thead>\n",
       "    <tr style=\"text-align: right;\">\n",
       "      <th></th>\n",
       "      <th>CO_ENTIDADE</th>\n",
       "      <th>TP_SEXO</th>\n",
       "      <th>NU_IDADE</th>\n",
       "      <th>IN_DISTORCAO</th>\n",
       "      <th>IN_TRANSPORTE_PUBLICO</th>\n",
       "      <th>IN_LOCAL_ESCOLA</th>\n",
       "      <th>N_TURMA</th>\n",
       "      <th>CO_MUNICIPIO</th>\n",
       "      <th>IN_LABORATORIO_INFORMATICA</th>\n",
       "      <th>IN_LABORATORIO_CIENCIAS</th>\n",
       "      <th>IN_QUADRA_ESPORTES</th>\n",
       "      <th>IN_BIBLIOTECA</th>\n",
       "      <th>IN_BANHEIRO_FORA_PREDIO</th>\n",
       "      <th>IN_AREA_VERDE</th>\n",
       "      <th>IN_N_COMP_15</th>\n",
       "      <th>NIVEL</th>\n",
       "    </tr>\n",
       "    <tr>\n",
       "      <th>ID</th>\n",
       "      <th></th>\n",
       "      <th></th>\n",
       "      <th></th>\n",
       "      <th></th>\n",
       "      <th></th>\n",
       "      <th></th>\n",
       "      <th></th>\n",
       "      <th></th>\n",
       "      <th></th>\n",
       "      <th></th>\n",
       "      <th></th>\n",
       "      <th></th>\n",
       "      <th></th>\n",
       "      <th></th>\n",
       "      <th></th>\n",
       "      <th></th>\n",
       "    </tr>\n",
       "  </thead>\n",
       "  <tbody>\n",
       "    <tr>\n",
       "      <th>113112940902</th>\n",
       "      <td>463.0</td>\n",
       "      <td>1.0</td>\n",
       "      <td>6.0</td>\n",
       "      <td>1.0</td>\n",
       "      <td>1.0</td>\n",
       "      <td>1.0</td>\n",
       "      <td>1.0</td>\n",
       "      <td>36.0</td>\n",
       "      <td>1.0</td>\n",
       "      <td>1.0</td>\n",
       "      <td>1.0</td>\n",
       "      <td>1.0</td>\n",
       "      <td>1.0</td>\n",
       "      <td>1.0</td>\n",
       "      <td>0.0</td>\n",
       "      <td>2.0</td>\n",
       "    </tr>\n",
       "    <tr>\n",
       "      <th>116567624204</th>\n",
       "      <td>409.0</td>\n",
       "      <td>0.0</td>\n",
       "      <td>6.0</td>\n",
       "      <td>1.0</td>\n",
       "      <td>1.0</td>\n",
       "      <td>1.0</td>\n",
       "      <td>1.0</td>\n",
       "      <td>22.0</td>\n",
       "      <td>1.0</td>\n",
       "      <td>1.0</td>\n",
       "      <td>1.0</td>\n",
       "      <td>1.0</td>\n",
       "      <td>1.0</td>\n",
       "      <td>1.0</td>\n",
       "      <td>1.0</td>\n",
       "      <td>2.0</td>\n",
       "    </tr>\n",
       "  </tbody>\n",
       "</table>\n",
       "</div>"
      ],
      "text/plain": [
       "              CO_ENTIDADE  TP_SEXO  NU_IDADE  IN_DISTORCAO  \\\n",
       "ID                                                           \n",
       "113112940902        463.0      1.0       6.0           1.0   \n",
       "116567624204        409.0      0.0       6.0           1.0   \n",
       "\n",
       "              IN_TRANSPORTE_PUBLICO  IN_LOCAL_ESCOLA  N_TURMA  CO_MUNICIPIO  \\\n",
       "ID                                                                            \n",
       "113112940902                    1.0              1.0      1.0          36.0   \n",
       "116567624204                    1.0              1.0      1.0          22.0   \n",
       "\n",
       "              IN_LABORATORIO_INFORMATICA  IN_LABORATORIO_CIENCIAS  \\\n",
       "ID                                                                  \n",
       "113112940902                         1.0                      1.0   \n",
       "116567624204                         1.0                      1.0   \n",
       "\n",
       "              IN_QUADRA_ESPORTES  IN_BIBLIOTECA  IN_BANHEIRO_FORA_PREDIO  \\\n",
       "ID                                                                         \n",
       "113112940902                 1.0            1.0                      1.0   \n",
       "116567624204                 1.0            1.0                      1.0   \n",
       "\n",
       "              IN_AREA_VERDE  IN_N_COMP_15  NIVEL  \n",
       "ID                                                \n",
       "113112940902            1.0           0.0    2.0  \n",
       "116567624204            1.0           1.0    2.0  "
      ]
     },
     "execution_count": 26,
     "metadata": {},
     "output_type": "execute_result"
    }
   ],
   "source": [
    "X_norm = pd.DataFrame(X_norm, columns=X_train.columns, index=X_train.index)\n",
    "X_norm.head(2)"
   ]
  },
  {
   "cell_type": "code",
   "execution_count": 27,
   "metadata": {},
   "outputs": [
    {
     "name": "stdout",
     "output_type": "stream",
     "text": [
      "<class 'pandas.core.frame.DataFrame'>\n",
      "Int64Index: 103560 entries, 113112940902 to 110698097563\n",
      "Data columns (total 16 columns):\n",
      "CO_ENTIDADE                   103560 non-null float64\n",
      "TP_SEXO                       103560 non-null float64\n",
      "NU_IDADE                      103560 non-null float64\n",
      "IN_DISTORCAO                  103560 non-null float64\n",
      "IN_TRANSPORTE_PUBLICO         103560 non-null float64\n",
      "IN_LOCAL_ESCOLA               103560 non-null float64\n",
      "N_TURMA                       103560 non-null float64\n",
      "CO_MUNICIPIO                  103560 non-null float64\n",
      "IN_LABORATORIO_INFORMATICA    103560 non-null float64\n",
      "IN_LABORATORIO_CIENCIAS       103560 non-null float64\n",
      "IN_QUADRA_ESPORTES            103560 non-null float64\n",
      "IN_BIBLIOTECA                 103560 non-null float64\n",
      "IN_BANHEIRO_FORA_PREDIO       103560 non-null float64\n",
      "IN_AREA_VERDE                 103560 non-null float64\n",
      "IN_N_COMP_15                  103560 non-null float64\n",
      "NIVEL                         103560 non-null float64\n",
      "dtypes: float64(16)\n",
      "memory usage: 13.4 MB\n"
     ]
    }
   ],
   "source": [
    "X_norm.info()"
   ]
  },
  {
   "cell_type": "markdown",
   "metadata": {},
   "source": [
    "#### Aplicando normalização no teste"
   ]
  },
  {
   "cell_type": "code",
   "execution_count": 28,
   "metadata": {},
   "outputs": [],
   "source": [
    "X_test_norm = enc.transform(X_test)"
   ]
  },
  {
   "cell_type": "code",
   "execution_count": 29,
   "metadata": {},
   "outputs": [
    {
     "data": {
      "text/html": [
       "<div>\n",
       "<style scoped>\n",
       "    .dataframe tbody tr th:only-of-type {\n",
       "        vertical-align: middle;\n",
       "    }\n",
       "\n",
       "    .dataframe tbody tr th {\n",
       "        vertical-align: top;\n",
       "    }\n",
       "\n",
       "    .dataframe thead th {\n",
       "        text-align: right;\n",
       "    }\n",
       "</style>\n",
       "<table border=\"1\" class=\"dataframe\">\n",
       "  <thead>\n",
       "    <tr style=\"text-align: right;\">\n",
       "      <th></th>\n",
       "      <th>CO_ENTIDADE</th>\n",
       "      <th>TP_SEXO</th>\n",
       "      <th>NU_IDADE</th>\n",
       "      <th>IN_DISTORCAO</th>\n",
       "      <th>IN_TRANSPORTE_PUBLICO</th>\n",
       "      <th>IN_LOCAL_ESCOLA</th>\n",
       "      <th>N_TURMA</th>\n",
       "      <th>CO_MUNICIPIO</th>\n",
       "      <th>IN_LABORATORIO_INFORMATICA</th>\n",
       "      <th>IN_LABORATORIO_CIENCIAS</th>\n",
       "      <th>IN_QUADRA_ESPORTES</th>\n",
       "      <th>IN_BIBLIOTECA</th>\n",
       "      <th>IN_BANHEIRO_FORA_PREDIO</th>\n",
       "      <th>IN_AREA_VERDE</th>\n",
       "      <th>IN_N_COMP_15</th>\n",
       "      <th>NIVEL</th>\n",
       "    </tr>\n",
       "    <tr>\n",
       "      <th>ID</th>\n",
       "      <th></th>\n",
       "      <th></th>\n",
       "      <th></th>\n",
       "      <th></th>\n",
       "      <th></th>\n",
       "      <th></th>\n",
       "      <th></th>\n",
       "      <th></th>\n",
       "      <th></th>\n",
       "      <th></th>\n",
       "      <th></th>\n",
       "      <th></th>\n",
       "      <th></th>\n",
       "      <th></th>\n",
       "      <th></th>\n",
       "      <th></th>\n",
       "    </tr>\n",
       "  </thead>\n",
       "  <tbody>\n",
       "    <tr>\n",
       "      <th>122688991280</th>\n",
       "      <td>388.0</td>\n",
       "      <td>1.0</td>\n",
       "      <td>4.0</td>\n",
       "      <td>0.0</td>\n",
       "      <td>1.0</td>\n",
       "      <td>1.0</td>\n",
       "      <td>1.0</td>\n",
       "      <td>22.0</td>\n",
       "      <td>1.0</td>\n",
       "      <td>1.0</td>\n",
       "      <td>1.0</td>\n",
       "      <td>1.0</td>\n",
       "      <td>1.0</td>\n",
       "      <td>1.0</td>\n",
       "      <td>0.0</td>\n",
       "      <td>2.0</td>\n",
       "    </tr>\n",
       "    <tr>\n",
       "      <th>112004177984</th>\n",
       "      <td>79.0</td>\n",
       "      <td>0.0</td>\n",
       "      <td>4.0</td>\n",
       "      <td>0.0</td>\n",
       "      <td>0.0</td>\n",
       "      <td>2.0</td>\n",
       "      <td>0.0</td>\n",
       "      <td>14.0</td>\n",
       "      <td>1.0</td>\n",
       "      <td>1.0</td>\n",
       "      <td>1.0</td>\n",
       "      <td>1.0</td>\n",
       "      <td>0.0</td>\n",
       "      <td>1.0</td>\n",
       "      <td>0.0</td>\n",
       "      <td>2.0</td>\n",
       "    </tr>\n",
       "  </tbody>\n",
       "</table>\n",
       "</div>"
      ],
      "text/plain": [
       "              CO_ENTIDADE  TP_SEXO  NU_IDADE  IN_DISTORCAO  \\\n",
       "ID                                                           \n",
       "122688991280        388.0      1.0       4.0           0.0   \n",
       "112004177984         79.0      0.0       4.0           0.0   \n",
       "\n",
       "              IN_TRANSPORTE_PUBLICO  IN_LOCAL_ESCOLA  N_TURMA  CO_MUNICIPIO  \\\n",
       "ID                                                                            \n",
       "122688991280                    1.0              1.0      1.0          22.0   \n",
       "112004177984                    0.0              2.0      0.0          14.0   \n",
       "\n",
       "              IN_LABORATORIO_INFORMATICA  IN_LABORATORIO_CIENCIAS  \\\n",
       "ID                                                                  \n",
       "122688991280                         1.0                      1.0   \n",
       "112004177984                         1.0                      1.0   \n",
       "\n",
       "              IN_QUADRA_ESPORTES  IN_BIBLIOTECA  IN_BANHEIRO_FORA_PREDIO  \\\n",
       "ID                                                                         \n",
       "122688991280                 1.0            1.0                      1.0   \n",
       "112004177984                 1.0            1.0                      0.0   \n",
       "\n",
       "              IN_AREA_VERDE  IN_N_COMP_15  NIVEL  \n",
       "ID                                                \n",
       "122688991280            1.0           0.0    2.0  \n",
       "112004177984            1.0           0.0    2.0  "
      ]
     },
     "execution_count": 29,
     "metadata": {},
     "output_type": "execute_result"
    }
   ],
   "source": [
    "X_test_norm = pd.DataFrame(X_test_norm, columns = X_test.columns, index=X_test.index)\n",
    "X_test_norm.head(2)"
   ]
  },
  {
   "cell_type": "code",
   "execution_count": 47,
   "metadata": {},
   "outputs": [
    {
     "name": "stdout",
     "output_type": "stream",
     "text": [
      "<class 'pandas.core.frame.DataFrame'>\n",
      "Int64Index: 44384 entries, 122688991280 to 110552183600\n",
      "Data columns (total 16 columns):\n",
      "CO_ENTIDADE                   44384 non-null float64\n",
      "TP_SEXO                       44384 non-null float64\n",
      "NU_IDADE                      44384 non-null float64\n",
      "IN_DISTORCAO                  44384 non-null float64\n",
      "IN_TRANSPORTE_PUBLICO         44384 non-null float64\n",
      "IN_LOCAL_ESCOLA               44384 non-null float64\n",
      "N_TURMA                       44384 non-null float64\n",
      "CO_MUNICIPIO                  44384 non-null float64\n",
      "IN_LABORATORIO_INFORMATICA    44384 non-null float64\n",
      "IN_LABORATORIO_CIENCIAS       44384 non-null float64\n",
      "IN_QUADRA_ESPORTES            44384 non-null float64\n",
      "IN_BIBLIOTECA                 44384 non-null float64\n",
      "IN_BANHEIRO_FORA_PREDIO       44384 non-null float64\n",
      "IN_AREA_VERDE                 44384 non-null float64\n",
      "IN_N_COMP_15                  44384 non-null float64\n",
      "NIVEL                         44384 non-null float64\n",
      "dtypes: float64(16)\n",
      "memory usage: 5.8 MB\n"
     ]
    }
   ],
   "source": [
    "X_test_norm.info()"
   ]
  },
  {
   "cell_type": "code",
   "execution_count": 60,
   "metadata": {},
   "outputs": [],
   "source": [
    "# X_test_norm.join(y_test).to_csv(TREAT_PATH / 'modelo' / 'df_teste.csv')\n",
    "X_test_norm = pd.read_csv(TREAT_PATH / 'modelo' / 'df_teste.csv', index_col='ID')"
   ]
  },
  {
   "cell_type": "markdown",
   "metadata": {},
   "source": [
    "### Dados balanceados\n",
    "\n",
    "Problema dos dados desbalanceados: tendência para predição da classe dominante é maior, pois aumenta a acurácia do modelo - mas não necessariamente o *recall*, que é o nosso foco.\n",
    "\n",
    "\n",
    "[Rebalanceamento](https://towardsdatascience.com/having-an-imbalanced-dataset-here-is-how-you-can-solve-it-1640568947eb):\n",
    "\n",
    "- Undersampling: remoção aleatória de observações da classe dominante\n",
    "\n",
    "- Oversampling: geração de observações artificiais da classe minoritária\n",
    " - SMOTE (Synthetic Minority Over-sampling Technique): k nearest neighbours\n",
    " \n",
    "Como temos muito dado, vamos escolher uma amostra aleatória da classe dominante para usar no treinamento do modelo."
   ]
  },
  {
   "cell_type": "code",
   "execution_count": 50,
   "metadata": {},
   "outputs": [],
   "source": [
    "from sklearn.utils import resample\n",
    "\n",
    "df_maj = X_norm[X_norm.index.isin(y_train[y_train == 0].index)]\n",
    "df_min = X_norm[X_norm.index.isin(y_train[y_train == 1].index)]"
   ]
  },
  {
   "cell_type": "code",
   "execution_count": 51,
   "metadata": {},
   "outputs": [
    {
     "name": "stdout",
     "output_type": "stream",
     "text": [
      "70402 33158\n"
     ]
    }
   ],
   "source": [
    "print(len(df_maj), len(df_min))"
   ]
  },
  {
   "cell_type": "code",
   "execution_count": 56,
   "metadata": {},
   "outputs": [],
   "source": [
    "# # Selecionando uma amostra da classe majoritária\n",
    "# df_maj = df_maj.sample(n=len(df_min),random_state=0)\n",
    "\n",
    "# X_train_bal = df_min.append(df_maj)\n",
    "# y_train_bal = y_train[y_train.index.isin(X_train_bal.index)]\n",
    "\n",
    "# # Salvando treino balanceado\n",
    "# X_train_bal.join(y_train_bal).to_csv(TREAT_PATH / 'modelo' / 'df_treino_bal.csv')\n",
    "\n",
    "X_train_bal = pd.read_csv(TREAT_PATH / 'modelo' / 'df_treino_bal.csv', index_col='ID')\n",
    "y_train_bal = X_train_bal['IN_EVASAO']\n",
    "X_train_bal = X_train_bal.drop('IN_EVASAO', axis=1)"
   ]
  },
  {
   "cell_type": "code",
   "execution_count": 57,
   "metadata": {},
   "outputs": [
    {
     "data": {
      "text/html": [
       "<div>\n",
       "<style scoped>\n",
       "    .dataframe tbody tr th:only-of-type {\n",
       "        vertical-align: middle;\n",
       "    }\n",
       "\n",
       "    .dataframe tbody tr th {\n",
       "        vertical-align: top;\n",
       "    }\n",
       "\n",
       "    .dataframe thead th {\n",
       "        text-align: right;\n",
       "    }\n",
       "</style>\n",
       "<table border=\"1\" class=\"dataframe\">\n",
       "  <thead>\n",
       "    <tr style=\"text-align: right;\">\n",
       "      <th></th>\n",
       "      <th>CO_ENTIDADE</th>\n",
       "      <th>TP_SEXO</th>\n",
       "      <th>NU_IDADE</th>\n",
       "      <th>IN_DISTORCAO</th>\n",
       "      <th>IN_TRANSPORTE_PUBLICO</th>\n",
       "      <th>IN_LOCAL_ESCOLA</th>\n",
       "      <th>N_TURMA</th>\n",
       "      <th>CO_MUNICIPIO</th>\n",
       "      <th>IN_LABORATORIO_INFORMATICA</th>\n",
       "      <th>IN_LABORATORIO_CIENCIAS</th>\n",
       "      <th>IN_QUADRA_ESPORTES</th>\n",
       "      <th>IN_BIBLIOTECA</th>\n",
       "      <th>IN_BANHEIRO_FORA_PREDIO</th>\n",
       "      <th>IN_AREA_VERDE</th>\n",
       "      <th>IN_N_COMP_15</th>\n",
       "      <th>NIVEL</th>\n",
       "    </tr>\n",
       "    <tr>\n",
       "      <th>ID</th>\n",
       "      <th></th>\n",
       "      <th></th>\n",
       "      <th></th>\n",
       "      <th></th>\n",
       "      <th></th>\n",
       "      <th></th>\n",
       "      <th></th>\n",
       "      <th></th>\n",
       "      <th></th>\n",
       "      <th></th>\n",
       "      <th></th>\n",
       "      <th></th>\n",
       "      <th></th>\n",
       "      <th></th>\n",
       "      <th></th>\n",
       "      <th></th>\n",
       "    </tr>\n",
       "  </thead>\n",
       "  <tbody>\n",
       "    <tr>\n",
       "      <th>113112940902</th>\n",
       "      <td>463.0</td>\n",
       "      <td>1.0</td>\n",
       "      <td>6.0</td>\n",
       "      <td>1.0</td>\n",
       "      <td>1.0</td>\n",
       "      <td>1.0</td>\n",
       "      <td>1.0</td>\n",
       "      <td>36.0</td>\n",
       "      <td>1.0</td>\n",
       "      <td>1.0</td>\n",
       "      <td>1.0</td>\n",
       "      <td>1.0</td>\n",
       "      <td>1.0</td>\n",
       "      <td>1.0</td>\n",
       "      <td>0.0</td>\n",
       "      <td>2.0</td>\n",
       "    </tr>\n",
       "    <tr>\n",
       "      <th>114122977290</th>\n",
       "      <td>644.0</td>\n",
       "      <td>1.0</td>\n",
       "      <td>8.0</td>\n",
       "      <td>1.0</td>\n",
       "      <td>1.0</td>\n",
       "      <td>1.0</td>\n",
       "      <td>1.0</td>\n",
       "      <td>69.0</td>\n",
       "      <td>1.0</td>\n",
       "      <td>1.0</td>\n",
       "      <td>1.0</td>\n",
       "      <td>1.0</td>\n",
       "      <td>0.0</td>\n",
       "      <td>1.0</td>\n",
       "      <td>0.0</td>\n",
       "      <td>2.0</td>\n",
       "    </tr>\n",
       "  </tbody>\n",
       "</table>\n",
       "</div>"
      ],
      "text/plain": [
       "              CO_ENTIDADE  TP_SEXO  NU_IDADE  IN_DISTORCAO  \\\n",
       "ID                                                           \n",
       "113112940902        463.0      1.0       6.0           1.0   \n",
       "114122977290        644.0      1.0       8.0           1.0   \n",
       "\n",
       "              IN_TRANSPORTE_PUBLICO  IN_LOCAL_ESCOLA  N_TURMA  CO_MUNICIPIO  \\\n",
       "ID                                                                            \n",
       "113112940902                    1.0              1.0      1.0          36.0   \n",
       "114122977290                    1.0              1.0      1.0          69.0   \n",
       "\n",
       "              IN_LABORATORIO_INFORMATICA  IN_LABORATORIO_CIENCIAS  \\\n",
       "ID                                                                  \n",
       "113112940902                         1.0                      1.0   \n",
       "114122977290                         1.0                      1.0   \n",
       "\n",
       "              IN_QUADRA_ESPORTES  IN_BIBLIOTECA  IN_BANHEIRO_FORA_PREDIO  \\\n",
       "ID                                                                         \n",
       "113112940902                 1.0            1.0                      1.0   \n",
       "114122977290                 1.0            1.0                      0.0   \n",
       "\n",
       "              IN_AREA_VERDE  IN_N_COMP_15  NIVEL  \n",
       "ID                                                \n",
       "113112940902            1.0           0.0    2.0  \n",
       "114122977290            1.0           0.0    2.0  "
      ]
     },
     "execution_count": 57,
     "metadata": {},
     "output_type": "execute_result"
    }
   ],
   "source": [
    "X_train_bal.head(2)"
   ]
  },
  {
   "cell_type": "code",
   "execution_count": 58,
   "metadata": {},
   "outputs": [
    {
     "data": {
      "text/plain": [
       "ID\n",
       "113112940902    1\n",
       "114122977290    1\n",
       "Name: IN_EVASAO, dtype: int64"
      ]
     },
     "execution_count": 58,
     "metadata": {},
     "output_type": "execute_result"
    }
   ],
   "source": [
    "y_train_bal.head(2)"
   ]
  },
  {
   "cell_type": "code",
   "execution_count": 59,
   "metadata": {},
   "outputs": [
    {
     "data": {
      "text/plain": [
       "1    33158\n",
       "0    33158\n",
       "Name: IN_EVASAO, dtype: int64"
      ]
     },
     "execution_count": 59,
     "metadata": {},
     "output_type": "execute_result"
    }
   ],
   "source": [
    "y_train_bal.value_counts()"
   ]
  },
  {
   "cell_type": "code",
   "execution_count": null,
   "metadata": {},
   "outputs": [],
   "source": []
  }
 ],
 "metadata": {
  "kernelspec": {
   "display_name": "Python 3",
   "language": "python",
   "name": "python3"
  },
  "language_info": {
   "codemirror_mode": {
    "name": "ipython",
    "version": 3
   },
   "file_extension": ".py",
   "mimetype": "text/x-python",
   "name": "python",
   "nbconvert_exporter": "python",
   "pygments_lexer": "ipython3",
   "version": "3.7.4"
  },
  "toc": {
   "base_numbering": 1,
   "nav_menu": {},
   "number_sections": true,
   "sideBar": true,
   "skip_h1_title": true,
   "title_cell": "Table of Contents",
   "title_sidebar": "Contents",
   "toc_cell": true,
   "toc_position": {},
   "toc_section_display": true,
   "toc_window_display": false
  }
 },
 "nbformat": 4,
 "nbformat_minor": 2
}
