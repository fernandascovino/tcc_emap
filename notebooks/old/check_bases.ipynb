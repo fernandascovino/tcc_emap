{
  "nbformat": 4,
  "nbformat_minor": 0,
  "metadata": {
    "colab": {
      "name": "check_bases.ipynb",
      "version": "0.3.2",
      "provenance": [],
      "collapsed_sections": [
        "NksQLbAFskoa",
        "rHk0cBzDf_JG",
        "6Fx0dmkxdZUH",
        "ArAwUJ6Idf6y",
        "USA99YBdoHXJ",
        "1EfcvdUDvh6x"
      ]
    },
    "kernelspec": {
      "name": "python3",
      "display_name": "Python 3"
    }
  },
  "cells": [
    {
      "cell_type": "markdown",
      "metadata": {
        "id": "Quyi2zmg0FNk",
        "colab_type": "text"
      },
      "source": [
        "# Análise dos dados de matrícula de EM no RJ\n",
        "\n",
        "## Objetivo\n",
        "O objetivo da monografia é obter um modelo de predição da evasão escolar no EM  no Rio. Para isso, vamos utilizar 2 (três) bases do Censo Escolar (2018):\n",
        "\n",
        "- Perfil dos estudantes (*TABELA DE MATRÍCULA*)\n",
        "- Perfil das escolas (*TABELA DE ESCOLA*)\n",
        "\n",
        "Nesse documento temos por objetivo explorar os dados de matrícula obtidos dos anos de 2015 a 2018."
      ]
    },
    {
      "cell_type": "markdown",
      "metadata": {
        "id": "F9b8OHS60I6U",
        "colab_type": "text"
      },
      "source": [
        "## Importação dos dados e pacotes\n",
        "\n"
      ]
    },
    {
      "cell_type": "code",
      "metadata": {
        "id": "9sQvDm6XyNP2",
        "colab_type": "code",
        "outputId": "9c4bf1a9-a94d-47cb-ee52-9c6f529f56af",
        "colab": {
          "base_uri": "https://localhost:8080/",
          "height": 34
        }
      },
      "source": [
        "# Run this cell to mount your Google Drive.\n",
        "from google.colab import drive\n",
        "drive.mount('/content/drive')"
      ],
      "execution_count": 0,
      "outputs": [
        {
          "output_type": "stream",
          "text": [
            "Drive already mounted at /content/drive; to attempt to forcibly remount, call drive.mount(\"/content/drive\", force_remount=True).\n"
          ],
          "name": "stdout"
        }
      ]
    },
    {
      "cell_type": "code",
      "metadata": {
        "id": "TNsaz-5LyOzz",
        "colab_type": "code",
        "colab": {}
      },
      "source": [
        "import os\n",
        "\n",
        "RAW_PATH = os.getcwd()+'/drive/My Drive/TCC EMAp/data/raw/'\n",
        "MOD_PATH = os.getcwd()+'/drive/My Drive/TCC EMAp/data/wrangle/'\n",
        "OUT_PATH = os.getcwd()+'/drive/My Drive/TCC EMAp/data/output/'\n",
        "\n",
        "import pandas as pd\n",
        "# matriculas_2015 = pd.read_csv(os.getcwd()+'/drive/My Drive/TCC EMAp//matriculas_rio_EM_2015.csv')\n",
        "matriculas_2016 = pd.read_csv(RAW_PATH+'matriculas_rj_2016.csv')\n",
        "matriculas_2017 = pd.read_csv(RAW_PATH+'matriculas_rj_2017.csv')\n",
        "matriculas_2018 = pd.read_csv(RAW_PATH+'matriculas_rj_2018.csv')\n",
        "# taxas_transicao = pd.read_excel(RAW_PATH+'TX_TRANSICAO_UF_2014_2015.xlsx', skiprows=5)"
      ],
      "execution_count": 0,
      "outputs": []
    },
    {
      "cell_type": "code",
      "metadata": {
        "id": "BI_sEise1ol4",
        "colab_type": "code",
        "colab": {}
      },
      "source": [
        "import matplotlib.pyplot as plt\n",
        "import seaborn as sns\n",
        "sns.set()"
      ],
      "execution_count": 0,
      "outputs": []
    },
    {
      "cell_type": "markdown",
      "metadata": {
        "id": "NksQLbAFskoa",
        "colab_type": "text"
      },
      "source": [
        "## Motivação e Contexto\n",
        "\n",
        "Segundo a última divulgação do INEP das taxas de transição escolares (2014-2015): \n",
        "- Rio de Janeiro ocupa a 11ª posição dentre os estados com maior taxa de evasão escolar no ensino médio, de 11,8%.\n",
        "- É o estado com maior taxa de evasão na região sudeste\n",
        "- O 1º ano do EM é a etapa onde tivemos maior nível de evasões (14.6%), \n",
        "- A taxa de evasão no ensino público é mais do que o dobro do privado, tanto no geral quanto para o 1º ano. Essa diferença cai nos anos seguintes, mas ainda é relevante.\n"
      ]
    },
    {
      "cell_type": "code",
      "metadata": {
        "id": "pi5j0WMyt3Rw",
        "colab_type": "code",
        "outputId": "0dc58ead-58d5-4d8e-f8dc-05ebff8cd0f5",
        "colab": {
          "base_uri": "https://localhost:8080/",
          "height": 1000
        }
      },
      "source": [
        "taxas_transicao.info()"
      ],
      "execution_count": 0,
      "outputs": [
        {
          "output_type": "stream",
          "text": [
            "<class 'pandas.core.frame.DataFrame'>\n",
            "RangeIndex: 141 entries, 0 to 140\n",
            "Data columns (total 69 columns):\n",
            "Ano                           138 non-null object\n",
            "Região                        136 non-null object\n",
            "Unidade da \n",
            "Federação         135 non-null object\n",
            "Localização                   136 non-null object\n",
            "Dependência Administrativa    136 non-null object\n",
            "Taxa de Promoção              138 non-null object\n",
            "Unnamed: 6                    137 non-null object\n",
            "Unnamed: 7                    137 non-null object\n",
            "Unnamed: 8                    137 non-null object\n",
            "Unnamed: 9                    137 non-null object\n",
            "Unnamed: 10                   137 non-null object\n",
            "Unnamed: 11                   137 non-null object\n",
            "Unnamed: 12                   137 non-null object\n",
            "Unnamed: 13                   137 non-null object\n",
            "Unnamed: 14                   137 non-null object\n",
            "Unnamed: 15                   137 non-null object\n",
            "Unnamed: 16                   137 non-null object\n",
            "Unnamed: 17                   138 non-null object\n",
            "Unnamed: 18                   137 non-null object\n",
            "Unnamed: 19                   137 non-null object\n",
            "Unnamed: 20                   137 non-null object\n",
            "Taxa de Repetência            138 non-null object\n",
            "Unnamed: 22                   137 non-null object\n",
            "Unnamed: 23                   137 non-null object\n",
            "Unnamed: 24                   137 non-null object\n",
            "Unnamed: 25                   137 non-null object\n",
            "Unnamed: 26                   137 non-null object\n",
            "Unnamed: 27                   137 non-null object\n",
            "Unnamed: 28                   137 non-null object\n",
            "Unnamed: 29                   137 non-null object\n",
            "Unnamed: 30                   137 non-null object\n",
            "Unnamed: 31                   137 non-null object\n",
            "Unnamed: 32                   137 non-null object\n",
            "Unnamed: 33                   138 non-null object\n",
            "Unnamed: 34                   137 non-null object\n",
            "Unnamed: 35                   137 non-null object\n",
            "Unnamed: 36                   137 non-null object\n",
            "Taxa de Evasão                138 non-null object\n",
            "Unnamed: 38                   137 non-null object\n",
            "Unnamed: 39                   137 non-null object\n",
            "Unnamed: 40                   137 non-null object\n",
            "Unnamed: 41                   137 non-null object\n",
            "Unnamed: 42                   137 non-null object\n",
            "Unnamed: 43                   137 non-null object\n",
            "Unnamed: 44                   137 non-null object\n",
            "Unnamed: 45                   137 non-null object\n",
            "Unnamed: 46                   137 non-null object\n",
            "Unnamed: 47                   137 non-null object\n",
            "Unnamed: 48                   137 non-null object\n",
            "Unnamed: 49                   138 non-null object\n",
            "Unnamed: 50                   137 non-null object\n",
            "Unnamed: 51                   137 non-null object\n",
            "Unnamed: 52                   137 non-null object\n",
            "Migração para EJA             138 non-null object\n",
            "Unnamed: 54                   137 non-null object\n",
            "Unnamed: 55                   137 non-null object\n",
            "Unnamed: 56                   137 non-null object\n",
            "Unnamed: 57                   137 non-null object\n",
            "Unnamed: 58                   137 non-null object\n",
            "Unnamed: 59                   137 non-null object\n",
            "Unnamed: 60                   137 non-null object\n",
            "Unnamed: 61                   137 non-null object\n",
            "Unnamed: 62                   137 non-null object\n",
            "Unnamed: 63                   137 non-null object\n",
            "Unnamed: 64                   137 non-null object\n",
            "Unnamed: 65                   138 non-null object\n",
            "Unnamed: 66                   137 non-null object\n",
            "Unnamed: 67                   137 non-null object\n",
            "Unnamed: 68                   137 non-null object\n",
            "dtypes: object(69)\n",
            "memory usage: 76.1+ KB\n"
          ],
          "name": "stdout"
        }
      ]
    },
    {
      "cell_type": "code",
      "metadata": {
        "id": "SfqbT4h_uF-f",
        "colab_type": "code",
        "outputId": "48a6cc7c-c6c0-4ead-8491-6924b117f758",
        "colab": {
          "base_uri": "https://localhost:8080/",
          "height": 340
        }
      },
      "source": [
        "cols = taxas_transicao.columns\n",
        "cols"
      ],
      "execution_count": 0,
      "outputs": [
        {
          "output_type": "execute_result",
          "data": {
            "text/plain": [
              "Index(['Ano', 'Região', 'Unidade da \\nFederação', 'Localização',\n",
              "       'Dependência Administrativa', 'Taxa de Promoção', 'Unnamed: 6',\n",
              "       'Unnamed: 7', 'Unnamed: 8', 'Unnamed: 9', 'Unnamed: 10', 'Unnamed: 11',\n",
              "       'Unnamed: 12', 'Unnamed: 13', 'Unnamed: 14', 'Unnamed: 15',\n",
              "       'Unnamed: 16', 'Unnamed: 17', 'Unnamed: 18', 'Unnamed: 19',\n",
              "       'Unnamed: 20', 'Taxa de Repetência', 'Unnamed: 22', 'Unnamed: 23',\n",
              "       'Unnamed: 24', 'Unnamed: 25', 'Unnamed: 26', 'Unnamed: 27',\n",
              "       'Unnamed: 28', 'Unnamed: 29', 'Unnamed: 30', 'Unnamed: 31',\n",
              "       'Unnamed: 32', 'Unnamed: 33', 'Unnamed: 34', 'Unnamed: 35',\n",
              "       'Unnamed: 36', 'Taxa de Evasão', 'Unnamed: 38', 'Unnamed: 39',\n",
              "       'Unnamed: 40', 'Unnamed: 41', 'Unnamed: 42', 'Unnamed: 43',\n",
              "       'Unnamed: 44', 'Unnamed: 45', 'Unnamed: 46', 'Unnamed: 47',\n",
              "       'Unnamed: 48', 'Unnamed: 49', 'Unnamed: 50', 'Unnamed: 51',\n",
              "       'Unnamed: 52', 'Migração para EJA', 'Unnamed: 54', 'Unnamed: 55',\n",
              "       'Unnamed: 56', 'Unnamed: 57', 'Unnamed: 58', 'Unnamed: 59',\n",
              "       'Unnamed: 60', 'Unnamed: 61', 'Unnamed: 62', 'Unnamed: 63',\n",
              "       'Unnamed: 64', 'Unnamed: 65', 'Unnamed: 66', 'Unnamed: 67',\n",
              "       'Unnamed: 68'],\n",
              "      dtype='object')"
            ]
          },
          "metadata": {
            "tags": []
          },
          "execution_count": 23
        }
      ]
    },
    {
      "cell_type": "code",
      "metadata": {
        "id": "i5pT23MpuPXN",
        "colab_type": "code",
        "outputId": "2f5ebfdf-ec3f-412a-f877-fd7b892e3ecb",
        "colab": {
          "base_uri": "https://localhost:8080/",
          "height": 136
        }
      },
      "source": [
        "taxas_transicao = taxas_transicao[list(cols[0:5])+list(cols[37:53])]\n",
        "taxas_transicao.columns"
      ],
      "execution_count": 0,
      "outputs": [
        {
          "output_type": "execute_result",
          "data": {
            "text/plain": [
              "Index(['Ano', 'Região', 'Unidade da \\nFederação', 'Localização',\n",
              "       'Dependência Administrativa', 'Taxa de Evasão', 'Unnamed: 38',\n",
              "       'Unnamed: 39', 'Unnamed: 40', 'Unnamed: 41', 'Unnamed: 42',\n",
              "       'Unnamed: 43', 'Unnamed: 44', 'Unnamed: 45', 'Unnamed: 46',\n",
              "       'Unnamed: 47', 'Unnamed: 48', 'Unnamed: 49', 'Unnamed: 50',\n",
              "       'Unnamed: 51', 'Unnamed: 52'],\n",
              "      dtype='object')"
            ]
          },
          "metadata": {
            "tags": []
          },
          "execution_count": 24
        }
      ]
    },
    {
      "cell_type": "code",
      "metadata": {
        "id": "n9O-JG34vN_o",
        "colab_type": "code",
        "outputId": "3b196ae1-1c39-4d02-c5ff-60e93049521a",
        "colab": {
          "base_uri": "https://localhost:8080/",
          "height": 292
        }
      },
      "source": [
        "taxas_transicao.head()"
      ],
      "execution_count": 0,
      "outputs": [
        {
          "output_type": "execute_result",
          "data": {
            "text/html": [
              "<div>\n",
              "<style scoped>\n",
              "    .dataframe tbody tr th:only-of-type {\n",
              "        vertical-align: middle;\n",
              "    }\n",
              "\n",
              "    .dataframe tbody tr th {\n",
              "        vertical-align: top;\n",
              "    }\n",
              "\n",
              "    .dataframe thead th {\n",
              "        text-align: right;\n",
              "    }\n",
              "</style>\n",
              "<table border=\"1\" class=\"dataframe\">\n",
              "  <thead>\n",
              "    <tr style=\"text-align: right;\">\n",
              "      <th></th>\n",
              "      <th>Ano</th>\n",
              "      <th>Região</th>\n",
              "      <th>Unidade da \n",
              "Federação</th>\n",
              "      <th>Localização</th>\n",
              "      <th>Dependência Administrativa</th>\n",
              "      <th>Taxa de Evasão</th>\n",
              "      <th>Unnamed: 38</th>\n",
              "      <th>Unnamed: 39</th>\n",
              "      <th>Unnamed: 40</th>\n",
              "      <th>Unnamed: 41</th>\n",
              "      <th>Unnamed: 42</th>\n",
              "      <th>Unnamed: 43</th>\n",
              "      <th>Unnamed: 44</th>\n",
              "      <th>Unnamed: 45</th>\n",
              "      <th>Unnamed: 46</th>\n",
              "      <th>Unnamed: 47</th>\n",
              "      <th>Unnamed: 48</th>\n",
              "      <th>Unnamed: 49</th>\n",
              "      <th>Unnamed: 50</th>\n",
              "      <th>Unnamed: 51</th>\n",
              "      <th>Unnamed: 52</th>\n",
              "    </tr>\n",
              "  </thead>\n",
              "  <tbody>\n",
              "    <tr>\n",
              "      <th>0</th>\n",
              "      <td>NaN</td>\n",
              "      <td>NaN</td>\n",
              "      <td>NaN</td>\n",
              "      <td>NaN</td>\n",
              "      <td>NaN</td>\n",
              "      <td>Ensino Fundamental</td>\n",
              "      <td>NaN</td>\n",
              "      <td>NaN</td>\n",
              "      <td>NaN</td>\n",
              "      <td>NaN</td>\n",
              "      <td>NaN</td>\n",
              "      <td>NaN</td>\n",
              "      <td>NaN</td>\n",
              "      <td>NaN</td>\n",
              "      <td>NaN</td>\n",
              "      <td>NaN</td>\n",
              "      <td>NaN</td>\n",
              "      <td>Ensino Médio</td>\n",
              "      <td>NaN</td>\n",
              "      <td>NaN</td>\n",
              "      <td>NaN</td>\n",
              "    </tr>\n",
              "    <tr>\n",
              "      <th>1</th>\n",
              "      <td>NaN</td>\n",
              "      <td>NaN</td>\n",
              "      <td>NaN</td>\n",
              "      <td>NaN</td>\n",
              "      <td>NaN</td>\n",
              "      <td>Total</td>\n",
              "      <td>Anos Iniciais</td>\n",
              "      <td>Anos Finais</td>\n",
              "      <td>1º Ano</td>\n",
              "      <td>2º Ano</td>\n",
              "      <td>3º Ano</td>\n",
              "      <td>4º Ano</td>\n",
              "      <td>5º Ano</td>\n",
              "      <td>6º Ano</td>\n",
              "      <td>7º Ano</td>\n",
              "      <td>8º Ano</td>\n",
              "      <td>9º Ano</td>\n",
              "      <td>Total</td>\n",
              "      <td>1ª série</td>\n",
              "      <td>2ª série</td>\n",
              "      <td>3ª série</td>\n",
              "    </tr>\n",
              "    <tr>\n",
              "      <th>2</th>\n",
              "      <td>ANO</td>\n",
              "      <td>NO_CODIGO</td>\n",
              "      <td>NaN</td>\n",
              "      <td>TIPOLOCA</td>\n",
              "      <td>DEPENDAD</td>\n",
              "      <td>TXEVE_FUN</td>\n",
              "      <td>TXEVE_F14</td>\n",
              "      <td>TXEVE_F58</td>\n",
              "      <td>TXEVE_F00</td>\n",
              "      <td>TXEVE_F01</td>\n",
              "      <td>TXEVE_F02</td>\n",
              "      <td>TXEVE_F03</td>\n",
              "      <td>TXEVE_F04</td>\n",
              "      <td>TXEVE_F05</td>\n",
              "      <td>TXEVE_F06</td>\n",
              "      <td>TXEVE_F07</td>\n",
              "      <td>TXEVE_F08</td>\n",
              "      <td>TXEVE_MED</td>\n",
              "      <td>TXEVE_M01</td>\n",
              "      <td>TXEVE_M02</td>\n",
              "      <td>TXEVE_M03</td>\n",
              "    </tr>\n",
              "    <tr>\n",
              "      <th>3</th>\n",
              "      <td>2014/2015</td>\n",
              "      <td>Norte</td>\n",
              "      <td>Rondônia</td>\n",
              "      <td>Total</td>\n",
              "      <td>Total</td>\n",
              "      <td>3.1</td>\n",
              "      <td>1.5</td>\n",
              "      <td>5.4</td>\n",
              "      <td>1.1</td>\n",
              "      <td>1.4</td>\n",
              "      <td>1.4</td>\n",
              "      <td>1.5</td>\n",
              "      <td>2.3</td>\n",
              "      <td>4.6</td>\n",
              "      <td>4.6</td>\n",
              "      <td>5.1</td>\n",
              "      <td>7.7</td>\n",
              "      <td>9.8</td>\n",
              "      <td>11.3</td>\n",
              "      <td>10.3</td>\n",
              "      <td>6.5</td>\n",
              "    </tr>\n",
              "    <tr>\n",
              "      <th>4</th>\n",
              "      <td>2014/2015</td>\n",
              "      <td>Norte</td>\n",
              "      <td>Rondônia</td>\n",
              "      <td>Total</td>\n",
              "      <td>Pública</td>\n",
              "      <td>3.2</td>\n",
              "      <td>1.5</td>\n",
              "      <td>5.7</td>\n",
              "      <td>1.1</td>\n",
              "      <td>1.5</td>\n",
              "      <td>1.4</td>\n",
              "      <td>1.6</td>\n",
              "      <td>2.4</td>\n",
              "      <td>4.8</td>\n",
              "      <td>4.9</td>\n",
              "      <td>5.4</td>\n",
              "      <td>8.2</td>\n",
              "      <td>10.4</td>\n",
              "      <td>12</td>\n",
              "      <td>10.7</td>\n",
              "      <td>7</td>\n",
              "    </tr>\n",
              "  </tbody>\n",
              "</table>\n",
              "</div>"
            ],
            "text/plain": [
              "         Ano     Região  ... Unnamed: 51 Unnamed: 52\n",
              "0        NaN        NaN  ...         NaN         NaN\n",
              "1        NaN        NaN  ...    2ª série    3ª série\n",
              "2        ANO  NO_CODIGO  ...   TXEVE_M02   TXEVE_M03\n",
              "3  2014/2015      Norte  ...        10.3         6.5\n",
              "4  2014/2015      Norte  ...        10.7           7\n",
              "\n",
              "[5 rows x 21 columns]"
            ]
          },
          "metadata": {
            "tags": []
          },
          "execution_count": 25
        }
      ]
    },
    {
      "cell_type": "code",
      "metadata": {
        "id": "qK8ZFO-YvUSv",
        "colab_type": "code",
        "outputId": "23ba4439-96f8-4b1e-9207-94e7efb2dfc6",
        "colab": {
          "base_uri": "https://localhost:8080/",
          "height": 204
        }
      },
      "source": [
        "evasao_em_rj_2015 = taxas_transicao[list(cols[0:5])+list(cols[49:53])].copy()\n",
        "evasao_em_rj_2015.head()"
      ],
      "execution_count": 0,
      "outputs": [
        {
          "output_type": "execute_result",
          "data": {
            "text/html": [
              "<div>\n",
              "<style scoped>\n",
              "    .dataframe tbody tr th:only-of-type {\n",
              "        vertical-align: middle;\n",
              "    }\n",
              "\n",
              "    .dataframe tbody tr th {\n",
              "        vertical-align: top;\n",
              "    }\n",
              "\n",
              "    .dataframe thead th {\n",
              "        text-align: right;\n",
              "    }\n",
              "</style>\n",
              "<table border=\"1\" class=\"dataframe\">\n",
              "  <thead>\n",
              "    <tr style=\"text-align: right;\">\n",
              "      <th></th>\n",
              "      <th>Ano</th>\n",
              "      <th>Região</th>\n",
              "      <th>Unidade da \n",
              "Federação</th>\n",
              "      <th>Localização</th>\n",
              "      <th>Dependência Administrativa</th>\n",
              "      <th>Unnamed: 49</th>\n",
              "      <th>Unnamed: 50</th>\n",
              "      <th>Unnamed: 51</th>\n",
              "      <th>Unnamed: 52</th>\n",
              "    </tr>\n",
              "  </thead>\n",
              "  <tbody>\n",
              "    <tr>\n",
              "      <th>0</th>\n",
              "      <td>NaN</td>\n",
              "      <td>NaN</td>\n",
              "      <td>NaN</td>\n",
              "      <td>NaN</td>\n",
              "      <td>NaN</td>\n",
              "      <td>Ensino Médio</td>\n",
              "      <td>NaN</td>\n",
              "      <td>NaN</td>\n",
              "      <td>NaN</td>\n",
              "    </tr>\n",
              "    <tr>\n",
              "      <th>1</th>\n",
              "      <td>NaN</td>\n",
              "      <td>NaN</td>\n",
              "      <td>NaN</td>\n",
              "      <td>NaN</td>\n",
              "      <td>NaN</td>\n",
              "      <td>Total</td>\n",
              "      <td>1ª série</td>\n",
              "      <td>2ª série</td>\n",
              "      <td>3ª série</td>\n",
              "    </tr>\n",
              "    <tr>\n",
              "      <th>2</th>\n",
              "      <td>ANO</td>\n",
              "      <td>NO_CODIGO</td>\n",
              "      <td>NaN</td>\n",
              "      <td>TIPOLOCA</td>\n",
              "      <td>DEPENDAD</td>\n",
              "      <td>TXEVE_MED</td>\n",
              "      <td>TXEVE_M01</td>\n",
              "      <td>TXEVE_M02</td>\n",
              "      <td>TXEVE_M03</td>\n",
              "    </tr>\n",
              "    <tr>\n",
              "      <th>3</th>\n",
              "      <td>2014/2015</td>\n",
              "      <td>Norte</td>\n",
              "      <td>Rondônia</td>\n",
              "      <td>Total</td>\n",
              "      <td>Total</td>\n",
              "      <td>9.8</td>\n",
              "      <td>11.3</td>\n",
              "      <td>10.3</td>\n",
              "      <td>6.5</td>\n",
              "    </tr>\n",
              "    <tr>\n",
              "      <th>4</th>\n",
              "      <td>2014/2015</td>\n",
              "      <td>Norte</td>\n",
              "      <td>Rondônia</td>\n",
              "      <td>Total</td>\n",
              "      <td>Pública</td>\n",
              "      <td>10.4</td>\n",
              "      <td>12</td>\n",
              "      <td>10.7</td>\n",
              "      <td>7</td>\n",
              "    </tr>\n",
              "  </tbody>\n",
              "</table>\n",
              "</div>"
            ],
            "text/plain": [
              "         Ano     Região  ... Unnamed: 51 Unnamed: 52\n",
              "0        NaN        NaN  ...         NaN         NaN\n",
              "1        NaN        NaN  ...    2ª série    3ª série\n",
              "2        ANO  NO_CODIGO  ...   TXEVE_M02   TXEVE_M03\n",
              "3  2014/2015      Norte  ...        10.3         6.5\n",
              "4  2014/2015      Norte  ...        10.7           7\n",
              "\n",
              "[5 rows x 9 columns]"
            ]
          },
          "metadata": {
            "tags": []
          },
          "execution_count": 26
        }
      ]
    },
    {
      "cell_type": "code",
      "metadata": {
        "id": "s5jWJgcAwRHc",
        "colab_type": "code",
        "outputId": "f88d87ce-4813-4a50-aed7-32f4779bbdc2",
        "colab": {
          "base_uri": "https://localhost:8080/",
          "height": 204
        }
      },
      "source": [
        "evasao_em_rj_2015.columns = evasao_em_rj_2015.iloc[2].fillna('UF')\n",
        "evasao_em_rj_2015 = evasao_em_rj_2015.drop([0,1,2])\n",
        "\n",
        "evasao_em_rj_2015.head()"
      ],
      "execution_count": 0,
      "outputs": [
        {
          "output_type": "execute_result",
          "data": {
            "text/html": [
              "<div>\n",
              "<style scoped>\n",
              "    .dataframe tbody tr th:only-of-type {\n",
              "        vertical-align: middle;\n",
              "    }\n",
              "\n",
              "    .dataframe tbody tr th {\n",
              "        vertical-align: top;\n",
              "    }\n",
              "\n",
              "    .dataframe thead th {\n",
              "        text-align: right;\n",
              "    }\n",
              "</style>\n",
              "<table border=\"1\" class=\"dataframe\">\n",
              "  <thead>\n",
              "    <tr style=\"text-align: right;\">\n",
              "      <th>2</th>\n",
              "      <th>ANO</th>\n",
              "      <th>NO_CODIGO</th>\n",
              "      <th>UF</th>\n",
              "      <th>TIPOLOCA</th>\n",
              "      <th>DEPENDAD</th>\n",
              "      <th>TXEVE_MED</th>\n",
              "      <th>TXEVE_M01</th>\n",
              "      <th>TXEVE_M02</th>\n",
              "      <th>TXEVE_M03</th>\n",
              "    </tr>\n",
              "  </thead>\n",
              "  <tbody>\n",
              "    <tr>\n",
              "      <th>3</th>\n",
              "      <td>2014/2015</td>\n",
              "      <td>Norte</td>\n",
              "      <td>Rondônia</td>\n",
              "      <td>Total</td>\n",
              "      <td>Total</td>\n",
              "      <td>9.8</td>\n",
              "      <td>11.3</td>\n",
              "      <td>10.3</td>\n",
              "      <td>6.5</td>\n",
              "    </tr>\n",
              "    <tr>\n",
              "      <th>4</th>\n",
              "      <td>2014/2015</td>\n",
              "      <td>Norte</td>\n",
              "      <td>Rondônia</td>\n",
              "      <td>Total</td>\n",
              "      <td>Pública</td>\n",
              "      <td>10.4</td>\n",
              "      <td>12</td>\n",
              "      <td>10.7</td>\n",
              "      <td>7</td>\n",
              "    </tr>\n",
              "    <tr>\n",
              "      <th>5</th>\n",
              "      <td>2014/2015</td>\n",
              "      <td>Norte</td>\n",
              "      <td>Rondônia</td>\n",
              "      <td>Total</td>\n",
              "      <td>Privada</td>\n",
              "      <td>3.3</td>\n",
              "      <td>2.5</td>\n",
              "      <td>6.3</td>\n",
              "      <td>0.7</td>\n",
              "    </tr>\n",
              "    <tr>\n",
              "      <th>6</th>\n",
              "      <td>2014/2015</td>\n",
              "      <td>Norte</td>\n",
              "      <td>Rondônia</td>\n",
              "      <td>Urbana</td>\n",
              "      <td>Total</td>\n",
              "      <td>9.9</td>\n",
              "      <td>11.3</td>\n",
              "      <td>10.4</td>\n",
              "      <td>6.8</td>\n",
              "    </tr>\n",
              "    <tr>\n",
              "      <th>7</th>\n",
              "      <td>2014/2015</td>\n",
              "      <td>Norte</td>\n",
              "      <td>Rondônia</td>\n",
              "      <td>Rural</td>\n",
              "      <td>Total</td>\n",
              "      <td>9</td>\n",
              "      <td>10.7</td>\n",
              "      <td>10.6</td>\n",
              "      <td>3.5</td>\n",
              "    </tr>\n",
              "  </tbody>\n",
              "</table>\n",
              "</div>"
            ],
            "text/plain": [
              "2        ANO NO_CODIGO        UF  ... TXEVE_M01 TXEVE_M02 TXEVE_M03\n",
              "3  2014/2015     Norte  Rondônia  ...      11.3      10.3       6.5\n",
              "4  2014/2015     Norte  Rondônia  ...        12      10.7         7\n",
              "5  2014/2015     Norte  Rondônia  ...       2.5       6.3       0.7\n",
              "6  2014/2015     Norte  Rondônia  ...      11.3      10.4       6.8\n",
              "7  2014/2015     Norte  Rondônia  ...      10.7      10.6       3.5\n",
              "\n",
              "[5 rows x 9 columns]"
            ]
          },
          "metadata": {
            "tags": []
          },
          "execution_count": 27
        }
      ]
    },
    {
      "cell_type": "markdown",
      "metadata": {
        "id": "5SWF5fuq0-Jq",
        "colab_type": "text"
      },
      "source": [
        "#### Taxa de evasão no estado (setorizada)"
      ]
    },
    {
      "cell_type": "code",
      "metadata": {
        "id": "yoO-T42p05Jf",
        "colab_type": "code",
        "outputId": "f4c07587-31cc-4a76-9865-4972f24932ab",
        "colab": {
          "base_uri": "https://localhost:8080/",
          "height": 204
        }
      },
      "source": [
        "evasao_em_rj_2015[evasao_em_rj_2015['UF'] == 'Rio de Janeiro']"
      ],
      "execution_count": 0,
      "outputs": [
        {
          "output_type": "execute_result",
          "data": {
            "text/html": [
              "<div>\n",
              "<style scoped>\n",
              "    .dataframe tbody tr th:only-of-type {\n",
              "        vertical-align: middle;\n",
              "    }\n",
              "\n",
              "    .dataframe tbody tr th {\n",
              "        vertical-align: top;\n",
              "    }\n",
              "\n",
              "    .dataframe thead th {\n",
              "        text-align: right;\n",
              "    }\n",
              "</style>\n",
              "<table border=\"1\" class=\"dataframe\">\n",
              "  <thead>\n",
              "    <tr style=\"text-align: right;\">\n",
              "      <th>2</th>\n",
              "      <th>ANO</th>\n",
              "      <th>NO_CODIGO</th>\n",
              "      <th>UF</th>\n",
              "      <th>TIPOLOCA</th>\n",
              "      <th>DEPENDAD</th>\n",
              "      <th>TXEVE_MED</th>\n",
              "      <th>TXEVE_M01</th>\n",
              "      <th>TXEVE_M02</th>\n",
              "      <th>TXEVE_M03</th>\n",
              "    </tr>\n",
              "  </thead>\n",
              "  <tbody>\n",
              "    <tr>\n",
              "      <th>93</th>\n",
              "      <td>2014/2015</td>\n",
              "      <td>Sudeste</td>\n",
              "      <td>Rio de Janeiro</td>\n",
              "      <td>Total</td>\n",
              "      <td>Total</td>\n",
              "      <td>11.8</td>\n",
              "      <td>14.6</td>\n",
              "      <td>13</td>\n",
              "      <td>5.8</td>\n",
              "    </tr>\n",
              "    <tr>\n",
              "      <th>94</th>\n",
              "      <td>2014/2015</td>\n",
              "      <td>Sudeste</td>\n",
              "      <td>Rio de Janeiro</td>\n",
              "      <td>Total</td>\n",
              "      <td>Pública</td>\n",
              "      <td>13.6</td>\n",
              "      <td>16.7</td>\n",
              "      <td>14.3</td>\n",
              "      <td>7</td>\n",
              "    </tr>\n",
              "    <tr>\n",
              "      <th>95</th>\n",
              "      <td>2014/2015</td>\n",
              "      <td>Sudeste</td>\n",
              "      <td>Rio de Janeiro</td>\n",
              "      <td>Total</td>\n",
              "      <td>Privada</td>\n",
              "      <td>5.8</td>\n",
              "      <td>6.6</td>\n",
              "      <td>8</td>\n",
              "      <td>2.1</td>\n",
              "    </tr>\n",
              "    <tr>\n",
              "      <th>96</th>\n",
              "      <td>2014/2015</td>\n",
              "      <td>Sudeste</td>\n",
              "      <td>Rio de Janeiro</td>\n",
              "      <td>Urbana</td>\n",
              "      <td>Total</td>\n",
              "      <td>11.8</td>\n",
              "      <td>14.6</td>\n",
              "      <td>13</td>\n",
              "      <td>5.8</td>\n",
              "    </tr>\n",
              "    <tr>\n",
              "      <th>97</th>\n",
              "      <td>2014/2015</td>\n",
              "      <td>Sudeste</td>\n",
              "      <td>Rio de Janeiro</td>\n",
              "      <td>Rural</td>\n",
              "      <td>Total</td>\n",
              "      <td>10.3</td>\n",
              "      <td>12.9</td>\n",
              "      <td>11.9</td>\n",
              "      <td>3.7</td>\n",
              "    </tr>\n",
              "  </tbody>\n",
              "</table>\n",
              "</div>"
            ],
            "text/plain": [
              "2         ANO NO_CODIGO              UF  ... TXEVE_M01 TXEVE_M02 TXEVE_M03\n",
              "93  2014/2015   Sudeste  Rio de Janeiro  ...      14.6        13       5.8\n",
              "94  2014/2015   Sudeste  Rio de Janeiro  ...      16.7      14.3         7\n",
              "95  2014/2015   Sudeste  Rio de Janeiro  ...       6.6         8       2.1\n",
              "96  2014/2015   Sudeste  Rio de Janeiro  ...      14.6        13       5.8\n",
              "97  2014/2015   Sudeste  Rio de Janeiro  ...      12.9      11.9       3.7\n",
              "\n",
              "[5 rows x 9 columns]"
            ]
          },
          "metadata": {
            "tags": []
          },
          "execution_count": 28
        }
      ]
    },
    {
      "cell_type": "code",
      "metadata": {
        "id": "-HqYsMh91jJy",
        "colab_type": "code",
        "outputId": "5a761033-789c-445e-b1c9-00fc0b156a3b",
        "colab": {
          "base_uri": "https://localhost:8080/",
          "height": 480
        }
      },
      "source": [
        "#plt.plot(evasao_em_rj_2015[evasao_em_rj_2015['UF'] == 'Rio de Janeiro'].iloc[93])\n",
        "from pylab import rcParams\n",
        "rcParams['figure.figsize'] = 10, 5\n",
        "\n",
        "t = evasao_em_rj_2015[evasao_em_rj_2015['UF'] == 'Rio de Janeiro'][['DEPENDAD', 'TXEVE_M01', 'TXEVE_M02', 'TXEVE_M03']].loc[[93,94,95]].copy()\n",
        "t.columns.name = None\n",
        "t = t.set_index('DEPENDAD').transpose()\n",
        "\n",
        "fig, ax = plt.subplots()\n",
        "ax.plot([i[-1] for i in t.index], t.values, marker='o')\n",
        "ax.legend(t.columns)\n",
        "ax.set_title('Taxa de evasão no RJ por ano do EM (2015)')\n",
        "\n",
        "plt.ylabel('Taxa de evasão (%)')\n",
        "plt.xlabel('Ano do EM')\n",
        "\n",
        "\n",
        "# for i, txt in enumerate(t.values):\n",
        "#     ax.annotate(txt, (t.index[i], t.values[i]+0.2))\n",
        "\n",
        "t\n",
        "\n",
        "#sns.barplot(x='Pública', hue=t.index, data=t.transpose())\n",
        "#plt.bar(t.transpose()['Pública'], )"
      ],
      "execution_count": 0,
      "outputs": [
        {
          "output_type": "execute_result",
          "data": {
            "text/html": [
              "<div>\n",
              "<style scoped>\n",
              "    .dataframe tbody tr th:only-of-type {\n",
              "        vertical-align: middle;\n",
              "    }\n",
              "\n",
              "    .dataframe tbody tr th {\n",
              "        vertical-align: top;\n",
              "    }\n",
              "\n",
              "    .dataframe thead th {\n",
              "        text-align: right;\n",
              "    }\n",
              "</style>\n",
              "<table border=\"1\" class=\"dataframe\">\n",
              "  <thead>\n",
              "    <tr style=\"text-align: right;\">\n",
              "      <th>DEPENDAD</th>\n",
              "      <th>Total</th>\n",
              "      <th>Pública</th>\n",
              "      <th>Privada</th>\n",
              "    </tr>\n",
              "  </thead>\n",
              "  <tbody>\n",
              "    <tr>\n",
              "      <th>TXEVE_M01</th>\n",
              "      <td>14.6</td>\n",
              "      <td>16.7</td>\n",
              "      <td>6.6</td>\n",
              "    </tr>\n",
              "    <tr>\n",
              "      <th>TXEVE_M02</th>\n",
              "      <td>13</td>\n",
              "      <td>14.3</td>\n",
              "      <td>8</td>\n",
              "    </tr>\n",
              "    <tr>\n",
              "      <th>TXEVE_M03</th>\n",
              "      <td>5.8</td>\n",
              "      <td>7</td>\n",
              "      <td>2.1</td>\n",
              "    </tr>\n",
              "  </tbody>\n",
              "</table>\n",
              "</div>"
            ],
            "text/plain": [
              "DEPENDAD  Total Pública Privada\n",
              "TXEVE_M01  14.6    16.7     6.6\n",
              "TXEVE_M02    13    14.3       8\n",
              "TXEVE_M03   5.8       7     2.1"
            ]
          },
          "metadata": {
            "tags": []
          },
          "execution_count": 29
        },
        {
          "output_type": "display_data",
          "data": {
            "image/png": "[encoded data removed]",
            "text/plain": [
              "<Figure size 720x360 with 1 Axes>"
            ]
          },
          "metadata": {
            "tags": []
          }
        }
      ]
    },
    {
      "cell_type": "markdown",
      "metadata": {
        "id": "H6pQpHfn1c6_",
        "colab_type": "text"
      },
      "source": [
        "#### Comparação com outros estados"
      ]
    },
    {
      "cell_type": "code",
      "metadata": {
        "id": "u-xlPwK2xLV_",
        "colab_type": "code",
        "outputId": "a770cded-a243-4ffb-fb71-17c3512582e6",
        "colab": {
          "base_uri": "https://localhost:8080/",
          "height": 886
        }
      },
      "source": [
        "# ranking evasão no ensino médio nos estados (geral)\n",
        "evasao_em_rj_2015[(evasao_em_rj_2015['TIPOLOCA'] == 'Total') & (evasao_em_rj_2015['DEPENDAD'] == 'Total')].sort_values('TXEVE_MED', ascending=False).reset_index(drop=True)"
      ],
      "execution_count": 0,
      "outputs": [
        {
          "output_type": "execute_result",
          "data": {
            "text/html": [
              "<div>\n",
              "<style scoped>\n",
              "    .dataframe tbody tr th:only-of-type {\n",
              "        vertical-align: middle;\n",
              "    }\n",
              "\n",
              "    .dataframe tbody tr th {\n",
              "        vertical-align: top;\n",
              "    }\n",
              "\n",
              "    .dataframe thead th {\n",
              "        text-align: right;\n",
              "    }\n",
              "</style>\n",
              "<table border=\"1\" class=\"dataframe\">\n",
              "  <thead>\n",
              "    <tr style=\"text-align: right;\">\n",
              "      <th>2</th>\n",
              "      <th>ANO</th>\n",
              "      <th>NO_CODIGO</th>\n",
              "      <th>UF</th>\n",
              "      <th>TIPOLOCA</th>\n",
              "      <th>DEPENDAD</th>\n",
              "      <th>TXEVE_MED</th>\n",
              "      <th>TXEVE_M01</th>\n",
              "      <th>TXEVE_M02</th>\n",
              "      <th>TXEVE_M03</th>\n",
              "    </tr>\n",
              "  </thead>\n",
              "  <tbody>\n",
              "    <tr>\n",
              "      <th>0</th>\n",
              "      <td>2014/2015</td>\n",
              "      <td>Norte</td>\n",
              "      <td>Pará</td>\n",
              "      <td>Total</td>\n",
              "      <td>Total</td>\n",
              "      <td>15.9</td>\n",
              "      <td>16.3</td>\n",
              "      <td>17</td>\n",
              "      <td>14.1</td>\n",
              "    </tr>\n",
              "    <tr>\n",
              "      <th>1</th>\n",
              "      <td>2014/2015</td>\n",
              "      <td>Centro-Oeste</td>\n",
              "      <td>Mato Grosso</td>\n",
              "      <td>Total</td>\n",
              "      <td>Total</td>\n",
              "      <td>13.8</td>\n",
              "      <td>16.2</td>\n",
              "      <td>12</td>\n",
              "      <td>10.9</td>\n",
              "    </tr>\n",
              "    <tr>\n",
              "      <th>2</th>\n",
              "      <td>2014/2015</td>\n",
              "      <td>Nordeste</td>\n",
              "      <td>Alagoas</td>\n",
              "      <td>Total</td>\n",
              "      <td>Total</td>\n",
              "      <td>13.7</td>\n",
              "      <td>15.3</td>\n",
              "      <td>14.1</td>\n",
              "      <td>10.2</td>\n",
              "    </tr>\n",
              "    <tr>\n",
              "      <th>3</th>\n",
              "      <td>2014/2015</td>\n",
              "      <td>Nordeste</td>\n",
              "      <td>Piauí</td>\n",
              "      <td>Total</td>\n",
              "      <td>Total</td>\n",
              "      <td>13.2</td>\n",
              "      <td>15</td>\n",
              "      <td>15</td>\n",
              "      <td>7.9</td>\n",
              "    </tr>\n",
              "    <tr>\n",
              "      <th>4</th>\n",
              "      <td>2014/2015</td>\n",
              "      <td>Nordeste</td>\n",
              "      <td>Maranhão</td>\n",
              "      <td>Total</td>\n",
              "      <td>Total</td>\n",
              "      <td>13.1</td>\n",
              "      <td>14.5</td>\n",
              "      <td>15.1</td>\n",
              "      <td>8.3</td>\n",
              "    </tr>\n",
              "    <tr>\n",
              "      <th>5</th>\n",
              "      <td>2014/2015</td>\n",
              "      <td>Nordeste</td>\n",
              "      <td>R. G. do Norte</td>\n",
              "      <td>Total</td>\n",
              "      <td>Total</td>\n",
              "      <td>12.7</td>\n",
              "      <td>14.1</td>\n",
              "      <td>13</td>\n",
              "      <td>10</td>\n",
              "    </tr>\n",
              "    <tr>\n",
              "      <th>6</th>\n",
              "      <td>2014/2015</td>\n",
              "      <td>Nordeste</td>\n",
              "      <td>Bahia</td>\n",
              "      <td>Total</td>\n",
              "      <td>Total</td>\n",
              "      <td>12.6</td>\n",
              "      <td>14.1</td>\n",
              "      <td>13.6</td>\n",
              "      <td>9.2</td>\n",
              "    </tr>\n",
              "    <tr>\n",
              "      <th>7</th>\n",
              "      <td>2014/2015</td>\n",
              "      <td>Nordeste</td>\n",
              "      <td>Sergipe</td>\n",
              "      <td>Total</td>\n",
              "      <td>Total</td>\n",
              "      <td>12.6</td>\n",
              "      <td>14.2</td>\n",
              "      <td>13.5</td>\n",
              "      <td>8.4</td>\n",
              "    </tr>\n",
              "    <tr>\n",
              "      <th>8</th>\n",
              "      <td>2014/2015</td>\n",
              "      <td>Centro-Oeste</td>\n",
              "      <td>M. G. do Sul</td>\n",
              "      <td>Total</td>\n",
              "      <td>Total</td>\n",
              "      <td>12.4</td>\n",
              "      <td>14.6</td>\n",
              "      <td>13.1</td>\n",
              "      <td>7.3</td>\n",
              "    </tr>\n",
              "    <tr>\n",
              "      <th>9</th>\n",
              "      <td>2014/2015</td>\n",
              "      <td>Nordeste</td>\n",
              "      <td>Paraíba</td>\n",
              "      <td>Total</td>\n",
              "      <td>Total</td>\n",
              "      <td>12.4</td>\n",
              "      <td>14.5</td>\n",
              "      <td>14.2</td>\n",
              "      <td>6.3</td>\n",
              "    </tr>\n",
              "    <tr>\n",
              "      <th>10</th>\n",
              "      <td>2014/2015</td>\n",
              "      <td>Sudeste</td>\n",
              "      <td>Rio de Janeiro</td>\n",
              "      <td>Total</td>\n",
              "      <td>Total</td>\n",
              "      <td>11.8</td>\n",
              "      <td>14.6</td>\n",
              "      <td>13</td>\n",
              "      <td>5.8</td>\n",
              "    </tr>\n",
              "    <tr>\n",
              "      <th>11</th>\n",
              "      <td>2014/2015</td>\n",
              "      <td>Sul</td>\n",
              "      <td>R. G. do Sul</td>\n",
              "      <td>Total</td>\n",
              "      <td>Total</td>\n",
              "      <td>11.7</td>\n",
              "      <td>14.6</td>\n",
              "      <td>12</td>\n",
              "      <td>6.6</td>\n",
              "    </tr>\n",
              "    <tr>\n",
              "      <th>12</th>\n",
              "      <td>2014/2015</td>\n",
              "      <td>Norte</td>\n",
              "      <td>Amapá</td>\n",
              "      <td>Total</td>\n",
              "      <td>Total</td>\n",
              "      <td>11.6</td>\n",
              "      <td>12</td>\n",
              "      <td>10.6</td>\n",
              "      <td>12.3</td>\n",
              "    </tr>\n",
              "    <tr>\n",
              "      <th>13</th>\n",
              "      <td>2014/2015</td>\n",
              "      <td>Sudeste</td>\n",
              "      <td>Espírito Santo</td>\n",
              "      <td>Total</td>\n",
              "      <td>Total</td>\n",
              "      <td>11.5</td>\n",
              "      <td>14.5</td>\n",
              "      <td>11.8</td>\n",
              "      <td>5.6</td>\n",
              "    </tr>\n",
              "    <tr>\n",
              "      <th>14</th>\n",
              "      <td>2014/2015</td>\n",
              "      <td>Nordeste</td>\n",
              "      <td>Ceará</td>\n",
              "      <td>Total</td>\n",
              "      <td>Total</td>\n",
              "      <td>11.3</td>\n",
              "      <td>13.5</td>\n",
              "      <td>12.9</td>\n",
              "      <td>6.2</td>\n",
              "    </tr>\n",
              "    <tr>\n",
              "      <th>15</th>\n",
              "      <td>2014/2015</td>\n",
              "      <td>Norte</td>\n",
              "      <td>Acre</td>\n",
              "      <td>Total</td>\n",
              "      <td>Total</td>\n",
              "      <td>10.9</td>\n",
              "      <td>12.2</td>\n",
              "      <td>11</td>\n",
              "      <td>8.2</td>\n",
              "    </tr>\n",
              "    <tr>\n",
              "      <th>16</th>\n",
              "      <td>2014/2015</td>\n",
              "      <td>Norte</td>\n",
              "      <td>Amazonas</td>\n",
              "      <td>Total</td>\n",
              "      <td>Total</td>\n",
              "      <td>10.9</td>\n",
              "      <td>12.2</td>\n",
              "      <td>11.9</td>\n",
              "      <td>8</td>\n",
              "    </tr>\n",
              "    <tr>\n",
              "      <th>17</th>\n",
              "      <td>2014/2015</td>\n",
              "      <td>Nordeste</td>\n",
              "      <td>Pernambuco</td>\n",
              "      <td>Total</td>\n",
              "      <td>Total</td>\n",
              "      <td>10.6</td>\n",
              "      <td>13.6</td>\n",
              "      <td>12.3</td>\n",
              "      <td>4.2</td>\n",
              "    </tr>\n",
              "    <tr>\n",
              "      <th>18</th>\n",
              "      <td>2014/2015</td>\n",
              "      <td>Centro-Oeste</td>\n",
              "      <td>Goiás</td>\n",
              "      <td>Total</td>\n",
              "      <td>Total</td>\n",
              "      <td>10.5</td>\n",
              "      <td>13</td>\n",
              "      <td>11.7</td>\n",
              "      <td>5.8</td>\n",
              "    </tr>\n",
              "    <tr>\n",
              "      <th>19</th>\n",
              "      <td>2014/2015</td>\n",
              "      <td>Sul</td>\n",
              "      <td>Santa Catarina</td>\n",
              "      <td>Total</td>\n",
              "      <td>Total</td>\n",
              "      <td>10.3</td>\n",
              "      <td>12.8</td>\n",
              "      <td>10.3</td>\n",
              "      <td>5.7</td>\n",
              "    </tr>\n",
              "    <tr>\n",
              "      <th>20</th>\n",
              "      <td>2014/2015</td>\n",
              "      <td>Sudeste</td>\n",
              "      <td>Minas Gerais</td>\n",
              "      <td>Total</td>\n",
              "      <td>Total</td>\n",
              "      <td>10.2</td>\n",
              "      <td>11</td>\n",
              "      <td>11.9</td>\n",
              "      <td>7.2</td>\n",
              "    </tr>\n",
              "    <tr>\n",
              "      <th>21</th>\n",
              "      <td>2014/2015</td>\n",
              "      <td>Norte</td>\n",
              "      <td>Tocantins</td>\n",
              "      <td>Total</td>\n",
              "      <td>Total</td>\n",
              "      <td>10</td>\n",
              "      <td>12.1</td>\n",
              "      <td>10.7</td>\n",
              "      <td>5.3</td>\n",
              "    </tr>\n",
              "    <tr>\n",
              "      <th>22</th>\n",
              "      <td>2014/2015</td>\n",
              "      <td>Sudeste</td>\n",
              "      <td>São Paulo</td>\n",
              "      <td>Total</td>\n",
              "      <td>Total</td>\n",
              "      <td>9.9</td>\n",
              "      <td>11.2</td>\n",
              "      <td>12.7</td>\n",
              "      <td>4.7</td>\n",
              "    </tr>\n",
              "    <tr>\n",
              "      <th>23</th>\n",
              "      <td>2014/2015</td>\n",
              "      <td>Norte</td>\n",
              "      <td>Rondônia</td>\n",
              "      <td>Total</td>\n",
              "      <td>Total</td>\n",
              "      <td>9.8</td>\n",
              "      <td>11.3</td>\n",
              "      <td>10.3</td>\n",
              "      <td>6.5</td>\n",
              "    </tr>\n",
              "    <tr>\n",
              "      <th>24</th>\n",
              "      <td>2014/2015</td>\n",
              "      <td>Centro-Oeste</td>\n",
              "      <td>Distrito Federal</td>\n",
              "      <td>Total</td>\n",
              "      <td>Total</td>\n",
              "      <td>9.8</td>\n",
              "      <td>10.4</td>\n",
              "      <td>11.4</td>\n",
              "      <td>6.2</td>\n",
              "    </tr>\n",
              "    <tr>\n",
              "      <th>25</th>\n",
              "      <td>2014/2015</td>\n",
              "      <td>Norte</td>\n",
              "      <td>Roraima</td>\n",
              "      <td>Total</td>\n",
              "      <td>Total</td>\n",
              "      <td>9.2</td>\n",
              "      <td>10.7</td>\n",
              "      <td>9.6</td>\n",
              "      <td>5.4</td>\n",
              "    </tr>\n",
              "    <tr>\n",
              "      <th>26</th>\n",
              "      <td>2014/2015</td>\n",
              "      <td>Sul</td>\n",
              "      <td>Paraná</td>\n",
              "      <td>Total</td>\n",
              "      <td>Total</td>\n",
              "      <td>9</td>\n",
              "      <td>10.2</td>\n",
              "      <td>10.1</td>\n",
              "      <td>6</td>\n",
              "    </tr>\n",
              "  </tbody>\n",
              "</table>\n",
              "</div>"
            ],
            "text/plain": [
              "2         ANO     NO_CODIGO                UF  ... TXEVE_M01 TXEVE_M02 TXEVE_M03\n",
              "0   2014/2015         Norte              Pará  ...      16.3        17      14.1\n",
              "1   2014/2015  Centro-Oeste       Mato Grosso  ...      16.2        12      10.9\n",
              "2   2014/2015      Nordeste           Alagoas  ...      15.3      14.1      10.2\n",
              "3   2014/2015      Nordeste             Piauí  ...        15        15       7.9\n",
              "4   2014/2015      Nordeste          Maranhão  ...      14.5      15.1       8.3\n",
              "5   2014/2015      Nordeste    R. G. do Norte  ...      14.1        13        10\n",
              "6   2014/2015      Nordeste             Bahia  ...      14.1      13.6       9.2\n",
              "7   2014/2015      Nordeste           Sergipe  ...      14.2      13.5       8.4\n",
              "8   2014/2015  Centro-Oeste      M. G. do Sul  ...      14.6      13.1       7.3\n",
              "9   2014/2015      Nordeste           Paraíba  ...      14.5      14.2       6.3\n",
              "10  2014/2015       Sudeste    Rio de Janeiro  ...      14.6        13       5.8\n",
              "11  2014/2015           Sul      R. G. do Sul  ...      14.6        12       6.6\n",
              "12  2014/2015         Norte             Amapá  ...        12      10.6      12.3\n",
              "13  2014/2015       Sudeste    Espírito Santo  ...      14.5      11.8       5.6\n",
              "14  2014/2015      Nordeste             Ceará  ...      13.5      12.9       6.2\n",
              "15  2014/2015         Norte              Acre  ...      12.2        11       8.2\n",
              "16  2014/2015         Norte          Amazonas  ...      12.2      11.9         8\n",
              "17  2014/2015      Nordeste        Pernambuco  ...      13.6      12.3       4.2\n",
              "18  2014/2015  Centro-Oeste             Goiás  ...        13      11.7       5.8\n",
              "19  2014/2015           Sul    Santa Catarina  ...      12.8      10.3       5.7\n",
              "20  2014/2015       Sudeste      Minas Gerais  ...        11      11.9       7.2\n",
              "21  2014/2015         Norte         Tocantins  ...      12.1      10.7       5.3\n",
              "22  2014/2015       Sudeste         São Paulo  ...      11.2      12.7       4.7\n",
              "23  2014/2015         Norte          Rondônia  ...      11.3      10.3       6.5\n",
              "24  2014/2015  Centro-Oeste  Distrito Federal  ...      10.4      11.4       6.2\n",
              "25  2014/2015         Norte           Roraima  ...      10.7       9.6       5.4\n",
              "26  2014/2015           Sul            Paraná  ...      10.2      10.1         6\n",
              "\n",
              "[27 rows x 9 columns]"
            ]
          },
          "metadata": {
            "tags": []
          },
          "execution_count": 30
        }
      ]
    },
    {
      "cell_type": "code",
      "metadata": {
        "id": "QEzoau3vzg3c",
        "colab_type": "code",
        "outputId": "fa291219-f752-4277-858f-7a1867c88a4d",
        "colab": {
          "base_uri": "https://localhost:8080/",
          "height": 886
        }
      },
      "source": [
        "# ranking evasão no ensino médio nos estados (pública geral)\n",
        "evasao_UF_EM_2015 = evasao_em_rj_2015[(evasao_em_rj_2015['TIPOLOCA'] == 'Total') & (evasao_em_rj_2015['DEPENDAD'] == 'Pública')]\n",
        "\n",
        "evasao_UF_EM_2015.sort_values('TXEVE_MED', ascending=False).reset_index(drop=True)"
      ],
      "execution_count": 0,
      "outputs": [
        {
          "output_type": "execute_result",
          "data": {
            "text/html": [
              "<div>\n",
              "<style scoped>\n",
              "    .dataframe tbody tr th:only-of-type {\n",
              "        vertical-align: middle;\n",
              "    }\n",
              "\n",
              "    .dataframe tbody tr th {\n",
              "        vertical-align: top;\n",
              "    }\n",
              "\n",
              "    .dataframe thead th {\n",
              "        text-align: right;\n",
              "    }\n",
              "</style>\n",
              "<table border=\"1\" class=\"dataframe\">\n",
              "  <thead>\n",
              "    <tr style=\"text-align: right;\">\n",
              "      <th>2</th>\n",
              "      <th>ANO</th>\n",
              "      <th>NO_CODIGO</th>\n",
              "      <th>UF</th>\n",
              "      <th>TIPOLOCA</th>\n",
              "      <th>DEPENDAD</th>\n",
              "      <th>TXEVE_MED</th>\n",
              "      <th>TXEVE_M01</th>\n",
              "      <th>TXEVE_M02</th>\n",
              "      <th>TXEVE_M03</th>\n",
              "    </tr>\n",
              "  </thead>\n",
              "  <tbody>\n",
              "    <tr>\n",
              "      <th>0</th>\n",
              "      <td>2014/2015</td>\n",
              "      <td>Norte</td>\n",
              "      <td>Pará</td>\n",
              "      <td>Total</td>\n",
              "      <td>Pública</td>\n",
              "      <td>17.2</td>\n",
              "      <td>17.4</td>\n",
              "      <td>18.2</td>\n",
              "      <td>15.6</td>\n",
              "    </tr>\n",
              "    <tr>\n",
              "      <th>1</th>\n",
              "      <td>2014/2015</td>\n",
              "      <td>Nordeste</td>\n",
              "      <td>Alagoas</td>\n",
              "      <td>Total</td>\n",
              "      <td>Pública</td>\n",
              "      <td>15</td>\n",
              "      <td>16.9</td>\n",
              "      <td>15.1</td>\n",
              "      <td>11.9</td>\n",
              "    </tr>\n",
              "    <tr>\n",
              "      <th>2</th>\n",
              "      <td>2014/2015</td>\n",
              "      <td>Centro-Oeste</td>\n",
              "      <td>Mato Grosso</td>\n",
              "      <td>Total</td>\n",
              "      <td>Pública</td>\n",
              "      <td>14.7</td>\n",
              "      <td>17.1</td>\n",
              "      <td>12.6</td>\n",
              "      <td>11.9</td>\n",
              "    </tr>\n",
              "    <tr>\n",
              "      <th>3</th>\n",
              "      <td>2014/2015</td>\n",
              "      <td>Nordeste</td>\n",
              "      <td>Sergipe</td>\n",
              "      <td>Total</td>\n",
              "      <td>Pública</td>\n",
              "      <td>14.4</td>\n",
              "      <td>16</td>\n",
              "      <td>15.2</td>\n",
              "      <td>10.1</td>\n",
              "    </tr>\n",
              "    <tr>\n",
              "      <th>4</th>\n",
              "      <td>2014/2015</td>\n",
              "      <td>Nordeste</td>\n",
              "      <td>Piauí</td>\n",
              "      <td>Total</td>\n",
              "      <td>Pública</td>\n",
              "      <td>14.2</td>\n",
              "      <td>16.2</td>\n",
              "      <td>15.7</td>\n",
              "      <td>9</td>\n",
              "    </tr>\n",
              "    <tr>\n",
              "      <th>5</th>\n",
              "      <td>2014/2015</td>\n",
              "      <td>Nordeste</td>\n",
              "      <td>R. G. do Norte</td>\n",
              "      <td>Total</td>\n",
              "      <td>Pública</td>\n",
              "      <td>14</td>\n",
              "      <td>15.8</td>\n",
              "      <td>14</td>\n",
              "      <td>11.3</td>\n",
              "    </tr>\n",
              "    <tr>\n",
              "      <th>6</th>\n",
              "      <td>2014/2015</td>\n",
              "      <td>Nordeste</td>\n",
              "      <td>Maranhão</td>\n",
              "      <td>Total</td>\n",
              "      <td>Pública</td>\n",
              "      <td>13.6</td>\n",
              "      <td>15</td>\n",
              "      <td>15.3</td>\n",
              "      <td>8.8</td>\n",
              "    </tr>\n",
              "    <tr>\n",
              "      <th>7</th>\n",
              "      <td>2014/2015</td>\n",
              "      <td>Sudeste</td>\n",
              "      <td>Rio de Janeiro</td>\n",
              "      <td>Total</td>\n",
              "      <td>Pública</td>\n",
              "      <td>13.6</td>\n",
              "      <td>16.7</td>\n",
              "      <td>14.3</td>\n",
              "      <td>7</td>\n",
              "    </tr>\n",
              "    <tr>\n",
              "      <th>8</th>\n",
              "      <td>2014/2015</td>\n",
              "      <td>Centro-Oeste</td>\n",
              "      <td>M. G. do Sul</td>\n",
              "      <td>Total</td>\n",
              "      <td>Pública</td>\n",
              "      <td>13.5</td>\n",
              "      <td>15.9</td>\n",
              "      <td>14.2</td>\n",
              "      <td>8.2</td>\n",
              "    </tr>\n",
              "    <tr>\n",
              "      <th>9</th>\n",
              "      <td>2014/2015</td>\n",
              "      <td>Nordeste</td>\n",
              "      <td>Bahia</td>\n",
              "      <td>Total</td>\n",
              "      <td>Pública</td>\n",
              "      <td>13.4</td>\n",
              "      <td>14.8</td>\n",
              "      <td>14.2</td>\n",
              "      <td>10</td>\n",
              "    </tr>\n",
              "    <tr>\n",
              "      <th>10</th>\n",
              "      <td>2014/2015</td>\n",
              "      <td>Nordeste</td>\n",
              "      <td>Paraíba</td>\n",
              "      <td>Total</td>\n",
              "      <td>Pública</td>\n",
              "      <td>13.2</td>\n",
              "      <td>15.9</td>\n",
              "      <td>14.3</td>\n",
              "      <td>7.2</td>\n",
              "    </tr>\n",
              "    <tr>\n",
              "      <th>11</th>\n",
              "      <td>2014/2015</td>\n",
              "      <td>Sul</td>\n",
              "      <td>R. G. do Sul</td>\n",
              "      <td>Total</td>\n",
              "      <td>Pública</td>\n",
              "      <td>12.9</td>\n",
              "      <td>16</td>\n",
              "      <td>13.2</td>\n",
              "      <td>7.4</td>\n",
              "    </tr>\n",
              "    <tr>\n",
              "      <th>12</th>\n",
              "      <td>2014/2015</td>\n",
              "      <td>Sudeste</td>\n",
              "      <td>Espírito Santo</td>\n",
              "      <td>Total</td>\n",
              "      <td>Pública</td>\n",
              "      <td>12.8</td>\n",
              "      <td>16</td>\n",
              "      <td>12.9</td>\n",
              "      <td>6.6</td>\n",
              "    </tr>\n",
              "    <tr>\n",
              "      <th>13</th>\n",
              "      <td>2014/2015</td>\n",
              "      <td>Norte</td>\n",
              "      <td>Amapá</td>\n",
              "      <td>Total</td>\n",
              "      <td>Pública</td>\n",
              "      <td>12.4</td>\n",
              "      <td>12.6</td>\n",
              "      <td>11</td>\n",
              "      <td>13.6</td>\n",
              "    </tr>\n",
              "    <tr>\n",
              "      <th>14</th>\n",
              "      <td>2014/2015</td>\n",
              "      <td>Nordeste</td>\n",
              "      <td>Ceará</td>\n",
              "      <td>Total</td>\n",
              "      <td>Pública</td>\n",
              "      <td>12.3</td>\n",
              "      <td>14.8</td>\n",
              "      <td>13.9</td>\n",
              "      <td>7</td>\n",
              "    </tr>\n",
              "    <tr>\n",
              "      <th>15</th>\n",
              "      <td>2014/2015</td>\n",
              "      <td>Centro-Oeste</td>\n",
              "      <td>Goiás</td>\n",
              "      <td>Total</td>\n",
              "      <td>Pública</td>\n",
              "      <td>11.7</td>\n",
              "      <td>14.5</td>\n",
              "      <td>12.4</td>\n",
              "      <td>6.6</td>\n",
              "    </tr>\n",
              "    <tr>\n",
              "      <th>16</th>\n",
              "      <td>2014/2015</td>\n",
              "      <td>Centro-Oeste</td>\n",
              "      <td>Distrito Federal</td>\n",
              "      <td>Total</td>\n",
              "      <td>Pública</td>\n",
              "      <td>11.7</td>\n",
              "      <td>12.5</td>\n",
              "      <td>13.2</td>\n",
              "      <td>8.1</td>\n",
              "    </tr>\n",
              "    <tr>\n",
              "      <th>17</th>\n",
              "      <td>2014/2015</td>\n",
              "      <td>Sul</td>\n",
              "      <td>Santa Catarina</td>\n",
              "      <td>Total</td>\n",
              "      <td>Pública</td>\n",
              "      <td>11.5</td>\n",
              "      <td>14</td>\n",
              "      <td>11.5</td>\n",
              "      <td>6.5</td>\n",
              "    </tr>\n",
              "    <tr>\n",
              "      <th>18</th>\n",
              "      <td>2014/2015</td>\n",
              "      <td>Norte</td>\n",
              "      <td>Amazonas</td>\n",
              "      <td>Total</td>\n",
              "      <td>Pública</td>\n",
              "      <td>11.4</td>\n",
              "      <td>12.6</td>\n",
              "      <td>12.3</td>\n",
              "      <td>8.3</td>\n",
              "    </tr>\n",
              "    <tr>\n",
              "      <th>19</th>\n",
              "      <td>2014/2015</td>\n",
              "      <td>Nordeste</td>\n",
              "      <td>Pernambuco</td>\n",
              "      <td>Total</td>\n",
              "      <td>Pública</td>\n",
              "      <td>11.4</td>\n",
              "      <td>14.6</td>\n",
              "      <td>13</td>\n",
              "      <td>4.6</td>\n",
              "    </tr>\n",
              "    <tr>\n",
              "      <th>20</th>\n",
              "      <td>2014/2015</td>\n",
              "      <td>Norte</td>\n",
              "      <td>Acre</td>\n",
              "      <td>Total</td>\n",
              "      <td>Pública</td>\n",
              "      <td>11.3</td>\n",
              "      <td>12.7</td>\n",
              "      <td>11.5</td>\n",
              "      <td>8.6</td>\n",
              "    </tr>\n",
              "    <tr>\n",
              "      <th>21</th>\n",
              "      <td>2014/2015</td>\n",
              "      <td>Sudeste</td>\n",
              "      <td>São Paulo</td>\n",
              "      <td>Total</td>\n",
              "      <td>Pública</td>\n",
              "      <td>11.2</td>\n",
              "      <td>12.5</td>\n",
              "      <td>14.1</td>\n",
              "      <td>5.5</td>\n",
              "    </tr>\n",
              "    <tr>\n",
              "      <th>22</th>\n",
              "      <td>2014/2015</td>\n",
              "      <td>Sudeste</td>\n",
              "      <td>Minas Gerais</td>\n",
              "      <td>Total</td>\n",
              "      <td>Pública</td>\n",
              "      <td>11</td>\n",
              "      <td>11.9</td>\n",
              "      <td>12.6</td>\n",
              "      <td>7.7</td>\n",
              "    </tr>\n",
              "    <tr>\n",
              "      <th>23</th>\n",
              "      <td>2014/2015</td>\n",
              "      <td>Norte</td>\n",
              "      <td>Rondônia</td>\n",
              "      <td>Total</td>\n",
              "      <td>Pública</td>\n",
              "      <td>10.4</td>\n",
              "      <td>12</td>\n",
              "      <td>10.7</td>\n",
              "      <td>7</td>\n",
              "    </tr>\n",
              "    <tr>\n",
              "      <th>24</th>\n",
              "      <td>2014/2015</td>\n",
              "      <td>Norte</td>\n",
              "      <td>Tocantins</td>\n",
              "      <td>Total</td>\n",
              "      <td>Pública</td>\n",
              "      <td>10.3</td>\n",
              "      <td>12.7</td>\n",
              "      <td>10.9</td>\n",
              "      <td>5.5</td>\n",
              "    </tr>\n",
              "    <tr>\n",
              "      <th>25</th>\n",
              "      <td>2014/2015</td>\n",
              "      <td>Sul</td>\n",
              "      <td>Paraná</td>\n",
              "      <td>Total</td>\n",
              "      <td>Pública</td>\n",
              "      <td>10.1</td>\n",
              "      <td>11.5</td>\n",
              "      <td>11.1</td>\n",
              "      <td>7</td>\n",
              "    </tr>\n",
              "    <tr>\n",
              "      <th>26</th>\n",
              "      <td>2014/2015</td>\n",
              "      <td>Norte</td>\n",
              "      <td>Roraima</td>\n",
              "      <td>Total</td>\n",
              "      <td>Pública</td>\n",
              "      <td>9.6</td>\n",
              "      <td>11.2</td>\n",
              "      <td>10</td>\n",
              "      <td>5.8</td>\n",
              "    </tr>\n",
              "  </tbody>\n",
              "</table>\n",
              "</div>"
            ],
            "text/plain": [
              "2         ANO     NO_CODIGO                UF  ... TXEVE_M01 TXEVE_M02 TXEVE_M03\n",
              "0   2014/2015         Norte              Pará  ...      17.4      18.2      15.6\n",
              "1   2014/2015      Nordeste           Alagoas  ...      16.9      15.1      11.9\n",
              "2   2014/2015  Centro-Oeste       Mato Grosso  ...      17.1      12.6      11.9\n",
              "3   2014/2015      Nordeste           Sergipe  ...        16      15.2      10.1\n",
              "4   2014/2015      Nordeste             Piauí  ...      16.2      15.7         9\n",
              "5   2014/2015      Nordeste    R. G. do Norte  ...      15.8        14      11.3\n",
              "6   2014/2015      Nordeste          Maranhão  ...        15      15.3       8.8\n",
              "7   2014/2015       Sudeste    Rio de Janeiro  ...      16.7      14.3         7\n",
              "8   2014/2015  Centro-Oeste      M. G. do Sul  ...      15.9      14.2       8.2\n",
              "9   2014/2015      Nordeste             Bahia  ...      14.8      14.2        10\n",
              "10  2014/2015      Nordeste           Paraíba  ...      15.9      14.3       7.2\n",
              "11  2014/2015           Sul      R. G. do Sul  ...        16      13.2       7.4\n",
              "12  2014/2015       Sudeste    Espírito Santo  ...        16      12.9       6.6\n",
              "13  2014/2015         Norte             Amapá  ...      12.6        11      13.6\n",
              "14  2014/2015      Nordeste             Ceará  ...      14.8      13.9         7\n",
              "15  2014/2015  Centro-Oeste             Goiás  ...      14.5      12.4       6.6\n",
              "16  2014/2015  Centro-Oeste  Distrito Federal  ...      12.5      13.2       8.1\n",
              "17  2014/2015           Sul    Santa Catarina  ...        14      11.5       6.5\n",
              "18  2014/2015         Norte          Amazonas  ...      12.6      12.3       8.3\n",
              "19  2014/2015      Nordeste        Pernambuco  ...      14.6        13       4.6\n",
              "20  2014/2015         Norte              Acre  ...      12.7      11.5       8.6\n",
              "21  2014/2015       Sudeste         São Paulo  ...      12.5      14.1       5.5\n",
              "22  2014/2015       Sudeste      Minas Gerais  ...      11.9      12.6       7.7\n",
              "23  2014/2015         Norte          Rondônia  ...        12      10.7         7\n",
              "24  2014/2015         Norte         Tocantins  ...      12.7      10.9       5.5\n",
              "25  2014/2015           Sul            Paraná  ...      11.5      11.1         7\n",
              "26  2014/2015         Norte           Roraima  ...      11.2        10       5.8\n",
              "\n",
              "[27 rows x 9 columns]"
            ]
          },
          "metadata": {
            "tags": []
          },
          "execution_count": 32
        }
      ]
    },
    {
      "cell_type": "code",
      "metadata": {
        "id": "I5yTJSTnz05M",
        "colab_type": "code",
        "outputId": "e30118fd-896f-4e53-f85b-2bb183990a8b",
        "colab": {
          "base_uri": "https://localhost:8080/",
          "height": 886
        }
      },
      "source": [
        "# ranking evasão no ensino médio nos estados (1o ano pública)\n",
        "evasao_UF_EM_2015.sort_values('TXEVE_M01', ascending=False).reset_index(drop=True)"
      ],
      "execution_count": 0,
      "outputs": [
        {
          "output_type": "execute_result",
          "data": {
            "text/html": [
              "<div>\n",
              "<style scoped>\n",
              "    .dataframe tbody tr th:only-of-type {\n",
              "        vertical-align: middle;\n",
              "    }\n",
              "\n",
              "    .dataframe tbody tr th {\n",
              "        vertical-align: top;\n",
              "    }\n",
              "\n",
              "    .dataframe thead th {\n",
              "        text-align: right;\n",
              "    }\n",
              "</style>\n",
              "<table border=\"1\" class=\"dataframe\">\n",
              "  <thead>\n",
              "    <tr style=\"text-align: right;\">\n",
              "      <th>2</th>\n",
              "      <th>ANO</th>\n",
              "      <th>NO_CODIGO</th>\n",
              "      <th>UF</th>\n",
              "      <th>TIPOLOCA</th>\n",
              "      <th>DEPENDAD</th>\n",
              "      <th>TXEVE_MED</th>\n",
              "      <th>TXEVE_M01</th>\n",
              "      <th>TXEVE_M02</th>\n",
              "      <th>TXEVE_M03</th>\n",
              "    </tr>\n",
              "  </thead>\n",
              "  <tbody>\n",
              "    <tr>\n",
              "      <th>0</th>\n",
              "      <td>2014/2015</td>\n",
              "      <td>Norte</td>\n",
              "      <td>Pará</td>\n",
              "      <td>Total</td>\n",
              "      <td>Pública</td>\n",
              "      <td>17.2</td>\n",
              "      <td>17.4</td>\n",
              "      <td>18.2</td>\n",
              "      <td>15.6</td>\n",
              "    </tr>\n",
              "    <tr>\n",
              "      <th>1</th>\n",
              "      <td>2014/2015</td>\n",
              "      <td>Centro-Oeste</td>\n",
              "      <td>Mato Grosso</td>\n",
              "      <td>Total</td>\n",
              "      <td>Pública</td>\n",
              "      <td>14.7</td>\n",
              "      <td>17.1</td>\n",
              "      <td>12.6</td>\n",
              "      <td>11.9</td>\n",
              "    </tr>\n",
              "    <tr>\n",
              "      <th>2</th>\n",
              "      <td>2014/2015</td>\n",
              "      <td>Nordeste</td>\n",
              "      <td>Alagoas</td>\n",
              "      <td>Total</td>\n",
              "      <td>Pública</td>\n",
              "      <td>15</td>\n",
              "      <td>16.9</td>\n",
              "      <td>15.1</td>\n",
              "      <td>11.9</td>\n",
              "    </tr>\n",
              "    <tr>\n",
              "      <th>3</th>\n",
              "      <td>2014/2015</td>\n",
              "      <td>Sudeste</td>\n",
              "      <td>Rio de Janeiro</td>\n",
              "      <td>Total</td>\n",
              "      <td>Pública</td>\n",
              "      <td>13.6</td>\n",
              "      <td>16.7</td>\n",
              "      <td>14.3</td>\n",
              "      <td>7</td>\n",
              "    </tr>\n",
              "    <tr>\n",
              "      <th>4</th>\n",
              "      <td>2014/2015</td>\n",
              "      <td>Nordeste</td>\n",
              "      <td>Piauí</td>\n",
              "      <td>Total</td>\n",
              "      <td>Pública</td>\n",
              "      <td>14.2</td>\n",
              "      <td>16.2</td>\n",
              "      <td>15.7</td>\n",
              "      <td>9</td>\n",
              "    </tr>\n",
              "    <tr>\n",
              "      <th>5</th>\n",
              "      <td>2014/2015</td>\n",
              "      <td>Sudeste</td>\n",
              "      <td>Espírito Santo</td>\n",
              "      <td>Total</td>\n",
              "      <td>Pública</td>\n",
              "      <td>12.8</td>\n",
              "      <td>16</td>\n",
              "      <td>12.9</td>\n",
              "      <td>6.6</td>\n",
              "    </tr>\n",
              "    <tr>\n",
              "      <th>6</th>\n",
              "      <td>2014/2015</td>\n",
              "      <td>Nordeste</td>\n",
              "      <td>Sergipe</td>\n",
              "      <td>Total</td>\n",
              "      <td>Pública</td>\n",
              "      <td>14.4</td>\n",
              "      <td>16</td>\n",
              "      <td>15.2</td>\n",
              "      <td>10.1</td>\n",
              "    </tr>\n",
              "    <tr>\n",
              "      <th>7</th>\n",
              "      <td>2014/2015</td>\n",
              "      <td>Sul</td>\n",
              "      <td>R. G. do Sul</td>\n",
              "      <td>Total</td>\n",
              "      <td>Pública</td>\n",
              "      <td>12.9</td>\n",
              "      <td>16</td>\n",
              "      <td>13.2</td>\n",
              "      <td>7.4</td>\n",
              "    </tr>\n",
              "    <tr>\n",
              "      <th>8</th>\n",
              "      <td>2014/2015</td>\n",
              "      <td>Nordeste</td>\n",
              "      <td>Paraíba</td>\n",
              "      <td>Total</td>\n",
              "      <td>Pública</td>\n",
              "      <td>13.2</td>\n",
              "      <td>15.9</td>\n",
              "      <td>14.3</td>\n",
              "      <td>7.2</td>\n",
              "    </tr>\n",
              "    <tr>\n",
              "      <th>9</th>\n",
              "      <td>2014/2015</td>\n",
              "      <td>Centro-Oeste</td>\n",
              "      <td>M. G. do Sul</td>\n",
              "      <td>Total</td>\n",
              "      <td>Pública</td>\n",
              "      <td>13.5</td>\n",
              "      <td>15.9</td>\n",
              "      <td>14.2</td>\n",
              "      <td>8.2</td>\n",
              "    </tr>\n",
              "    <tr>\n",
              "      <th>10</th>\n",
              "      <td>2014/2015</td>\n",
              "      <td>Nordeste</td>\n",
              "      <td>R. G. do Norte</td>\n",
              "      <td>Total</td>\n",
              "      <td>Pública</td>\n",
              "      <td>14</td>\n",
              "      <td>15.8</td>\n",
              "      <td>14</td>\n",
              "      <td>11.3</td>\n",
              "    </tr>\n",
              "    <tr>\n",
              "      <th>11</th>\n",
              "      <td>2014/2015</td>\n",
              "      <td>Nordeste</td>\n",
              "      <td>Maranhão</td>\n",
              "      <td>Total</td>\n",
              "      <td>Pública</td>\n",
              "      <td>13.6</td>\n",
              "      <td>15</td>\n",
              "      <td>15.3</td>\n",
              "      <td>8.8</td>\n",
              "    </tr>\n",
              "    <tr>\n",
              "      <th>12</th>\n",
              "      <td>2014/2015</td>\n",
              "      <td>Nordeste</td>\n",
              "      <td>Ceará</td>\n",
              "      <td>Total</td>\n",
              "      <td>Pública</td>\n",
              "      <td>12.3</td>\n",
              "      <td>14.8</td>\n",
              "      <td>13.9</td>\n",
              "      <td>7</td>\n",
              "    </tr>\n",
              "    <tr>\n",
              "      <th>13</th>\n",
              "      <td>2014/2015</td>\n",
              "      <td>Nordeste</td>\n",
              "      <td>Bahia</td>\n",
              "      <td>Total</td>\n",
              "      <td>Pública</td>\n",
              "      <td>13.4</td>\n",
              "      <td>14.8</td>\n",
              "      <td>14.2</td>\n",
              "      <td>10</td>\n",
              "    </tr>\n",
              "    <tr>\n",
              "      <th>14</th>\n",
              "      <td>2014/2015</td>\n",
              "      <td>Nordeste</td>\n",
              "      <td>Pernambuco</td>\n",
              "      <td>Total</td>\n",
              "      <td>Pública</td>\n",
              "      <td>11.4</td>\n",
              "      <td>14.6</td>\n",
              "      <td>13</td>\n",
              "      <td>4.6</td>\n",
              "    </tr>\n",
              "    <tr>\n",
              "      <th>15</th>\n",
              "      <td>2014/2015</td>\n",
              "      <td>Centro-Oeste</td>\n",
              "      <td>Goiás</td>\n",
              "      <td>Total</td>\n",
              "      <td>Pública</td>\n",
              "      <td>11.7</td>\n",
              "      <td>14.5</td>\n",
              "      <td>12.4</td>\n",
              "      <td>6.6</td>\n",
              "    </tr>\n",
              "    <tr>\n",
              "      <th>16</th>\n",
              "      <td>2014/2015</td>\n",
              "      <td>Sul</td>\n",
              "      <td>Santa Catarina</td>\n",
              "      <td>Total</td>\n",
              "      <td>Pública</td>\n",
              "      <td>11.5</td>\n",
              "      <td>14</td>\n",
              "      <td>11.5</td>\n",
              "      <td>6.5</td>\n",
              "    </tr>\n",
              "    <tr>\n",
              "      <th>17</th>\n",
              "      <td>2014/2015</td>\n",
              "      <td>Norte</td>\n",
              "      <td>Acre</td>\n",
              "      <td>Total</td>\n",
              "      <td>Pública</td>\n",
              "      <td>11.3</td>\n",
              "      <td>12.7</td>\n",
              "      <td>11.5</td>\n",
              "      <td>8.6</td>\n",
              "    </tr>\n",
              "    <tr>\n",
              "      <th>18</th>\n",
              "      <td>2014/2015</td>\n",
              "      <td>Norte</td>\n",
              "      <td>Tocantins</td>\n",
              "      <td>Total</td>\n",
              "      <td>Pública</td>\n",
              "      <td>10.3</td>\n",
              "      <td>12.7</td>\n",
              "      <td>10.9</td>\n",
              "      <td>5.5</td>\n",
              "    </tr>\n",
              "    <tr>\n",
              "      <th>19</th>\n",
              "      <td>2014/2015</td>\n",
              "      <td>Norte</td>\n",
              "      <td>Amazonas</td>\n",
              "      <td>Total</td>\n",
              "      <td>Pública</td>\n",
              "      <td>11.4</td>\n",
              "      <td>12.6</td>\n",
              "      <td>12.3</td>\n",
              "      <td>8.3</td>\n",
              "    </tr>\n",
              "    <tr>\n",
              "      <th>20</th>\n",
              "      <td>2014/2015</td>\n",
              "      <td>Norte</td>\n",
              "      <td>Amapá</td>\n",
              "      <td>Total</td>\n",
              "      <td>Pública</td>\n",
              "      <td>12.4</td>\n",
              "      <td>12.6</td>\n",
              "      <td>11</td>\n",
              "      <td>13.6</td>\n",
              "    </tr>\n",
              "    <tr>\n",
              "      <th>21</th>\n",
              "      <td>2014/2015</td>\n",
              "      <td>Centro-Oeste</td>\n",
              "      <td>Distrito Federal</td>\n",
              "      <td>Total</td>\n",
              "      <td>Pública</td>\n",
              "      <td>11.7</td>\n",
              "      <td>12.5</td>\n",
              "      <td>13.2</td>\n",
              "      <td>8.1</td>\n",
              "    </tr>\n",
              "    <tr>\n",
              "      <th>22</th>\n",
              "      <td>2014/2015</td>\n",
              "      <td>Sudeste</td>\n",
              "      <td>São Paulo</td>\n",
              "      <td>Total</td>\n",
              "      <td>Pública</td>\n",
              "      <td>11.2</td>\n",
              "      <td>12.5</td>\n",
              "      <td>14.1</td>\n",
              "      <td>5.5</td>\n",
              "    </tr>\n",
              "    <tr>\n",
              "      <th>23</th>\n",
              "      <td>2014/2015</td>\n",
              "      <td>Norte</td>\n",
              "      <td>Rondônia</td>\n",
              "      <td>Total</td>\n",
              "      <td>Pública</td>\n",
              "      <td>10.4</td>\n",
              "      <td>12</td>\n",
              "      <td>10.7</td>\n",
              "      <td>7</td>\n",
              "    </tr>\n",
              "    <tr>\n",
              "      <th>24</th>\n",
              "      <td>2014/2015</td>\n",
              "      <td>Sudeste</td>\n",
              "      <td>Minas Gerais</td>\n",
              "      <td>Total</td>\n",
              "      <td>Pública</td>\n",
              "      <td>11</td>\n",
              "      <td>11.9</td>\n",
              "      <td>12.6</td>\n",
              "      <td>7.7</td>\n",
              "    </tr>\n",
              "    <tr>\n",
              "      <th>25</th>\n",
              "      <td>2014/2015</td>\n",
              "      <td>Sul</td>\n",
              "      <td>Paraná</td>\n",
              "      <td>Total</td>\n",
              "      <td>Pública</td>\n",
              "      <td>10.1</td>\n",
              "      <td>11.5</td>\n",
              "      <td>11.1</td>\n",
              "      <td>7</td>\n",
              "    </tr>\n",
              "    <tr>\n",
              "      <th>26</th>\n",
              "      <td>2014/2015</td>\n",
              "      <td>Norte</td>\n",
              "      <td>Roraima</td>\n",
              "      <td>Total</td>\n",
              "      <td>Pública</td>\n",
              "      <td>9.6</td>\n",
              "      <td>11.2</td>\n",
              "      <td>10</td>\n",
              "      <td>5.8</td>\n",
              "    </tr>\n",
              "  </tbody>\n",
              "</table>\n",
              "</div>"
            ],
            "text/plain": [
              "2         ANO     NO_CODIGO                UF  ... TXEVE_M01 TXEVE_M02 TXEVE_M03\n",
              "0   2014/2015         Norte              Pará  ...      17.4      18.2      15.6\n",
              "1   2014/2015  Centro-Oeste       Mato Grosso  ...      17.1      12.6      11.9\n",
              "2   2014/2015      Nordeste           Alagoas  ...      16.9      15.1      11.9\n",
              "3   2014/2015       Sudeste    Rio de Janeiro  ...      16.7      14.3         7\n",
              "4   2014/2015      Nordeste             Piauí  ...      16.2      15.7         9\n",
              "5   2014/2015       Sudeste    Espírito Santo  ...        16      12.9       6.6\n",
              "6   2014/2015      Nordeste           Sergipe  ...        16      15.2      10.1\n",
              "7   2014/2015           Sul      R. G. do Sul  ...        16      13.2       7.4\n",
              "8   2014/2015      Nordeste           Paraíba  ...      15.9      14.3       7.2\n",
              "9   2014/2015  Centro-Oeste      M. G. do Sul  ...      15.9      14.2       8.2\n",
              "10  2014/2015      Nordeste    R. G. do Norte  ...      15.8        14      11.3\n",
              "11  2014/2015      Nordeste          Maranhão  ...        15      15.3       8.8\n",
              "12  2014/2015      Nordeste             Ceará  ...      14.8      13.9         7\n",
              "13  2014/2015      Nordeste             Bahia  ...      14.8      14.2        10\n",
              "14  2014/2015      Nordeste        Pernambuco  ...      14.6        13       4.6\n",
              "15  2014/2015  Centro-Oeste             Goiás  ...      14.5      12.4       6.6\n",
              "16  2014/2015           Sul    Santa Catarina  ...        14      11.5       6.5\n",
              "17  2014/2015         Norte              Acre  ...      12.7      11.5       8.6\n",
              "18  2014/2015         Norte         Tocantins  ...      12.7      10.9       5.5\n",
              "19  2014/2015         Norte          Amazonas  ...      12.6      12.3       8.3\n",
              "20  2014/2015         Norte             Amapá  ...      12.6        11      13.6\n",
              "21  2014/2015  Centro-Oeste  Distrito Federal  ...      12.5      13.2       8.1\n",
              "22  2014/2015       Sudeste         São Paulo  ...      12.5      14.1       5.5\n",
              "23  2014/2015         Norte          Rondônia  ...        12      10.7         7\n",
              "24  2014/2015       Sudeste      Minas Gerais  ...      11.9      12.6       7.7\n",
              "25  2014/2015           Sul            Paraná  ...      11.5      11.1         7\n",
              "26  2014/2015         Norte           Roraima  ...      11.2        10       5.8\n",
              "\n",
              "[27 rows x 9 columns]"
            ]
          },
          "metadata": {
            "tags": []
          },
          "execution_count": 33
        }
      ]
    },
    {
      "cell_type": "code",
      "metadata": {
        "id": "EMqoZuFBVxzw",
        "colab_type": "code",
        "colab": {}
      },
      "source": [
        "evasao_UF_EM_2015.to_csv(MOD_PATH+'evasao_uf_em_2015.csv')"
      ],
      "execution_count": 0,
      "outputs": []
    },
    {
      "cell_type": "code",
      "metadata": {
        "id": "jTvgSiCKcbQq",
        "colab_type": "code",
        "outputId": "9afaadcd-e9ec-4965-a29f-e2a6522c7e24",
        "colab": {
          "base_uri": "https://localhost:8080/",
          "height": 1000
        }
      },
      "source": [
        "matriculas_2016.info()"
      ],
      "execution_count": 0,
      "outputs": [
        {
          "output_type": "stream",
          "text": [
            "<class 'pandas.core.frame.DataFrame'>\n",
            "RangeIndex: 571485 entries, 0 to 571484\n",
            "Data columns (total 92 columns):\n",
            "NU_ANO_CENSO                     571485 non-null int64\n",
            "ID_MATRICULA                     571485 non-null int64\n",
            "CO_PESSOA_FISICA                 571485 non-null int64\n",
            "NU_DIA                           571485 non-null int64\n",
            "NU_MES                           571485 non-null int64\n",
            "NU_ANO                           571485 non-null int64\n",
            "NU_IDADE_REFERENCIA              571485 non-null int64\n",
            "NU_IDADE                         571485 non-null int64\n",
            "NU_DURACAO_TURMA                 571485 non-null int64\n",
            "NU_DUR_ATIV_COMP_MESMA_REDE      571485 non-null int64\n",
            "NU_DUR_ATIV_COMP_OUTRAS_REDES    571485 non-null int64\n",
            "NU_DUR_AEE_MESMA_REDE            571485 non-null int64\n",
            "NU_DUR_AEE_OUTRAS_REDES          571485 non-null int64\n",
            "NU_DIAS_ATIVIDADE                571485 non-null int64\n",
            "TP_SEXO                          571485 non-null int64\n",
            "TP_COR_RACA                      571485 non-null int64\n",
            "TP_NACIONALIDADE                 571485 non-null int64\n",
            "CO_PAIS_ORIGEM                   571485 non-null int64\n",
            "CO_UF_NASC                       570083 non-null float64\n",
            "CO_MUNICIPIO_NASC                570083 non-null float64\n",
            "CO_UF_END                        149261 non-null float64\n",
            "CO_MUNICIPIO_END                 149261 non-null float64\n",
            "TP_ZONA_RESIDENCIAL              571485 non-null int64\n",
            "TP_OUTRO_LOCAL_AULA              571485 non-null int64\n",
            "IN_TRANSPORTE_PUBLICO            571485 non-null int64\n",
            "TP_RESPONSAVEL_TRANSPORTE        316094 non-null float64\n",
            "IN_TRANSP_VANS_KOMBI             316094 non-null float64\n",
            "IN_TRANSP_MICRO_ONIBUS           316094 non-null float64\n",
            "IN_TRANSP_ONIBUS                 316094 non-null float64\n",
            "IN_TRANSP_BICICLETA              316094 non-null float64\n",
            "IN_TRANSP_TR_ANIMAL              316094 non-null float64\n",
            "IN_TRANSP_OUTRO_VEICULO          316094 non-null float64\n",
            "IN_TRANSP_EMBAR_ATE5             316094 non-null float64\n",
            "IN_TRANSP_EMBAR_5A15             316094 non-null float64\n",
            "IN_TRANSP_EMBAR_15A35            316094 non-null float64\n",
            "IN_TRANSP_EMBAR_35               316094 non-null float64\n",
            "IN_TRANSP_TREM_METRO             316094 non-null float64\n",
            "IN_NECESSIDADE_ESPECIAL          571485 non-null int64\n",
            "IN_CEGUEIRA                      2932 non-null float64\n",
            "IN_BAIXA_VISAO                   2932 non-null float64\n",
            "IN_SURDEZ                        2932 non-null float64\n",
            "IN_DEF_AUDITIVA                  2932 non-null float64\n",
            "IN_SURDOCEGUEIRA                 2932 non-null float64\n",
            "IN_DEF_FISICA                    2932 non-null float64\n",
            "IN_DEF_INTELECTUAL               2932 non-null float64\n",
            "IN_DEF_MULTIPLA                  2932 non-null float64\n",
            "IN_AUTISMO                       2932 non-null float64\n",
            "IN_SINDROME_ASPERGER             2932 non-null float64\n",
            "IN_SINDROME_RETT                 2932 non-null float64\n",
            "IN_TRANSTORNO_DI                 2932 non-null float64\n",
            "IN_SUPERDOTACAO                  2932 non-null float64\n",
            "IN_RECURSO_LEDOR                 2599 non-null float64\n",
            "IN_RECURSO_TRANSCRICAO           2599 non-null float64\n",
            "IN_RECURSO_INTERPRETE            2599 non-null float64\n",
            "IN_RECURSO_LIBRAS                2599 non-null float64\n",
            "IN_RECURSO_LABIAL                2599 non-null float64\n",
            "IN_RECURSO_BRAILLE               2599 non-null float64\n",
            "IN_RECURSO_AMPLIADA_16           2599 non-null float64\n",
            "IN_RECURSO_AMPLIADA_20           2599 non-null float64\n",
            "IN_RECURSO_AMPLIADA_24           2599 non-null float64\n",
            "IN_RECURSO_NENHUM                2599 non-null float64\n",
            "TP_INGRESSO_FEDERAIS             11892 non-null float64\n",
            "TP_MEDIACAO_DIDATICO_PEDAGO      571485 non-null int64\n",
            "IN_ESPECIAL_EXCLUSIVA            571485 non-null int64\n",
            "IN_REGULAR                       571485 non-null int64\n",
            "IN_EJA                           571485 non-null int64\n",
            "IN_PROFISSIONALIZANTE            571485 non-null int64\n",
            "TP_ETAPA_ENSINO                  571485 non-null int64\n",
            "ID_TURMA                         571485 non-null int64\n",
            "CO_CURSO_EDUC_PROFISSIONAL       29963 non-null float64\n",
            "TP_UNIFICADA                     571485 non-null int64\n",
            "TP_TIPO_TURMA                    571485 non-null int64\n",
            "CO_ENTIDADE                      571485 non-null int64\n",
            "CO_REGIAO                        571485 non-null int64\n",
            "CO_MESORREGIAO                   571485 non-null int64\n",
            "CO_MICRORREGIAO                  571485 non-null int64\n",
            "CO_UF                            571485 non-null int64\n",
            "CO_MUNICIPIO                     571485 non-null int64\n",
            "CO_DISTRITO                      571485 non-null int64\n",
            "TP_DEPENDENCIA                   571485 non-null int64\n",
            "TP_LOCALIZACAO                   571485 non-null int64\n",
            "TP_CATEGORIA_ESCOLA_PRIVADA      123443 non-null float64\n",
            "IN_CONVENIADA_PP                 123443 non-null float64\n",
            "TP_CONVENIO_PODER_PUBLICO        9852 non-null float64\n",
            "IN_MANT_ESCOLA_PRIVADA_EMP       123443 non-null float64\n",
            "IN_MANT_ESCOLA_PRIVADA_ONG       123443 non-null float64\n",
            "IN_MANT_ESCOLA_PRIVADA_SIND      123443 non-null float64\n",
            "IN_MANT_ESCOLA_PRIVADA_SIST_S    123443 non-null float64\n",
            "IN_MANT_ESCOLA_PRIVADA_S_FINS    123443 non-null float64\n",
            "TP_REGULAMENTACAO                571485 non-null int64\n",
            "TP_LOCALIZACAO_DIFERENCIADA      571485 non-null int64\n",
            "IN_EDUCACAO_INDIGENA             571485 non-null int64\n",
            "dtypes: float64(49), int64(43)\n",
            "memory usage: 401.1 MB\n"
          ],
          "name": "stdout"
        }
      ]
    },
    {
      "cell_type": "code",
      "metadata": {
        "id": "O85stM9pzuWh",
        "colab_type": "code",
        "outputId": "4b1a1408-0d88-4677-9b70-0aedbe2030de",
        "colab": {
          "base_uri": "https://localhost:8080/",
          "height": 1000
        }
      },
      "source": [
        "matriculas_2017.info()"
      ],
      "execution_count": 0,
      "outputs": [
        {
          "output_type": "stream",
          "text": [
            "<class 'pandas.core.frame.DataFrame'>\n",
            "RangeIndex: 552292 entries, 0 to 552291\n",
            "Data columns (total 92 columns):\n",
            "NU_ANO_CENSO                     552292 non-null int64\n",
            "ID_MATRICULA                     552292 non-null int64\n",
            "CO_PESSOA_FISICA                 552292 non-null int64\n",
            "NU_DIA                           552292 non-null int64\n",
            "NU_MES                           552292 non-null int64\n",
            "NU_ANO                           552292 non-null int64\n",
            "NU_IDADE_REFERENCIA              552292 non-null int64\n",
            "NU_IDADE                         552292 non-null int64\n",
            "NU_DURACAO_TURMA                 552292 non-null int64\n",
            "NU_DUR_ATIV_COMP_MESMA_REDE      552292 non-null int64\n",
            "NU_DUR_ATIV_COMP_OUTRAS_REDES    552292 non-null int64\n",
            "NU_DUR_AEE_MESMA_REDE            552292 non-null int64\n",
            "NU_DUR_AEE_OUTRAS_REDES          552292 non-null int64\n",
            "NU_DIAS_ATIVIDADE                552292 non-null int64\n",
            "TP_SEXO                          552292 non-null int64\n",
            "TP_COR_RACA                      552292 non-null int64\n",
            "TP_NACIONALIDADE                 552292 non-null int64\n",
            "CO_PAIS_ORIGEM                   552292 non-null int64\n",
            "CO_UF_NASC                       551006 non-null float64\n",
            "CO_MUNICIPIO_NASC                551006 non-null float64\n",
            "CO_UF_END                        142092 non-null float64\n",
            "CO_MUNICIPIO_END                 142092 non-null float64\n",
            "TP_ZONA_RESIDENCIAL              552292 non-null int64\n",
            "TP_OUTRO_LOCAL_AULA              552292 non-null int64\n",
            "IN_TRANSPORTE_PUBLICO            552292 non-null int64\n",
            "TP_RESPONSAVEL_TRANSPORTE        297606 non-null float64\n",
            "IN_TRANSP_VANS_KOMBI             297606 non-null float64\n",
            "IN_TRANSP_MICRO_ONIBUS           297606 non-null float64\n",
            "IN_TRANSP_ONIBUS                 297606 non-null float64\n",
            "IN_TRANSP_BICICLETA              297606 non-null float64\n",
            "IN_TRANSP_TR_ANIMAL              297606 non-null float64\n",
            "IN_TRANSP_OUTRO_VEICULO          297606 non-null float64\n",
            "IN_TRANSP_EMBAR_ATE5             297606 non-null float64\n",
            "IN_TRANSP_EMBAR_5A15             297606 non-null float64\n",
            "IN_TRANSP_EMBAR_15A35            297606 non-null float64\n",
            "IN_TRANSP_EMBAR_35               297606 non-null float64\n",
            "IN_TRANSP_TREM_METRO             297606 non-null float64\n",
            "IN_NECESSIDADE_ESPECIAL          552292 non-null int64\n",
            "IN_CEGUEIRA                      3762 non-null float64\n",
            "IN_BAIXA_VISAO                   3762 non-null float64\n",
            "IN_SURDEZ                        3762 non-null float64\n",
            "IN_DEF_AUDITIVA                  3762 non-null float64\n",
            "IN_SURDOCEGUEIRA                 3762 non-null float64\n",
            "IN_DEF_FISICA                    3762 non-null float64\n",
            "IN_DEF_INTELECTUAL               3762 non-null float64\n",
            "IN_DEF_MULTIPLA                  3762 non-null float64\n",
            "IN_AUTISMO                       3762 non-null float64\n",
            "IN_SINDROME_ASPERGER             3762 non-null float64\n",
            "IN_SINDROME_RETT                 3762 non-null float64\n",
            "IN_TRANSTORNO_DI                 3762 non-null float64\n",
            "IN_SUPERDOTACAO                  3762 non-null float64\n",
            "IN_RECURSO_LEDOR                 3310 non-null float64\n",
            "IN_RECURSO_TRANSCRICAO           3310 non-null float64\n",
            "IN_RECURSO_INTERPRETE            3310 non-null float64\n",
            "IN_RECURSO_LIBRAS                3310 non-null float64\n",
            "IN_RECURSO_LABIAL                3310 non-null float64\n",
            "IN_RECURSO_BRAILLE               3310 non-null float64\n",
            "IN_RECURSO_AMPLIADA_16           3310 non-null float64\n",
            "IN_RECURSO_AMPLIADA_20           3310 non-null float64\n",
            "IN_RECURSO_AMPLIADA_24           3310 non-null float64\n",
            "IN_RECURSO_NENHUM                3310 non-null float64\n",
            "TP_INGRESSO_FEDERAIS             13077 non-null float64\n",
            "TP_MEDIACAO_DIDATICO_PEDAGO      552292 non-null int64\n",
            "IN_ESPECIAL_EXCLUSIVA            552292 non-null int64\n",
            "IN_REGULAR                       552292 non-null int64\n",
            "IN_EJA                           552292 non-null int64\n",
            "IN_PROFISSIONALIZANTE            552292 non-null int64\n",
            "TP_ETAPA_ENSINO                  552292 non-null int64\n",
            "ID_TURMA                         552292 non-null int64\n",
            "CO_CURSO_EDUC_PROFISSIONAL       27582 non-null float64\n",
            "TP_UNIFICADA                     552292 non-null int64\n",
            "TP_TIPO_TURMA                    552292 non-null int64\n",
            "CO_ENTIDADE                      552292 non-null int64\n",
            "CO_REGIAO                        552292 non-null int64\n",
            "CO_MESORREGIAO                   552292 non-null int64\n",
            "CO_MICRORREGIAO                  552292 non-null int64\n",
            "CO_UF                            552292 non-null int64\n",
            "CO_MUNICIPIO                     552292 non-null int64\n",
            "CO_DISTRITO                      552292 non-null int64\n",
            "TP_DEPENDENCIA                   552292 non-null int64\n",
            "TP_LOCALIZACAO                   552292 non-null int64\n",
            "TP_CATEGORIA_ESCOLA_PRIVADA      123574 non-null float64\n",
            "IN_CONVENIADA_PP                 123574 non-null float64\n",
            "TP_CONVENIO_PODER_PUBLICO        7989 non-null float64\n",
            "IN_MANT_ESCOLA_PRIVADA_EMP       123574 non-null float64\n",
            "IN_MANT_ESCOLA_PRIVADA_ONG       123574 non-null float64\n",
            "IN_MANT_ESCOLA_PRIVADA_SIND      123574 non-null float64\n",
            "IN_MANT_ESCOLA_PRIVADA_SIST_S    123574 non-null float64\n",
            "IN_MANT_ESCOLA_PRIVADA_S_FINS    123574 non-null float64\n",
            "TP_REGULAMENTACAO                552292 non-null int64\n",
            "TP_LOCALIZACAO_DIFERENCIADA      552292 non-null int64\n",
            "IN_EDUCACAO_INDIGENA             552292 non-null int64\n",
            "dtypes: float64(49), int64(43)\n",
            "memory usage: 387.7 MB\n"
          ],
          "name": "stdout"
        }
      ]
    },
    {
      "cell_type": "code",
      "metadata": {
        "id": "hxaqMVO3z0c8",
        "colab_type": "code",
        "outputId": "e245d2f6-7d8b-404a-fdad-fae6d149e592",
        "colab": {
          "base_uri": "https://localhost:8080/",
          "height": 1000
        }
      },
      "source": [
        "matriculas_2018.info()"
      ],
      "execution_count": 0,
      "outputs": [
        {
          "output_type": "stream",
          "text": [
            "<class 'pandas.core.frame.DataFrame'>\n",
            "RangeIndex: 551637 entries, 0 to 551636\n",
            "Data columns (total 92 columns):\n",
            "NU_ANO_CENSO                     551637 non-null int64\n",
            "ID_ALUNO                         551637 non-null object\n",
            "ID_MATRICULA                     551637 non-null int64\n",
            "NU_DIA                           551637 non-null int64\n",
            "NU_MES                           551637 non-null int64\n",
            "NU_ANO                           551637 non-null int64\n",
            "NU_IDADE_REFERENCIA              551637 non-null int64\n",
            "NU_IDADE                         551637 non-null int64\n",
            "NU_DURACAO_TURMA                 551637 non-null int64\n",
            "NU_DUR_ATIV_COMP_MESMA_REDE      551637 non-null int64\n",
            "NU_DUR_ATIV_COMP_OUTRAS_REDES    551637 non-null int64\n",
            "NU_DUR_AEE_MESMA_REDE            551637 non-null int64\n",
            "NU_DUR_AEE_OUTRAS_REDES          551637 non-null int64\n",
            "NU_DIAS_ATIVIDADE                551637 non-null int64\n",
            "TP_SEXO                          551637 non-null int64\n",
            "TP_COR_RACA                      551637 non-null int64\n",
            "TP_NACIONALIDADE                 551637 non-null int64\n",
            "CO_PAIS_ORIGEM                   551637 non-null int64\n",
            "CO_UF_NASC                       550440 non-null float64\n",
            "CO_MUNICIPIO_NASC                550440 non-null float64\n",
            "CO_UF_END                        154423 non-null float64\n",
            "CO_MUNICIPIO_END                 154423 non-null float64\n",
            "TP_ZONA_RESIDENCIAL              551637 non-null int64\n",
            "TP_OUTRO_LOCAL_AULA              551637 non-null int64\n",
            "IN_TRANSPORTE_PUBLICO            551637 non-null int64\n",
            "TP_RESPONSAVEL_TRANSPORTE        303780 non-null float64\n",
            "IN_TRANSP_VANS_KOMBI             303780 non-null float64\n",
            "IN_TRANSP_MICRO_ONIBUS           303780 non-null float64\n",
            "IN_TRANSP_ONIBUS                 303780 non-null float64\n",
            "IN_TRANSP_BICICLETA              303780 non-null float64\n",
            "IN_TRANSP_TR_ANIMAL              303780 non-null float64\n",
            "IN_TRANSP_OUTRO_VEICULO          303780 non-null float64\n",
            "IN_TRANSP_EMBAR_ATE5             303780 non-null float64\n",
            "IN_TRANSP_EMBAR_5A15             303780 non-null float64\n",
            "IN_TRANSP_EMBAR_15A35            303780 non-null float64\n",
            "IN_TRANSP_EMBAR_35               303780 non-null float64\n",
            "IN_TRANSP_TREM_METRO             303780 non-null float64\n",
            "IN_NECESSIDADE_ESPECIAL          551637 non-null int64\n",
            "IN_CEGUEIRA                      5010 non-null float64\n",
            "IN_BAIXA_VISAO                   5010 non-null float64\n",
            "IN_SURDEZ                        5010 non-null float64\n",
            "IN_DEF_AUDITIVA                  5010 non-null float64\n",
            "IN_SURDOCEGUEIRA                 5010 non-null float64\n",
            "IN_DEF_FISICA                    5010 non-null float64\n",
            "IN_DEF_INTELECTUAL               5010 non-null float64\n",
            "IN_DEF_MULTIPLA                  5010 non-null float64\n",
            "IN_AUTISMO                       5010 non-null float64\n",
            "IN_SINDROME_ASPERGER             5010 non-null float64\n",
            "IN_SINDROME_RETT                 5010 non-null float64\n",
            "IN_TRANSTORNO_DI                 5010 non-null float64\n",
            "IN_SUPERDOTACAO                  5010 non-null float64\n",
            "IN_RECURSO_LEDOR                 5010 non-null float64\n",
            "IN_RECURSO_TRANSCRICAO           5010 non-null float64\n",
            "IN_RECURSO_INTERPRETE            5010 non-null float64\n",
            "IN_RECURSO_LIBRAS                5010 non-null float64\n",
            "IN_RECURSO_LABIAL                5010 non-null float64\n",
            "IN_RECURSO_BRAILLE               5010 non-null float64\n",
            "IN_RECURSO_AMPLIADA_16           5010 non-null float64\n",
            "IN_RECURSO_AMPLIADA_20           5010 non-null float64\n",
            "IN_RECURSO_AMPLIADA_24           5010 non-null float64\n",
            "IN_RECURSO_NENHUM                5010 non-null float64\n",
            "TP_INGRESSO_FEDERAIS             14318 non-null float64\n",
            "TP_MEDIACAO_DIDATICO_PEDAGO      551637 non-null int64\n",
            "IN_ESPECIAL_EXCLUSIVA            551637 non-null int64\n",
            "IN_REGULAR                       551637 non-null int64\n",
            "IN_EJA                           551637 non-null int64\n",
            "IN_PROFISSIONALIZANTE            551637 non-null int64\n",
            "TP_ETAPA_ENSINO                  551637 non-null int64\n",
            "ID_TURMA                         551637 non-null int64\n",
            "CO_CURSO_EDUC_PROFISSIONAL       28761 non-null float64\n",
            "TP_UNIFICADA                     551637 non-null int64\n",
            "TP_TIPO_TURMA                    551637 non-null int64\n",
            "CO_ENTIDADE                      551637 non-null int64\n",
            "CO_REGIAO                        551637 non-null int64\n",
            "CO_MESORREGIAO                   551637 non-null int64\n",
            "CO_MICRORREGIAO                  551637 non-null int64\n",
            "CO_UF                            551637 non-null int64\n",
            "CO_MUNICIPIO                     551637 non-null int64\n",
            "CO_DISTRITO                      551637 non-null int64\n",
            "TP_DEPENDENCIA                   551637 non-null int64\n",
            "TP_LOCALIZACAO                   551637 non-null int64\n",
            "TP_CATEGORIA_ESCOLA_PRIVADA      119512 non-null float64\n",
            "IN_CONVENIADA_PP                 119512 non-null float64\n",
            "TP_CONVENIO_PODER_PUBLICO        2303 non-null float64\n",
            "IN_MANT_ESCOLA_PRIVADA_EMP       119512 non-null float64\n",
            "IN_MANT_ESCOLA_PRIVADA_ONG       119512 non-null float64\n",
            "IN_MANT_ESCOLA_PRIVADA_SIND      119512 non-null float64\n",
            "IN_MANT_ESCOLA_PRIVADA_SIST_S    119512 non-null float64\n",
            "IN_MANT_ESCOLA_PRIVADA_S_FINS    119512 non-null float64\n",
            "TP_REGULAMENTACAO                551637 non-null int64\n",
            "TP_LOCALIZACAO_DIFERENCIADA      551637 non-null int64\n",
            "IN_EDUCACAO_INDIGENA             551637 non-null int64\n",
            "dtypes: float64(49), int64(42), object(1)\n",
            "memory usage: 387.2+ MB\n"
          ],
          "name": "stdout"
        }
      ]
    },
    {
      "cell_type": "code",
      "metadata": {
        "id": "t3qgZ--ni_NQ",
        "colab_type": "code",
        "colab": {}
      },
      "source": [
        "matriculas_2016['NEW_ID_ALUNO'] = matriculas_2016[['CO_PESSOA_FISICA', 'CO_MUNICIPIO_NASC']].applymap(hash)"
      ],
      "execution_count": 0,
      "outputs": []
    },
    {
      "cell_type": "code",
      "metadata": {
        "id": "kDeHb1XXjTlD",
        "colab_type": "code",
        "outputId": "6d8016f9-7827-4647-8178-4b6fced49c96",
        "colab": {
          "base_uri": "https://localhost:8080/",
          "height": 374
        }
      },
      "source": [
        "matriculas_2016['CO_PESSOA_FISICA'].value_counts()[:20]"
      ],
      "execution_count": 0,
      "outputs": [
        {
          "output_type": "execute_result",
          "data": {
            "text/plain": [
              "114123381587    2\n",
              "110029660431    2\n",
              "114960643306    2\n",
              "111754323269    2\n",
              "116408651363    2\n",
              "119012753960    2\n",
              "115444401540    2\n",
              "112293673730    2\n",
              "121211240044    2\n",
              "113280988500    2\n",
              "113641726742    2\n",
              "113036612920    2\n",
              "122117799301    2\n",
              "112293899119    2\n",
              "113990418008    2\n",
              "110730217778    2\n",
              "111828809674    2\n",
              "116683952743    2\n",
              "110093093828    2\n",
              "117090356093    2\n",
              "Name: CO_PESSOA_FISICA, dtype: int64"
            ]
          },
          "metadata": {
            "tags": []
          },
          "execution_count": 85
        }
      ]
    },
    {
      "cell_type": "code",
      "metadata": {
        "id": "10fgvrqxjeE4",
        "colab_type": "code",
        "outputId": "911f84bd-1017-4684-febf-f06303a77bf5",
        "colab": {
          "base_uri": "https://localhost:8080/",
          "height": 374
        }
      },
      "source": [
        "matriculas_2016['NEW_ID_ALUNO'].value_counts()[:20]"
      ],
      "execution_count": 0,
      "outputs": [
        {
          "output_type": "execute_result",
          "data": {
            "text/plain": [
              "114123381587    2\n",
              "110029660431    2\n",
              "114960643306    2\n",
              "111754323269    2\n",
              "116408651363    2\n",
              "119012753960    2\n",
              "115444401540    2\n",
              "112293673730    2\n",
              "121211240044    2\n",
              "113280988500    2\n",
              "113641726742    2\n",
              "113036612920    2\n",
              "122117799301    2\n",
              "112293899119    2\n",
              "113990418008    2\n",
              "110730217778    2\n",
              "111828809674    2\n",
              "116683952743    2\n",
              "110093093828    2\n",
              "117090356093    2\n",
              "Name: NEW_ID_ALUNO, dtype: int64"
            ]
          },
          "metadata": {
            "tags": []
          },
          "execution_count": 86
        }
      ]
    },
    {
      "cell_type": "markdown",
      "metadata": {
        "id": "rHk0cBzDf_JG",
        "colab_type": "text"
      },
      "source": [
        "## Etapa de ensino\n",
        "\n",
        "Pelos dicionários de dados no ANEXO I das respectivas bases, a numeração se mantém a mesma nos 3 anos."
      ]
    },
    {
      "cell_type": "code",
      "metadata": {
        "id": "gDETeMPVgMGU",
        "colab_type": "code",
        "colab": {}
      },
      "source": [
        "dicio_path = os.getcwd()+'/drive/My Drive/TCC EMAp/files/dados info 2018/ANEXOS/ANEXO I - Dicion†rio de Dados e Tabelas Auxiliares/Dicion†rio de Dados da Educaá∆o B†sica.xlsx'\n",
        "etapas = pd.read_excel(dicio_path, sheet_name='Tabela Etapa de Ensino', skiprows=5)"
      ],
      "execution_count": 0,
      "outputs": []
    },
    {
      "cell_type": "code",
      "metadata": {
        "id": "JEOnsYQ6hZGj",
        "colab_type": "code",
        "outputId": "8c1e6e17-0a06-46f4-9912-22971302d064",
        "colab": {
          "base_uri": "https://localhost:8080/",
          "height": 391
        }
      },
      "source": [
        "etapas.info()"
      ],
      "execution_count": 0,
      "outputs": [
        {
          "output_type": "stream",
          "text": [
            "<class 'pandas.core.frame.DataFrame'>\n",
            "RangeIndex: 56 entries, 0 to 55\n",
            "Data columns (total 17 columns):\n",
            "Código                                52 non-null float64\n",
            "Nome Etapa                            52 non-null object\n",
            "Coleta por ano (\"s\"=sim;\"-\"=não )     53 non-null object\n",
            "Unnamed: 3                            53 non-null object\n",
            "Unnamed: 4                            53 non-null object\n",
            "Unnamed: 5                            53 non-null object\n",
            "Unnamed: 6                            53 non-null object\n",
            "Unnamed: 7                            53 non-null object\n",
            "Unnamed: 8                            53 non-null object\n",
            "Unnamed: 9                            53 non-null object\n",
            "Unnamed: 10                           53 non-null object\n",
            "Unnamed: 11                           53 non-null object\n",
            "Unnamed: 12                           53 non-null object\n",
            "Unnamed: 13                           53 non-null object\n",
            "Unnamed: 14                           0 non-null float64\n",
            "Unnamed: 15                           0 non-null float64\n",
            "Unnamed: 16                           0 non-null float64\n",
            "dtypes: float64(4), object(13)\n",
            "memory usage: 7.5+ KB\n"
          ],
          "name": "stdout"
        }
      ]
    },
    {
      "cell_type": "code",
      "metadata": {
        "id": "r1430BbshwEh",
        "colab_type": "code",
        "outputId": "054289a9-4741-4263-a894-d79966ddfd8f",
        "colab": {
          "base_uri": "https://localhost:8080/",
          "height": 482
        }
      },
      "source": [
        "etapas.head()"
      ],
      "execution_count": 0,
      "outputs": [
        {
          "output_type": "execute_result",
          "data": {
            "text/html": [
              "<div>\n",
              "<style scoped>\n",
              "    .dataframe tbody tr th:only-of-type {\n",
              "        vertical-align: middle;\n",
              "    }\n",
              "\n",
              "    .dataframe tbody tr th {\n",
              "        vertical-align: top;\n",
              "    }\n",
              "\n",
              "    .dataframe thead th {\n",
              "        text-align: right;\n",
              "    }\n",
              "</style>\n",
              "<table border=\"1\" class=\"dataframe\">\n",
              "  <thead>\n",
              "    <tr style=\"text-align: right;\">\n",
              "      <th></th>\n",
              "      <th>Código</th>\n",
              "      <th>Nome Etapa</th>\n",
              "      <th>Coleta por ano (\"s\"=sim;\"-\"=não )</th>\n",
              "      <th>Unnamed: 3</th>\n",
              "      <th>Unnamed: 4</th>\n",
              "      <th>Unnamed: 5</th>\n",
              "      <th>Unnamed: 6</th>\n",
              "      <th>Unnamed: 7</th>\n",
              "      <th>Unnamed: 8</th>\n",
              "      <th>Unnamed: 9</th>\n",
              "      <th>Unnamed: 10</th>\n",
              "      <th>Unnamed: 11</th>\n",
              "      <th>Unnamed: 12</th>\n",
              "      <th>Unnamed: 13</th>\n",
              "      <th>Unnamed: 14</th>\n",
              "      <th>Unnamed: 15</th>\n",
              "      <th>Unnamed: 16</th>\n",
              "    </tr>\n",
              "  </thead>\n",
              "  <tbody>\n",
              "    <tr>\n",
              "      <th>0</th>\n",
              "      <td>NaN</td>\n",
              "      <td>NaN</td>\n",
              "      <td>07</td>\n",
              "      <td>08</td>\n",
              "      <td>09</td>\n",
              "      <td>10</td>\n",
              "      <td>11</td>\n",
              "      <td>12</td>\n",
              "      <td>13</td>\n",
              "      <td>14</td>\n",
              "      <td>15</td>\n",
              "      <td>16</td>\n",
              "      <td>17</td>\n",
              "      <td>18</td>\n",
              "      <td>NaN</td>\n",
              "      <td>NaN</td>\n",
              "      <td>NaN</td>\n",
              "    </tr>\n",
              "    <tr>\n",
              "      <th>1</th>\n",
              "      <td>NaN</td>\n",
              "      <td>NaN</td>\n",
              "      <td>NaN</td>\n",
              "      <td>NaN</td>\n",
              "      <td>NaN</td>\n",
              "      <td>NaN</td>\n",
              "      <td>NaN</td>\n",
              "      <td>NaN</td>\n",
              "      <td>NaN</td>\n",
              "      <td>NaN</td>\n",
              "      <td>NaN</td>\n",
              "      <td>NaN</td>\n",
              "      <td>NaN</td>\n",
              "      <td>NaN</td>\n",
              "      <td>NaN</td>\n",
              "      <td>NaN</td>\n",
              "      <td>NaN</td>\n",
              "    </tr>\n",
              "    <tr>\n",
              "      <th>2</th>\n",
              "      <td>1.0</td>\n",
              "      <td>Educação Infantil - Creche (0 a 3 anos)</td>\n",
              "      <td>s</td>\n",
              "      <td>s</td>\n",
              "      <td>s</td>\n",
              "      <td>s</td>\n",
              "      <td>s</td>\n",
              "      <td>s</td>\n",
              "      <td>s</td>\n",
              "      <td>s</td>\n",
              "      <td>s</td>\n",
              "      <td>s</td>\n",
              "      <td>s</td>\n",
              "      <td>s</td>\n",
              "      <td>NaN</td>\n",
              "      <td>NaN</td>\n",
              "      <td>NaN</td>\n",
              "    </tr>\n",
              "    <tr>\n",
              "      <th>3</th>\n",
              "      <td>2.0</td>\n",
              "      <td>Educação Infantil - Pré-escola (4 e 5 anos)</td>\n",
              "      <td>s</td>\n",
              "      <td>s</td>\n",
              "      <td>s</td>\n",
              "      <td>s</td>\n",
              "      <td>s</td>\n",
              "      <td>s</td>\n",
              "      <td>s</td>\n",
              "      <td>s</td>\n",
              "      <td>s</td>\n",
              "      <td>s</td>\n",
              "      <td>s</td>\n",
              "      <td>s</td>\n",
              "      <td>NaN</td>\n",
              "      <td>NaN</td>\n",
              "      <td>NaN</td>\n",
              "    </tr>\n",
              "    <tr>\n",
              "      <th>4</th>\n",
              "      <td>3.0</td>\n",
              "      <td>Educação Infantil - Unificada (0 a 5 anos)</td>\n",
              "      <td>s</td>\n",
              "      <td>s</td>\n",
              "      <td>s</td>\n",
              "      <td>s</td>\n",
              "      <td>s</td>\n",
              "      <td>s</td>\n",
              "      <td>s</td>\n",
              "      <td>s</td>\n",
              "      <td>s</td>\n",
              "      <td>s</td>\n",
              "      <td>s</td>\n",
              "      <td>s</td>\n",
              "      <td>NaN</td>\n",
              "      <td>NaN</td>\n",
              "      <td>NaN</td>\n",
              "    </tr>\n",
              "  </tbody>\n",
              "</table>\n",
              "</div>"
            ],
            "text/plain": [
              "   Código  ... Unnamed: 16\n",
              "0     NaN  ...         NaN\n",
              "1     NaN  ...         NaN\n",
              "2     1.0  ...         NaN\n",
              "3     2.0  ...         NaN\n",
              "4     3.0  ...         NaN\n",
              "\n",
              "[5 rows x 17 columns]"
            ]
          },
          "metadata": {
            "tags": []
          },
          "execution_count": 6
        }
      ]
    },
    {
      "cell_type": "code",
      "metadata": {
        "id": "ZH9iPPyBiKNW",
        "colab_type": "code",
        "outputId": "4be828d4-166b-4db8-d2e2-ae51bb5dfcc9",
        "colab": {
          "base_uri": "https://localhost:8080/",
          "height": 340
        }
      },
      "source": [
        "# removendo colunas sem info\n",
        "cols = etapas.columns\n",
        "etapas = etapas[cols[:-3]]\n",
        "etapas.info()"
      ],
      "execution_count": 0,
      "outputs": [
        {
          "output_type": "stream",
          "text": [
            "<class 'pandas.core.frame.DataFrame'>\n",
            "RangeIndex: 56 entries, 0 to 55\n",
            "Data columns (total 14 columns):\n",
            "Código                                52 non-null float64\n",
            "Nome Etapa                            52 non-null object\n",
            "Coleta por ano (\"s\"=sim;\"-\"=não )     53 non-null object\n",
            "Unnamed: 3                            53 non-null object\n",
            "Unnamed: 4                            53 non-null object\n",
            "Unnamed: 5                            53 non-null object\n",
            "Unnamed: 6                            53 non-null object\n",
            "Unnamed: 7                            53 non-null object\n",
            "Unnamed: 8                            53 non-null object\n",
            "Unnamed: 9                            53 non-null object\n",
            "Unnamed: 10                           53 non-null object\n",
            "Unnamed: 11                           53 non-null object\n",
            "Unnamed: 12                           53 non-null object\n",
            "Unnamed: 13                           53 non-null object\n",
            "dtypes: float64(1), object(13)\n",
            "memory usage: 6.2+ KB\n"
          ],
          "name": "stdout"
        }
      ]
    },
    {
      "cell_type": "code",
      "metadata": {
        "id": "sCKE3jkFh1_9",
        "colab_type": "code",
        "colab": {}
      },
      "source": [
        "# renomeando colunas de coleta\n",
        "cols = etapas.columns\n",
        "new_cols = list(cols[:2])+['coleta_{}'.format(i) for i in etapas.iloc[0].dropna()]\n",
        "etapas.columns = new_cols"
      ],
      "execution_count": 0,
      "outputs": []
    },
    {
      "cell_type": "code",
      "metadata": {
        "id": "su_5e4_Wjbxv",
        "colab_type": "code",
        "outputId": "74e7973b-3ba6-4c04-a63e-c3402010e42a",
        "colab": {
          "base_uri": "https://localhost:8080/",
          "height": 357
        }
      },
      "source": [
        "etapas = etapas.drop([0,1], axis=0).reset_index(drop=True)\n",
        "etapas.head()"
      ],
      "execution_count": 0,
      "outputs": [
        {
          "output_type": "execute_result",
          "data": {
            "text/html": [
              "<div>\n",
              "<style scoped>\n",
              "    .dataframe tbody tr th:only-of-type {\n",
              "        vertical-align: middle;\n",
              "    }\n",
              "\n",
              "    .dataframe tbody tr th {\n",
              "        vertical-align: top;\n",
              "    }\n",
              "\n",
              "    .dataframe thead th {\n",
              "        text-align: right;\n",
              "    }\n",
              "</style>\n",
              "<table border=\"1\" class=\"dataframe\">\n",
              "  <thead>\n",
              "    <tr style=\"text-align: right;\">\n",
              "      <th></th>\n",
              "      <th>Código</th>\n",
              "      <th>Nome Etapa</th>\n",
              "      <th>coleta_07</th>\n",
              "      <th>coleta_08</th>\n",
              "      <th>coleta_09</th>\n",
              "      <th>coleta_10</th>\n",
              "      <th>coleta_11</th>\n",
              "      <th>coleta_12</th>\n",
              "      <th>coleta_13</th>\n",
              "      <th>coleta_14</th>\n",
              "      <th>coleta_15</th>\n",
              "      <th>coleta_16</th>\n",
              "      <th>coleta_17</th>\n",
              "      <th>coleta_18</th>\n",
              "    </tr>\n",
              "  </thead>\n",
              "  <tbody>\n",
              "    <tr>\n",
              "      <th>0</th>\n",
              "      <td>1.0</td>\n",
              "      <td>Educação Infantil - Creche (0 a 3 anos)</td>\n",
              "      <td>s</td>\n",
              "      <td>s</td>\n",
              "      <td>s</td>\n",
              "      <td>s</td>\n",
              "      <td>s</td>\n",
              "      <td>s</td>\n",
              "      <td>s</td>\n",
              "      <td>s</td>\n",
              "      <td>s</td>\n",
              "      <td>s</td>\n",
              "      <td>s</td>\n",
              "      <td>s</td>\n",
              "    </tr>\n",
              "    <tr>\n",
              "      <th>1</th>\n",
              "      <td>2.0</td>\n",
              "      <td>Educação Infantil - Pré-escola (4 e 5 anos)</td>\n",
              "      <td>s</td>\n",
              "      <td>s</td>\n",
              "      <td>s</td>\n",
              "      <td>s</td>\n",
              "      <td>s</td>\n",
              "      <td>s</td>\n",
              "      <td>s</td>\n",
              "      <td>s</td>\n",
              "      <td>s</td>\n",
              "      <td>s</td>\n",
              "      <td>s</td>\n",
              "      <td>s</td>\n",
              "    </tr>\n",
              "    <tr>\n",
              "      <th>2</th>\n",
              "      <td>3.0</td>\n",
              "      <td>Educação Infantil - Unificada (0 a 5 anos)</td>\n",
              "      <td>s</td>\n",
              "      <td>s</td>\n",
              "      <td>s</td>\n",
              "      <td>s</td>\n",
              "      <td>s</td>\n",
              "      <td>s</td>\n",
              "      <td>s</td>\n",
              "      <td>s</td>\n",
              "      <td>s</td>\n",
              "      <td>s</td>\n",
              "      <td>s</td>\n",
              "      <td>s</td>\n",
              "    </tr>\n",
              "    <tr>\n",
              "      <th>3</th>\n",
              "      <td>4.0</td>\n",
              "      <td>Ensino Fundamental de 8 anos - 1ª Série</td>\n",
              "      <td>s</td>\n",
              "      <td>s</td>\n",
              "      <td>s</td>\n",
              "      <td>s</td>\n",
              "      <td>s</td>\n",
              "      <td>s</td>\n",
              "      <td>s</td>\n",
              "      <td>s</td>\n",
              "      <td>s</td>\n",
              "      <td>s</td>\n",
              "      <td>s</td>\n",
              "      <td>s</td>\n",
              "    </tr>\n",
              "    <tr>\n",
              "      <th>4</th>\n",
              "      <td>5.0</td>\n",
              "      <td>Ensino Fundamental de 8 anos - 2ª Série</td>\n",
              "      <td>s</td>\n",
              "      <td>s</td>\n",
              "      <td>s</td>\n",
              "      <td>s</td>\n",
              "      <td>s</td>\n",
              "      <td>s</td>\n",
              "      <td>s</td>\n",
              "      <td>s</td>\n",
              "      <td>s</td>\n",
              "      <td>s</td>\n",
              "      <td>s</td>\n",
              "      <td>s</td>\n",
              "    </tr>\n",
              "  </tbody>\n",
              "</table>\n",
              "</div>"
            ],
            "text/plain": [
              "   Código                                   Nome Etapa  ... coleta_17 coleta_18\n",
              "0     1.0      Educação Infantil - Creche (0 a 3 anos)  ...         s         s\n",
              "1     2.0  Educação Infantil - Pré-escola (4 e 5 anos)  ...         s         s\n",
              "2     3.0   Educação Infantil - Unificada (0 a 5 anos)  ...         s         s\n",
              "3     4.0      Ensino Fundamental de 8 anos - 1ª Série  ...         s         s\n",
              "4     5.0      Ensino Fundamental de 8 anos - 2ª Série  ...         s         s\n",
              "\n",
              "[5 rows x 14 columns]"
            ]
          },
          "metadata": {
            "tags": []
          },
          "execution_count": 9
        }
      ]
    },
    {
      "cell_type": "code",
      "metadata": {
        "id": "DqFZgAI7hgi5",
        "colab_type": "code",
        "outputId": "11bf26c3-032a-4c9c-fc22-652e9c6e058e",
        "colab": {
          "base_uri": "https://localhost:8080/",
          "height": 614
        }
      },
      "source": [
        "etapas_EM = etapas[etapas['Código'].isin(matriculas_2018['TP_ETAPA_ENSINO'])]\n",
        "etapas_EM"
      ],
      "execution_count": 0,
      "outputs": [
        {
          "output_type": "execute_result",
          "data": {
            "text/html": [
              "<div>\n",
              "<style scoped>\n",
              "    .dataframe tbody tr th:only-of-type {\n",
              "        vertical-align: middle;\n",
              "    }\n",
              "\n",
              "    .dataframe tbody tr th {\n",
              "        vertical-align: top;\n",
              "    }\n",
              "\n",
              "    .dataframe thead th {\n",
              "        text-align: right;\n",
              "    }\n",
              "</style>\n",
              "<table border=\"1\" class=\"dataframe\">\n",
              "  <thead>\n",
              "    <tr style=\"text-align: right;\">\n",
              "      <th></th>\n",
              "      <th>Código</th>\n",
              "      <th>Nome Etapa</th>\n",
              "      <th>coleta_07</th>\n",
              "      <th>coleta_08</th>\n",
              "      <th>coleta_09</th>\n",
              "      <th>coleta_10</th>\n",
              "      <th>coleta_11</th>\n",
              "      <th>coleta_12</th>\n",
              "      <th>coleta_13</th>\n",
              "      <th>coleta_14</th>\n",
              "      <th>coleta_15</th>\n",
              "      <th>coleta_16</th>\n",
              "      <th>coleta_17</th>\n",
              "      <th>coleta_18</th>\n",
              "    </tr>\n",
              "  </thead>\n",
              "  <tbody>\n",
              "    <tr>\n",
              "      <th>24</th>\n",
              "      <td>25.0</td>\n",
              "      <td>Ensino Médio - 1ª Série</td>\n",
              "      <td>s</td>\n",
              "      <td>s</td>\n",
              "      <td>s</td>\n",
              "      <td>s</td>\n",
              "      <td>s</td>\n",
              "      <td>s</td>\n",
              "      <td>s</td>\n",
              "      <td>s</td>\n",
              "      <td>s</td>\n",
              "      <td>s</td>\n",
              "      <td>s</td>\n",
              "      <td>s</td>\n",
              "    </tr>\n",
              "    <tr>\n",
              "      <th>25</th>\n",
              "      <td>26.0</td>\n",
              "      <td>Ensino Médio - 2ª Série</td>\n",
              "      <td>s</td>\n",
              "      <td>s</td>\n",
              "      <td>s</td>\n",
              "      <td>s</td>\n",
              "      <td>s</td>\n",
              "      <td>s</td>\n",
              "      <td>s</td>\n",
              "      <td>s</td>\n",
              "      <td>s</td>\n",
              "      <td>s</td>\n",
              "      <td>s</td>\n",
              "      <td>s</td>\n",
              "    </tr>\n",
              "    <tr>\n",
              "      <th>26</th>\n",
              "      <td>27.0</td>\n",
              "      <td>Ensino Médio - 3ª Série</td>\n",
              "      <td>s</td>\n",
              "      <td>s</td>\n",
              "      <td>s</td>\n",
              "      <td>s</td>\n",
              "      <td>s</td>\n",
              "      <td>s</td>\n",
              "      <td>s</td>\n",
              "      <td>s</td>\n",
              "      <td>s</td>\n",
              "      <td>s</td>\n",
              "      <td>s</td>\n",
              "      <td>s</td>\n",
              "    </tr>\n",
              "    <tr>\n",
              "      <th>27</th>\n",
              "      <td>28.0</td>\n",
              "      <td>Ensino Médio - 4ª Série</td>\n",
              "      <td>s</td>\n",
              "      <td>s</td>\n",
              "      <td>s</td>\n",
              "      <td>s</td>\n",
              "      <td>s</td>\n",
              "      <td>s</td>\n",
              "      <td>s</td>\n",
              "      <td>s</td>\n",
              "      <td>s</td>\n",
              "      <td>s</td>\n",
              "      <td>s</td>\n",
              "      <td>s</td>\n",
              "    </tr>\n",
              "    <tr>\n",
              "      <th>28</th>\n",
              "      <td>29.0</td>\n",
              "      <td>Ensino Médio - Não Seriada</td>\n",
              "      <td>s</td>\n",
              "      <td>s</td>\n",
              "      <td>s</td>\n",
              "      <td>s</td>\n",
              "      <td>s</td>\n",
              "      <td>s</td>\n",
              "      <td>s</td>\n",
              "      <td>s</td>\n",
              "      <td>s</td>\n",
              "      <td>s</td>\n",
              "      <td>s</td>\n",
              "      <td>s</td>\n",
              "    </tr>\n",
              "    <tr>\n",
              "      <th>29</th>\n",
              "      <td>30.0</td>\n",
              "      <td>Curso Técnico Integrado (Ensino Médio Integrad...</td>\n",
              "      <td>s</td>\n",
              "      <td>s</td>\n",
              "      <td>s</td>\n",
              "      <td>s</td>\n",
              "      <td>s</td>\n",
              "      <td>s</td>\n",
              "      <td>s</td>\n",
              "      <td>s</td>\n",
              "      <td>s</td>\n",
              "      <td>s</td>\n",
              "      <td>s</td>\n",
              "      <td>s</td>\n",
              "    </tr>\n",
              "    <tr>\n",
              "      <th>30</th>\n",
              "      <td>31.0</td>\n",
              "      <td>Curso Técnico Integrado (Ensino Médio Integrad...</td>\n",
              "      <td>s</td>\n",
              "      <td>s</td>\n",
              "      <td>s</td>\n",
              "      <td>s</td>\n",
              "      <td>s</td>\n",
              "      <td>s</td>\n",
              "      <td>s</td>\n",
              "      <td>s</td>\n",
              "      <td>s</td>\n",
              "      <td>s</td>\n",
              "      <td>s</td>\n",
              "      <td>s</td>\n",
              "    </tr>\n",
              "    <tr>\n",
              "      <th>31</th>\n",
              "      <td>32.0</td>\n",
              "      <td>Curso Técnico Integrado (Ensino Médio Integrad...</td>\n",
              "      <td>s</td>\n",
              "      <td>s</td>\n",
              "      <td>s</td>\n",
              "      <td>s</td>\n",
              "      <td>s</td>\n",
              "      <td>s</td>\n",
              "      <td>s</td>\n",
              "      <td>s</td>\n",
              "      <td>s</td>\n",
              "      <td>s</td>\n",
              "      <td>s</td>\n",
              "      <td>s</td>\n",
              "    </tr>\n",
              "    <tr>\n",
              "      <th>32</th>\n",
              "      <td>33.0</td>\n",
              "      <td>Curso Técnico Integrado (Ensino Médio Integrad...</td>\n",
              "      <td>s</td>\n",
              "      <td>s</td>\n",
              "      <td>s</td>\n",
              "      <td>s</td>\n",
              "      <td>s</td>\n",
              "      <td>s</td>\n",
              "      <td>s</td>\n",
              "      <td>s</td>\n",
              "      <td>s</td>\n",
              "      <td>s</td>\n",
              "      <td>s</td>\n",
              "      <td>s</td>\n",
              "    </tr>\n",
              "    <tr>\n",
              "      <th>33</th>\n",
              "      <td>34.0</td>\n",
              "      <td>Curso Técnico Integrado (Ensino Médio Integrad...</td>\n",
              "      <td>s</td>\n",
              "      <td>s</td>\n",
              "      <td>s</td>\n",
              "      <td>s</td>\n",
              "      <td>s</td>\n",
              "      <td>s</td>\n",
              "      <td>s</td>\n",
              "      <td>s</td>\n",
              "      <td>s</td>\n",
              "      <td>s</td>\n",
              "      <td>s</td>\n",
              "      <td>s</td>\n",
              "    </tr>\n",
              "  </tbody>\n",
              "</table>\n",
              "</div>"
            ],
            "text/plain": [
              "    Código  ... coleta_18\n",
              "24    25.0  ...         s\n",
              "25    26.0  ...         s\n",
              "26    27.0  ...         s\n",
              "27    28.0  ...         s\n",
              "28    29.0  ...         s\n",
              "29    30.0  ...         s\n",
              "30    31.0  ...         s\n",
              "31    32.0  ...         s\n",
              "32    33.0  ...         s\n",
              "33    34.0  ...         s\n",
              "\n",
              "[10 rows x 14 columns]"
            ]
          },
          "metadata": {
            "tags": []
          },
          "execution_count": 10
        }
      ]
    },
    {
      "cell_type": "code",
      "metadata": {
        "id": "VIJn_Vy4lZyx",
        "colab_type": "code",
        "colab": {}
      },
      "source": [
        "matriculas_2016 = matriculas_2016.merge(etapas_EM[['Código', 'Nome Etapa']], \n",
        "                                        left_on='TP_ETAPA_ENSINO', \n",
        "                                        right_on='Código')\n",
        "\n",
        "matriculas_2017 = matriculas_2017.merge(etapas_EM[['Código', 'Nome Etapa']], \n",
        "                                        left_on='TP_ETAPA_ENSINO', \n",
        "                                        right_on='Código')\n",
        "\n",
        "matriculas_2018 = matriculas_2018.merge(etapas_EM[['Código', 'Nome Etapa']], \n",
        "                                        left_on='TP_ETAPA_ENSINO', \n",
        "                                        right_on='Código')"
      ],
      "execution_count": 0,
      "outputs": []
    },
    {
      "cell_type": "markdown",
      "metadata": {
        "id": "cxh-iB9kbYoP",
        "colab_type": "text"
      },
      "source": [
        "## Checagens"
      ]
    },
    {
      "cell_type": "markdown",
      "metadata": {
        "id": "MaOpSLg_bt6C",
        "colab_type": "text"
      },
      "source": [
        "### Identificação única"
      ]
    },
    {
      "cell_type": "markdown",
      "metadata": {
        "id": "6Fx0dmkxdZUH",
        "colab_type": "text"
      },
      "source": [
        "#### ID_MATRICULA: Não constante\n",
        "\n",
        "Deve ser a mesma ao longo dos anos\n",
        "\n",
        "- `ID_MATRICULA` varia entre os anos (ver mais em [2017](#Matrículas-2017))"
      ]
    },
    {
      "cell_type": "code",
      "metadata": {
        "id": "a6tkNu5jPBhD",
        "colab_type": "code",
        "outputId": "51ab286e-ccff-4c79-dfbf-8e8d46085b2d",
        "colab": {
          "base_uri": "https://localhost:8080/",
          "height": 68
        }
      },
      "source": [
        "# t1 = matriculas_2018[matriculas_2018['TP_TIPO_TURMA'].isin([4,5]) == False]\n",
        "matriculas_2017['TP_TIPO_TURMA'].value_counts()"
      ],
      "execution_count": 0,
      "outputs": [
        {
          "output_type": "execute_result",
          "data": {
            "text/plain": [
              "0    552152\n",
              "2       140\n",
              "Name: TP_TIPO_TURMA, dtype: int64"
            ]
          },
          "metadata": {
            "tags": []
          },
          "execution_count": 12
        }
      ]
    },
    {
      "cell_type": "code",
      "metadata": {
        "id": "JXexBfyJYfhk",
        "colab_type": "code",
        "outputId": "d58b1910-cbcf-4677-9ba8-02f3d636a9fe",
        "colab": {
          "base_uri": "https://localhost:8080/",
          "height": 204
        }
      },
      "source": [
        "# verificando id_matricula 2017 -> 2018\n",
        "t1 = matriculas_2018[matriculas_2018['ID_MATRICULA'].isin(matriculas_2017['ID_MATRICULA'])]\n",
        "t1['Nome Etapa'].value_counts()"
      ],
      "execution_count": 0,
      "outputs": [
        {
          "output_type": "execute_result",
          "data": {
            "text/plain": [
              "Ensino Médio - 2ª Série                                         21486\n",
              "Ensino Médio - 3ª Série                                         20314\n",
              "Curso Técnico Integrado (Ensino Médio Integrado) 3ª Série        3603\n",
              "Curso Técnico Integrado (Ensino Médio Integrado) 2ª Série        3140\n",
              "Curso Técnico Integrado (Ensino Médio Integrado) 4ª Série         977\n",
              "Curso Técnico Integrado (Ensino Médio Integrado) 1ª Série         731\n",
              "Ensino Médio - 1ª Série                                           599\n",
              "Curso Técnico Integrado (Ensino Médio Integrado) Não Seriada      190\n",
              "Ensino Médio - Não Seriada                                        139\n",
              "Ensino Médio - 4ª Série                                             1\n",
              "Name: Nome Etapa, dtype: int64"
            ]
          },
          "metadata": {
            "tags": []
          },
          "execution_count": 13
        }
      ]
    },
    {
      "cell_type": "code",
      "metadata": {
        "id": "o3s428rUYqVM",
        "colab_type": "code",
        "outputId": "c09d0979-c4f1-4fa5-cab5-289e9c9e53ca",
        "colab": {
          "base_uri": "https://localhost:8080/",
          "height": 204
        }
      },
      "source": [
        "t1['Nome Etapa'].value_counts()/matriculas_2018['Nome Etapa'].value_counts()"
      ],
      "execution_count": 0,
      "outputs": [
        {
          "output_type": "execute_result",
          "data": {
            "text/plain": [
              "Curso Técnico Integrado (Ensino Médio Integrado) 1ª Série       0.078224\n",
              "Curso Técnico Integrado (Ensino Médio Integrado) 2ª Série       0.492781\n",
              "Curso Técnico Integrado (Ensino Médio Integrado) 3ª Série       0.524149\n",
              "Curso Técnico Integrado (Ensino Médio Integrado) 4ª Série       0.837189\n",
              "Curso Técnico Integrado (Ensino Médio Integrado) Não Seriada    0.037977\n",
              "Ensino Médio - 1ª Série                                         0.002827\n",
              "Ensino Médio - 2ª Série                                         0.127231\n",
              "Ensino Médio - 3ª Série                                         0.143934\n",
              "Ensino Médio - 4ª Série                                         0.250000\n",
              "Ensino Médio - Não Seriada                                      0.144041\n",
              "Name: Nome Etapa, dtype: float64"
            ]
          },
          "metadata": {
            "tags": []
          },
          "execution_count": 14
        }
      ]
    },
    {
      "cell_type": "code",
      "metadata": {
        "id": "j1pAOo6vowRe",
        "colab_type": "code",
        "outputId": "f336cf31-554b-412b-f873-4bfaad294e35",
        "colab": {
          "base_uri": "https://localhost:8080/",
          "height": 187
        }
      },
      "source": [
        "# verificando id_matricula 2016 -> 2017\n",
        "t = matriculas_2017[matriculas_2017['ID_MATRICULA'].isin(matriculas_2016['ID_MATRICULA'])]\n",
        "t['Nome Etapa'].value_counts()"
      ],
      "execution_count": 0,
      "outputs": [
        {
          "output_type": "execute_result",
          "data": {
            "text/plain": [
              "Ensino Médio - 2ª Série                                         22276\n",
              "Ensino Médio - 3ª Série                                         21221\n",
              "Curso Técnico Integrado (Ensino Médio Integrado) 2ª Série        4022\n",
              "Curso Técnico Integrado (Ensino Médio Integrado) 3ª Série        3660\n",
              "Ensino Médio - 1ª Série                                           941\n",
              "Curso Técnico Integrado (Ensino Médio Integrado) 4ª Série         609\n",
              "Curso Técnico Integrado (Ensino Médio Integrado) 1ª Série         479\n",
              "Ensino Médio - Não Seriada                                        104\n",
              "Curso Técnico Integrado (Ensino Médio Integrado) Não Seriada       85\n",
              "Name: Nome Etapa, dtype: int64"
            ]
          },
          "metadata": {
            "tags": []
          },
          "execution_count": 15
        }
      ]
    },
    {
      "cell_type": "code",
      "metadata": {
        "id": "u1iwDvpOo9St",
        "colab_type": "code",
        "outputId": "eefafb07-b3df-49c9-9dc1-19a1d42824cb",
        "colab": {
          "base_uri": "https://localhost:8080/",
          "height": 204
        }
      },
      "source": [
        "t['Nome Etapa'].value_counts()/matriculas_2017['Nome Etapa'].value_counts()"
      ],
      "execution_count": 0,
      "outputs": [
        {
          "output_type": "execute_result",
          "data": {
            "text/plain": [
              "Curso Técnico Integrado (Ensino Médio Integrado) 1ª Série       0.064364\n",
              "Curso Técnico Integrado (Ensino Médio Integrado) 2ª Série       0.508470\n",
              "Curso Técnico Integrado (Ensino Médio Integrado) 3ª Série       0.550790\n",
              "Curso Técnico Integrado (Ensino Médio Integrado) 4ª Série       0.820755\n",
              "Curso Técnico Integrado (Ensino Médio Integrado) Não Seriada    0.017551\n",
              "Ensino Médio - 1ª Série                                         0.004408\n",
              "Ensino Médio - 2ª Série                                         0.133489\n",
              "Ensino Médio - 3ª Série                                         0.148033\n",
              "Ensino Médio - 4ª Série                                              NaN\n",
              "Ensino Médio - Não Seriada                                      0.105691\n",
              "Name: Nome Etapa, dtype: float64"
            ]
          },
          "metadata": {
            "tags": []
          },
          "execution_count": 16
        }
      ]
    },
    {
      "cell_type": "markdown",
      "metadata": {
        "id": "D9-u6Z1jbMzv",
        "colab_type": "text"
      },
      "source": [
        "* Se o `ID_MATRICULA` se mantivesse ao longo dos anos, a taxa de renovação de alunos, no EM 2a e EM 3a série seria muito alta (menos de 20% das matrículas são as mesmas). Vamos testar se isso é verdadeiro verificando pelo `CO_PESSOA_FISICA`:\n",
        "\n",
        " * Resultado: 84% dos alunos do EM 2a série em 2017 estão na base de 2016! Logo, o campo `ID_MATRICULA` não é único por ano."
      ]
    },
    {
      "cell_type": "code",
      "metadata": {
        "id": "-iEXow7FZOL2",
        "colab_type": "code",
        "outputId": "dc412bd6-0bb1-476d-8750-49894b05d2d7",
        "colab": {
          "base_uri": "https://localhost:8080/",
          "height": 119
        }
      },
      "source": [
        "test = matriculas_2017[matriculas_2017['Nome Etapa'] == 'Ensino Médio - 2ª Série']\n",
        "test = test[['CO_PESSOA_FISICA', 'Nome Etapa']].set_index('CO_PESSOA_FISICA', drop=True)\n",
        "test.info()"
      ],
      "execution_count": 0,
      "outputs": [
        {
          "output_type": "stream",
          "text": [
            "<class 'pandas.core.frame.DataFrame'>\n",
            "Int64Index: 166875 entries, 112659126886 to 169121741599\n",
            "Data columns (total 1 columns):\n",
            "Nome Etapa    166875 non-null object\n",
            "dtypes: object(1)\n",
            "memory usage: 2.5+ MB\n"
          ],
          "name": "stdout"
        }
      ]
    },
    {
      "cell_type": "code",
      "metadata": {
        "id": "B0FFb16nbKON",
        "colab_type": "code",
        "outputId": "49f0c286-c5ac-492e-a1af-6f60f1553c74",
        "colab": {
          "base_uri": "https://localhost:8080/",
          "height": 136
        }
      },
      "source": [
        "test = test.join(matriculas_2016[['CO_PESSOA_FISICA', 'Nome Etapa']].set_index('CO_PESSOA_FISICA', drop=True), \n",
        "                 how='left', lsuffix='_2017', rsuffix='_2016')\n",
        "test.info()"
      ],
      "execution_count": 0,
      "outputs": [
        {
          "output_type": "stream",
          "text": [
            "<class 'pandas.core.frame.DataFrame'>\n",
            "Int64Index: 167060 entries, 110003579297 to 176756868020\n",
            "Data columns (total 2 columns):\n",
            "Nome Etapa_2017    167060 non-null object\n",
            "Nome Etapa_2016    144200 non-null object\n",
            "dtypes: object(2)\n",
            "memory usage: 3.8+ MB\n"
          ],
          "name": "stdout"
        }
      ]
    },
    {
      "cell_type": "code",
      "metadata": {
        "id": "UAiD4AQocGxc",
        "colab_type": "code",
        "outputId": "125d479a-ddc6-463f-c54f-64f9d3c4ad9c",
        "colab": {
          "base_uri": "https://localhost:8080/",
          "height": 235
        }
      },
      "source": [
        "test.head()"
      ],
      "execution_count": 0,
      "outputs": [
        {
          "output_type": "execute_result",
          "data": {
            "text/html": [
              "<div>\n",
              "<style scoped>\n",
              "    .dataframe tbody tr th:only-of-type {\n",
              "        vertical-align: middle;\n",
              "    }\n",
              "\n",
              "    .dataframe tbody tr th {\n",
              "        vertical-align: top;\n",
              "    }\n",
              "\n",
              "    .dataframe thead th {\n",
              "        text-align: right;\n",
              "    }\n",
              "</style>\n",
              "<table border=\"1\" class=\"dataframe\">\n",
              "  <thead>\n",
              "    <tr style=\"text-align: right;\">\n",
              "      <th></th>\n",
              "      <th>Nome Etapa_2017</th>\n",
              "      <th>Nome Etapa_2016</th>\n",
              "    </tr>\n",
              "    <tr>\n",
              "      <th>CO_PESSOA_FISICA</th>\n",
              "      <th></th>\n",
              "      <th></th>\n",
              "    </tr>\n",
              "  </thead>\n",
              "  <tbody>\n",
              "    <tr>\n",
              "      <th>110003579297</th>\n",
              "      <td>Ensino Médio - 2ª Série</td>\n",
              "      <td>Ensino Médio - 1ª Série</td>\n",
              "    </tr>\n",
              "    <tr>\n",
              "      <th>110008747376</th>\n",
              "      <td>Ensino Médio - 2ª Série</td>\n",
              "      <td>Ensino Médio - 1ª Série</td>\n",
              "    </tr>\n",
              "    <tr>\n",
              "      <th>110009165966</th>\n",
              "      <td>Ensino Médio - 2ª Série</td>\n",
              "      <td>Ensino Médio - 1ª Série</td>\n",
              "    </tr>\n",
              "    <tr>\n",
              "      <th>110009351590</th>\n",
              "      <td>Ensino Médio - 2ª Série</td>\n",
              "      <td>Ensino Médio - 1ª Série</td>\n",
              "    </tr>\n",
              "    <tr>\n",
              "      <th>110011195842</th>\n",
              "      <td>Ensino Médio - 2ª Série</td>\n",
              "      <td>NaN</td>\n",
              "    </tr>\n",
              "  </tbody>\n",
              "</table>\n",
              "</div>"
            ],
            "text/plain": [
              "                          Nome Etapa_2017          Nome Etapa_2016\n",
              "CO_PESSOA_FISICA                                                  \n",
              "110003579297      Ensino Médio - 2ª Série  Ensino Médio - 1ª Série\n",
              "110008747376      Ensino Médio - 2ª Série  Ensino Médio - 1ª Série\n",
              "110009165966      Ensino Médio - 2ª Série  Ensino Médio - 1ª Série\n",
              "110009351590      Ensino Médio - 2ª Série  Ensino Médio - 1ª Série\n",
              "110011195842      Ensino Médio - 2ª Série                      NaN"
            ]
          },
          "metadata": {
            "tags": []
          },
          "execution_count": 19
        }
      ]
    },
    {
      "cell_type": "code",
      "metadata": {
        "id": "SupgS2KwcONT",
        "colab_type": "code",
        "outputId": "d88a62bd-5a9b-4a93-8b7a-5fd0027e2bee",
        "colab": {
          "base_uri": "https://localhost:8080/",
          "height": 328
        }
      },
      "source": [
        "test1 = test.reset_index().groupby(['Nome Etapa_2017', 'Nome Etapa_2016']).count()\n",
        "test1"
      ],
      "execution_count": 0,
      "outputs": [
        {
          "output_type": "execute_result",
          "data": {
            "text/html": [
              "<div>\n",
              "<style scoped>\n",
              "    .dataframe tbody tr th:only-of-type {\n",
              "        vertical-align: middle;\n",
              "    }\n",
              "\n",
              "    .dataframe tbody tr th {\n",
              "        vertical-align: top;\n",
              "    }\n",
              "\n",
              "    .dataframe thead th {\n",
              "        text-align: right;\n",
              "    }\n",
              "</style>\n",
              "<table border=\"1\" class=\"dataframe\">\n",
              "  <thead>\n",
              "    <tr style=\"text-align: right;\">\n",
              "      <th></th>\n",
              "      <th></th>\n",
              "      <th>CO_PESSOA_FISICA</th>\n",
              "    </tr>\n",
              "    <tr>\n",
              "      <th>Nome Etapa_2017</th>\n",
              "      <th>Nome Etapa_2016</th>\n",
              "      <th></th>\n",
              "    </tr>\n",
              "  </thead>\n",
              "  <tbody>\n",
              "    <tr>\n",
              "      <th rowspan=\"8\" valign=\"top\">Ensino Médio - 2ª Série</th>\n",
              "      <th>Curso Técnico Integrado (Ensino Médio Integrado) 1ª Série</th>\n",
              "      <td>700</td>\n",
              "    </tr>\n",
              "    <tr>\n",
              "      <th>Curso Técnico Integrado (Ensino Médio Integrado) 2ª Série</th>\n",
              "      <td>127</td>\n",
              "    </tr>\n",
              "    <tr>\n",
              "      <th>Curso Técnico Integrado (Ensino Médio Integrado) 3ª Série</th>\n",
              "      <td>1</td>\n",
              "    </tr>\n",
              "    <tr>\n",
              "      <th>Curso Técnico Integrado (Ensino Médio Integrado) Não Seriada</th>\n",
              "      <td>62</td>\n",
              "    </tr>\n",
              "    <tr>\n",
              "      <th>Ensino Médio - 1ª Série</th>\n",
              "      <td>128943</td>\n",
              "    </tr>\n",
              "    <tr>\n",
              "      <th>Ensino Médio - 2ª Série</th>\n",
              "      <td>14274</td>\n",
              "    </tr>\n",
              "    <tr>\n",
              "      <th>Ensino Médio - 3ª Série</th>\n",
              "      <td>21</td>\n",
              "    </tr>\n",
              "    <tr>\n",
              "      <th>Ensino Médio - Não Seriada</th>\n",
              "      <td>72</td>\n",
              "    </tr>\n",
              "  </tbody>\n",
              "</table>\n",
              "</div>"
            ],
            "text/plain": [
              "                                                                            CO_PESSOA_FISICA\n",
              "Nome Etapa_2017         Nome Etapa_2016                                                     \n",
              "Ensino Médio - 2ª Série Curso Técnico Integrado (Ensino Médio Integrado...               700\n",
              "                        Curso Técnico Integrado (Ensino Médio Integrado...               127\n",
              "                        Curso Técnico Integrado (Ensino Médio Integrado...                 1\n",
              "                        Curso Técnico Integrado (Ensino Médio Integrado...                62\n",
              "                        Ensino Médio - 1ª Série                                       128943\n",
              "                        Ensino Médio - 2ª Série                                        14274\n",
              "                        Ensino Médio - 3ª Série                                           21\n",
              "                        Ensino Médio - Não Seriada                                        72"
            ]
          },
          "metadata": {
            "tags": []
          },
          "execution_count": 20
        }
      ]
    },
    {
      "cell_type": "code",
      "metadata": {
        "id": "YYTw8bY_cdDj",
        "colab_type": "code",
        "outputId": "c69e5c61-84ea-4868-b9a5-27ef2905414d",
        "colab": {
          "base_uri": "https://localhost:8080/",
          "height": 328
        }
      },
      "source": [
        "test1/len(test)"
      ],
      "execution_count": 0,
      "outputs": [
        {
          "output_type": "execute_result",
          "data": {
            "text/html": [
              "<div>\n",
              "<style scoped>\n",
              "    .dataframe tbody tr th:only-of-type {\n",
              "        vertical-align: middle;\n",
              "    }\n",
              "\n",
              "    .dataframe tbody tr th {\n",
              "        vertical-align: top;\n",
              "    }\n",
              "\n",
              "    .dataframe thead th {\n",
              "        text-align: right;\n",
              "    }\n",
              "</style>\n",
              "<table border=\"1\" class=\"dataframe\">\n",
              "  <thead>\n",
              "    <tr style=\"text-align: right;\">\n",
              "      <th></th>\n",
              "      <th></th>\n",
              "      <th>CO_PESSOA_FISICA</th>\n",
              "    </tr>\n",
              "    <tr>\n",
              "      <th>Nome Etapa_2017</th>\n",
              "      <th>Nome Etapa_2016</th>\n",
              "      <th></th>\n",
              "    </tr>\n",
              "  </thead>\n",
              "  <tbody>\n",
              "    <tr>\n",
              "      <th rowspan=\"8\" valign=\"top\">Ensino Médio - 2ª Série</th>\n",
              "      <th>Curso Técnico Integrado (Ensino Médio Integrado) 1ª Série</th>\n",
              "      <td>0.004190</td>\n",
              "    </tr>\n",
              "    <tr>\n",
              "      <th>Curso Técnico Integrado (Ensino Médio Integrado) 2ª Série</th>\n",
              "      <td>0.000760</td>\n",
              "    </tr>\n",
              "    <tr>\n",
              "      <th>Curso Técnico Integrado (Ensino Médio Integrado) 3ª Série</th>\n",
              "      <td>0.000006</td>\n",
              "    </tr>\n",
              "    <tr>\n",
              "      <th>Curso Técnico Integrado (Ensino Médio Integrado) Não Seriada</th>\n",
              "      <td>0.000371</td>\n",
              "    </tr>\n",
              "    <tr>\n",
              "      <th>Ensino Médio - 1ª Série</th>\n",
              "      <td>0.771836</td>\n",
              "    </tr>\n",
              "    <tr>\n",
              "      <th>Ensino Médio - 2ª Série</th>\n",
              "      <td>0.085442</td>\n",
              "    </tr>\n",
              "    <tr>\n",
              "      <th>Ensino Médio - 3ª Série</th>\n",
              "      <td>0.000126</td>\n",
              "    </tr>\n",
              "    <tr>\n",
              "      <th>Ensino Médio - Não Seriada</th>\n",
              "      <td>0.000431</td>\n",
              "    </tr>\n",
              "  </tbody>\n",
              "</table>\n",
              "</div>"
            ],
            "text/plain": [
              "                                                                            CO_PESSOA_FISICA\n",
              "Nome Etapa_2017         Nome Etapa_2016                                                     \n",
              "Ensino Médio - 2ª Série Curso Técnico Integrado (Ensino Médio Integrado...          0.004190\n",
              "                        Curso Técnico Integrado (Ensino Médio Integrado...          0.000760\n",
              "                        Curso Técnico Integrado (Ensino Médio Integrado...          0.000006\n",
              "                        Curso Técnico Integrado (Ensino Médio Integrado...          0.000371\n",
              "                        Ensino Médio - 1ª Série                                     0.771836\n",
              "                        Ensino Médio - 2ª Série                                     0.085442\n",
              "                        Ensino Médio - 3ª Série                                     0.000126\n",
              "                        Ensino Médio - Não Seriada                                  0.000431"
            ]
          },
          "metadata": {
            "tags": []
          },
          "execution_count": 21
        }
      ]
    },
    {
      "cell_type": "code",
      "metadata": {
        "id": "CpUMmqvgcm9g",
        "colab_type": "code",
        "outputId": "9601caaa-d22f-4cf7-aa8d-970e97c3fa3c",
        "colab": {
          "base_uri": "https://localhost:8080/",
          "height": 34
        }
      },
      "source": [
        "sum(test1['CO_PESSOA_FISICA']/len(test))"
      ],
      "execution_count": 0,
      "outputs": [
        {
          "output_type": "execute_result",
          "data": {
            "text/plain": [
              "0.8631629354722854"
            ]
          },
          "metadata": {
            "tags": []
          },
          "execution_count": 22
        }
      ]
    },
    {
      "cell_type": "markdown",
      "metadata": {
        "id": "ArAwUJ6Idf6y",
        "colab_type": "text"
      },
      "source": [
        "#### CO_PESSOA_FISICA: Mudança em 2018\n",
        "\n",
        "Até 2017, o campo de identificação única d@ alun@ era `CO_PESSOA_FISICA`. Isso mudou em 2018: passou para `ID_ALUNO` de forma a não conter informação pessoal d@s alun@s."
      ]
    },
    {
      "cell_type": "code",
      "metadata": {
        "id": "AQYVEHsgXdKY",
        "colab_type": "code",
        "outputId": "67f25978-6681-4ee0-945c-e9476da9ec5d",
        "colab": {
          "base_uri": "https://localhost:8080/",
          "height": 34
        }
      },
      "source": [
        "v = matriculas_2016['CO_PESSOA_FISICA'].value_counts()\n",
        "print('Percentual de alun@s únic@s:', 100 - 100*len(v[v > 1])/len(v))\n",
        "\n",
        "duplicado_2016 = v[v> 1].index"
      ],
      "execution_count": 0,
      "outputs": [
        {
          "output_type": "stream",
          "text": [
            "Percentual de alun@s únic@s: 99.87964218515131\n"
          ],
          "name": "stdout"
        }
      ]
    },
    {
      "cell_type": "code",
      "metadata": {
        "id": "v8dR-L7sYwJ5",
        "colab_type": "code",
        "outputId": "0b49e2f4-d1d3-4a7c-81c1-793828fe7114",
        "colab": {
          "base_uri": "https://localhost:8080/",
          "height": 299
        }
      },
      "source": [
        "matriculas_2016[matriculas_2016['CO_PESSOA_FISICA'] == v[v > 1].index[0]]"
      ],
      "execution_count": 0,
      "outputs": [
        {
          "output_type": "execute_result",
          "data": {
            "text/html": [
              "<div>\n",
              "<style scoped>\n",
              "    .dataframe tbody tr th:only-of-type {\n",
              "        vertical-align: middle;\n",
              "    }\n",
              "\n",
              "    .dataframe tbody tr th {\n",
              "        vertical-align: top;\n",
              "    }\n",
              "\n",
              "    .dataframe thead th {\n",
              "        text-align: right;\n",
              "    }\n",
              "</style>\n",
              "<table border=\"1\" class=\"dataframe\">\n",
              "  <thead>\n",
              "    <tr style=\"text-align: right;\">\n",
              "      <th></th>\n",
              "      <th>NU_ANO_CENSO</th>\n",
              "      <th>ID_MATRICULA</th>\n",
              "      <th>CO_PESSOA_FISICA</th>\n",
              "      <th>NU_DIA</th>\n",
              "      <th>NU_MES</th>\n",
              "      <th>NU_ANO</th>\n",
              "      <th>NU_IDADE_REFERENCIA</th>\n",
              "      <th>NU_IDADE</th>\n",
              "      <th>NU_DURACAO_TURMA</th>\n",
              "      <th>NU_DUR_ATIV_COMP_MESMA_REDE</th>\n",
              "      <th>NU_DUR_ATIV_COMP_OUTRAS_REDES</th>\n",
              "      <th>NU_DUR_AEE_MESMA_REDE</th>\n",
              "      <th>NU_DUR_AEE_OUTRAS_REDES</th>\n",
              "      <th>NU_DIAS_ATIVIDADE</th>\n",
              "      <th>TP_SEXO</th>\n",
              "      <th>TP_COR_RACA</th>\n",
              "      <th>TP_NACIONALIDADE</th>\n",
              "      <th>CO_PAIS_ORIGEM</th>\n",
              "      <th>CO_UF_NASC</th>\n",
              "      <th>CO_MUNICIPIO_NASC</th>\n",
              "      <th>CO_UF_END</th>\n",
              "      <th>CO_MUNICIPIO_END</th>\n",
              "      <th>TP_ZONA_RESIDENCIAL</th>\n",
              "      <th>TP_OUTRO_LOCAL_AULA</th>\n",
              "      <th>IN_TRANSPORTE_PUBLICO</th>\n",
              "      <th>TP_RESPONSAVEL_TRANSPORTE</th>\n",
              "      <th>IN_TRANSP_VANS_KOMBI</th>\n",
              "      <th>IN_TRANSP_MICRO_ONIBUS</th>\n",
              "      <th>IN_TRANSP_ONIBUS</th>\n",
              "      <th>IN_TRANSP_BICICLETA</th>\n",
              "      <th>IN_TRANSP_TR_ANIMAL</th>\n",
              "      <th>IN_TRANSP_OUTRO_VEICULO</th>\n",
              "      <th>IN_TRANSP_EMBAR_ATE5</th>\n",
              "      <th>IN_TRANSP_EMBAR_5A15</th>\n",
              "      <th>IN_TRANSP_EMBAR_15A35</th>\n",
              "      <th>IN_TRANSP_EMBAR_35</th>\n",
              "      <th>IN_TRANSP_TREM_METRO</th>\n",
              "      <th>IN_NECESSIDADE_ESPECIAL</th>\n",
              "      <th>IN_CEGUEIRA</th>\n",
              "      <th>IN_BAIXA_VISAO</th>\n",
              "      <th>...</th>\n",
              "      <th>IN_RECURSO_LIBRAS</th>\n",
              "      <th>IN_RECURSO_LABIAL</th>\n",
              "      <th>IN_RECURSO_BRAILLE</th>\n",
              "      <th>IN_RECURSO_AMPLIADA_16</th>\n",
              "      <th>IN_RECURSO_AMPLIADA_20</th>\n",
              "      <th>IN_RECURSO_AMPLIADA_24</th>\n",
              "      <th>IN_RECURSO_NENHUM</th>\n",
              "      <th>TP_INGRESSO_FEDERAIS</th>\n",
              "      <th>TP_MEDIACAO_DIDATICO_PEDAGO</th>\n",
              "      <th>IN_ESPECIAL_EXCLUSIVA</th>\n",
              "      <th>IN_REGULAR</th>\n",
              "      <th>IN_EJA</th>\n",
              "      <th>IN_PROFISSIONALIZANTE</th>\n",
              "      <th>TP_ETAPA_ENSINO</th>\n",
              "      <th>ID_TURMA</th>\n",
              "      <th>CO_CURSO_EDUC_PROFISSIONAL</th>\n",
              "      <th>TP_UNIFICADA</th>\n",
              "      <th>TP_TIPO_TURMA</th>\n",
              "      <th>CO_ENTIDADE</th>\n",
              "      <th>CO_REGIAO</th>\n",
              "      <th>CO_MESORREGIAO</th>\n",
              "      <th>CO_MICRORREGIAO</th>\n",
              "      <th>CO_UF</th>\n",
              "      <th>CO_MUNICIPIO</th>\n",
              "      <th>CO_DISTRITO</th>\n",
              "      <th>TP_DEPENDENCIA</th>\n",
              "      <th>TP_LOCALIZACAO</th>\n",
              "      <th>TP_CATEGORIA_ESCOLA_PRIVADA</th>\n",
              "      <th>IN_CONVENIADA_PP</th>\n",
              "      <th>TP_CONVENIO_PODER_PUBLICO</th>\n",
              "      <th>IN_MANT_ESCOLA_PRIVADA_EMP</th>\n",
              "      <th>IN_MANT_ESCOLA_PRIVADA_ONG</th>\n",
              "      <th>IN_MANT_ESCOLA_PRIVADA_SIND</th>\n",
              "      <th>IN_MANT_ESCOLA_PRIVADA_SIST_S</th>\n",
              "      <th>IN_MANT_ESCOLA_PRIVADA_S_FINS</th>\n",
              "      <th>TP_REGULAMENTACAO</th>\n",
              "      <th>TP_LOCALIZACAO_DIFERENCIADA</th>\n",
              "      <th>IN_EDUCACAO_INDIGENA</th>\n",
              "      <th>Código</th>\n",
              "      <th>Nome Etapa</th>\n",
              "    </tr>\n",
              "  </thead>\n",
              "  <tbody>\n",
              "    <tr>\n",
              "      <th>97358</th>\n",
              "      <td>2016</td>\n",
              "      <td>210038922</td>\n",
              "      <td>110029689332</td>\n",
              "      <td>10</td>\n",
              "      <td>2</td>\n",
              "      <td>1999</td>\n",
              "      <td>17</td>\n",
              "      <td>17</td>\n",
              "      <td>590</td>\n",
              "      <td>0</td>\n",
              "      <td>0</td>\n",
              "      <td>0</td>\n",
              "      <td>0</td>\n",
              "      <td>5</td>\n",
              "      <td>2</td>\n",
              "      <td>0</td>\n",
              "      <td>1</td>\n",
              "      <td>76</td>\n",
              "      <td>33.0</td>\n",
              "      <td>3304557.0</td>\n",
              "      <td>33.0</td>\n",
              "      <td>3304557.0</td>\n",
              "      <td>1</td>\n",
              "      <td>3</td>\n",
              "      <td>1</td>\n",
              "      <td>1.0</td>\n",
              "      <td>0.0</td>\n",
              "      <td>0.0</td>\n",
              "      <td>1.0</td>\n",
              "      <td>0.0</td>\n",
              "      <td>0.0</td>\n",
              "      <td>0.0</td>\n",
              "      <td>0.0</td>\n",
              "      <td>0.0</td>\n",
              "      <td>0.0</td>\n",
              "      <td>0.0</td>\n",
              "      <td>0.0</td>\n",
              "      <td>0</td>\n",
              "      <td>NaN</td>\n",
              "      <td>NaN</td>\n",
              "      <td>...</td>\n",
              "      <td>NaN</td>\n",
              "      <td>NaN</td>\n",
              "      <td>NaN</td>\n",
              "      <td>NaN</td>\n",
              "      <td>NaN</td>\n",
              "      <td>NaN</td>\n",
              "      <td>NaN</td>\n",
              "      <td>NaN</td>\n",
              "      <td>1</td>\n",
              "      <td>0</td>\n",
              "      <td>1</td>\n",
              "      <td>0</td>\n",
              "      <td>0</td>\n",
              "      <td>25</td>\n",
              "      <td>8285062</td>\n",
              "      <td>NaN</td>\n",
              "      <td>0</td>\n",
              "      <td>0</td>\n",
              "      <td>33136475</td>\n",
              "      <td>3</td>\n",
              "      <td>3306</td>\n",
              "      <td>33018</td>\n",
              "      <td>33</td>\n",
              "      <td>3304557</td>\n",
              "      <td>330455705</td>\n",
              "      <td>2</td>\n",
              "      <td>1</td>\n",
              "      <td>NaN</td>\n",
              "      <td>NaN</td>\n",
              "      <td>NaN</td>\n",
              "      <td>NaN</td>\n",
              "      <td>NaN</td>\n",
              "      <td>NaN</td>\n",
              "      <td>NaN</td>\n",
              "      <td>NaN</td>\n",
              "      <td>1</td>\n",
              "      <td>0</td>\n",
              "      <td>0</td>\n",
              "      <td>25.0</td>\n",
              "      <td>Ensino Médio - 1ª Série</td>\n",
              "    </tr>\n",
              "    <tr>\n",
              "      <th>329545</th>\n",
              "      <td>2016</td>\n",
              "      <td>210038921</td>\n",
              "      <td>110029689332</td>\n",
              "      <td>10</td>\n",
              "      <td>2</td>\n",
              "      <td>1999</td>\n",
              "      <td>17</td>\n",
              "      <td>17</td>\n",
              "      <td>270</td>\n",
              "      <td>0</td>\n",
              "      <td>0</td>\n",
              "      <td>0</td>\n",
              "      <td>0</td>\n",
              "      <td>5</td>\n",
              "      <td>2</td>\n",
              "      <td>0</td>\n",
              "      <td>1</td>\n",
              "      <td>76</td>\n",
              "      <td>33.0</td>\n",
              "      <td>3304557.0</td>\n",
              "      <td>33.0</td>\n",
              "      <td>3304557.0</td>\n",
              "      <td>1</td>\n",
              "      <td>3</td>\n",
              "      <td>1</td>\n",
              "      <td>1.0</td>\n",
              "      <td>0.0</td>\n",
              "      <td>0.0</td>\n",
              "      <td>1.0</td>\n",
              "      <td>0.0</td>\n",
              "      <td>0.0</td>\n",
              "      <td>0.0</td>\n",
              "      <td>0.0</td>\n",
              "      <td>0.0</td>\n",
              "      <td>0.0</td>\n",
              "      <td>0.0</td>\n",
              "      <td>0.0</td>\n",
              "      <td>0</td>\n",
              "      <td>NaN</td>\n",
              "      <td>NaN</td>\n",
              "      <td>...</td>\n",
              "      <td>NaN</td>\n",
              "      <td>NaN</td>\n",
              "      <td>NaN</td>\n",
              "      <td>NaN</td>\n",
              "      <td>NaN</td>\n",
              "      <td>NaN</td>\n",
              "      <td>NaN</td>\n",
              "      <td>NaN</td>\n",
              "      <td>1</td>\n",
              "      <td>0</td>\n",
              "      <td>1</td>\n",
              "      <td>0</td>\n",
              "      <td>0</td>\n",
              "      <td>26</td>\n",
              "      <td>8285059</td>\n",
              "      <td>NaN</td>\n",
              "      <td>0</td>\n",
              "      <td>0</td>\n",
              "      <td>33136475</td>\n",
              "      <td>3</td>\n",
              "      <td>3306</td>\n",
              "      <td>33018</td>\n",
              "      <td>33</td>\n",
              "      <td>3304557</td>\n",
              "      <td>330455705</td>\n",
              "      <td>2</td>\n",
              "      <td>1</td>\n",
              "      <td>NaN</td>\n",
              "      <td>NaN</td>\n",
              "      <td>NaN</td>\n",
              "      <td>NaN</td>\n",
              "      <td>NaN</td>\n",
              "      <td>NaN</td>\n",
              "      <td>NaN</td>\n",
              "      <td>NaN</td>\n",
              "      <td>1</td>\n",
              "      <td>0</td>\n",
              "      <td>0</td>\n",
              "      <td>26.0</td>\n",
              "      <td>Ensino Médio - 2ª Série</td>\n",
              "    </tr>\n",
              "  </tbody>\n",
              "</table>\n",
              "<p>2 rows × 94 columns</p>\n",
              "</div>"
            ],
            "text/plain": [
              "        NU_ANO_CENSO  ID_MATRICULA  ...  Código               Nome Etapa\n",
              "97358           2016     210038922  ...    25.0  Ensino Médio - 1ª Série\n",
              "329545          2016     210038921  ...    26.0  Ensino Médio - 2ª Série\n",
              "\n",
              "[2 rows x 94 columns]"
            ]
          },
          "metadata": {
            "tags": []
          },
          "execution_count": 24
        }
      ]
    },
    {
      "cell_type": "code",
      "metadata": {
        "id": "NxDSkiWsX545",
        "colab_type": "code",
        "outputId": "9617c111-21b6-4c97-b1d5-2d77cd50e77e",
        "colab": {
          "base_uri": "https://localhost:8080/",
          "height": 34
        }
      },
      "source": [
        "v = matriculas_2017['CO_PESSOA_FISICA'].value_counts()\n",
        "print('Percentual de alun@s únic@s:', 100 - 100*len(v[v > 1])/len(v))\n",
        "\n",
        "duplicado_2017 = v[v> 1].index"
      ],
      "execution_count": 0,
      "outputs": [
        {
          "output_type": "stream",
          "text": [
            "Percentual de alun@s únic@s: 99.94003199501414\n"
          ],
          "name": "stdout"
        }
      ]
    },
    {
      "cell_type": "code",
      "metadata": {
        "id": "D1nx3bylX_EF",
        "colab_type": "code",
        "colab": {}
      },
      "source": [
        "v = matriculas_2018['ID_ALUNO'].value_counts()\n",
        "100*len(v[v > 1])/len(v)\n",
        "\n",
        "duplicado_2018 = v[v> 1].index"
      ],
      "execution_count": 0,
      "outputs": []
    },
    {
      "cell_type": "code",
      "metadata": {
        "id": "XcHl2revYDd1",
        "colab_type": "code",
        "outputId": "48a085dd-2ff9-437e-e495-48bfcd3537e6",
        "colab": {
          "base_uri": "https://localhost:8080/",
          "height": 316
        }
      },
      "source": [
        "matriculas_2018[matriculas_2018['ID_ALUNO'] == v[v > 1].index[0]]"
      ],
      "execution_count": 0,
      "outputs": [
        {
          "output_type": "execute_result",
          "data": {
            "text/html": [
              "<div>\n",
              "<style scoped>\n",
              "    .dataframe tbody tr th:only-of-type {\n",
              "        vertical-align: middle;\n",
              "    }\n",
              "\n",
              "    .dataframe tbody tr th {\n",
              "        vertical-align: top;\n",
              "    }\n",
              "\n",
              "    .dataframe thead th {\n",
              "        text-align: right;\n",
              "    }\n",
              "</style>\n",
              "<table border=\"1\" class=\"dataframe\">\n",
              "  <thead>\n",
              "    <tr style=\"text-align: right;\">\n",
              "      <th></th>\n",
              "      <th>NU_ANO_CENSO</th>\n",
              "      <th>ID_ALUNO</th>\n",
              "      <th>ID_MATRICULA</th>\n",
              "      <th>NU_DIA</th>\n",
              "      <th>NU_MES</th>\n",
              "      <th>NU_ANO</th>\n",
              "      <th>NU_IDADE_REFERENCIA</th>\n",
              "      <th>NU_IDADE</th>\n",
              "      <th>NU_DURACAO_TURMA</th>\n",
              "      <th>NU_DUR_ATIV_COMP_MESMA_REDE</th>\n",
              "      <th>NU_DUR_ATIV_COMP_OUTRAS_REDES</th>\n",
              "      <th>NU_DUR_AEE_MESMA_REDE</th>\n",
              "      <th>NU_DUR_AEE_OUTRAS_REDES</th>\n",
              "      <th>NU_DIAS_ATIVIDADE</th>\n",
              "      <th>TP_SEXO</th>\n",
              "      <th>TP_COR_RACA</th>\n",
              "      <th>TP_NACIONALIDADE</th>\n",
              "      <th>CO_PAIS_ORIGEM</th>\n",
              "      <th>CO_UF_NASC</th>\n",
              "      <th>CO_MUNICIPIO_NASC</th>\n",
              "      <th>CO_UF_END</th>\n",
              "      <th>CO_MUNICIPIO_END</th>\n",
              "      <th>TP_ZONA_RESIDENCIAL</th>\n",
              "      <th>TP_OUTRO_LOCAL_AULA</th>\n",
              "      <th>IN_TRANSPORTE_PUBLICO</th>\n",
              "      <th>TP_RESPONSAVEL_TRANSPORTE</th>\n",
              "      <th>IN_TRANSP_VANS_KOMBI</th>\n",
              "      <th>IN_TRANSP_MICRO_ONIBUS</th>\n",
              "      <th>IN_TRANSP_ONIBUS</th>\n",
              "      <th>IN_TRANSP_BICICLETA</th>\n",
              "      <th>IN_TRANSP_TR_ANIMAL</th>\n",
              "      <th>IN_TRANSP_OUTRO_VEICULO</th>\n",
              "      <th>IN_TRANSP_EMBAR_ATE5</th>\n",
              "      <th>IN_TRANSP_EMBAR_5A15</th>\n",
              "      <th>IN_TRANSP_EMBAR_15A35</th>\n",
              "      <th>IN_TRANSP_EMBAR_35</th>\n",
              "      <th>IN_TRANSP_TREM_METRO</th>\n",
              "      <th>IN_NECESSIDADE_ESPECIAL</th>\n",
              "      <th>IN_CEGUEIRA</th>\n",
              "      <th>IN_BAIXA_VISAO</th>\n",
              "      <th>...</th>\n",
              "      <th>IN_RECURSO_LIBRAS</th>\n",
              "      <th>IN_RECURSO_LABIAL</th>\n",
              "      <th>IN_RECURSO_BRAILLE</th>\n",
              "      <th>IN_RECURSO_AMPLIADA_16</th>\n",
              "      <th>IN_RECURSO_AMPLIADA_20</th>\n",
              "      <th>IN_RECURSO_AMPLIADA_24</th>\n",
              "      <th>IN_RECURSO_NENHUM</th>\n",
              "      <th>TP_INGRESSO_FEDERAIS</th>\n",
              "      <th>TP_MEDIACAO_DIDATICO_PEDAGO</th>\n",
              "      <th>IN_ESPECIAL_EXCLUSIVA</th>\n",
              "      <th>IN_REGULAR</th>\n",
              "      <th>IN_EJA</th>\n",
              "      <th>IN_PROFISSIONALIZANTE</th>\n",
              "      <th>TP_ETAPA_ENSINO</th>\n",
              "      <th>ID_TURMA</th>\n",
              "      <th>CO_CURSO_EDUC_PROFISSIONAL</th>\n",
              "      <th>TP_UNIFICADA</th>\n",
              "      <th>TP_TIPO_TURMA</th>\n",
              "      <th>CO_ENTIDADE</th>\n",
              "      <th>CO_REGIAO</th>\n",
              "      <th>CO_MESORREGIAO</th>\n",
              "      <th>CO_MICRORREGIAO</th>\n",
              "      <th>CO_UF</th>\n",
              "      <th>CO_MUNICIPIO</th>\n",
              "      <th>CO_DISTRITO</th>\n",
              "      <th>TP_DEPENDENCIA</th>\n",
              "      <th>TP_LOCALIZACAO</th>\n",
              "      <th>TP_CATEGORIA_ESCOLA_PRIVADA</th>\n",
              "      <th>IN_CONVENIADA_PP</th>\n",
              "      <th>TP_CONVENIO_PODER_PUBLICO</th>\n",
              "      <th>IN_MANT_ESCOLA_PRIVADA_EMP</th>\n",
              "      <th>IN_MANT_ESCOLA_PRIVADA_ONG</th>\n",
              "      <th>IN_MANT_ESCOLA_PRIVADA_SIND</th>\n",
              "      <th>IN_MANT_ESCOLA_PRIVADA_SIST_S</th>\n",
              "      <th>IN_MANT_ESCOLA_PRIVADA_S_FINS</th>\n",
              "      <th>TP_REGULAMENTACAO</th>\n",
              "      <th>TP_LOCALIZACAO_DIFERENCIADA</th>\n",
              "      <th>IN_EDUCACAO_INDIGENA</th>\n",
              "      <th>Código</th>\n",
              "      <th>Nome Etapa</th>\n",
              "    </tr>\n",
              "  </thead>\n",
              "  <tbody>\n",
              "    <tr>\n",
              "      <th>17875</th>\n",
              "      <td>2018</td>\n",
              "      <td>7761F23B8D56AF260734575306C3DB7B</td>\n",
              "      <td>287546693</td>\n",
              "      <td>19</td>\n",
              "      <td>5</td>\n",
              "      <td>2001</td>\n",
              "      <td>17</td>\n",
              "      <td>17</td>\n",
              "      <td>320</td>\n",
              "      <td>0</td>\n",
              "      <td>0</td>\n",
              "      <td>0</td>\n",
              "      <td>0</td>\n",
              "      <td>6</td>\n",
              "      <td>2</td>\n",
              "      <td>1</td>\n",
              "      <td>1</td>\n",
              "      <td>76</td>\n",
              "      <td>33.0</td>\n",
              "      <td>3304557.0</td>\n",
              "      <td>NaN</td>\n",
              "      <td>NaN</td>\n",
              "      <td>1</td>\n",
              "      <td>3</td>\n",
              "      <td>1</td>\n",
              "      <td>2.0</td>\n",
              "      <td>0.0</td>\n",
              "      <td>0.0</td>\n",
              "      <td>1.0</td>\n",
              "      <td>0.0</td>\n",
              "      <td>0.0</td>\n",
              "      <td>0.0</td>\n",
              "      <td>0.0</td>\n",
              "      <td>0.0</td>\n",
              "      <td>0.0</td>\n",
              "      <td>0.0</td>\n",
              "      <td>0.0</td>\n",
              "      <td>0</td>\n",
              "      <td>NaN</td>\n",
              "      <td>NaN</td>\n",
              "      <td>...</td>\n",
              "      <td>NaN</td>\n",
              "      <td>NaN</td>\n",
              "      <td>NaN</td>\n",
              "      <td>NaN</td>\n",
              "      <td>NaN</td>\n",
              "      <td>NaN</td>\n",
              "      <td>NaN</td>\n",
              "      <td>4.0</td>\n",
              "      <td>1</td>\n",
              "      <td>0</td>\n",
              "      <td>1</td>\n",
              "      <td>0</td>\n",
              "      <td>1</td>\n",
              "      <td>30</td>\n",
              "      <td>248343</td>\n",
              "      <td>6080.0</td>\n",
              "      <td>0</td>\n",
              "      <td>0</td>\n",
              "      <td>33067643</td>\n",
              "      <td>3</td>\n",
              "      <td>3306</td>\n",
              "      <td>33018</td>\n",
              "      <td>33</td>\n",
              "      <td>3304557</td>\n",
              "      <td>330455705</td>\n",
              "      <td>1</td>\n",
              "      <td>1</td>\n",
              "      <td>NaN</td>\n",
              "      <td>NaN</td>\n",
              "      <td>NaN</td>\n",
              "      <td>NaN</td>\n",
              "      <td>NaN</td>\n",
              "      <td>NaN</td>\n",
              "      <td>NaN</td>\n",
              "      <td>NaN</td>\n",
              "      <td>1</td>\n",
              "      <td>0</td>\n",
              "      <td>0</td>\n",
              "      <td>30.0</td>\n",
              "      <td>Curso Técnico Integrado (Ensino Médio Integrad...</td>\n",
              "    </tr>\n",
              "    <tr>\n",
              "      <th>379794</th>\n",
              "      <td>2018</td>\n",
              "      <td>7761F23B8D56AF260734575306C3DB7B</td>\n",
              "      <td>298018720</td>\n",
              "      <td>19</td>\n",
              "      <td>5</td>\n",
              "      <td>2001</td>\n",
              "      <td>17</td>\n",
              "      <td>17</td>\n",
              "      <td>315</td>\n",
              "      <td>0</td>\n",
              "      <td>0</td>\n",
              "      <td>0</td>\n",
              "      <td>0</td>\n",
              "      <td>5</td>\n",
              "      <td>2</td>\n",
              "      <td>1</td>\n",
              "      <td>1</td>\n",
              "      <td>76</td>\n",
              "      <td>33.0</td>\n",
              "      <td>3304557.0</td>\n",
              "      <td>NaN</td>\n",
              "      <td>NaN</td>\n",
              "      <td>1</td>\n",
              "      <td>3</td>\n",
              "      <td>0</td>\n",
              "      <td>NaN</td>\n",
              "      <td>NaN</td>\n",
              "      <td>NaN</td>\n",
              "      <td>NaN</td>\n",
              "      <td>NaN</td>\n",
              "      <td>NaN</td>\n",
              "      <td>NaN</td>\n",
              "      <td>NaN</td>\n",
              "      <td>NaN</td>\n",
              "      <td>NaN</td>\n",
              "      <td>NaN</td>\n",
              "      <td>NaN</td>\n",
              "      <td>0</td>\n",
              "      <td>NaN</td>\n",
              "      <td>NaN</td>\n",
              "      <td>...</td>\n",
              "      <td>NaN</td>\n",
              "      <td>NaN</td>\n",
              "      <td>NaN</td>\n",
              "      <td>NaN</td>\n",
              "      <td>NaN</td>\n",
              "      <td>NaN</td>\n",
              "      <td>NaN</td>\n",
              "      <td>NaN</td>\n",
              "      <td>1</td>\n",
              "      <td>0</td>\n",
              "      <td>1</td>\n",
              "      <td>0</td>\n",
              "      <td>0</td>\n",
              "      <td>26</td>\n",
              "      <td>12969784</td>\n",
              "      <td>NaN</td>\n",
              "      <td>0</td>\n",
              "      <td>0</td>\n",
              "      <td>33071969</td>\n",
              "      <td>3</td>\n",
              "      <td>3306</td>\n",
              "      <td>33018</td>\n",
              "      <td>33</td>\n",
              "      <td>3304557</td>\n",
              "      <td>330455705</td>\n",
              "      <td>2</td>\n",
              "      <td>1</td>\n",
              "      <td>NaN</td>\n",
              "      <td>NaN</td>\n",
              "      <td>NaN</td>\n",
              "      <td>NaN</td>\n",
              "      <td>NaN</td>\n",
              "      <td>NaN</td>\n",
              "      <td>NaN</td>\n",
              "      <td>NaN</td>\n",
              "      <td>1</td>\n",
              "      <td>0</td>\n",
              "      <td>0</td>\n",
              "      <td>26.0</td>\n",
              "      <td>Ensino Médio - 2ª Série</td>\n",
              "    </tr>\n",
              "  </tbody>\n",
              "</table>\n",
              "<p>2 rows × 94 columns</p>\n",
              "</div>"
            ],
            "text/plain": [
              "        NU_ANO_CENSO  ...                                         Nome Etapa\n",
              "17875           2018  ...  Curso Técnico Integrado (Ensino Médio Integrad...\n",
              "379794          2018  ...                            Ensino Médio - 2ª Série\n",
              "\n",
              "[2 rows x 94 columns]"
            ]
          },
          "metadata": {
            "tags": []
          },
          "execution_count": 27
        }
      ]
    },
    {
      "cell_type": "markdown",
      "metadata": {
        "id": "2lCHhRgDouuJ",
        "colab_type": "text"
      },
      "source": [
        "- `CO_PESSOA_FISISCA`-> `ID_ALUNO` em 2018: não existe de-para!"
      ]
    },
    {
      "cell_type": "code",
      "metadata": {
        "id": "v8zcGgk1zzZn",
        "colab_type": "code",
        "outputId": "fc3f9937-9828-4443-dbfd-ba77e8178ba6",
        "colab": {
          "base_uri": "https://localhost:8080/",
          "height": 34
        }
      },
      "source": [
        "set(matriculas_2018.columns) - set(matriculas_2017.columns)"
      ],
      "execution_count": 0,
      "outputs": [
        {
          "output_type": "execute_result",
          "data": {
            "text/plain": [
              "{'ID_ALUNO'}"
            ]
          },
          "metadata": {
            "tags": []
          },
          "execution_count": 28
        }
      ]
    },
    {
      "cell_type": "code",
      "metadata": {
        "id": "l6c-7YqpJ_G1",
        "colab_type": "code",
        "outputId": "343047eb-274e-425e-fc36-24e53f12019a",
        "colab": {
          "base_uri": "https://localhost:8080/",
          "height": 34
        }
      },
      "source": [
        "set(matriculas_2017.columns) - set(matriculas_2018.columns)"
      ],
      "execution_count": 0,
      "outputs": [
        {
          "output_type": "execute_result",
          "data": {
            "text/plain": [
              "{'CO_PESSOA_FISICA'}"
            ]
          },
          "metadata": {
            "tags": []
          },
          "execution_count": 29
        }
      ]
    },
    {
      "cell_type": "code",
      "metadata": {
        "id": "6wgAk-ckMaAt",
        "colab_type": "code",
        "outputId": "8e685314-fe73-4e3b-c281-15367e8cdf15",
        "colab": {
          "base_uri": "https://localhost:8080/",
          "height": 34
        }
      },
      "source": [
        "set(matriculas_2017.columns) - set(matriculas_2016.columns)"
      ],
      "execution_count": 0,
      "outputs": [
        {
          "output_type": "execute_result",
          "data": {
            "text/plain": [
              "set()"
            ]
          },
          "metadata": {
            "tags": []
          },
          "execution_count": 30
        }
      ]
    },
    {
      "cell_type": "code",
      "metadata": {
        "id": "xvZWG23bMc6B",
        "colab_type": "code",
        "outputId": "8b02194f-85ec-4cb2-fbae-8cc2b5684b42",
        "colab": {
          "base_uri": "https://localhost:8080/",
          "height": 34
        }
      },
      "source": [
        "set(matriculas_2018.columns) - set(matriculas_2016.columns)"
      ],
      "execution_count": 0,
      "outputs": [
        {
          "output_type": "execute_result",
          "data": {
            "text/plain": [
              "{'ID_ALUNO'}"
            ]
          },
          "metadata": {
            "tags": []
          },
          "execution_count": 31
        }
      ]
    },
    {
      "cell_type": "code",
      "metadata": {
        "id": "QpLztUsaJ1Ru",
        "colab_type": "code",
        "outputId": "3ba8c16f-c04b-4f27-fca9-ab5717dd2160",
        "colab": {
          "base_uri": "https://localhost:8080/",
          "height": 135
        }
      },
      "source": [
        "matriculas_2018[matriculas_2018['ID_ALUNO'].isin(matriculas_2017['CO_PESSOA_FISICA'])]"
      ],
      "execution_count": 0,
      "outputs": [
        {
          "output_type": "execute_result",
          "data": {
            "text/html": [
              "<div>\n",
              "<style scoped>\n",
              "    .dataframe tbody tr th:only-of-type {\n",
              "        vertical-align: middle;\n",
              "    }\n",
              "\n",
              "    .dataframe tbody tr th {\n",
              "        vertical-align: top;\n",
              "    }\n",
              "\n",
              "    .dataframe thead th {\n",
              "        text-align: right;\n",
              "    }\n",
              "</style>\n",
              "<table border=\"1\" class=\"dataframe\">\n",
              "  <thead>\n",
              "    <tr style=\"text-align: right;\">\n",
              "      <th></th>\n",
              "      <th>NU_ANO_CENSO</th>\n",
              "      <th>ID_ALUNO</th>\n",
              "      <th>ID_MATRICULA</th>\n",
              "      <th>NU_DIA</th>\n",
              "      <th>NU_MES</th>\n",
              "      <th>NU_ANO</th>\n",
              "      <th>NU_IDADE_REFERENCIA</th>\n",
              "      <th>NU_IDADE</th>\n",
              "      <th>NU_DURACAO_TURMA</th>\n",
              "      <th>NU_DUR_ATIV_COMP_MESMA_REDE</th>\n",
              "      <th>NU_DUR_ATIV_COMP_OUTRAS_REDES</th>\n",
              "      <th>NU_DUR_AEE_MESMA_REDE</th>\n",
              "      <th>NU_DUR_AEE_OUTRAS_REDES</th>\n",
              "      <th>NU_DIAS_ATIVIDADE</th>\n",
              "      <th>TP_SEXO</th>\n",
              "      <th>TP_COR_RACA</th>\n",
              "      <th>TP_NACIONALIDADE</th>\n",
              "      <th>CO_PAIS_ORIGEM</th>\n",
              "      <th>CO_UF_NASC</th>\n",
              "      <th>CO_MUNICIPIO_NASC</th>\n",
              "      <th>CO_UF_END</th>\n",
              "      <th>CO_MUNICIPIO_END</th>\n",
              "      <th>TP_ZONA_RESIDENCIAL</th>\n",
              "      <th>TP_OUTRO_LOCAL_AULA</th>\n",
              "      <th>IN_TRANSPORTE_PUBLICO</th>\n",
              "      <th>TP_RESPONSAVEL_TRANSPORTE</th>\n",
              "      <th>IN_TRANSP_VANS_KOMBI</th>\n",
              "      <th>IN_TRANSP_MICRO_ONIBUS</th>\n",
              "      <th>IN_TRANSP_ONIBUS</th>\n",
              "      <th>IN_TRANSP_BICICLETA</th>\n",
              "      <th>IN_TRANSP_TR_ANIMAL</th>\n",
              "      <th>IN_TRANSP_OUTRO_VEICULO</th>\n",
              "      <th>IN_TRANSP_EMBAR_ATE5</th>\n",
              "      <th>IN_TRANSP_EMBAR_5A15</th>\n",
              "      <th>IN_TRANSP_EMBAR_15A35</th>\n",
              "      <th>IN_TRANSP_EMBAR_35</th>\n",
              "      <th>IN_TRANSP_TREM_METRO</th>\n",
              "      <th>IN_NECESSIDADE_ESPECIAL</th>\n",
              "      <th>IN_CEGUEIRA</th>\n",
              "      <th>IN_BAIXA_VISAO</th>\n",
              "      <th>...</th>\n",
              "      <th>IN_RECURSO_LIBRAS</th>\n",
              "      <th>IN_RECURSO_LABIAL</th>\n",
              "      <th>IN_RECURSO_BRAILLE</th>\n",
              "      <th>IN_RECURSO_AMPLIADA_16</th>\n",
              "      <th>IN_RECURSO_AMPLIADA_20</th>\n",
              "      <th>IN_RECURSO_AMPLIADA_24</th>\n",
              "      <th>IN_RECURSO_NENHUM</th>\n",
              "      <th>TP_INGRESSO_FEDERAIS</th>\n",
              "      <th>TP_MEDIACAO_DIDATICO_PEDAGO</th>\n",
              "      <th>IN_ESPECIAL_EXCLUSIVA</th>\n",
              "      <th>IN_REGULAR</th>\n",
              "      <th>IN_EJA</th>\n",
              "      <th>IN_PROFISSIONALIZANTE</th>\n",
              "      <th>TP_ETAPA_ENSINO</th>\n",
              "      <th>ID_TURMA</th>\n",
              "      <th>CO_CURSO_EDUC_PROFISSIONAL</th>\n",
              "      <th>TP_UNIFICADA</th>\n",
              "      <th>TP_TIPO_TURMA</th>\n",
              "      <th>CO_ENTIDADE</th>\n",
              "      <th>CO_REGIAO</th>\n",
              "      <th>CO_MESORREGIAO</th>\n",
              "      <th>CO_MICRORREGIAO</th>\n",
              "      <th>CO_UF</th>\n",
              "      <th>CO_MUNICIPIO</th>\n",
              "      <th>CO_DISTRITO</th>\n",
              "      <th>TP_DEPENDENCIA</th>\n",
              "      <th>TP_LOCALIZACAO</th>\n",
              "      <th>TP_CATEGORIA_ESCOLA_PRIVADA</th>\n",
              "      <th>IN_CONVENIADA_PP</th>\n",
              "      <th>TP_CONVENIO_PODER_PUBLICO</th>\n",
              "      <th>IN_MANT_ESCOLA_PRIVADA_EMP</th>\n",
              "      <th>IN_MANT_ESCOLA_PRIVADA_ONG</th>\n",
              "      <th>IN_MANT_ESCOLA_PRIVADA_SIND</th>\n",
              "      <th>IN_MANT_ESCOLA_PRIVADA_SIST_S</th>\n",
              "      <th>IN_MANT_ESCOLA_PRIVADA_S_FINS</th>\n",
              "      <th>TP_REGULAMENTACAO</th>\n",
              "      <th>TP_LOCALIZACAO_DIFERENCIADA</th>\n",
              "      <th>IN_EDUCACAO_INDIGENA</th>\n",
              "      <th>Código</th>\n",
              "      <th>Nome Etapa</th>\n",
              "    </tr>\n",
              "  </thead>\n",
              "  <tbody>\n",
              "  </tbody>\n",
              "</table>\n",
              "<p>0 rows × 94 columns</p>\n",
              "</div>"
            ],
            "text/plain": [
              "Empty DataFrame\n",
              "Columns: [NU_ANO_CENSO, ID_ALUNO, ID_MATRICULA, NU_DIA, NU_MES, NU_ANO, NU_IDADE_REFERENCIA, NU_IDADE, NU_DURACAO_TURMA, NU_DUR_ATIV_COMP_MESMA_REDE, NU_DUR_ATIV_COMP_OUTRAS_REDES, NU_DUR_AEE_MESMA_REDE, NU_DUR_AEE_OUTRAS_REDES, NU_DIAS_ATIVIDADE, TP_SEXO, TP_COR_RACA, TP_NACIONALIDADE, CO_PAIS_ORIGEM, CO_UF_NASC, CO_MUNICIPIO_NASC, CO_UF_END, CO_MUNICIPIO_END, TP_ZONA_RESIDENCIAL, TP_OUTRO_LOCAL_AULA, IN_TRANSPORTE_PUBLICO, TP_RESPONSAVEL_TRANSPORTE, IN_TRANSP_VANS_KOMBI, IN_TRANSP_MICRO_ONIBUS, IN_TRANSP_ONIBUS, IN_TRANSP_BICICLETA, IN_TRANSP_TR_ANIMAL, IN_TRANSP_OUTRO_VEICULO, IN_TRANSP_EMBAR_ATE5, IN_TRANSP_EMBAR_5A15, IN_TRANSP_EMBAR_15A35, IN_TRANSP_EMBAR_35, IN_TRANSP_TREM_METRO, IN_NECESSIDADE_ESPECIAL, IN_CEGUEIRA, IN_BAIXA_VISAO, IN_SURDEZ, IN_DEF_AUDITIVA, IN_SURDOCEGUEIRA, IN_DEF_FISICA, IN_DEF_INTELECTUAL, IN_DEF_MULTIPLA, IN_AUTISMO, IN_SINDROME_ASPERGER, IN_SINDROME_RETT, IN_TRANSTORNO_DI, IN_SUPERDOTACAO, IN_RECURSO_LEDOR, IN_RECURSO_TRANSCRICAO, IN_RECURSO_INTERPRETE, IN_RECURSO_LIBRAS, IN_RECURSO_LABIAL, IN_RECURSO_BRAILLE, IN_RECURSO_AMPLIADA_16, IN_RECURSO_AMPLIADA_20, IN_RECURSO_AMPLIADA_24, IN_RECURSO_NENHUM, TP_INGRESSO_FEDERAIS, TP_MEDIACAO_DIDATICO_PEDAGO, IN_ESPECIAL_EXCLUSIVA, IN_REGULAR, IN_EJA, IN_PROFISSIONALIZANTE, TP_ETAPA_ENSINO, ID_TURMA, CO_CURSO_EDUC_PROFISSIONAL, TP_UNIFICADA, TP_TIPO_TURMA, CO_ENTIDADE, CO_REGIAO, CO_MESORREGIAO, CO_MICRORREGIAO, CO_UF, CO_MUNICIPIO, CO_DISTRITO, TP_DEPENDENCIA, TP_LOCALIZACAO, TP_CATEGORIA_ESCOLA_PRIVADA, IN_CONVENIADA_PP, TP_CONVENIO_PODER_PUBLICO, IN_MANT_ESCOLA_PRIVADA_EMP, IN_MANT_ESCOLA_PRIVADA_ONG, IN_MANT_ESCOLA_PRIVADA_SIND, IN_MANT_ESCOLA_PRIVADA_SIST_S, IN_MANT_ESCOLA_PRIVADA_S_FINS, TP_REGULAMENTACAO, TP_LOCALIZACAO_DIFERENCIADA, IN_EDUCACAO_INDIGENA, Código, Nome Etapa]\n",
              "Index: []\n",
              "\n",
              "[0 rows x 94 columns]"
            ]
          },
          "metadata": {
            "tags": []
          },
          "execution_count": 32
        }
      ]
    },
    {
      "cell_type": "markdown",
      "metadata": {
        "id": "F1WXH6c4eR0z",
        "colab_type": "text"
      },
      "source": [
        "### Indentificação das escolas\n",
        "\n",
        "#### CO_ENTIDADE - OK\n",
        "\n",
        "Esperamos que esse número de idenficação seja único, ou seja, tenha um variação muito pequena ao longos dos anos (no caaso de escolas serem criadas/fechadas).\n"
      ]
    },
    {
      "cell_type": "code",
      "metadata": {
        "id": "T6b518d1efXR",
        "colab_type": "code",
        "outputId": "e2f91690-5725-458a-bfd7-9705af4cfe82",
        "colab": {
          "base_uri": "https://localhost:8080/",
          "height": 34
        }
      },
      "source": [
        "escolas_17 = matriculas_2017['CO_ENTIDADE'].unique()\n",
        "len(escolas_17)"
      ],
      "execution_count": 0,
      "outputs": [
        {
          "output_type": "execute_result",
          "data": {
            "text/plain": [
              "2252"
            ]
          },
          "metadata": {
            "tags": []
          },
          "execution_count": 33
        }
      ]
    },
    {
      "cell_type": "code",
      "metadata": {
        "id": "tGbW8Npre8j-",
        "colab_type": "code",
        "outputId": "888998d1-8fbb-433e-cf09-2fc330af5ed2",
        "colab": {
          "base_uri": "https://localhost:8080/",
          "height": 34
        }
      },
      "source": [
        "escolas_16 = matriculas_2016['CO_ENTIDADE'].unique()\n",
        "len(escolas_16)"
      ],
      "execution_count": 0,
      "outputs": [
        {
          "output_type": "execute_result",
          "data": {
            "text/plain": [
              "2223"
            ]
          },
          "metadata": {
            "tags": []
          },
          "execution_count": 34
        }
      ]
    },
    {
      "cell_type": "code",
      "metadata": {
        "id": "m7vjbQZkflwc",
        "colab_type": "code",
        "outputId": "dcd790d5-8020-43fd-c442-6342623497ee",
        "colab": {
          "base_uri": "https://localhost:8080/",
          "height": 34
        }
      },
      "source": [
        "# Escolas que surgiram\n",
        "len(set(escolas_17) - set(escolas_16))"
      ],
      "execution_count": 0,
      "outputs": [
        {
          "output_type": "execute_result",
          "data": {
            "text/plain": [
              "95"
            ]
          },
          "metadata": {
            "tags": []
          },
          "execution_count": 35
        }
      ]
    },
    {
      "cell_type": "code",
      "metadata": {
        "id": "Qiy9y9f3fsE1",
        "colab_type": "code",
        "outputId": "d85c57d5-c2df-4141-aa57-c609c4a4367e",
        "colab": {
          "base_uri": "https://localhost:8080/",
          "height": 34
        }
      },
      "source": [
        "# Escolas que fecharam\n",
        "len(set(escolas_16) - set(escolas_17))"
      ],
      "execution_count": 0,
      "outputs": [
        {
          "output_type": "execute_result",
          "data": {
            "text/plain": [
              "66"
            ]
          },
          "metadata": {
            "tags": []
          },
          "execution_count": 36
        }
      ]
    },
    {
      "cell_type": "markdown",
      "metadata": {
        "id": "hRhf-s5FBXvm",
        "colab_type": "text"
      },
      "source": [
        "### Identificação das turmas"
      ]
    },
    {
      "cell_type": "code",
      "metadata": {
        "id": "TxqyPKqdBVDY",
        "colab_type": "code",
        "outputId": "bdf2585c-d80d-44e7-ebf9-0d8e96681c44",
        "colab": {
          "base_uri": "https://localhost:8080/",
          "height": 204
        }
      },
      "source": [
        "matriculas_2016[['CO_ENTIDADE', 'Nome Etapa']].drop_duplicates()['CO_ENTIDADE'].value_counts()[:10]"
      ],
      "execution_count": 0,
      "outputs": [
        {
          "output_type": "execute_result",
          "data": {
            "text/plain": [
              "33067252    6\n",
              "33052808    6\n",
              "33169438    6\n",
              "33081743    6\n",
              "33071829    6\n",
              "33040125    6\n",
              "33130426    6\n",
              "33064644    6\n",
              "33045518    6\n",
              "33145326    6\n",
              "Name: CO_ENTIDADE, dtype: int64"
            ]
          },
          "metadata": {
            "tags": []
          },
          "execution_count": 53
        }
      ]
    },
    {
      "cell_type": "code",
      "metadata": {
        "id": "cRbx6UAMC9nz",
        "colab_type": "code",
        "outputId": "ac16f771-718b-400a-dee6-9f2c44d51568",
        "colab": {
          "base_uri": "https://localhost:8080/",
          "height": 301
        }
      },
      "source": [
        "matriculas_2016[['CO_ENTIDADE', 'Nome Etapa']].drop_duplicates()['CO_ENTIDADE'].value_counts().hist()\n",
        "plt.title('Distribuição do número de etapas de ensino (EM) por escola')"
      ],
      "execution_count": 0,
      "outputs": [
        {
          "output_type": "execute_result",
          "data": {
            "text/plain": [
              "Text(0.5, 1.0, 'Distribuição do número de etapas de ensino (EM) por escola')"
            ]
          },
          "metadata": {
            "tags": []
          },
          "execution_count": 49
        },
        {
          "output_type": "display_data",
          "data": {
            "image/png": "[encoded data removed]",
            "text/plain": [
              "<Figure size 432x288 with 1 Axes>"
            ]
          },
          "metadata": {
            "tags": []
          }
        }
      ]
    },
    {
      "cell_type": "code",
      "metadata": {
        "id": "hwvZdP-8DKnU",
        "colab_type": "code",
        "outputId": "edeb29fc-8747-4228-9042-f51d76593912",
        "colab": {
          "base_uri": "https://localhost:8080/",
          "height": 235
        }
      },
      "source": [
        "t = matriculas_2016[['CO_ENTIDADE', 'Nome Etapa']].drop_duplicates()\n",
        "v = t['CO_ENTIDADE'].value_counts()\n",
        "v[v>3]\n",
        "\n",
        "t[t['CO_ENTIDADE'] == 33067252]"
      ],
      "execution_count": 0,
      "outputs": [
        {
          "output_type": "execute_result",
          "data": {
            "text/html": [
              "<div>\n",
              "<style scoped>\n",
              "    .dataframe tbody tr th:only-of-type {\n",
              "        vertical-align: middle;\n",
              "    }\n",
              "\n",
              "    .dataframe tbody tr th {\n",
              "        vertical-align: top;\n",
              "    }\n",
              "\n",
              "    .dataframe thead th {\n",
              "        text-align: right;\n",
              "    }\n",
              "</style>\n",
              "<table border=\"1\" class=\"dataframe\">\n",
              "  <thead>\n",
              "    <tr style=\"text-align: right;\">\n",
              "      <th></th>\n",
              "      <th>CO_ENTIDADE</th>\n",
              "      <th>Nome Etapa</th>\n",
              "    </tr>\n",
              "  </thead>\n",
              "  <tbody>\n",
              "    <tr>\n",
              "      <th>285</th>\n",
              "      <td>33067252</td>\n",
              "      <td>Curso Técnico Integrado (Ensino Médio Integrad...</td>\n",
              "    </tr>\n",
              "    <tr>\n",
              "      <th>10295</th>\n",
              "      <td>33067252</td>\n",
              "      <td>Curso Técnico Integrado (Ensino Médio Integrad...</td>\n",
              "    </tr>\n",
              "    <tr>\n",
              "      <th>18257</th>\n",
              "      <td>33067252</td>\n",
              "      <td>Curso Técnico Integrado (Ensino Médio Integrad...</td>\n",
              "    </tr>\n",
              "    <tr>\n",
              "      <th>38423</th>\n",
              "      <td>33067252</td>\n",
              "      <td>Ensino Médio - 1ª Série</td>\n",
              "    </tr>\n",
              "    <tr>\n",
              "      <th>265052</th>\n",
              "      <td>33067252</td>\n",
              "      <td>Ensino Médio - 2ª Série</td>\n",
              "    </tr>\n",
              "    <tr>\n",
              "      <th>437798</th>\n",
              "      <td>33067252</td>\n",
              "      <td>Ensino Médio - 3ª Série</td>\n",
              "    </tr>\n",
              "  </tbody>\n",
              "</table>\n",
              "</div>"
            ],
            "text/plain": [
              "        CO_ENTIDADE                                         Nome Etapa\n",
              "285        33067252  Curso Técnico Integrado (Ensino Médio Integrad...\n",
              "10295      33067252  Curso Técnico Integrado (Ensino Médio Integrad...\n",
              "18257      33067252  Curso Técnico Integrado (Ensino Médio Integrad...\n",
              "38423      33067252                            Ensino Médio - 1ª Série\n",
              "265052     33067252                            Ensino Médio - 2ª Série\n",
              "437798     33067252                            Ensino Médio - 3ª Série"
            ]
          },
          "metadata": {
            "tags": []
          },
          "execution_count": 52
        }
      ]
    },
    {
      "cell_type": "markdown",
      "metadata": {
        "id": "_BoSbbVwoOUt",
        "colab_type": "text"
      },
      "source": [
        "## Análises"
      ]
    },
    {
      "cell_type": "markdown",
      "metadata": {
        "id": "USA99YBdoHXJ",
        "colab_type": "text"
      },
      "source": [
        "### Matrículas 2018"
      ]
    },
    {
      "cell_type": "markdown",
      "metadata": {
        "id": "1EfcvdUDvh6x",
        "colab_type": "text"
      },
      "source": [
        "#### Taxa de permanência\n",
        "\n",
        "- Não é possível medir a taxa de permanência de 2017 para 2018 com `ID_MATRICULA`\n"
      ]
    },
    {
      "cell_type": "code",
      "metadata": {
        "id": "2FMvyfzHL_JG",
        "colab_type": "code",
        "outputId": "4cafd640-bfef-4143-a9d0-8faed8a1be1c",
        "colab": {
          "base_uri": "https://localhost:8080/",
          "height": 204
        }
      },
      "source": [
        "t1 = matriculas_2018[matriculas_2018['ID_MATRICULA'].isin(matriculas_2017['ID_MATRICULA'])]\n",
        "t1['Nome Etapa'].value_counts()"
      ],
      "execution_count": 0,
      "outputs": [
        {
          "output_type": "execute_result",
          "data": {
            "text/plain": [
              "Ensino Médio - 2ª Série                                         21486\n",
              "Ensino Médio - 3ª Série                                         20314\n",
              "Curso Técnico Integrado (Ensino Médio Integrado) 3ª Série        3603\n",
              "Curso Técnico Integrado (Ensino Médio Integrado) 2ª Série        3140\n",
              "Curso Técnico Integrado (Ensino Médio Integrado) 4ª Série         977\n",
              "Curso Técnico Integrado (Ensino Médio Integrado) 1ª Série         731\n",
              "Ensino Médio - 1ª Série                                           599\n",
              "Curso Técnico Integrado (Ensino Médio Integrado) Não Seriada      190\n",
              "Ensino Médio - Não Seriada                                        139\n",
              "Ensino Médio - 4ª Série                                             1\n",
              "Name: Nome Etapa, dtype: int64"
            ]
          },
          "metadata": {
            "tags": []
          },
          "execution_count": 41
        }
      ]
    },
    {
      "cell_type": "code",
      "metadata": {
        "id": "88aa2FMav7rP",
        "colab_type": "code",
        "outputId": "f94d127d-aa36-4307-d448-f80628c124a4",
        "colab": {
          "base_uri": "https://localhost:8080/",
          "height": 204
        }
      },
      "source": [
        "matriculas_2018['Nome Etapa'].value_counts()"
      ],
      "execution_count": 0,
      "outputs": [
        {
          "output_type": "execute_result",
          "data": {
            "text/plain": [
              "Ensino Médio - 1ª Série                                         211899\n",
              "Ensino Médio - 2ª Série                                         168874\n",
              "Ensino Médio - 3ª Série                                         141134\n",
              "Curso Técnico Integrado (Ensino Médio Integrado) 1ª Série         9345\n",
              "Curso Técnico Integrado (Ensino Médio Integrado) 3ª Série         6874\n",
              "Curso Técnico Integrado (Ensino Médio Integrado) 2ª Série         6372\n",
              "Curso Técnico Integrado (Ensino Médio Integrado) Não Seriada      5003\n",
              "Curso Técnico Integrado (Ensino Médio Integrado) 4ª Série         1167\n",
              "Ensino Médio - Não Seriada                                         965\n",
              "Ensino Médio - 4ª Série                                              4\n",
              "Name: Nome Etapa, dtype: int64"
            ]
          },
          "metadata": {
            "tags": []
          },
          "execution_count": 42
        }
      ]
    },
    {
      "cell_type": "code",
      "metadata": {
        "id": "-n6_5PVXqGSX",
        "colab_type": "code",
        "outputId": "54e5c1eb-5720-497e-e035-c3d48c1bcfab",
        "colab": {
          "base_uri": "https://localhost:8080/",
          "height": 204
        }
      },
      "source": [
        "t1['Nome Etapa'].value_counts()/matriculas_2018['Nome Etapa'].value_counts()"
      ],
      "execution_count": 0,
      "outputs": [
        {
          "output_type": "execute_result",
          "data": {
            "text/plain": [
              "Curso Técnico Integrado (Ensino Médio Integrado) 1ª Série       0.078224\n",
              "Curso Técnico Integrado (Ensino Médio Integrado) 2ª Série       0.492781\n",
              "Curso Técnico Integrado (Ensino Médio Integrado) 3ª Série       0.524149\n",
              "Curso Técnico Integrado (Ensino Médio Integrado) 4ª Série       0.837189\n",
              "Curso Técnico Integrado (Ensino Médio Integrado) Não Seriada    0.037977\n",
              "Ensino Médio - 1ª Série                                         0.002827\n",
              "Ensino Médio - 2ª Série                                         0.127231\n",
              "Ensino Médio - 3ª Série                                         0.143934\n",
              "Ensino Médio - 4ª Série                                         0.250000\n",
              "Ensino Médio - Não Seriada                                      0.144041\n",
              "Name: Nome Etapa, dtype: float64"
            ]
          },
          "metadata": {
            "tags": []
          },
          "execution_count": 43
        }
      ]
    },
    {
      "cell_type": "code",
      "metadata": {
        "id": "7Y-xjIAiqc3N",
        "colab_type": "code",
        "colab": {}
      },
      "source": [
        "t2 = t1[['ID_MATRICULA', 'Código', 'Nome Etapa']].copy()\n",
        "t2 = t2.set_index('ID_MATRICULA')\n",
        "t2.columns = ['{}_2018'.format(i) for i in t2.columns]"
      ],
      "execution_count": 0,
      "outputs": []
    },
    {
      "cell_type": "code",
      "metadata": {
        "id": "rG_lg3cqraM7",
        "colab_type": "code",
        "colab": {}
      },
      "source": [
        "t3 = matriculas_2017[matriculas_2017['ID_MATRICULA'].isin(t2.index)][['ID_MATRICULA', \n",
        "                                                                      'Código', \n",
        "                                                                      'Nome Etapa']]\n",
        "t3 = t3.set_index('ID_MATRICULA')\n",
        "t3.columns = ['{}_2017'.format(i) for i in t3.columns]"
      ],
      "execution_count": 0,
      "outputs": []
    },
    {
      "cell_type": "code",
      "metadata": {
        "id": "giorew9TriEf",
        "colab_type": "code",
        "outputId": "3182537b-a3f3-4bde-f7af-064694b0d4bf",
        "colab": {
          "base_uri": "https://localhost:8080/",
          "height": 320
        }
      },
      "source": [
        "t4 = t3.join(t2)\n",
        "t4.head()"
      ],
      "execution_count": 0,
      "outputs": [
        {
          "output_type": "execute_result",
          "data": {
            "text/html": [
              "<div>\n",
              "<style scoped>\n",
              "    .dataframe tbody tr th:only-of-type {\n",
              "        vertical-align: middle;\n",
              "    }\n",
              "\n",
              "    .dataframe tbody tr th {\n",
              "        vertical-align: top;\n",
              "    }\n",
              "\n",
              "    .dataframe thead th {\n",
              "        text-align: right;\n",
              "    }\n",
              "</style>\n",
              "<table border=\"1\" class=\"dataframe\">\n",
              "  <thead>\n",
              "    <tr style=\"text-align: right;\">\n",
              "      <th></th>\n",
              "      <th>Código_2017</th>\n",
              "      <th>Nome Etapa_2017</th>\n",
              "      <th>Código_2018</th>\n",
              "      <th>Nome Etapa_2018</th>\n",
              "    </tr>\n",
              "    <tr>\n",
              "      <th>ID_MATRICULA</th>\n",
              "      <th></th>\n",
              "      <th></th>\n",
              "      <th></th>\n",
              "      <th></th>\n",
              "    </tr>\n",
              "  </thead>\n",
              "  <tbody>\n",
              "    <tr>\n",
              "      <th>112714907</th>\n",
              "      <td>32.0</td>\n",
              "      <td>Curso Técnico Integrado (Ensino Médio Integrad...</td>\n",
              "      <td>32.0</td>\n",
              "      <td>Curso Técnico Integrado (Ensino Médio Integrad...</td>\n",
              "    </tr>\n",
              "    <tr>\n",
              "      <th>230050529</th>\n",
              "      <td>32.0</td>\n",
              "      <td>Curso Técnico Integrado (Ensino Médio Integrad...</td>\n",
              "      <td>32.0</td>\n",
              "      <td>Curso Técnico Integrado (Ensino Médio Integrad...</td>\n",
              "    </tr>\n",
              "    <tr>\n",
              "      <th>265742730</th>\n",
              "      <td>32.0</td>\n",
              "      <td>Curso Técnico Integrado (Ensino Médio Integrad...</td>\n",
              "      <td>32.0</td>\n",
              "      <td>Curso Técnico Integrado (Ensino Médio Integrad...</td>\n",
              "    </tr>\n",
              "    <tr>\n",
              "      <th>213507004</th>\n",
              "      <td>32.0</td>\n",
              "      <td>Curso Técnico Integrado (Ensino Médio Integrad...</td>\n",
              "      <td>32.0</td>\n",
              "      <td>Curso Técnico Integrado (Ensino Médio Integrad...</td>\n",
              "    </tr>\n",
              "    <tr>\n",
              "      <th>107075699</th>\n",
              "      <td>32.0</td>\n",
              "      <td>Curso Técnico Integrado (Ensino Médio Integrad...</td>\n",
              "      <td>32.0</td>\n",
              "      <td>Curso Técnico Integrado (Ensino Médio Integrad...</td>\n",
              "    </tr>\n",
              "  </tbody>\n",
              "</table>\n",
              "</div>"
            ],
            "text/plain": [
              "              Código_2017  ...                                    Nome Etapa_2018\n",
              "ID_MATRICULA               ...                                                   \n",
              "112714907            32.0  ...  Curso Técnico Integrado (Ensino Médio Integrad...\n",
              "230050529            32.0  ...  Curso Técnico Integrado (Ensino Médio Integrad...\n",
              "265742730            32.0  ...  Curso Técnico Integrado (Ensino Médio Integrad...\n",
              "213507004            32.0  ...  Curso Técnico Integrado (Ensino Médio Integrad...\n",
              "107075699            32.0  ...  Curso Técnico Integrado (Ensino Médio Integrad...\n",
              "\n",
              "[5 rows x 4 columns]"
            ]
          },
          "metadata": {
            "tags": []
          },
          "execution_count": 46
        }
      ]
    },
    {
      "cell_type": "code",
      "metadata": {
        "id": "29FvZ6_Bsek3",
        "colab_type": "code",
        "outputId": "7bf11d52-f4df-4399-c9ac-ac397b9aaa72",
        "colab": {
          "base_uri": "https://localhost:8080/",
          "height": 170
        }
      },
      "source": [
        "t4.info()"
      ],
      "execution_count": 0,
      "outputs": [
        {
          "output_type": "stream",
          "text": [
            "<class 'pandas.core.frame.DataFrame'>\n",
            "Int64Index: 51180 entries, 112714907 to 265771418\n",
            "Data columns (total 4 columns):\n",
            "Código_2017        51180 non-null float64\n",
            "Nome Etapa_2017    51180 non-null object\n",
            "Código_2018        51180 non-null float64\n",
            "Nome Etapa_2018    51180 non-null object\n",
            "dtypes: float64(2), object(2)\n",
            "memory usage: 4.5+ MB\n"
          ],
          "name": "stdout"
        }
      ]
    },
    {
      "cell_type": "code",
      "metadata": {
        "id": "XfXV_d35sSWC",
        "colab_type": "code",
        "outputId": "2e973918-7143-428e-8ebb-c2c206417476",
        "colab": {
          "base_uri": "https://localhost:8080/",
          "height": 34
        }
      },
      "source": [
        "len(t4[t4['Código_2017'] < t4['Código_2018']])"
      ],
      "execution_count": 0,
      "outputs": [
        {
          "output_type": "execute_result",
          "data": {
            "text/plain": [
              "47937"
            ]
          },
          "metadata": {
            "tags": []
          },
          "execution_count": 48
        }
      ]
    },
    {
      "cell_type": "code",
      "metadata": {
        "id": "yTzlQPxVsh9E",
        "colab_type": "code",
        "outputId": "519fb0dd-734c-4f94-fbca-ffddccb460b8",
        "colab": {
          "base_uri": "https://localhost:8080/",
          "height": 34
        }
      },
      "source": [
        "len(t4[t4['Código_2017'] == t4['Código_2018']])"
      ],
      "execution_count": 0,
      "outputs": [
        {
          "output_type": "execute_result",
          "data": {
            "text/plain": [
              "3006"
            ]
          },
          "metadata": {
            "tags": []
          },
          "execution_count": 49
        }
      ]
    },
    {
      "cell_type": "code",
      "metadata": {
        "id": "UmHwOO_2sljv",
        "colab_type": "code",
        "outputId": "ded4450b-8c1f-4465-a04f-3cb1a2391434",
        "colab": {
          "base_uri": "https://localhost:8080/",
          "height": 458
        }
      },
      "source": [
        "t5 = t4[t4['Código_2017'] > t4['Código_2018']].reset_index()\n",
        "t5.groupby(['Código_2017', 'Nome Etapa_2017', 'Código_2018', 'Nome Etapa_2018']).count()"
      ],
      "execution_count": 0,
      "outputs": [
        {
          "output_type": "execute_result",
          "data": {
            "text/html": [
              "<div>\n",
              "<style scoped>\n",
              "    .dataframe tbody tr th:only-of-type {\n",
              "        vertical-align: middle;\n",
              "    }\n",
              "\n",
              "    .dataframe tbody tr th {\n",
              "        vertical-align: top;\n",
              "    }\n",
              "\n",
              "    .dataframe thead th {\n",
              "        text-align: right;\n",
              "    }\n",
              "</style>\n",
              "<table border=\"1\" class=\"dataframe\">\n",
              "  <thead>\n",
              "    <tr style=\"text-align: right;\">\n",
              "      <th></th>\n",
              "      <th></th>\n",
              "      <th></th>\n",
              "      <th></th>\n",
              "      <th>ID_MATRICULA</th>\n",
              "    </tr>\n",
              "    <tr>\n",
              "      <th>Código_2017</th>\n",
              "      <th>Nome Etapa_2017</th>\n",
              "      <th>Código_2018</th>\n",
              "      <th>Nome Etapa_2018</th>\n",
              "      <th></th>\n",
              "    </tr>\n",
              "  </thead>\n",
              "  <tbody>\n",
              "    <tr>\n",
              "      <th>29.0</th>\n",
              "      <th>Ensino Médio - Não Seriada</th>\n",
              "      <th>26.0</th>\n",
              "      <th>Ensino Médio - 2ª Série</th>\n",
              "      <td>17</td>\n",
              "    </tr>\n",
              "    <tr>\n",
              "      <th rowspan=\"2\" valign=\"top\">30.0</th>\n",
              "      <th rowspan=\"2\" valign=\"top\">Curso Técnico Integrado (Ensino Médio Integrado) 1ª Série</th>\n",
              "      <th>25.0</th>\n",
              "      <th>Ensino Médio - 1ª Série</th>\n",
              "      <td>17</td>\n",
              "    </tr>\n",
              "    <tr>\n",
              "      <th>26.0</th>\n",
              "      <th>Ensino Médio - 2ª Série</th>\n",
              "      <td>60</td>\n",
              "    </tr>\n",
              "    <tr>\n",
              "      <th rowspan=\"2\" valign=\"top\">31.0</th>\n",
              "      <th rowspan=\"2\" valign=\"top\">Curso Técnico Integrado (Ensino Médio Integrado) 2ª Série</th>\n",
              "      <th>26.0</th>\n",
              "      <th>Ensino Médio - 2ª Série</th>\n",
              "      <td>7</td>\n",
              "    </tr>\n",
              "    <tr>\n",
              "      <th>27.0</th>\n",
              "      <th>Ensino Médio - 3ª Série</th>\n",
              "      <td>65</td>\n",
              "    </tr>\n",
              "    <tr>\n",
              "      <th rowspan=\"3\" valign=\"top\">32.0</th>\n",
              "      <th rowspan=\"3\" valign=\"top\">Curso Técnico Integrado (Ensino Médio Integrado) 3ª Série</th>\n",
              "      <th>27.0</th>\n",
              "      <th>Ensino Médio - 3ª Série</th>\n",
              "      <td>1</td>\n",
              "    </tr>\n",
              "    <tr>\n",
              "      <th>30.0</th>\n",
              "      <th>Curso Técnico Integrado (Ensino Médio Integrado) 1ª Série</th>\n",
              "      <td>1</td>\n",
              "    </tr>\n",
              "    <tr>\n",
              "      <th>31.0</th>\n",
              "      <th>Curso Técnico Integrado (Ensino Médio Integrado) 2ª Série</th>\n",
              "      <td>45</td>\n",
              "    </tr>\n",
              "    <tr>\n",
              "      <th>33.0</th>\n",
              "      <th>Curso Técnico Integrado (Ensino Médio Integrado) 4ª Série</th>\n",
              "      <th>31.0</th>\n",
              "      <th>Curso Técnico Integrado (Ensino Médio Integrado) 2ª Série</th>\n",
              "      <td>17</td>\n",
              "    </tr>\n",
              "    <tr>\n",
              "      <th>34.0</th>\n",
              "      <th>Curso Técnico Integrado (Ensino Médio Integrado) Não Seriada</th>\n",
              "      <th>29.0</th>\n",
              "      <th>Ensino Médio - Não Seriada</th>\n",
              "      <td>7</td>\n",
              "    </tr>\n",
              "  </tbody>\n",
              "</table>\n",
              "</div>"
            ],
            "text/plain": [
              "                                                                                                                               ID_MATRICULA\n",
              "Código_2017 Nome Etapa_2017                                    Código_2018 Nome Etapa_2018                                                 \n",
              "29.0        Ensino Médio - Não Seriada                         26.0        Ensino Médio - 2ª Série                                       17\n",
              "30.0        Curso Técnico Integrado (Ensino Médio Integrado... 25.0        Ensino Médio - 1ª Série                                       17\n",
              "                                                               26.0        Ensino Médio - 2ª Série                                       60\n",
              "31.0        Curso Técnico Integrado (Ensino Médio Integrado... 26.0        Ensino Médio - 2ª Série                                        7\n",
              "                                                               27.0        Ensino Médio - 3ª Série                                       65\n",
              "32.0        Curso Técnico Integrado (Ensino Médio Integrado... 27.0        Ensino Médio - 3ª Série                                        1\n",
              "                                                               30.0        Curso Técnico Integrado (Ensino Médio Integrado...             1\n",
              "                                                               31.0        Curso Técnico Integrado (Ensino Médio Integrado...            45\n",
              "33.0        Curso Técnico Integrado (Ensino Médio Integrado... 31.0        Curso Técnico Integrado (Ensino Médio Integrado...            17\n",
              "34.0        Curso Técnico Integrado (Ensino Médio Integrado... 29.0        Ensino Médio - Não Seriada                                     7"
            ]
          },
          "metadata": {
            "tags": []
          },
          "execution_count": 50
        }
      ]
    },
    {
      "cell_type": "markdown",
      "metadata": {
        "id": "r2_nPsAQt958",
        "colab_type": "text"
      },
      "source": [
        "- Fluxos estranhos\n",
        " - EM 3a técnico (32) -> EM 2a técnico (31) \n",
        " - EM 4a técnico (33) -> EM 2a técnico (31) "
      ]
    },
    {
      "cell_type": "markdown",
      "metadata": {
        "id": "I-jKybn_bTMD",
        "colab_type": "text"
      },
      "source": [
        "### Matrículas 2017"
      ]
    },
    {
      "cell_type": "markdown",
      "metadata": {
        "id": "qRYivT9nnq-W",
        "colab_type": "text"
      },
      "source": [
        "#### Taxa de permanência (geral)\n",
        "\n",
        "- % de alunos que continuaram de 2016 para 2017 (OBS: % no 1º ano deve indicar repetência)"
      ]
    },
    {
      "cell_type": "code",
      "metadata": {
        "id": "TMkjcVHGco-s",
        "colab_type": "code",
        "outputId": "a72035f7-6cfd-4c2c-b790-b5b9208a183e",
        "colab": {
          "base_uri": "https://localhost:8080/",
          "height": 187
        }
      },
      "source": [
        "t6 = matriculas_2017[matriculas_2017['CO_PESSOA_FISICA'].isin(matriculas_2016['CO_PESSOA_FISICA'])]\n",
        "t6['Nome Etapa'].value_counts()"
      ],
      "execution_count": 0,
      "outputs": [
        {
          "output_type": "execute_result",
          "data": {
            "text/plain": [
              "Ensino Médio - 2ª Série                                         144015\n",
              "Ensino Médio - 3ª Série                                         128605\n",
              "Ensino Médio - 1ª Série                                          31043\n",
              "Curso Técnico Integrado (Ensino Médio Integrado) 2ª Série         7454\n",
              "Curso Técnico Integrado (Ensino Médio Integrado) 3ª Série         6387\n",
              "Curso Técnico Integrado (Ensino Médio Integrado) Não Seriada      3939\n",
              "Curso Técnico Integrado (Ensino Médio Integrado) 1ª Série         1700\n",
              "Curso Técnico Integrado (Ensino Médio Integrado) 4ª Série          711\n",
              "Ensino Médio - Não Seriada                                         320\n",
              "Name: Nome Etapa, dtype: int64"
            ]
          },
          "metadata": {
            "tags": []
          },
          "execution_count": 51
        }
      ]
    },
    {
      "cell_type": "code",
      "metadata": {
        "id": "_eHwsOw2d1RV",
        "colab_type": "code",
        "outputId": "98e37e45-529f-4636-e604-6ddbbe0a5815",
        "colab": {
          "base_uri": "https://localhost:8080/",
          "height": 204
        }
      },
      "source": [
        "t6['Nome Etapa'].value_counts()/matriculas_2017['Nome Etapa'].value_counts()"
      ],
      "execution_count": 0,
      "outputs": [
        {
          "output_type": "execute_result",
          "data": {
            "text/plain": [
              "Curso Técnico Integrado (Ensino Médio Integrado) 1ª Série       0.228433\n",
              "Curso Técnico Integrado (Ensino Médio Integrado) 2ª Série       0.942351\n",
              "Curso Técnico Integrado (Ensino Médio Integrado) 3ª Série       0.961174\n",
              "Curso Técnico Integrado (Ensino Médio Integrado) 4ª Série       0.958221\n",
              "Curso Técnico Integrado (Ensino Médio Integrado) Não Seriada    0.813339\n",
              "Ensino Médio - 1ª Série                                         0.145408\n",
              "Ensino Médio - 2ª Série                                         0.863011\n",
              "Ensino Médio - 3ª Série                                         0.897121\n",
              "Ensino Médio - 4ª Série                                              NaN\n",
              "Ensino Médio - Não Seriada                                      0.325203\n",
              "Name: Nome Etapa, dtype: float64"
            ]
          },
          "metadata": {
            "tags": []
          },
          "execution_count": 52
        }
      ]
    },
    {
      "cell_type": "code",
      "metadata": {
        "id": "s2YhA3YamycP",
        "colab_type": "code",
        "colab": {}
      },
      "source": [
        "t7 = t6[['CO_PESSOA_FISICA', 'ID_MATRICULA', 'Nome Etapa', 'CO_ENTIDADE']].copy()\n",
        "t7 = t7.set_index('CO_PESSOA_FISICA')\n",
        "\n",
        "t8 = matriculas_2016[['CO_PESSOA_FISICA', 'ID_MATRICULA', 'Nome Etapa', 'CO_ENTIDADE']].copy()\n",
        "t8 = t8.set_index('CO_PESSOA_FISICA')"
      ],
      "execution_count": 0,
      "outputs": []
    },
    {
      "cell_type": "code",
      "metadata": {
        "id": "MAZZOuukMs2c",
        "colab_type": "code",
        "outputId": "acfc16a5-e97b-4915-f74d-305f40dbc8e9",
        "colab": {
          "base_uri": "https://localhost:8080/",
          "height": 337
        }
      },
      "source": [
        "t8 = t7.join(t8, how='inner', lsuffix='_2017', rsuffix='_2016')\n",
        "t8.head()"
      ],
      "execution_count": 0,
      "outputs": [
        {
          "output_type": "execute_result",
          "data": {
            "text/html": [
              "<div>\n",
              "<style scoped>\n",
              "    .dataframe tbody tr th:only-of-type {\n",
              "        vertical-align: middle;\n",
              "    }\n",
              "\n",
              "    .dataframe tbody tr th {\n",
              "        vertical-align: top;\n",
              "    }\n",
              "\n",
              "    .dataframe thead th {\n",
              "        text-align: right;\n",
              "    }\n",
              "</style>\n",
              "<table border=\"1\" class=\"dataframe\">\n",
              "  <thead>\n",
              "    <tr style=\"text-align: right;\">\n",
              "      <th></th>\n",
              "      <th>ID_MATRICULA_2017</th>\n",
              "      <th>Nome Etapa_2017</th>\n",
              "      <th>CO_ENTIDADE_2017</th>\n",
              "      <th>ID_MATRICULA_2016</th>\n",
              "      <th>Nome Etapa_2016</th>\n",
              "      <th>CO_ENTIDADE_2016</th>\n",
              "    </tr>\n",
              "    <tr>\n",
              "      <th>CO_PESSOA_FISICA</th>\n",
              "      <th></th>\n",
              "      <th></th>\n",
              "      <th></th>\n",
              "      <th></th>\n",
              "      <th></th>\n",
              "      <th></th>\n",
              "    </tr>\n",
              "  </thead>\n",
              "  <tbody>\n",
              "    <tr>\n",
              "      <th>110002564725</th>\n",
              "      <td>246790367</td>\n",
              "      <td>Ensino Médio - 3ª Série</td>\n",
              "      <td>33128618</td>\n",
              "      <td>210021163</td>\n",
              "      <td>Ensino Médio - 2ª Série</td>\n",
              "      <td>33128618</td>\n",
              "    </tr>\n",
              "    <tr>\n",
              "      <th>110002955759</th>\n",
              "      <td>225914660</td>\n",
              "      <td>Ensino Médio - 3ª Série</td>\n",
              "      <td>33067856</td>\n",
              "      <td>187953842</td>\n",
              "      <td>Ensino Médio - 2ª Série</td>\n",
              "      <td>33114340</td>\n",
              "    </tr>\n",
              "    <tr>\n",
              "      <th>110003579297</th>\n",
              "      <td>235499029</td>\n",
              "      <td>Ensino Médio - 2ª Série</td>\n",
              "      <td>33447217</td>\n",
              "      <td>214494738</td>\n",
              "      <td>Ensino Médio - 1ª Série</td>\n",
              "      <td>33447217</td>\n",
              "    </tr>\n",
              "    <tr>\n",
              "      <th>110006171302</th>\n",
              "      <td>257958434</td>\n",
              "      <td>Ensino Médio - 1ª Série</td>\n",
              "      <td>33132879</td>\n",
              "      <td>211210614</td>\n",
              "      <td>Ensino Médio - 2ª Série</td>\n",
              "      <td>33132879</td>\n",
              "    </tr>\n",
              "    <tr>\n",
              "      <th>110006339009</th>\n",
              "      <td>257902795</td>\n",
              "      <td>Ensino Médio - 1ª Série</td>\n",
              "      <td>33069026</td>\n",
              "      <td>211261300</td>\n",
              "      <td>Ensino Médio - 1ª Série</td>\n",
              "      <td>33069026</td>\n",
              "    </tr>\n",
              "  </tbody>\n",
              "</table>\n",
              "</div>"
            ],
            "text/plain": [
              "                  ID_MATRICULA_2017  ... CO_ENTIDADE_2016\n",
              "CO_PESSOA_FISICA                     ...                 \n",
              "110002564725              246790367  ...         33128618\n",
              "110002955759              225914660  ...         33114340\n",
              "110003579297              235499029  ...         33447217\n",
              "110006171302              257958434  ...         33132879\n",
              "110006339009              257902795  ...         33069026\n",
              "\n",
              "[5 rows x 6 columns]"
            ]
          },
          "metadata": {
            "tags": []
          },
          "execution_count": 61
        }
      ]
    },
    {
      "cell_type": "code",
      "metadata": {
        "id": "xYQDyrn5DUm6",
        "colab_type": "code",
        "outputId": "83bfc993-ecf2-44d1-e7ef-92039642a34b",
        "colab": {
          "base_uri": "https://localhost:8080/",
          "height": 204
        }
      },
      "source": [
        "t8.info()"
      ],
      "execution_count": 0,
      "outputs": [
        {
          "output_type": "stream",
          "text": [
            "<class 'pandas.core.frame.DataFrame'>\n",
            "Int64Index: 324670 entries, 110002564725 to 145877467629\n",
            "Data columns (total 6 columns):\n",
            "ID_MATRICULA_2017    324670 non-null int64\n",
            "Nome Etapa_2017      324670 non-null object\n",
            "CO_ENTIDADE_2017     324670 non-null int64\n",
            "ID_MATRICULA_2016    324670 non-null int64\n",
            "Nome Etapa_2016      324670 non-null object\n",
            "CO_ENTIDADE_2016     324670 non-null int64\n",
            "dtypes: int64(4), object(2)\n",
            "memory usage: 17.3+ MB\n"
          ],
          "name": "stdout"
        }
      ]
    },
    {
      "cell_type": "markdown",
      "metadata": {
        "id": "fWNI_2i9EL6j",
        "colab_type": "text"
      },
      "source": [
        "Por que tem alun@s pulando/voltando de etapa de ensino?"
      ]
    },
    {
      "cell_type": "code",
      "metadata": {
        "id": "_MQ77JalDxm9",
        "colab_type": "code",
        "outputId": "0b287684-d9a0-4c41-dc86-d527897484cd",
        "colab": {
          "base_uri": "https://localhost:8080/",
          "height": 1000
        }
      },
      "source": [
        "t8[['Nome Etapa_2016', 'Nome Etapa_2017']].reset_index().groupby(['Nome Etapa_2016', 'Nome Etapa_2017']).count()"
      ],
      "execution_count": 0,
      "outputs": [
        {
          "output_type": "execute_result",
          "data": {
            "text/html": [
              "<div>\n",
              "<style scoped>\n",
              "    .dataframe tbody tr th:only-of-type {\n",
              "        vertical-align: middle;\n",
              "    }\n",
              "\n",
              "    .dataframe tbody tr th {\n",
              "        vertical-align: top;\n",
              "    }\n",
              "\n",
              "    .dataframe thead th {\n",
              "        text-align: right;\n",
              "    }\n",
              "</style>\n",
              "<table border=\"1\" class=\"dataframe\">\n",
              "  <thead>\n",
              "    <tr style=\"text-align: right;\">\n",
              "      <th></th>\n",
              "      <th></th>\n",
              "      <th>CO_PESSOA_FISICA</th>\n",
              "    </tr>\n",
              "    <tr>\n",
              "      <th>Nome Etapa_2016</th>\n",
              "      <th>Nome Etapa_2017</th>\n",
              "      <th></th>\n",
              "    </tr>\n",
              "  </thead>\n",
              "  <tbody>\n",
              "    <tr>\n",
              "      <th rowspan=\"8\" valign=\"top\">Curso Técnico Integrado (Ensino Médio Integrado) 1ª Série</th>\n",
              "      <th>Curso Técnico Integrado (Ensino Médio Integrado) 1ª Série</th>\n",
              "      <td>1224</td>\n",
              "    </tr>\n",
              "    <tr>\n",
              "      <th>Curso Técnico Integrado (Ensino Médio Integrado) 2ª Série</th>\n",
              "      <td>6315</td>\n",
              "    </tr>\n",
              "    <tr>\n",
              "      <th>Curso Técnico Integrado (Ensino Médio Integrado) 3ª Série</th>\n",
              "      <td>11</td>\n",
              "    </tr>\n",
              "    <tr>\n",
              "      <th>Curso Técnico Integrado (Ensino Médio Integrado) Não Seriada</th>\n",
              "      <td>70</td>\n",
              "    </tr>\n",
              "    <tr>\n",
              "      <th>Ensino Médio - 1ª Série</th>\n",
              "      <td>509</td>\n",
              "    </tr>\n",
              "    <tr>\n",
              "      <th>Ensino Médio - 2ª Série</th>\n",
              "      <td>700</td>\n",
              "    </tr>\n",
              "    <tr>\n",
              "      <th>Ensino Médio - 3ª Série</th>\n",
              "      <td>37</td>\n",
              "    </tr>\n",
              "    <tr>\n",
              "      <th>Ensino Médio - Não Seriada</th>\n",
              "      <td>2</td>\n",
              "    </tr>\n",
              "    <tr>\n",
              "      <th rowspan=\"9\" valign=\"top\">Curso Técnico Integrado (Ensino Médio Integrado) 2ª Série</th>\n",
              "      <th>Curso Técnico Integrado (Ensino Médio Integrado) 1ª Série</th>\n",
              "      <td>4</td>\n",
              "    </tr>\n",
              "    <tr>\n",
              "      <th>Curso Técnico Integrado (Ensino Médio Integrado) 2ª Série</th>\n",
              "      <td>635</td>\n",
              "    </tr>\n",
              "    <tr>\n",
              "      <th>Curso Técnico Integrado (Ensino Médio Integrado) 3ª Série</th>\n",
              "      <td>5962</td>\n",
              "    </tr>\n",
              "    <tr>\n",
              "      <th>Curso Técnico Integrado (Ensino Médio Integrado) 4ª Série</th>\n",
              "      <td>45</td>\n",
              "    </tr>\n",
              "    <tr>\n",
              "      <th>Curso Técnico Integrado (Ensino Médio Integrado) Não Seriada</th>\n",
              "      <td>35</td>\n",
              "    </tr>\n",
              "    <tr>\n",
              "      <th>Ensino Médio - 1ª Série</th>\n",
              "      <td>10</td>\n",
              "    </tr>\n",
              "    <tr>\n",
              "      <th>Ensino Médio - 2ª Série</th>\n",
              "      <td>127</td>\n",
              "    </tr>\n",
              "    <tr>\n",
              "      <th>Ensino Médio - 3ª Série</th>\n",
              "      <td>398</td>\n",
              "    </tr>\n",
              "    <tr>\n",
              "      <th>Ensino Médio - Não Seriada</th>\n",
              "      <td>1</td>\n",
              "    </tr>\n",
              "    <tr>\n",
              "      <th rowspan=\"8\" valign=\"top\">Curso Técnico Integrado (Ensino Médio Integrado) 3ª Série</th>\n",
              "      <th>Curso Técnico Integrado (Ensino Médio Integrado) 1ª Série</th>\n",
              "      <td>1</td>\n",
              "    </tr>\n",
              "    <tr>\n",
              "      <th>Curso Técnico Integrado (Ensino Médio Integrado) 2ª Série</th>\n",
              "      <td>38</td>\n",
              "    </tr>\n",
              "    <tr>\n",
              "      <th>Curso Técnico Integrado (Ensino Médio Integrado) 3ª Série</th>\n",
              "      <td>372</td>\n",
              "    </tr>\n",
              "    <tr>\n",
              "      <th>Curso Técnico Integrado (Ensino Médio Integrado) 4ª Série</th>\n",
              "      <td>432</td>\n",
              "    </tr>\n",
              "    <tr>\n",
              "      <th>Curso Técnico Integrado (Ensino Médio Integrado) Não Seriada</th>\n",
              "      <td>14</td>\n",
              "    </tr>\n",
              "    <tr>\n",
              "      <th>Ensino Médio - 1ª Série</th>\n",
              "      <td>1</td>\n",
              "    </tr>\n",
              "    <tr>\n",
              "      <th>Ensino Médio - 2ª Série</th>\n",
              "      <td>1</td>\n",
              "    </tr>\n",
              "    <tr>\n",
              "      <th>Ensino Médio - 3ª Série</th>\n",
              "      <td>30</td>\n",
              "    </tr>\n",
              "    <tr>\n",
              "      <th rowspan=\"2\" valign=\"top\">Curso Técnico Integrado (Ensino Médio Integrado) 4ª Série</th>\n",
              "      <th>Curso Técnico Integrado (Ensino Médio Integrado) 2ª Série</th>\n",
              "      <td>14</td>\n",
              "    </tr>\n",
              "    <tr>\n",
              "      <th>Curso Técnico Integrado (Ensino Médio Integrado) 4ª Série</th>\n",
              "      <td>234</td>\n",
              "    </tr>\n",
              "    <tr>\n",
              "      <th rowspan=\"5\" valign=\"top\">Curso Técnico Integrado (Ensino Médio Integrado) Não Seriada</th>\n",
              "      <th>Curso Técnico Integrado (Ensino Médio Integrado) 1ª Série</th>\n",
              "      <td>4</td>\n",
              "    </tr>\n",
              "    <tr>\n",
              "      <th>Curso Técnico Integrado (Ensino Médio Integrado) 2ª Série</th>\n",
              "      <td>2</td>\n",
              "    </tr>\n",
              "    <tr>\n",
              "      <th>Curso Técnico Integrado (Ensino Médio Integrado) 3ª Série</th>\n",
              "      <td>2</td>\n",
              "    </tr>\n",
              "    <tr>\n",
              "      <th>...</th>\n",
              "      <td>...</td>\n",
              "    </tr>\n",
              "    <tr>\n",
              "      <th>Ensino Médio - Não Seriada</th>\n",
              "      <td>13</td>\n",
              "    </tr>\n",
              "    <tr>\n",
              "      <th rowspan=\"8\" valign=\"top\">Ensino Médio - 1ª Série</th>\n",
              "      <th>Curso Técnico Integrado (Ensino Médio Integrado) 1ª Série</th>\n",
              "      <td>437</td>\n",
              "    </tr>\n",
              "    <tr>\n",
              "      <th>Curso Técnico Integrado (Ensino Médio Integrado) 2ª Série</th>\n",
              "      <td>413</td>\n",
              "    </tr>\n",
              "    <tr>\n",
              "      <th>Curso Técnico Integrado (Ensino Médio Integrado) 3ª Série</th>\n",
              "      <td>4</td>\n",
              "    </tr>\n",
              "    <tr>\n",
              "      <th>Curso Técnico Integrado (Ensino Médio Integrado) Não Seriada</th>\n",
              "      <td>461</td>\n",
              "    </tr>\n",
              "    <tr>\n",
              "      <th>Ensino Médio - 1ª Série</th>\n",
              "      <td>30221</td>\n",
              "    </tr>\n",
              "    <tr>\n",
              "      <th>Ensino Médio - 2ª Série</th>\n",
              "      <td>128943</td>\n",
              "    </tr>\n",
              "    <tr>\n",
              "      <th>Ensino Médio - 3ª Série</th>\n",
              "      <td>392</td>\n",
              "    </tr>\n",
              "    <tr>\n",
              "      <th>Ensino Médio - Não Seriada</th>\n",
              "      <td>79</td>\n",
              "    </tr>\n",
              "    <tr>\n",
              "      <th rowspan=\"8\" valign=\"top\">Ensino Médio - 2ª Série</th>\n",
              "      <th>Curso Técnico Integrado (Ensino Médio Integrado) 1ª Série</th>\n",
              "      <td>25</td>\n",
              "    </tr>\n",
              "    <tr>\n",
              "      <th>Curso Técnico Integrado (Ensino Médio Integrado) 2ª Série</th>\n",
              "      <td>42</td>\n",
              "    </tr>\n",
              "    <tr>\n",
              "      <th>Curso Técnico Integrado (Ensino Médio Integrado) 3ª Série</th>\n",
              "      <td>34</td>\n",
              "    </tr>\n",
              "    <tr>\n",
              "      <th>Curso Técnico Integrado (Ensino Médio Integrado) Não Seriada</th>\n",
              "      <td>67</td>\n",
              "    </tr>\n",
              "    <tr>\n",
              "      <th>Ensino Médio - 1ª Série</th>\n",
              "      <td>172</td>\n",
              "    </tr>\n",
              "    <tr>\n",
              "      <th>Ensino Médio - 2ª Série</th>\n",
              "      <td>14274</td>\n",
              "    </tr>\n",
              "    <tr>\n",
              "      <th>Ensino Médio - 3ª Série</th>\n",
              "      <td>122970</td>\n",
              "    </tr>\n",
              "    <tr>\n",
              "      <th>Ensino Médio - Não Seriada</th>\n",
              "      <td>80</td>\n",
              "    </tr>\n",
              "    <tr>\n",
              "      <th rowspan=\"7\" valign=\"top\">Ensino Médio - 3ª Série</th>\n",
              "      <th>Curso Técnico Integrado (Ensino Médio Integrado) 1ª Série</th>\n",
              "      <td>6</td>\n",
              "    </tr>\n",
              "    <tr>\n",
              "      <th>Curso Técnico Integrado (Ensino Médio Integrado) 3ª Série</th>\n",
              "      <td>2</td>\n",
              "    </tr>\n",
              "    <tr>\n",
              "      <th>Curso Técnico Integrado (Ensino Médio Integrado) Não Seriada</th>\n",
              "      <td>1</td>\n",
              "    </tr>\n",
              "    <tr>\n",
              "      <th>Ensino Médio - 1ª Série</th>\n",
              "      <td>51</td>\n",
              "    </tr>\n",
              "    <tr>\n",
              "      <th>Ensino Médio - 2ª Série</th>\n",
              "      <td>21</td>\n",
              "    </tr>\n",
              "    <tr>\n",
              "      <th>Ensino Médio - 3ª Série</th>\n",
              "      <td>4901</td>\n",
              "    </tr>\n",
              "    <tr>\n",
              "      <th>Ensino Médio - Não Seriada</th>\n",
              "      <td>4</td>\n",
              "    </tr>\n",
              "    <tr>\n",
              "      <th rowspan=\"6\" valign=\"top\">Ensino Médio - Não Seriada</th>\n",
              "      <th>Curso Técnico Integrado (Ensino Médio Integrado) 2ª Série</th>\n",
              "      <td>2</td>\n",
              "    </tr>\n",
              "    <tr>\n",
              "      <th>Curso Técnico Integrado (Ensino Médio Integrado) Não Seriada</th>\n",
              "      <td>362</td>\n",
              "    </tr>\n",
              "    <tr>\n",
              "      <th>Ensino Médio - 1ª Série</th>\n",
              "      <td>32</td>\n",
              "    </tr>\n",
              "    <tr>\n",
              "      <th>Ensino Médio - 2ª Série</th>\n",
              "      <td>72</td>\n",
              "    </tr>\n",
              "    <tr>\n",
              "      <th>Ensino Médio - 3ª Série</th>\n",
              "      <td>22</td>\n",
              "    </tr>\n",
              "    <tr>\n",
              "      <th>Ensino Médio - Não Seriada</th>\n",
              "      <td>141</td>\n",
              "    </tr>\n",
              "  </tbody>\n",
              "</table>\n",
              "<p>64 rows × 1 columns</p>\n",
              "</div>"
            ],
            "text/plain": [
              "                                                                                                       CO_PESSOA_FISICA\n",
              "Nome Etapa_2016                                    Nome Etapa_2017                                                     \n",
              "Curso Técnico Integrado (Ensino Médio Integrado... Curso Técnico Integrado (Ensino Médio Integrado...              1224\n",
              "                                                   Curso Técnico Integrado (Ensino Médio Integrado...              6315\n",
              "                                                   Curso Técnico Integrado (Ensino Médio Integrado...                11\n",
              "                                                   Curso Técnico Integrado (Ensino Médio Integrado...                70\n",
              "                                                   Ensino Médio - 1ª Série                                          509\n",
              "                                                   Ensino Médio - 2ª Série                                          700\n",
              "                                                   Ensino Médio - 3ª Série                                           37\n",
              "                                                   Ensino Médio - Não Seriada                                         2\n",
              "Curso Técnico Integrado (Ensino Médio Integrado... Curso Técnico Integrado (Ensino Médio Integrado...                 4\n",
              "                                                   Curso Técnico Integrado (Ensino Médio Integrado...               635\n",
              "                                                   Curso Técnico Integrado (Ensino Médio Integrado...              5962\n",
              "                                                   Curso Técnico Integrado (Ensino Médio Integrado...                45\n",
              "                                                   Curso Técnico Integrado (Ensino Médio Integrado...                35\n",
              "                                                   Ensino Médio - 1ª Série                                           10\n",
              "                                                   Ensino Médio - 2ª Série                                          127\n",
              "                                                   Ensino Médio - 3ª Série                                          398\n",
              "                                                   Ensino Médio - Não Seriada                                         1\n",
              "Curso Técnico Integrado (Ensino Médio Integrado... Curso Técnico Integrado (Ensino Médio Integrado...                 1\n",
              "                                                   Curso Técnico Integrado (Ensino Médio Integrado...                38\n",
              "                                                   Curso Técnico Integrado (Ensino Médio Integrado...               372\n",
              "                                                   Curso Técnico Integrado (Ensino Médio Integrado...               432\n",
              "                                                   Curso Técnico Integrado (Ensino Médio Integrado...                14\n",
              "                                                   Ensino Médio - 1ª Série                                            1\n",
              "                                                   Ensino Médio - 2ª Série                                            1\n",
              "                                                   Ensino Médio - 3ª Série                                           30\n",
              "Curso Técnico Integrado (Ensino Médio Integrado... Curso Técnico Integrado (Ensino Médio Integrado...                14\n",
              "                                                   Curso Técnico Integrado (Ensino Médio Integrado...               234\n",
              "Curso Técnico Integrado (Ensino Médio Integrado... Curso Técnico Integrado (Ensino Médio Integrado...                 4\n",
              "                                                   Curso Técnico Integrado (Ensino Médio Integrado...                 2\n",
              "                                                   Curso Técnico Integrado (Ensino Médio Integrado...                 2\n",
              "...                                                                                                                 ...\n",
              "                                                   Ensino Médio - Não Seriada                                        13\n",
              "Ensino Médio - 1ª Série                            Curso Técnico Integrado (Ensino Médio Integrado...               437\n",
              "                                                   Curso Técnico Integrado (Ensino Médio Integrado...               413\n",
              "                                                   Curso Técnico Integrado (Ensino Médio Integrado...                 4\n",
              "                                                   Curso Técnico Integrado (Ensino Médio Integrado...               461\n",
              "                                                   Ensino Médio - 1ª Série                                        30221\n",
              "                                                   Ensino Médio - 2ª Série                                       128943\n",
              "                                                   Ensino Médio - 3ª Série                                          392\n",
              "                                                   Ensino Médio - Não Seriada                                        79\n",
              "Ensino Médio - 2ª Série                            Curso Técnico Integrado (Ensino Médio Integrado...                25\n",
              "                                                   Curso Técnico Integrado (Ensino Médio Integrado...                42\n",
              "                                                   Curso Técnico Integrado (Ensino Médio Integrado...                34\n",
              "                                                   Curso Técnico Integrado (Ensino Médio Integrado...                67\n",
              "                                                   Ensino Médio - 1ª Série                                          172\n",
              "                                                   Ensino Médio - 2ª Série                                        14274\n",
              "                                                   Ensino Médio - 3ª Série                                       122970\n",
              "                                                   Ensino Médio - Não Seriada                                        80\n",
              "Ensino Médio - 3ª Série                            Curso Técnico Integrado (Ensino Médio Integrado...                 6\n",
              "                                                   Curso Técnico Integrado (Ensino Médio Integrado...                 2\n",
              "                                                   Curso Técnico Integrado (Ensino Médio Integrado...                 1\n",
              "                                                   Ensino Médio - 1ª Série                                           51\n",
              "                                                   Ensino Médio - 2ª Série                                           21\n",
              "                                                   Ensino Médio - 3ª Série                                         4901\n",
              "                                                   Ensino Médio - Não Seriada                                         4\n",
              "Ensino Médio - Não Seriada                         Curso Técnico Integrado (Ensino Médio Integrado...                 2\n",
              "                                                   Curso Técnico Integrado (Ensino Médio Integrado...               362\n",
              "                                                   Ensino Médio - 1ª Série                                           32\n",
              "                                                   Ensino Médio - 2ª Série                                           72\n",
              "                                                   Ensino Médio - 3ª Série                                           22\n",
              "                                                   Ensino Médio - Não Seriada                                       141\n",
              "\n",
              "[64 rows x 1 columns]"
            ]
          },
          "metadata": {
            "tags": []
          },
          "execution_count": 65
        }
      ]
    },
    {
      "cell_type": "code",
      "metadata": {
        "id": "UVC7s96jojRc",
        "colab_type": "code",
        "outputId": "ee552e46-77ce-4ea9-8fa8-9f92c61ec7c7",
        "colab": {
          "base_uri": "https://localhost:8080/",
          "height": 34
        }
      },
      "source": [
        "# quant@s alun@s permaneceram?\n",
        "len(t8)"
      ],
      "execution_count": 0,
      "outputs": [
        {
          "output_type": "execute_result",
          "data": {
            "text/plain": [
              "324670"
            ]
          },
          "metadata": {
            "tags": []
          },
          "execution_count": 55
        }
      ]
    },
    {
      "cell_type": "code",
      "metadata": {
        "id": "gICyrxqCoxN5",
        "colab_type": "code",
        "outputId": "86836404-2984-4e5b-8362-1b5e7006548e",
        "colab": {
          "base_uri": "https://localhost:8080/",
          "height": 34
        }
      },
      "source": [
        "# quant@s mudaram de escola?\n",
        "len(t8[t8['CO_ENTIDADE_2017'] != t8['CO_ENTIDADE_2016']])"
      ],
      "execution_count": 0,
      "outputs": [
        {
          "output_type": "execute_result",
          "data": {
            "text/plain": [
              "50475"
            ]
          },
          "metadata": {
            "tags": []
          },
          "execution_count": 56
        }
      ]
    },
    {
      "cell_type": "code",
      "metadata": {
        "id": "SdltUQZ4Zmc5",
        "colab_type": "code",
        "outputId": "89f7f6e3-8b3a-4a53-d18d-2b6cc251f16d",
        "colab": {
          "base_uri": "https://localhost:8080/",
          "height": 34
        }
      },
      "source": [
        "# quant@s têm a mesma matrícula?\n",
        "len(t8[t8['ID_MATRICULA_2017'] == t8['ID_MATRICULA_2016']])"
      ],
      "execution_count": 0,
      "outputs": [
        {
          "output_type": "execute_result",
          "data": {
            "text/plain": [
              "52994"
            ]
          },
          "metadata": {
            "tags": []
          },
          "execution_count": 57
        }
      ]
    },
    {
      "cell_type": "code",
      "metadata": {
        "id": "dQ4hnmZmM1J2",
        "colab_type": "code",
        "outputId": "6d0fb962-6add-4989-bacf-d351205d8d0e",
        "colab": {
          "base_uri": "https://localhost:8080/",
          "height": 155
        }
      },
      "source": [
        "# pode haver duplicada de CPF + escola + etapa (repetência), mas não ID_TURMA\n",
        "matriculas_2017[matriculas_2017[['CO_PESSOA_FISICA', 'TP_ETAPA_ENSINO', 'CO_ENTIDADE', 'ID_TURMA']].duplicated()]"
      ],
      "execution_count": 0,
      "outputs": [
        {
          "output_type": "execute_result",
          "data": {
            "text/html": [
              "<div>\n",
              "<style scoped>\n",
              "    .dataframe tbody tr th:only-of-type {\n",
              "        vertical-align: middle;\n",
              "    }\n",
              "\n",
              "    .dataframe tbody tr th {\n",
              "        vertical-align: top;\n",
              "    }\n",
              "\n",
              "    .dataframe thead th {\n",
              "        text-align: right;\n",
              "    }\n",
              "</style>\n",
              "<table border=\"1\" class=\"dataframe\">\n",
              "  <thead>\n",
              "    <tr style=\"text-align: right;\">\n",
              "      <th></th>\n",
              "      <th>NU_ANO_CENSO</th>\n",
              "      <th>ID_MATRICULA</th>\n",
              "      <th>CO_PESSOA_FISICA</th>\n",
              "      <th>NU_DIA</th>\n",
              "      <th>NU_MES</th>\n",
              "      <th>NU_ANO</th>\n",
              "      <th>NU_IDADE_REFERENCIA</th>\n",
              "      <th>NU_IDADE</th>\n",
              "      <th>NU_DURACAO_TURMA</th>\n",
              "      <th>NU_DUR_ATIV_COMP_MESMA_REDE</th>\n",
              "      <th>NU_DUR_ATIV_COMP_OUTRAS_REDES</th>\n",
              "      <th>NU_DUR_AEE_MESMA_REDE</th>\n",
              "      <th>NU_DUR_AEE_OUTRAS_REDES</th>\n",
              "      <th>NU_DIAS_ATIVIDADE</th>\n",
              "      <th>TP_SEXO</th>\n",
              "      <th>TP_COR_RACA</th>\n",
              "      <th>TP_NACIONALIDADE</th>\n",
              "      <th>CO_PAIS_ORIGEM</th>\n",
              "      <th>CO_UF_NASC</th>\n",
              "      <th>CO_MUNICIPIO_NASC</th>\n",
              "      <th>CO_UF_END</th>\n",
              "      <th>CO_MUNICIPIO_END</th>\n",
              "      <th>TP_ZONA_RESIDENCIAL</th>\n",
              "      <th>TP_OUTRO_LOCAL_AULA</th>\n",
              "      <th>IN_TRANSPORTE_PUBLICO</th>\n",
              "      <th>TP_RESPONSAVEL_TRANSPORTE</th>\n",
              "      <th>IN_TRANSP_VANS_KOMBI</th>\n",
              "      <th>IN_TRANSP_MICRO_ONIBUS</th>\n",
              "      <th>IN_TRANSP_ONIBUS</th>\n",
              "      <th>IN_TRANSP_BICICLETA</th>\n",
              "      <th>IN_TRANSP_TR_ANIMAL</th>\n",
              "      <th>IN_TRANSP_OUTRO_VEICULO</th>\n",
              "      <th>IN_TRANSP_EMBAR_ATE5</th>\n",
              "      <th>IN_TRANSP_EMBAR_5A15</th>\n",
              "      <th>IN_TRANSP_EMBAR_15A35</th>\n",
              "      <th>IN_TRANSP_EMBAR_35</th>\n",
              "      <th>IN_TRANSP_TREM_METRO</th>\n",
              "      <th>IN_NECESSIDADE_ESPECIAL</th>\n",
              "      <th>IN_CEGUEIRA</th>\n",
              "      <th>IN_BAIXA_VISAO</th>\n",
              "      <th>...</th>\n",
              "      <th>IN_RECURSO_LIBRAS</th>\n",
              "      <th>IN_RECURSO_LABIAL</th>\n",
              "      <th>IN_RECURSO_BRAILLE</th>\n",
              "      <th>IN_RECURSO_AMPLIADA_16</th>\n",
              "      <th>IN_RECURSO_AMPLIADA_20</th>\n",
              "      <th>IN_RECURSO_AMPLIADA_24</th>\n",
              "      <th>IN_RECURSO_NENHUM</th>\n",
              "      <th>TP_INGRESSO_FEDERAIS</th>\n",
              "      <th>TP_MEDIACAO_DIDATICO_PEDAGO</th>\n",
              "      <th>IN_ESPECIAL_EXCLUSIVA</th>\n",
              "      <th>IN_REGULAR</th>\n",
              "      <th>IN_EJA</th>\n",
              "      <th>IN_PROFISSIONALIZANTE</th>\n",
              "      <th>TP_ETAPA_ENSINO</th>\n",
              "      <th>ID_TURMA</th>\n",
              "      <th>CO_CURSO_EDUC_PROFISSIONAL</th>\n",
              "      <th>TP_UNIFICADA</th>\n",
              "      <th>TP_TIPO_TURMA</th>\n",
              "      <th>CO_ENTIDADE</th>\n",
              "      <th>CO_REGIAO</th>\n",
              "      <th>CO_MESORREGIAO</th>\n",
              "      <th>CO_MICRORREGIAO</th>\n",
              "      <th>CO_UF</th>\n",
              "      <th>CO_MUNICIPIO</th>\n",
              "      <th>CO_DISTRITO</th>\n",
              "      <th>TP_DEPENDENCIA</th>\n",
              "      <th>TP_LOCALIZACAO</th>\n",
              "      <th>TP_CATEGORIA_ESCOLA_PRIVADA</th>\n",
              "      <th>IN_CONVENIADA_PP</th>\n",
              "      <th>TP_CONVENIO_PODER_PUBLICO</th>\n",
              "      <th>IN_MANT_ESCOLA_PRIVADA_EMP</th>\n",
              "      <th>IN_MANT_ESCOLA_PRIVADA_ONG</th>\n",
              "      <th>IN_MANT_ESCOLA_PRIVADA_SIND</th>\n",
              "      <th>IN_MANT_ESCOLA_PRIVADA_SIST_S</th>\n",
              "      <th>IN_MANT_ESCOLA_PRIVADA_S_FINS</th>\n",
              "      <th>TP_REGULAMENTACAO</th>\n",
              "      <th>TP_LOCALIZACAO_DIFERENCIADA</th>\n",
              "      <th>IN_EDUCACAO_INDIGENA</th>\n",
              "      <th>Código</th>\n",
              "      <th>Nome Etapa</th>\n",
              "    </tr>\n",
              "  </thead>\n",
              "  <tbody>\n",
              "  </tbody>\n",
              "</table>\n",
              "<p>0 rows × 94 columns</p>\n",
              "</div>"
            ],
            "text/plain": [
              "Empty DataFrame\n",
              "Columns: [NU_ANO_CENSO, ID_MATRICULA, CO_PESSOA_FISICA, NU_DIA, NU_MES, NU_ANO, NU_IDADE_REFERENCIA, NU_IDADE, NU_DURACAO_TURMA, NU_DUR_ATIV_COMP_MESMA_REDE, NU_DUR_ATIV_COMP_OUTRAS_REDES, NU_DUR_AEE_MESMA_REDE, NU_DUR_AEE_OUTRAS_REDES, NU_DIAS_ATIVIDADE, TP_SEXO, TP_COR_RACA, TP_NACIONALIDADE, CO_PAIS_ORIGEM, CO_UF_NASC, CO_MUNICIPIO_NASC, CO_UF_END, CO_MUNICIPIO_END, TP_ZONA_RESIDENCIAL, TP_OUTRO_LOCAL_AULA, IN_TRANSPORTE_PUBLICO, TP_RESPONSAVEL_TRANSPORTE, IN_TRANSP_VANS_KOMBI, IN_TRANSP_MICRO_ONIBUS, IN_TRANSP_ONIBUS, IN_TRANSP_BICICLETA, IN_TRANSP_TR_ANIMAL, IN_TRANSP_OUTRO_VEICULO, IN_TRANSP_EMBAR_ATE5, IN_TRANSP_EMBAR_5A15, IN_TRANSP_EMBAR_15A35, IN_TRANSP_EMBAR_35, IN_TRANSP_TREM_METRO, IN_NECESSIDADE_ESPECIAL, IN_CEGUEIRA, IN_BAIXA_VISAO, IN_SURDEZ, IN_DEF_AUDITIVA, IN_SURDOCEGUEIRA, IN_DEF_FISICA, IN_DEF_INTELECTUAL, IN_DEF_MULTIPLA, IN_AUTISMO, IN_SINDROME_ASPERGER, IN_SINDROME_RETT, IN_TRANSTORNO_DI, IN_SUPERDOTACAO, IN_RECURSO_LEDOR, IN_RECURSO_TRANSCRICAO, IN_RECURSO_INTERPRETE, IN_RECURSO_LIBRAS, IN_RECURSO_LABIAL, IN_RECURSO_BRAILLE, IN_RECURSO_AMPLIADA_16, IN_RECURSO_AMPLIADA_20, IN_RECURSO_AMPLIADA_24, IN_RECURSO_NENHUM, TP_INGRESSO_FEDERAIS, TP_MEDIACAO_DIDATICO_PEDAGO, IN_ESPECIAL_EXCLUSIVA, IN_REGULAR, IN_EJA, IN_PROFISSIONALIZANTE, TP_ETAPA_ENSINO, ID_TURMA, CO_CURSO_EDUC_PROFISSIONAL, TP_UNIFICADA, TP_TIPO_TURMA, CO_ENTIDADE, CO_REGIAO, CO_MESORREGIAO, CO_MICRORREGIAO, CO_UF, CO_MUNICIPIO, CO_DISTRITO, TP_DEPENDENCIA, TP_LOCALIZACAO, TP_CATEGORIA_ESCOLA_PRIVADA, IN_CONVENIADA_PP, TP_CONVENIO_PODER_PUBLICO, IN_MANT_ESCOLA_PRIVADA_EMP, IN_MANT_ESCOLA_PRIVADA_ONG, IN_MANT_ESCOLA_PRIVADA_SIND, IN_MANT_ESCOLA_PRIVADA_SIST_S, IN_MANT_ESCOLA_PRIVADA_S_FINS, TP_REGULAMENTACAO, TP_LOCALIZACAO_DIFERENCIADA, IN_EDUCACAO_INDIGENA, Código, Nome Etapa]\n",
              "Index: []\n",
              "\n",
              "[0 rows x 94 columns]"
            ]
          },
          "metadata": {
            "tags": []
          },
          "execution_count": 58
        }
      ]
    },
    {
      "cell_type": "code",
      "metadata": {
        "id": "Pf4pkNMkbHsk",
        "colab_type": "code",
        "colab": {}
      },
      "source": [
        ""
      ],
      "execution_count": 0,
      "outputs": []
    },
    {
      "cell_type": "markdown",
      "metadata": {
        "id": "M5nPjihyajmL",
        "colab_type": "text"
      },
      "source": [
        "## GERAÇÃO DA BASE DE FLUXO 2016-2017"
      ]
    },
    {
      "cell_type": "code",
      "metadata": {
        "id": "HuiOTL35arpr",
        "colab_type": "code",
        "outputId": "8dfa4786-fe45-450d-840e-c4d2f1c78531",
        "colab": {
          "base_uri": "https://localhost:8080/",
          "height": 34
        }
      },
      "source": [
        "# vou manter somente @s alun@s que são únicos (99,9%) e estadual (DEP = 2)\n",
        "alunes_2016_EM1 = matriculas_2016[matriculas_2016['CO_PESSOA_FISICA'].isin(duplicado_2016) == False]\n",
        "alunes_2016_EM1 = alunes_2016_EM1[(alunes_2016_EM1['Nome Etapa'] == 'Ensino Médio - 1ª Série') & (alunes_2016_EM1['TP_DEPENDENCIA'] == 2)]\n",
        "len(alunes_2016_EM1)"
      ],
      "execution_count": 0,
      "outputs": [
        {
          "output_type": "execute_result",
          "data": {
            "text/plain": [
              "178662"
            ]
          },
          "metadata": {
            "tags": []
          },
          "execution_count": 82
        }
      ]
    },
    {
      "cell_type": "code",
      "metadata": {
        "id": "A6_oYilwb9yL",
        "colab_type": "code",
        "colab": {}
      },
      "source": [
        "alunes_2016_EM1.to_csv(MOD_PATH+'alunes_2016_EM1.csv')"
      ],
      "execution_count": 0,
      "outputs": []
    },
    {
      "cell_type": "code",
      "metadata": {
        "id": "IXvui_9zdYNg",
        "colab_type": "code",
        "colab": {}
      },
      "source": [
        "charset \"ISO-8859-1\"."
      ],
      "execution_count": 0,
      "outputs": []
    }
  ]
}