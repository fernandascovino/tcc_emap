{
 "cells": [
  {
   "cell_type": "markdown",
   "metadata": {
    "toc": true
   },
   "source": [
    "<h1>Table of Contents<span class=\"tocSkip\"></span></h1>\n",
    "<div class=\"toc\"><ul class=\"toc-item\"><li><span><a href=\"#Importando-dataframe\" data-toc-modified-id=\"Importando-dataframe-1\"><span class=\"toc-item-num\">1&nbsp;&nbsp;</span>Importando dataframe</a></span><ul class=\"toc-item\"><li><span><a href=\"#Normalizando-o-dado\" data-toc-modified-id=\"Normalizando-o-dado-1.1\"><span class=\"toc-item-num\">1.1&nbsp;&nbsp;</span>Normalizando o dado</a></span></li><li><span><a href=\"#Separando-treino-e-teste\" data-toc-modified-id=\"Separando-treino-e-teste-1.2\"><span class=\"toc-item-num\">1.2&nbsp;&nbsp;</span>Separando treino e teste</a></span></li><li><span><a href=\"#Dados-balanceados\" data-toc-modified-id=\"Dados-balanceados-1.3\"><span class=\"toc-item-num\">1.3&nbsp;&nbsp;</span>Dados balanceados</a></span></li></ul></li></ul></div>"
   ]
  },
  {
   "cell_type": "markdown",
   "metadata": {},
   "source": [
    "# Separação dos dados de treino e teste"
   ]
  },
  {
   "cell_type": "code",
   "execution_count": 1,
   "metadata": {},
   "outputs": [
    {
     "data": {
      "text/html": [
       "        <script type=\"text/javascript\">\n",
       "        window.PlotlyConfig = {MathJaxConfig: 'local'};\n",
       "        if (window.MathJax) {MathJax.Hub.Config({SVG: {font: \"STIX-Web\"}});}\n",
       "        if (typeof require !== 'undefined') {\n",
       "        require.undef(\"plotly\");\n",
       "        requirejs.config({\n",
       "            paths: {\n",
       "                'plotly': ['https://cdn.plot.ly/plotly-latest.min']\n",
       "            }\n",
       "        });\n",
       "        require(['plotly'], function(Plotly) {\n",
       "            window._Plotly = Plotly;\n",
       "        });\n",
       "        }\n",
       "        </script>\n",
       "        "
      ]
     },
     "metadata": {},
     "output_type": "display_data"
    },
    {
     "data": {
      "text/html": [
       "        <script type=\"text/javascript\">\n",
       "        window.PlotlyConfig = {MathJaxConfig: 'local'};\n",
       "        if (window.MathJax) {MathJax.Hub.Config({SVG: {font: \"STIX-Web\"}});}\n",
       "        if (typeof require !== 'undefined') {\n",
       "        require.undef(\"plotly\");\n",
       "        requirejs.config({\n",
       "            paths: {\n",
       "                'plotly': ['https://cdn.plot.ly/plotly-latest.min']\n",
       "            }\n",
       "        });\n",
       "        require(['plotly'], function(Plotly) {\n",
       "            window._Plotly = Plotly;\n",
       "        });\n",
       "        }\n",
       "        </script>\n",
       "        "
      ]
     },
     "metadata": {},
     "output_type": "display_data"
    }
   ],
   "source": [
    "# %load first_cell.py\n",
    "%reload_ext autoreload\n",
    "%autoreload 2\n",
    "\n",
    "from paths import RAW_PATH, TREAT_PATH, OUTPUT_PATH, FIGURES_PATH, MODEL_PATH\n",
    "\n",
    "import os\n",
    "from copy import deepcopy\n",
    "import numpy as np\n",
    "import pandas as pd\n",
    "pd.options.display.max_columns = 999\n",
    "import pandas_profiling\n",
    "\n",
    "import warnings\n",
    "warnings.filterwarnings('ignore')\n",
    "\n",
    "# Plotting\n",
    "import plotly\n",
    "import plotly.graph_objs as go\n",
    "import cufflinks as cf\n",
    "plotly.offline.init_notebook_mode(connected=True)\n",
    "\n",
    "# Metrics\n",
    "from plot_metrics import plot_roc, plot_confusion\n",
    "\n",
    "cf.go_offline()\n",
    "cf.set_config_file(offline=False, world_readable=True)\n",
    "\n",
    "colorscale = ['#025951', '#8BD9CA', '#BF7F30', '#F2C124', '#8C470B', '#DFC27D']"
   ]
  },
  {
   "cell_type": "markdown",
   "metadata": {},
   "source": [
    "## Importando dataframe"
   ]
  },
  {
   "cell_type": "code",
   "execution_count": 2,
   "metadata": {},
   "outputs": [
    {
     "name": "stdout",
     "output_type": "stream",
     "text": [
      "<class 'pandas.core.frame.DataFrame'>\n",
      "Int64Index: 182838 entries, 0 to 182837\n",
      "Data columns (total 19 columns):\n",
      "ID                            182838 non-null int64\n",
      "CO_ENTIDADE                   182838 non-null int64\n",
      "TP_SEXO                       182838 non-null int64\n",
      "NU_IDADE                      182838 non-null int64\n",
      "IN_DISTORCAO                  182838 non-null int64\n",
      "IN_TRANSPORTE_PUBLICO         182838 non-null int64\n",
      "IN_LOCAL_ESCOLA               182838 non-null int64\n",
      "N_TURMA                       182838 non-null int64\n",
      "IN_EVASAO                     182838 non-null int64\n",
      "NU_ANO_CENSO                  182838 non-null int64\n",
      "CO_MUNICIPIO                  182838 non-null int64\n",
      "IN_LABORATORIO_INFORMATICA    182838 non-null float64\n",
      "IN_LABORATORIO_CIENCIAS       182838 non-null float64\n",
      "IN_QUADRA_ESPORTES            182838 non-null float64\n",
      "IN_BIBLIOTECA                 182838 non-null float64\n",
      "IN_BANHEIRO_FORA_PREDIO       182838 non-null float64\n",
      "IN_AREA_VERDE                 182838 non-null float64\n",
      "IN_N_COMP_15                  182838 non-null int64\n",
      "NIVEL                         149234 non-null float64\n",
      "dtypes: float64(7), int64(12)\n",
      "memory usage: 27.9 MB\n"
     ]
    }
   ],
   "source": [
    "df = pd.read_csv(TREAT_PATH / 'analysis' / 'df_alunos.csv', index_col=0)\n",
    "df.info()"
   ]
  },
  {
   "cell_type": "code",
   "execution_count": 3,
   "metadata": {},
   "outputs": [
    {
     "data": {
      "text/html": [
       "<div>\n",
       "<style scoped>\n",
       "    .dataframe tbody tr th:only-of-type {\n",
       "        vertical-align: middle;\n",
       "    }\n",
       "\n",
       "    .dataframe tbody tr th {\n",
       "        vertical-align: top;\n",
       "    }\n",
       "\n",
       "    .dataframe thead th {\n",
       "        text-align: right;\n",
       "    }\n",
       "</style>\n",
       "<table border=\"1\" class=\"dataframe\">\n",
       "  <thead>\n",
       "    <tr style=\"text-align: right;\">\n",
       "      <th></th>\n",
       "      <th>ID</th>\n",
       "      <th>CO_ENTIDADE</th>\n",
       "      <th>TP_SEXO</th>\n",
       "      <th>NU_IDADE</th>\n",
       "      <th>IN_DISTORCAO</th>\n",
       "      <th>IN_TRANSPORTE_PUBLICO</th>\n",
       "      <th>IN_LOCAL_ESCOLA</th>\n",
       "      <th>N_TURMA</th>\n",
       "      <th>IN_EVASAO</th>\n",
       "      <th>CO_MUNICIPIO</th>\n",
       "      <th>IN_LABORATORIO_INFORMATICA</th>\n",
       "      <th>IN_LABORATORIO_CIENCIAS</th>\n",
       "      <th>IN_QUADRA_ESPORTES</th>\n",
       "      <th>IN_BIBLIOTECA</th>\n",
       "      <th>IN_BANHEIRO_FORA_PREDIO</th>\n",
       "      <th>IN_AREA_VERDE</th>\n",
       "      <th>IN_N_COMP_15</th>\n",
       "      <th>NIVEL</th>\n",
       "    </tr>\n",
       "  </thead>\n",
       "  <tbody>\n",
       "    <tr>\n",
       "      <th>0</th>\n",
       "      <td>112132289130</td>\n",
       "      <td>33009627</td>\n",
       "      <td>2</td>\n",
       "      <td>17</td>\n",
       "      <td>0</td>\n",
       "      <td>0</td>\n",
       "      <td>2</td>\n",
       "      <td>0</td>\n",
       "      <td>0</td>\n",
       "      <td>3301009</td>\n",
       "      <td>1.0</td>\n",
       "      <td>1.0</td>\n",
       "      <td>1.0</td>\n",
       "      <td>1.0</td>\n",
       "      <td>1.0</td>\n",
       "      <td>0.0</td>\n",
       "      <td>1</td>\n",
       "      <td>3.0</td>\n",
       "    </tr>\n",
       "    <tr>\n",
       "      <th>1</th>\n",
       "      <td>113220290328</td>\n",
       "      <td>33009627</td>\n",
       "      <td>2</td>\n",
       "      <td>21</td>\n",
       "      <td>1</td>\n",
       "      <td>0</td>\n",
       "      <td>2</td>\n",
       "      <td>0</td>\n",
       "      <td>1</td>\n",
       "      <td>3301009</td>\n",
       "      <td>1.0</td>\n",
       "      <td>1.0</td>\n",
       "      <td>1.0</td>\n",
       "      <td>1.0</td>\n",
       "      <td>1.0</td>\n",
       "      <td>0.0</td>\n",
       "      <td>1</td>\n",
       "      <td>3.0</td>\n",
       "    </tr>\n",
       "  </tbody>\n",
       "</table>\n",
       "</div>"
      ],
      "text/plain": [
       "             ID  CO_ENTIDADE  TP_SEXO  NU_IDADE  IN_DISTORCAO  \\\n",
       "0  112132289130     33009627        2        17             0   \n",
       "1  113220290328     33009627        2        21             1   \n",
       "\n",
       "   IN_TRANSPORTE_PUBLICO  IN_LOCAL_ESCOLA  N_TURMA  IN_EVASAO  CO_MUNICIPIO  \\\n",
       "0                      0                2        0          0       3301009   \n",
       "1                      0                2        0          1       3301009   \n",
       "\n",
       "   IN_LABORATORIO_INFORMATICA  IN_LABORATORIO_CIENCIAS  IN_QUADRA_ESPORTES  \\\n",
       "0                         1.0                      1.0                 1.0   \n",
       "1                         1.0                      1.0                 1.0   \n",
       "\n",
       "   IN_BIBLIOTECA  IN_BANHEIRO_FORA_PREDIO  IN_AREA_VERDE  IN_N_COMP_15  NIVEL  \n",
       "0            1.0                      1.0            0.0             1    3.0  \n",
       "1            1.0                      1.0            0.0             1    3.0  "
      ]
     },
     "execution_count": 3,
     "metadata": {},
     "output_type": "execute_result"
    }
   ],
   "source": [
    "df = df.drop('NU_ANO_CENSO', axis=1)\n",
    "df.head(2)"
   ]
  },
  {
   "cell_type": "code",
   "execution_count": 4,
   "metadata": {},
   "outputs": [
    {
     "data": {
      "text/plain": [
       "0    0.657172\n",
       "1    0.342828\n",
       "Name: IN_EVASAO, dtype: float64"
      ]
     },
     "execution_count": 4,
     "metadata": {},
     "output_type": "execute_result"
    }
   ],
   "source": [
    "df['IN_EVASAO'].value_counts(normalize=True)"
   ]
  },
  {
   "cell_type": "code",
   "execution_count": 5,
   "metadata": {},
   "outputs": [
    {
     "name": "stdout",
     "output_type": "stream",
     "text": [
      "<class 'pandas.core.frame.DataFrame'>\n",
      "Int64Index: 149234 entries, 0 to 182836\n",
      "Data columns (total 18 columns):\n",
      "ID                            149234 non-null int64\n",
      "CO_ENTIDADE                   149234 non-null int64\n",
      "TP_SEXO                       149234 non-null int64\n",
      "NU_IDADE                      149234 non-null int64\n",
      "IN_DISTORCAO                  149234 non-null int64\n",
      "IN_TRANSPORTE_PUBLICO         149234 non-null int64\n",
      "IN_LOCAL_ESCOLA               149234 non-null int64\n",
      "N_TURMA                       149234 non-null int64\n",
      "IN_EVASAO                     149234 non-null int64\n",
      "CO_MUNICIPIO                  149234 non-null int64\n",
      "IN_LABORATORIO_INFORMATICA    149234 non-null float64\n",
      "IN_LABORATORIO_CIENCIAS       149234 non-null float64\n",
      "IN_QUADRA_ESPORTES            149234 non-null float64\n",
      "IN_BIBLIOTECA                 149234 non-null float64\n",
      "IN_BANHEIRO_FORA_PREDIO       149234 non-null float64\n",
      "IN_AREA_VERDE                 149234 non-null float64\n",
      "IN_N_COMP_15                  149234 non-null int64\n",
      "NIVEL                         149234 non-null float64\n",
      "dtypes: float64(7), int64(11)\n",
      "memory usage: 21.6 MB\n"
     ]
    }
   ],
   "source": [
    "df = df.dropna()\n",
    "df.info()"
   ]
  },
  {
   "cell_type": "code",
   "execution_count": 6,
   "metadata": {},
   "outputs": [
    {
     "data": {
      "text/plain": [
       "0    0.676689\n",
       "1    0.323311\n",
       "Name: IN_EVASAO, dtype: float64"
      ]
     },
     "execution_count": 6,
     "metadata": {},
     "output_type": "execute_result"
    }
   ],
   "source": [
    "df['IN_EVASAO'].value_counts(normalize=True)"
   ]
  },
  {
   "cell_type": "code",
   "execution_count": 7,
   "metadata": {},
   "outputs": [
    {
     "data": {
      "text/plain": [
       "111677686633    1\n",
       "116834315887    1\n",
       "112387438468    1\n",
       "144787363408    1\n",
       "144782776569    1\n",
       "Name: ID, dtype: int64"
      ]
     },
     "execution_count": 7,
     "metadata": {},
     "output_type": "execute_result"
    }
   ],
   "source": [
    "# Unicidade do ID\n",
    "df['ID'].value_counts()[:5]"
   ]
  },
  {
   "cell_type": "code",
   "execution_count": 8,
   "metadata": {},
   "outputs": [],
   "source": [
    "df = df.set_index('ID', drop=True)"
   ]
  },
  {
   "cell_type": "code",
   "execution_count": 9,
   "metadata": {},
   "outputs": [
    {
     "data": {
      "text/html": [
       "<div>\n",
       "<style scoped>\n",
       "    .dataframe tbody tr th:only-of-type {\n",
       "        vertical-align: middle;\n",
       "    }\n",
       "\n",
       "    .dataframe tbody tr th {\n",
       "        vertical-align: top;\n",
       "    }\n",
       "\n",
       "    .dataframe thead th {\n",
       "        text-align: right;\n",
       "    }\n",
       "</style>\n",
       "<table border=\"1\" class=\"dataframe\">\n",
       "  <thead>\n",
       "    <tr style=\"text-align: right;\">\n",
       "      <th></th>\n",
       "      <th>CO_ENTIDADE</th>\n",
       "      <th>TP_SEXO</th>\n",
       "      <th>NU_IDADE</th>\n",
       "      <th>IN_DISTORCAO</th>\n",
       "      <th>IN_TRANSPORTE_PUBLICO</th>\n",
       "      <th>IN_LOCAL_ESCOLA</th>\n",
       "      <th>N_TURMA</th>\n",
       "      <th>CO_MUNICIPIO</th>\n",
       "      <th>IN_LABORATORIO_INFORMATICA</th>\n",
       "      <th>IN_LABORATORIO_CIENCIAS</th>\n",
       "      <th>IN_QUADRA_ESPORTES</th>\n",
       "      <th>IN_BIBLIOTECA</th>\n",
       "      <th>IN_BANHEIRO_FORA_PREDIO</th>\n",
       "      <th>IN_AREA_VERDE</th>\n",
       "      <th>IN_N_COMP_15</th>\n",
       "      <th>NIVEL</th>\n",
       "    </tr>\n",
       "    <tr>\n",
       "      <th>ID</th>\n",
       "      <th></th>\n",
       "      <th></th>\n",
       "      <th></th>\n",
       "      <th></th>\n",
       "      <th></th>\n",
       "      <th></th>\n",
       "      <th></th>\n",
       "      <th></th>\n",
       "      <th></th>\n",
       "      <th></th>\n",
       "      <th></th>\n",
       "      <th></th>\n",
       "      <th></th>\n",
       "      <th></th>\n",
       "      <th></th>\n",
       "      <th></th>\n",
       "    </tr>\n",
       "  </thead>\n",
       "  <tbody>\n",
       "    <tr>\n",
       "      <th>112132289130</th>\n",
       "      <td>33009627</td>\n",
       "      <td>2</td>\n",
       "      <td>17</td>\n",
       "      <td>0</td>\n",
       "      <td>0</td>\n",
       "      <td>2</td>\n",
       "      <td>0</td>\n",
       "      <td>3301009</td>\n",
       "      <td>1.0</td>\n",
       "      <td>1.0</td>\n",
       "      <td>1.0</td>\n",
       "      <td>1.0</td>\n",
       "      <td>1.0</td>\n",
       "      <td>0.0</td>\n",
       "      <td>1</td>\n",
       "      <td>3.0</td>\n",
       "    </tr>\n",
       "    <tr>\n",
       "      <th>113220290328</th>\n",
       "      <td>33009627</td>\n",
       "      <td>2</td>\n",
       "      <td>21</td>\n",
       "      <td>1</td>\n",
       "      <td>0</td>\n",
       "      <td>2</td>\n",
       "      <td>0</td>\n",
       "      <td>3301009</td>\n",
       "      <td>1.0</td>\n",
       "      <td>1.0</td>\n",
       "      <td>1.0</td>\n",
       "      <td>1.0</td>\n",
       "      <td>1.0</td>\n",
       "      <td>0.0</td>\n",
       "      <td>1</td>\n",
       "      <td>3.0</td>\n",
       "    </tr>\n",
       "  </tbody>\n",
       "</table>\n",
       "</div>"
      ],
      "text/plain": [
       "              CO_ENTIDADE  TP_SEXO  NU_IDADE  IN_DISTORCAO  \\\n",
       "ID                                                           \n",
       "112132289130     33009627        2        17             0   \n",
       "113220290328     33009627        2        21             1   \n",
       "\n",
       "              IN_TRANSPORTE_PUBLICO  IN_LOCAL_ESCOLA  N_TURMA  CO_MUNICIPIO  \\\n",
       "ID                                                                            \n",
       "112132289130                      0                2        0       3301009   \n",
       "113220290328                      0                2        0       3301009   \n",
       "\n",
       "              IN_LABORATORIO_INFORMATICA  IN_LABORATORIO_CIENCIAS  \\\n",
       "ID                                                                  \n",
       "112132289130                         1.0                      1.0   \n",
       "113220290328                         1.0                      1.0   \n",
       "\n",
       "              IN_QUADRA_ESPORTES  IN_BIBLIOTECA  IN_BANHEIRO_FORA_PREDIO  \\\n",
       "ID                                                                         \n",
       "112132289130                 1.0            1.0                      1.0   \n",
       "113220290328                 1.0            1.0                      1.0   \n",
       "\n",
       "              IN_AREA_VERDE  IN_N_COMP_15  NIVEL  \n",
       "ID                                                \n",
       "112132289130            0.0             1    3.0  \n",
       "113220290328            0.0             1    3.0  "
      ]
     },
     "execution_count": 9,
     "metadata": {},
     "output_type": "execute_result"
    }
   ],
   "source": [
    "X = df.columns\n",
    "X = X.drop('IN_EVASAO')\n",
    "df_x = df[X]\n",
    "\n",
    "df_x.head(2)"
   ]
  },
  {
   "cell_type": "code",
   "execution_count": 10,
   "metadata": {},
   "outputs": [
    {
     "data": {
      "text/plain": [
       "ID\n",
       "112132289130    0\n",
       "113220290328    1\n",
       "112752673352    0\n",
       "117459545545    0\n",
       "113868062938    1\n",
       "Name: IN_EVASAO, dtype: int64"
      ]
     },
     "execution_count": 10,
     "metadata": {},
     "output_type": "execute_result"
    }
   ],
   "source": [
    "y = df['IN_EVASAO']\n",
    "y.head()"
   ]
  },
  {
   "cell_type": "markdown",
   "metadata": {},
   "source": [
    "### Normalizando o dado\n",
    "\n",
    "Normalização das variáveis contínuas do dado."
   ]
  },
  {
   "cell_type": "code",
   "execution_count": 28,
   "metadata": {},
   "outputs": [],
   "source": [
    "from sklearn.preprocessing import OrdinalEncoder\n",
    "\n",
    "enc = OrdinalEncoder()\n",
    "X_norm = enc.fit_transform(df_x)\n",
    "\n",
    "# # Salvando encoder\n",
    "# import pickle\n",
    "# filename = 'ordinal_encoder.sav'\n",
    "# pickle.dump(enc, open(MODEL_PATH / filename, 'wb'))\n",
    "\n",
    "import pickle\n",
    "filename = 'ordinal_encoder.sav'\n",
    "enc = pickle.load(open(MODEL_PATH / filename,\"rb\"))"
   ]
  },
  {
   "cell_type": "code",
   "execution_count": 29,
   "metadata": {},
   "outputs": [
    {
     "data": {
      "text/plain": [
       "[array([33000026, 33000042, 33000158, 33000360, 33000670, 33001014,\n",
       "        33001022, 33001278, 33001286, 33001294, 33001316, 33001332,\n",
       "        33001359, 33001456, 33001650, 33002126, 33002258, 33002312,\n",
       "        33002614, 33002827, 33003386, 33003394, 33003424, 33003858,\n",
       "        33004226, 33004447, 33004749, 33004943, 33005362, 33005478,\n",
       "        33005664, 33005990, 33006296, 33006458, 33006571, 33006660,\n",
       "        33006679, 33006709, 33006776, 33007101, 33007306, 33007403,\n",
       "        33007420, 33007900, 33008272, 33008299, 33008370, 33008388,\n",
       "        33008396, 33008418, 33008434, 33008442, 33008450, 33008485,\n",
       "        33008493, 33008663, 33008728, 33008736, 33008752, 33008795,\n",
       "        33008850, 33008868, 33008892, 33008981, 33009007, 33009120,\n",
       "        33009627, 33009775, 33010110, 33010170, 33010269, 33010528,\n",
       "        33010889, 33011095, 33011400, 33011427, 33011435, 33011460,\n",
       "        33011621, 33011842, 33012040, 33012083, 33012121, 33012393,\n",
       "        33012407, 33012458, 33013160, 33013322, 33013497, 33013535,\n",
       "        33013551, 33013683, 33013691, 33013802, 33013837, 33013918,\n",
       "        33014086, 33014116, 33014310, 33014809, 33015090, 33015180,\n",
       "        33015260, 33015279, 33015295, 33015309, 33015317, 33015333,\n",
       "        33015341, 33015740, 33016836, 33017000, 33017093, 33017107,\n",
       "        33017492, 33017522, 33017646, 33017786, 33017930, 33018073,\n",
       "        33018286, 33018332, 33018340, 33018359, 33018367, 33018405,\n",
       "        33018430, 33018650, 33018820, 33019223, 33019428, 33019673,\n",
       "        33019681, 33019789, 33020116, 33020140, 33020396, 33020434,\n",
       "        33020540, 33020558, 33020710, 33020779, 33020957, 33021082,\n",
       "        33021236, 33021694, 33021708, 33021813, 33021830, 33021848,\n",
       "        33021864, 33021880, 33021902, 33021937, 33021945, 33021961,\n",
       "        33022003, 33022011, 33022569, 33022810, 33022968, 33023212,\n",
       "        33023298, 33023310, 33023751, 33024480, 33024537, 33024650,\n",
       "        33024952, 33025100, 33025150, 33025320, 33025347, 33025355,\n",
       "        33025363, 33025487, 33025525, 33025576, 33025754, 33025835,\n",
       "        33026386, 33026432, 33026440, 33026726, 33027102, 33027285,\n",
       "        33027315, 33027323, 33027439, 33027447, 33027455, 33028087,\n",
       "        33028095, 33028109, 33028125, 33028133, 33028192, 33028540,\n",
       "        33028583, 33028605, 33028729, 33028958, 33028974, 33029342,\n",
       "        33029369, 33029377, 33029385, 33029407, 33029660, 33029679,\n",
       "        33029717, 33030170, 33030189, 33030286, 33030359, 33030456,\n",
       "        33030987, 33031142, 33031185, 33031380, 33031401, 33031428,\n",
       "        33031479, 33031509, 33031711, 33031720, 33031738, 33031843,\n",
       "        33032130, 33032220, 33032360, 33032734, 33032742, 33032793,\n",
       "        33032807, 33032815, 33032823, 33032939, 33032998, 33033005,\n",
       "        33033030, 33033056, 33033099, 33033110, 33033129, 33033145,\n",
       "        33033170, 33033188, 33033200, 33033978, 33033994, 33034273,\n",
       "        33034311, 33034320, 33034443, 33034508, 33034540, 33034869,\n",
       "        33035059, 33035334, 33035407, 33035458, 33035466, 33035628,\n",
       "        33035644, 33035652, 33035679, 33035962, 33035970, 33036004,\n",
       "        33036071, 33036209, 33036519, 33036594, 33036632, 33036640,\n",
       "        33036691, 33036713, 33037027, 33037230, 33037337, 33037515,\n",
       "        33037523, 33037965, 33038040, 33038228, 33038260, 33038473,\n",
       "        33038724, 33038791, 33038872, 33038880, 33038899, 33038929,\n",
       "        33039186, 33039216, 33039402, 33039569, 33039585, 33039593,\n",
       "        33040087, 33040125, 33040141, 33040150, 33040400, 33041210,\n",
       "        33041253, 33041326, 33041628, 33041776, 33041946, 33042519,\n",
       "        33042527, 33042543, 33042667, 33042683, 33042705, 33042730,\n",
       "        33043132, 33043523, 33043612, 33043655, 33043752, 33043760,\n",
       "        33043779, 33044147, 33044325, 33044333, 33044368, 33044384,\n",
       "        33044406, 33044473, 33044708, 33044880, 33044899, 33044929,\n",
       "        33044953, 33044961, 33045062, 33045070, 33045089, 33045291,\n",
       "        33045445, 33045496, 33045542, 33045550, 33045577, 33045844,\n",
       "        33046174, 33046247, 33046263, 33046514, 33046522, 33046530,\n",
       "        33046549, 33046565, 33046573, 33046581, 33046603, 33046620,\n",
       "        33046654, 33046743, 33046751, 33046778, 33046786, 33046794,\n",
       "        33046808, 33046816, 33046824, 33046867, 33047243, 33047278,\n",
       "        33047286, 33047294, 33047308, 33047316, 33047324, 33047332,\n",
       "        33047910, 33047936, 33047944, 33047979, 33048282, 33048304,\n",
       "        33048312, 33048320, 33048339, 33048347, 33048444, 33048452,\n",
       "        33048460, 33048479, 33048487, 33048495, 33048509, 33048517,\n",
       "        33048797, 33048860, 33048886, 33048908, 33048932, 33048959,\n",
       "        33048975, 33048991, 33049017, 33049025, 33049033, 33049475,\n",
       "        33049688, 33049696, 33049700, 33049718, 33049726, 33049785,\n",
       "        33049793, 33049807, 33049815, 33049920, 33049963, 33050015,\n",
       "        33050023, 33050031, 33050422, 33050430, 33050503, 33050511,\n",
       "        33050538, 33050546, 33050554, 33050570, 33050759, 33050767,\n",
       "        33050791, 33050805, 33050813, 33050848, 33051097, 33051100,\n",
       "        33051127, 33051321, 33051330, 33051380, 33051518, 33051739,\n",
       "        33051747, 33051844, 33051879, 33052069, 33052182, 33052255,\n",
       "        33052492, 33052514, 33052530, 33052786, 33052808, 33052816,\n",
       "        33052891, 33052913, 33052930, 33053162, 33053189, 33053340,\n",
       "        33053359, 33053383, 33053391, 33053413, 33053693, 33053715,\n",
       "        33053766, 33053774, 33053910, 33053952, 33054177, 33054185,\n",
       "        33054215, 33054339, 33054576, 33054584, 33054592, 33054606,\n",
       "        33054681, 33054711, 33054983, 33055025, 33055033, 33055610,\n",
       "        33055629, 33055645, 33055653, 33055661, 33055670, 33055696,\n",
       "        33055700, 33055726, 33055734, 33055742, 33055750, 33055769,\n",
       "        33055785, 33056358, 33056439, 33056471, 33056480, 33056498,\n",
       "        33056501, 33056560, 33057010, 33057508, 33057702, 33057737,\n",
       "        33057745, 33058180, 33058199, 33058202, 33058210, 33058237,\n",
       "        33058270, 33058288, 33058300, 33058318, 33058326, 33058334,\n",
       "        33058342, 33058407, 33058440, 33058458, 33058466, 33058474,\n",
       "        33058571, 33058580, 33058601, 33058610, 33058636, 33058652,\n",
       "        33058679, 33058687, 33058695, 33058709, 33058733, 33058741,\n",
       "        33058750, 33058768, 33058946, 33059152, 33059209, 33059225,\n",
       "        33059241, 33059284, 33059322, 33059373, 33059381, 33059403,\n",
       "        33059446, 33059454, 33059470, 33060169, 33060177, 33060185,\n",
       "        33060193, 33060711, 33060720, 33060738, 33060746, 33060797,\n",
       "        33060800, 33060827, 33060835, 33060843, 33060878, 33061084,\n",
       "        33061106, 33061149, 33061165, 33061173, 33061181, 33061203,\n",
       "        33061246, 33061742, 33061750, 33061769, 33061874, 33061939,\n",
       "        33062668, 33062676, 33062919, 33063389, 33063397, 33064644,\n",
       "        33064652, 33064849, 33065217, 33065276, 33065284, 33066035,\n",
       "        33066043, 33066523, 33066590, 33067228, 33067252, 33067791,\n",
       "        33068852, 33069921, 33069930, 33069956, 33070946, 33071535,\n",
       "        33071551, 33071594, 33071969, 33073368, 33074151, 33075034,\n",
       "        33075166, 33075174, 33075867, 33076480, 33076502, 33077100,\n",
       "        33077177, 33079323, 33079340, 33079358, 33079374, 33081743,\n",
       "        33082049, 33082057, 33082146, 33083592, 33084238, 33085498,\n",
       "        33086583, 33087644, 33087725, 33087733, 33088870, 33088896,\n",
       "        33088900, 33088926, 33088950, 33089043, 33089051, 33089060,\n",
       "        33089086, 33089094, 33089108, 33089124, 33089388, 33089396,\n",
       "        33089426, 33089469, 33089841, 33090149, 33090157, 33090173,\n",
       "        33090246, 33090270, 33090300, 33090327, 33090343, 33090351,\n",
       "        33090378, 33090424, 33090432, 33090440, 33090459, 33090475,\n",
       "        33090653, 33090670, 33090688, 33090726, 33090815, 33090823,\n",
       "        33090831, 33090840, 33090882, 33090904, 33091196, 33091200,\n",
       "        33091340, 33091382, 33091390, 33091447, 33091757, 33091765,\n",
       "        33092141, 33092168, 33092176, 33092184, 33092214, 33092222,\n",
       "        33092230, 33092249, 33092257, 33092265, 33092427, 33092443,\n",
       "        33092451, 33092478, 33092516, 33092532, 33093091, 33093156,\n",
       "        33093180, 33093199, 33093229, 33093423, 33093458, 33093466,\n",
       "        33093504, 33093555, 33093601, 33093687, 33093709, 33093890,\n",
       "        33093938, 33093946, 33093989, 33094098, 33094128, 33094144,\n",
       "        33094330, 33094420, 33095140, 33095647, 33096694, 33096856,\n",
       "        33096880, 33096929, 33096970, 33096988, 33097003, 33097020,\n",
       "        33097046, 33097054, 33097062, 33097151, 33097178, 33097216,\n",
       "        33097275, 33097283, 33097437, 33097798, 33097810, 33097895,\n",
       "        33097941, 33097950, 33098077, 33098085, 33098131, 33098573,\n",
       "        33098786, 33098794, 33098808, 33098816, 33099049, 33099073,\n",
       "        33099111, 33099189, 33099200, 33099227, 33099235, 33099243,\n",
       "        33099278, 33099286, 33099898, 33099901, 33099936, 33100217,\n",
       "        33100322, 33100659, 33101078, 33101620, 33101655, 33102090,\n",
       "        33102210, 33102414, 33102503, 33102791, 33103119, 33103771,\n",
       "        33103879, 33103887, 33103909, 33103925, 33103941, 33103968,\n",
       "        33104182, 33104204, 33104271, 33104298, 33104301, 33104344,\n",
       "        33104352, 33104379, 33105022, 33105065, 33106550, 33106584,\n",
       "        33106592, 33106614, 33106630, 33106649, 33106681, 33106690,\n",
       "        33106703, 33106738, 33106746, 33108579, 33110220, 33110646,\n",
       "        33113319, 33114366, 33115001, 33117969, 33117977, 33125325,\n",
       "        33125333, 33126160, 33126216, 33126224, 33126267, 33126755,\n",
       "        33126852, 33128235, 33132879, 33134049, 33135193, 33136424,\n",
       "        33136432, 33136475, 33136505, 33138648, 33139156, 33140715,\n",
       "        33142270, 33142319, 33142351, 33146950, 33153795, 33157065,\n",
       "        33162158, 33162174, 33271208, 33439222, 33507210, 33508232,\n",
       "        33518211, 33518238, 33558230]),\n",
       " array([1, 2]),\n",
       " array([12, 13, 14, 15, 16, 17, 18, 19, 20, 21, 22, 23, 24, 25, 26, 27, 28,\n",
       "        29, 30, 31, 32, 33, 34, 35, 36, 37, 38, 39, 40, 41, 42, 43, 44, 45,\n",
       "        46, 47, 48, 49, 50, 51, 52, 53, 54, 55, 56, 57, 58, 59, 60, 61, 62,\n",
       "        63, 65, 67, 69, 77]),\n",
       " array([0, 1]),\n",
       " array([0, 1]),\n",
       " array([0, 1, 2]),\n",
       " array([0, 1, 2]),\n",
       " array([3300100, 3300159, 3300209, 3300225, 3300258, 3300308, 3300407,\n",
       "        3300456, 3300506, 3300605, 3300704, 3300803, 3300902, 3300951,\n",
       "        3301009, 3301108, 3301157, 3301207, 3301306, 3301405, 3301504,\n",
       "        3301603, 3301702, 3301801, 3301850, 3301876, 3301900, 3302007,\n",
       "        3302056, 3302106, 3302205, 3302254, 3302270, 3302304, 3302403,\n",
       "        3302452, 3302502, 3302601, 3302700, 3302809, 3302858, 3302908,\n",
       "        3303005, 3303104, 3303203, 3303302, 3303401, 3303500, 3303609,\n",
       "        3303708, 3303807, 3303856, 3303906, 3303955, 3304003, 3304102,\n",
       "        3304110, 3304128, 3304144, 3304201, 3304300, 3304409, 3304508,\n",
       "        3304524, 3304557, 3304607, 3304706, 3304755, 3304805, 3304904,\n",
       "        3305000, 3305109, 3305133, 3305208, 3305307, 3305406, 3305505,\n",
       "        3305554, 3305604, 3305703, 3305752, 3305802, 3305901, 3306008,\n",
       "        3306107, 3306156, 3306206, 3306305]),\n",
       " array([0., 1.]),\n",
       " array([0., 1.]),\n",
       " array([0., 1.]),\n",
       " array([0., 1.]),\n",
       " array([0., 1.]),\n",
       " array([0., 1.]),\n",
       " array([0, 1]),\n",
       " array([1., 2., 3., 4., 5., 6.])]"
      ]
     },
     "execution_count": 29,
     "metadata": {},
     "output_type": "execute_result"
    }
   ],
   "source": [
    "enc.categories_"
   ]
  },
  {
   "cell_type": "code",
   "execution_count": 13,
   "metadata": {},
   "outputs": [
    {
     "data": {
      "text/html": [
       "<div>\n",
       "<style scoped>\n",
       "    .dataframe tbody tr th:only-of-type {\n",
       "        vertical-align: middle;\n",
       "    }\n",
       "\n",
       "    .dataframe tbody tr th {\n",
       "        vertical-align: top;\n",
       "    }\n",
       "\n",
       "    .dataframe thead th {\n",
       "        text-align: right;\n",
       "    }\n",
       "</style>\n",
       "<table border=\"1\" class=\"dataframe\">\n",
       "  <thead>\n",
       "    <tr style=\"text-align: right;\">\n",
       "      <th></th>\n",
       "      <th>CO_ENTIDADE</th>\n",
       "      <th>TP_SEXO</th>\n",
       "      <th>NU_IDADE</th>\n",
       "      <th>IN_DISTORCAO</th>\n",
       "      <th>IN_TRANSPORTE_PUBLICO</th>\n",
       "      <th>IN_LOCAL_ESCOLA</th>\n",
       "      <th>N_TURMA</th>\n",
       "      <th>CO_MUNICIPIO</th>\n",
       "      <th>IN_LABORATORIO_INFORMATICA</th>\n",
       "      <th>IN_LABORATORIO_CIENCIAS</th>\n",
       "      <th>IN_QUADRA_ESPORTES</th>\n",
       "      <th>IN_BIBLIOTECA</th>\n",
       "      <th>IN_BANHEIRO_FORA_PREDIO</th>\n",
       "      <th>IN_AREA_VERDE</th>\n",
       "      <th>IN_N_COMP_15</th>\n",
       "      <th>NIVEL</th>\n",
       "    </tr>\n",
       "    <tr>\n",
       "      <th>ID</th>\n",
       "      <th></th>\n",
       "      <th></th>\n",
       "      <th></th>\n",
       "      <th></th>\n",
       "      <th></th>\n",
       "      <th></th>\n",
       "      <th></th>\n",
       "      <th></th>\n",
       "      <th></th>\n",
       "      <th></th>\n",
       "      <th></th>\n",
       "      <th></th>\n",
       "      <th></th>\n",
       "      <th></th>\n",
       "      <th></th>\n",
       "      <th></th>\n",
       "    </tr>\n",
       "  </thead>\n",
       "  <tbody>\n",
       "    <tr>\n",
       "      <th>112132289130</th>\n",
       "      <td>66.0</td>\n",
       "      <td>1.0</td>\n",
       "      <td>5.0</td>\n",
       "      <td>0.0</td>\n",
       "      <td>0.0</td>\n",
       "      <td>2.0</td>\n",
       "      <td>0.0</td>\n",
       "      <td>14.0</td>\n",
       "      <td>1.0</td>\n",
       "      <td>1.0</td>\n",
       "      <td>1.0</td>\n",
       "      <td>1.0</td>\n",
       "      <td>1.0</td>\n",
       "      <td>0.0</td>\n",
       "      <td>1.0</td>\n",
       "      <td>2.0</td>\n",
       "    </tr>\n",
       "    <tr>\n",
       "      <th>113220290328</th>\n",
       "      <td>66.0</td>\n",
       "      <td>1.0</td>\n",
       "      <td>9.0</td>\n",
       "      <td>1.0</td>\n",
       "      <td>0.0</td>\n",
       "      <td>2.0</td>\n",
       "      <td>0.0</td>\n",
       "      <td>14.0</td>\n",
       "      <td>1.0</td>\n",
       "      <td>1.0</td>\n",
       "      <td>1.0</td>\n",
       "      <td>1.0</td>\n",
       "      <td>1.0</td>\n",
       "      <td>0.0</td>\n",
       "      <td>1.0</td>\n",
       "      <td>2.0</td>\n",
       "    </tr>\n",
       "  </tbody>\n",
       "</table>\n",
       "</div>"
      ],
      "text/plain": [
       "              CO_ENTIDADE  TP_SEXO  NU_IDADE  IN_DISTORCAO  \\\n",
       "ID                                                           \n",
       "112132289130         66.0      1.0       5.0           0.0   \n",
       "113220290328         66.0      1.0       9.0           1.0   \n",
       "\n",
       "              IN_TRANSPORTE_PUBLICO  IN_LOCAL_ESCOLA  N_TURMA  CO_MUNICIPIO  \\\n",
       "ID                                                                            \n",
       "112132289130                    0.0              2.0      0.0          14.0   \n",
       "113220290328                    0.0              2.0      0.0          14.0   \n",
       "\n",
       "              IN_LABORATORIO_INFORMATICA  IN_LABORATORIO_CIENCIAS  \\\n",
       "ID                                                                  \n",
       "112132289130                         1.0                      1.0   \n",
       "113220290328                         1.0                      1.0   \n",
       "\n",
       "              IN_QUADRA_ESPORTES  IN_BIBLIOTECA  IN_BANHEIRO_FORA_PREDIO  \\\n",
       "ID                                                                         \n",
       "112132289130                 1.0            1.0                      1.0   \n",
       "113220290328                 1.0            1.0                      1.0   \n",
       "\n",
       "              IN_AREA_VERDE  IN_N_COMP_15  NIVEL  \n",
       "ID                                                \n",
       "112132289130            0.0           1.0    2.0  \n",
       "113220290328            0.0           1.0    2.0  "
      ]
     },
     "execution_count": 13,
     "metadata": {},
     "output_type": "execute_result"
    }
   ],
   "source": [
    "X_norm = pd.DataFrame(X_norm, columns = df_x.columns, index=df_x.index)\n",
    "X_norm.head(2)"
   ]
  },
  {
   "cell_type": "code",
   "execution_count": 14,
   "metadata": {},
   "outputs": [
    {
     "name": "stdout",
     "output_type": "stream",
     "text": [
      "<class 'pandas.core.frame.DataFrame'>\n",
      "Int64Index: 149234 entries, 112132289130 to 112980381895\n",
      "Data columns (total 16 columns):\n",
      "CO_ENTIDADE                   149234 non-null float64\n",
      "TP_SEXO                       149234 non-null float64\n",
      "NU_IDADE                      149234 non-null float64\n",
      "IN_DISTORCAO                  149234 non-null float64\n",
      "IN_TRANSPORTE_PUBLICO         149234 non-null float64\n",
      "IN_LOCAL_ESCOLA               149234 non-null float64\n",
      "N_TURMA                       149234 non-null float64\n",
      "CO_MUNICIPIO                  149234 non-null float64\n",
      "IN_LABORATORIO_INFORMATICA    149234 non-null float64\n",
      "IN_LABORATORIO_CIENCIAS       149234 non-null float64\n",
      "IN_QUADRA_ESPORTES            149234 non-null float64\n",
      "IN_BIBLIOTECA                 149234 non-null float64\n",
      "IN_BANHEIRO_FORA_PREDIO       149234 non-null float64\n",
      "IN_AREA_VERDE                 149234 non-null float64\n",
      "IN_N_COMP_15                  149234 non-null float64\n",
      "NIVEL                         149234 non-null float64\n",
      "dtypes: float64(16)\n",
      "memory usage: 19.4 MB\n"
     ]
    }
   ],
   "source": [
    "X_norm.info()"
   ]
  },
  {
   "cell_type": "markdown",
   "metadata": {},
   "source": [
    "### Separando treino e teste"
   ]
  },
  {
   "cell_type": "code",
   "execution_count": 15,
   "metadata": {},
   "outputs": [],
   "source": [
    "# from sklearn.model_selection import train_test_split \n",
    "# X_train, X_test, y_train, y_test = train_test_split(X_norm, y, test_size=0.3, random_state=0)\n",
    "\n",
    "# # Salvando treino e teste\n",
    "# X_train.join(y_train).to_csv(TREAT_PATH / 'modelo' / 'df_treino.csv')\n",
    "# X_test.join(y_test).to_csv(TREAT_PATH / 'modelo' / 'df_teste.csv')\n",
    "\n",
    "X_train = pd.read_csv(TREAT_PATH / 'modelo' / 'df_treino.csv', index_col='ID')\n",
    "y_train = X_train['IN_EVASAO']\n",
    "X_train = X_train.drop('IN_EVASAO', axis=1)\n",
    "\n",
    "X_test = pd.read_csv(TREAT_PATH / 'modelo' / 'df_teste.csv', index_col='ID')\n",
    "y_test = X_test['IN_EVASAO']\n",
    "X_test = X_test.drop('IN_EVASAO', axis=1)"
   ]
  },
  {
   "cell_type": "code",
   "execution_count": 16,
   "metadata": {},
   "outputs": [
    {
     "data": {
      "text/html": [
       "<div>\n",
       "<style scoped>\n",
       "    .dataframe tbody tr th:only-of-type {\n",
       "        vertical-align: middle;\n",
       "    }\n",
       "\n",
       "    .dataframe tbody tr th {\n",
       "        vertical-align: top;\n",
       "    }\n",
       "\n",
       "    .dataframe thead th {\n",
       "        text-align: right;\n",
       "    }\n",
       "</style>\n",
       "<table border=\"1\" class=\"dataframe\">\n",
       "  <thead>\n",
       "    <tr style=\"text-align: right;\">\n",
       "      <th></th>\n",
       "      <th>CO_ENTIDADE</th>\n",
       "      <th>TP_SEXO</th>\n",
       "      <th>NU_IDADE</th>\n",
       "      <th>IN_DISTORCAO</th>\n",
       "      <th>IN_TRANSPORTE_PUBLICO</th>\n",
       "      <th>IN_LOCAL_ESCOLA</th>\n",
       "      <th>N_TURMA</th>\n",
       "      <th>CO_MUNICIPIO</th>\n",
       "      <th>IN_LABORATORIO_INFORMATICA</th>\n",
       "      <th>IN_LABORATORIO_CIENCIAS</th>\n",
       "      <th>IN_QUADRA_ESPORTES</th>\n",
       "      <th>IN_BIBLIOTECA</th>\n",
       "      <th>IN_BANHEIRO_FORA_PREDIO</th>\n",
       "      <th>IN_AREA_VERDE</th>\n",
       "      <th>IN_N_COMP_15</th>\n",
       "      <th>NIVEL</th>\n",
       "    </tr>\n",
       "    <tr>\n",
       "      <th>ID</th>\n",
       "      <th></th>\n",
       "      <th></th>\n",
       "      <th></th>\n",
       "      <th></th>\n",
       "      <th></th>\n",
       "      <th></th>\n",
       "      <th></th>\n",
       "      <th></th>\n",
       "      <th></th>\n",
       "      <th></th>\n",
       "      <th></th>\n",
       "      <th></th>\n",
       "      <th></th>\n",
       "      <th></th>\n",
       "      <th></th>\n",
       "      <th></th>\n",
       "    </tr>\n",
       "  </thead>\n",
       "  <tbody>\n",
       "    <tr>\n",
       "      <th>116560246166</th>\n",
       "      <td>372.0</td>\n",
       "      <td>1.0</td>\n",
       "      <td>3.0</td>\n",
       "      <td>0.0</td>\n",
       "      <td>0.0</td>\n",
       "      <td>1.0</td>\n",
       "      <td>1.0</td>\n",
       "      <td>7.0</td>\n",
       "      <td>1.0</td>\n",
       "      <td>1.0</td>\n",
       "      <td>1.0</td>\n",
       "      <td>1.0</td>\n",
       "      <td>1.0</td>\n",
       "      <td>1.0</td>\n",
       "      <td>0.0</td>\n",
       "      <td>2.0</td>\n",
       "    </tr>\n",
       "    <tr>\n",
       "      <th>117459039844</th>\n",
       "      <td>816.0</td>\n",
       "      <td>1.0</td>\n",
       "      <td>4.0</td>\n",
       "      <td>0.0</td>\n",
       "      <td>1.0</td>\n",
       "      <td>0.0</td>\n",
       "      <td>1.0</td>\n",
       "      <td>64.0</td>\n",
       "      <td>1.0</td>\n",
       "      <td>1.0</td>\n",
       "      <td>1.0</td>\n",
       "      <td>1.0</td>\n",
       "      <td>1.0</td>\n",
       "      <td>1.0</td>\n",
       "      <td>1.0</td>\n",
       "      <td>2.0</td>\n",
       "    </tr>\n",
       "  </tbody>\n",
       "</table>\n",
       "</div>"
      ],
      "text/plain": [
       "              CO_ENTIDADE  TP_SEXO  NU_IDADE  IN_DISTORCAO  \\\n",
       "ID                                                           \n",
       "116560246166        372.0      1.0       3.0           0.0   \n",
       "117459039844        816.0      1.0       4.0           0.0   \n",
       "\n",
       "              IN_TRANSPORTE_PUBLICO  IN_LOCAL_ESCOLA  N_TURMA  CO_MUNICIPIO  \\\n",
       "ID                                                                            \n",
       "116560246166                    0.0              1.0      1.0           7.0   \n",
       "117459039844                    1.0              0.0      1.0          64.0   \n",
       "\n",
       "              IN_LABORATORIO_INFORMATICA  IN_LABORATORIO_CIENCIAS  \\\n",
       "ID                                                                  \n",
       "116560246166                         1.0                      1.0   \n",
       "117459039844                         1.0                      1.0   \n",
       "\n",
       "              IN_QUADRA_ESPORTES  IN_BIBLIOTECA  IN_BANHEIRO_FORA_PREDIO  \\\n",
       "ID                                                                         \n",
       "116560246166                 1.0            1.0                      1.0   \n",
       "117459039844                 1.0            1.0                      1.0   \n",
       "\n",
       "              IN_AREA_VERDE  IN_N_COMP_15  NIVEL  \n",
       "ID                                                \n",
       "116560246166            1.0           0.0    2.0  \n",
       "117459039844            1.0           1.0    2.0  "
      ]
     },
     "execution_count": 16,
     "metadata": {},
     "output_type": "execute_result"
    }
   ],
   "source": [
    "X_train.head(2)"
   ]
  },
  {
   "cell_type": "code",
   "execution_count": 17,
   "metadata": {},
   "outputs": [
    {
     "data": {
      "text/plain": [
       "ID\n",
       "116560246166    0\n",
       "117459039844    0\n",
       "Name: IN_EVASAO, dtype: int64"
      ]
     },
     "execution_count": 17,
     "metadata": {},
     "output_type": "execute_result"
    }
   ],
   "source": [
    "y_train.head(2)"
   ]
  },
  {
   "cell_type": "code",
   "execution_count": 18,
   "metadata": {},
   "outputs": [
    {
     "data": {
      "text/plain": [
       "0    0.676507\n",
       "1    0.323493\n",
       "Name: IN_EVASAO, dtype: float64"
      ]
     },
     "execution_count": 18,
     "metadata": {},
     "output_type": "execute_result"
    }
   ],
   "source": [
    "y_train.value_counts(normalize=True)"
   ]
  },
  {
   "cell_type": "code",
   "execution_count": 19,
   "metadata": {},
   "outputs": [
    {
     "data": {
      "text/html": [
       "<div>\n",
       "<style scoped>\n",
       "    .dataframe tbody tr th:only-of-type {\n",
       "        vertical-align: middle;\n",
       "    }\n",
       "\n",
       "    .dataframe tbody tr th {\n",
       "        vertical-align: top;\n",
       "    }\n",
       "\n",
       "    .dataframe thead th {\n",
       "        text-align: right;\n",
       "    }\n",
       "</style>\n",
       "<table border=\"1\" class=\"dataframe\">\n",
       "  <thead>\n",
       "    <tr style=\"text-align: right;\">\n",
       "      <th></th>\n",
       "      <th>CO_ENTIDADE</th>\n",
       "      <th>TP_SEXO</th>\n",
       "      <th>NU_IDADE</th>\n",
       "      <th>IN_DISTORCAO</th>\n",
       "      <th>IN_TRANSPORTE_PUBLICO</th>\n",
       "      <th>IN_LOCAL_ESCOLA</th>\n",
       "      <th>N_TURMA</th>\n",
       "      <th>CO_MUNICIPIO</th>\n",
       "      <th>IN_LABORATORIO_INFORMATICA</th>\n",
       "      <th>IN_LABORATORIO_CIENCIAS</th>\n",
       "      <th>IN_QUADRA_ESPORTES</th>\n",
       "      <th>IN_BIBLIOTECA</th>\n",
       "      <th>IN_BANHEIRO_FORA_PREDIO</th>\n",
       "      <th>IN_AREA_VERDE</th>\n",
       "      <th>IN_N_COMP_15</th>\n",
       "      <th>NIVEL</th>\n",
       "    </tr>\n",
       "    <tr>\n",
       "      <th>ID</th>\n",
       "      <th></th>\n",
       "      <th></th>\n",
       "      <th></th>\n",
       "      <th></th>\n",
       "      <th></th>\n",
       "      <th></th>\n",
       "      <th></th>\n",
       "      <th></th>\n",
       "      <th></th>\n",
       "      <th></th>\n",
       "      <th></th>\n",
       "      <th></th>\n",
       "      <th></th>\n",
       "      <th></th>\n",
       "      <th></th>\n",
       "      <th></th>\n",
       "    </tr>\n",
       "  </thead>\n",
       "  <tbody>\n",
       "    <tr>\n",
       "      <th>112810788919</th>\n",
       "      <td>311.0</td>\n",
       "      <td>1.0</td>\n",
       "      <td>4.0</td>\n",
       "      <td>0.0</td>\n",
       "      <td>1.0</td>\n",
       "      <td>2.0</td>\n",
       "      <td>0.0</td>\n",
       "      <td>81.0</td>\n",
       "      <td>1.0</td>\n",
       "      <td>1.0</td>\n",
       "      <td>1.0</td>\n",
       "      <td>1.0</td>\n",
       "      <td>1.0</td>\n",
       "      <td>1.0</td>\n",
       "      <td>1.0</td>\n",
       "      <td>3.0</td>\n",
       "    </tr>\n",
       "    <tr>\n",
       "      <th>112378190408</th>\n",
       "      <td>830.0</td>\n",
       "      <td>0.0</td>\n",
       "      <td>3.0</td>\n",
       "      <td>0.0</td>\n",
       "      <td>1.0</td>\n",
       "      <td>0.0</td>\n",
       "      <td>0.0</td>\n",
       "      <td>64.0</td>\n",
       "      <td>1.0</td>\n",
       "      <td>0.0</td>\n",
       "      <td>1.0</td>\n",
       "      <td>1.0</td>\n",
       "      <td>0.0</td>\n",
       "      <td>0.0</td>\n",
       "      <td>0.0</td>\n",
       "      <td>2.0</td>\n",
       "    </tr>\n",
       "  </tbody>\n",
       "</table>\n",
       "</div>"
      ],
      "text/plain": [
       "              CO_ENTIDADE  TP_SEXO  NU_IDADE  IN_DISTORCAO  \\\n",
       "ID                                                           \n",
       "112810788919        311.0      1.0       4.0           0.0   \n",
       "112378190408        830.0      0.0       3.0           0.0   \n",
       "\n",
       "              IN_TRANSPORTE_PUBLICO  IN_LOCAL_ESCOLA  N_TURMA  CO_MUNICIPIO  \\\n",
       "ID                                                                            \n",
       "112810788919                    1.0              2.0      0.0          81.0   \n",
       "112378190408                    1.0              0.0      0.0          64.0   \n",
       "\n",
       "              IN_LABORATORIO_INFORMATICA  IN_LABORATORIO_CIENCIAS  \\\n",
       "ID                                                                  \n",
       "112810788919                         1.0                      1.0   \n",
       "112378190408                         1.0                      0.0   \n",
       "\n",
       "              IN_QUADRA_ESPORTES  IN_BIBLIOTECA  IN_BANHEIRO_FORA_PREDIO  \\\n",
       "ID                                                                         \n",
       "112810788919                 1.0            1.0                      1.0   \n",
       "112378190408                 1.0            1.0                      0.0   \n",
       "\n",
       "              IN_AREA_VERDE  IN_N_COMP_15  NIVEL  \n",
       "ID                                                \n",
       "112810788919            1.0           1.0    3.0  \n",
       "112378190408            0.0           0.0    2.0  "
      ]
     },
     "execution_count": 19,
     "metadata": {},
     "output_type": "execute_result"
    }
   ],
   "source": [
    "X_test.head(2)"
   ]
  },
  {
   "cell_type": "code",
   "execution_count": 20,
   "metadata": {},
   "outputs": [
    {
     "data": {
      "text/plain": [
       "ID\n",
       "112810788919    0\n",
       "112378190408    0\n",
       "Name: IN_EVASAO, dtype: int64"
      ]
     },
     "execution_count": 20,
     "metadata": {},
     "output_type": "execute_result"
    }
   ],
   "source": [
    "y_test.head(2)"
   ]
  },
  {
   "cell_type": "code",
   "execution_count": 21,
   "metadata": {},
   "outputs": [
    {
     "data": {
      "text/plain": [
       "0    0.677112\n",
       "1    0.322888\n",
       "Name: IN_EVASAO, dtype: float64"
      ]
     },
     "execution_count": 21,
     "metadata": {},
     "output_type": "execute_result"
    }
   ],
   "source": [
    "y_test.value_counts(normalize=True)"
   ]
  },
  {
   "cell_type": "markdown",
   "metadata": {},
   "source": [
    "### Dados balanceados\n",
    "\n",
    "Problema dos dados desbalanceados: tendência para predição da classe dominante é maior, pois aumenta a acurácia do modelo - mas não necessariamente o *recall*, que é o nosso foco.\n",
    "\n",
    "\n",
    "[Rebalanceamento](https://towardsdatascience.com/having-an-imbalanced-dataset-here-is-how-you-can-solve-it-1640568947eb):\n",
    "\n",
    "- Undersampling: remoção aleatória de observações da classe dominante\n",
    "\n",
    "- Oversampling: geração de observações artificiais da classe minoritária\n",
    " - SMOTE (Synthetic Minority Over-sampling Technique): k nearest neighbours\n",
    " \n",
    "Como temos muito dado, vamos escolher uma amostra aleatória da classe dominante para usar no treinamento do modelo."
   ]
  },
  {
   "cell_type": "code",
   "execution_count": 22,
   "metadata": {},
   "outputs": [],
   "source": [
    "from sklearn.utils import resample\n",
    "\n",
    "df_maj = X_train[X_train.index.isin(y_train[y_train == 0].index)]\n",
    "df_min = X_train[X_train.index.isin(y_train[y_train == 1].index)]"
   ]
  },
  {
   "cell_type": "code",
   "execution_count": 23,
   "metadata": {},
   "outputs": [
    {
     "name": "stdout",
     "output_type": "stream",
     "text": [
      "70670 33793\n"
     ]
    }
   ],
   "source": [
    "print(len(df_maj), len(df_min))"
   ]
  },
  {
   "cell_type": "code",
   "execution_count": 24,
   "metadata": {},
   "outputs": [],
   "source": [
    "# # Selecionando uma amostra da classe majoritária\n",
    "# df_maj = df_maj.sample(n=len(df_min),random_state=0)\n",
    "\n",
    "# X_train_bal = df_min.append(df_maj)\n",
    "# y_train_bal = y_train[y_train.index.isin(X_train_bal.index)]\n",
    "\n",
    "# # Salvando treino balanceado\n",
    "# X_train_bal.join(y_train_bal).to_csv(TREAT_PATH / 'modelo' / 'df_treino_bal.csv')\n",
    "\n",
    "X_train_bal = pd.read_csv(TREAT_PATH / 'modelo' / 'df_treino_bal.csv', index_col='ID')\n",
    "y_train_bal = X_train_bal['IN_EVASAO']\n",
    "X_train_bal = X_train_bal.drop('IN_EVASAO', axis=1)"
   ]
  },
  {
   "cell_type": "code",
   "execution_count": 25,
   "metadata": {},
   "outputs": [
    {
     "data": {
      "text/html": [
       "<div>\n",
       "<style scoped>\n",
       "    .dataframe tbody tr th:only-of-type {\n",
       "        vertical-align: middle;\n",
       "    }\n",
       "\n",
       "    .dataframe tbody tr th {\n",
       "        vertical-align: top;\n",
       "    }\n",
       "\n",
       "    .dataframe thead th {\n",
       "        text-align: right;\n",
       "    }\n",
       "</style>\n",
       "<table border=\"1\" class=\"dataframe\">\n",
       "  <thead>\n",
       "    <tr style=\"text-align: right;\">\n",
       "      <th></th>\n",
       "      <th>CO_ENTIDADE</th>\n",
       "      <th>TP_SEXO</th>\n",
       "      <th>NU_IDADE</th>\n",
       "      <th>IN_DISTORCAO</th>\n",
       "      <th>IN_TRANSPORTE_PUBLICO</th>\n",
       "      <th>IN_LOCAL_ESCOLA</th>\n",
       "      <th>N_TURMA</th>\n",
       "      <th>CO_MUNICIPIO</th>\n",
       "      <th>IN_LABORATORIO_INFORMATICA</th>\n",
       "      <th>IN_LABORATORIO_CIENCIAS</th>\n",
       "      <th>IN_QUADRA_ESPORTES</th>\n",
       "      <th>IN_BIBLIOTECA</th>\n",
       "      <th>IN_BANHEIRO_FORA_PREDIO</th>\n",
       "      <th>IN_AREA_VERDE</th>\n",
       "      <th>IN_N_COMP_15</th>\n",
       "      <th>NIVEL</th>\n",
       "    </tr>\n",
       "    <tr>\n",
       "      <th>ID</th>\n",
       "      <th></th>\n",
       "      <th></th>\n",
       "      <th></th>\n",
       "      <th></th>\n",
       "      <th></th>\n",
       "      <th></th>\n",
       "      <th></th>\n",
       "      <th></th>\n",
       "      <th></th>\n",
       "      <th></th>\n",
       "      <th></th>\n",
       "      <th></th>\n",
       "      <th></th>\n",
       "      <th></th>\n",
       "      <th></th>\n",
       "      <th></th>\n",
       "    </tr>\n",
       "  </thead>\n",
       "  <tbody>\n",
       "    <tr>\n",
       "      <th>110726113092</th>\n",
       "      <td>837.0</td>\n",
       "      <td>0.0</td>\n",
       "      <td>3.0</td>\n",
       "      <td>0.0</td>\n",
       "      <td>1.0</td>\n",
       "      <td>0.0</td>\n",
       "      <td>2.0</td>\n",
       "      <td>64.0</td>\n",
       "      <td>1.0</td>\n",
       "      <td>1.0</td>\n",
       "      <td>1.0</td>\n",
       "      <td>1.0</td>\n",
       "      <td>1.0</td>\n",
       "      <td>1.0</td>\n",
       "      <td>0.0</td>\n",
       "      <td>2.0</td>\n",
       "    </tr>\n",
       "    <tr>\n",
       "      <th>144787291237</th>\n",
       "      <td>750.0</td>\n",
       "      <td>0.0</td>\n",
       "      <td>3.0</td>\n",
       "      <td>0.0</td>\n",
       "      <td>1.0</td>\n",
       "      <td>1.0</td>\n",
       "      <td>1.0</td>\n",
       "      <td>26.0</td>\n",
       "      <td>1.0</td>\n",
       "      <td>1.0</td>\n",
       "      <td>1.0</td>\n",
       "      <td>1.0</td>\n",
       "      <td>1.0</td>\n",
       "      <td>1.0</td>\n",
       "      <td>1.0</td>\n",
       "      <td>2.0</td>\n",
       "    </tr>\n",
       "  </tbody>\n",
       "</table>\n",
       "</div>"
      ],
      "text/plain": [
       "              CO_ENTIDADE  TP_SEXO  NU_IDADE  IN_DISTORCAO  \\\n",
       "ID                                                           \n",
       "110726113092        837.0      0.0       3.0           0.0   \n",
       "144787291237        750.0      0.0       3.0           0.0   \n",
       "\n",
       "              IN_TRANSPORTE_PUBLICO  IN_LOCAL_ESCOLA  N_TURMA  CO_MUNICIPIO  \\\n",
       "ID                                                                            \n",
       "110726113092                    1.0              0.0      2.0          64.0   \n",
       "144787291237                    1.0              1.0      1.0          26.0   \n",
       "\n",
       "              IN_LABORATORIO_INFORMATICA  IN_LABORATORIO_CIENCIAS  \\\n",
       "ID                                                                  \n",
       "110726113092                         1.0                      1.0   \n",
       "144787291237                         1.0                      1.0   \n",
       "\n",
       "              IN_QUADRA_ESPORTES  IN_BIBLIOTECA  IN_BANHEIRO_FORA_PREDIO  \\\n",
       "ID                                                                         \n",
       "110726113092                 1.0            1.0                      1.0   \n",
       "144787291237                 1.0            1.0                      1.0   \n",
       "\n",
       "              IN_AREA_VERDE  IN_N_COMP_15  NIVEL  \n",
       "ID                                                \n",
       "110726113092            1.0           0.0    2.0  \n",
       "144787291237            1.0           1.0    2.0  "
      ]
     },
     "execution_count": 25,
     "metadata": {},
     "output_type": "execute_result"
    }
   ],
   "source": [
    "X_train_bal.head(2)"
   ]
  },
  {
   "cell_type": "code",
   "execution_count": 26,
   "metadata": {},
   "outputs": [
    {
     "data": {
      "text/plain": [
       "ID\n",
       "110726113092    1\n",
       "144787291237    1\n",
       "Name: IN_EVASAO, dtype: int64"
      ]
     },
     "execution_count": 26,
     "metadata": {},
     "output_type": "execute_result"
    }
   ],
   "source": [
    "y_train_bal.head(2)"
   ]
  },
  {
   "cell_type": "code",
   "execution_count": 27,
   "metadata": {},
   "outputs": [
    {
     "data": {
      "text/plain": [
       "1    33793\n",
       "0    33793\n",
       "Name: IN_EVASAO, dtype: int64"
      ]
     },
     "execution_count": 27,
     "metadata": {},
     "output_type": "execute_result"
    }
   ],
   "source": [
    "y_train_bal.value_counts()"
   ]
  },
  {
   "cell_type": "code",
   "execution_count": null,
   "metadata": {},
   "outputs": [],
   "source": []
  }
 ],
 "metadata": {
  "kernelspec": {
   "display_name": "Python 3",
   "language": "python",
   "name": "python3"
  },
  "language_info": {
   "codemirror_mode": {
    "name": "ipython",
    "version": 3
   },
   "file_extension": ".py",
   "mimetype": "text/x-python",
   "name": "python",
   "nbconvert_exporter": "python",
   "pygments_lexer": "ipython3",
   "version": "3.7.4"
  },
  "toc": {
   "base_numbering": 1,
   "nav_menu": {},
   "number_sections": true,
   "sideBar": true,
   "skip_h1_title": true,
   "title_cell": "Table of Contents",
   "title_sidebar": "Contents",
   "toc_cell": true,
   "toc_position": {},
   "toc_section_display": true,
   "toc_window_display": false
  }
 },
 "nbformat": 4,
 "nbformat_minor": 2
}
