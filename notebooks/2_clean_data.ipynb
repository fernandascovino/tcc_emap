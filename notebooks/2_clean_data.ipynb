{
 "cells": [
  {
   "cell_type": "markdown",
   "metadata": {},
   "source": [
    "# Limpeza e tratamento do dado\n",
    "\n",
    "----\n",
    "\n",
    "- Verificação de dados faltantes\n",
    "- Análise de correlação das variáveis\n",
    "- Seleção das variáveis de alunos e escolas que possuem variação mínima\n",
    "- Transformação de variáveis nominal em categorias binárias"
   ]
  },
  {
   "cell_type": "markdown",
   "metadata": {
    "toc": true
   },
   "source": [
    "<h1>Table of Contents<span class=\"tocSkip\"></span></h1>\n",
    "<div class=\"toc\"><ul class=\"toc-item\"><li><span><a href=\"#Importando-as-bases-e-pacotes\" data-toc-modified-id=\"Importando-as-bases-e-pacotes-1\"><span class=\"toc-item-num\">1&nbsp;&nbsp;</span>Importando as bases e pacotes</a></span></li><li><span><a href=\"#Dados-de-alunos\" data-toc-modified-id=\"Dados-de-alunos-2\"><span class=\"toc-item-num\">2&nbsp;&nbsp;</span>Dados de alunos</a></span><ul class=\"toc-item\"><li><span><a href=\"#Dados-faltantes-(35-variáveis)\" data-toc-modified-id=\"Dados-faltantes-(35-variáveis)-2.1\"><span class=\"toc-item-num\">2.1&nbsp;&nbsp;</span>Dados faltantes (35 variáveis)</a></span></li><li><span><a href=\"#Dados-sem-variação-(39-variáveis)\" data-toc-modified-id=\"Dados-sem-variação-(39-variáveis)-2.2\"><span class=\"toc-item-num\">2.2&nbsp;&nbsp;</span>Dados sem variação (39 variáveis)</a></span></li><li><span><a href=\"#Distribuição-das-variáveis-numéricas-(ficam-1/6)\" data-toc-modified-id=\"Distribuição-das-variáveis-numéricas-(ficam-1/6)-2.3\"><span class=\"toc-item-num\">2.3&nbsp;&nbsp;</span>Distribuição das variáveis numéricas (ficam 1/6)</a></span><ul class=\"toc-item\"><li><span><a href=\"#Duração-da-aula\" data-toc-modified-id=\"Duração-da-aula-2.3.1\"><span class=\"toc-item-num\">2.3.1&nbsp;&nbsp;</span>Duração da aula</a></span></li><li><span><a href=\"#Idade\" data-toc-modified-id=\"Idade-2.3.2\"><span class=\"toc-item-num\">2.3.2&nbsp;&nbsp;</span>Idade</a></span></li><li><span><a href=\"#Distorção-idade-série\" data-toc-modified-id=\"Distorção-idade-série-2.3.3\"><span class=\"toc-item-num\">2.3.3&nbsp;&nbsp;</span>Distorção idade-série</a></span></li></ul></li><li><span><a href=\"#Distribuição-das-indicadoras-(ficam-3/3)\" data-toc-modified-id=\"Distribuição-das-indicadoras-(ficam-3/3)-2.4\"><span class=\"toc-item-num\">2.4&nbsp;&nbsp;</span>Distribuição das indicadoras (ficam 3/3)</a></span><ul class=\"toc-item\"><li><span><a href=\"#Transporte-público\" data-toc-modified-id=\"Transporte-público-2.4.1\"><span class=\"toc-item-num\">2.4.1&nbsp;&nbsp;</span>Transporte público</a></span></li></ul></li><li><span><a href=\"#Distribuição-de-variáveis-categóricas-(ficam-1/2)\" data-toc-modified-id=\"Distribuição-de-variáveis-categóricas-(ficam-1/2)-2.5\"><span class=\"toc-item-num\">2.5&nbsp;&nbsp;</span>Distribuição de variáveis categóricas (ficam 1/2)</a></span></li><li><span><a href=\"#Distribuição-das-variáveis-de-códigos-(ficam-2/6-+-dummies)\" data-toc-modified-id=\"Distribuição-das-variáveis-de-códigos-(ficam-2/6-+-dummies)-2.6\"><span class=\"toc-item-num\">2.6&nbsp;&nbsp;</span>Distribuição das variáveis de códigos (ficam 2/6 + dummies)</a></span><ul class=\"toc-item\"><li><span><a href=\"#Dummies-dos-municípios:-Rio-/-Região-metropolitana-/-Outros\" data-toc-modified-id=\"Dummies-dos-municípios:-Rio-/-Região-metropolitana-/-Outros-2.6.1\"><span class=\"toc-item-num\">2.6.1&nbsp;&nbsp;</span>Dummies dos municípios: Rio / Região metropolitana / Outros</a></span></li></ul></li></ul></li><li><span><a href=\"#Filtragem-total-das-variáveis-de-alunos\" data-toc-modified-id=\"Filtragem-total-das-variáveis-de-alunos-3\"><span class=\"toc-item-num\">3&nbsp;&nbsp;</span>Filtragem total das variáveis de alunos</a></span></li><li><span><a href=\"#Dados-da-escola\" data-toc-modified-id=\"Dados-da-escola-4\"><span class=\"toc-item-num\">4&nbsp;&nbsp;</span>Dados da escola</a></span><ul class=\"toc-item\"><li><span><a href=\"#Dados-faltantes-(13-variáveis)\" data-toc-modified-id=\"Dados-faltantes-(13-variáveis)-4.1\"><span class=\"toc-item-num\">4.1&nbsp;&nbsp;</span>Dados faltantes (13 variáveis)</a></span></li><li><span><a href=\"#Dados-sem-variação-(95-variáveis)\" data-toc-modified-id=\"Dados-sem-variação-(95-variáveis)-4.2\"><span class=\"toc-item-num\">4.2&nbsp;&nbsp;</span>Dados sem variação (95 variáveis)</a></span></li><li><span><a href=\"#Distribuição-das-variáveis-numéricas-(ficam-12-/18)\" data-toc-modified-id=\"Distribuição-das-variáveis-numéricas-(ficam-12-/18)-4.3\"><span class=\"toc-item-num\">4.3&nbsp;&nbsp;</span>Distribuição das variáveis numéricas (ficam 12 /18)</a></span></li><li><span><a href=\"#Distribuição-das-indicadoras-(ficam-30/35)\" data-toc-modified-id=\"Distribuição-das-indicadoras-(ficam-30/35)-4.4\"><span class=\"toc-item-num\">4.4&nbsp;&nbsp;</span>Distribuição das indicadoras (ficam 30/35)</a></span><ul class=\"toc-item\"><li><span><a href=\"#Duplicadas:-Indicadora-e-numérica\" data-toc-modified-id=\"Duplicadas:-Indicadora-e-numérica-4.4.1\"><span class=\"toc-item-num\">4.4.1&nbsp;&nbsp;</span>Duplicadas: Indicadora e numérica</a></span></li></ul></li><li><span><a href=\"#Distribuição-das-variáveis-de-códigos-(4/6)\" data-toc-modified-id=\"Distribuição-das-variáveis-de-códigos-(4/6)-4.5\"><span class=\"toc-item-num\">4.5&nbsp;&nbsp;</span>Distribuição das variáveis de códigos (4/6)</a></span></li></ul></li><li><span><a href=\"#Filtragem-total-das-variáveis-de-escola\" data-toc-modified-id=\"Filtragem-total-das-variáveis-de-escola-5\"><span class=\"toc-item-num\">5&nbsp;&nbsp;</span>Filtragem total das variáveis de escola</a></span></li><li><span><a href=\"#Juntando-as-tabelas\" data-toc-modified-id=\"Juntando-as-tabelas-6\"><span class=\"toc-item-num\">6&nbsp;&nbsp;</span>Juntando as tabelas</a></span></li></ul></div>"
   ]
  },
  {
   "cell_type": "markdown",
   "metadata": {},
   "source": [
    "## Importando as bases e pacotes"
   ]
  },
  {
   "cell_type": "code",
   "execution_count": 500,
   "metadata": {},
   "outputs": [
    {
     "data": {
      "text/html": [
       "        <script type=\"text/javascript\">\n",
       "        window.PlotlyConfig = {MathJaxConfig: 'local'};\n",
       "        if (window.MathJax) {MathJax.Hub.Config({SVG: {font: \"STIX-Web\"}});}\n",
       "        if (typeof require !== 'undefined') {\n",
       "        require.undef(\"plotly\");\n",
       "        requirejs.config({\n",
       "            paths: {\n",
       "                'plotly': ['https://cdn.plot.ly/plotly-latest.min']\n",
       "            }\n",
       "        });\n",
       "        require(['plotly'], function(Plotly) {\n",
       "            window._Plotly = Plotly;\n",
       "        });\n",
       "        }\n",
       "        </script>\n",
       "        "
      ]
     },
     "metadata": {},
     "output_type": "display_data"
    },
    {
     "data": {
      "text/html": [
       "        <script type=\"text/javascript\">\n",
       "        window.PlotlyConfig = {MathJaxConfig: 'local'};\n",
       "        if (window.MathJax) {MathJax.Hub.Config({SVG: {font: \"STIX-Web\"}});}\n",
       "        if (typeof require !== 'undefined') {\n",
       "        require.undef(\"plotly\");\n",
       "        requirejs.config({\n",
       "            paths: {\n",
       "                'plotly': ['https://cdn.plot.ly/plotly-latest.min']\n",
       "            }\n",
       "        });\n",
       "        require(['plotly'], function(Plotly) {\n",
       "            window._Plotly = Plotly;\n",
       "        });\n",
       "        }\n",
       "        </script>\n",
       "        "
      ]
     },
     "metadata": {},
     "output_type": "display_data"
    }
   ],
   "source": [
    "# %load first_cell\n",
    "%reload_ext autoreload\n",
    "%autoreload 2\n",
    "\n",
    "from paths import RAW_PATH, TREAT_PATH, OUTPUT_PATH, FIGURES_PATH, MODEL_PATH\n",
    "\n",
    "import os\n",
    "from copy import deepcopy\n",
    "import numpy as np\n",
    "import pandas as pd\n",
    "pd.options.display.max_columns = 999\n",
    "import pandas_profiling\n",
    "\n",
    "import warnings\n",
    "warnings.filterwarnings('ignore')\n",
    "\n",
    "# Plotting\n",
    "import plotly\n",
    "import plotly.graph_objs as go\n",
    "import cufflinks as cf\n",
    "plotly.offline.init_notebook_mode(connected=True)\n",
    "\n",
    "# Metrics\n",
    "from plot_metrics import *\n",
    "\n",
    "# Utils (dics)\n",
    "from utils import *\n",
    "\n",
    "cf.go_offline()\n",
    "cf.set_config_file(offline=False, world_readable=True)\n",
    "\n",
    "colorscale = ['#025951', '#8BD9CA', '#BF7F30', '#F2C124', '#8C470B', '#DFC27D']"
   ]
  },
  {
   "cell_type": "code",
   "execution_count": 501,
   "metadata": {},
   "outputs": [
    {
     "data": {
      "text/plain": [
       "['df_alunos16.csv',\n",
       " 'filtro_escolas.csv',\n",
       " 'df_alunos.csv',\n",
       " 'df_escolas16.csv',\n",
       " 'filtro_alunos.csv',\n",
       " 'df_clean.csv',\n",
       " '.ipynb_checkpoints']"
      ]
     },
     "execution_count": 501,
     "metadata": {},
     "output_type": "execute_result"
    }
   ],
   "source": [
    "os.listdir(TREAT_PATH / 'analysis')"
   ]
  },
  {
   "cell_type": "code",
   "execution_count": 502,
   "metadata": {},
   "outputs": [
    {
     "name": "stdout",
     "output_type": "stream",
     "text": [
      "<class 'pandas.core.frame.DataFrame'>\n",
      "Int64Index: 147267 entries, 118 to 553388\n",
      "Data columns (total 92 columns):\n",
      "NU_ANO_CENSO                     147267 non-null int64\n",
      "NU_DIA                           147267 non-null int64\n",
      "NU_MES                           147267 non-null int64\n",
      "NU_ANO                           147267 non-null int64\n",
      "NU_IDADE_REFERENCIA              147267 non-null int64\n",
      "NU_IDADE                         147267 non-null int64\n",
      "NU_DURACAO_TURMA                 147267 non-null int64\n",
      "NU_DUR_ATIV_COMP_MESMA_REDE      147267 non-null int64\n",
      "NU_DUR_ATIV_COMP_OUTRAS_REDES    147267 non-null int64\n",
      "NU_DUR_AEE_MESMA_REDE            147267 non-null int64\n",
      "NU_DUR_AEE_OUTRAS_REDES          147267 non-null int64\n",
      "NU_DIAS_ATIVIDADE                147267 non-null int64\n",
      "TP_SEXO                          147267 non-null int64\n",
      "TP_COR_RACA                      147267 non-null int64\n",
      "TP_NACIONALIDADE                 147267 non-null int64\n",
      "CO_PAIS_ORIGEM                   147267 non-null int64\n",
      "CO_UF_NASC                       147181 non-null float64\n",
      "CO_MUNICIPIO_NASC                147181 non-null float64\n",
      "CO_UF_END                        9970 non-null float64\n",
      "CO_MUNICIPIO_END                 9970 non-null float64\n",
      "TP_ZONA_RESIDENCIAL              147267 non-null int64\n",
      "TP_OUTRO_LOCAL_AULA              147267 non-null int64\n",
      "IN_TRANSPORTE_PUBLICO            147267 non-null int64\n",
      "TP_RESPONSAVEL_TRANSPORTE        102206 non-null float64\n",
      "IN_TRANSP_VANS_KOMBI             102206 non-null float64\n",
      "IN_TRANSP_MICRO_ONIBUS           102206 non-null float64\n",
      "IN_TRANSP_ONIBUS                 102206 non-null float64\n",
      "IN_TRANSP_BICICLETA              102206 non-null float64\n",
      "IN_TRANSP_TR_ANIMAL              102206 non-null float64\n",
      "IN_TRANSP_OUTRO_VEICULO          102206 non-null float64\n",
      "IN_TRANSP_EMBAR_ATE5             102206 non-null float64\n",
      "IN_TRANSP_EMBAR_5A15             102206 non-null float64\n",
      "IN_TRANSP_EMBAR_15A35            102206 non-null float64\n",
      "IN_TRANSP_EMBAR_35               102206 non-null float64\n",
      "IN_TRANSP_TREM_METRO             102206 non-null float64\n",
      "IN_NECESSIDADE_ESPECIAL          147267 non-null int64\n",
      "IN_CEGUEIRA                      818 non-null float64\n",
      "IN_BAIXA_VISAO                   818 non-null float64\n",
      "IN_SURDEZ                        818 non-null float64\n",
      "IN_DEF_AUDITIVA                  818 non-null float64\n",
      "IN_SURDOCEGUEIRA                 818 non-null float64\n",
      "IN_DEF_FISICA                    818 non-null float64\n",
      "IN_DEF_INTELECTUAL               818 non-null float64\n",
      "IN_DEF_MULTIPLA                  818 non-null float64\n",
      "IN_AUTISMO                       818 non-null float64\n",
      "IN_SINDROME_ASPERGER             818 non-null float64\n",
      "IN_SINDROME_RETT                 818 non-null float64\n",
      "IN_TRANSTORNO_DI                 818 non-null float64\n",
      "IN_SUPERDOTACAO                  818 non-null float64\n",
      "IN_RECURSO_LEDOR                 745 non-null float64\n",
      "IN_RECURSO_TRANSCRICAO           745 non-null float64\n",
      "IN_RECURSO_INTERPRETE            745 non-null float64\n",
      "IN_RECURSO_LIBRAS                745 non-null float64\n",
      "IN_RECURSO_LABIAL                745 non-null float64\n",
      "IN_RECURSO_BRAILLE               745 non-null float64\n",
      "IN_RECURSO_AMPLIADA_16           745 non-null float64\n",
      "IN_RECURSO_AMPLIADA_20           745 non-null float64\n",
      "IN_RECURSO_AMPLIADA_24           745 non-null float64\n",
      "IN_RECURSO_NENHUM                745 non-null float64\n",
      "TP_INGRESSO_FEDERAIS             0 non-null float64\n",
      "TP_MEDIACAO_DIDATICO_PEDAGO      147267 non-null int64\n",
      "IN_ESPECIAL_EXCLUSIVA            147267 non-null int64\n",
      "IN_REGULAR                       147267 non-null int64\n",
      "IN_EJA                           147267 non-null int64\n",
      "IN_PROFISSIONALIZANTE            147267 non-null int64\n",
      "TP_ETAPA_ENSINO                  147267 non-null int64\n",
      "ID_TURMA                         147267 non-null int64\n",
      "CO_CURSO_EDUC_PROFISSIONAL       3642 non-null float64\n",
      "TP_UNIFICADA                     147267 non-null int64\n",
      "TP_TIPO_TURMA                    147267 non-null int64\n",
      "CO_ENTIDADE                      147267 non-null int64\n",
      "CO_REGIAO                        147267 non-null int64\n",
      "CO_MESORREGIAO                   147267 non-null int64\n",
      "CO_MICRORREGIAO                  147267 non-null int64\n",
      "CO_UF                            147267 non-null int64\n",
      "CO_MUNICIPIO                     147267 non-null int64\n",
      "CO_DISTRITO                      147267 non-null int64\n",
      "TP_DEPENDENCIA                   147267 non-null int64\n",
      "TP_LOCALIZACAO                   147267 non-null int64\n",
      "TP_CATEGORIA_ESCOLA_PRIVADA      0 non-null float64\n",
      "IN_CONVENIADA_PP                 0 non-null float64\n",
      "TP_CONVENIO_PODER_PUBLICO        0 non-null float64\n",
      "IN_MANT_ESCOLA_PRIVADA_EMP       0 non-null float64\n",
      "IN_MANT_ESCOLA_PRIVADA_ONG       0 non-null float64\n",
      "IN_MANT_ESCOLA_PRIVADA_SIND      0 non-null float64\n",
      "IN_MANT_ESCOLA_PRIVADA_SIST_S    0 non-null float64\n",
      "IN_MANT_ESCOLA_PRIVADA_S_FINS    0 non-null float64\n",
      "TP_REGULAMENTACAO                147267 non-null int64\n",
      "TP_LOCALIZACAO_DIFERENCIADA      147267 non-null int64\n",
      "IN_EDUCACAO_INDIGENA             147267 non-null int64\n",
      "ID                               147267 non-null int64\n",
      "IN_EVASAO                        147267 non-null int64\n",
      "dtypes: float64(49), int64(43)\n",
      "memory usage: 104.5 MB\n"
     ]
    }
   ],
   "source": [
    "df_alunos = pd.read_csv(TREAT_PATH / 'analysis' / 'df_alunos16.csv', index_col=0)\n",
    "df_alunos.info()"
   ]
  },
  {
   "cell_type": "code",
   "execution_count": 503,
   "metadata": {},
   "outputs": [
    {
     "name": "stdout",
     "output_type": "stream",
     "text": [
      "<class 'pandas.core.frame.DataFrame'>\n",
      "Int64Index: 837 entries, 1 to 1096\n",
      "Columns: 173 entries, NU_ANO_CENSO to IN_TIROTEIO_5KM\n",
      "dtypes: float64(157), int64(11), object(5)\n",
      "memory usage: 1.1+ MB\n"
     ]
    }
   ],
   "source": [
    "df_escolas = pd.read_csv(TREAT_PATH / 'analysis' / 'df_escolas16.csv', index_col=0)\n",
    "df_escolas.info()"
   ]
  },
  {
   "cell_type": "markdown",
   "metadata": {},
   "source": [
    "## Dados de alunos\n",
    "\n",
    "- Total: 92 variáveis (incluindo a variável de evasão criada)"
   ]
  },
  {
   "cell_type": "code",
   "execution_count": 504,
   "metadata": {
    "scrolled": true
   },
   "outputs": [
    {
     "data": {
      "text/plain": [
       "92"
      ]
     },
     "execution_count": 504,
     "metadata": {},
     "output_type": "execute_result"
    }
   ],
   "source": [
    "len(df_alunos.columns)\n",
    "# dic_tipos"
   ]
  },
  {
   "cell_type": "code",
   "execution_count": 505,
   "metadata": {},
   "outputs": [
    {
     "name": "stdout",
     "output_type": "stream",
     "text": [
      "<class 'pandas.core.frame.DataFrame'>\n",
      "Index: 92 entries, NU_ANO_CENSO to IN_EVASAO\n",
      "Data columns (total 3 columns):\n",
      "Tipo          92 non-null object\n",
      "Seleção       0 non-null object\n",
      "Tratamento    0 non-null object\n",
      "dtypes: object(3)\n",
      "memory usage: 5.4+ KB\n"
     ]
    }
   ],
   "source": [
    "filtro_alunos = pd.DataFrame(index=df_alunos.columns, columns=['Tipo', 'Seleção', 'Tratamento'])\n",
    "\n",
    "filtro_alunos['Tipo'] = filtro_alunos.index.map(lambda x: dic_tipos[x[:2]])\n",
    "filtro_alunos.info()"
   ]
  },
  {
   "cell_type": "markdown",
   "metadata": {},
   "source": [
    "### Dados faltantes (35 variáveis)\n",
    "\n",
    "- Não entram (< 30%):\n",
    "    - 35 variáveis têm menos que 30% de dado\n",
    "    - Variáveis de endereço e especificações de deficiência / superdotação (ex: cegueira, surdez, etc)\n",
    "    - Variáveis irrelevantes: específicas de escolas privadas"
   ]
  },
  {
   "cell_type": "code",
   "execution_count": 506,
   "metadata": {},
   "outputs": [
    {
     "data": {
      "text/plain": [
       "True     57\n",
       "False    35\n",
       "dtype: int64"
      ]
     },
     "execution_count": 506,
     "metadata": {},
     "output_type": "execute_result"
    }
   ],
   "source": [
    "n = df_alunos.count()/len(df_alunos) > 0.3\n",
    "n.value_counts()"
   ]
  },
  {
   "cell_type": "code",
   "execution_count": 507,
   "metadata": {},
   "outputs": [
    {
     "data": {
      "text/plain": [
       "Index(['CO_UF_END', 'CO_MUNICIPIO_END', 'IN_CEGUEIRA', 'IN_BAIXA_VISAO',\n",
       "       'IN_SURDEZ', 'IN_DEF_AUDITIVA', 'IN_SURDOCEGUEIRA', 'IN_DEF_FISICA',\n",
       "       'IN_DEF_INTELECTUAL', 'IN_DEF_MULTIPLA', 'IN_AUTISMO',\n",
       "       'IN_SINDROME_ASPERGER', 'IN_SINDROME_RETT', 'IN_TRANSTORNO_DI',\n",
       "       'IN_SUPERDOTACAO', 'IN_RECURSO_LEDOR', 'IN_RECURSO_TRANSCRICAO',\n",
       "       'IN_RECURSO_INTERPRETE', 'IN_RECURSO_LIBRAS', 'IN_RECURSO_LABIAL',\n",
       "       'IN_RECURSO_BRAILLE', 'IN_RECURSO_AMPLIADA_16',\n",
       "       'IN_RECURSO_AMPLIADA_20', 'IN_RECURSO_AMPLIADA_24', 'IN_RECURSO_NENHUM',\n",
       "       'TP_INGRESSO_FEDERAIS', 'CO_CURSO_EDUC_PROFISSIONAL',\n",
       "       'TP_CATEGORIA_ESCOLA_PRIVADA', 'IN_CONVENIADA_PP',\n",
       "       'TP_CONVENIO_PODER_PUBLICO', 'IN_MANT_ESCOLA_PRIVADA_EMP',\n",
       "       'IN_MANT_ESCOLA_PRIVADA_ONG', 'IN_MANT_ESCOLA_PRIVADA_SIND',\n",
       "       'IN_MANT_ESCOLA_PRIVADA_SIST_S', 'IN_MANT_ESCOLA_PRIVADA_S_FINS'],\n",
       "      dtype='object')"
      ]
     },
     "execution_count": 507,
     "metadata": {},
     "output_type": "execute_result"
    }
   ],
   "source": [
    "remove = n[n == False].index\n",
    "remove"
   ]
  },
  {
   "cell_type": "code",
   "execution_count": 508,
   "metadata": {},
   "outputs": [
    {
     "name": "stdout",
     "output_type": "stream",
     "text": [
      "<class 'pandas.core.frame.DataFrame'>\n",
      "Index: 92 entries, NU_ANO_CENSO to IN_EVASAO\n",
      "Data columns (total 3 columns):\n",
      "Tipo          92 non-null object\n",
      "Seleção       35 non-null object\n",
      "Tratamento    0 non-null object\n",
      "dtypes: object(3)\n",
      "memory usage: 5.4+ KB\n"
     ]
    }
   ],
   "source": [
    "filtro_alunos.loc[remove, 'Seleção'] = 'Removida - Baixo preenchimento (< 30%)'\n",
    "filtro_alunos.info()"
   ]
  },
  {
   "cell_type": "code",
   "execution_count": 509,
   "metadata": {},
   "outputs": [
    {
     "name": "stdout",
     "output_type": "stream",
     "text": [
      "<class 'pandas.core.frame.DataFrame'>\n",
      "Int64Index: 147267 entries, 118 to 553388\n",
      "Data columns (total 57 columns):\n",
      "NU_ANO_CENSO                     147267 non-null int64\n",
      "NU_DIA                           147267 non-null int64\n",
      "NU_MES                           147267 non-null int64\n",
      "NU_ANO                           147267 non-null int64\n",
      "NU_IDADE_REFERENCIA              147267 non-null int64\n",
      "NU_IDADE                         147267 non-null int64\n",
      "NU_DURACAO_TURMA                 147267 non-null int64\n",
      "NU_DUR_ATIV_COMP_MESMA_REDE      147267 non-null int64\n",
      "NU_DUR_ATIV_COMP_OUTRAS_REDES    147267 non-null int64\n",
      "NU_DUR_AEE_MESMA_REDE            147267 non-null int64\n",
      "NU_DUR_AEE_OUTRAS_REDES          147267 non-null int64\n",
      "NU_DIAS_ATIVIDADE                147267 non-null int64\n",
      "TP_SEXO                          147267 non-null int64\n",
      "TP_COR_RACA                      147267 non-null int64\n",
      "TP_NACIONALIDADE                 147267 non-null int64\n",
      "CO_PAIS_ORIGEM                   147267 non-null int64\n",
      "CO_UF_NASC                       147181 non-null float64\n",
      "CO_MUNICIPIO_NASC                147181 non-null float64\n",
      "TP_ZONA_RESIDENCIAL              147267 non-null int64\n",
      "TP_OUTRO_LOCAL_AULA              147267 non-null int64\n",
      "IN_TRANSPORTE_PUBLICO            147267 non-null int64\n",
      "TP_RESPONSAVEL_TRANSPORTE        102206 non-null float64\n",
      "IN_TRANSP_VANS_KOMBI             102206 non-null float64\n",
      "IN_TRANSP_MICRO_ONIBUS           102206 non-null float64\n",
      "IN_TRANSP_ONIBUS                 102206 non-null float64\n",
      "IN_TRANSP_BICICLETA              102206 non-null float64\n",
      "IN_TRANSP_TR_ANIMAL              102206 non-null float64\n",
      "IN_TRANSP_OUTRO_VEICULO          102206 non-null float64\n",
      "IN_TRANSP_EMBAR_ATE5             102206 non-null float64\n",
      "IN_TRANSP_EMBAR_5A15             102206 non-null float64\n",
      "IN_TRANSP_EMBAR_15A35            102206 non-null float64\n",
      "IN_TRANSP_EMBAR_35               102206 non-null float64\n",
      "IN_TRANSP_TREM_METRO             102206 non-null float64\n",
      "IN_NECESSIDADE_ESPECIAL          147267 non-null int64\n",
      "TP_MEDIACAO_DIDATICO_PEDAGO      147267 non-null int64\n",
      "IN_ESPECIAL_EXCLUSIVA            147267 non-null int64\n",
      "IN_REGULAR                       147267 non-null int64\n",
      "IN_EJA                           147267 non-null int64\n",
      "IN_PROFISSIONALIZANTE            147267 non-null int64\n",
      "TP_ETAPA_ENSINO                  147267 non-null int64\n",
      "ID_TURMA                         147267 non-null int64\n",
      "TP_UNIFICADA                     147267 non-null int64\n",
      "TP_TIPO_TURMA                    147267 non-null int64\n",
      "CO_ENTIDADE                      147267 non-null int64\n",
      "CO_REGIAO                        147267 non-null int64\n",
      "CO_MESORREGIAO                   147267 non-null int64\n",
      "CO_MICRORREGIAO                  147267 non-null int64\n",
      "CO_UF                            147267 non-null int64\n",
      "CO_MUNICIPIO                     147267 non-null int64\n",
      "CO_DISTRITO                      147267 non-null int64\n",
      "TP_DEPENDENCIA                   147267 non-null int64\n",
      "TP_LOCALIZACAO                   147267 non-null int64\n",
      "TP_REGULAMENTACAO                147267 non-null int64\n",
      "TP_LOCALIZACAO_DIFERENCIADA      147267 non-null int64\n",
      "IN_EDUCACAO_INDIGENA             147267 non-null int64\n",
      "ID                               147267 non-null int64\n",
      "IN_EVASAO                        147267 non-null int64\n",
      "dtypes: float64(14), int64(43)\n",
      "memory usage: 65.2 MB\n"
     ]
    }
   ],
   "source": [
    "keep = df_alunos.columns[df_alunos.columns.isin(remove) == False]\n",
    "df_alunos = df_alunos[keep]\n",
    "df_alunos.info()"
   ]
  },
  {
   "cell_type": "markdown",
   "metadata": {},
   "source": [
    "### Dados sem variação (39 variáveis)\n",
    "\n",
    "- Concentração maior que 90% num só valor"
   ]
  },
  {
   "cell_type": "code",
   "execution_count": 510,
   "metadata": {},
   "outputs": [
    {
     "name": "stdout",
     "output_type": "stream",
     "text": [
      "Variáveis que concentram >80% dos valores: 39\n"
     ]
    }
   ],
   "source": [
    "mais_freq = {col: df_alunos[col].value_counts(normalize=True).iloc[0] for col in df_alunos.columns}\n",
    "mais_freq = pd.Series(mais_freq).sort_values()\n",
    "\n",
    "remove = mais_freq[mais_freq > 0.8]\n",
    "remove = remove.index\n",
    "\n",
    "print('Variáveis que concentram >80% dos valores:', len(remove))"
   ]
  },
  {
   "cell_type": "code",
   "execution_count": 511,
   "metadata": {},
   "outputs": [
    {
     "name": "stdout",
     "output_type": "stream",
     "text": [
      "<class 'pandas.core.frame.DataFrame'>\n",
      "Index: 92 entries, NU_ANO_CENSO to IN_EVASAO\n",
      "Data columns (total 3 columns):\n",
      "Tipo          92 non-null object\n",
      "Seleção       74 non-null object\n",
      "Tratamento    0 non-null object\n",
      "dtypes: object(3)\n",
      "memory usage: 5.4+ KB\n"
     ]
    }
   ],
   "source": [
    "filtro_alunos.loc[remove, 'Seleção'] = 'Removida - Baixa variação (> 80% concentrado)'\n",
    "filtro_alunos.info()"
   ]
  },
  {
   "cell_type": "code",
   "execution_count": 512,
   "metadata": {},
   "outputs": [
    {
     "name": "stdout",
     "output_type": "stream",
     "text": [
      "<class 'pandas.core.frame.DataFrame'>\n",
      "Int64Index: 147267 entries, 118 to 553388\n",
      "Data columns (total 18 columns):\n",
      "NU_DIA                   147267 non-null int64\n",
      "NU_MES                   147267 non-null int64\n",
      "NU_ANO                   147267 non-null int64\n",
      "NU_IDADE_REFERENCIA      147267 non-null int64\n",
      "NU_IDADE                 147267 non-null int64\n",
      "NU_DURACAO_TURMA         147267 non-null int64\n",
      "TP_SEXO                  147267 non-null int64\n",
      "TP_COR_RACA              147267 non-null int64\n",
      "CO_MUNICIPIO_NASC        147181 non-null float64\n",
      "IN_TRANSPORTE_PUBLICO    147267 non-null int64\n",
      "ID_TURMA                 147267 non-null int64\n",
      "CO_ENTIDADE              147267 non-null int64\n",
      "CO_MESORREGIAO           147267 non-null int64\n",
      "CO_MICRORREGIAO          147267 non-null int64\n",
      "CO_MUNICIPIO             147267 non-null int64\n",
      "CO_DISTRITO              147267 non-null int64\n",
      "ID                       147267 non-null int64\n",
      "IN_EVASAO                147267 non-null int64\n",
      "dtypes: float64(1), int64(17)\n",
      "memory usage: 21.3 MB\n"
     ]
    }
   ],
   "source": [
    "keep = df_alunos.columns[df_alunos.columns.isin(remove) == False]\n",
    "df_alunos = df_alunos[keep]\n",
    "df_alunos.info()"
   ]
  },
  {
   "cell_type": "markdown",
   "metadata": {},
   "source": [
    "### Distribuição das variáveis numéricas (ficam 1/6)\n",
    "\n",
    "- Dia, mês e ano se repetem com variável idade\n",
    "- Duração da turma: 95% têm 4 (12%) ou 5 horas (83%) de aula\n",
    "- Idade: filtro de alunos até 21 anos (99%) - 148.432 alunos"
   ]
  },
  {
   "cell_type": "code",
   "execution_count": 513,
   "metadata": {},
   "outputs": [
    {
     "data": {
      "text/plain": [
       "['NU_DIA',\n",
       " 'NU_MES',\n",
       " 'NU_ANO',\n",
       " 'NU_IDADE_REFERENCIA',\n",
       " 'NU_IDADE',\n",
       " 'NU_DURACAO_TURMA']"
      ]
     },
     "execution_count": 513,
     "metadata": {},
     "output_type": "execute_result"
    }
   ],
   "source": [
    "numericas = [i for i in df_alunos.columns if i.startswith('NU')]\n",
    "numericas"
   ]
  },
  {
   "cell_type": "code",
   "execution_count": 514,
   "metadata": {},
   "outputs": [
    {
     "data": {
      "text/html": [
       "<div>\n",
       "<style scoped>\n",
       "    .dataframe tbody tr th:only-of-type {\n",
       "        vertical-align: middle;\n",
       "    }\n",
       "\n",
       "    .dataframe tbody tr th {\n",
       "        vertical-align: top;\n",
       "    }\n",
       "\n",
       "    .dataframe thead th {\n",
       "        text-align: right;\n",
       "    }\n",
       "</style>\n",
       "<table border=\"1\" class=\"dataframe\">\n",
       "  <thead>\n",
       "    <tr style=\"text-align: right;\">\n",
       "      <th></th>\n",
       "      <th>NU_DIA</th>\n",
       "      <th>NU_MES</th>\n",
       "      <th>NU_ANO</th>\n",
       "      <th>NU_IDADE_REFERENCIA</th>\n",
       "      <th>NU_IDADE</th>\n",
       "      <th>NU_DURACAO_TURMA</th>\n",
       "    </tr>\n",
       "  </thead>\n",
       "  <tbody>\n",
       "    <tr>\n",
       "      <th>count</th>\n",
       "      <td>147267.000000</td>\n",
       "      <td>147267.000000</td>\n",
       "      <td>147267.000000</td>\n",
       "      <td>147267.000000</td>\n",
       "      <td>147267.000000</td>\n",
       "      <td>147267.000000</td>\n",
       "    </tr>\n",
       "    <tr>\n",
       "      <th>mean</th>\n",
       "      <td>15.740247</td>\n",
       "      <td>6.354282</td>\n",
       "      <td>1999.324268</td>\n",
       "      <td>16.111926</td>\n",
       "      <td>16.675732</td>\n",
       "      <td>322.492582</td>\n",
       "    </tr>\n",
       "    <tr>\n",
       "      <th>std</th>\n",
       "      <td>8.772538</td>\n",
       "      <td>3.397701</td>\n",
       "      <td>1.804034</td>\n",
       "      <td>1.801867</td>\n",
       "      <td>1.804034</td>\n",
       "      <td>65.773085</td>\n",
       "    </tr>\n",
       "    <tr>\n",
       "      <th>min</th>\n",
       "      <td>1.000000</td>\n",
       "      <td>1.000000</td>\n",
       "      <td>1939.000000</td>\n",
       "      <td>11.000000</td>\n",
       "      <td>12.000000</td>\n",
       "      <td>230.000000</td>\n",
       "    </tr>\n",
       "    <tr>\n",
       "      <th>25%</th>\n",
       "      <td>8.000000</td>\n",
       "      <td>3.000000</td>\n",
       "      <td>1999.000000</td>\n",
       "      <td>15.000000</td>\n",
       "      <td>16.000000</td>\n",
       "      <td>315.000000</td>\n",
       "    </tr>\n",
       "    <tr>\n",
       "      <th>50%</th>\n",
       "      <td>16.000000</td>\n",
       "      <td>6.000000</td>\n",
       "      <td>2000.000000</td>\n",
       "      <td>16.000000</td>\n",
       "      <td>16.000000</td>\n",
       "      <td>315.000000</td>\n",
       "    </tr>\n",
       "    <tr>\n",
       "      <th>75%</th>\n",
       "      <td>23.000000</td>\n",
       "      <td>9.000000</td>\n",
       "      <td>2000.000000</td>\n",
       "      <td>17.000000</td>\n",
       "      <td>17.000000</td>\n",
       "      <td>315.000000</td>\n",
       "    </tr>\n",
       "    <tr>\n",
       "      <th>max</th>\n",
       "      <td>31.000000</td>\n",
       "      <td>12.000000</td>\n",
       "      <td>2004.000000</td>\n",
       "      <td>76.000000</td>\n",
       "      <td>77.000000</td>\n",
       "      <td>710.000000</td>\n",
       "    </tr>\n",
       "  </tbody>\n",
       "</table>\n",
       "</div>"
      ],
      "text/plain": [
       "              NU_DIA         NU_MES         NU_ANO  NU_IDADE_REFERENCIA  \\\n",
       "count  147267.000000  147267.000000  147267.000000        147267.000000   \n",
       "mean       15.740247       6.354282    1999.324268            16.111926   \n",
       "std         8.772538       3.397701       1.804034             1.801867   \n",
       "min         1.000000       1.000000    1939.000000            11.000000   \n",
       "25%         8.000000       3.000000    1999.000000            15.000000   \n",
       "50%        16.000000       6.000000    2000.000000            16.000000   \n",
       "75%        23.000000       9.000000    2000.000000            17.000000   \n",
       "max        31.000000      12.000000    2004.000000            76.000000   \n",
       "\n",
       "            NU_IDADE  NU_DURACAO_TURMA  \n",
       "count  147267.000000     147267.000000  \n",
       "mean       16.675732        322.492582  \n",
       "std         1.804034         65.773085  \n",
       "min        12.000000        230.000000  \n",
       "25%        16.000000        315.000000  \n",
       "50%        16.000000        315.000000  \n",
       "75%        17.000000        315.000000  \n",
       "max        77.000000        710.000000  "
      ]
     },
     "execution_count": 514,
     "metadata": {},
     "output_type": "execute_result"
    }
   ],
   "source": [
    "df_alunos[numericas].describe()"
   ]
  },
  {
   "cell_type": "code",
   "execution_count": 515,
   "metadata": {},
   "outputs": [
    {
     "name": "stdout",
     "output_type": "stream",
     "text": [
      "<class 'pandas.core.frame.DataFrame'>\n",
      "Index: 92 entries, NU_ANO_CENSO to IN_EVASAO\n",
      "Data columns (total 3 columns):\n",
      "Tipo          92 non-null object\n",
      "Seleção       78 non-null object\n",
      "Tratamento    0 non-null object\n",
      "dtypes: object(3)\n",
      "memory usage: 5.4+ KB\n"
     ]
    }
   ],
   "source": [
    "remove = ['NU_DIA', 'NU_MES', 'NU_ANO', 'NU_IDADE']\n",
    "\n",
    "filtro_alunos.loc[remove, 'Seleção'] = 'Removida - Informação duplicada'\n",
    "filtro_alunos.info()"
   ]
  },
  {
   "cell_type": "code",
   "execution_count": 516,
   "metadata": {},
   "outputs": [
    {
     "name": "stdout",
     "output_type": "stream",
     "text": [
      "<class 'pandas.core.frame.DataFrame'>\n",
      "Int64Index: 147267 entries, 118 to 553388\n",
      "Data columns (total 14 columns):\n",
      "NU_IDADE_REFERENCIA      147267 non-null int64\n",
      "NU_DURACAO_TURMA         147267 non-null int64\n",
      "TP_SEXO                  147267 non-null int64\n",
      "TP_COR_RACA              147267 non-null int64\n",
      "CO_MUNICIPIO_NASC        147181 non-null float64\n",
      "IN_TRANSPORTE_PUBLICO    147267 non-null int64\n",
      "ID_TURMA                 147267 non-null int64\n",
      "CO_ENTIDADE              147267 non-null int64\n",
      "CO_MESORREGIAO           147267 non-null int64\n",
      "CO_MICRORREGIAO          147267 non-null int64\n",
      "CO_MUNICIPIO             147267 non-null int64\n",
      "CO_DISTRITO              147267 non-null int64\n",
      "ID                       147267 non-null int64\n",
      "IN_EVASAO                147267 non-null int64\n",
      "dtypes: float64(1), int64(13)\n",
      "memory usage: 16.9 MB\n"
     ]
    }
   ],
   "source": [
    "keep = df_alunos.columns[df_alunos.columns.isin(remove) == False]\n",
    "df_alunos = df_alunos[keep]\n",
    "df_alunos.info()"
   ]
  },
  {
   "cell_type": "markdown",
   "metadata": {},
   "source": [
    "#### Duração da aula"
   ]
  },
  {
   "cell_type": "code",
   "execution_count": 517,
   "metadata": {},
   "outputs": [
    {
     "data": {
      "text/plain": [
       "5.0     0.835177\n",
       "4.0     0.115138\n",
       "10.0    0.019353\n",
       "9.0     0.009717\n",
       "11.0    0.008909\n",
       "12.0    0.005629\n",
       "8.0     0.002866\n",
       "6.0     0.002519\n",
       "7.0     0.000693\n",
       "Name: NU_DURACAO_TURMA, dtype: float64"
      ]
     },
     "execution_count": 517,
     "metadata": {},
     "output_type": "execute_result"
    }
   ],
   "source": [
    "horas_aula = df_alunos['NU_DURACAO_TURMA'].apply(lambda x: round(x/60, 0))\n",
    "horas_aula.value_counts(normalize=True).iloc[:10]"
   ]
  },
  {
   "cell_type": "code",
   "execution_count": 518,
   "metadata": {},
   "outputs": [
    {
     "data": {
      "text/plain": [
       "<matplotlib.axes._subplots.AxesSubplot at 0x12d6e0210>"
      ]
     },
     "execution_count": 518,
     "metadata": {},
     "output_type": "execute_result"
    },
    {
     "data": {
      "image/png": "[encoded data removed]",
      "text/plain": [
       "<Figure size 1440x720 with 1 Axes>"
      ]
     },
     "metadata": {
      "needs_background": "light"
     },
     "output_type": "display_data"
    }
   ],
   "source": [
    "horas_aula.hist()"
   ]
  },
  {
   "cell_type": "code",
   "execution_count": 519,
   "metadata": {},
   "outputs": [
    {
     "data": {
      "text/plain": [
       "95.03147344618958"
      ]
     },
     "execution_count": 519,
     "metadata": {},
     "output_type": "execute_result"
    }
   ],
   "source": [
    "100*len(horas_aula[(horas_aula < 6) & (horas_aula > 3)])/len(df_alunos)"
   ]
  },
  {
   "cell_type": "code",
   "execution_count": 520,
   "metadata": {},
   "outputs": [],
   "source": [
    "filtro_alunos.loc['NU_DURACAO_TURMA', 'Seleção'] = 'Removida - Baixa variação (> 90% concentrado)'"
   ]
  },
  {
   "cell_type": "code",
   "execution_count": 521,
   "metadata": {},
   "outputs": [],
   "source": [
    "del df_alunos['NU_DURACAO_TURMA']"
   ]
  },
  {
   "cell_type": "markdown",
   "metadata": {},
   "source": [
    "#### Idade\n",
    "- 99% até 21 anos"
   ]
  },
  {
   "cell_type": "code",
   "execution_count": 522,
   "metadata": {},
   "outputs": [
    {
     "data": {
      "text/plain": [
       "(<matplotlib.axes._subplots.AxesSubplot at 0x12dd23b50>, count    147267.000000\n",
       " mean         16.111926\n",
       " std           1.801867\n",
       " min          11.000000\n",
       " 25%          15.000000\n",
       " 50%          16.000000\n",
       " 75%          17.000000\n",
       " max          76.000000\n",
       " Name: NU_IDADE_REFERENCIA, dtype: float64)"
      ]
     },
     "execution_count": 522,
     "metadata": {},
     "output_type": "execute_result"
    },
    {
     "data": {
      "image/png": "[encoded data removed]",
      "text/plain": [
       "<Figure size 1440x720 with 1 Axes>"
      ]
     },
     "metadata": {
      "needs_background": "light"
     },
     "output_type": "display_data"
    }
   ],
   "source": [
    "df_alunos['NU_IDADE_REFERENCIA'].hist(), df_alunos['NU_IDADE_REFERENCIA'].describe()"
   ]
  },
  {
   "cell_type": "code",
   "execution_count": 523,
   "metadata": {},
   "outputs": [
    {
     "data": {
      "text/plain": [
       "21.0"
      ]
     },
     "execution_count": 523,
     "metadata": {},
     "output_type": "execute_result"
    }
   ],
   "source": [
    "np.quantile(df_alunos['NU_IDADE_REFERENCIA'], 0.99)"
   ]
  },
  {
   "cell_type": "code",
   "execution_count": 524,
   "metadata": {},
   "outputs": [
    {
     "data": {
      "text/plain": [
       "14.0"
      ]
     },
     "execution_count": 524,
     "metadata": {},
     "output_type": "execute_result"
    }
   ],
   "source": [
    "np.quantile(df_alunos['NU_IDADE_REFERENCIA'], 0.001)"
   ]
  },
  {
   "cell_type": "code",
   "execution_count": 525,
   "metadata": {
    "scrolled": true
   },
   "outputs": [
    {
     "name": "stdout",
     "output_type": "stream",
     "text": [
      "Alunos com até de 21 anos: 146214\n"
     ]
    }
   ],
   "source": [
    "df_alunos = df_alunos[df_alunos['NU_IDADE_REFERENCIA'] <= 21]\n",
    "print('Alunos com até de 21 anos:', len(df_alunos))"
   ]
  },
  {
   "cell_type": "markdown",
   "metadata": {},
   "source": [
    "#### Distorção idade-série"
   ]
  },
  {
   "cell_type": "code",
   "execution_count": 526,
   "metadata": {},
   "outputs": [
    {
     "data": {
      "text/plain": [
       "0    0.697772\n",
       "1    0.302228\n",
       "Name: IN_DISTORCAO, dtype: float64"
      ]
     },
     "execution_count": 526,
     "metadata": {},
     "output_type": "execute_result"
    }
   ],
   "source": [
    "df_alunos['IN_DISTORCAO'] = np.where(df_alunos['NU_IDADE_REFERENCIA'] >= 17, 1, 0)\n",
    "df_alunos['IN_DISTORCAO'].value_counts(normalize=True)"
   ]
  },
  {
   "cell_type": "code",
   "execution_count": 527,
   "metadata": {},
   "outputs": [
    {
     "name": "stdout",
     "output_type": "stream",
     "text": [
      "<class 'pandas.core.frame.DataFrame'>\n",
      "Index: 92 entries, NU_ANO_CENSO to IN_EVASAO\n",
      "Data columns (total 3 columns):\n",
      "Tipo          92 non-null object\n",
      "Seleção       79 non-null object\n",
      "Tratamento    1 non-null object\n",
      "dtypes: object(3)\n",
      "memory usage: 5.4+ KB\n"
     ]
    }
   ],
   "source": [
    "filtro_alunos.loc['NU_IDADE_REFERENCIA', 'Tratamento'] = 'Remoção da cauda (< 99-quantil) + Criação indicadora de Distorção idade-série (> 17 anos)'\n",
    "filtro_alunos.info()"
   ]
  },
  {
   "cell_type": "code",
   "execution_count": 528,
   "metadata": {},
   "outputs": [
    {
     "name": "stdout",
     "output_type": "stream",
     "text": [
      "<class 'pandas.core.frame.DataFrame'>\n",
      "Int64Index: 146214 entries, 118 to 553388\n",
      "Data columns (total 14 columns):\n",
      "NU_IDADE_REFERENCIA      146214 non-null int64\n",
      "TP_SEXO                  146214 non-null int64\n",
      "TP_COR_RACA              146214 non-null int64\n",
      "CO_MUNICIPIO_NASC        146128 non-null float64\n",
      "IN_TRANSPORTE_PUBLICO    146214 non-null int64\n",
      "ID_TURMA                 146214 non-null int64\n",
      "CO_ENTIDADE              146214 non-null int64\n",
      "CO_MESORREGIAO           146214 non-null int64\n",
      "CO_MICRORREGIAO          146214 non-null int64\n",
      "CO_MUNICIPIO             146214 non-null int64\n",
      "CO_DISTRITO              146214 non-null int64\n",
      "ID                       146214 non-null int64\n",
      "IN_EVASAO                146214 non-null int64\n",
      "IN_DISTORCAO             146214 non-null int64\n",
      "dtypes: float64(1), int64(13)\n",
      "memory usage: 16.7 MB\n"
     ]
    }
   ],
   "source": [
    "df_alunos.info()"
   ]
  },
  {
   "cell_type": "markdown",
   "metadata": {},
   "source": [
    "### Distribuição das indicadoras (ficam 3/3)\n",
    "\n",
    "- Transporte público, evasão e distorção idade-série"
   ]
  },
  {
   "cell_type": "code",
   "execution_count": 529,
   "metadata": {},
   "outputs": [
    {
     "data": {
      "text/plain": [
       "['IN_TRANSPORTE_PUBLICO', 'IN_EVASAO', 'IN_DISTORCAO']"
      ]
     },
     "execution_count": 529,
     "metadata": {},
     "output_type": "execute_result"
    }
   ],
   "source": [
    "indicadoras = [i for i in df_alunos.columns if i.startswith('IN')]\n",
    "indicadoras"
   ]
  },
  {
   "cell_type": "code",
   "execution_count": 530,
   "metadata": {},
   "outputs": [
    {
     "data": {
      "text/html": [
       "<div>\n",
       "<style scoped>\n",
       "    .dataframe tbody tr th:only-of-type {\n",
       "        vertical-align: middle;\n",
       "    }\n",
       "\n",
       "    .dataframe tbody tr th {\n",
       "        vertical-align: top;\n",
       "    }\n",
       "\n",
       "    .dataframe thead th {\n",
       "        text-align: right;\n",
       "    }\n",
       "</style>\n",
       "<table border=\"1\" class=\"dataframe\">\n",
       "  <thead>\n",
       "    <tr style=\"text-align: right;\">\n",
       "      <th></th>\n",
       "      <th>IN_TRANSPORTE_PUBLICO</th>\n",
       "      <th>IN_EVASAO</th>\n",
       "      <th>IN_DISTORCAO</th>\n",
       "    </tr>\n",
       "  </thead>\n",
       "  <tbody>\n",
       "    <tr>\n",
       "      <th>count</th>\n",
       "      <td>146214.000000</td>\n",
       "      <td>146214.000000</td>\n",
       "      <td>146214.000000</td>\n",
       "    </tr>\n",
       "    <tr>\n",
       "      <th>mean</th>\n",
       "      <td>0.696301</td>\n",
       "      <td>0.316789</td>\n",
       "      <td>0.302228</td>\n",
       "    </tr>\n",
       "    <tr>\n",
       "      <th>std</th>\n",
       "      <td>0.459856</td>\n",
       "      <td>0.465226</td>\n",
       "      <td>0.459225</td>\n",
       "    </tr>\n",
       "    <tr>\n",
       "      <th>min</th>\n",
       "      <td>0.000000</td>\n",
       "      <td>0.000000</td>\n",
       "      <td>0.000000</td>\n",
       "    </tr>\n",
       "    <tr>\n",
       "      <th>25%</th>\n",
       "      <td>0.000000</td>\n",
       "      <td>0.000000</td>\n",
       "      <td>0.000000</td>\n",
       "    </tr>\n",
       "    <tr>\n",
       "      <th>50%</th>\n",
       "      <td>1.000000</td>\n",
       "      <td>0.000000</td>\n",
       "      <td>0.000000</td>\n",
       "    </tr>\n",
       "    <tr>\n",
       "      <th>75%</th>\n",
       "      <td>1.000000</td>\n",
       "      <td>1.000000</td>\n",
       "      <td>1.000000</td>\n",
       "    </tr>\n",
       "    <tr>\n",
       "      <th>max</th>\n",
       "      <td>1.000000</td>\n",
       "      <td>1.000000</td>\n",
       "      <td>1.000000</td>\n",
       "    </tr>\n",
       "  </tbody>\n",
       "</table>\n",
       "</div>"
      ],
      "text/plain": [
       "       IN_TRANSPORTE_PUBLICO      IN_EVASAO   IN_DISTORCAO\n",
       "count          146214.000000  146214.000000  146214.000000\n",
       "mean                0.696301       0.316789       0.302228\n",
       "std                 0.459856       0.465226       0.459225\n",
       "min                 0.000000       0.000000       0.000000\n",
       "25%                 0.000000       0.000000       0.000000\n",
       "50%                 1.000000       0.000000       0.000000\n",
       "75%                 1.000000       1.000000       1.000000\n",
       "max                 1.000000       1.000000       1.000000"
      ]
     },
     "execution_count": 530,
     "metadata": {},
     "output_type": "execute_result"
    }
   ],
   "source": [
    "df_alunos[indicadoras].describe()"
   ]
  },
  {
   "cell_type": "markdown",
   "metadata": {},
   "source": [
    "#### Transporte público\n",
    "- 70% utiliza transporte público"
   ]
  },
  {
   "cell_type": "code",
   "execution_count": 531,
   "metadata": {
    "scrolled": true
   },
   "outputs": [
    {
     "data": {
      "text/plain": [
       "1    0.696301\n",
       "0    0.303699\n",
       "Name: IN_TRANSPORTE_PUBLICO, dtype: float64"
      ]
     },
     "execution_count": 531,
     "metadata": {},
     "output_type": "execute_result"
    }
   ],
   "source": [
    "df_alunos['IN_TRANSPORTE_PUBLICO'].value_counts(normalize=True)"
   ]
  },
  {
   "cell_type": "markdown",
   "metadata": {},
   "source": [
    "### Distribuição de variáveis categóricas (ficam 1/2)\n",
    "\n",
    "- 46% da variável Cor/Raça é \"Não declarado\""
   ]
  },
  {
   "cell_type": "code",
   "execution_count": 532,
   "metadata": {},
   "outputs": [
    {
     "data": {
      "text/plain": [
       "['TP_SEXO', 'TP_COR_RACA']"
      ]
     },
     "execution_count": 532,
     "metadata": {},
     "output_type": "execute_result"
    }
   ],
   "source": [
    "categoricas = [i for i in df_alunos.columns if i.startswith('TP')]\n",
    "categoricas"
   ]
  },
  {
   "cell_type": "markdown",
   "metadata": {},
   "source": [
    "- Cor/Raça: 46% não declarado"
   ]
  },
  {
   "cell_type": "code",
   "execution_count": 533,
   "metadata": {},
   "outputs": [
    {
     "data": {
      "text/plain": [
       "0    0.464251\n",
       "3    0.274098\n",
       "1    0.179634\n",
       "2    0.079678\n",
       "4    0.001724\n",
       "5    0.000616\n",
       "Name: TP_COR_RACA, dtype: float64"
      ]
     },
     "execution_count": 533,
     "metadata": {},
     "output_type": "execute_result"
    }
   ],
   "source": [
    "df_alunos['TP_COR_RACA'].value_counts(normalize=True) # Maioria não declarada"
   ]
  },
  {
   "cell_type": "code",
   "execution_count": 534,
   "metadata": {},
   "outputs": [
    {
     "data": {
      "text/html": [
       "<div>\n",
       "<style scoped>\n",
       "    .dataframe tbody tr th:only-of-type {\n",
       "        vertical-align: middle;\n",
       "    }\n",
       "\n",
       "    .dataframe tbody tr th {\n",
       "        vertical-align: top;\n",
       "    }\n",
       "\n",
       "    .dataframe thead th {\n",
       "        text-align: right;\n",
       "    }\n",
       "</style>\n",
       "<table border=\"1\" class=\"dataframe\">\n",
       "  <thead>\n",
       "    <tr style=\"text-align: right;\">\n",
       "      <th>IN_EVASAO</th>\n",
       "      <th>Evadiu</th>\n",
       "      <th>Não evadiu</th>\n",
       "      <th>Total</th>\n",
       "    </tr>\n",
       "    <tr>\n",
       "      <th>TP_COR_RACA</th>\n",
       "      <th></th>\n",
       "      <th></th>\n",
       "      <th></th>\n",
       "    </tr>\n",
       "  </thead>\n",
       "  <tbody>\n",
       "    <tr>\n",
       "      <th>Não declarada</th>\n",
       "      <td>0.312758</td>\n",
       "      <td>0.687242</td>\n",
       "      <td>67880</td>\n",
       "    </tr>\n",
       "    <tr>\n",
       "      <th>Parda</th>\n",
       "      <td>0.328443</td>\n",
       "      <td>0.671557</td>\n",
       "      <td>40077</td>\n",
       "    </tr>\n",
       "    <tr>\n",
       "      <th>Branca</th>\n",
       "      <td>0.299372</td>\n",
       "      <td>0.700628</td>\n",
       "      <td>26265</td>\n",
       "    </tr>\n",
       "    <tr>\n",
       "      <th>Preta</th>\n",
       "      <td>0.337597</td>\n",
       "      <td>0.662403</td>\n",
       "      <td>11650</td>\n",
       "    </tr>\n",
       "    <tr>\n",
       "      <th>Amarela</th>\n",
       "      <td>0.357143</td>\n",
       "      <td>0.642857</td>\n",
       "      <td>252</td>\n",
       "    </tr>\n",
       "    <tr>\n",
       "      <th>Indígena</th>\n",
       "      <td>0.444444</td>\n",
       "      <td>0.555556</td>\n",
       "      <td>90</td>\n",
       "    </tr>\n",
       "  </tbody>\n",
       "</table>\n",
       "</div>"
      ],
      "text/plain": [
       "IN_EVASAO        Evadiu  Não evadiu  Total\n",
       "TP_COR_RACA                               \n",
       "Não declarada  0.312758    0.687242  67880\n",
       "Parda          0.328443    0.671557  40077\n",
       "Branca         0.299372    0.700628  26265\n",
       "Preta          0.337597    0.662403  11650\n",
       "Amarela        0.357143    0.642857    252\n",
       "Indígena       0.444444    0.555556     90"
      ]
     },
     "execution_count": 534,
     "metadata": {},
     "output_type": "execute_result"
    }
   ],
   "source": [
    "dic_ev = {0: 'Não evadiu', 1: 'Evadiu'}\n",
    "\n",
    "t = pd.crosstab(df_alunos['TP_COR_RACA'].map(dic_cor), df_alunos['IN_EVASAO'].map(dic_ev))\n",
    "t['Total'] = t.apply(lambda x: x.sum(), axis=1)\n",
    "\n",
    "t['Evadiu'] = t['Evadiu']/t['Total']\n",
    "t['Não evadiu'] = t['Não evadiu']/t['Total']\n",
    "t.sort_values('Total', ascending=False)"
   ]
  },
  {
   "cell_type": "code",
   "execution_count": 535,
   "metadata": {},
   "outputs": [],
   "source": [
    "# filtro_alunos.loc['TP_COR_RACA', 'Seleção'] = 'Removida - Baixo preenchimento (> 45% não declarado)'\n",
    "# filtro_alunos.info()"
   ]
  },
  {
   "cell_type": "markdown",
   "metadata": {},
   "source": [
    "* Sexo: preenchido, quase metade cada"
   ]
  },
  {
   "cell_type": "code",
   "execution_count": 536,
   "metadata": {},
   "outputs": [
    {
     "data": {
      "text/plain": [
       "1    0.511921\n",
       "2    0.488079\n",
       "Name: TP_SEXO, dtype: float64"
      ]
     },
     "execution_count": 536,
     "metadata": {},
     "output_type": "execute_result"
    }
   ],
   "source": [
    "df_alunos['TP_SEXO'].value_counts(normalize=True) "
   ]
  },
  {
   "cell_type": "code",
   "execution_count": 537,
   "metadata": {},
   "outputs": [],
   "source": [
    "df_alunos['TP_SEXO'] = df_alunos['TP_SEXO'].replace({1: 0, 2: 1})\n",
    "df_alunos = df_alunos.rename({'TP_SEXO': 'IN_SEXO'}, axis=1)"
   ]
  },
  {
   "cell_type": "code",
   "execution_count": 538,
   "metadata": {},
   "outputs": [
    {
     "data": {
      "text/plain": [
       "Index(['NU_IDADE_REFERENCIA', 'IN_SEXO', 'TP_COR_RACA', 'CO_MUNICIPIO_NASC',\n",
       "       'IN_TRANSPORTE_PUBLICO', 'ID_TURMA', 'CO_ENTIDADE', 'CO_MESORREGIAO',\n",
       "       'CO_MICRORREGIAO', 'CO_MUNICIPIO', 'CO_DISTRITO', 'ID', 'IN_EVASAO',\n",
       "       'IN_DISTORCAO'],\n",
       "      dtype='object')"
      ]
     },
     "execution_count": 538,
     "metadata": {},
     "output_type": "execute_result"
    }
   ],
   "source": [
    "df_alunos.columns"
   ]
  },
  {
   "cell_type": "markdown",
   "metadata": {},
   "source": [
    "### Distribuição das variáveis de códigos (ficam 2/6 + dummies)\n",
    "\n",
    "- Meso e microregião, distrito: localizações extras da escola, já é suficiente Município\n",
    "- Criamos a variável se o aluno estuda no município de nascimento \n",
    "- Criamos dummies do município da escola e de nascimento (Rio / Região Metropolitana / Outros)"
   ]
  },
  {
   "cell_type": "code",
   "execution_count": 539,
   "metadata": {},
   "outputs": [
    {
     "data": {
      "text/plain": [
       "['CO_MUNICIPIO_NASC',\n",
       " 'CO_ENTIDADE',\n",
       " 'CO_MESORREGIAO',\n",
       " 'CO_MICRORREGIAO',\n",
       " 'CO_MUNICIPIO',\n",
       " 'CO_DISTRITO']"
      ]
     },
     "execution_count": 539,
     "metadata": {},
     "output_type": "execute_result"
    }
   ],
   "source": [
    "codigos = [i for i in df_alunos.columns if i.startswith('CO')]\n",
    "codigos"
   ]
  },
  {
   "cell_type": "code",
   "execution_count": 540,
   "metadata": {},
   "outputs": [
    {
     "data": {
      "text/html": [
       "<div>\n",
       "<style scoped>\n",
       "    .dataframe tbody tr th:only-of-type {\n",
       "        vertical-align: middle;\n",
       "    }\n",
       "\n",
       "    .dataframe tbody tr th {\n",
       "        vertical-align: top;\n",
       "    }\n",
       "\n",
       "    .dataframe thead th {\n",
       "        text-align: right;\n",
       "    }\n",
       "</style>\n",
       "<table border=\"1\" class=\"dataframe\">\n",
       "  <thead>\n",
       "    <tr style=\"text-align: right;\">\n",
       "      <th></th>\n",
       "      <th>CO_MUNICIPIO_NASC</th>\n",
       "      <th>CO_ENTIDADE</th>\n",
       "      <th>CO_MESORREGIAO</th>\n",
       "      <th>CO_MICRORREGIAO</th>\n",
       "      <th>CO_MUNICIPIO</th>\n",
       "      <th>CO_DISTRITO</th>\n",
       "    </tr>\n",
       "  </thead>\n",
       "  <tbody>\n",
       "    <tr>\n",
       "      <th>count</th>\n",
       "      <td>1.461280e+05</td>\n",
       "      <td>1.462140e+05</td>\n",
       "      <td>146214.000000</td>\n",
       "      <td>146214.000000</td>\n",
       "      <td>1.462140e+05</td>\n",
       "      <td>1.462140e+05</td>\n",
       "    </tr>\n",
       "    <tr>\n",
       "      <th>mean</th>\n",
       "      <td>3.280570e+06</td>\n",
       "      <td>3.307113e+07</td>\n",
       "      <td>3305.401870</td>\n",
       "      <td>33015.380812</td>\n",
       "      <td>3.303503e+06</td>\n",
       "      <td>3.303503e+08</td>\n",
       "    </tr>\n",
       "    <tr>\n",
       "      <th>std</th>\n",
       "      <td>1.943423e+05</td>\n",
       "      <td>5.661605e+04</td>\n",
       "      <td>1.281602</td>\n",
       "      <td>4.768450</td>\n",
       "      <td>1.593937e+03</td>\n",
       "      <td>1.593927e+05</td>\n",
       "    </tr>\n",
       "    <tr>\n",
       "      <th>min</th>\n",
       "      <td>1.100023e+06</td>\n",
       "      <td>3.300003e+07</td>\n",
       "      <td>3301.000000</td>\n",
       "      <td>33001.000000</td>\n",
       "      <td>3.300100e+06</td>\n",
       "      <td>3.300100e+08</td>\n",
       "    </tr>\n",
       "    <tr>\n",
       "      <th>25%</th>\n",
       "      <td>3.302007e+06</td>\n",
       "      <td>3.304352e+07</td>\n",
       "      <td>3306.000000</td>\n",
       "      <td>33015.000000</td>\n",
       "      <td>3.302205e+06</td>\n",
       "      <td>3.302205e+08</td>\n",
       "    </tr>\n",
       "    <tr>\n",
       "      <th>50%</th>\n",
       "      <td>3.304557e+06</td>\n",
       "      <td>3.305945e+07</td>\n",
       "      <td>3306.000000</td>\n",
       "      <td>33018.000000</td>\n",
       "      <td>3.304144e+06</td>\n",
       "      <td>3.304144e+08</td>\n",
       "    </tr>\n",
       "    <tr>\n",
       "      <th>75%</th>\n",
       "      <td>3.304557e+06</td>\n",
       "      <td>3.309253e+07</td>\n",
       "      <td>3306.000000</td>\n",
       "      <td>33018.000000</td>\n",
       "      <td>3.304557e+06</td>\n",
       "      <td>3.304557e+08</td>\n",
       "    </tr>\n",
       "    <tr>\n",
       "      <th>max</th>\n",
       "      <td>5.300108e+06</td>\n",
       "      <td>3.355823e+07</td>\n",
       "      <td>3306.000000</td>\n",
       "      <td>33018.000000</td>\n",
       "      <td>3.306305e+06</td>\n",
       "      <td>3.306305e+08</td>\n",
       "    </tr>\n",
       "  </tbody>\n",
       "</table>\n",
       "</div>"
      ],
      "text/plain": [
       "       CO_MUNICIPIO_NASC   CO_ENTIDADE  CO_MESORREGIAO  CO_MICRORREGIAO  \\\n",
       "count       1.461280e+05  1.462140e+05   146214.000000    146214.000000   \n",
       "mean        3.280570e+06  3.307113e+07     3305.401870     33015.380812   \n",
       "std         1.943423e+05  5.661605e+04        1.281602         4.768450   \n",
       "min         1.100023e+06  3.300003e+07     3301.000000     33001.000000   \n",
       "25%         3.302007e+06  3.304352e+07     3306.000000     33015.000000   \n",
       "50%         3.304557e+06  3.305945e+07     3306.000000     33018.000000   \n",
       "75%         3.304557e+06  3.309253e+07     3306.000000     33018.000000   \n",
       "max         5.300108e+06  3.355823e+07     3306.000000     33018.000000   \n",
       "\n",
       "       CO_MUNICIPIO   CO_DISTRITO  \n",
       "count  1.462140e+05  1.462140e+05  \n",
       "mean   3.303503e+06  3.303503e+08  \n",
       "std    1.593937e+03  1.593927e+05  \n",
       "min    3.300100e+06  3.300100e+08  \n",
       "25%    3.302205e+06  3.302205e+08  \n",
       "50%    3.304144e+06  3.304144e+08  \n",
       "75%    3.304557e+06  3.304557e+08  \n",
       "max    3.306305e+06  3.306305e+08  "
      ]
     },
     "execution_count": 540,
     "metadata": {},
     "output_type": "execute_result"
    }
   ],
   "source": [
    "df_alunos[codigos].describe()"
   ]
  },
  {
   "cell_type": "code",
   "execution_count": 541,
   "metadata": {},
   "outputs": [
    {
     "data": {
      "text/plain": [
       "CO_MUNICIPIO_NASC      3305109.0\n",
       "CO_ENTIDADE           33106746.0\n",
       "CO_MESORREGIAO            3306.0\n",
       "CO_MICRORREGIAO          33018.0\n",
       "CO_MUNICIPIO           3305109.0\n",
       "CO_DISTRITO          330510905.0\n",
       "Name: 0.9, dtype: float64"
      ]
     },
     "execution_count": 541,
     "metadata": {},
     "output_type": "execute_result"
    }
   ],
   "source": [
    "df_alunos[codigos].quantile(0.9)"
   ]
  },
  {
   "cell_type": "code",
   "execution_count": 542,
   "metadata": {
    "scrolled": true
   },
   "outputs": [
    {
     "data": {
      "text/plain": [
       "3304557    0.289535\n",
       "3301702    0.078180\n",
       "3303500    0.062662\n",
       "3304904    0.057915\n",
       "3305109    0.043744\n",
       "Name: CO_MUNICIPIO, dtype: float64"
      ]
     },
     "execution_count": 542,
     "metadata": {},
     "output_type": "execute_result"
    }
   ],
   "source": [
    "df_alunos['CO_MUNICIPIO'].value_counts(normalize=True).iloc[:5]"
   ]
  },
  {
   "cell_type": "code",
   "execution_count": 543,
   "metadata": {},
   "outputs": [
    {
     "data": {
      "text/plain": [
       "3306    0.768470\n",
       "3305    0.075697\n",
       "3302    0.055597\n",
       "3304    0.046063\n",
       "3303    0.031474\n",
       "3301    0.022700\n",
       "Name: CO_MESORREGIAO, dtype: float64"
      ]
     },
     "execution_count": 543,
     "metadata": {},
     "output_type": "execute_result"
    }
   ],
   "source": [
    "df_alunos['CO_MESORREGIAO'].value_counts(normalize=True)"
   ]
  },
  {
   "cell_type": "code",
   "execution_count": 544,
   "metadata": {},
   "outputs": [
    {
     "data": {
      "text/plain": [
       "330455705    0.289535\n",
       "330350005    0.062662\n",
       "330510905    0.037131\n",
       "330170205    0.037014\n",
       "330045605    0.033519\n",
       "Name: CO_DISTRITO, dtype: float64"
      ]
     },
     "execution_count": 544,
     "metadata": {},
     "output_type": "execute_result"
    }
   ],
   "source": [
    "df_alunos['CO_DISTRITO'].value_counts(normalize=True)[:5]"
   ]
  },
  {
   "cell_type": "code",
   "execution_count": 545,
   "metadata": {},
   "outputs": [],
   "source": [
    "remove = ['CO_MESORREGIAO', 'CO_MICRORREGIAO', 'CO_DISTRITO']\n",
    "filtro_alunos.loc[remove, 'Seleção'] = 'Removida - Categorias esparsas'"
   ]
  },
  {
   "cell_type": "code",
   "execution_count": 546,
   "metadata": {},
   "outputs": [
    {
     "name": "stdout",
     "output_type": "stream",
     "text": [
      "<class 'pandas.core.frame.DataFrame'>\n",
      "Int64Index: 146214 entries, 118 to 553388\n",
      "Data columns (total 11 columns):\n",
      "NU_IDADE_REFERENCIA      146214 non-null int64\n",
      "IN_SEXO                  146214 non-null int64\n",
      "TP_COR_RACA              146214 non-null int64\n",
      "CO_MUNICIPIO_NASC        146128 non-null float64\n",
      "IN_TRANSPORTE_PUBLICO    146214 non-null int64\n",
      "ID_TURMA                 146214 non-null int64\n",
      "CO_ENTIDADE              146214 non-null int64\n",
      "CO_MUNICIPIO             146214 non-null int64\n",
      "ID                       146214 non-null int64\n",
      "IN_EVASAO                146214 non-null int64\n",
      "IN_DISTORCAO             146214 non-null int64\n",
      "dtypes: float64(1), int64(10)\n",
      "memory usage: 13.4 MB\n"
     ]
    }
   ],
   "source": [
    "keep = df_alunos.columns[df_alunos.columns.isin(remove) == False]\n",
    "\n",
    "df_alunos = df_alunos[keep]\n",
    "df_alunos.info()"
   ]
  },
  {
   "cell_type": "markdown",
   "metadata": {},
   "source": [
    "#### Dummies dos municípios: Rio / Região metropolitana / Outros\n",
    "\n",
    "- Município da escola e de nascimento"
   ]
  },
  {
   "cell_type": "markdown",
   "metadata": {},
   "source": [
    "Vamos separar os municípios em Rio de Janeiro, Região Metropolitana e Outros:"
   ]
  },
  {
   "cell_type": "code",
   "execution_count": 547,
   "metadata": {},
   "outputs": [
    {
     "data": {
      "text/plain": [
       "3304557.0    0.363599\n",
       "3301702.0    0.053830\n",
       "3304904.0    0.052071\n",
       "3303500.0    0.037015\n",
       "3305109.0    0.035400\n",
       "Name: CO_MUNICIPIO_NASC, dtype: float64"
      ]
     },
     "execution_count": 547,
     "metadata": {},
     "output_type": "execute_result"
    }
   ],
   "source": [
    "df_alunos['CO_MUNICIPIO_NASC'].value_counts(normalize=True).iloc[:5]"
   ]
  },
  {
   "cell_type": "code",
   "execution_count": 548,
   "metadata": {},
   "outputs": [],
   "source": [
    "# Região metropolitana (sem Rio)\n",
    "\"\"\"\n",
    "São Gonçalo, Duque de Caxias, Nova Iguaçu, Niterói, Belford Roxo, São João de Meriti, Petrópolis, Magé, \n",
    "Itaboraí, Mesquita, Nilópolis, Maricá, Queimados, Itaguaí, Japeri, Seropédica, Rio Bonito, Guapimirim, \n",
    "Cachoeiras de Macacu, Paracambi Tanguá\n",
    "\"\"\"\n",
    "\n",
    "regioes = [3304904, 3301702, 3303500, 3303302, 3300456, 3305109, \n",
    "          3303906, 3302502, 3301900, 3302858, 3303203, 3302700, \n",
    "          3304144, 3302007, 3302270, 3305554, 3304300, 3301850, \n",
    "          3300803, 3303609, 3305752]"
   ]
  },
  {
   "cell_type": "code",
   "execution_count": 549,
   "metadata": {},
   "outputs": [],
   "source": [
    "# 0: Rio, 1: Grande Rio, 2: Outras regiões no estado\n",
    "df_alunos['IN_MUNICIPIO_NASC_RIO'] = np.where(df_alunos['CO_MUNICIPIO_NASC'] == 3304557, 1, 0)\n",
    "df_alunos['IN_MUNICIPIO_NASC_MET'] = np.where(df_alunos['CO_MUNICIPIO_NASC'].isin(regioes), 1, 0)\n",
    "                                         \n",
    "df_alunos['IN_MUNICIPIO_NASC_OUT'] = np.where((df_alunos['IN_MUNICIPIO_NASC_RIO'] == 0) \n",
    "                                              & (df_alunos['IN_MUNICIPIO_NASC_MET'] == 0), 1, 0)"
   ]
  },
  {
   "cell_type": "code",
   "execution_count": 550,
   "metadata": {},
   "outputs": [],
   "source": [
    "# 0: Rio, 1: Grande Rio, 2: Outras regiões no estado\n",
    "df_alunos['IN_MUNICIPIO_RIO'] = np.where(df_alunos['CO_MUNICIPIO'] == 3304557, 1, 0)\n",
    "df_alunos['IN_MUNICIPIO_MET'] = np.where(df_alunos['CO_MUNICIPIO'].isin(regioes), 1, 0)\n",
    "                                         \n",
    "df_alunos['IN_MUNICIPIO_OUT'] = np.where((df_alunos['IN_MUNICIPIO_RIO'] == 0) \n",
    "                                         & (df_alunos['IN_MUNICIPIO_MET'] == 0), 1, 0)"
   ]
  },
  {
   "cell_type": "code",
   "execution_count": 551,
   "metadata": {},
   "outputs": [
    {
     "data": {
      "text/plain": [
       "0    0.636615\n",
       "1    0.363385\n",
       "Name: IN_MUNICIPIO_NASC_RIO, dtype: float64"
      ]
     },
     "execution_count": 551,
     "metadata": {},
     "output_type": "execute_result"
    }
   ],
   "source": [
    "df_alunos['IN_MUNICIPIO_NASC_RIO'].value_counts(normalize=True)"
   ]
  },
  {
   "cell_type": "code",
   "execution_count": 552,
   "metadata": {},
   "outputs": [
    {
     "data": {
      "text/plain": [
       "0    0.640534\n",
       "1    0.359466\n",
       "Name: IN_MUNICIPIO_NASC_MET, dtype: float64"
      ]
     },
     "execution_count": 552,
     "metadata": {},
     "output_type": "execute_result"
    }
   ],
   "source": [
    "df_alunos['IN_MUNICIPIO_NASC_MET'].value_counts(normalize=True)"
   ]
  },
  {
   "cell_type": "code",
   "execution_count": 553,
   "metadata": {},
   "outputs": [
    {
     "data": {
      "text/plain": [
       "0    0.722851\n",
       "1    0.277149\n",
       "Name: IN_MUNICIPIO_NASC_OUT, dtype: float64"
      ]
     },
     "execution_count": 553,
     "metadata": {},
     "output_type": "execute_result"
    }
   ],
   "source": [
    "df_alunos['IN_MUNICIPIO_NASC_OUT'].value_counts(normalize=True)"
   ]
  },
  {
   "cell_type": "code",
   "execution_count": 554,
   "metadata": {},
   "outputs": [
    {
     "data": {
      "text/plain": [
       "0    0.655977\n",
       "1    0.344023\n",
       "Name: IN_DIF_MUN_ESCOLA_NASC, dtype: float64"
      ]
     },
     "execution_count": 554,
     "metadata": {},
     "output_type": "execute_result"
    }
   ],
   "source": [
    "df_alunos['IN_DIF_MUN_ESCOLA_NASC'] = np.where(df_alunos['CO_MUNICIPIO_NASC'] != df_alunos['CO_MUNICIPIO'], 1, 0)\n",
    "df_alunos['IN_DIF_MUN_ESCOLA_NASC'].value_counts(normalize=True)"
   ]
  },
  {
   "cell_type": "code",
   "execution_count": 555,
   "metadata": {},
   "outputs": [],
   "source": [
    "del df_alunos['CO_MUNICIPIO_NASC']\n",
    "del df_alunos['CO_MUNICIPIO']"
   ]
  },
  {
   "cell_type": "code",
   "execution_count": 556,
   "metadata": {},
   "outputs": [
    {
     "name": "stdout",
     "output_type": "stream",
     "text": [
      "<class 'pandas.core.frame.DataFrame'>\n",
      "Index: 92 entries, NU_ANO_CENSO to IN_EVASAO\n",
      "Data columns (total 3 columns):\n",
      "Tipo          92 non-null object\n",
      "Seleção       82 non-null object\n",
      "Tratamento    3 non-null object\n",
      "dtypes: object(3)\n",
      "memory usage: 5.4+ KB\n"
     ]
    }
   ],
   "source": [
    "filtro_alunos.loc['CO_MUNICIPIO_NASC', 'Tratamento'] = 'Categorização binária (Rio / Região Metropolitana / Outros)'\n",
    "filtro_alunos.loc['CO_MUNICIPIO', 'Tratamento'] = 'Categorização binária (Rio / Região Metropolitana / Outros)'\n",
    "\n",
    "filtro_alunos.info()"
   ]
  },
  {
   "cell_type": "markdown",
   "metadata": {},
   "source": [
    "## Filtragem total das variáveis de alunos"
   ]
  },
  {
   "cell_type": "code",
   "execution_count": 557,
   "metadata": {
    "scrolled": true
   },
   "outputs": [
    {
     "name": "stdout",
     "output_type": "stream",
     "text": [
      "<class 'pandas.core.frame.DataFrame'>\n",
      "Int64Index: 146214 entries, 118 to 553388\n",
      "Data columns (total 16 columns):\n",
      "NU_IDADE_REFERENCIA       146214 non-null int64\n",
      "IN_SEXO                   146214 non-null int64\n",
      "TP_COR_RACA               146214 non-null int64\n",
      "IN_TRANSPORTE_PUBLICO     146214 non-null int64\n",
      "ID_TURMA                  146214 non-null int64\n",
      "CO_ENTIDADE               146214 non-null int64\n",
      "ID                        146214 non-null int64\n",
      "IN_EVASAO                 146214 non-null int64\n",
      "IN_DISTORCAO              146214 non-null int64\n",
      "IN_MUNICIPIO_NASC_RIO     146214 non-null int64\n",
      "IN_MUNICIPIO_NASC_MET     146214 non-null int64\n",
      "IN_MUNICIPIO_NASC_OUT     146214 non-null int64\n",
      "IN_MUNICIPIO_RIO          146214 non-null int64\n",
      "IN_MUNICIPIO_MET          146214 non-null int64\n",
      "IN_MUNICIPIO_OUT          146214 non-null int64\n",
      "IN_DIF_MUN_ESCOLA_NASC    146214 non-null int64\n",
      "dtypes: int64(16)\n",
      "memory usage: 19.0 MB\n"
     ]
    }
   ],
   "source": [
    "df_alunos.info()"
   ]
  },
  {
   "cell_type": "code",
   "execution_count": 558,
   "metadata": {},
   "outputs": [
    {
     "data": {
      "text/plain": [
       "Removida - Baixa variação (> 80% concentrado)    39\n",
       "Removida - Baixo preenchimento (< 30%)           35\n",
       "Variável utilizada                               10\n",
       "Removida - Informação duplicada                   4\n",
       "Removida - Categorias esparsas                    3\n",
       "Removida - Baixa variação (> 90% concentrado)     1\n",
       "Name: Seleção, dtype: int64"
      ]
     },
     "execution_count": 558,
     "metadata": {},
     "output_type": "execute_result"
    }
   ],
   "source": [
    "filtro_alunos['Seleção'] = filtro_alunos['Seleção'].fillna('Variável utilizada')\n",
    "filtro_alunos['Seleção'].value_counts()"
   ]
  },
  {
   "cell_type": "code",
   "execution_count": 559,
   "metadata": {},
   "outputs": [],
   "source": [
    "# cols = filtro_alunos.columns\n",
    "# filtro_alunos.reset_index().groupby(cols).count()# .fillna('-')# .sort_values('Tipo')# .to_latex())"
   ]
  },
  {
   "cell_type": "code",
   "execution_count": 560,
   "metadata": {},
   "outputs": [],
   "source": [
    "filtro_alunos.to_csv(TREAT_PATH / 'filtro_alunos.csv')"
   ]
  },
  {
   "cell_type": "markdown",
   "metadata": {},
   "source": [
    "## Dados da escola"
   ]
  },
  {
   "cell_type": "code",
   "execution_count": 561,
   "metadata": {
    "scrolled": true
   },
   "outputs": [
    {
     "data": {
      "text/plain": [
       "173"
      ]
     },
     "execution_count": 561,
     "metadata": {},
     "output_type": "execute_result"
    }
   ],
   "source": [
    "len(df_escolas.columns)"
   ]
  },
  {
   "cell_type": "code",
   "execution_count": 562,
   "metadata": {},
   "outputs": [],
   "source": [
    "del df_escolas['geometry']"
   ]
  },
  {
   "cell_type": "code",
   "execution_count": 563,
   "metadata": {},
   "outputs": [
    {
     "data": {
      "text/plain": [
       "{'IN': 'Indicadora',\n",
       " 'TP': 'Categórica',\n",
       " 'ID': 'Identificadora',\n",
       " 'CO': 'Categórica',\n",
       " 'NU': 'Numérica',\n",
       " 'NO': 'Nominal',\n",
       " 'DT': 'Data'}"
      ]
     },
     "execution_count": 563,
     "metadata": {},
     "output_type": "execute_result"
    }
   ],
   "source": [
    "dic_tipos"
   ]
  },
  {
   "cell_type": "code",
   "execution_count": 564,
   "metadata": {},
   "outputs": [],
   "source": [
    "df_escolas = df_escolas.rename({'IDEB_2015': 'NU_IDEB_2015', 'TAXA_APROVACAO_2015_9': 'NU_APROV_2015_9'}, axis=1)"
   ]
  },
  {
   "cell_type": "code",
   "execution_count": 565,
   "metadata": {
    "scrolled": true
   },
   "outputs": [
    {
     "name": "stdout",
     "output_type": "stream",
     "text": [
      "<class 'pandas.core.frame.DataFrame'>\n",
      "Index: 172 entries, NU_ANO_CENSO to IN_TIROTEIO_5KM\n",
      "Data columns (total 3 columns):\n",
      "Tipo          172 non-null object\n",
      "Seleção       0 non-null object\n",
      "Tratamento    0 non-null object\n",
      "dtypes: object(3)\n",
      "memory usage: 5.4+ KB\n"
     ]
    }
   ],
   "source": [
    "filtro_escolas = pd.DataFrame(index=df_escolas.columns, columns=['Tipo', 'Seleção', 'Tratamento'])\n",
    "\n",
    "filtro_escolas['Tipo'] = filtro_escolas.index.map(lambda x: dic_tipos[x[:2]])\n",
    "filtro_escolas.info()"
   ]
  },
  {
   "cell_type": "markdown",
   "metadata": {},
   "source": [
    "### Dados faltantes (13 variáveis)\n",
    "\n",
    "- Não entram: variáveis de escolas privada, educação indígena e indicadora EF organizado em ciclos (13 variáveis)"
   ]
  },
  {
   "cell_type": "code",
   "execution_count": 566,
   "metadata": {},
   "outputs": [
    {
     "data": {
      "text/plain": [
       "True     159\n",
       "False     13\n",
       "dtype: int64"
      ]
     },
     "execution_count": 566,
     "metadata": {},
     "output_type": "execute_result"
    }
   ],
   "source": [
    "n = df_escolas.count()/len(df_escolas) > 0.3\n",
    "n.value_counts()"
   ]
  },
  {
   "cell_type": "code",
   "execution_count": 567,
   "metadata": {},
   "outputs": [
    {
     "data": {
      "text/plain": [
       "Index(['TP_CATEGORIA_ESCOLA_PRIVADA', 'IN_CONVENIADA_PP',\n",
       "       'TP_CONVENIO_PODER_PUBLICO', 'IN_MANT_ESCOLA_PRIVADA_EMP',\n",
       "       'IN_MANT_ESCOLA_PRIVADA_ONG', 'IN_MANT_ESCOLA_PRIVADA_SIND',\n",
       "       'IN_MANT_ESCOLA_PRIVADA_SIST_S', 'IN_MANT_ESCOLA_PRIVADA_S_FINS',\n",
       "       'CO_ESCOLA_SEDE_VINCULADA', 'CO_IES_OFERTANTE', 'TP_OCUPACAO_GALPAO',\n",
       "       'TP_INDIGENA_LINGUA', 'CO_LINGUA_INDIGENA'],\n",
       "      dtype='object')"
      ]
     },
     "execution_count": 567,
     "metadata": {},
     "output_type": "execute_result"
    }
   ],
   "source": [
    "remove = n[n == False].index\n",
    "remove"
   ]
  },
  {
   "cell_type": "code",
   "execution_count": 568,
   "metadata": {},
   "outputs": [
    {
     "name": "stdout",
     "output_type": "stream",
     "text": [
      "<class 'pandas.core.frame.DataFrame'>\n",
      "Index: 172 entries, NU_ANO_CENSO to IN_TIROTEIO_5KM\n",
      "Data columns (total 3 columns):\n",
      "Tipo          172 non-null object\n",
      "Seleção       13 non-null object\n",
      "Tratamento    0 non-null object\n",
      "dtypes: object(3)\n",
      "memory usage: 10.4+ KB\n"
     ]
    }
   ],
   "source": [
    "filtro_escolas.loc[remove, 'Seleção'] = 'Removida - Baixo preenchimento (< 30%)'\n",
    "filtro_escolas.info()"
   ]
  },
  {
   "cell_type": "code",
   "execution_count": 569,
   "metadata": {},
   "outputs": [
    {
     "name": "stdout",
     "output_type": "stream",
     "text": [
      "<class 'pandas.core.frame.DataFrame'>\n",
      "Int64Index: 837 entries, 1 to 1096\n",
      "Columns: 159 entries, NU_ANO_CENSO to IN_TIROTEIO_5KM\n",
      "dtypes: float64(144), int64(11), object(4)\n",
      "memory usage: 1.0+ MB\n"
     ]
    }
   ],
   "source": [
    "keep = df_escolas.columns[df_escolas.columns.isin(remove) == False]\n",
    "df_escolas = df_escolas[keep]\n",
    "df_escolas.info()"
   ]
  },
  {
   "cell_type": "code",
   "execution_count": 570,
   "metadata": {},
   "outputs": [
    {
     "name": "stdout",
     "output_type": "stream",
     "text": [
      "Tipos de dado:\n",
      "IN    121\n",
      "NU     19\n",
      "TP      8\n",
      "CO      8\n",
      "DT      2\n",
      "NO      1\n",
      "dtype: int64\n"
     ]
    }
   ],
   "source": [
    "print('Tipos de dado:')\n",
    "print(pd.Series([i[:2] for i in df_escolas.columns]).value_counts())"
   ]
  },
  {
   "cell_type": "markdown",
   "metadata": {},
   "source": [
    "### Dados sem variação (95 variáveis)\n",
    "\n",
    "- Variáveis que concentram > 90% dos valores"
   ]
  },
  {
   "cell_type": "code",
   "execution_count": 571,
   "metadata": {},
   "outputs": [
    {
     "name": "stdout",
     "output_type": "stream",
     "text": [
      "Variáveis que concentram > 80% dos valores: 112\n"
     ]
    },
    {
     "data": {
      "text/plain": [
       "IN_EQUIP_IMPRESSORA_MULT      0.800478\n",
       "IN_QUADRA_ESPORTES_COBERTA    0.804062\n",
       "IN_SALA_LEITURA               0.806452\n",
       "IN_EQUIP_COPIADORA            0.813620\n",
       "INSE_NIVEL                    0.817204\n",
       "IN_EQUIP_FOTO                 0.818399\n",
       "IN_LABORATORIO_INFORMATICA    0.835125\n",
       "IN_ESGOTO_FOSSA               0.842294\n",
       "IN_ESGOTO_REDE_PUBLICA        0.845878\n",
       "IN_PROFISSIONALIZANTE         0.861410\n",
       "dtype: float64"
      ]
     },
     "execution_count": 571,
     "metadata": {},
     "output_type": "execute_result"
    }
   ],
   "source": [
    "mais_freq = {col: df_escolas[col].value_counts(normalize=True).iloc[0] for col in df_escolas.columns}\n",
    "mais_freq = pd.Series(mais_freq).sort_values()\n",
    "\n",
    "remove = mais_freq[mais_freq > 0.8]\n",
    "print('Variáveis que concentram > 80% dos valores:', len(remove))\n",
    "remove[remove > 0.8][:10]"
   ]
  },
  {
   "cell_type": "code",
   "execution_count": 572,
   "metadata": {},
   "outputs": [],
   "source": [
    "remove = remove.index"
   ]
  },
  {
   "cell_type": "code",
   "execution_count": 573,
   "metadata": {},
   "outputs": [
    {
     "name": "stdout",
     "output_type": "stream",
     "text": [
      "<class 'pandas.core.frame.DataFrame'>\n",
      "Index: 172 entries, NU_ANO_CENSO to IN_TIROTEIO_5KM\n",
      "Data columns (total 3 columns):\n",
      "Tipo          172 non-null object\n",
      "Seleção       125 non-null object\n",
      "Tratamento    0 non-null object\n",
      "dtypes: object(3)\n",
      "memory usage: 10.4+ KB\n"
     ]
    }
   ],
   "source": [
    "filtro_escolas.loc[remove, 'Seleção'] = 'Removida - Baixa variação (> 80% concentrado)'\n",
    "filtro_escolas.info()"
   ]
  },
  {
   "cell_type": "code",
   "execution_count": 574,
   "metadata": {
    "scrolled": true
   },
   "outputs": [
    {
     "name": "stdout",
     "output_type": "stream",
     "text": [
      "<class 'pandas.core.frame.DataFrame'>\n",
      "Int64Index: 837 entries, 1 to 1096\n",
      "Data columns (total 47 columns):\n",
      "CO_ENTIDADE                      837 non-null int64\n",
      "NO_ENTIDADE                      837 non-null object\n",
      "CO_ORGAO_REGIONAL                837 non-null object\n",
      "CO_MESORREGIAO                   837 non-null int64\n",
      "CO_MICRORREGIAO                  837 non-null int64\n",
      "CO_MUNICIPIO                     837 non-null int64\n",
      "CO_DISTRITO                      837 non-null int64\n",
      "IN_AGUA_CACIMBA                  837 non-null float64\n",
      "IN_LABORATORIO_CIENCIAS          837 non-null float64\n",
      "IN_QUADRA_ESPORTES_DESCOBERTA    837 non-null float64\n",
      "IN_BANHEIRO_FORA_PREDIO          837 non-null float64\n",
      "IN_BANHEIRO_EI                   837 non-null float64\n",
      "IN_AUDITORIO                     837 non-null float64\n",
      "IN_ALOJAM_ALUNO                  837 non-null float64\n",
      "IN_ALOJAM_PROFESSOR              837 non-null float64\n",
      "IN_LAVANDERIA                    837 non-null float64\n",
      "NU_SALAS_EXISTENTES              837 non-null float64\n",
      "NU_SALAS_UTILIZADAS              837 non-null float64\n",
      "IN_EQUIP_VIDEOCASSETE            837 non-null float64\n",
      "IN_EQUIP_PARABOLICA              837 non-null float64\n",
      "IN_EQUIP_RETROPROJETOR           837 non-null float64\n",
      "IN_EQUIP_IMPRESSORA              837 non-null float64\n",
      "IN_EQUIP_FAX                     837 non-null float64\n",
      "NU_EQUIP_TV                      837 non-null float64\n",
      "NU_EQUIP_VIDEOCASSETE            837 non-null float64\n",
      "NU_EQUIP_DVD                     837 non-null float64\n",
      "NU_EQUIP_PARABOLICA              837 non-null float64\n",
      "NU_EQUIP_COPIADORA               837 non-null float64\n",
      "NU_EQUIP_RETROPROJETOR           837 non-null float64\n",
      "NU_EQUIP_IMPRESSORA              837 non-null float64\n",
      "NU_EQUIP_IMPRESSORA_MULT         837 non-null float64\n",
      "NU_EQUIP_SOM                     837 non-null float64\n",
      "NU_EQUIP_MULTIMIDIA              837 non-null float64\n",
      "NU_EQUIP_FAX                     837 non-null float64\n",
      "NU_EQUIP_FOTO                    837 non-null float64\n",
      "NU_COMPUTADOR                    837 non-null float64\n",
      "NU_COMP_ADMINISTRATIVO           837 non-null float64\n",
      "NU_COMP_ALUNO                    837 non-null float64\n",
      "NU_FUNCIONARIOS                  837 non-null float64\n",
      "IN_EJA                           837 non-null float64\n",
      "IN_COMUM_FUND_AF                 837 non-null float64\n",
      "IN_COMUM_EJA_MEDIO               837 non-null float64\n",
      "INSE_VALOR_ABSOLUTO              837 non-null float64\n",
      "IN_COMUNIDADE_1KM                837 non-null float64\n",
      "IN_COMUNIDADE_5KM                837 non-null float64\n",
      "IN_TIROTEIO_1KM                  837 non-null float64\n",
      "IN_TIROTEIO_5KM                  837 non-null float64\n",
      "dtypes: float64(40), int64(5), object(2)\n",
      "memory usage: 313.9+ KB\n"
     ]
    }
   ],
   "source": [
    "keep = df_escolas.columns[df_escolas.columns.isin(remove) == False]\n",
    "df_escolas = df_escolas[keep]\n",
    "df_escolas.info()"
   ]
  },
  {
   "cell_type": "markdown",
   "metadata": {},
   "source": [
    "### Distribuição das variáveis numéricas (ficam 12 /18)\n",
    "\n",
    "- 5 removidas: têm correlação alta (> 0.8) com outra variável\n",
    "- 12 removidas: items de equipamento que já possuem variável indicadora"
   ]
  },
  {
   "cell_type": "code",
   "execution_count": 575,
   "metadata": {},
   "outputs": [
    {
     "data": {
      "text/plain": [
       "18"
      ]
     },
     "execution_count": 575,
     "metadata": {},
     "output_type": "execute_result"
    }
   ],
   "source": [
    "numericas = [i for i in df_escolas.columns if i.startswith('NU')]\n",
    "len(numericas)"
   ]
  },
  {
   "cell_type": "code",
   "execution_count": 576,
   "metadata": {},
   "outputs": [
    {
     "data": {
      "text/html": [
       "<div>\n",
       "<style scoped>\n",
       "    .dataframe tbody tr th:only-of-type {\n",
       "        vertical-align: middle;\n",
       "    }\n",
       "\n",
       "    .dataframe tbody tr th {\n",
       "        vertical-align: top;\n",
       "    }\n",
       "\n",
       "    .dataframe thead th {\n",
       "        text-align: right;\n",
       "    }\n",
       "</style>\n",
       "<table border=\"1\" class=\"dataframe\">\n",
       "  <thead>\n",
       "    <tr style=\"text-align: right;\">\n",
       "      <th></th>\n",
       "      <th>NU_SALAS_EXISTENTES</th>\n",
       "      <th>NU_SALAS_UTILIZADAS</th>\n",
       "      <th>NU_EQUIP_TV</th>\n",
       "      <th>NU_EQUIP_VIDEOCASSETE</th>\n",
       "      <th>NU_EQUIP_DVD</th>\n",
       "      <th>NU_EQUIP_PARABOLICA</th>\n",
       "      <th>NU_EQUIP_COPIADORA</th>\n",
       "      <th>NU_EQUIP_RETROPROJETOR</th>\n",
       "      <th>NU_EQUIP_IMPRESSORA</th>\n",
       "      <th>NU_EQUIP_IMPRESSORA_MULT</th>\n",
       "      <th>NU_EQUIP_SOM</th>\n",
       "      <th>NU_EQUIP_MULTIMIDIA</th>\n",
       "      <th>NU_EQUIP_FAX</th>\n",
       "      <th>NU_EQUIP_FOTO</th>\n",
       "      <th>NU_COMPUTADOR</th>\n",
       "      <th>NU_COMP_ADMINISTRATIVO</th>\n",
       "      <th>NU_COMP_ALUNO</th>\n",
       "      <th>NU_FUNCIONARIOS</th>\n",
       "    </tr>\n",
       "  </thead>\n",
       "  <tbody>\n",
       "    <tr>\n",
       "      <th>count</th>\n",
       "      <td>837.000000</td>\n",
       "      <td>837.000000</td>\n",
       "      <td>837.000000</td>\n",
       "      <td>837.000000</td>\n",
       "      <td>837.00000</td>\n",
       "      <td>837.000000</td>\n",
       "      <td>837.000000</td>\n",
       "      <td>837.000000</td>\n",
       "      <td>837.000000</td>\n",
       "      <td>837.000000</td>\n",
       "      <td>837.000000</td>\n",
       "      <td>837.000000</td>\n",
       "      <td>837.000000</td>\n",
       "      <td>837.000000</td>\n",
       "      <td>837.000000</td>\n",
       "      <td>837.000000</td>\n",
       "      <td>837.000000</td>\n",
       "      <td>837.000000</td>\n",
       "    </tr>\n",
       "    <tr>\n",
       "      <th>mean</th>\n",
       "      <td>14.523297</td>\n",
       "      <td>14.264038</td>\n",
       "      <td>3.540024</td>\n",
       "      <td>0.476703</td>\n",
       "      <td>2.11828</td>\n",
       "      <td>0.575866</td>\n",
       "      <td>1.633214</td>\n",
       "      <td>0.667861</td>\n",
       "      <td>2.109916</td>\n",
       "      <td>2.125448</td>\n",
       "      <td>2.099164</td>\n",
       "      <td>2.341697</td>\n",
       "      <td>0.399044</td>\n",
       "      <td>1.538829</td>\n",
       "      <td>20.271207</td>\n",
       "      <td>8.330944</td>\n",
       "      <td>11.868578</td>\n",
       "      <td>79.332139</td>\n",
       "    </tr>\n",
       "    <tr>\n",
       "      <th>std</th>\n",
       "      <td>8.153051</td>\n",
       "      <td>7.985831</td>\n",
       "      <td>2.507384</td>\n",
       "      <td>0.990865</td>\n",
       "      <td>2.23962</td>\n",
       "      <td>0.754914</td>\n",
       "      <td>1.248155</td>\n",
       "      <td>0.876095</td>\n",
       "      <td>2.141492</td>\n",
       "      <td>1.913134</td>\n",
       "      <td>1.968280</td>\n",
       "      <td>1.927599</td>\n",
       "      <td>0.575329</td>\n",
       "      <td>1.366021</td>\n",
       "      <td>18.305797</td>\n",
       "      <td>7.887314</td>\n",
       "      <td>14.091700</td>\n",
       "      <td>46.273393</td>\n",
       "    </tr>\n",
       "    <tr>\n",
       "      <th>min</th>\n",
       "      <td>2.000000</td>\n",
       "      <td>1.000000</td>\n",
       "      <td>0.000000</td>\n",
       "      <td>0.000000</td>\n",
       "      <td>0.00000</td>\n",
       "      <td>0.000000</td>\n",
       "      <td>0.000000</td>\n",
       "      <td>0.000000</td>\n",
       "      <td>0.000000</td>\n",
       "      <td>0.000000</td>\n",
       "      <td>0.000000</td>\n",
       "      <td>0.000000</td>\n",
       "      <td>0.000000</td>\n",
       "      <td>0.000000</td>\n",
       "      <td>0.000000</td>\n",
       "      <td>0.000000</td>\n",
       "      <td>0.000000</td>\n",
       "      <td>18.000000</td>\n",
       "    </tr>\n",
       "    <tr>\n",
       "      <th>25%</th>\n",
       "      <td>9.000000</td>\n",
       "      <td>9.000000</td>\n",
       "      <td>2.000000</td>\n",
       "      <td>0.000000</td>\n",
       "      <td>1.00000</td>\n",
       "      <td>0.000000</td>\n",
       "      <td>1.000000</td>\n",
       "      <td>0.000000</td>\n",
       "      <td>1.000000</td>\n",
       "      <td>1.000000</td>\n",
       "      <td>1.000000</td>\n",
       "      <td>1.000000</td>\n",
       "      <td>0.000000</td>\n",
       "      <td>1.000000</td>\n",
       "      <td>12.000000</td>\n",
       "      <td>5.000000</td>\n",
       "      <td>6.000000</td>\n",
       "      <td>51.000000</td>\n",
       "    </tr>\n",
       "    <tr>\n",
       "      <th>50%</th>\n",
       "      <td>14.000000</td>\n",
       "      <td>14.000000</td>\n",
       "      <td>3.000000</td>\n",
       "      <td>0.000000</td>\n",
       "      <td>2.00000</td>\n",
       "      <td>0.000000</td>\n",
       "      <td>1.000000</td>\n",
       "      <td>1.000000</td>\n",
       "      <td>2.000000</td>\n",
       "      <td>2.000000</td>\n",
       "      <td>2.000000</td>\n",
       "      <td>2.000000</td>\n",
       "      <td>0.000000</td>\n",
       "      <td>1.000000</td>\n",
       "      <td>18.000000</td>\n",
       "      <td>8.000000</td>\n",
       "      <td>10.000000</td>\n",
       "      <td>70.000000</td>\n",
       "    </tr>\n",
       "    <tr>\n",
       "      <th>75%</th>\n",
       "      <td>18.000000</td>\n",
       "      <td>18.000000</td>\n",
       "      <td>4.000000</td>\n",
       "      <td>1.000000</td>\n",
       "      <td>3.00000</td>\n",
       "      <td>1.000000</td>\n",
       "      <td>2.000000</td>\n",
       "      <td>1.000000</td>\n",
       "      <td>3.000000</td>\n",
       "      <td>3.000000</td>\n",
       "      <td>3.000000</td>\n",
       "      <td>3.000000</td>\n",
       "      <td>1.000000</td>\n",
       "      <td>2.000000</td>\n",
       "      <td>25.000000</td>\n",
       "      <td>11.000000</td>\n",
       "      <td>15.000000</td>\n",
       "      <td>95.000000</td>\n",
       "    </tr>\n",
       "    <tr>\n",
       "      <th>max</th>\n",
       "      <td>114.000000</td>\n",
       "      <td>114.000000</td>\n",
       "      <td>26.000000</td>\n",
       "      <td>9.000000</td>\n",
       "      <td>40.00000</td>\n",
       "      <td>11.000000</td>\n",
       "      <td>7.000000</td>\n",
       "      <td>10.000000</td>\n",
       "      <td>26.000000</td>\n",
       "      <td>18.000000</td>\n",
       "      <td>16.000000</td>\n",
       "      <td>20.000000</td>\n",
       "      <td>4.000000</td>\n",
       "      <td>12.000000</td>\n",
       "      <td>324.000000</td>\n",
       "      <td>186.000000</td>\n",
       "      <td>281.000000</td>\n",
       "      <td>615.000000</td>\n",
       "    </tr>\n",
       "  </tbody>\n",
       "</table>\n",
       "</div>"
      ],
      "text/plain": [
       "       NU_SALAS_EXISTENTES  NU_SALAS_UTILIZADAS  NU_EQUIP_TV  \\\n",
       "count           837.000000           837.000000   837.000000   \n",
       "mean             14.523297            14.264038     3.540024   \n",
       "std               8.153051             7.985831     2.507384   \n",
       "min               2.000000             1.000000     0.000000   \n",
       "25%               9.000000             9.000000     2.000000   \n",
       "50%              14.000000            14.000000     3.000000   \n",
       "75%              18.000000            18.000000     4.000000   \n",
       "max             114.000000           114.000000    26.000000   \n",
       "\n",
       "       NU_EQUIP_VIDEOCASSETE  NU_EQUIP_DVD  NU_EQUIP_PARABOLICA  \\\n",
       "count             837.000000     837.00000           837.000000   \n",
       "mean                0.476703       2.11828             0.575866   \n",
       "std                 0.990865       2.23962             0.754914   \n",
       "min                 0.000000       0.00000             0.000000   \n",
       "25%                 0.000000       1.00000             0.000000   \n",
       "50%                 0.000000       2.00000             0.000000   \n",
       "75%                 1.000000       3.00000             1.000000   \n",
       "max                 9.000000      40.00000            11.000000   \n",
       "\n",
       "       NU_EQUIP_COPIADORA  NU_EQUIP_RETROPROJETOR  NU_EQUIP_IMPRESSORA  \\\n",
       "count          837.000000              837.000000           837.000000   \n",
       "mean             1.633214                0.667861             2.109916   \n",
       "std              1.248155                0.876095             2.141492   \n",
       "min              0.000000                0.000000             0.000000   \n",
       "25%              1.000000                0.000000             1.000000   \n",
       "50%              1.000000                1.000000             2.000000   \n",
       "75%              2.000000                1.000000             3.000000   \n",
       "max              7.000000               10.000000            26.000000   \n",
       "\n",
       "       NU_EQUIP_IMPRESSORA_MULT  NU_EQUIP_SOM  NU_EQUIP_MULTIMIDIA  \\\n",
       "count                837.000000    837.000000           837.000000   \n",
       "mean                   2.125448      2.099164             2.341697   \n",
       "std                    1.913134      1.968280             1.927599   \n",
       "min                    0.000000      0.000000             0.000000   \n",
       "25%                    1.000000      1.000000             1.000000   \n",
       "50%                    2.000000      2.000000             2.000000   \n",
       "75%                    3.000000      3.000000             3.000000   \n",
       "max                   18.000000     16.000000            20.000000   \n",
       "\n",
       "       NU_EQUIP_FAX  NU_EQUIP_FOTO  NU_COMPUTADOR  NU_COMP_ADMINISTRATIVO  \\\n",
       "count    837.000000     837.000000     837.000000              837.000000   \n",
       "mean       0.399044       1.538829      20.271207                8.330944   \n",
       "std        0.575329       1.366021      18.305797                7.887314   \n",
       "min        0.000000       0.000000       0.000000                0.000000   \n",
       "25%        0.000000       1.000000      12.000000                5.000000   \n",
       "50%        0.000000       1.000000      18.000000                8.000000   \n",
       "75%        1.000000       2.000000      25.000000               11.000000   \n",
       "max        4.000000      12.000000     324.000000              186.000000   \n",
       "\n",
       "       NU_COMP_ALUNO  NU_FUNCIONARIOS  \n",
       "count     837.000000       837.000000  \n",
       "mean       11.868578        79.332139  \n",
       "std        14.091700        46.273393  \n",
       "min         0.000000        18.000000  \n",
       "25%         6.000000        51.000000  \n",
       "50%        10.000000        70.000000  \n",
       "75%        15.000000        95.000000  \n",
       "max       281.000000       615.000000  "
      ]
     },
     "execution_count": 576,
     "metadata": {},
     "output_type": "execute_result"
    }
   ],
   "source": [
    "t = df_escolas[numericas].describe()\n",
    "t"
   ]
  },
  {
   "cell_type": "code",
   "execution_count": 577,
   "metadata": {},
   "outputs": [
    {
     "data": {
      "text/plain": [
       "0.0     0.517324\n",
       "1.0     0.414576\n",
       "2.0     0.053763\n",
       "3.0     0.011947\n",
       "4.0     0.001195\n",
       "11.0    0.001195\n",
       "Name: NU_EQUIP_PARABOLICA, dtype: float64"
      ]
     },
     "execution_count": 577,
     "metadata": {},
     "output_type": "execute_result"
    }
   ],
   "source": [
    "df_escolas['NU_EQUIP_PARABOLICA'].value_counts(normalize=True)"
   ]
  },
  {
   "cell_type": "code",
   "execution_count": 578,
   "metadata": {},
   "outputs": [
    {
     "data": {
      "application/vnd.plotly.v1+json": {
       "config": {
        "linkText": "Export to plot.ly",
        "plotlyServerURL": "https://plot.ly",
        "showLink": true
       },
       "data": [
        {
         "colorscale": [
          [
           0,
           "rgb(247,252,253)"
          ],
          [
           0.125,
           "rgb(229,245,249)"
          ],
          [
           0.25,
           "rgb(204,236,230)"
          ],
          [
           0.375,
           "rgb(153,216,201)"
          ],
          [
           0.5,
           "rgb(102,194,164)"
          ],
          [
           0.625,
           "rgb(65,174,118)"
          ],
          [
           0.75,
           "rgb(35,139,69)"
          ],
          [
           0.875,
           "rgb(0,109,44)"
          ],
          [
           1,
           "rgb(0,68,27)"
          ]
         ],
         "type": "heatmap",
         "uid": "06d76f1d-6adf-43d5-847f-6599b94d4c60",
         "x": [
          "NU_SALAS_EXISTENTES",
          "NU_SALAS_UTILIZADAS",
          "NU_EQUIP_TV",
          "NU_EQUIP_VIDEOCASSETE",
          "NU_EQUIP_DVD",
          "NU_EQUIP_PARABOLICA",
          "NU_EQUIP_COPIADORA",
          "NU_EQUIP_RETROPROJETOR",
          "NU_EQUIP_IMPRESSORA",
          "NU_EQUIP_IMPRESSORA_MULT",
          "NU_EQUIP_SOM",
          "NU_EQUIP_MULTIMIDIA",
          "NU_EQUIP_FAX",
          "NU_EQUIP_FOTO",
          "NU_COMPUTADOR",
          "NU_COMP_ADMINISTRATIVO",
          "NU_COMP_ALUNO",
          "NU_FUNCIONARIOS"
         ],
         "y": [
          "NU_SALAS_EXISTENTES",
          "NU_SALAS_UTILIZADAS",
          "NU_EQUIP_TV",
          "NU_EQUIP_VIDEOCASSETE",
          "NU_EQUIP_DVD",
          "NU_EQUIP_PARABOLICA",
          "NU_EQUIP_COPIADORA",
          "NU_EQUIP_RETROPROJETOR",
          "NU_EQUIP_IMPRESSORA",
          "NU_EQUIP_IMPRESSORA_MULT",
          "NU_EQUIP_SOM",
          "NU_EQUIP_MULTIMIDIA",
          "NU_EQUIP_FAX",
          "NU_EQUIP_FOTO",
          "NU_COMPUTADOR",
          "NU_COMP_ADMINISTRATIVO",
          "NU_COMP_ALUNO",
          "NU_FUNCIONARIOS"
         ],
         "z": [
          [
           1,
           0.9815237376392235,
           0.13127225380828572,
           0.09123970694103094,
           0.09021820996771625,
           0.007534919735828308,
           0.17627699677928993,
           0.1539795644148582,
           0.22929474822411336,
           0.15522091253813072,
           0.05415791457453917,
           0.2047686313071434,
           0.11124006533562295,
           0.013746802813664858,
           0.4058799319710821,
           0.37686417854838905,
           0.30661190620443657,
           0.809504806817541
          ],
          [
           0.9815237376392235,
           1,
           0.12106889152940778,
           0.08444968239632396,
           0.09348953663434414,
           0.008280596089306343,
           0.17029651900812348,
           0.1354778515727859,
           0.19023016783020136,
           0.14705765300874915,
           0.05913643544920423,
           0.18404644931556274,
           0.08196100428224631,
           0.017974000356975266,
           0.3441801747129734,
           0.3589434670451265,
           0.2372600996568804,
           0.8113098213368511
          ],
          [
           0.13127225380828572,
           0.12106889152940778,
           1,
           0.21691156184059854,
           0.49429614493865087,
           0.16032836833517933,
           0.1547146195399243,
           0.16941776205834508,
           0.14375733902257518,
           0.1576699854161547,
           0.29234620959088636,
           0.23797396092185658,
           0.19206799001370212,
           0.2837341856811323,
           0.28558278452646974,
           0.2105714047143355,
           0.25435847220424707,
           0.153694131991937
          ],
          [
           0.09123970694103094,
           0.08444968239632396,
           0.21691156184059854,
           1,
           0.1863966443494587,
           0.22744224065613183,
           0.11639880331103543,
           0.20878896515126918,
           0.20414714383619587,
           0.1539317058883784,
           0.17690431979186266,
           0.10187122433990052,
           0.2723172276918472,
           0.12107796658158963,
           0.11361159577413008,
           0.10192812487453755,
           0.08750394619528001,
           0.07355572712956396
          ],
          [
           0.09021820996771625,
           0.09348953663434414,
           0.49429614493865087,
           0.1863966443494587,
           1,
           0.11672865651017672,
           0.10839428050037377,
           0.1279507436493028,
           0.0439245453519678,
           0.10010617652667675,
           0.1902671316448702,
           0.1607531143372207,
           0.1740570740375183,
           0.22781066766244493,
           0.17290336186124108,
           0.22896326903656555,
           0.09043330496067264,
           0.09396629800722106
          ],
          [
           0.007534919735828308,
           0.008280596089306343,
           0.16032836833517933,
           0.22744224065613183,
           0.11672865651017672,
           1,
           0.07463420853842227,
           0.06527418996585456,
           0.14059816154646107,
           0.12136385449244311,
           0.13379763393707955,
           0.11697450164839943,
           0.18359018570118074,
           0.14184353656637844,
           0.009805156882584768,
           -0.004523115964777281,
           0.00802228404987796,
           -0.035820711937827376
          ],
          [
           0.17627699677928993,
           0.17029651900812348,
           0.1547146195399243,
           0.11639880331103543,
           0.10839428050037377,
           0.07463420853842227,
           1,
           0.16958969073941796,
           0.22588121504919595,
           0.19511978515203438,
           0.13654737016676438,
           0.14512551275188032,
           0.16575263858254274,
           0.13990641770429815,
           0.10330491874711681,
           0.1096708741651403,
           0.06506036749022893,
           0.1791257822548116
          ],
          [
           0.1539795644148582,
           0.1354778515727859,
           0.16941776205834508,
           0.20878896515126918,
           0.1279507436493028,
           0.06527418996585456,
           0.16958969073941796,
           1,
           0.2088394424511882,
           0.21472500283630871,
           0.09820174882428581,
           0.2408207823577884,
           0.208681642976454,
           0.11373819099230253,
           0.2812910815188738,
           0.262256770890356,
           0.2008980838657032,
           0.17536436993690935
          ],
          [
           0.22929474822411336,
           0.19023016783020136,
           0.14375733902257518,
           0.20414714383619587,
           0.0439245453519678,
           0.14059816154646107,
           0.22588121504919595,
           0.2088394424511882,
           1,
           0.6903408133260613,
           0.1151820147456461,
           0.24821049861131383,
           0.2527054840475339,
           0.1948124421758285,
           0.3794338138121575,
           0.2536409878031296,
           0.3490178329027971,
           0.28361517724823354
          ],
          [
           0.15522091253813072,
           0.14705765300874915,
           0.1576699854161547,
           0.1539317058883784,
           0.10010617652667675,
           0.12136385449244311,
           0.19511978515203438,
           0.21472500283630871,
           0.6903408133260613,
           1,
           0.1685461172141565,
           0.26342243648986596,
           0.1935515327181292,
           0.2382030350519677,
           0.2779747389339183,
           0.3020457968730582,
           0.19867791353101547,
           0.14526832999303455
          ],
          [
           0.05415791457453917,
           0.05913643544920423,
           0.29234620959088636,
           0.17690431979186266,
           0.1902671316448702,
           0.13379763393707955,
           0.13654737016676438,
           0.09820174882428581,
           0.1151820147456461,
           0.1685461172141565,
           1,
           0.19724862871326404,
           0.16043125696446592,
           0.30798485822466737,
           0.04460182172557531,
           0.056519274165324825,
           0.025052485446581053,
           0.03352198823677225
          ],
          [
           0.2047686313071434,
           0.18404644931556274,
           0.23797396092185658,
           0.10187122433990052,
           0.1607531143372207,
           0.11697450164839943,
           0.14512551275188032,
           0.2408207823577884,
           0.24821049861131383,
           0.26342243648986596,
           0.19724862871326404,
           1,
           0.2554915875103999,
           0.18257103704815644,
           0.3866679836845526,
           0.31843336008274725,
           0.32285796572090397,
           0.2728639402503632
          ],
          [
           0.11124006533562295,
           0.08196100428224631,
           0.19206799001370212,
           0.2723172276918472,
           0.1740570740375183,
           0.18359018570118074,
           0.16575263858254274,
           0.208681642976454,
           0.2527054840475339,
           0.1935515327181292,
           0.16043125696446592,
           0.2554915875103999,
           1,
           0.14768299119743916,
           0.14792398378227778,
           0.1079355671896708,
           0.12377169330143899,
           0.06546738323181997
          ],
          [
           0.013746802813664858,
           0.017974000356975266,
           0.2837341856811323,
           0.12107796658158963,
           0.22781066766244493,
           0.14184353656637844,
           0.13990641770429815,
           0.11373819099230253,
           0.1948124421758285,
           0.2382030350519677,
           0.30798485822466737,
           0.18257103704815644,
           0.14768299119743916,
           1,
           0.08962813289657343,
           0.11943074860174671,
           0.053333167691936474,
           0.02963832296273055
          ],
          [
           0.4058799319710821,
           0.3441801747129734,
           0.28558278452646974,
           0.11361159577413008,
           0.17290336186124108,
           0.009805156882584768,
           0.10330491874711681,
           0.2812910815188738,
           0.3794338138121575,
           0.2779747389339183,
           0.04460182172557531,
           0.3866679836845526,
           0.14792398378227778,
           0.08962813289657343,
           1,
           0.6729969956420805,
           0.9043721883290327,
           0.4494540328899063
          ],
          [
           0.37686417854838905,
           0.3589434670451265,
           0.2105714047143355,
           0.10192812487453755,
           0.22896326903656555,
           -0.004523115964777281,
           0.1096708741651403,
           0.262256770890356,
           0.2536409878031296,
           0.3020457968730582,
           0.056519274165324825,
           0.31843336008274725,
           0.1079355671896708,
           0.11943074860174671,
           0.6729969956420805,
           1,
           0.32139602870256806,
           0.4291170025782253
          ],
          [
           0.30661190620443657,
           0.2372600996568804,
           0.25435847220424707,
           0.08750394619528001,
           0.09043330496067264,
           0.00802228404987796,
           0.06506036749022893,
           0.2008980838657032,
           0.3490178329027971,
           0.19867791353101547,
           0.025052485446581053,
           0.32285796572090397,
           0.12377169330143899,
           0.053333167691936474,
           0.9043721883290327,
           0.32139602870256806,
           1,
           0.332282481279481
          ],
          [
           0.809504806817541,
           0.8113098213368511,
           0.153694131991937,
           0.07355572712956396,
           0.09396629800722106,
           -0.035820711937827376,
           0.1791257822548116,
           0.17536436993690935,
           0.28361517724823354,
           0.14526832999303455,
           0.03352198823677225,
           0.2728639402503632,
           0.06546738323181997,
           0.02963832296273055,
           0.4494540328899063,
           0.4291170025782253,
           0.332282481279481,
           1
          ]
         ],
         "zmax": 1,
         "zmin": -0.035820711937827376
        }
       ],
       "layout": {
        "legend": {
         "bgcolor": "#F5F6F9",
         "font": {
          "color": "#4D5663"
         }
        },
        "margin": {
         "b": 150,
         "l": 200,
         "r": 100
        },
        "paper_bgcolor": "#F5F6F9",
        "plot_bgcolor": "#F5F6F9",
        "title": {
         "font": {
          "color": "#4D5663"
         },
         "text": "Matriz de correlação - Var. Numéricas Escolas"
        },
        "xaxis": {
         "gridcolor": "#E1E5ED",
         "showgrid": true,
         "tickfont": {
          "color": "#4D5663"
         },
         "title": {
          "font": {
           "color": "#4D5663"
          },
          "text": ""
         },
         "zerolinecolor": "#E1E5ED"
        },
        "yaxis": {
         "gridcolor": "#E1E5ED",
         "showgrid": true,
         "tickfont": {
          "color": "#4D5663"
         },
         "title": {
          "font": {
           "color": "#4D5663"
          },
          "text": ""
         },
         "zerolinecolor": "#E1E5ED"
        }
       }
      },
      "text/html": [
       "<div>\n",
       "        \n",
       "        \n",
       "            <div id=\"71b13d6b-558c-4a8e-acc0-22e905266da2\" class=\"plotly-graph-div\" style=\"height:525px; width:100%;\"></div>\n",
       "            <script type=\"text/javascript\">\n",
       "                require([\"plotly\"], function(Plotly) {\n",
       "                    window.PLOTLYENV=window.PLOTLYENV || {};\n",
       "                    window.PLOTLYENV.BASE_URL='https://plot.ly';\n",
       "                    \n",
       "                if (document.getElementById(\"71b13d6b-558c-4a8e-acc0-22e905266da2\")) {\n",
       "                    Plotly.newPlot(\n",
       "                        '71b13d6b-558c-4a8e-acc0-22e905266da2',\n",
       "                        [{\"colorscale\": [[0.0, \"rgb(247,252,253)\"], [0.125, \"rgb(229,245,249)\"], [0.25, \"rgb(204,236,230)\"], [0.375, \"rgb(153,216,201)\"], [0.5, \"rgb(102,194,164)\"], [0.625, \"rgb(65,174,118)\"], [0.75, \"rgb(35,139,69)\"], [0.875, \"rgb(0,109,44)\"], [1.0, \"rgb(0,68,27)\"]], \"type\": \"heatmap\", \"uid\": \"06d76f1d-6adf-43d5-847f-6599b94d4c60\", \"x\": [\"NU_SALAS_EXISTENTES\", \"NU_SALAS_UTILIZADAS\", \"NU_EQUIP_TV\", \"NU_EQUIP_VIDEOCASSETE\", \"NU_EQUIP_DVD\", \"NU_EQUIP_PARABOLICA\", \"NU_EQUIP_COPIADORA\", \"NU_EQUIP_RETROPROJETOR\", \"NU_EQUIP_IMPRESSORA\", \"NU_EQUIP_IMPRESSORA_MULT\", \"NU_EQUIP_SOM\", \"NU_EQUIP_MULTIMIDIA\", \"NU_EQUIP_FAX\", \"NU_EQUIP_FOTO\", \"NU_COMPUTADOR\", \"NU_COMP_ADMINISTRATIVO\", \"NU_COMP_ALUNO\", \"NU_FUNCIONARIOS\"], \"y\": [\"NU_SALAS_EXISTENTES\", \"NU_SALAS_UTILIZADAS\", \"NU_EQUIP_TV\", \"NU_EQUIP_VIDEOCASSETE\", \"NU_EQUIP_DVD\", \"NU_EQUIP_PARABOLICA\", \"NU_EQUIP_COPIADORA\", \"NU_EQUIP_RETROPROJETOR\", \"NU_EQUIP_IMPRESSORA\", \"NU_EQUIP_IMPRESSORA_MULT\", \"NU_EQUIP_SOM\", \"NU_EQUIP_MULTIMIDIA\", \"NU_EQUIP_FAX\", \"NU_EQUIP_FOTO\", \"NU_COMPUTADOR\", \"NU_COMP_ADMINISTRATIVO\", \"NU_COMP_ALUNO\", \"NU_FUNCIONARIOS\"], \"z\": [[1.0, 0.9815237376392235, 0.13127225380828572, 0.09123970694103094, 0.09021820996771625, 0.007534919735828308, 0.17627699677928993, 0.1539795644148582, 0.22929474822411336, 0.15522091253813072, 0.05415791457453917, 0.2047686313071434, 0.11124006533562295, 0.013746802813664858, 0.4058799319710821, 0.37686417854838905, 0.30661190620443657, 0.809504806817541], [0.9815237376392235, 1.0, 0.12106889152940778, 0.08444968239632396, 0.09348953663434414, 0.008280596089306343, 0.17029651900812348, 0.1354778515727859, 0.19023016783020136, 0.14705765300874915, 0.05913643544920423, 0.18404644931556274, 0.08196100428224631, 0.017974000356975266, 0.3441801747129734, 0.3589434670451265, 0.2372600996568804, 0.8113098213368511], [0.13127225380828572, 0.12106889152940778, 1.0, 0.21691156184059854, 0.49429614493865087, 0.16032836833517933, 0.1547146195399243, 0.16941776205834508, 0.14375733902257518, 0.1576699854161547, 0.29234620959088636, 0.23797396092185658, 0.19206799001370212, 0.2837341856811323, 0.28558278452646974, 0.2105714047143355, 0.25435847220424707, 0.153694131991937], [0.09123970694103094, 0.08444968239632396, 0.21691156184059854, 1.0, 0.1863966443494587, 0.22744224065613183, 0.11639880331103543, 0.20878896515126918, 0.20414714383619587, 0.1539317058883784, 0.17690431979186266, 0.10187122433990052, 0.2723172276918472, 0.12107796658158963, 0.11361159577413008, 0.10192812487453755, 0.08750394619528001, 0.07355572712956396], [0.09021820996771625, 0.09348953663434414, 0.49429614493865087, 0.1863966443494587, 1.0, 0.11672865651017672, 0.10839428050037377, 0.1279507436493028, 0.0439245453519678, 0.10010617652667675, 0.1902671316448702, 0.1607531143372207, 0.1740570740375183, 0.22781066766244493, 0.17290336186124108, 0.22896326903656555, 0.09043330496067264, 0.09396629800722106], [0.007534919735828308, 0.008280596089306343, 0.16032836833517933, 0.22744224065613183, 0.11672865651017672, 1.0, 0.07463420853842227, 0.06527418996585456, 0.14059816154646107, 0.12136385449244311, 0.13379763393707955, 0.11697450164839943, 0.18359018570118074, 0.14184353656637844, 0.009805156882584768, -0.004523115964777281, 0.00802228404987796, -0.035820711937827376], [0.17627699677928993, 0.17029651900812348, 0.1547146195399243, 0.11639880331103543, 0.10839428050037377, 0.07463420853842227, 1.0, 0.16958969073941796, 0.22588121504919595, 0.19511978515203438, 0.13654737016676438, 0.14512551275188032, 0.16575263858254274, 0.13990641770429815, 0.10330491874711681, 0.1096708741651403, 0.06506036749022893, 0.1791257822548116], [0.1539795644148582, 0.1354778515727859, 0.16941776205834508, 0.20878896515126918, 0.1279507436493028, 0.06527418996585456, 0.16958969073941796, 1.0, 0.2088394424511882, 0.21472500283630871, 0.09820174882428581, 0.2408207823577884, 0.208681642976454, 0.11373819099230253, 0.2812910815188738, 0.262256770890356, 0.2008980838657032, 0.17536436993690935], [0.22929474822411336, 0.19023016783020136, 0.14375733902257518, 0.20414714383619587, 0.0439245453519678, 0.14059816154646107, 0.22588121504919595, 0.2088394424511882, 1.0, 0.6903408133260613, 0.1151820147456461, 0.24821049861131383, 0.2527054840475339, 0.1948124421758285, 0.3794338138121575, 0.2536409878031296, 0.3490178329027971, 0.28361517724823354], [0.15522091253813072, 0.14705765300874915, 0.1576699854161547, 0.1539317058883784, 0.10010617652667675, 0.12136385449244311, 0.19511978515203438, 0.21472500283630871, 0.6903408133260613, 1.0, 0.1685461172141565, 0.26342243648986596, 0.1935515327181292, 0.2382030350519677, 0.2779747389339183, 0.3020457968730582, 0.19867791353101547, 0.14526832999303455], [0.05415791457453917, 0.05913643544920423, 0.29234620959088636, 0.17690431979186266, 0.1902671316448702, 0.13379763393707955, 0.13654737016676438, 0.09820174882428581, 0.1151820147456461, 0.1685461172141565, 1.0, 0.19724862871326404, 0.16043125696446592, 0.30798485822466737, 0.04460182172557531, 0.056519274165324825, 0.025052485446581053, 0.03352198823677225], [0.2047686313071434, 0.18404644931556274, 0.23797396092185658, 0.10187122433990052, 0.1607531143372207, 0.11697450164839943, 0.14512551275188032, 0.2408207823577884, 0.24821049861131383, 0.26342243648986596, 0.19724862871326404, 1.0, 0.2554915875103999, 0.18257103704815644, 0.3866679836845526, 0.31843336008274725, 0.32285796572090397, 0.2728639402503632], [0.11124006533562295, 0.08196100428224631, 0.19206799001370212, 0.2723172276918472, 0.1740570740375183, 0.18359018570118074, 0.16575263858254274, 0.208681642976454, 0.2527054840475339, 0.1935515327181292, 0.16043125696446592, 0.2554915875103999, 1.0, 0.14768299119743916, 0.14792398378227778, 0.1079355671896708, 0.12377169330143899, 0.06546738323181997], [0.013746802813664858, 0.017974000356975266, 0.2837341856811323, 0.12107796658158963, 0.22781066766244493, 0.14184353656637844, 0.13990641770429815, 0.11373819099230253, 0.1948124421758285, 0.2382030350519677, 0.30798485822466737, 0.18257103704815644, 0.14768299119743916, 1.0, 0.08962813289657343, 0.11943074860174671, 0.053333167691936474, 0.02963832296273055], [0.4058799319710821, 0.3441801747129734, 0.28558278452646974, 0.11361159577413008, 0.17290336186124108, 0.009805156882584768, 0.10330491874711681, 0.2812910815188738, 0.3794338138121575, 0.2779747389339183, 0.04460182172557531, 0.3866679836845526, 0.14792398378227778, 0.08962813289657343, 1.0, 0.6729969956420805, 0.9043721883290327, 0.4494540328899063], [0.37686417854838905, 0.3589434670451265, 0.2105714047143355, 0.10192812487453755, 0.22896326903656555, -0.004523115964777281, 0.1096708741651403, 0.262256770890356, 0.2536409878031296, 0.3020457968730582, 0.056519274165324825, 0.31843336008274725, 0.1079355671896708, 0.11943074860174671, 0.6729969956420805, 1.0, 0.32139602870256806, 0.4291170025782253], [0.30661190620443657, 0.2372600996568804, 0.25435847220424707, 0.08750394619528001, 0.09043330496067264, 0.00802228404987796, 0.06506036749022893, 0.2008980838657032, 0.3490178329027971, 0.19867791353101547, 0.025052485446581053, 0.32285796572090397, 0.12377169330143899, 0.053333167691936474, 0.9043721883290327, 0.32139602870256806, 1.0, 0.332282481279481], [0.809504806817541, 0.8113098213368511, 0.153694131991937, 0.07355572712956396, 0.09396629800722106, -0.035820711937827376, 0.1791257822548116, 0.17536436993690935, 0.28361517724823354, 0.14526832999303455, 0.03352198823677225, 0.2728639402503632, 0.06546738323181997, 0.02963832296273055, 0.4494540328899063, 0.4291170025782253, 0.332282481279481, 1.0]], \"zmax\": 1.0, \"zmin\": -0.035820711937827376}],\n",
       "                        {\"legend\": {\"bgcolor\": \"#F5F6F9\", \"font\": {\"color\": \"#4D5663\"}}, \"margin\": {\"b\": 150, \"l\": 200, \"r\": 100}, \"paper_bgcolor\": \"#F5F6F9\", \"plot_bgcolor\": \"#F5F6F9\", \"title\": {\"font\": {\"color\": \"#4D5663\"}, \"text\": \"Matriz de correla\\u00e7\\u00e3o - Var. Num\\u00e9ricas Escolas\"}, \"xaxis\": {\"gridcolor\": \"#E1E5ED\", \"showgrid\": true, \"tickfont\": {\"color\": \"#4D5663\"}, \"title\": {\"font\": {\"color\": \"#4D5663\"}, \"text\": \"\"}, \"zerolinecolor\": \"#E1E5ED\"}, \"yaxis\": {\"gridcolor\": \"#E1E5ED\", \"showgrid\": true, \"tickfont\": {\"color\": \"#4D5663\"}, \"title\": {\"font\": {\"color\": \"#4D5663\"}, \"text\": \"\"}, \"zerolinecolor\": \"#E1E5ED\"}},\n",
       "                        {\"showLink\": true, \"linkText\": \"Export to plot.ly\", \"plotlyServerURL\": \"https://plot.ly\", \"responsive\": true}\n",
       "                    ).then(function(){\n",
       "                            \n",
       "var gd = document.getElementById('71b13d6b-558c-4a8e-acc0-22e905266da2');\n",
       "var x = new MutationObserver(function (mutations, observer) {{\n",
       "        var display = window.getComputedStyle(gd).display;\n",
       "        if (!display || display === 'none') {{\n",
       "            console.log([gd, 'removed!']);\n",
       "            Plotly.purge(gd);\n",
       "            observer.disconnect();\n",
       "        }}\n",
       "}});\n",
       "\n",
       "// Listen for the removal of the full notebook cells\n",
       "var notebookContainer = gd.closest('#notebook-container');\n",
       "if (notebookContainer) {{\n",
       "    x.observe(notebookContainer, {childList: true});\n",
       "}}\n",
       "\n",
       "// Listen for the clearing of the current output cell\n",
       "var outputEl = gd.closest('.output');\n",
       "if (outputEl) {{\n",
       "    x.observe(outputEl, {childList: true});\n",
       "}}\n",
       "\n",
       "                        })\n",
       "                };\n",
       "                });\n",
       "            </script>\n",
       "        </div>"
      ]
     },
     "metadata": {},
     "output_type": "display_data"
    }
   ],
   "source": [
    "from pylab import rcParams\n",
    "rcParams['figure.figsize'] = 20, 10\n",
    "import seaborn as sns\n",
    "\n",
    "df_escolas[numericas].corr(method='pearson').iplot(kind='heatmap', margin=dict(l=200, b=150, r=100),\n",
    "                                               colorscale='bugn', \n",
    "                                               title=\"Matriz de correlação - Var. Numéricas Escolas\")"
   ]
  },
  {
   "cell_type": "code",
   "execution_count": 579,
   "metadata": {},
   "outputs": [],
   "source": [
    "remove = ['NU_SALAS_EXISTENTES', 'NU_SALAS_UTILIZADAS', \n",
    "          'NU_COMP_ADMINISTRATIVO', 'NU_COMPUTADOR', \n",
    "          'NU_EQUIP_IMPRESSORA_MULT']"
   ]
  },
  {
   "cell_type": "code",
   "execution_count": 580,
   "metadata": {
    "scrolled": true
   },
   "outputs": [
    {
     "name": "stdout",
     "output_type": "stream",
     "text": [
      "<class 'pandas.core.frame.DataFrame'>\n",
      "Index: 172 entries, NU_ANO_CENSO to IN_TIROTEIO_5KM\n",
      "Data columns (total 3 columns):\n",
      "Tipo          172 non-null object\n",
      "Seleção       130 non-null object\n",
      "Tratamento    0 non-null object\n",
      "dtypes: object(3)\n",
      "memory usage: 10.4+ KB\n"
     ]
    }
   ],
   "source": [
    "filtro_escolas.loc[remove, 'Seleção'] = 'Removida - Alta correlação (> 80%)'\n",
    "filtro_escolas.info()"
   ]
  },
  {
   "cell_type": "code",
   "execution_count": 581,
   "metadata": {},
   "outputs": [
    {
     "name": "stdout",
     "output_type": "stream",
     "text": [
      "<class 'pandas.core.frame.DataFrame'>\n",
      "Int64Index: 837 entries, 1 to 1096\n",
      "Data columns (total 42 columns):\n",
      "CO_ENTIDADE                      837 non-null int64\n",
      "NO_ENTIDADE                      837 non-null object\n",
      "CO_ORGAO_REGIONAL                837 non-null object\n",
      "CO_MESORREGIAO                   837 non-null int64\n",
      "CO_MICRORREGIAO                  837 non-null int64\n",
      "CO_MUNICIPIO                     837 non-null int64\n",
      "CO_DISTRITO                      837 non-null int64\n",
      "IN_AGUA_CACIMBA                  837 non-null float64\n",
      "IN_LABORATORIO_CIENCIAS          837 non-null float64\n",
      "IN_QUADRA_ESPORTES_DESCOBERTA    837 non-null float64\n",
      "IN_BANHEIRO_FORA_PREDIO          837 non-null float64\n",
      "IN_BANHEIRO_EI                   837 non-null float64\n",
      "IN_AUDITORIO                     837 non-null float64\n",
      "IN_ALOJAM_ALUNO                  837 non-null float64\n",
      "IN_ALOJAM_PROFESSOR              837 non-null float64\n",
      "IN_LAVANDERIA                    837 non-null float64\n",
      "IN_EQUIP_VIDEOCASSETE            837 non-null float64\n",
      "IN_EQUIP_PARABOLICA              837 non-null float64\n",
      "IN_EQUIP_RETROPROJETOR           837 non-null float64\n",
      "IN_EQUIP_IMPRESSORA              837 non-null float64\n",
      "IN_EQUIP_FAX                     837 non-null float64\n",
      "NU_EQUIP_TV                      837 non-null float64\n",
      "NU_EQUIP_VIDEOCASSETE            837 non-null float64\n",
      "NU_EQUIP_DVD                     837 non-null float64\n",
      "NU_EQUIP_PARABOLICA              837 non-null float64\n",
      "NU_EQUIP_COPIADORA               837 non-null float64\n",
      "NU_EQUIP_RETROPROJETOR           837 non-null float64\n",
      "NU_EQUIP_IMPRESSORA              837 non-null float64\n",
      "NU_EQUIP_SOM                     837 non-null float64\n",
      "NU_EQUIP_MULTIMIDIA              837 non-null float64\n",
      "NU_EQUIP_FAX                     837 non-null float64\n",
      "NU_EQUIP_FOTO                    837 non-null float64\n",
      "NU_COMP_ALUNO                    837 non-null float64\n",
      "NU_FUNCIONARIOS                  837 non-null float64\n",
      "IN_EJA                           837 non-null float64\n",
      "IN_COMUM_FUND_AF                 837 non-null float64\n",
      "IN_COMUM_EJA_MEDIO               837 non-null float64\n",
      "INSE_VALOR_ABSOLUTO              837 non-null float64\n",
      "IN_COMUNIDADE_1KM                837 non-null float64\n",
      "IN_COMUNIDADE_5KM                837 non-null float64\n",
      "IN_TIROTEIO_1KM                  837 non-null float64\n",
      "IN_TIROTEIO_5KM                  837 non-null float64\n",
      "dtypes: float64(35), int64(5), object(2)\n",
      "memory usage: 281.2+ KB\n"
     ]
    }
   ],
   "source": [
    "keep = df_escolas.columns[df_escolas.columns.isin(remove) == False]\n",
    "df_escolas = df_escolas[keep]\n",
    "df_escolas.info()"
   ]
  },
  {
   "cell_type": "code",
   "execution_count": 582,
   "metadata": {},
   "outputs": [
    {
     "name": "stdout",
     "output_type": "stream",
     "text": [
      "Tipos de dado:\n",
      "IN    22\n",
      "NU    13\n",
      "CO     6\n",
      "NO     1\n",
      "dtype: int64\n"
     ]
    }
   ],
   "source": [
    "print('Tipos de dado:')\n",
    "print(pd.Series([i[:2] for i in df_escolas.columns]).value_counts())"
   ]
  },
  {
   "cell_type": "markdown",
   "metadata": {},
   "source": [
    "### Distribuição das indicadoras (ficam 30/35)\n",
    "\n",
    "\n",
    "- 5 removidas: têm correlação alta (>0.85 ou <-0.85) com outra indicadora"
   ]
  },
  {
   "cell_type": "code",
   "execution_count": 583,
   "metadata": {},
   "outputs": [
    {
     "data": {
      "text/plain": [
       "21"
      ]
     },
     "execution_count": 583,
     "metadata": {},
     "output_type": "execute_result"
    }
   ],
   "source": [
    "indicadoras = [i for i in df_escolas.columns if i.startswith('IN_')]\n",
    "len(indicadoras)"
   ]
  },
  {
   "cell_type": "markdown",
   "metadata": {},
   "source": [
    "- Correlação das indicadoras ([Phi coefficient](https://en.wikipedia.org/wiki/Matthews_correlation_coefficient)):"
   ]
  },
  {
   "cell_type": "code",
   "execution_count": 584,
   "metadata": {},
   "outputs": [
    {
     "data": {
      "text/html": [
       "<div>\n",
       "<style scoped>\n",
       "    .dataframe tbody tr th:only-of-type {\n",
       "        vertical-align: middle;\n",
       "    }\n",
       "\n",
       "    .dataframe tbody tr th {\n",
       "        vertical-align: top;\n",
       "    }\n",
       "\n",
       "    .dataframe thead th {\n",
       "        text-align: right;\n",
       "    }\n",
       "</style>\n",
       "<table border=\"1\" class=\"dataframe\">\n",
       "  <thead>\n",
       "    <tr style=\"text-align: right;\">\n",
       "      <th></th>\n",
       "      <th>IN_AGUA_CACIMBA</th>\n",
       "      <th>IN_LABORATORIO_CIENCIAS</th>\n",
       "      <th>IN_QUADRA_ESPORTES_DESCOBERTA</th>\n",
       "      <th>IN_BANHEIRO_FORA_PREDIO</th>\n",
       "      <th>IN_BANHEIRO_EI</th>\n",
       "      <th>IN_AUDITORIO</th>\n",
       "      <th>IN_ALOJAM_ALUNO</th>\n",
       "      <th>IN_ALOJAM_PROFESSOR</th>\n",
       "      <th>IN_LAVANDERIA</th>\n",
       "      <th>IN_EQUIP_VIDEOCASSETE</th>\n",
       "      <th>IN_EQUIP_PARABOLICA</th>\n",
       "      <th>IN_EQUIP_RETROPROJETOR</th>\n",
       "      <th>IN_EQUIP_IMPRESSORA</th>\n",
       "      <th>IN_EQUIP_FAX</th>\n",
       "      <th>IN_EJA</th>\n",
       "      <th>IN_COMUM_FUND_AF</th>\n",
       "      <th>IN_COMUM_EJA_MEDIO</th>\n",
       "      <th>IN_COMUNIDADE_1KM</th>\n",
       "      <th>IN_COMUNIDADE_5KM</th>\n",
       "      <th>IN_TIROTEIO_1KM</th>\n",
       "      <th>IN_TIROTEIO_5KM</th>\n",
       "    </tr>\n",
       "  </thead>\n",
       "  <tbody>\n",
       "    <tr>\n",
       "      <th>count</th>\n",
       "      <td>837.000000</td>\n",
       "      <td>837.000000</td>\n",
       "      <td>837.000000</td>\n",
       "      <td>837.000000</td>\n",
       "      <td>837.000000</td>\n",
       "      <td>837.000000</td>\n",
       "      <td>837.000000</td>\n",
       "      <td>837.000000</td>\n",
       "      <td>837.000000</td>\n",
       "      <td>837.000000</td>\n",
       "      <td>837.000000</td>\n",
       "      <td>837.000000</td>\n",
       "      <td>837.000000</td>\n",
       "      <td>837.000000</td>\n",
       "      <td>837.000000</td>\n",
       "      <td>837.000000</td>\n",
       "      <td>837.000000</td>\n",
       "      <td>837.000000</td>\n",
       "      <td>837.000000</td>\n",
       "      <td>837.000000</td>\n",
       "      <td>837.000000</td>\n",
       "    </tr>\n",
       "    <tr>\n",
       "      <th>mean</th>\n",
       "      <td>0.291517</td>\n",
       "      <td>0.741935</td>\n",
       "      <td>0.702509</td>\n",
       "      <td>0.768220</td>\n",
       "      <td>0.553166</td>\n",
       "      <td>0.793309</td>\n",
       "      <td>0.545998</td>\n",
       "      <td>0.541219</td>\n",
       "      <td>0.531661</td>\n",
       "      <td>0.284349</td>\n",
       "      <td>0.482676</td>\n",
       "      <td>0.524492</td>\n",
       "      <td>0.774194</td>\n",
       "      <td>0.360812</td>\n",
       "      <td>0.469534</td>\n",
       "      <td>0.704898</td>\n",
       "      <td>0.449223</td>\n",
       "      <td>0.767025</td>\n",
       "      <td>0.767025</td>\n",
       "      <td>0.544803</td>\n",
       "      <td>0.544803</td>\n",
       "    </tr>\n",
       "    <tr>\n",
       "      <th>std</th>\n",
       "      <td>0.454733</td>\n",
       "      <td>0.437831</td>\n",
       "      <td>0.457428</td>\n",
       "      <td>0.422222</td>\n",
       "      <td>0.497463</td>\n",
       "      <td>0.405174</td>\n",
       "      <td>0.498177</td>\n",
       "      <td>0.498596</td>\n",
       "      <td>0.499295</td>\n",
       "      <td>0.451373</td>\n",
       "      <td>0.499999</td>\n",
       "      <td>0.499698</td>\n",
       "      <td>0.418362</td>\n",
       "      <td>0.480523</td>\n",
       "      <td>0.499369</td>\n",
       "      <td>0.456361</td>\n",
       "      <td>0.497712</td>\n",
       "      <td>0.422979</td>\n",
       "      <td>0.422979</td>\n",
       "      <td>0.498286</td>\n",
       "      <td>0.498286</td>\n",
       "    </tr>\n",
       "    <tr>\n",
       "      <th>min</th>\n",
       "      <td>0.000000</td>\n",
       "      <td>0.000000</td>\n",
       "      <td>0.000000</td>\n",
       "      <td>0.000000</td>\n",
       "      <td>0.000000</td>\n",
       "      <td>0.000000</td>\n",
       "      <td>0.000000</td>\n",
       "      <td>0.000000</td>\n",
       "      <td>0.000000</td>\n",
       "      <td>0.000000</td>\n",
       "      <td>0.000000</td>\n",
       "      <td>0.000000</td>\n",
       "      <td>0.000000</td>\n",
       "      <td>0.000000</td>\n",
       "      <td>0.000000</td>\n",
       "      <td>0.000000</td>\n",
       "      <td>0.000000</td>\n",
       "      <td>0.000000</td>\n",
       "      <td>0.000000</td>\n",
       "      <td>0.000000</td>\n",
       "      <td>0.000000</td>\n",
       "    </tr>\n",
       "    <tr>\n",
       "      <th>25%</th>\n",
       "      <td>0.000000</td>\n",
       "      <td>0.000000</td>\n",
       "      <td>0.000000</td>\n",
       "      <td>1.000000</td>\n",
       "      <td>0.000000</td>\n",
       "      <td>1.000000</td>\n",
       "      <td>0.000000</td>\n",
       "      <td>0.000000</td>\n",
       "      <td>0.000000</td>\n",
       "      <td>0.000000</td>\n",
       "      <td>0.000000</td>\n",
       "      <td>0.000000</td>\n",
       "      <td>1.000000</td>\n",
       "      <td>0.000000</td>\n",
       "      <td>0.000000</td>\n",
       "      <td>0.000000</td>\n",
       "      <td>0.000000</td>\n",
       "      <td>1.000000</td>\n",
       "      <td>1.000000</td>\n",
       "      <td>0.000000</td>\n",
       "      <td>0.000000</td>\n",
       "    </tr>\n",
       "    <tr>\n",
       "      <th>50%</th>\n",
       "      <td>0.000000</td>\n",
       "      <td>1.000000</td>\n",
       "      <td>1.000000</td>\n",
       "      <td>1.000000</td>\n",
       "      <td>1.000000</td>\n",
       "      <td>1.000000</td>\n",
       "      <td>1.000000</td>\n",
       "      <td>1.000000</td>\n",
       "      <td>1.000000</td>\n",
       "      <td>0.000000</td>\n",
       "      <td>0.000000</td>\n",
       "      <td>1.000000</td>\n",
       "      <td>1.000000</td>\n",
       "      <td>0.000000</td>\n",
       "      <td>0.000000</td>\n",
       "      <td>1.000000</td>\n",
       "      <td>0.000000</td>\n",
       "      <td>1.000000</td>\n",
       "      <td>1.000000</td>\n",
       "      <td>1.000000</td>\n",
       "      <td>1.000000</td>\n",
       "    </tr>\n",
       "    <tr>\n",
       "      <th>75%</th>\n",
       "      <td>1.000000</td>\n",
       "      <td>1.000000</td>\n",
       "      <td>1.000000</td>\n",
       "      <td>1.000000</td>\n",
       "      <td>1.000000</td>\n",
       "      <td>1.000000</td>\n",
       "      <td>1.000000</td>\n",
       "      <td>1.000000</td>\n",
       "      <td>1.000000</td>\n",
       "      <td>1.000000</td>\n",
       "      <td>1.000000</td>\n",
       "      <td>1.000000</td>\n",
       "      <td>1.000000</td>\n",
       "      <td>1.000000</td>\n",
       "      <td>1.000000</td>\n",
       "      <td>1.000000</td>\n",
       "      <td>1.000000</td>\n",
       "      <td>1.000000</td>\n",
       "      <td>1.000000</td>\n",
       "      <td>1.000000</td>\n",
       "      <td>1.000000</td>\n",
       "    </tr>\n",
       "    <tr>\n",
       "      <th>max</th>\n",
       "      <td>1.000000</td>\n",
       "      <td>1.000000</td>\n",
       "      <td>1.000000</td>\n",
       "      <td>1.000000</td>\n",
       "      <td>1.000000</td>\n",
       "      <td>1.000000</td>\n",
       "      <td>1.000000</td>\n",
       "      <td>1.000000</td>\n",
       "      <td>1.000000</td>\n",
       "      <td>1.000000</td>\n",
       "      <td>1.000000</td>\n",
       "      <td>1.000000</td>\n",
       "      <td>1.000000</td>\n",
       "      <td>1.000000</td>\n",
       "      <td>1.000000</td>\n",
       "      <td>1.000000</td>\n",
       "      <td>1.000000</td>\n",
       "      <td>1.000000</td>\n",
       "      <td>1.000000</td>\n",
       "      <td>1.000000</td>\n",
       "      <td>1.000000</td>\n",
       "    </tr>\n",
       "  </tbody>\n",
       "</table>\n",
       "</div>"
      ],
      "text/plain": [
       "       IN_AGUA_CACIMBA  IN_LABORATORIO_CIENCIAS  \\\n",
       "count       837.000000               837.000000   \n",
       "mean          0.291517                 0.741935   \n",
       "std           0.454733                 0.437831   \n",
       "min           0.000000                 0.000000   \n",
       "25%           0.000000                 0.000000   \n",
       "50%           0.000000                 1.000000   \n",
       "75%           1.000000                 1.000000   \n",
       "max           1.000000                 1.000000   \n",
       "\n",
       "       IN_QUADRA_ESPORTES_DESCOBERTA  IN_BANHEIRO_FORA_PREDIO  IN_BANHEIRO_EI  \\\n",
       "count                     837.000000               837.000000      837.000000   \n",
       "mean                        0.702509                 0.768220        0.553166   \n",
       "std                         0.457428                 0.422222        0.497463   \n",
       "min                         0.000000                 0.000000        0.000000   \n",
       "25%                         0.000000                 1.000000        0.000000   \n",
       "50%                         1.000000                 1.000000        1.000000   \n",
       "75%                         1.000000                 1.000000        1.000000   \n",
       "max                         1.000000                 1.000000        1.000000   \n",
       "\n",
       "       IN_AUDITORIO  IN_ALOJAM_ALUNO  IN_ALOJAM_PROFESSOR  IN_LAVANDERIA  \\\n",
       "count    837.000000       837.000000           837.000000     837.000000   \n",
       "mean       0.793309         0.545998             0.541219       0.531661   \n",
       "std        0.405174         0.498177             0.498596       0.499295   \n",
       "min        0.000000         0.000000             0.000000       0.000000   \n",
       "25%        1.000000         0.000000             0.000000       0.000000   \n",
       "50%        1.000000         1.000000             1.000000       1.000000   \n",
       "75%        1.000000         1.000000             1.000000       1.000000   \n",
       "max        1.000000         1.000000             1.000000       1.000000   \n",
       "\n",
       "       IN_EQUIP_VIDEOCASSETE  IN_EQUIP_PARABOLICA  IN_EQUIP_RETROPROJETOR  \\\n",
       "count             837.000000           837.000000              837.000000   \n",
       "mean                0.284349             0.482676                0.524492   \n",
       "std                 0.451373             0.499999                0.499698   \n",
       "min                 0.000000             0.000000                0.000000   \n",
       "25%                 0.000000             0.000000                0.000000   \n",
       "50%                 0.000000             0.000000                1.000000   \n",
       "75%                 1.000000             1.000000                1.000000   \n",
       "max                 1.000000             1.000000                1.000000   \n",
       "\n",
       "       IN_EQUIP_IMPRESSORA  IN_EQUIP_FAX      IN_EJA  IN_COMUM_FUND_AF  \\\n",
       "count           837.000000    837.000000  837.000000        837.000000   \n",
       "mean              0.774194      0.360812    0.469534          0.704898   \n",
       "std               0.418362      0.480523    0.499369          0.456361   \n",
       "min               0.000000      0.000000    0.000000          0.000000   \n",
       "25%               1.000000      0.000000    0.000000          0.000000   \n",
       "50%               1.000000      0.000000    0.000000          1.000000   \n",
       "75%               1.000000      1.000000    1.000000          1.000000   \n",
       "max               1.000000      1.000000    1.000000          1.000000   \n",
       "\n",
       "       IN_COMUM_EJA_MEDIO  IN_COMUNIDADE_1KM  IN_COMUNIDADE_5KM  \\\n",
       "count          837.000000         837.000000         837.000000   \n",
       "mean             0.449223           0.767025           0.767025   \n",
       "std              0.497712           0.422979           0.422979   \n",
       "min              0.000000           0.000000           0.000000   \n",
       "25%              0.000000           1.000000           1.000000   \n",
       "50%              0.000000           1.000000           1.000000   \n",
       "75%              1.000000           1.000000           1.000000   \n",
       "max              1.000000           1.000000           1.000000   \n",
       "\n",
       "       IN_TIROTEIO_1KM  IN_TIROTEIO_5KM  \n",
       "count       837.000000       837.000000  \n",
       "mean          0.544803         0.544803  \n",
       "std           0.498286         0.498286  \n",
       "min           0.000000         0.000000  \n",
       "25%           0.000000         0.000000  \n",
       "50%           1.000000         1.000000  \n",
       "75%           1.000000         1.000000  \n",
       "max           1.000000         1.000000  "
      ]
     },
     "execution_count": 584,
     "metadata": {},
     "output_type": "execute_result"
    }
   ],
   "source": [
    "t = df_escolas[indicadoras].describe()\n",
    "t"
   ]
  },
  {
   "cell_type": "code",
   "execution_count": 585,
   "metadata": {},
   "outputs": [],
   "source": [
    "from sklearn.metrics import matthews_corrcoef\n",
    "\n",
    "corr_indicadoras = pd.DataFrame(index=indicadoras, columns=indicadoras)\n",
    "\n",
    "for i in indicadoras:\n",
    "    for j in indicadoras:\n",
    "        corr_indicadoras[i][j] = matthews_corrcoef(df_escolas[i], df_escolas[j])"
   ]
  },
  {
   "cell_type": "code",
   "execution_count": 586,
   "metadata": {
    "scrolled": true
   },
   "outputs": [],
   "source": [
    "# cf.colors.scales()"
   ]
  },
  {
   "cell_type": "code",
   "execution_count": 587,
   "metadata": {},
   "outputs": [
    {
     "data": {
      "application/vnd.plotly.v1+json": {
       "config": {
        "linkText": "Export to plot.ly",
        "plotlyServerURL": "https://plot.ly",
        "showLink": true
       },
       "data": [
        {
         "colorscale": [
          [
           0,
           "rgb(84,48,5)"
          ],
          [
           0.1,
           "rgb(140,81,10)"
          ],
          [
           0.2,
           "rgb(191,129,45)"
          ],
          [
           0.3,
           "rgb(223,194,125)"
          ],
          [
           0.4,
           "rgb(246,232,195)"
          ],
          [
           0.5,
           "rgb(245,245,245)"
          ],
          [
           0.6,
           "rgb(199,234,229)"
          ],
          [
           0.7,
           "rgb(128,205,193)"
          ],
          [
           0.8,
           "rgb(53,151,143)"
          ],
          [
           0.9,
           "rgb(1,102,94)"
          ],
          [
           1,
           "rgb(0,60,48)"
          ]
         ],
         "type": "heatmap",
         "uid": "4d1c444d-4b5d-4e80-b71e-281800a0eb34",
         "x": [
          "IN_AGUA_CACIMBA",
          "IN_LABORATORIO_CIENCIAS",
          "IN_QUADRA_ESPORTES_DESCOBERTA",
          "IN_BANHEIRO_FORA_PREDIO",
          "IN_BANHEIRO_EI",
          "IN_AUDITORIO",
          "IN_ALOJAM_ALUNO",
          "IN_ALOJAM_PROFESSOR",
          "IN_LAVANDERIA",
          "IN_EQUIP_VIDEOCASSETE",
          "IN_EQUIP_PARABOLICA",
          "IN_EQUIP_RETROPROJETOR",
          "IN_EQUIP_IMPRESSORA",
          "IN_EQUIP_FAX",
          "IN_EJA",
          "IN_COMUM_FUND_AF",
          "IN_COMUM_EJA_MEDIO",
          "IN_COMUNIDADE_1KM",
          "IN_COMUNIDADE_5KM",
          "IN_TIROTEIO_1KM",
          "IN_TIROTEIO_5KM"
         ],
         "y": [
          "IN_AGUA_CACIMBA",
          "IN_LABORATORIO_CIENCIAS",
          "IN_QUADRA_ESPORTES_DESCOBERTA",
          "IN_BANHEIRO_FORA_PREDIO",
          "IN_BANHEIRO_EI",
          "IN_AUDITORIO",
          "IN_ALOJAM_ALUNO",
          "IN_ALOJAM_PROFESSOR",
          "IN_LAVANDERIA",
          "IN_EQUIP_VIDEOCASSETE",
          "IN_EQUIP_PARABOLICA",
          "IN_EQUIP_RETROPROJETOR",
          "IN_EQUIP_IMPRESSORA",
          "IN_EQUIP_FAX",
          "IN_EJA",
          "IN_COMUM_FUND_AF",
          "IN_COMUM_EJA_MEDIO",
          "IN_COMUNIDADE_1KM",
          "IN_COMUNIDADE_5KM",
          "IN_TIROTEIO_1KM",
          "IN_TIROTEIO_5KM"
         ],
         "z": [
          [
           1,
           0.03585424295748951,
           -0.01962219587510619,
           0.0595248739943492,
           0.05831135650166572,
           0.05474598863570977,
           0.0463424260739404,
           0.057731266617682755,
           0.06466871963896097,
           0.003606663379020069,
           0.027499270103972673,
           0.036974933720976474,
           0.006896075638430968,
           0.03263607505897802,
           0.018087425016023936,
           0.10954474248531039,
           0.0020585003968423762,
           0.09232605302754802,
           0.09232605302754802,
           0.12705744056766166,
           0.12705744056766166
          ],
          [
           0.03585424295748951,
           1,
           0.45237734197860585,
           0.43958524230055734,
           0.5573442310169677,
           0.5350804755202214,
           0.5699893304286912,
           0.5748134376044776,
           0.5627122403606318,
           0.026749136437544667,
           -0.014982192866931258,
           0.017989432538140813,
           0.02759586293070417,
           0.02806093623079324,
           0.06794602549769832,
           0.0015449221258419757,
           0.07153656266532285,
           0.10772011586539858,
           0.10772011586539858,
           0.03661141588216452,
           0.03661141588216452
          ],
          [
           -0.01962219587510619,
           0.45237734197860585,
           1,
           0.3609944486760193,
           0.5821151173966331,
           0.3648716580502594,
           0.6034052201920461,
           0.6176364168441544,
           0.609544676677476,
           -0.01272891841530202,
           -0.046095318077450556,
           0.06069705711692484,
           0.054843596453871796,
           -0.0008582330444910053,
           0.04144233594595877,
           0.04881885816725947,
           0.036024959645897456,
           0.06793917188717567,
           0.06793917188717567,
           0.06117000920983319,
           0.06117000920983319
          ],
          [
           0.0595248739943492,
           0.43958524230055734,
           0.3609944486760193,
           1,
           0.5371183324250077,
           0.5027512669094968,
           0.5341259086354442,
           0.5340915254401325,
           0.511474630873287,
           0.01985682185750048,
           -0.02470881298298987,
           -0.007078416981703642,
           0.062256380488448934,
           -0.10613751068620797,
           0.05724077988511968,
           -0.007758019210188542,
           0.05777136734261009,
           0.09244929468820694,
           0.09244929468820694,
           0.09490218946749582,
           0.09490218946749582
          ],
          [
           0.05831135650166572,
           0.5573442310169677,
           0.5821151173966331,
           0.5371183324250077,
           1,
           0.49671325508160763,
           0.8408241133106306,
           0.841143705456641,
           0.8660940810843488,
           0.007172915748113642,
           -0.060013301195240405,
           0.015206371054315543,
           0.07212214984366831,
           -0.025301076510096707,
           0.022177384470292494,
           0.040212782825063235,
           0.009708570970549757,
           0.07883314777641205,
           0.07883314777641205,
           0.08568524664598239,
           0.08568524664598239
          ],
          [
           0.05474598863570977,
           0.5350804755202214,
           0.3648716580502594,
           0.5027512669094968,
           0.49671325508160763,
           1,
           0.512355705568383,
           0.5011090254047336,
           0.4906305946013144,
           0.027420437970835623,
           -0.07969322586313612,
           0.016171272737096648,
           0.006601403297597489,
           0.00872759130368419,
           0.0959473140077029,
           -0.03915467394161432,
           0.08728778338553402,
           0.13746655228060647,
           0.13746655228060647,
           0.13775683374349662,
           0.13775683374349662
          ],
          [
           0.0463424260739404,
           0.5699893304286912,
           0.6034052201920461,
           0.5341259086354442,
           0.8408241133106306,
           0.512355705568383,
           1,
           0.956704939221584,
           0.8513379602813895,
           -0.01567896394512106,
           -0.0748329671035692,
           0.020695769299462465,
           0.05850359357947397,
           -0.039431433074152,
           0.021266633947391044,
           0.0781917777077407,
           0.0034006170514675124,
           0.06510832384634631,
           0.06510832384634631,
           0.08685765156211336,
           0.08685765156211336
          ],
          [
           0.057731266617682755,
           0.5748134376044776,
           0.6176364168441544,
           0.5340915254401325,
           0.841143705456641,
           0.5011090254047336,
           0.956704939221584,
           1,
           0.8656464438255298,
           -0.009620464246611771,
           -0.07510262256396388,
           0.02594980429598611,
           0.059009417689885504,
           -0.037185337045747884,
           0.0062506532340139455,
           0.0771777311312794,
           -0.0072216832867925814,
           0.05976804525319334,
           0.05976804525319334,
           0.07320357594040575,
           0.07320357594040575
          ],
          [
           0.06466871963896097,
           0.5627122403606318,
           0.609544676677476,
           0.511474630873287,
           0.8660940810843488,
           0.4906305946013144,
           0.8513379602813895,
           0.8656464438255298,
           1,
           -0.008148509926555497,
           -0.07087008847688381,
           0.026852873617295183,
           0.042855868920402024,
           -0.01277089633240187,
           0.00987011806954809,
           0.05417709050937697,
           -0.004353398821314337,
           0.060455816278761954,
           0.060455816278761954,
           0.050784764444358,
           0.050784764444358
          ],
          [
           0.003606663379020069,
           0.026749136437544667,
           -0.01272891841530202,
           0.01985682185750048,
           0.007172915748113642,
           0.027420437970835623,
           -0.01567896394512106,
           -0.009620464246611771,
           -0.008148509926555497,
           1,
           0.14375653584937523,
           0.2342531889404672,
           0.023702898600790636,
           0.22129725730251357,
           0.0013314646629696157,
           0.001359814598136604,
           0.01110066908613622,
           0.021602778729398513,
           0.021602778729398513,
           0.04433882360121122,
           0.04433882360121122
          ],
          [
           0.027499270103972673,
           -0.014982192866931258,
           -0.046095318077450556,
           -0.02470881298298987,
           -0.060013301195240405,
           -0.07969322586313612,
           -0.0748329671035692,
           -0.07510262256396388,
           -0.07087008847688381,
           0.14375653584937523,
           1,
           0.14413108126675028,
           0.08706682888508446,
           0.15549169718085476,
           0.025430442799952567,
           0.0902766437022001,
           0.03611624403321685,
           -0.23120493188657912,
           -0.23120493188657912,
           -0.21173274954902419,
           -0.21173274954902419
          ],
          [
           0.036974933720976474,
           0.017989432538140813,
           0.06069705711692484,
           -0.007078416981703642,
           0.015206371054315543,
           0.016171272737096648,
           0.020695769299462465,
           0.02594980429598611,
           0.026852873617295183,
           0.2342531889404672,
           0.14413108126675028,
           1,
           0.012181913139151438,
           0.15245448371280856,
           0.01857314256232066,
           0.06058197675183328,
           0.013423156607748269,
           0.01853996178279633,
           0.01853996178279633,
           0.023210924642981575,
           0.023210924642981575
          ],
          [
           0.006896075638430968,
           0.02759586293070417,
           0.054843596453871796,
           0.062256380488448934,
           0.07212214984366831,
           0.006601403297597489,
           0.05850359357947397,
           0.059009417689885504,
           0.042855868920402024,
           0.023702898600790636,
           0.08706682888508446,
           0.012181913139151438,
           1,
           0.03090230486213495,
           0.02715031881152213,
           0.08286187063249195,
           0.028167257362744703,
           -0.10161234079433125,
           -0.10161234079433125,
           -0.09199343566689329,
           -0.09199343566689329
          ],
          [
           0.03263607505897802,
           0.02806093623079324,
           -0.0008582330444910053,
           -0.10613751068620797,
           -0.025301076510096707,
           0.00872759130368419,
           -0.039431433074152,
           -0.037185337045747884,
           -0.01277089633240187,
           0.22129725730251357,
           0.15549169718085476,
           0.15245448371280856,
           0.03090230486213495,
           1,
           -0.013954175021747926,
           -0.010251180432922637,
           0.0016731438587852447,
           -0.09205360784727329,
           -0.09205360784727329,
           -0.11255644290645611,
           -0.11255644290645611
          ],
          [
           0.018087425016023936,
           0.06794602549769832,
           0.04144233594595877,
           0.05724077988511968,
           0.022177384470292494,
           0.0959473140077029,
           0.021266633947391044,
           0.0062506532340139455,
           0.00987011806954809,
           0.0013314646629696157,
           0.025430442799952567,
           0.01857314256232066,
           0.02715031881152213,
           -0.013954175021747926,
           1,
           0.005117147270447018,
           0.9599280218969183,
           0.014492619382177609,
           0.014492619382177609,
           -0.01974573039517715,
           -0.01974573039517715
          ],
          [
           0.10954474248531039,
           0.0015449221258419757,
           0.04881885816725947,
           -0.007758019210188542,
           0.040212782825063235,
           -0.03915467394161432,
           0.0781917777077407,
           0.0771777311312794,
           0.05417709050937697,
           0.001359814598136604,
           0.0902766437022001,
           0.06058197675183328,
           0.08286187063249195,
           -0.010251180432922637,
           0.005117147270447018,
           1,
           -0.010752840283997459,
           -0.09632774078217951,
           -0.09632774078217951,
           -0.08118501749139641,
           -0.08118501749139641
          ],
          [
           0.0020585003968423762,
           0.07153656266532285,
           0.036024959645897456,
           0.05777136734261009,
           0.009708570970549757,
           0.08728778338553402,
           0.0034006170514675124,
           -0.0072216832867925814,
           -0.004353398821314337,
           0.01110066908613622,
           0.03611624403321685,
           0.013423156607748269,
           0.028167257362744703,
           0.0016731438587852447,
           0.9599280218969183,
           -0.010752840283997459,
           1,
           0.020446819476705513,
           0.020446819476705513,
           -0.018549477559845987,
           -0.018549477559845987
          ],
          [
           0.09232605302754802,
           0.10772011586539858,
           0.06793917188717567,
           0.09244929468820694,
           0.07883314777641205,
           0.13746655228060647,
           0.06510832384634631,
           0.05976804525319334,
           0.060455816278761954,
           0.021602778729398513,
           -0.23120493188657912,
           0.01853996178279633,
           -0.10161234079433125,
           -0.09205360784727329,
           0.014492619382177609,
           -0.09632774078217951,
           0.020446819476705513,
           1,
           1,
           0.5632061993413693,
           0.5632061993413693
          ],
          [
           0.09232605302754802,
           0.10772011586539858,
           0.06793917188717567,
           0.09244929468820694,
           0.07883314777641205,
           0.13746655228060647,
           0.06510832384634631,
           0.05976804525319334,
           0.060455816278761954,
           0.021602778729398513,
           -0.23120493188657912,
           0.01853996178279633,
           -0.10161234079433125,
           -0.09205360784727329,
           0.014492619382177609,
           -0.09632774078217951,
           0.020446819476705513,
           1,
           1,
           0.5632061993413693,
           0.5632061993413693
          ],
          [
           0.12705744056766166,
           0.03661141588216452,
           0.06117000920983319,
           0.09490218946749582,
           0.08568524664598239,
           0.13775683374349662,
           0.08685765156211336,
           0.07320357594040575,
           0.050784764444358,
           0.04433882360121122,
           -0.21173274954902419,
           0.023210924642981575,
           -0.09199343566689329,
           -0.11255644290645611,
           -0.01974573039517715,
           -0.08118501749139641,
           -0.018549477559845987,
           0.5632061993413693,
           0.5632061993413693,
           1,
           1
          ],
          [
           0.12705744056766166,
           0.03661141588216452,
           0.06117000920983319,
           0.09490218946749582,
           0.08568524664598239,
           0.13775683374349662,
           0.08685765156211336,
           0.07320357594040575,
           0.050784764444358,
           0.04433882360121122,
           -0.21173274954902419,
           0.023210924642981575,
           -0.09199343566689329,
           -0.11255644290645611,
           -0.01974573039517715,
           -0.08118501749139641,
           -0.018549477559845987,
           0.5632061993413693,
           0.5632061993413693,
           1,
           1
          ]
         ],
         "zmax": 1,
         "zmin": -1
        }
       ],
       "layout": {
        "legend": {
         "bgcolor": "#F5F6F9",
         "font": {
          "color": "#4D5663"
         }
        },
        "margin": {
         "b": 150,
         "l": 200,
         "r": 100
        },
        "paper_bgcolor": "#F5F6F9",
        "plot_bgcolor": "#F5F6F9",
        "title": {
         "font": {
          "color": "#4D5663"
         },
         "text": "Matriz de correlação - Indicadoras Escolas"
        },
        "xaxis": {
         "gridcolor": "#E1E5ED",
         "showgrid": true,
         "tickfont": {
          "color": "#4D5663"
         },
         "title": {
          "font": {
           "color": "#4D5663"
          },
          "text": ""
         },
         "zerolinecolor": "#E1E5ED"
        },
        "yaxis": {
         "gridcolor": "#E1E5ED",
         "showgrid": true,
         "tickfont": {
          "color": "#4D5663"
         },
         "title": {
          "font": {
           "color": "#4D5663"
          },
          "text": ""
         },
         "zerolinecolor": "#E1E5ED"
        }
       }
      },
      "text/html": [
       "<div>\n",
       "        \n",
       "        \n",
       "            <div id=\"d91ca7c4-40c8-470a-b152-714c64708189\" class=\"plotly-graph-div\" style=\"height:525px; width:100%;\"></div>\n",
       "            <script type=\"text/javascript\">\n",
       "                require([\"plotly\"], function(Plotly) {\n",
       "                    window.PLOTLYENV=window.PLOTLYENV || {};\n",
       "                    window.PLOTLYENV.BASE_URL='https://plot.ly';\n",
       "                    \n",
       "                if (document.getElementById(\"d91ca7c4-40c8-470a-b152-714c64708189\")) {\n",
       "                    Plotly.newPlot(\n",
       "                        'd91ca7c4-40c8-470a-b152-714c64708189',\n",
       "                        [{\"colorscale\": [[0.0, \"rgb(84,48,5)\"], [0.1, \"rgb(140,81,10)\"], [0.2, \"rgb(191,129,45)\"], [0.3, \"rgb(223,194,125)\"], [0.4, \"rgb(246,232,195)\"], [0.5, \"rgb(245,245,245)\"], [0.6, \"rgb(199,234,229)\"], [0.7, \"rgb(128,205,193)\"], [0.8, \"rgb(53,151,143)\"], [0.9, \"rgb(1,102,94)\"], [1.0, \"rgb(0,60,48)\"]], \"type\": \"heatmap\", \"uid\": \"4d1c444d-4b5d-4e80-b71e-281800a0eb34\", \"x\": [\"IN_AGUA_CACIMBA\", \"IN_LABORATORIO_CIENCIAS\", \"IN_QUADRA_ESPORTES_DESCOBERTA\", \"IN_BANHEIRO_FORA_PREDIO\", \"IN_BANHEIRO_EI\", \"IN_AUDITORIO\", \"IN_ALOJAM_ALUNO\", \"IN_ALOJAM_PROFESSOR\", \"IN_LAVANDERIA\", \"IN_EQUIP_VIDEOCASSETE\", \"IN_EQUIP_PARABOLICA\", \"IN_EQUIP_RETROPROJETOR\", \"IN_EQUIP_IMPRESSORA\", \"IN_EQUIP_FAX\", \"IN_EJA\", \"IN_COMUM_FUND_AF\", \"IN_COMUM_EJA_MEDIO\", \"IN_COMUNIDADE_1KM\", \"IN_COMUNIDADE_5KM\", \"IN_TIROTEIO_1KM\", \"IN_TIROTEIO_5KM\"], \"y\": [\"IN_AGUA_CACIMBA\", \"IN_LABORATORIO_CIENCIAS\", \"IN_QUADRA_ESPORTES_DESCOBERTA\", \"IN_BANHEIRO_FORA_PREDIO\", \"IN_BANHEIRO_EI\", \"IN_AUDITORIO\", \"IN_ALOJAM_ALUNO\", \"IN_ALOJAM_PROFESSOR\", \"IN_LAVANDERIA\", \"IN_EQUIP_VIDEOCASSETE\", \"IN_EQUIP_PARABOLICA\", \"IN_EQUIP_RETROPROJETOR\", \"IN_EQUIP_IMPRESSORA\", \"IN_EQUIP_FAX\", \"IN_EJA\", \"IN_COMUM_FUND_AF\", \"IN_COMUM_EJA_MEDIO\", \"IN_COMUNIDADE_1KM\", \"IN_COMUNIDADE_5KM\", \"IN_TIROTEIO_1KM\", \"IN_TIROTEIO_5KM\"], \"z\": [[1.0, 0.03585424295748951, -0.01962219587510619, 0.0595248739943492, 0.05831135650166572, 0.05474598863570977, 0.0463424260739404, 0.057731266617682755, 0.06466871963896097, 0.003606663379020069, 0.027499270103972673, 0.036974933720976474, 0.006896075638430968, 0.03263607505897802, 0.018087425016023936, 0.10954474248531039, 0.0020585003968423762, 0.09232605302754802, 0.09232605302754802, 0.12705744056766166, 0.12705744056766166], [0.03585424295748951, 1.0, 0.45237734197860585, 0.43958524230055734, 0.5573442310169677, 0.5350804755202214, 0.5699893304286912, 0.5748134376044776, 0.5627122403606318, 0.026749136437544667, -0.014982192866931258, 0.017989432538140813, 0.02759586293070417, 0.02806093623079324, 0.06794602549769832, 0.0015449221258419757, 0.07153656266532285, 0.10772011586539858, 0.10772011586539858, 0.03661141588216452, 0.03661141588216452], [-0.01962219587510619, 0.45237734197860585, 1.0, 0.3609944486760193, 0.5821151173966331, 0.3648716580502594, 0.6034052201920461, 0.6176364168441544, 0.609544676677476, -0.01272891841530202, -0.046095318077450556, 0.06069705711692484, 0.054843596453871796, -0.0008582330444910053, 0.04144233594595877, 0.04881885816725947, 0.036024959645897456, 0.06793917188717567, 0.06793917188717567, 0.06117000920983319, 0.06117000920983319], [0.0595248739943492, 0.43958524230055734, 0.3609944486760193, 1.0, 0.5371183324250077, 0.5027512669094968, 0.5341259086354442, 0.5340915254401325, 0.511474630873287, 0.01985682185750048, -0.02470881298298987, -0.007078416981703642, 0.062256380488448934, -0.10613751068620797, 0.05724077988511968, -0.007758019210188542, 0.05777136734261009, 0.09244929468820694, 0.09244929468820694, 0.09490218946749582, 0.09490218946749582], [0.05831135650166572, 0.5573442310169677, 0.5821151173966331, 0.5371183324250077, 1.0, 0.49671325508160763, 0.8408241133106306, 0.841143705456641, 0.8660940810843488, 0.007172915748113642, -0.060013301195240405, 0.015206371054315543, 0.07212214984366831, -0.025301076510096707, 0.022177384470292494, 0.040212782825063235, 0.009708570970549757, 0.07883314777641205, 0.07883314777641205, 0.08568524664598239, 0.08568524664598239], [0.05474598863570977, 0.5350804755202214, 0.3648716580502594, 0.5027512669094968, 0.49671325508160763, 1.0, 0.512355705568383, 0.5011090254047336, 0.4906305946013144, 0.027420437970835623, -0.07969322586313612, 0.016171272737096648, 0.006601403297597489, 0.00872759130368419, 0.0959473140077029, -0.03915467394161432, 0.08728778338553402, 0.13746655228060647, 0.13746655228060647, 0.13775683374349662, 0.13775683374349662], [0.0463424260739404, 0.5699893304286912, 0.6034052201920461, 0.5341259086354442, 0.8408241133106306, 0.512355705568383, 1.0, 0.956704939221584, 0.8513379602813895, -0.01567896394512106, -0.0748329671035692, 0.020695769299462465, 0.05850359357947397, -0.039431433074152, 0.021266633947391044, 0.0781917777077407, 0.0034006170514675124, 0.06510832384634631, 0.06510832384634631, 0.08685765156211336, 0.08685765156211336], [0.057731266617682755, 0.5748134376044776, 0.6176364168441544, 0.5340915254401325, 0.841143705456641, 0.5011090254047336, 0.956704939221584, 1.0, 0.8656464438255298, -0.009620464246611771, -0.07510262256396388, 0.02594980429598611, 0.059009417689885504, -0.037185337045747884, 0.0062506532340139455, 0.0771777311312794, -0.0072216832867925814, 0.05976804525319334, 0.05976804525319334, 0.07320357594040575, 0.07320357594040575], [0.06466871963896097, 0.5627122403606318, 0.609544676677476, 0.511474630873287, 0.8660940810843488, 0.4906305946013144, 0.8513379602813895, 0.8656464438255298, 1.0, -0.008148509926555497, -0.07087008847688381, 0.026852873617295183, 0.042855868920402024, -0.01277089633240187, 0.00987011806954809, 0.05417709050937697, -0.004353398821314337, 0.060455816278761954, 0.060455816278761954, 0.050784764444358, 0.050784764444358], [0.003606663379020069, 0.026749136437544667, -0.01272891841530202, 0.01985682185750048, 0.007172915748113642, 0.027420437970835623, -0.01567896394512106, -0.009620464246611771, -0.008148509926555497, 1.0, 0.14375653584937523, 0.2342531889404672, 0.023702898600790636, 0.22129725730251357, 0.0013314646629696157, 0.001359814598136604, 0.01110066908613622, 0.021602778729398513, 0.021602778729398513, 0.04433882360121122, 0.04433882360121122], [0.027499270103972673, -0.014982192866931258, -0.046095318077450556, -0.02470881298298987, -0.060013301195240405, -0.07969322586313612, -0.0748329671035692, -0.07510262256396388, -0.07087008847688381, 0.14375653584937523, 1.0, 0.14413108126675028, 0.08706682888508446, 0.15549169718085476, 0.025430442799952567, 0.0902766437022001, 0.03611624403321685, -0.23120493188657912, -0.23120493188657912, -0.21173274954902419, -0.21173274954902419], [0.036974933720976474, 0.017989432538140813, 0.06069705711692484, -0.007078416981703642, 0.015206371054315543, 0.016171272737096648, 0.020695769299462465, 0.02594980429598611, 0.026852873617295183, 0.2342531889404672, 0.14413108126675028, 1.0, 0.012181913139151438, 0.15245448371280856, 0.01857314256232066, 0.06058197675183328, 0.013423156607748269, 0.01853996178279633, 0.01853996178279633, 0.023210924642981575, 0.023210924642981575], [0.006896075638430968, 0.02759586293070417, 0.054843596453871796, 0.062256380488448934, 0.07212214984366831, 0.006601403297597489, 0.05850359357947397, 0.059009417689885504, 0.042855868920402024, 0.023702898600790636, 0.08706682888508446, 0.012181913139151438, 1.0, 0.03090230486213495, 0.02715031881152213, 0.08286187063249195, 0.028167257362744703, -0.10161234079433125, -0.10161234079433125, -0.09199343566689329, -0.09199343566689329], [0.03263607505897802, 0.02806093623079324, -0.0008582330444910053, -0.10613751068620797, -0.025301076510096707, 0.00872759130368419, -0.039431433074152, -0.037185337045747884, -0.01277089633240187, 0.22129725730251357, 0.15549169718085476, 0.15245448371280856, 0.03090230486213495, 1.0, -0.013954175021747926, -0.010251180432922637, 0.0016731438587852447, -0.09205360784727329, -0.09205360784727329, -0.11255644290645611, -0.11255644290645611], [0.018087425016023936, 0.06794602549769832, 0.04144233594595877, 0.05724077988511968, 0.022177384470292494, 0.0959473140077029, 0.021266633947391044, 0.0062506532340139455, 0.00987011806954809, 0.0013314646629696157, 0.025430442799952567, 0.01857314256232066, 0.02715031881152213, -0.013954175021747926, 1.0, 0.005117147270447018, 0.9599280218969183, 0.014492619382177609, 0.014492619382177609, -0.01974573039517715, -0.01974573039517715], [0.10954474248531039, 0.0015449221258419757, 0.04881885816725947, -0.007758019210188542, 0.040212782825063235, -0.03915467394161432, 0.0781917777077407, 0.0771777311312794, 0.05417709050937697, 0.001359814598136604, 0.0902766437022001, 0.06058197675183328, 0.08286187063249195, -0.010251180432922637, 0.005117147270447018, 1.0, -0.010752840283997459, -0.09632774078217951, -0.09632774078217951, -0.08118501749139641, -0.08118501749139641], [0.0020585003968423762, 0.07153656266532285, 0.036024959645897456, 0.05777136734261009, 0.009708570970549757, 0.08728778338553402, 0.0034006170514675124, -0.0072216832867925814, -0.004353398821314337, 0.01110066908613622, 0.03611624403321685, 0.013423156607748269, 0.028167257362744703, 0.0016731438587852447, 0.9599280218969183, -0.010752840283997459, 1.0, 0.020446819476705513, 0.020446819476705513, -0.018549477559845987, -0.018549477559845987], [0.09232605302754802, 0.10772011586539858, 0.06793917188717567, 0.09244929468820694, 0.07883314777641205, 0.13746655228060647, 0.06510832384634631, 0.05976804525319334, 0.060455816278761954, 0.021602778729398513, -0.23120493188657912, 0.01853996178279633, -0.10161234079433125, -0.09205360784727329, 0.014492619382177609, -0.09632774078217951, 0.020446819476705513, 1.0, 1.0, 0.5632061993413693, 0.5632061993413693], [0.09232605302754802, 0.10772011586539858, 0.06793917188717567, 0.09244929468820694, 0.07883314777641205, 0.13746655228060647, 0.06510832384634631, 0.05976804525319334, 0.060455816278761954, 0.021602778729398513, -0.23120493188657912, 0.01853996178279633, -0.10161234079433125, -0.09205360784727329, 0.014492619382177609, -0.09632774078217951, 0.020446819476705513, 1.0, 1.0, 0.5632061993413693, 0.5632061993413693], [0.12705744056766166, 0.03661141588216452, 0.06117000920983319, 0.09490218946749582, 0.08568524664598239, 0.13775683374349662, 0.08685765156211336, 0.07320357594040575, 0.050784764444358, 0.04433882360121122, -0.21173274954902419, 0.023210924642981575, -0.09199343566689329, -0.11255644290645611, -0.01974573039517715, -0.08118501749139641, -0.018549477559845987, 0.5632061993413693, 0.5632061993413693, 1.0, 1.0], [0.12705744056766166, 0.03661141588216452, 0.06117000920983319, 0.09490218946749582, 0.08568524664598239, 0.13775683374349662, 0.08685765156211336, 0.07320357594040575, 0.050784764444358, 0.04433882360121122, -0.21173274954902419, 0.023210924642981575, -0.09199343566689329, -0.11255644290645611, -0.01974573039517715, -0.08118501749139641, -0.018549477559845987, 0.5632061993413693, 0.5632061993413693, 1.0, 1.0]], \"zmax\": 1.0, \"zmin\": -1.0}],\n",
       "                        {\"legend\": {\"bgcolor\": \"#F5F6F9\", \"font\": {\"color\": \"#4D5663\"}}, \"margin\": {\"b\": 150, \"l\": 200, \"r\": 100}, \"paper_bgcolor\": \"#F5F6F9\", \"plot_bgcolor\": \"#F5F6F9\", \"title\": {\"font\": {\"color\": \"#4D5663\"}, \"text\": \"Matriz de correla\\u00e7\\u00e3o - Indicadoras Escolas\"}, \"xaxis\": {\"gridcolor\": \"#E1E5ED\", \"showgrid\": true, \"tickfont\": {\"color\": \"#4D5663\"}, \"title\": {\"font\": {\"color\": \"#4D5663\"}, \"text\": \"\"}, \"zerolinecolor\": \"#E1E5ED\"}, \"yaxis\": {\"gridcolor\": \"#E1E5ED\", \"showgrid\": true, \"tickfont\": {\"color\": \"#4D5663\"}, \"title\": {\"font\": {\"color\": \"#4D5663\"}, \"text\": \"\"}, \"zerolinecolor\": \"#E1E5ED\"}},\n",
       "                        {\"showLink\": true, \"linkText\": \"Export to plot.ly\", \"plotlyServerURL\": \"https://plot.ly\", \"responsive\": true}\n",
       "                    ).then(function(){\n",
       "                            \n",
       "var gd = document.getElementById('d91ca7c4-40c8-470a-b152-714c64708189');\n",
       "var x = new MutationObserver(function (mutations, observer) {{\n",
       "        var display = window.getComputedStyle(gd).display;\n",
       "        if (!display || display === 'none') {{\n",
       "            console.log([gd, 'removed!']);\n",
       "            Plotly.purge(gd);\n",
       "            observer.disconnect();\n",
       "        }}\n",
       "}});\n",
       "\n",
       "// Listen for the removal of the full notebook cells\n",
       "var notebookContainer = gd.closest('#notebook-container');\n",
       "if (notebookContainer) {{\n",
       "    x.observe(notebookContainer, {childList: true});\n",
       "}}\n",
       "\n",
       "// Listen for the clearing of the current output cell\n",
       "var outputEl = gd.closest('.output');\n",
       "if (outputEl) {{\n",
       "    x.observe(outputEl, {childList: true});\n",
       "}}\n",
       "\n",
       "                        })\n",
       "                };\n",
       "                });\n",
       "            </script>\n",
       "        </div>"
      ]
     },
     "metadata": {},
     "output_type": "display_data"
    }
   ],
   "source": [
    "# layout1 = cf.Layout(\n",
    "#     height=500,\n",
    "#     width=1000\n",
    "# )\n",
    "\n",
    "corr_indicadoras.iplot(kind='heatmap', margin=dict(l=200, b=150, r=100),\n",
    "                                               colorscale='brbg', center_scale=0,\n",
    "                                               title=\"Matriz de correlação - Indicadoras Escolas\")\n",
    "                      #layout=layout1)"
   ]
  },
  {
   "cell_type": "code",
   "execution_count": 588,
   "metadata": {},
   "outputs": [],
   "source": [
    "remove = ['IN_ALOJAM_PROFESSOR', 'IN_LAVANDERIA', 'IN_BANHEIRO_EI',\n",
    "          'IN_ESGOTO_FOSSA', 'IN_COMUM_EJA_MEDIO']"
   ]
  },
  {
   "cell_type": "code",
   "execution_count": 589,
   "metadata": {
    "scrolled": true
   },
   "outputs": [
    {
     "name": "stdout",
     "output_type": "stream",
     "text": [
      "<class 'pandas.core.frame.DataFrame'>\n",
      "Index: 172 entries, NU_ANO_CENSO to IN_TIROTEIO_5KM\n",
      "Data columns (total 3 columns):\n",
      "Tipo          172 non-null object\n",
      "Seleção       134 non-null object\n",
      "Tratamento    0 non-null object\n",
      "dtypes: object(3)\n",
      "memory usage: 10.4+ KB\n"
     ]
    }
   ],
   "source": [
    "filtro_escolas.loc[remove, 'Seleção'] = 'Removida - Alta correlação (> 80%)'\n",
    "filtro_escolas.info()"
   ]
  },
  {
   "cell_type": "code",
   "execution_count": 590,
   "metadata": {
    "scrolled": true
   },
   "outputs": [
    {
     "name": "stdout",
     "output_type": "stream",
     "text": [
      "<class 'pandas.core.frame.DataFrame'>\n",
      "Int64Index: 837 entries, 1 to 1096\n",
      "Data columns (total 38 columns):\n",
      "CO_ENTIDADE                      837 non-null int64\n",
      "NO_ENTIDADE                      837 non-null object\n",
      "CO_ORGAO_REGIONAL                837 non-null object\n",
      "CO_MESORREGIAO                   837 non-null int64\n",
      "CO_MICRORREGIAO                  837 non-null int64\n",
      "CO_MUNICIPIO                     837 non-null int64\n",
      "CO_DISTRITO                      837 non-null int64\n",
      "IN_AGUA_CACIMBA                  837 non-null float64\n",
      "IN_LABORATORIO_CIENCIAS          837 non-null float64\n",
      "IN_QUADRA_ESPORTES_DESCOBERTA    837 non-null float64\n",
      "IN_BANHEIRO_FORA_PREDIO          837 non-null float64\n",
      "IN_AUDITORIO                     837 non-null float64\n",
      "IN_ALOJAM_ALUNO                  837 non-null float64\n",
      "IN_EQUIP_VIDEOCASSETE            837 non-null float64\n",
      "IN_EQUIP_PARABOLICA              837 non-null float64\n",
      "IN_EQUIP_RETROPROJETOR           837 non-null float64\n",
      "IN_EQUIP_IMPRESSORA              837 non-null float64\n",
      "IN_EQUIP_FAX                     837 non-null float64\n",
      "NU_EQUIP_TV                      837 non-null float64\n",
      "NU_EQUIP_VIDEOCASSETE            837 non-null float64\n",
      "NU_EQUIP_DVD                     837 non-null float64\n",
      "NU_EQUIP_PARABOLICA              837 non-null float64\n",
      "NU_EQUIP_COPIADORA               837 non-null float64\n",
      "NU_EQUIP_RETROPROJETOR           837 non-null float64\n",
      "NU_EQUIP_IMPRESSORA              837 non-null float64\n",
      "NU_EQUIP_SOM                     837 non-null float64\n",
      "NU_EQUIP_MULTIMIDIA              837 non-null float64\n",
      "NU_EQUIP_FAX                     837 non-null float64\n",
      "NU_EQUIP_FOTO                    837 non-null float64\n",
      "NU_COMP_ALUNO                    837 non-null float64\n",
      "NU_FUNCIONARIOS                  837 non-null float64\n",
      "IN_EJA                           837 non-null float64\n",
      "IN_COMUM_FUND_AF                 837 non-null float64\n",
      "INSE_VALOR_ABSOLUTO              837 non-null float64\n",
      "IN_COMUNIDADE_1KM                837 non-null float64\n",
      "IN_COMUNIDADE_5KM                837 non-null float64\n",
      "IN_TIROTEIO_1KM                  837 non-null float64\n",
      "IN_TIROTEIO_5KM                  837 non-null float64\n",
      "dtypes: float64(31), int64(5), object(2)\n",
      "memory usage: 255.0+ KB\n"
     ]
    }
   ],
   "source": [
    "keep = df_escolas.columns[df_escolas.columns.isin(remove) == False]\n",
    "df_escolas = df_escolas[keep]\n",
    "df_escolas.info()"
   ]
  },
  {
   "cell_type": "code",
   "execution_count": 591,
   "metadata": {},
   "outputs": [
    {
     "name": "stdout",
     "output_type": "stream",
     "text": [
      "Tipos de dado:\n",
      "IN    18\n",
      "NU    13\n",
      "CO     6\n",
      "NO     1\n",
      "dtype: int64\n"
     ]
    }
   ],
   "source": [
    "print('Tipos de dado:')\n",
    "print(pd.Series([i[:2] for i in df_escolas.columns]).value_counts())"
   ]
  },
  {
   "cell_type": "markdown",
   "metadata": {},
   "source": [
    "#### Duplicadas: Indicadora e numérica"
   ]
  },
  {
   "cell_type": "code",
   "execution_count": 592,
   "metadata": {
    "scrolled": true
   },
   "outputs": [
    {
     "name": "stdout",
     "output_type": "stream",
     "text": [
      "<class 'pandas.core.frame.DataFrame'>\n",
      "Int64Index: 837 entries, 1 to 1096\n",
      "Data columns (total 12 columns):\n",
      "CO_ENTIDADE               837 non-null int64\n",
      "NO_ENTIDADE               837 non-null object\n",
      "IN_EQUIP_VIDEOCASSETE     837 non-null float64\n",
      "IN_EQUIP_PARABOLICA       837 non-null float64\n",
      "IN_EQUIP_RETROPROJETOR    837 non-null float64\n",
      "IN_EQUIP_IMPRESSORA       837 non-null float64\n",
      "IN_EQUIP_FAX              837 non-null float64\n",
      "NU_EQUIP_VIDEOCASSETE     837 non-null float64\n",
      "NU_EQUIP_PARABOLICA       837 non-null float64\n",
      "NU_EQUIP_RETROPROJETOR    837 non-null float64\n",
      "NU_EQUIP_IMPRESSORA       837 non-null float64\n",
      "NU_EQUIP_FAX              837 non-null float64\n",
      "dtypes: float64(10), int64(1), object(1)\n",
      "memory usage: 85.0+ KB\n"
     ]
    }
   ],
   "source": [
    "v = pd.Series([x[2:] for x in df_escolas.columns]).value_counts() \n",
    "duplicadas = df_escolas[[i for i in df_escolas.columns if i[2:] in v[v > 1]]]\n",
    "duplicadas.info()"
   ]
  },
  {
   "cell_type": "code",
   "execution_count": 593,
   "metadata": {
    "scrolled": true
   },
   "outputs": [
    {
     "data": {
      "text/html": [
       "<div>\n",
       "<style scoped>\n",
       "    .dataframe tbody tr th:only-of-type {\n",
       "        vertical-align: middle;\n",
       "    }\n",
       "\n",
       "    .dataframe tbody tr th {\n",
       "        vertical-align: top;\n",
       "    }\n",
       "\n",
       "    .dataframe thead th {\n",
       "        text-align: right;\n",
       "    }\n",
       "</style>\n",
       "<table border=\"1\" class=\"dataframe\">\n",
       "  <thead>\n",
       "    <tr style=\"text-align: right;\">\n",
       "      <th></th>\n",
       "      <th>NU_EQUIP_VIDEOCASSETE</th>\n",
       "      <th>NU_EQUIP_PARABOLICA</th>\n",
       "      <th>NU_EQUIP_RETROPROJETOR</th>\n",
       "      <th>NU_EQUIP_IMPRESSORA</th>\n",
       "      <th>NU_EQUIP_FAX</th>\n",
       "    </tr>\n",
       "  </thead>\n",
       "  <tbody>\n",
       "    <tr>\n",
       "      <th>count</th>\n",
       "      <td>837.000000</td>\n",
       "      <td>837.000000</td>\n",
       "      <td>837.000000</td>\n",
       "      <td>837.000000</td>\n",
       "      <td>837.000000</td>\n",
       "    </tr>\n",
       "    <tr>\n",
       "      <th>mean</th>\n",
       "      <td>0.476703</td>\n",
       "      <td>0.575866</td>\n",
       "      <td>0.667861</td>\n",
       "      <td>2.109916</td>\n",
       "      <td>0.399044</td>\n",
       "    </tr>\n",
       "    <tr>\n",
       "      <th>std</th>\n",
       "      <td>0.990865</td>\n",
       "      <td>0.754914</td>\n",
       "      <td>0.876095</td>\n",
       "      <td>2.141492</td>\n",
       "      <td>0.575329</td>\n",
       "    </tr>\n",
       "    <tr>\n",
       "      <th>min</th>\n",
       "      <td>0.000000</td>\n",
       "      <td>0.000000</td>\n",
       "      <td>0.000000</td>\n",
       "      <td>0.000000</td>\n",
       "      <td>0.000000</td>\n",
       "    </tr>\n",
       "    <tr>\n",
       "      <th>25%</th>\n",
       "      <td>0.000000</td>\n",
       "      <td>0.000000</td>\n",
       "      <td>0.000000</td>\n",
       "      <td>1.000000</td>\n",
       "      <td>0.000000</td>\n",
       "    </tr>\n",
       "    <tr>\n",
       "      <th>50%</th>\n",
       "      <td>0.000000</td>\n",
       "      <td>0.000000</td>\n",
       "      <td>1.000000</td>\n",
       "      <td>2.000000</td>\n",
       "      <td>0.000000</td>\n",
       "    </tr>\n",
       "    <tr>\n",
       "      <th>75%</th>\n",
       "      <td>1.000000</td>\n",
       "      <td>1.000000</td>\n",
       "      <td>1.000000</td>\n",
       "      <td>3.000000</td>\n",
       "      <td>1.000000</td>\n",
       "    </tr>\n",
       "    <tr>\n",
       "      <th>max</th>\n",
       "      <td>9.000000</td>\n",
       "      <td>11.000000</td>\n",
       "      <td>10.000000</td>\n",
       "      <td>26.000000</td>\n",
       "      <td>4.000000</td>\n",
       "    </tr>\n",
       "  </tbody>\n",
       "</table>\n",
       "</div>"
      ],
      "text/plain": [
       "       NU_EQUIP_VIDEOCASSETE  NU_EQUIP_PARABOLICA  NU_EQUIP_RETROPROJETOR  \\\n",
       "count             837.000000           837.000000              837.000000   \n",
       "mean                0.476703             0.575866                0.667861   \n",
       "std                 0.990865             0.754914                0.876095   \n",
       "min                 0.000000             0.000000                0.000000   \n",
       "25%                 0.000000             0.000000                0.000000   \n",
       "50%                 0.000000             0.000000                1.000000   \n",
       "75%                 1.000000             1.000000                1.000000   \n",
       "max                 9.000000            11.000000               10.000000   \n",
       "\n",
       "       NU_EQUIP_IMPRESSORA  NU_EQUIP_FAX  \n",
       "count           837.000000    837.000000  \n",
       "mean              2.109916      0.399044  \n",
       "std               2.141492      0.575329  \n",
       "min               0.000000      0.000000  \n",
       "25%               1.000000      0.000000  \n",
       "50%               2.000000      0.000000  \n",
       "75%               3.000000      1.000000  \n",
       "max              26.000000      4.000000  "
      ]
     },
     "execution_count": 593,
     "metadata": {},
     "output_type": "execute_result"
    }
   ],
   "source": [
    "remove = [i for i in duplicadas.columns if i.startswith('NU')]\n",
    "duplicadas[remove].describe()"
   ]
  },
  {
   "cell_type": "code",
   "execution_count": 594,
   "metadata": {},
   "outputs": [
    {
     "name": "stdout",
     "output_type": "stream",
     "text": [
      "<class 'pandas.core.frame.DataFrame'>\n",
      "Index: 172 entries, NU_ANO_CENSO to IN_TIROTEIO_5KM\n",
      "Data columns (total 3 columns):\n",
      "Tipo          172 non-null object\n",
      "Seleção       139 non-null object\n",
      "Tratamento    0 non-null object\n",
      "dtypes: object(3)\n",
      "memory usage: 10.4+ KB\n"
     ]
    }
   ],
   "source": [
    "filtro_escolas.loc[remove, 'Seleção'] = 'Removida - Informação duplicada'\n",
    "filtro_escolas.info()"
   ]
  },
  {
   "cell_type": "code",
   "execution_count": 595,
   "metadata": {},
   "outputs": [
    {
     "name": "stdout",
     "output_type": "stream",
     "text": [
      "<class 'pandas.core.frame.DataFrame'>\n",
      "Int64Index: 837 entries, 1 to 1096\n",
      "Data columns (total 33 columns):\n",
      "CO_ENTIDADE                      837 non-null int64\n",
      "NO_ENTIDADE                      837 non-null object\n",
      "CO_ORGAO_REGIONAL                837 non-null object\n",
      "CO_MESORREGIAO                   837 non-null int64\n",
      "CO_MICRORREGIAO                  837 non-null int64\n",
      "CO_MUNICIPIO                     837 non-null int64\n",
      "CO_DISTRITO                      837 non-null int64\n",
      "IN_AGUA_CACIMBA                  837 non-null float64\n",
      "IN_LABORATORIO_CIENCIAS          837 non-null float64\n",
      "IN_QUADRA_ESPORTES_DESCOBERTA    837 non-null float64\n",
      "IN_BANHEIRO_FORA_PREDIO          837 non-null float64\n",
      "IN_AUDITORIO                     837 non-null float64\n",
      "IN_ALOJAM_ALUNO                  837 non-null float64\n",
      "IN_EQUIP_VIDEOCASSETE            837 non-null float64\n",
      "IN_EQUIP_PARABOLICA              837 non-null float64\n",
      "IN_EQUIP_RETROPROJETOR           837 non-null float64\n",
      "IN_EQUIP_IMPRESSORA              837 non-null float64\n",
      "IN_EQUIP_FAX                     837 non-null float64\n",
      "NU_EQUIP_TV                      837 non-null float64\n",
      "NU_EQUIP_DVD                     837 non-null float64\n",
      "NU_EQUIP_COPIADORA               837 non-null float64\n",
      "NU_EQUIP_SOM                     837 non-null float64\n",
      "NU_EQUIP_MULTIMIDIA              837 non-null float64\n",
      "NU_EQUIP_FOTO                    837 non-null float64\n",
      "NU_COMP_ALUNO                    837 non-null float64\n",
      "NU_FUNCIONARIOS                  837 non-null float64\n",
      "IN_EJA                           837 non-null float64\n",
      "IN_COMUM_FUND_AF                 837 non-null float64\n",
      "INSE_VALOR_ABSOLUTO              837 non-null float64\n",
      "IN_COMUNIDADE_1KM                837 non-null float64\n",
      "IN_COMUNIDADE_5KM                837 non-null float64\n",
      "IN_TIROTEIO_1KM                  837 non-null float64\n",
      "IN_TIROTEIO_5KM                  837 non-null float64\n",
      "dtypes: float64(26), int64(5), object(2)\n",
      "memory usage: 222.3+ KB\n"
     ]
    }
   ],
   "source": [
    "keep = df_escolas.columns[df_escolas.columns.isin(remove) == False]\n",
    "df_escolas = df_escolas[keep]\n",
    "df_escolas.info()"
   ]
  },
  {
   "cell_type": "code",
   "execution_count": 596,
   "metadata": {},
   "outputs": [
    {
     "name": "stdout",
     "output_type": "stream",
     "text": [
      "Tipos de dado:\n",
      "IN    18\n",
      "NU     8\n",
      "CO     6\n",
      "NO     1\n",
      "dtype: int64\n"
     ]
    }
   ],
   "source": [
    "print('Tipos de dado:')\n",
    "print(pd.Series([i[:2] for i in df_escolas.columns]).value_counts())"
   ]
  },
  {
   "cell_type": "markdown",
   "metadata": {},
   "source": [
    "### Distribuição das variáveis de códigos (4/6)\n",
    "\n",
    "- Já temos essas infos na tabela de alunos!"
   ]
  },
  {
   "cell_type": "code",
   "execution_count": 597,
   "metadata": {},
   "outputs": [
    {
     "data": {
      "text/plain": [
       "['CO_ENTIDADE',\n",
       " 'CO_ORGAO_REGIONAL',\n",
       " 'CO_MESORREGIAO',\n",
       " 'CO_MICRORREGIAO',\n",
       " 'CO_MUNICIPIO',\n",
       " 'CO_DISTRITO']"
      ]
     },
     "execution_count": 597,
     "metadata": {},
     "output_type": "execute_result"
    }
   ],
   "source": [
    "codigos = [i for i in df_escolas.columns if i.startswith('CO')]\n",
    "codigos"
   ]
  },
  {
   "cell_type": "markdown",
   "metadata": {},
   "source": [
    "* Código regional: dummies"
   ]
  },
  {
   "cell_type": "code",
   "execution_count": 598,
   "metadata": {},
   "outputs": [
    {
     "data": {
      "text/plain": [
       "11010    83\n",
       "11012    76\n",
       "11004    74\n",
       "11002    73\n",
       "11008    68\n",
       "11001    68\n",
       "11003    67\n",
       "11005    62\n",
       "11014    61\n",
       "11013    58\n",
       "11011    47\n",
       "11007    30\n",
       "11009    29\n",
       "11006    25\n",
       "1115T    15\n",
       "1120M     1\n",
       "Name: CO_ORGAO_REGIONAL, dtype: int64"
      ]
     },
     "execution_count": 598,
     "metadata": {},
     "output_type": "execute_result"
    }
   ],
   "source": [
    "df_escolas['CO_ORGAO_REGIONAL'].value_counts() "
   ]
  },
  {
   "cell_type": "code",
   "execution_count": 599,
   "metadata": {},
   "outputs": [
    {
     "data": {
      "text/html": [
       "<div>\n",
       "<style scoped>\n",
       "    .dataframe tbody tr th:only-of-type {\n",
       "        vertical-align: middle;\n",
       "    }\n",
       "\n",
       "    .dataframe tbody tr th {\n",
       "        vertical-align: top;\n",
       "    }\n",
       "\n",
       "    .dataframe thead th {\n",
       "        text-align: right;\n",
       "    }\n",
       "</style>\n",
       "<table border=\"1\" class=\"dataframe\">\n",
       "  <thead>\n",
       "    <tr style=\"text-align: right;\">\n",
       "      <th></th>\n",
       "      <th>IN_ORGAO_REGIONAL11001</th>\n",
       "      <th>IN_ORGAO_REGIONAL11002</th>\n",
       "      <th>IN_ORGAO_REGIONAL11003</th>\n",
       "      <th>IN_ORGAO_REGIONAL11004</th>\n",
       "      <th>IN_ORGAO_REGIONAL11005</th>\n",
       "      <th>IN_ORGAO_REGIONAL11006</th>\n",
       "      <th>IN_ORGAO_REGIONAL11007</th>\n",
       "      <th>IN_ORGAO_REGIONAL11008</th>\n",
       "      <th>IN_ORGAO_REGIONAL11009</th>\n",
       "      <th>IN_ORGAO_REGIONAL11010</th>\n",
       "      <th>IN_ORGAO_REGIONAL11011</th>\n",
       "      <th>IN_ORGAO_REGIONAL11012</th>\n",
       "      <th>IN_ORGAO_REGIONAL11013</th>\n",
       "      <th>IN_ORGAO_REGIONAL11014</th>\n",
       "      <th>IN_ORGAO_REGIONAL1115T</th>\n",
       "      <th>IN_ORGAO_REGIONAL1120M</th>\n",
       "    </tr>\n",
       "  </thead>\n",
       "  <tbody>\n",
       "    <tr>\n",
       "      <th>1</th>\n",
       "      <td>0</td>\n",
       "      <td>0</td>\n",
       "      <td>0</td>\n",
       "      <td>0</td>\n",
       "      <td>0</td>\n",
       "      <td>0</td>\n",
       "      <td>0</td>\n",
       "      <td>0</td>\n",
       "      <td>1</td>\n",
       "      <td>0</td>\n",
       "      <td>0</td>\n",
       "      <td>0</td>\n",
       "      <td>0</td>\n",
       "      <td>0</td>\n",
       "      <td>0</td>\n",
       "      <td>0</td>\n",
       "    </tr>\n",
       "    <tr>\n",
       "      <th>3</th>\n",
       "      <td>0</td>\n",
       "      <td>0</td>\n",
       "      <td>0</td>\n",
       "      <td>0</td>\n",
       "      <td>0</td>\n",
       "      <td>0</td>\n",
       "      <td>1</td>\n",
       "      <td>0</td>\n",
       "      <td>0</td>\n",
       "      <td>0</td>\n",
       "      <td>0</td>\n",
       "      <td>0</td>\n",
       "      <td>0</td>\n",
       "      <td>0</td>\n",
       "      <td>0</td>\n",
       "      <td>0</td>\n",
       "    </tr>\n",
       "    <tr>\n",
       "      <th>5</th>\n",
       "      <td>0</td>\n",
       "      <td>0</td>\n",
       "      <td>1</td>\n",
       "      <td>0</td>\n",
       "      <td>0</td>\n",
       "      <td>0</td>\n",
       "      <td>0</td>\n",
       "      <td>0</td>\n",
       "      <td>0</td>\n",
       "      <td>0</td>\n",
       "      <td>0</td>\n",
       "      <td>0</td>\n",
       "      <td>0</td>\n",
       "      <td>0</td>\n",
       "      <td>0</td>\n",
       "      <td>0</td>\n",
       "    </tr>\n",
       "    <tr>\n",
       "      <th>8</th>\n",
       "      <td>0</td>\n",
       "      <td>0</td>\n",
       "      <td>0</td>\n",
       "      <td>0</td>\n",
       "      <td>0</td>\n",
       "      <td>0</td>\n",
       "      <td>0</td>\n",
       "      <td>0</td>\n",
       "      <td>0</td>\n",
       "      <td>0</td>\n",
       "      <td>0</td>\n",
       "      <td>0</td>\n",
       "      <td>0</td>\n",
       "      <td>1</td>\n",
       "      <td>0</td>\n",
       "      <td>0</td>\n",
       "    </tr>\n",
       "    <tr>\n",
       "      <th>9</th>\n",
       "      <td>0</td>\n",
       "      <td>0</td>\n",
       "      <td>0</td>\n",
       "      <td>0</td>\n",
       "      <td>0</td>\n",
       "      <td>0</td>\n",
       "      <td>1</td>\n",
       "      <td>0</td>\n",
       "      <td>0</td>\n",
       "      <td>0</td>\n",
       "      <td>0</td>\n",
       "      <td>0</td>\n",
       "      <td>0</td>\n",
       "      <td>0</td>\n",
       "      <td>0</td>\n",
       "      <td>0</td>\n",
       "    </tr>\n",
       "  </tbody>\n",
       "</table>\n",
       "</div>"
      ],
      "text/plain": [
       "   IN_ORGAO_REGIONAL11001  IN_ORGAO_REGIONAL11002  IN_ORGAO_REGIONAL11003  \\\n",
       "1                       0                       0                       0   \n",
       "3                       0                       0                       0   \n",
       "5                       0                       0                       1   \n",
       "8                       0                       0                       0   \n",
       "9                       0                       0                       0   \n",
       "\n",
       "   IN_ORGAO_REGIONAL11004  IN_ORGAO_REGIONAL11005  IN_ORGAO_REGIONAL11006  \\\n",
       "1                       0                       0                       0   \n",
       "3                       0                       0                       0   \n",
       "5                       0                       0                       0   \n",
       "8                       0                       0                       0   \n",
       "9                       0                       0                       0   \n",
       "\n",
       "   IN_ORGAO_REGIONAL11007  IN_ORGAO_REGIONAL11008  IN_ORGAO_REGIONAL11009  \\\n",
       "1                       0                       0                       1   \n",
       "3                       1                       0                       0   \n",
       "5                       0                       0                       0   \n",
       "8                       0                       0                       0   \n",
       "9                       1                       0                       0   \n",
       "\n",
       "   IN_ORGAO_REGIONAL11010  IN_ORGAO_REGIONAL11011  IN_ORGAO_REGIONAL11012  \\\n",
       "1                       0                       0                       0   \n",
       "3                       0                       0                       0   \n",
       "5                       0                       0                       0   \n",
       "8                       0                       0                       0   \n",
       "9                       0                       0                       0   \n",
       "\n",
       "   IN_ORGAO_REGIONAL11013  IN_ORGAO_REGIONAL11014  IN_ORGAO_REGIONAL1115T  \\\n",
       "1                       0                       0                       0   \n",
       "3                       0                       0                       0   \n",
       "5                       0                       0                       0   \n",
       "8                       0                       1                       0   \n",
       "9                       0                       0                       0   \n",
       "\n",
       "   IN_ORGAO_REGIONAL1120M  \n",
       "1                       0  \n",
       "3                       0  \n",
       "5                       0  \n",
       "8                       0  \n",
       "9                       0  "
      ]
     },
     "execution_count": 599,
     "metadata": {},
     "output_type": "execute_result"
    }
   ],
   "source": [
    "orgao_reg_dummies = pd.get_dummies(df_escolas['CO_ORGAO_REGIONAL'])\n",
    "\n",
    "orgao_reg_dummies.columns = orgao_reg_dummies.columns.map(lambda x: 'IN_ORGAO_REGIONAL' + str(x))\n",
    "orgao_reg_dummies.head()"
   ]
  },
  {
   "cell_type": "code",
   "execution_count": 600,
   "metadata": {
    "scrolled": true
   },
   "outputs": [
    {
     "name": "stdout",
     "output_type": "stream",
     "text": [
      "<class 'pandas.core.frame.DataFrame'>\n",
      "Int64Index: 837 entries, 1 to 1096\n",
      "Data columns (total 28 columns):\n",
      "CO_ENTIDADE                      837 non-null int64\n",
      "NO_ENTIDADE                      837 non-null object\n",
      "IN_AGUA_CACIMBA                  837 non-null float64\n",
      "IN_LABORATORIO_CIENCIAS          837 non-null float64\n",
      "IN_QUADRA_ESPORTES_DESCOBERTA    837 non-null float64\n",
      "IN_BANHEIRO_FORA_PREDIO          837 non-null float64\n",
      "IN_AUDITORIO                     837 non-null float64\n",
      "IN_ALOJAM_ALUNO                  837 non-null float64\n",
      "IN_EQUIP_VIDEOCASSETE            837 non-null float64\n",
      "IN_EQUIP_PARABOLICA              837 non-null float64\n",
      "IN_EQUIP_RETROPROJETOR           837 non-null float64\n",
      "IN_EQUIP_IMPRESSORA              837 non-null float64\n",
      "IN_EQUIP_FAX                     837 non-null float64\n",
      "NU_EQUIP_TV                      837 non-null float64\n",
      "NU_EQUIP_DVD                     837 non-null float64\n",
      "NU_EQUIP_COPIADORA               837 non-null float64\n",
      "NU_EQUIP_SOM                     837 non-null float64\n",
      "NU_EQUIP_MULTIMIDIA              837 non-null float64\n",
      "NU_EQUIP_FOTO                    837 non-null float64\n",
      "NU_COMP_ALUNO                    837 non-null float64\n",
      "NU_FUNCIONARIOS                  837 non-null float64\n",
      "IN_EJA                           837 non-null float64\n",
      "IN_COMUM_FUND_AF                 837 non-null float64\n",
      "INSE_VALOR_ABSOLUTO              837 non-null float64\n",
      "IN_COMUNIDADE_1KM                837 non-null float64\n",
      "IN_COMUNIDADE_5KM                837 non-null float64\n",
      "IN_TIROTEIO_1KM                  837 non-null float64\n",
      "IN_TIROTEIO_5KM                  837 non-null float64\n",
      "dtypes: float64(26), int64(1), object(1)\n",
      "memory usage: 189.6+ KB\n"
     ]
    }
   ],
   "source": [
    "codigos.remove('CO_ENTIDADE')\n",
    "keep = df_escolas.columns[df_escolas.columns.isin(codigos) == False]\n",
    "\n",
    "df_escolas = df_escolas[keep]\n",
    "df_escolas.info()"
   ]
  },
  {
   "cell_type": "code",
   "execution_count": 601,
   "metadata": {},
   "outputs": [
    {
     "name": "stdout",
     "output_type": "stream",
     "text": [
      "<class 'pandas.core.frame.DataFrame'>\n",
      "Index: 172 entries, NU_ANO_CENSO to IN_TIROTEIO_5KM\n",
      "Data columns (total 3 columns):\n",
      "Tipo          172 non-null object\n",
      "Seleção       143 non-null object\n",
      "Tratamento    1 non-null object\n",
      "dtypes: object(3)\n",
      "memory usage: 10.4+ KB\n"
     ]
    }
   ],
   "source": [
    "codigos.remove('CO_ORGAO_REGIONAL')\n",
    "filtro_escolas.loc[codigos, 'Seleção'] = 'Removida - Informação duplicada'\n",
    "filtro_escolas.loc['CO_ORGAO_REGIONAL', 'Tratamento'] = 'Categorização binária'\n",
    "\n",
    "filtro_escolas.info()"
   ]
  },
  {
   "cell_type": "code",
   "execution_count": 602,
   "metadata": {},
   "outputs": [],
   "source": [
    "filtro_escolas.loc['NO_ENTIDADE', 'Seleção'] = 'Removida - Informação duplicada'\n",
    "del df_escolas['NO_ENTIDADE']"
   ]
  },
  {
   "cell_type": "code",
   "execution_count": 603,
   "metadata": {
    "scrolled": true
   },
   "outputs": [
    {
     "name": "stdout",
     "output_type": "stream",
     "text": [
      "<class 'pandas.core.frame.DataFrame'>\n",
      "Int64Index: 837 entries, 1 to 1096\n",
      "Data columns (total 27 columns):\n",
      "CO_ENTIDADE                      837 non-null int64\n",
      "IN_AGUA_CACIMBA                  837 non-null float64\n",
      "IN_LABORATORIO_CIENCIAS          837 non-null float64\n",
      "IN_QUADRA_ESPORTES_DESCOBERTA    837 non-null float64\n",
      "IN_BANHEIRO_FORA_PREDIO          837 non-null float64\n",
      "IN_AUDITORIO                     837 non-null float64\n",
      "IN_ALOJAM_ALUNO                  837 non-null float64\n",
      "IN_EQUIP_VIDEOCASSETE            837 non-null float64\n",
      "IN_EQUIP_PARABOLICA              837 non-null float64\n",
      "IN_EQUIP_RETROPROJETOR           837 non-null float64\n",
      "IN_EQUIP_IMPRESSORA              837 non-null float64\n",
      "IN_EQUIP_FAX                     837 non-null float64\n",
      "NU_EQUIP_TV                      837 non-null float64\n",
      "NU_EQUIP_DVD                     837 non-null float64\n",
      "NU_EQUIP_COPIADORA               837 non-null float64\n",
      "NU_EQUIP_SOM                     837 non-null float64\n",
      "NU_EQUIP_MULTIMIDIA              837 non-null float64\n",
      "NU_EQUIP_FOTO                    837 non-null float64\n",
      "NU_COMP_ALUNO                    837 non-null float64\n",
      "NU_FUNCIONARIOS                  837 non-null float64\n",
      "IN_EJA                           837 non-null float64\n",
      "IN_COMUM_FUND_AF                 837 non-null float64\n",
      "INSE_VALOR_ABSOLUTO              837 non-null float64\n",
      "IN_COMUNIDADE_1KM                837 non-null float64\n",
      "IN_COMUNIDADE_5KM                837 non-null float64\n",
      "IN_TIROTEIO_1KM                  837 non-null float64\n",
      "IN_TIROTEIO_5KM                  837 non-null float64\n",
      "dtypes: float64(26), int64(1)\n",
      "memory usage: 183.1 KB\n"
     ]
    }
   ],
   "source": [
    "df_escolas.info()"
   ]
  },
  {
   "cell_type": "markdown",
   "metadata": {},
   "source": [
    "## Filtragem total das variáveis de escola"
   ]
  },
  {
   "cell_type": "code",
   "execution_count": 604,
   "metadata": {
    "scrolled": true
   },
   "outputs": [
    {
     "name": "stdout",
     "output_type": "stream",
     "text": [
      "<class 'pandas.core.frame.DataFrame'>\n",
      "Int64Index: 837 entries, 1 to 1096\n",
      "Data columns (total 27 columns):\n",
      "CO_ENTIDADE                      837 non-null int64\n",
      "IN_AGUA_CACIMBA                  837 non-null float64\n",
      "IN_LABORATORIO_CIENCIAS          837 non-null float64\n",
      "IN_QUADRA_ESPORTES_DESCOBERTA    837 non-null float64\n",
      "IN_BANHEIRO_FORA_PREDIO          837 non-null float64\n",
      "IN_AUDITORIO                     837 non-null float64\n",
      "IN_ALOJAM_ALUNO                  837 non-null float64\n",
      "IN_EQUIP_VIDEOCASSETE            837 non-null float64\n",
      "IN_EQUIP_PARABOLICA              837 non-null float64\n",
      "IN_EQUIP_RETROPROJETOR           837 non-null float64\n",
      "IN_EQUIP_IMPRESSORA              837 non-null float64\n",
      "IN_EQUIP_FAX                     837 non-null float64\n",
      "NU_EQUIP_TV                      837 non-null float64\n",
      "NU_EQUIP_DVD                     837 non-null float64\n",
      "NU_EQUIP_COPIADORA               837 non-null float64\n",
      "NU_EQUIP_SOM                     837 non-null float64\n",
      "NU_EQUIP_MULTIMIDIA              837 non-null float64\n",
      "NU_EQUIP_FOTO                    837 non-null float64\n",
      "NU_COMP_ALUNO                    837 non-null float64\n",
      "NU_FUNCIONARIOS                  837 non-null float64\n",
      "IN_EJA                           837 non-null float64\n",
      "IN_COMUM_FUND_AF                 837 non-null float64\n",
      "INSE_VALOR_ABSOLUTO              837 non-null float64\n",
      "IN_COMUNIDADE_1KM                837 non-null float64\n",
      "IN_COMUNIDADE_5KM                837 non-null float64\n",
      "IN_TIROTEIO_1KM                  837 non-null float64\n",
      "IN_TIROTEIO_5KM                  837 non-null float64\n",
      "dtypes: float64(26), int64(1)\n",
      "memory usage: 183.1 KB\n"
     ]
    }
   ],
   "source": [
    "df_escolas.info()"
   ]
  },
  {
   "cell_type": "code",
   "execution_count": 605,
   "metadata": {},
   "outputs": [
    {
     "data": {
      "text/plain": [
       "Removida - Baixa variação (> 80% concentrado)    111\n",
       "Variável utilizada                                28\n",
       "Removida - Baixo preenchimento (< 30%)            13\n",
       "Removida - Alta correlação (> 80%)                10\n",
       "Removida - Informação duplicada                   10\n",
       "Name: Seleção, dtype: int64"
      ]
     },
     "execution_count": 605,
     "metadata": {},
     "output_type": "execute_result"
    }
   ],
   "source": [
    "filtro_escolas['Seleção'] = filtro_escolas['Seleção'].fillna('Variável utilizada')\n",
    "filtro_escolas['Seleção'].value_counts()"
   ]
  },
  {
   "cell_type": "code",
   "execution_count": 606,
   "metadata": {},
   "outputs": [
    {
     "data": {
      "text/plain": [
       "172"
      ]
     },
     "execution_count": 606,
     "metadata": {},
     "output_type": "execute_result"
    }
   ],
   "source": [
    "filtro_escolas['Seleção'].value_counts().sum()"
   ]
  },
  {
   "cell_type": "code",
   "execution_count": 607,
   "metadata": {},
   "outputs": [],
   "source": [
    "filtro_escolas.to_csv(TREAT_PATH / 'filtro_escolas.csv')"
   ]
  },
  {
   "cell_type": "markdown",
   "metadata": {},
   "source": [
    "## Juntando as tabelas\n",
    "\n",
    "- Nomeando variáveis de aluno (L1) e escola (L2)"
   ]
  },
  {
   "cell_type": "code",
   "execution_count": 608,
   "metadata": {},
   "outputs": [],
   "source": [
    "fix_l1_to_l2 = {'L1_CO_ENTIDADE': 'L2_CO_ENTIDADE', \n",
    "                'L1_CO_MUNICIPIO': 'L2_CO_MUNICIPIO',\n",
    "                'L1_IN_MUNICIPIO_RIO': 'L2_IN_MUNICIPIO_RIO', \n",
    "                'L1_IN_MUNICIPIO_MET': 'L2_IN_MUNICIPIO_MET', \n",
    "                'L1_IN_MUNICIPIO_OUT': 'L2_IN_MUNICIPIO_OUT', \n",
    "               }"
   ]
  },
  {
   "cell_type": "code",
   "execution_count": 609,
   "metadata": {},
   "outputs": [
    {
     "name": "stdout",
     "output_type": "stream",
     "text": [
      "<class 'pandas.core.frame.DataFrame'>\n",
      "Int64Index: 146214 entries, 118 to 553388\n",
      "Data columns (total 16 columns):\n",
      "L1_NU_IDADE_REFERENCIA       146214 non-null int64\n",
      "L1_IN_SEXO                   146214 non-null int64\n",
      "L1_TP_COR_RACA               146214 non-null int64\n",
      "L1_IN_TRANSPORTE_PUBLICO     146214 non-null int64\n",
      "L1_ID_TURMA                  146214 non-null int64\n",
      "L2_CO_ENTIDADE               146214 non-null int64\n",
      "L1_ID                        146214 non-null int64\n",
      "L1_IN_EVASAO                 146214 non-null int64\n",
      "L1_IN_DISTORCAO              146214 non-null int64\n",
      "L1_IN_MUNICIPIO_NASC_RIO     146214 non-null int64\n",
      "L1_IN_MUNICIPIO_NASC_MET     146214 non-null int64\n",
      "L1_IN_MUNICIPIO_NASC_OUT     146214 non-null int64\n",
      "L2_IN_MUNICIPIO_RIO          146214 non-null int64\n",
      "L2_IN_MUNICIPIO_MET          146214 non-null int64\n",
      "L2_IN_MUNICIPIO_OUT          146214 non-null int64\n",
      "L1_IN_DIF_MUN_ESCOLA_NASC    146214 non-null int64\n",
      "dtypes: int64(16)\n",
      "memory usage: 19.0 MB\n"
     ]
    }
   ],
   "source": [
    "df_alunos.columns = df_alunos.columns.map(lambda x: 'L1_'+x)\n",
    "df_alunos = df_alunos.rename(columns=fix_l1_to_l2)\n",
    "\n",
    "df_alunos.info()"
   ]
  },
  {
   "cell_type": "code",
   "execution_count": 610,
   "metadata": {},
   "outputs": [
    {
     "name": "stdout",
     "output_type": "stream",
     "text": [
      "<class 'pandas.core.frame.DataFrame'>\n",
      "Int64Index: 837 entries, 1 to 1096\n",
      "Data columns (total 27 columns):\n",
      "L2_CO_ENTIDADE                      837 non-null int64\n",
      "L2_IN_AGUA_CACIMBA                  837 non-null float64\n",
      "L2_IN_LABORATORIO_CIENCIAS          837 non-null float64\n",
      "L2_IN_QUADRA_ESPORTES_DESCOBERTA    837 non-null float64\n",
      "L2_IN_BANHEIRO_FORA_PREDIO          837 non-null float64\n",
      "L2_IN_AUDITORIO                     837 non-null float64\n",
      "L2_IN_ALOJAM_ALUNO                  837 non-null float64\n",
      "L2_IN_EQUIP_VIDEOCASSETE            837 non-null float64\n",
      "L2_IN_EQUIP_PARABOLICA              837 non-null float64\n",
      "L2_IN_EQUIP_RETROPROJETOR           837 non-null float64\n",
      "L2_IN_EQUIP_IMPRESSORA              837 non-null float64\n",
      "L2_IN_EQUIP_FAX                     837 non-null float64\n",
      "L2_NU_EQUIP_TV                      837 non-null float64\n",
      "L2_NU_EQUIP_DVD                     837 non-null float64\n",
      "L2_NU_EQUIP_COPIADORA               837 non-null float64\n",
      "L2_NU_EQUIP_SOM                     837 non-null float64\n",
      "L2_NU_EQUIP_MULTIMIDIA              837 non-null float64\n",
      "L2_NU_EQUIP_FOTO                    837 non-null float64\n",
      "L2_NU_COMP_ALUNO                    837 non-null float64\n",
      "L2_NU_FUNCIONARIOS                  837 non-null float64\n",
      "L2_IN_EJA                           837 non-null float64\n",
      "L2_IN_COMUM_FUND_AF                 837 non-null float64\n",
      "L2_INSE_VALOR_ABSOLUTO              837 non-null float64\n",
      "L2_IN_COMUNIDADE_1KM                837 non-null float64\n",
      "L2_IN_COMUNIDADE_5KM                837 non-null float64\n",
      "L2_IN_TIROTEIO_1KM                  837 non-null float64\n",
      "L2_IN_TIROTEIO_5KM                  837 non-null float64\n",
      "dtypes: float64(26), int64(1)\n",
      "memory usage: 183.1 KB\n"
     ]
    }
   ],
   "source": [
    "df_escolas.columns = df_escolas.columns.map(lambda x: 'L2_'+x)\n",
    "df_escolas.info()"
   ]
  },
  {
   "cell_type": "code",
   "execution_count": 611,
   "metadata": {
    "scrolled": true
   },
   "outputs": [
    {
     "name": "stdout",
     "output_type": "stream",
     "text": [
      "<class 'pandas.core.frame.DataFrame'>\n",
      "Int64Index: 146214 entries, 112132289130 to 112980381895\n",
      "Data columns (total 41 columns):\n",
      "L1_NU_IDADE_REFERENCIA              146214 non-null int64\n",
      "L1_IN_SEXO                          146214 non-null int64\n",
      "L1_TP_COR_RACA                      146214 non-null int64\n",
      "L1_IN_TRANSPORTE_PUBLICO            146214 non-null int64\n",
      "L1_ID_TURMA                         146214 non-null int64\n",
      "L2_CO_ENTIDADE                      146214 non-null int64\n",
      "L1_IN_EVASAO                        146214 non-null int64\n",
      "L1_IN_DISTORCAO                     146214 non-null int64\n",
      "L1_IN_MUNICIPIO_NASC_RIO            146214 non-null int64\n",
      "L1_IN_MUNICIPIO_NASC_MET            146214 non-null int64\n",
      "L1_IN_MUNICIPIO_NASC_OUT            146214 non-null int64\n",
      "L2_IN_MUNICIPIO_RIO                 146214 non-null int64\n",
      "L2_IN_MUNICIPIO_MET                 146214 non-null int64\n",
      "L2_IN_MUNICIPIO_OUT                 146214 non-null int64\n",
      "L1_IN_DIF_MUN_ESCOLA_NASC           146214 non-null int64\n",
      "L2_IN_AGUA_CACIMBA                  146214 non-null float64\n",
      "L2_IN_LABORATORIO_CIENCIAS          146214 non-null float64\n",
      "L2_IN_QUADRA_ESPORTES_DESCOBERTA    146214 non-null float64\n",
      "L2_IN_BANHEIRO_FORA_PREDIO          146214 non-null float64\n",
      "L2_IN_AUDITORIO                     146214 non-null float64\n",
      "L2_IN_ALOJAM_ALUNO                  146214 non-null float64\n",
      "L2_IN_EQUIP_VIDEOCASSETE            146214 non-null float64\n",
      "L2_IN_EQUIP_PARABOLICA              146214 non-null float64\n",
      "L2_IN_EQUIP_RETROPROJETOR           146214 non-null float64\n",
      "L2_IN_EQUIP_IMPRESSORA              146214 non-null float64\n",
      "L2_IN_EQUIP_FAX                     146214 non-null float64\n",
      "L2_NU_EQUIP_TV                      146214 non-null float64\n",
      "L2_NU_EQUIP_DVD                     146214 non-null float64\n",
      "L2_NU_EQUIP_COPIADORA               146214 non-null float64\n",
      "L2_NU_EQUIP_SOM                     146214 non-null float64\n",
      "L2_NU_EQUIP_MULTIMIDIA              146214 non-null float64\n",
      "L2_NU_EQUIP_FOTO                    146214 non-null float64\n",
      "L2_NU_COMP_ALUNO                    146214 non-null float64\n",
      "L2_NU_FUNCIONARIOS                  146214 non-null float64\n",
      "L2_IN_EJA                           146214 non-null float64\n",
      "L2_IN_COMUM_FUND_AF                 146214 non-null float64\n",
      "L2_INSE_VALOR_ABSOLUTO              146214 non-null float64\n",
      "L2_IN_COMUNIDADE_1KM                146214 non-null float64\n",
      "L2_IN_COMUNIDADE_5KM                146214 non-null float64\n",
      "L2_IN_TIROTEIO_1KM                  146214 non-null float64\n",
      "L2_IN_TIROTEIO_5KM                  146214 non-null float64\n",
      "dtypes: float64(26), int64(15)\n",
      "memory usage: 46.9 MB\n"
     ]
    }
   ],
   "source": [
    "df = df_alunos.merge(df_escolas, on='L2_CO_ENTIDADE', how='left').set_index('L1_ID')\n",
    "df.info()"
   ]
  },
  {
   "cell_type": "code",
   "execution_count": 612,
   "metadata": {},
   "outputs": [],
   "source": [
    "df.to_csv(TREAT_PATH / 'analysis' / 'df_clean.csv')"
   ]
  }
 ],
 "metadata": {
  "kernelspec": {
   "display_name": "Python 3",
   "language": "python",
   "name": "python3"
  },
  "language_info": {
   "codemirror_mode": {
    "name": "ipython",
    "version": 3
   },
   "file_extension": ".py",
   "mimetype": "text/x-python",
   "name": "python",
   "nbconvert_exporter": "python",
   "pygments_lexer": "ipython3",
   "version": "3.7.4"
  },
  "toc": {
   "base_numbering": 1,
   "nav_menu": {},
   "number_sections": true,
   "sideBar": true,
   "skip_h1_title": true,
   "title_cell": "Table of Contents",
   "title_sidebar": "Contents",
   "toc_cell": true,
   "toc_position": {},
   "toc_section_display": true,
   "toc_window_display": false
  }
 },
 "nbformat": 4,
 "nbformat_minor": 2
}
