{
 "cells": [
  {
   "cell_type": "markdown",
   "metadata": {
    "toc": true
   },
   "source": [
    "<h1>Table of Contents<span class=\"tocSkip\"></span></h1>\n",
    "<div class=\"toc\"><ul class=\"toc-item\"><li><span><a href=\"#Matrículas---Censo-Escolar\" data-toc-modified-id=\"Matrículas---Censo-Escolar-1\"><span class=\"toc-item-num\">1&nbsp;&nbsp;</span>Matrículas - Censo Escolar</a></span></li><li><span><a href=\"#Variável-de-evasão\" data-toc-modified-id=\"Variável-de-evasão-2\"><span class=\"toc-item-num\">2&nbsp;&nbsp;</span>Variável de evasão</a></span></li><li><span><a href=\"#Variáveis-de-caracterização-dos-alunos\" data-toc-modified-id=\"Variáveis-de-caracterização-dos-alunos-3\"><span class=\"toc-item-num\">3&nbsp;&nbsp;</span>Variáveis de caracterização dos alunos</a></span><ul class=\"toc-item\"><li><span><a href=\"#Pessoal\" data-toc-modified-id=\"Pessoal-3.1\"><span class=\"toc-item-num\">3.1&nbsp;&nbsp;</span>Pessoal</a></span></li><li><span><a href=\"#Transporte\" data-toc-modified-id=\"Transporte-3.2\"><span class=\"toc-item-num\">3.2&nbsp;&nbsp;</span>Transporte</a></span></li><li><span><a href=\"#Localização\" data-toc-modified-id=\"Localização-3.3\"><span class=\"toc-item-num\">3.3&nbsp;&nbsp;</span>Localização</a></span></li><li><span><a href=\"#Dados-da-turma\" data-toc-modified-id=\"Dados-da-turma-3.4\"><span class=\"toc-item-num\">3.4&nbsp;&nbsp;</span>Dados da turma</a></span></li></ul></li><li><span><a href=\"#Filtragem-das-variáveis\" data-toc-modified-id=\"Filtragem-das-variáveis-4\"><span class=\"toc-item-num\">4&nbsp;&nbsp;</span>Filtragem das variáveis</a></span></li><li><span><a href=\"#Infos-das-escolas:-Censo-2017\" data-toc-modified-id=\"Infos-das-escolas:-Censo-2017-5\"><span class=\"toc-item-num\">5&nbsp;&nbsp;</span>Infos das escolas: Censo 2017</a></span><ul class=\"toc-item\"><li><span><a href=\"#Tratamento-de-variáveis\" data-toc-modified-id=\"Tratamento-de-variáveis-5.1\"><span class=\"toc-item-num\">5.1&nbsp;&nbsp;</span>Tratamento de variáveis</a></span></li></ul></li><li><span><a href=\"#Nível-socioeconômico\" data-toc-modified-id=\"Nível-socioeconômico-6\"><span class=\"toc-item-num\">6&nbsp;&nbsp;</span>Nível socioeconômico</a></span></li></ul></div>"
   ]
  },
  {
   "cell_type": "code",
   "execution_count": 119,
   "metadata": {},
   "outputs": [
    {
     "data": {
      "text/html": [
       "<script>requirejs.config({paths: { 'plotly': ['https://cdn.plot.ly/plotly-latest.min']},});if(!window.Plotly) {{require(['plotly'],function(plotly) {window.Plotly=plotly;});}}</script>"
      ],
      "text/vnd.plotly.v1+html": [
       "<script>requirejs.config({paths: { 'plotly': ['https://cdn.plot.ly/plotly-latest.min']},});if(!window.Plotly) {{require(['plotly'],function(plotly) {window.Plotly=plotly;});}}</script>"
      ]
     },
     "metadata": {},
     "output_type": "display_data"
    }
   ],
   "source": [
    "# %load first_cell.py\n",
    "%reload_ext autoreload\n",
    "%autoreload 2\n",
    "\n",
    "from paths import RAW_PATH, TREAT_PATH, OUTPUT_PATH, FIGURES_PATH\n",
    "\n",
    "from copy import deepcopy\n",
    "import numpy as np\n",
    "import pandas as pd\n",
    "pd.options.display.max_columns = 999\n",
    "import pandas_profiling\n",
    "\n",
    "import warnings\n",
    "warnings.filterwarnings('ignore')\n",
    "\n",
    "# Plotting\n",
    "import plotly\n",
    "import plotly.graph_objs as go\n",
    "# import cufflinks as cf\n",
    "plotly.offline.init_notebook_mode(connected=True)\n",
    "\n",
    "# cf.go_offline()\n",
    "# cf.set_config_file(offline=False, world_readable=True)"
   ]
  },
  {
   "cell_type": "markdown",
   "metadata": {},
   "source": [
    "### Matrículas - Censo Escolar"
   ]
  },
  {
   "cell_type": "code",
   "execution_count": 120,
   "metadata": {},
   "outputs": [
    {
     "data": {
      "text/plain": [
       "['matriculas_rj_2017duplicado.csv',\n",
       " 'cleaned_matriculas_rj_2016.csv',\n",
       " 'cleaned_matriculas_rj_2017.csv',\n",
       " 'matriculas_rj_2016duplicado.csv']"
      ]
     },
     "execution_count": 120,
     "metadata": {},
     "output_type": "execute_result"
    }
   ],
   "source": [
    "os.listdir(TREAT_PATH / 'censo')"
   ]
  },
  {
   "cell_type": "code",
   "execution_count": 213,
   "metadata": {},
   "outputs": [
    {
     "data": {
      "text/plain": [
       "570111"
      ]
     },
     "execution_count": 213,
     "metadata": {},
     "output_type": "execute_result"
    }
   ],
   "source": [
    "alunos_rj_16 = pd.read_csv(TREAT_PATH / 'censo' / 'cleaned_matriculas_rj_2016.csv')\n",
    "len(alunos_rj_16)"
   ]
  },
  {
   "cell_type": "code",
   "execution_count": 214,
   "metadata": {
    "collapsed": true
   },
   "outputs": [
    {
     "name": "stdout",
     "output_type": "stream",
     "text": [
      "<class 'pandas.core.frame.DataFrame'>\n",
      "Int64Index: 182838 entries, 118 to 552067\n",
      "Data columns (total 93 columns):\n",
      "Unnamed: 0                       182838 non-null int64\n",
      "NU_ANO_CENSO                     182838 non-null int64\n",
      "ID_MATRICULA                     182838 non-null int64\n",
      "NU_DIA                           182838 non-null int64\n",
      "NU_MES                           182838 non-null int64\n",
      "NU_ANO                           182838 non-null int64\n",
      "NU_IDADE_REFERENCIA              182838 non-null int64\n",
      "NU_IDADE                         182838 non-null int64\n",
      "NU_DURACAO_TURMA                 182838 non-null int64\n",
      "NU_DUR_ATIV_COMP_MESMA_REDE      182838 non-null int64\n",
      "NU_DUR_ATIV_COMP_OUTRAS_REDES    182838 non-null int64\n",
      "NU_DUR_AEE_MESMA_REDE            182838 non-null int64\n",
      "NU_DUR_AEE_OUTRAS_REDES          182838 non-null int64\n",
      "NU_DIAS_ATIVIDADE                182838 non-null int64\n",
      "TP_SEXO                          182838 non-null int64\n",
      "TP_COR_RACA                      182838 non-null int64\n",
      "TP_NACIONALIDADE                 182838 non-null int64\n",
      "CO_PAIS_ORIGEM                   182838 non-null int64\n",
      "CO_UF_NASC                       182737 non-null float64\n",
      "CO_MUNICIPIO_NASC                182737 non-null float64\n",
      "CO_UF_END                        11814 non-null float64\n",
      "CO_MUNICIPIO_END                 11814 non-null float64\n",
      "TP_ZONA_RESIDENCIAL              182838 non-null int64\n",
      "TP_OUTRO_LOCAL_AULA              182838 non-null int64\n",
      "IN_TRANSPORTE_PUBLICO            182838 non-null int64\n",
      "TP_RESPONSAVEL_TRANSPORTE        121962 non-null float64\n",
      "IN_TRANSP_VANS_KOMBI             121962 non-null float64\n",
      "IN_TRANSP_MICRO_ONIBUS           121962 non-null float64\n",
      "IN_TRANSP_ONIBUS                 121962 non-null float64\n",
      "IN_TRANSP_BICICLETA              121962 non-null float64\n",
      "IN_TRANSP_TR_ANIMAL              121962 non-null float64\n",
      "IN_TRANSP_OUTRO_VEICULO          121962 non-null float64\n",
      "IN_TRANSP_EMBAR_ATE5             121962 non-null float64\n",
      "IN_TRANSP_EMBAR_5A15             121962 non-null float64\n",
      "IN_TRANSP_EMBAR_15A35            121962 non-null float64\n",
      "IN_TRANSP_EMBAR_35               121962 non-null float64\n",
      "IN_TRANSP_TREM_METRO             121962 non-null float64\n",
      "IN_NECESSIDADE_ESPECIAL          182838 non-null int64\n",
      "IN_CEGUEIRA                      964 non-null float64\n",
      "IN_BAIXA_VISAO                   964 non-null float64\n",
      "IN_SURDEZ                        964 non-null float64\n",
      "IN_DEF_AUDITIVA                  964 non-null float64\n",
      "IN_SURDOCEGUEIRA                 964 non-null float64\n",
      "IN_DEF_FISICA                    964 non-null float64\n",
      "IN_DEF_INTELECTUAL               964 non-null float64\n",
      "IN_DEF_MULTIPLA                  964 non-null float64\n",
      "IN_AUTISMO                       964 non-null float64\n",
      "IN_SINDROME_ASPERGER             964 non-null float64\n",
      "IN_SINDROME_RETT                 964 non-null float64\n",
      "IN_TRANSTORNO_DI                 964 non-null float64\n",
      "IN_SUPERDOTACAO                  964 non-null float64\n",
      "IN_RECURSO_LEDOR                 877 non-null float64\n",
      "IN_RECURSO_TRANSCRICAO           877 non-null float64\n",
      "IN_RECURSO_INTERPRETE            877 non-null float64\n",
      "IN_RECURSO_LIBRAS                877 non-null float64\n",
      "IN_RECURSO_LABIAL                877 non-null float64\n",
      "IN_RECURSO_BRAILLE               877 non-null float64\n",
      "IN_RECURSO_AMPLIADA_16           877 non-null float64\n",
      "IN_RECURSO_AMPLIADA_20           877 non-null float64\n",
      "IN_RECURSO_AMPLIADA_24           877 non-null float64\n",
      "IN_RECURSO_NENHUM                877 non-null float64\n",
      "TP_INGRESSO_FEDERAIS             0 non-null float64\n",
      "TP_MEDIACAO_DIDATICO_PEDAGO      182838 non-null int64\n",
      "IN_ESPECIAL_EXCLUSIVA            182838 non-null int64\n",
      "IN_REGULAR                       182838 non-null int64\n",
      "IN_EJA                           182838 non-null int64\n",
      "IN_PROFISSIONALIZANTE            182838 non-null int64\n",
      "TP_ETAPA_ENSINO                  182838 non-null int64\n",
      "ID_TURMA                         182838 non-null int64\n",
      "CO_CURSO_EDUC_PROFISSIONAL       4176 non-null float64\n",
      "TP_UNIFICADA                     182838 non-null int64\n",
      "TP_TIPO_TURMA                    182838 non-null int64\n",
      "CO_ENTIDADE                      182838 non-null int64\n",
      "CO_REGIAO                        182838 non-null int64\n",
      "CO_MESORREGIAO                   182838 non-null int64\n",
      "CO_MICRORREGIAO                  182838 non-null int64\n",
      "CO_UF                            182838 non-null int64\n",
      "CO_MUNICIPIO                     182838 non-null int64\n",
      "CO_DISTRITO                      182838 non-null int64\n",
      "TP_DEPENDENCIA                   182838 non-null int64\n",
      "TP_LOCALIZACAO                   182838 non-null int64\n",
      "TP_CATEGORIA_ESCOLA_PRIVADA      0 non-null float64\n",
      "IN_CONVENIADA_PP                 0 non-null float64\n",
      "TP_CONVENIO_PODER_PUBLICO        0 non-null float64\n",
      "IN_MANT_ESCOLA_PRIVADA_EMP       0 non-null float64\n",
      "IN_MANT_ESCOLA_PRIVADA_ONG       0 non-null float64\n",
      "IN_MANT_ESCOLA_PRIVADA_SIND      0 non-null float64\n",
      "IN_MANT_ESCOLA_PRIVADA_SIST_S    0 non-null float64\n",
      "IN_MANT_ESCOLA_PRIVADA_S_FINS    0 non-null float64\n",
      "TP_REGULAMENTACAO                182838 non-null int64\n",
      "TP_LOCALIZACAO_DIFERENCIADA      182838 non-null int64\n",
      "IN_EDUCACAO_INDIGENA             182838 non-null int64\n",
      "ID                               182838 non-null int64\n",
      "dtypes: float64(49), int64(44)\n",
      "memory usage: 131.1 MB\n"
     ]
    }
   ],
   "source": [
    "alunos_rj_16 = alunos_rj_16[alunos_rj_16['TP_ETAPA_ENSINO'].isin([25, 31])] \n",
    "alunos_rj_16 = alunos_rj_16[alunos_rj_16['TP_DEPENDENCIA'] == 2] # Escolas estaduais\n",
    "\n",
    "alunos_rj_16.info()"
   ]
  },
  {
   "cell_type": "code",
   "execution_count": 215,
   "metadata": {},
   "outputs": [
    {
     "data": {
      "text/plain": [
       "551630"
      ]
     },
     "execution_count": 215,
     "metadata": {},
     "output_type": "execute_result"
    }
   ],
   "source": [
    "alunos_rj_17 = pd.read_csv(TREAT_PATH / 'censo' / 'cleaned_matriculas_rj_2017.csv')\n",
    "len(alunos_rj_17)"
   ]
  },
  {
   "cell_type": "code",
   "execution_count": 216,
   "metadata": {
    "collapsed": true
   },
   "outputs": [
    {
     "name": "stdout",
     "output_type": "stream",
     "text": [
      "<class 'pandas.core.frame.DataFrame'>\n",
      "Int64Index: 296894 entries, 81 to 545157\n",
      "Data columns (total 93 columns):\n",
      "Unnamed: 0                       296894 non-null int64\n",
      "NU_ANO_CENSO                     296894 non-null int64\n",
      "ID_MATRICULA                     296894 non-null int64\n",
      "NU_DIA                           296894 non-null int64\n",
      "NU_MES                           296894 non-null int64\n",
      "NU_ANO                           296894 non-null int64\n",
      "NU_IDADE_REFERENCIA              296894 non-null int64\n",
      "NU_IDADE                         296894 non-null int64\n",
      "NU_DURACAO_TURMA                 296894 non-null int64\n",
      "NU_DUR_ATIV_COMP_MESMA_REDE      296894 non-null int64\n",
      "NU_DUR_ATIV_COMP_OUTRAS_REDES    296894 non-null int64\n",
      "NU_DUR_AEE_MESMA_REDE            296894 non-null int64\n",
      "NU_DUR_AEE_OUTRAS_REDES          296894 non-null int64\n",
      "NU_DIAS_ATIVIDADE                296894 non-null int64\n",
      "TP_SEXO                          296894 non-null int64\n",
      "TP_COR_RACA                      296894 non-null int64\n",
      "TP_NACIONALIDADE                 296894 non-null int64\n",
      "CO_PAIS_ORIGEM                   296894 non-null int64\n",
      "CO_UF_NASC                       296708 non-null float64\n",
      "CO_MUNICIPIO_NASC                296708 non-null float64\n",
      "CO_UF_END                        19154 non-null float64\n",
      "CO_MUNICIPIO_END                 19154 non-null float64\n",
      "TP_ZONA_RESIDENCIAL              296894 non-null int64\n",
      "TP_OUTRO_LOCAL_AULA              296894 non-null int64\n",
      "IN_TRANSPORTE_PUBLICO            296894 non-null int64\n",
      "TP_RESPONSAVEL_TRANSPORTE        206705 non-null float64\n",
      "IN_TRANSP_VANS_KOMBI             206705 non-null float64\n",
      "IN_TRANSP_MICRO_ONIBUS           206705 non-null float64\n",
      "IN_TRANSP_ONIBUS                 206705 non-null float64\n",
      "IN_TRANSP_BICICLETA              206705 non-null float64\n",
      "IN_TRANSP_TR_ANIMAL              206705 non-null float64\n",
      "IN_TRANSP_OUTRO_VEICULO          206705 non-null float64\n",
      "IN_TRANSP_EMBAR_ATE5             206705 non-null float64\n",
      "IN_TRANSP_EMBAR_5A15             206705 non-null float64\n",
      "IN_TRANSP_EMBAR_15A35            206705 non-null float64\n",
      "IN_TRANSP_EMBAR_35               206705 non-null float64\n",
      "IN_TRANSP_TREM_METRO             206705 non-null float64\n",
      "IN_NECESSIDADE_ESPECIAL          296894 non-null int64\n",
      "IN_CEGUEIRA                      2254 non-null float64\n",
      "IN_BAIXA_VISAO                   2254 non-null float64\n",
      "IN_SURDEZ                        2254 non-null float64\n",
      "IN_DEF_AUDITIVA                  2254 non-null float64\n",
      "IN_SURDOCEGUEIRA                 2254 non-null float64\n",
      "IN_DEF_FISICA                    2254 non-null float64\n",
      "IN_DEF_INTELECTUAL               2254 non-null float64\n",
      "IN_DEF_MULTIPLA                  2254 non-null float64\n",
      "IN_AUTISMO                       2254 non-null float64\n",
      "IN_SINDROME_ASPERGER             2254 non-null float64\n",
      "IN_SINDROME_RETT                 2254 non-null float64\n",
      "IN_TRANSTORNO_DI                 2254 non-null float64\n",
      "IN_SUPERDOTACAO                  2254 non-null float64\n",
      "IN_RECURSO_LEDOR                 1995 non-null float64\n",
      "IN_RECURSO_TRANSCRICAO           1995 non-null float64\n",
      "IN_RECURSO_INTERPRETE            1995 non-null float64\n",
      "IN_RECURSO_LIBRAS                1995 non-null float64\n",
      "IN_RECURSO_LABIAL                1995 non-null float64\n",
      "IN_RECURSO_BRAILLE               1995 non-null float64\n",
      "IN_RECURSO_AMPLIADA_16           1995 non-null float64\n",
      "IN_RECURSO_AMPLIADA_20           1995 non-null float64\n",
      "IN_RECURSO_AMPLIADA_24           1995 non-null float64\n",
      "IN_RECURSO_NENHUM                1995 non-null float64\n",
      "TP_INGRESSO_FEDERAIS             0 non-null float64\n",
      "TP_MEDIACAO_DIDATICO_PEDAGO      296894 non-null int64\n",
      "IN_ESPECIAL_EXCLUSIVA            296894 non-null int64\n",
      "IN_REGULAR                       296894 non-null int64\n",
      "IN_EJA                           296894 non-null int64\n",
      "IN_PROFISSIONALIZANTE            296894 non-null int64\n",
      "TP_ETAPA_ENSINO                  296894 non-null int64\n",
      "ID_TURMA                         296894 non-null int64\n",
      "CO_CURSO_EDUC_PROFISSIONAL       7816 non-null float64\n",
      "TP_UNIFICADA                     296894 non-null int64\n",
      "TP_TIPO_TURMA                    296894 non-null int64\n",
      "CO_ENTIDADE                      296894 non-null int64\n",
      "CO_REGIAO                        296894 non-null int64\n",
      "CO_MESORREGIAO                   296894 non-null int64\n",
      "CO_MICRORREGIAO                  296894 non-null int64\n",
      "CO_UF                            296894 non-null int64\n",
      "CO_MUNICIPIO                     296894 non-null int64\n",
      "CO_DISTRITO                      296894 non-null int64\n",
      "TP_DEPENDENCIA                   296894 non-null int64\n",
      "TP_LOCALIZACAO                   296894 non-null int64\n",
      "TP_CATEGORIA_ESCOLA_PRIVADA      0 non-null float64\n",
      "IN_CONVENIADA_PP                 0 non-null float64\n",
      "TP_CONVENIO_PODER_PUBLICO        0 non-null float64\n",
      "IN_MANT_ESCOLA_PRIVADA_EMP       0 non-null float64\n",
      "IN_MANT_ESCOLA_PRIVADA_ONG       0 non-null float64\n",
      "IN_MANT_ESCOLA_PRIVADA_SIND      0 non-null float64\n",
      "IN_MANT_ESCOLA_PRIVADA_SIST_S    0 non-null float64\n",
      "IN_MANT_ESCOLA_PRIVADA_S_FINS    0 non-null float64\n",
      "TP_REGULAMENTACAO                296894 non-null int64\n",
      "TP_LOCALIZACAO_DIFERENCIADA      296894 non-null int64\n",
      "IN_EDUCACAO_INDIGENA             296894 non-null int64\n",
      "ID                               296894 non-null int64\n",
      "dtypes: float64(49), int64(44)\n",
      "memory usage: 212.9 MB\n"
     ]
    }
   ],
   "source": [
    "alunos_rj_17 = alunos_rj_17[alunos_rj_17['TP_ETAPA_ENSINO'].isin([25, 26, 31, 32])] # 1a série do MED\n",
    "alunos_rj_17 = alunos_rj_17[alunos_rj_17['TP_DEPENDENCIA'] == 2] # Escolas estaduais\n",
    "\n",
    "alunos_rj_17.info()"
   ]
  },
  {
   "cell_type": "markdown",
   "metadata": {
    "heading_collapsed": true
   },
   "source": [
    "### Variável de evasão"
   ]
  },
  {
   "cell_type": "code",
   "execution_count": 220,
   "metadata": {
    "hidden": true
   },
   "outputs": [
    {
     "data": {
      "text/plain": [
       "182838"
      ]
     },
     "execution_count": 220,
     "metadata": {},
     "output_type": "execute_result"
    }
   ],
   "source": [
    "# Total de alunos 1o e 2o MED em 2016\n",
    "n = len(alunos_rj_16['ID'])\n",
    "n"
   ]
  },
  {
   "cell_type": "code",
   "execution_count": 221,
   "metadata": {
    "hidden": true
   },
   "outputs": [
    {
     "data": {
      "text/plain": [
       "118478"
      ]
     },
     "execution_count": 221,
     "metadata": {},
     "output_type": "execute_result"
    }
   ],
   "source": [
    "df_permanencia_16_17 = alunos_rj_16[alunos_rj_16['ID'].isin(alunos_rj_17['ID'])]['ID']\n",
    "len(df_permanencia_16_17)"
   ]
  },
  {
   "cell_type": "code",
   "execution_count": 222,
   "metadata": {
    "hidden": true
   },
   "outputs": [
    {
     "data": {
      "text/plain": [
       "0.6479943994136886"
      ]
     },
     "execution_count": 222,
     "metadata": {},
     "output_type": "execute_result"
    }
   ],
   "source": [
    "# Percentual de permanência\n",
    "len(df_permanencia_16_17)/n"
   ]
  },
  {
   "cell_type": "code",
   "execution_count": 351,
   "metadata": {
    "hidden": true
   },
   "outputs": [
    {
     "data": {
      "text/html": [
       "<div>\n",
       "<style scoped>\n",
       "    .dataframe tbody tr th:only-of-type {\n",
       "        vertical-align: middle;\n",
       "    }\n",
       "\n",
       "    .dataframe tbody tr th {\n",
       "        vertical-align: top;\n",
       "    }\n",
       "\n",
       "    .dataframe thead th {\n",
       "        text-align: right;\n",
       "    }\n",
       "</style>\n",
       "<table border=\"1\" class=\"dataframe\">\n",
       "  <thead>\n",
       "    <tr style=\"text-align: right;\">\n",
       "      <th></th>\n",
       "      <th>Unnamed: 0</th>\n",
       "      <th>NU_ANO_CENSO</th>\n",
       "      <th>ID_MATRICULA</th>\n",
       "      <th>NU_DIA</th>\n",
       "      <th>NU_MES</th>\n",
       "      <th>NU_ANO</th>\n",
       "      <th>NU_IDADE_REFERENCIA</th>\n",
       "      <th>NU_IDADE</th>\n",
       "      <th>NU_DURACAO_TURMA</th>\n",
       "      <th>NU_DUR_ATIV_COMP_MESMA_REDE</th>\n",
       "      <th>NU_DUR_ATIV_COMP_OUTRAS_REDES</th>\n",
       "      <th>NU_DUR_AEE_MESMA_REDE</th>\n",
       "      <th>NU_DUR_AEE_OUTRAS_REDES</th>\n",
       "      <th>NU_DIAS_ATIVIDADE</th>\n",
       "      <th>TP_SEXO</th>\n",
       "      <th>TP_COR_RACA</th>\n",
       "      <th>TP_NACIONALIDADE</th>\n",
       "      <th>CO_PAIS_ORIGEM</th>\n",
       "      <th>CO_UF_NASC</th>\n",
       "      <th>CO_MUNICIPIO_NASC</th>\n",
       "      <th>CO_UF_END</th>\n",
       "      <th>CO_MUNICIPIO_END</th>\n",
       "      <th>TP_ZONA_RESIDENCIAL</th>\n",
       "      <th>TP_OUTRO_LOCAL_AULA</th>\n",
       "      <th>IN_TRANSPORTE_PUBLICO</th>\n",
       "      <th>TP_RESPONSAVEL_TRANSPORTE</th>\n",
       "      <th>IN_TRANSP_VANS_KOMBI</th>\n",
       "      <th>IN_TRANSP_MICRO_ONIBUS</th>\n",
       "      <th>IN_TRANSP_ONIBUS</th>\n",
       "      <th>IN_TRANSP_BICICLETA</th>\n",
       "      <th>IN_TRANSP_TR_ANIMAL</th>\n",
       "      <th>IN_TRANSP_OUTRO_VEICULO</th>\n",
       "      <th>IN_TRANSP_EMBAR_ATE5</th>\n",
       "      <th>IN_TRANSP_EMBAR_5A15</th>\n",
       "      <th>IN_TRANSP_EMBAR_15A35</th>\n",
       "      <th>IN_TRANSP_EMBAR_35</th>\n",
       "      <th>IN_TRANSP_TREM_METRO</th>\n",
       "      <th>IN_NECESSIDADE_ESPECIAL</th>\n",
       "      <th>IN_CEGUEIRA</th>\n",
       "      <th>IN_BAIXA_VISAO</th>\n",
       "      <th>IN_SURDEZ</th>\n",
       "      <th>IN_DEF_AUDITIVA</th>\n",
       "      <th>IN_SURDOCEGUEIRA</th>\n",
       "      <th>IN_DEF_FISICA</th>\n",
       "      <th>IN_DEF_INTELECTUAL</th>\n",
       "      <th>IN_DEF_MULTIPLA</th>\n",
       "      <th>IN_AUTISMO</th>\n",
       "      <th>IN_SINDROME_ASPERGER</th>\n",
       "      <th>IN_SINDROME_RETT</th>\n",
       "      <th>IN_TRANSTORNO_DI</th>\n",
       "      <th>IN_SUPERDOTACAO</th>\n",
       "      <th>IN_RECURSO_LEDOR</th>\n",
       "      <th>IN_RECURSO_TRANSCRICAO</th>\n",
       "      <th>IN_RECURSO_INTERPRETE</th>\n",
       "      <th>IN_RECURSO_LIBRAS</th>\n",
       "      <th>IN_RECURSO_LABIAL</th>\n",
       "      <th>IN_RECURSO_BRAILLE</th>\n",
       "      <th>IN_RECURSO_AMPLIADA_16</th>\n",
       "      <th>IN_RECURSO_AMPLIADA_20</th>\n",
       "      <th>IN_RECURSO_AMPLIADA_24</th>\n",
       "      <th>IN_RECURSO_NENHUM</th>\n",
       "      <th>TP_INGRESSO_FEDERAIS</th>\n",
       "      <th>TP_MEDIACAO_DIDATICO_PEDAGO</th>\n",
       "      <th>IN_ESPECIAL_EXCLUSIVA</th>\n",
       "      <th>IN_REGULAR</th>\n",
       "      <th>IN_EJA</th>\n",
       "      <th>IN_PROFISSIONALIZANTE</th>\n",
       "      <th>TP_ETAPA_ENSINO</th>\n",
       "      <th>ID_TURMA</th>\n",
       "      <th>CO_CURSO_EDUC_PROFISSIONAL</th>\n",
       "      <th>TP_UNIFICADA</th>\n",
       "      <th>TP_TIPO_TURMA</th>\n",
       "      <th>CO_ENTIDADE</th>\n",
       "      <th>CO_REGIAO</th>\n",
       "      <th>CO_MESORREGIAO</th>\n",
       "      <th>CO_MICRORREGIAO</th>\n",
       "      <th>CO_UF</th>\n",
       "      <th>CO_MUNICIPIO</th>\n",
       "      <th>CO_DISTRITO</th>\n",
       "      <th>TP_DEPENDENCIA</th>\n",
       "      <th>TP_LOCALIZACAO</th>\n",
       "      <th>TP_CATEGORIA_ESCOLA_PRIVADA</th>\n",
       "      <th>IN_CONVENIADA_PP</th>\n",
       "      <th>TP_CONVENIO_PODER_PUBLICO</th>\n",
       "      <th>IN_MANT_ESCOLA_PRIVADA_EMP</th>\n",
       "      <th>IN_MANT_ESCOLA_PRIVADA_ONG</th>\n",
       "      <th>IN_MANT_ESCOLA_PRIVADA_SIND</th>\n",
       "      <th>IN_MANT_ESCOLA_PRIVADA_SIST_S</th>\n",
       "      <th>IN_MANT_ESCOLA_PRIVADA_S_FINS</th>\n",
       "      <th>TP_REGULAMENTACAO</th>\n",
       "      <th>TP_LOCALIZACAO_DIFERENCIADA</th>\n",
       "      <th>IN_EDUCACAO_INDIGENA</th>\n",
       "      <th>ID</th>\n",
       "      <th>IN_EVASAO</th>\n",
       "      <th>IN_DISTORCAO</th>\n",
       "      <th>IN_ESCOLA_RIO</th>\n",
       "    </tr>\n",
       "  </thead>\n",
       "  <tbody>\n",
       "    <tr>\n",
       "      <th>118</th>\n",
       "      <td>118</td>\n",
       "      <td>2016</td>\n",
       "      <td>162295208</td>\n",
       "      <td>2</td>\n",
       "      <td>12</td>\n",
       "      <td>1999</td>\n",
       "      <td>16</td>\n",
       "      <td>17</td>\n",
       "      <td>680</td>\n",
       "      <td>0</td>\n",
       "      <td>0</td>\n",
       "      <td>0</td>\n",
       "      <td>0</td>\n",
       "      <td>5</td>\n",
       "      <td>2</td>\n",
       "      <td>0</td>\n",
       "      <td>1</td>\n",
       "      <td>76</td>\n",
       "      <td>33.0</td>\n",
       "      <td>3301009.0</td>\n",
       "      <td>33.0</td>\n",
       "      <td>3301009.0</td>\n",
       "      <td>1</td>\n",
       "      <td>3</td>\n",
       "      <td>0</td>\n",
       "      <td>NaN</td>\n",
       "      <td>NaN</td>\n",
       "      <td>NaN</td>\n",
       "      <td>NaN</td>\n",
       "      <td>NaN</td>\n",
       "      <td>NaN</td>\n",
       "      <td>NaN</td>\n",
       "      <td>NaN</td>\n",
       "      <td>NaN</td>\n",
       "      <td>NaN</td>\n",
       "      <td>NaN</td>\n",
       "      <td>NaN</td>\n",
       "      <td>0</td>\n",
       "      <td>NaN</td>\n",
       "      <td>NaN</td>\n",
       "      <td>NaN</td>\n",
       "      <td>NaN</td>\n",
       "      <td>NaN</td>\n",
       "      <td>NaN</td>\n",
       "      <td>NaN</td>\n",
       "      <td>NaN</td>\n",
       "      <td>NaN</td>\n",
       "      <td>NaN</td>\n",
       "      <td>NaN</td>\n",
       "      <td>NaN</td>\n",
       "      <td>NaN</td>\n",
       "      <td>NaN</td>\n",
       "      <td>NaN</td>\n",
       "      <td>NaN</td>\n",
       "      <td>NaN</td>\n",
       "      <td>NaN</td>\n",
       "      <td>NaN</td>\n",
       "      <td>NaN</td>\n",
       "      <td>NaN</td>\n",
       "      <td>NaN</td>\n",
       "      <td>NaN</td>\n",
       "      <td>NaN</td>\n",
       "      <td>1</td>\n",
       "      <td>0</td>\n",
       "      <td>1</td>\n",
       "      <td>0</td>\n",
       "      <td>1</td>\n",
       "      <td>31</td>\n",
       "      <td>6062013</td>\n",
       "      <td>4050.0</td>\n",
       "      <td>0</td>\n",
       "      <td>0</td>\n",
       "      <td>33009627</td>\n",
       "      <td>3</td>\n",
       "      <td>3302</td>\n",
       "      <td>33003</td>\n",
       "      <td>33</td>\n",
       "      <td>3301009</td>\n",
       "      <td>330100905</td>\n",
       "      <td>2</td>\n",
       "      <td>1</td>\n",
       "      <td>NaN</td>\n",
       "      <td>NaN</td>\n",
       "      <td>NaN</td>\n",
       "      <td>NaN</td>\n",
       "      <td>NaN</td>\n",
       "      <td>NaN</td>\n",
       "      <td>NaN</td>\n",
       "      <td>NaN</td>\n",
       "      <td>1</td>\n",
       "      <td>0</td>\n",
       "      <td>0</td>\n",
       "      <td>112132289130</td>\n",
       "      <td>0</td>\n",
       "      <td>0</td>\n",
       "      <td>0</td>\n",
       "    </tr>\n",
       "    <tr>\n",
       "      <th>122</th>\n",
       "      <td>122</td>\n",
       "      <td>2016</td>\n",
       "      <td>114897083</td>\n",
       "      <td>3</td>\n",
       "      <td>12</td>\n",
       "      <td>1995</td>\n",
       "      <td>20</td>\n",
       "      <td>21</td>\n",
       "      <td>680</td>\n",
       "      <td>0</td>\n",
       "      <td>0</td>\n",
       "      <td>0</td>\n",
       "      <td>0</td>\n",
       "      <td>5</td>\n",
       "      <td>2</td>\n",
       "      <td>0</td>\n",
       "      <td>1</td>\n",
       "      <td>76</td>\n",
       "      <td>33.0</td>\n",
       "      <td>3301009.0</td>\n",
       "      <td>NaN</td>\n",
       "      <td>NaN</td>\n",
       "      <td>1</td>\n",
       "      <td>3</td>\n",
       "      <td>0</td>\n",
       "      <td>NaN</td>\n",
       "      <td>NaN</td>\n",
       "      <td>NaN</td>\n",
       "      <td>NaN</td>\n",
       "      <td>NaN</td>\n",
       "      <td>NaN</td>\n",
       "      <td>NaN</td>\n",
       "      <td>NaN</td>\n",
       "      <td>NaN</td>\n",
       "      <td>NaN</td>\n",
       "      <td>NaN</td>\n",
       "      <td>NaN</td>\n",
       "      <td>0</td>\n",
       "      <td>NaN</td>\n",
       "      <td>NaN</td>\n",
       "      <td>NaN</td>\n",
       "      <td>NaN</td>\n",
       "      <td>NaN</td>\n",
       "      <td>NaN</td>\n",
       "      <td>NaN</td>\n",
       "      <td>NaN</td>\n",
       "      <td>NaN</td>\n",
       "      <td>NaN</td>\n",
       "      <td>NaN</td>\n",
       "      <td>NaN</td>\n",
       "      <td>NaN</td>\n",
       "      <td>NaN</td>\n",
       "      <td>NaN</td>\n",
       "      <td>NaN</td>\n",
       "      <td>NaN</td>\n",
       "      <td>NaN</td>\n",
       "      <td>NaN</td>\n",
       "      <td>NaN</td>\n",
       "      <td>NaN</td>\n",
       "      <td>NaN</td>\n",
       "      <td>NaN</td>\n",
       "      <td>NaN</td>\n",
       "      <td>1</td>\n",
       "      <td>0</td>\n",
       "      <td>1</td>\n",
       "      <td>0</td>\n",
       "      <td>1</td>\n",
       "      <td>31</td>\n",
       "      <td>6062013</td>\n",
       "      <td>4050.0</td>\n",
       "      <td>0</td>\n",
       "      <td>0</td>\n",
       "      <td>33009627</td>\n",
       "      <td>3</td>\n",
       "      <td>3302</td>\n",
       "      <td>33003</td>\n",
       "      <td>33</td>\n",
       "      <td>3301009</td>\n",
       "      <td>330100905</td>\n",
       "      <td>2</td>\n",
       "      <td>1</td>\n",
       "      <td>NaN</td>\n",
       "      <td>NaN</td>\n",
       "      <td>NaN</td>\n",
       "      <td>NaN</td>\n",
       "      <td>NaN</td>\n",
       "      <td>NaN</td>\n",
       "      <td>NaN</td>\n",
       "      <td>NaN</td>\n",
       "      <td>1</td>\n",
       "      <td>0</td>\n",
       "      <td>0</td>\n",
       "      <td>113220290328</td>\n",
       "      <td>1</td>\n",
       "      <td>1</td>\n",
       "      <td>0</td>\n",
       "    </tr>\n",
       "    <tr>\n",
       "      <th>124</th>\n",
       "      <td>124</td>\n",
       "      <td>2016</td>\n",
       "      <td>189344</td>\n",
       "      <td>7</td>\n",
       "      <td>5</td>\n",
       "      <td>2000</td>\n",
       "      <td>16</td>\n",
       "      <td>16</td>\n",
       "      <td>680</td>\n",
       "      <td>0</td>\n",
       "      <td>0</td>\n",
       "      <td>0</td>\n",
       "      <td>0</td>\n",
       "      <td>5</td>\n",
       "      <td>2</td>\n",
       "      <td>0</td>\n",
       "      <td>1</td>\n",
       "      <td>76</td>\n",
       "      <td>33.0</td>\n",
       "      <td>3301009.0</td>\n",
       "      <td>NaN</td>\n",
       "      <td>NaN</td>\n",
       "      <td>1</td>\n",
       "      <td>3</td>\n",
       "      <td>0</td>\n",
       "      <td>NaN</td>\n",
       "      <td>NaN</td>\n",
       "      <td>NaN</td>\n",
       "      <td>NaN</td>\n",
       "      <td>NaN</td>\n",
       "      <td>NaN</td>\n",
       "      <td>NaN</td>\n",
       "      <td>NaN</td>\n",
       "      <td>NaN</td>\n",
       "      <td>NaN</td>\n",
       "      <td>NaN</td>\n",
       "      <td>NaN</td>\n",
       "      <td>0</td>\n",
       "      <td>NaN</td>\n",
       "      <td>NaN</td>\n",
       "      <td>NaN</td>\n",
       "      <td>NaN</td>\n",
       "      <td>NaN</td>\n",
       "      <td>NaN</td>\n",
       "      <td>NaN</td>\n",
       "      <td>NaN</td>\n",
       "      <td>NaN</td>\n",
       "      <td>NaN</td>\n",
       "      <td>NaN</td>\n",
       "      <td>NaN</td>\n",
       "      <td>NaN</td>\n",
       "      <td>NaN</td>\n",
       "      <td>NaN</td>\n",
       "      <td>NaN</td>\n",
       "      <td>NaN</td>\n",
       "      <td>NaN</td>\n",
       "      <td>NaN</td>\n",
       "      <td>NaN</td>\n",
       "      <td>NaN</td>\n",
       "      <td>NaN</td>\n",
       "      <td>NaN</td>\n",
       "      <td>NaN</td>\n",
       "      <td>1</td>\n",
       "      <td>0</td>\n",
       "      <td>1</td>\n",
       "      <td>0</td>\n",
       "      <td>1</td>\n",
       "      <td>31</td>\n",
       "      <td>6060199</td>\n",
       "      <td>4050.0</td>\n",
       "      <td>0</td>\n",
       "      <td>0</td>\n",
       "      <td>33009627</td>\n",
       "      <td>3</td>\n",
       "      <td>3302</td>\n",
       "      <td>33003</td>\n",
       "      <td>33</td>\n",
       "      <td>3301009</td>\n",
       "      <td>330100905</td>\n",
       "      <td>2</td>\n",
       "      <td>1</td>\n",
       "      <td>NaN</td>\n",
       "      <td>NaN</td>\n",
       "      <td>NaN</td>\n",
       "      <td>NaN</td>\n",
       "      <td>NaN</td>\n",
       "      <td>NaN</td>\n",
       "      <td>NaN</td>\n",
       "      <td>NaN</td>\n",
       "      <td>1</td>\n",
       "      <td>0</td>\n",
       "      <td>0</td>\n",
       "      <td>112752673352</td>\n",
       "      <td>0</td>\n",
       "      <td>0</td>\n",
       "      <td>0</td>\n",
       "    </tr>\n",
       "    <tr>\n",
       "      <th>142</th>\n",
       "      <td>142</td>\n",
       "      <td>2016</td>\n",
       "      <td>239895</td>\n",
       "      <td>19</td>\n",
       "      <td>8</td>\n",
       "      <td>1999</td>\n",
       "      <td>16</td>\n",
       "      <td>17</td>\n",
       "      <td>680</td>\n",
       "      <td>0</td>\n",
       "      <td>0</td>\n",
       "      <td>0</td>\n",
       "      <td>0</td>\n",
       "      <td>5</td>\n",
       "      <td>2</td>\n",
       "      <td>1</td>\n",
       "      <td>1</td>\n",
       "      <td>76</td>\n",
       "      <td>33.0</td>\n",
       "      <td>3304557.0</td>\n",
       "      <td>33.0</td>\n",
       "      <td>3304557.0</td>\n",
       "      <td>1</td>\n",
       "      <td>3</td>\n",
       "      <td>0</td>\n",
       "      <td>NaN</td>\n",
       "      <td>NaN</td>\n",
       "      <td>NaN</td>\n",
       "      <td>NaN</td>\n",
       "      <td>NaN</td>\n",
       "      <td>NaN</td>\n",
       "      <td>NaN</td>\n",
       "      <td>NaN</td>\n",
       "      <td>NaN</td>\n",
       "      <td>NaN</td>\n",
       "      <td>NaN</td>\n",
       "      <td>NaN</td>\n",
       "      <td>0</td>\n",
       "      <td>NaN</td>\n",
       "      <td>NaN</td>\n",
       "      <td>NaN</td>\n",
       "      <td>NaN</td>\n",
       "      <td>NaN</td>\n",
       "      <td>NaN</td>\n",
       "      <td>NaN</td>\n",
       "      <td>NaN</td>\n",
       "      <td>NaN</td>\n",
       "      <td>NaN</td>\n",
       "      <td>NaN</td>\n",
       "      <td>NaN</td>\n",
       "      <td>NaN</td>\n",
       "      <td>NaN</td>\n",
       "      <td>NaN</td>\n",
       "      <td>NaN</td>\n",
       "      <td>NaN</td>\n",
       "      <td>NaN</td>\n",
       "      <td>NaN</td>\n",
       "      <td>NaN</td>\n",
       "      <td>NaN</td>\n",
       "      <td>NaN</td>\n",
       "      <td>NaN</td>\n",
       "      <td>NaN</td>\n",
       "      <td>1</td>\n",
       "      <td>0</td>\n",
       "      <td>1</td>\n",
       "      <td>0</td>\n",
       "      <td>1</td>\n",
       "      <td>31</td>\n",
       "      <td>6070919</td>\n",
       "      <td>1002.0</td>\n",
       "      <td>0</td>\n",
       "      <td>0</td>\n",
       "      <td>33009627</td>\n",
       "      <td>3</td>\n",
       "      <td>3302</td>\n",
       "      <td>33003</td>\n",
       "      <td>33</td>\n",
       "      <td>3301009</td>\n",
       "      <td>330100905</td>\n",
       "      <td>2</td>\n",
       "      <td>1</td>\n",
       "      <td>NaN</td>\n",
       "      <td>NaN</td>\n",
       "      <td>NaN</td>\n",
       "      <td>NaN</td>\n",
       "      <td>NaN</td>\n",
       "      <td>NaN</td>\n",
       "      <td>NaN</td>\n",
       "      <td>NaN</td>\n",
       "      <td>1</td>\n",
       "      <td>0</td>\n",
       "      <td>0</td>\n",
       "      <td>117459545545</td>\n",
       "      <td>0</td>\n",
       "      <td>0</td>\n",
       "      <td>0</td>\n",
       "    </tr>\n",
       "    <tr>\n",
       "      <th>150</th>\n",
       "      <td>150</td>\n",
       "      <td>2016</td>\n",
       "      <td>185051</td>\n",
       "      <td>11</td>\n",
       "      <td>10</td>\n",
       "      <td>1998</td>\n",
       "      <td>17</td>\n",
       "      <td>18</td>\n",
       "      <td>680</td>\n",
       "      <td>0</td>\n",
       "      <td>0</td>\n",
       "      <td>0</td>\n",
       "      <td>0</td>\n",
       "      <td>5</td>\n",
       "      <td>2</td>\n",
       "      <td>0</td>\n",
       "      <td>1</td>\n",
       "      <td>76</td>\n",
       "      <td>33.0</td>\n",
       "      <td>3304557.0</td>\n",
       "      <td>NaN</td>\n",
       "      <td>NaN</td>\n",
       "      <td>1</td>\n",
       "      <td>3</td>\n",
       "      <td>0</td>\n",
       "      <td>NaN</td>\n",
       "      <td>NaN</td>\n",
       "      <td>NaN</td>\n",
       "      <td>NaN</td>\n",
       "      <td>NaN</td>\n",
       "      <td>NaN</td>\n",
       "      <td>NaN</td>\n",
       "      <td>NaN</td>\n",
       "      <td>NaN</td>\n",
       "      <td>NaN</td>\n",
       "      <td>NaN</td>\n",
       "      <td>NaN</td>\n",
       "      <td>0</td>\n",
       "      <td>NaN</td>\n",
       "      <td>NaN</td>\n",
       "      <td>NaN</td>\n",
       "      <td>NaN</td>\n",
       "      <td>NaN</td>\n",
       "      <td>NaN</td>\n",
       "      <td>NaN</td>\n",
       "      <td>NaN</td>\n",
       "      <td>NaN</td>\n",
       "      <td>NaN</td>\n",
       "      <td>NaN</td>\n",
       "      <td>NaN</td>\n",
       "      <td>NaN</td>\n",
       "      <td>NaN</td>\n",
       "      <td>NaN</td>\n",
       "      <td>NaN</td>\n",
       "      <td>NaN</td>\n",
       "      <td>NaN</td>\n",
       "      <td>NaN</td>\n",
       "      <td>NaN</td>\n",
       "      <td>NaN</td>\n",
       "      <td>NaN</td>\n",
       "      <td>NaN</td>\n",
       "      <td>NaN</td>\n",
       "      <td>1</td>\n",
       "      <td>0</td>\n",
       "      <td>1</td>\n",
       "      <td>0</td>\n",
       "      <td>1</td>\n",
       "      <td>31</td>\n",
       "      <td>6060199</td>\n",
       "      <td>4050.0</td>\n",
       "      <td>0</td>\n",
       "      <td>0</td>\n",
       "      <td>33009627</td>\n",
       "      <td>3</td>\n",
       "      <td>3302</td>\n",
       "      <td>33003</td>\n",
       "      <td>33</td>\n",
       "      <td>3301009</td>\n",
       "      <td>330100905</td>\n",
       "      <td>2</td>\n",
       "      <td>1</td>\n",
       "      <td>NaN</td>\n",
       "      <td>NaN</td>\n",
       "      <td>NaN</td>\n",
       "      <td>NaN</td>\n",
       "      <td>NaN</td>\n",
       "      <td>NaN</td>\n",
       "      <td>NaN</td>\n",
       "      <td>NaN</td>\n",
       "      <td>1</td>\n",
       "      <td>0</td>\n",
       "      <td>0</td>\n",
       "      <td>113868062938</td>\n",
       "      <td>1</td>\n",
       "      <td>1</td>\n",
       "      <td>0</td>\n",
       "    </tr>\n",
       "  </tbody>\n",
       "</table>\n",
       "</div>"
      ],
      "text/plain": [
       "     Unnamed: 0  NU_ANO_CENSO  ID_MATRICULA  NU_DIA  NU_MES  NU_ANO  \\\n",
       "118         118          2016     162295208       2      12    1999   \n",
       "122         122          2016     114897083       3      12    1995   \n",
       "124         124          2016        189344       7       5    2000   \n",
       "142         142          2016        239895      19       8    1999   \n",
       "150         150          2016        185051      11      10    1998   \n",
       "\n",
       "     NU_IDADE_REFERENCIA  NU_IDADE  NU_DURACAO_TURMA  \\\n",
       "118                   16        17               680   \n",
       "122                   20        21               680   \n",
       "124                   16        16               680   \n",
       "142                   16        17               680   \n",
       "150                   17        18               680   \n",
       "\n",
       "     NU_DUR_ATIV_COMP_MESMA_REDE  NU_DUR_ATIV_COMP_OUTRAS_REDES  \\\n",
       "118                            0                              0   \n",
       "122                            0                              0   \n",
       "124                            0                              0   \n",
       "142                            0                              0   \n",
       "150                            0                              0   \n",
       "\n",
       "     NU_DUR_AEE_MESMA_REDE  NU_DUR_AEE_OUTRAS_REDES  NU_DIAS_ATIVIDADE  \\\n",
       "118                      0                        0                  5   \n",
       "122                      0                        0                  5   \n",
       "124                      0                        0                  5   \n",
       "142                      0                        0                  5   \n",
       "150                      0                        0                  5   \n",
       "\n",
       "     TP_SEXO  TP_COR_RACA  TP_NACIONALIDADE  CO_PAIS_ORIGEM  CO_UF_NASC  \\\n",
       "118        2            0                 1              76        33.0   \n",
       "122        2            0                 1              76        33.0   \n",
       "124        2            0                 1              76        33.0   \n",
       "142        2            1                 1              76        33.0   \n",
       "150        2            0                 1              76        33.0   \n",
       "\n",
       "     CO_MUNICIPIO_NASC  CO_UF_END  CO_MUNICIPIO_END  TP_ZONA_RESIDENCIAL  \\\n",
       "118          3301009.0       33.0         3301009.0                    1   \n",
       "122          3301009.0        NaN               NaN                    1   \n",
       "124          3301009.0        NaN               NaN                    1   \n",
       "142          3304557.0       33.0         3304557.0                    1   \n",
       "150          3304557.0        NaN               NaN                    1   \n",
       "\n",
       "     TP_OUTRO_LOCAL_AULA  IN_TRANSPORTE_PUBLICO  TP_RESPONSAVEL_TRANSPORTE  \\\n",
       "118                    3                      0                        NaN   \n",
       "122                    3                      0                        NaN   \n",
       "124                    3                      0                        NaN   \n",
       "142                    3                      0                        NaN   \n",
       "150                    3                      0                        NaN   \n",
       "\n",
       "     IN_TRANSP_VANS_KOMBI  IN_TRANSP_MICRO_ONIBUS  IN_TRANSP_ONIBUS  \\\n",
       "118                   NaN                     NaN               NaN   \n",
       "122                   NaN                     NaN               NaN   \n",
       "124                   NaN                     NaN               NaN   \n",
       "142                   NaN                     NaN               NaN   \n",
       "150                   NaN                     NaN               NaN   \n",
       "\n",
       "     IN_TRANSP_BICICLETA  IN_TRANSP_TR_ANIMAL  IN_TRANSP_OUTRO_VEICULO  \\\n",
       "118                  NaN                  NaN                      NaN   \n",
       "122                  NaN                  NaN                      NaN   \n",
       "124                  NaN                  NaN                      NaN   \n",
       "142                  NaN                  NaN                      NaN   \n",
       "150                  NaN                  NaN                      NaN   \n",
       "\n",
       "     IN_TRANSP_EMBAR_ATE5  IN_TRANSP_EMBAR_5A15  IN_TRANSP_EMBAR_15A35  \\\n",
       "118                   NaN                   NaN                    NaN   \n",
       "122                   NaN                   NaN                    NaN   \n",
       "124                   NaN                   NaN                    NaN   \n",
       "142                   NaN                   NaN                    NaN   \n",
       "150                   NaN                   NaN                    NaN   \n",
       "\n",
       "     IN_TRANSP_EMBAR_35  IN_TRANSP_TREM_METRO  IN_NECESSIDADE_ESPECIAL  \\\n",
       "118                 NaN                   NaN                        0   \n",
       "122                 NaN                   NaN                        0   \n",
       "124                 NaN                   NaN                        0   \n",
       "142                 NaN                   NaN                        0   \n",
       "150                 NaN                   NaN                        0   \n",
       "\n",
       "     IN_CEGUEIRA  IN_BAIXA_VISAO  IN_SURDEZ  IN_DEF_AUDITIVA  \\\n",
       "118          NaN             NaN        NaN              NaN   \n",
       "122          NaN             NaN        NaN              NaN   \n",
       "124          NaN             NaN        NaN              NaN   \n",
       "142          NaN             NaN        NaN              NaN   \n",
       "150          NaN             NaN        NaN              NaN   \n",
       "\n",
       "     IN_SURDOCEGUEIRA  IN_DEF_FISICA  IN_DEF_INTELECTUAL  IN_DEF_MULTIPLA  \\\n",
       "118               NaN            NaN                 NaN              NaN   \n",
       "122               NaN            NaN                 NaN              NaN   \n",
       "124               NaN            NaN                 NaN              NaN   \n",
       "142               NaN            NaN                 NaN              NaN   \n",
       "150               NaN            NaN                 NaN              NaN   \n",
       "\n",
       "     IN_AUTISMO  IN_SINDROME_ASPERGER  IN_SINDROME_RETT  IN_TRANSTORNO_DI  \\\n",
       "118         NaN                   NaN               NaN               NaN   \n",
       "122         NaN                   NaN               NaN               NaN   \n",
       "124         NaN                   NaN               NaN               NaN   \n",
       "142         NaN                   NaN               NaN               NaN   \n",
       "150         NaN                   NaN               NaN               NaN   \n",
       "\n",
       "     IN_SUPERDOTACAO  IN_RECURSO_LEDOR  IN_RECURSO_TRANSCRICAO  \\\n",
       "118              NaN               NaN                     NaN   \n",
       "122              NaN               NaN                     NaN   \n",
       "124              NaN               NaN                     NaN   \n",
       "142              NaN               NaN                     NaN   \n",
       "150              NaN               NaN                     NaN   \n",
       "\n",
       "     IN_RECURSO_INTERPRETE  IN_RECURSO_LIBRAS  IN_RECURSO_LABIAL  \\\n",
       "118                    NaN                NaN                NaN   \n",
       "122                    NaN                NaN                NaN   \n",
       "124                    NaN                NaN                NaN   \n",
       "142                    NaN                NaN                NaN   \n",
       "150                    NaN                NaN                NaN   \n",
       "\n",
       "     IN_RECURSO_BRAILLE  IN_RECURSO_AMPLIADA_16  IN_RECURSO_AMPLIADA_20  \\\n",
       "118                 NaN                     NaN                     NaN   \n",
       "122                 NaN                     NaN                     NaN   \n",
       "124                 NaN                     NaN                     NaN   \n",
       "142                 NaN                     NaN                     NaN   \n",
       "150                 NaN                     NaN                     NaN   \n",
       "\n",
       "     IN_RECURSO_AMPLIADA_24  IN_RECURSO_NENHUM  TP_INGRESSO_FEDERAIS  \\\n",
       "118                     NaN                NaN                   NaN   \n",
       "122                     NaN                NaN                   NaN   \n",
       "124                     NaN                NaN                   NaN   \n",
       "142                     NaN                NaN                   NaN   \n",
       "150                     NaN                NaN                   NaN   \n",
       "\n",
       "     TP_MEDIACAO_DIDATICO_PEDAGO  IN_ESPECIAL_EXCLUSIVA  IN_REGULAR  IN_EJA  \\\n",
       "118                            1                      0           1       0   \n",
       "122                            1                      0           1       0   \n",
       "124                            1                      0           1       0   \n",
       "142                            1                      0           1       0   \n",
       "150                            1                      0           1       0   \n",
       "\n",
       "     IN_PROFISSIONALIZANTE  TP_ETAPA_ENSINO  ID_TURMA  \\\n",
       "118                      1               31   6062013   \n",
       "122                      1               31   6062013   \n",
       "124                      1               31   6060199   \n",
       "142                      1               31   6070919   \n",
       "150                      1               31   6060199   \n",
       "\n",
       "     CO_CURSO_EDUC_PROFISSIONAL  TP_UNIFICADA  TP_TIPO_TURMA  CO_ENTIDADE  \\\n",
       "118                      4050.0             0              0     33009627   \n",
       "122                      4050.0             0              0     33009627   \n",
       "124                      4050.0             0              0     33009627   \n",
       "142                      1002.0             0              0     33009627   \n",
       "150                      4050.0             0              0     33009627   \n",
       "\n",
       "     CO_REGIAO  CO_MESORREGIAO  CO_MICRORREGIAO  CO_UF  CO_MUNICIPIO  \\\n",
       "118          3            3302            33003     33       3301009   \n",
       "122          3            3302            33003     33       3301009   \n",
       "124          3            3302            33003     33       3301009   \n",
       "142          3            3302            33003     33       3301009   \n",
       "150          3            3302            33003     33       3301009   \n",
       "\n",
       "     CO_DISTRITO  TP_DEPENDENCIA  TP_LOCALIZACAO  TP_CATEGORIA_ESCOLA_PRIVADA  \\\n",
       "118    330100905               2               1                          NaN   \n",
       "122    330100905               2               1                          NaN   \n",
       "124    330100905               2               1                          NaN   \n",
       "142    330100905               2               1                          NaN   \n",
       "150    330100905               2               1                          NaN   \n",
       "\n",
       "     IN_CONVENIADA_PP  TP_CONVENIO_PODER_PUBLICO  IN_MANT_ESCOLA_PRIVADA_EMP  \\\n",
       "118               NaN                        NaN                         NaN   \n",
       "122               NaN                        NaN                         NaN   \n",
       "124               NaN                        NaN                         NaN   \n",
       "142               NaN                        NaN                         NaN   \n",
       "150               NaN                        NaN                         NaN   \n",
       "\n",
       "     IN_MANT_ESCOLA_PRIVADA_ONG  IN_MANT_ESCOLA_PRIVADA_SIND  \\\n",
       "118                         NaN                          NaN   \n",
       "122                         NaN                          NaN   \n",
       "124                         NaN                          NaN   \n",
       "142                         NaN                          NaN   \n",
       "150                         NaN                          NaN   \n",
       "\n",
       "     IN_MANT_ESCOLA_PRIVADA_SIST_S  IN_MANT_ESCOLA_PRIVADA_S_FINS  \\\n",
       "118                            NaN                            NaN   \n",
       "122                            NaN                            NaN   \n",
       "124                            NaN                            NaN   \n",
       "142                            NaN                            NaN   \n",
       "150                            NaN                            NaN   \n",
       "\n",
       "     TP_REGULAMENTACAO  TP_LOCALIZACAO_DIFERENCIADA  IN_EDUCACAO_INDIGENA  \\\n",
       "118                  1                            0                     0   \n",
       "122                  1                            0                     0   \n",
       "124                  1                            0                     0   \n",
       "142                  1                            0                     0   \n",
       "150                  1                            0                     0   \n",
       "\n",
       "               ID  IN_EVASAO  IN_DISTORCAO  IN_ESCOLA_RIO  \n",
       "118  112132289130          0             0              0  \n",
       "122  113220290328          1             1              0  \n",
       "124  112752673352          0             0              0  \n",
       "142  117459545545          0             0              0  \n",
       "150  113868062938          1             1              0  "
      ]
     },
     "execution_count": 351,
     "metadata": {},
     "output_type": "execute_result"
    }
   ],
   "source": [
    "alunos_rj_16['IN_EVASAO'] = np.where(alunos_rj_16['ID'].isin(df_permanencia_16_17), 0, 1)\n",
    "alunos_rj_16.head()"
   ]
  },
  {
   "cell_type": "code",
   "execution_count": 140,
   "metadata": {
    "hidden": true
   },
   "outputs": [
    {
     "data": {
      "text/plain": [
       "array([110394863800, 122115666932, 111451406702, 111528082906,\n",
       "       110470317875])"
      ]
     },
     "execution_count": 140,
     "metadata": {},
     "output_type": "execute_result"
    }
   ],
   "source": [
    "t = alunos_rj_16[alunos_rj_16['ID'].isin(alunos_rj_17['ID'])]\n",
    "t['ID'].values[:5]"
   ]
  },
  {
   "cell_type": "markdown",
   "metadata": {
    "heading_collapsed": true
   },
   "source": [
    "### Variáveis de caracterização dos alunos"
   ]
  },
  {
   "cell_type": "markdown",
   "metadata": {
    "heading_collapsed": true,
    "hidden": true
   },
   "source": [
    "#### Pessoal"
   ]
  },
  {
   "cell_type": "markdown",
   "metadata": {
    "hidden": true
   },
   "source": [
    "* Raça: maioria (46%) não declarada"
   ]
  },
  {
   "cell_type": "code",
   "execution_count": 228,
   "metadata": {
    "hidden": true,
    "scrolled": true
   },
   "outputs": [
    {
     "data": {
      "text/plain": [
       "0    84623\n",
       "3    51340\n",
       "1    31478\n",
       "2    14930\n",
       "4      356\n",
       "5      111\n",
       "Name: TP_COR_RACA, dtype: int64"
      ]
     },
     "execution_count": 228,
     "metadata": {},
     "output_type": "execute_result"
    }
   ],
   "source": [
    "alunos_rj_16['TP_COR_RACA'].value_counts() # Maioria não declarada"
   ]
  },
  {
   "cell_type": "code",
   "execution_count": 271,
   "metadata": {
    "hidden": true
   },
   "outputs": [
    {
     "data": {
      "text/plain": [
       "0    0.462830\n",
       "3    0.280795\n",
       "1    0.172163\n",
       "2    0.081657\n",
       "4    0.001947\n",
       "5    0.000607\n",
       "Name: TP_COR_RACA, dtype: float64"
      ]
     },
     "execution_count": 271,
     "metadata": {},
     "output_type": "execute_result"
    }
   ],
   "source": [
    "alunos_rj_16['TP_COR_RACA'].value_counts(normalize=True)"
   ]
  },
  {
   "cell_type": "code",
   "execution_count": 273,
   "metadata": {
    "hidden": true
   },
   "outputs": [
    {
     "data": {
      "text/plain": [
       "1.0"
      ]
     },
     "execution_count": 273,
     "metadata": {},
     "output_type": "execute_result"
    }
   ],
   "source": [
    "# Percentual de preenchimento\n",
    "n = len(alunos_rj_16[alunos_rj_16['TP_COR_RACA'].isnull() == False])\n",
    "n/len(alunos_rj_16)"
   ]
  },
  {
   "cell_type": "markdown",
   "metadata": {
    "hidden": true
   },
   "source": [
    "* Sexo: ok"
   ]
  },
  {
   "cell_type": "code",
   "execution_count": 270,
   "metadata": {
    "hidden": true
   },
   "outputs": [
    {
     "data": {
      "text/plain": [
       "1.0"
      ]
     },
     "execution_count": 270,
     "metadata": {},
     "output_type": "execute_result"
    }
   ],
   "source": [
    "# Percentual de preenchimento\n",
    "n = len(alunos_rj_16[alunos_rj_16['TP_SEXO'].isnull() == False])\n",
    "n/len(alunos_rj_16)"
   ]
  },
  {
   "cell_type": "code",
   "execution_count": 383,
   "metadata": {
    "hidden": true
   },
   "outputs": [
    {
     "data": {
      "text/plain": [
       "1    94256\n",
       "2    88582\n",
       "Name: TP_SEXO, dtype: int64"
      ]
     },
     "execution_count": 383,
     "metadata": {},
     "output_type": "execute_result"
    }
   ],
   "source": [
    "n = alunos_rj_16['TP_SEXO'].value_counts() # Maioria homem\n",
    "n"
   ]
  },
  {
   "cell_type": "code",
   "execution_count": 384,
   "metadata": {
    "hidden": true,
    "scrolled": true
   },
   "outputs": [
    {
     "data": {
      "text/plain": [
       "1    0.515516\n",
       "2    0.484484\n",
       "Name: TP_SEXO, dtype: float64"
      ]
     },
     "execution_count": 384,
     "metadata": {},
     "output_type": "execute_result"
    }
   ],
   "source": [
    "alunos_rj_16['TP_SEXO'].value_counts(normalize=True)"
   ]
  },
  {
   "cell_type": "code",
   "execution_count": 386,
   "metadata": {
    "hidden": true
   },
   "outputs": [
    {
     "data": {
      "text/plain": [
       "1    35140\n",
       "2    29220\n",
       "Name: TP_SEXO, dtype: int64"
      ]
     },
     "execution_count": 386,
     "metadata": {},
     "output_type": "execute_result"
    }
   ],
   "source": [
    "# Evadidos: percentual semelhante, pouco mais homens\n",
    "ev = alunos_rj_16[alunos_rj_16['IN_EVASAO'] == 1]['TP_SEXO'].value_counts()\n",
    "ev"
   ]
  },
  {
   "cell_type": "code",
   "execution_count": 387,
   "metadata": {
    "hidden": true
   },
   "outputs": [
    {
     "data": {
      "text/plain": [
       "1    0.372814\n",
       "2    0.329864\n",
       "Name: TP_SEXO, dtype: float64"
      ]
     },
     "execution_count": 387,
     "metadata": {},
     "output_type": "execute_result"
    }
   ],
   "source": [
    "ev/n"
   ]
  },
  {
   "cell_type": "markdown",
   "metadata": {
    "hidden": true
   },
   "source": [
    "* Idade: ok"
   ]
  },
  {
   "cell_type": "code",
   "execution_count": 329,
   "metadata": {
    "hidden": true
   },
   "outputs": [
    {
     "data": {
      "text/plain": [
       "1.0"
      ]
     },
     "execution_count": 329,
     "metadata": {},
     "output_type": "execute_result"
    }
   ],
   "source": [
    "# Percentual de preenchimento\n",
    "n = len(alunos_rj_16[alunos_rj_16['NU_IDADE_REFERENCIA'].isnull() == False])\n",
    "n/len(alunos_rj_16)"
   ]
  },
  {
   "cell_type": "code",
   "execution_count": 389,
   "metadata": {
    "hidden": true,
    "scrolled": false
   },
   "outputs": [
    {
     "data": {
      "text/plain": [
       "15    61605\n",
       "16    54432\n",
       "17    35777\n",
       "18    14741\n",
       "14     7120\n",
       "19     4763\n",
       "20     1959\n",
       "21      731\n",
       "22      376\n",
       "23      219\n",
       "Name: NU_IDADE_REFERENCIA, dtype: int64"
      ]
     },
     "execution_count": 389,
     "metadata": {},
     "output_type": "execute_result"
    }
   ],
   "source": [
    "alunos_rj_16['NU_IDADE_REFERENCIA'].value_counts()[:10] # Maioria entre 14-17, também idades muito discrepantes"
   ]
  },
  {
   "cell_type": "code",
   "execution_count": 390,
   "metadata": {
    "hidden": true
   },
   "outputs": [
    {
     "data": {
      "text/plain": [
       "(-inf, 14.0]    0.039669\n",
       "(14.0, 16.0]    0.634644\n",
       "(16.0, 18.0]    0.276299\n",
       "(18.0, 20.0]    0.036765\n",
       "(20.0, inf]     0.012623\n",
       "Name: NU_IDADE_REFERENCIA, dtype: float64"
      ]
     },
     "execution_count": 390,
     "metadata": {},
     "output_type": "execute_result"
    }
   ],
   "source": [
    "# Distorção idade série: Maior ou igual a 17 anos para o 10 ano do MED\n",
    "bins_idade = pd.cut(alunos_rj_16['NU_IDADE_REFERENCIA'], [-np.inf, 14, 16, 18, 20, np.inf])\n",
    "bins_idade.value_counts(normalize=True).sort_index()"
   ]
  },
  {
   "cell_type": "code",
   "execution_count": 391,
   "metadata": {
    "hidden": true
   },
   "outputs": [],
   "source": [
    "alunos_rj_16['IN_DISTORCAO'] = np.where(alunos_rj_16['NU_IDADE_REFERENCIA'] >= 17, 1, 0)"
   ]
  },
  {
   "cell_type": "code",
   "execution_count": 396,
   "metadata": {
    "hidden": true
   },
   "outputs": [
    {
     "data": {
      "text/plain": [
       "0    123290\n",
       "1     59548\n",
       "Name: IN_DISTORCAO, dtype: int64"
      ]
     },
     "execution_count": 396,
     "metadata": {},
     "output_type": "execute_result"
    }
   ],
   "source": [
    "n = alunos_rj_16['IN_DISTORCAO'].value_counts()\n",
    "n"
   ]
  },
  {
   "cell_type": "code",
   "execution_count": 397,
   "metadata": {
    "hidden": true
   },
   "outputs": [
    {
     "data": {
      "text/plain": [
       "0    0.674313\n",
       "1    0.325687\n",
       "Name: IN_DISTORCAO, dtype: float64"
      ]
     },
     "execution_count": 397,
     "metadata": {},
     "output_type": "execute_result"
    }
   ],
   "source": [
    "alunos_rj_16['IN_DISTORCAO'].value_counts(normalize=True)"
   ]
  },
  {
   "cell_type": "code",
   "execution_count": 398,
   "metadata": {
    "hidden": true
   },
   "outputs": [
    {
     "data": {
      "text/plain": [
       "1    34629\n",
       "0    29731\n",
       "Name: IN_DISTORCAO, dtype: int64"
      ]
     },
     "execution_count": 398,
     "metadata": {},
     "output_type": "execute_result"
    }
   ],
   "source": [
    "# Evadidos: maior percentual de alunos com distorção idade-série\n",
    "ev = alunos_rj_16[alunos_rj_16['IN_EVASAO'] == 1]['IN_DISTORCAO'].value_counts()\n",
    "ev"
   ]
  },
  {
   "cell_type": "code",
   "execution_count": 399,
   "metadata": {
    "hidden": true
   },
   "outputs": [
    {
     "data": {
      "text/plain": [
       "0    0.241147\n",
       "1    0.581531\n",
       "Name: IN_DISTORCAO, dtype: float64"
      ]
     },
     "execution_count": 399,
     "metadata": {},
     "output_type": "execute_result"
    }
   ],
   "source": [
    "ev/n"
   ]
  },
  {
   "cell_type": "markdown",
   "metadata": {
    "hidden": true
   },
   "source": [
    "* Deficiência: apenas 0,5%"
   ]
  },
  {
   "cell_type": "code",
   "execution_count": 277,
   "metadata": {
    "hidden": true
   },
   "outputs": [
    {
     "data": {
      "text/plain": [
       "0    0.994728\n",
       "1    0.005272\n",
       "Name: IN_NECESSIDADE_ESPECIAL, dtype: float64"
      ]
     },
     "execution_count": 277,
     "metadata": {},
     "output_type": "execute_result"
    }
   ],
   "source": [
    "alunos_rj_16['IN_NECESSIDADE_ESPECIAL'].value_counts(normalize=True) # Quase ninguém com necessidade especial"
   ]
  },
  {
   "cell_type": "code",
   "execution_count": 278,
   "metadata": {
    "hidden": true
   },
   "outputs": [
    {
     "data": {
      "text/plain": [
       "1.0"
      ]
     },
     "execution_count": 278,
     "metadata": {},
     "output_type": "execute_result"
    }
   ],
   "source": [
    "# Percentual de preenchimento\n",
    "n = len(alunos_rj_16[alunos_rj_16['IN_NECESSIDADE_ESPECIAL'].isnull() == False])\n",
    "n/len(alunos_rj_16)"
   ]
  },
  {
   "cell_type": "markdown",
   "metadata": {
    "heading_collapsed": true,
    "hidden": true
   },
   "source": [
    "#### Transporte"
   ]
  },
  {
   "cell_type": "markdown",
   "metadata": {
    "hidden": true
   },
   "source": [
    "Tudo preenchido!! 2/3 utiliza transporte público"
   ]
  },
  {
   "cell_type": "code",
   "execution_count": 400,
   "metadata": {
    "hidden": true
   },
   "outputs": [
    {
     "data": {
      "text/plain": [
       "1.0"
      ]
     },
     "execution_count": 400,
     "metadata": {},
     "output_type": "execute_result"
    }
   ],
   "source": [
    "# Percentual de preenchimento\n",
    "n = len(alunos_rj_16[alunos_rj_16['IN_TRANSPORTE_PUBLICO'].isnull() == False])\n",
    "n/len(alunos_rj_16)"
   ]
  },
  {
   "cell_type": "code",
   "execution_count": 405,
   "metadata": {
    "hidden": true
   },
   "outputs": [
    {
     "data": {
      "text/plain": [
       "1    121962\n",
       "0     60876\n",
       "Name: IN_TRANSPORTE_PUBLICO, dtype: int64"
      ]
     },
     "execution_count": 405,
     "metadata": {},
     "output_type": "execute_result"
    }
   ],
   "source": [
    "n = alunos_rj_16['IN_TRANSPORTE_PUBLICO'].value_counts() # Já tem uma variação mais razoável: 2/3 utiliza\n",
    "n"
   ]
  },
  {
   "cell_type": "code",
   "execution_count": 406,
   "metadata": {
    "hidden": true
   },
   "outputs": [
    {
     "data": {
      "text/plain": [
       "1    0.66705\n",
       "0    0.33295\n",
       "Name: IN_TRANSPORTE_PUBLICO, dtype: float64"
      ]
     },
     "execution_count": 406,
     "metadata": {},
     "output_type": "execute_result"
    }
   ],
   "source": [
    "alunos_rj_16['IN_TRANSPORTE_PUBLICO'].value_counts(normalize=True)"
   ]
  },
  {
   "cell_type": "code",
   "execution_count": 409,
   "metadata": {
    "hidden": true
   },
   "outputs": [
    {
     "data": {
      "text/plain": [
       "1    38918\n",
       "0    25442\n",
       "Name: IN_TRANSPORTE_PUBLICO, dtype: int64"
      ]
     },
     "execution_count": 409,
     "metadata": {},
     "output_type": "execute_result"
    }
   ],
   "source": [
    "# Evadidos: maior percentual dentre os que não utilizam transporte público\n",
    "ev = alunos_rj_16[alunos_rj_16['IN_EVASAO'] == 1]['IN_TRANSPORTE_PUBLICO'].value_counts()\n",
    "ev"
   ]
  },
  {
   "cell_type": "code",
   "execution_count": 410,
   "metadata": {
    "hidden": true
   },
   "outputs": [
    {
     "data": {
      "text/plain": [
       "1    0.319099\n",
       "0    0.417932\n",
       "Name: IN_TRANSPORTE_PUBLICO, dtype: float64"
      ]
     },
     "execution_count": 410,
     "metadata": {},
     "output_type": "execute_result"
    }
   ],
   "source": [
    "ev/n"
   ]
  },
  {
   "cell_type": "markdown",
   "metadata": {
    "heading_collapsed": true,
    "hidden": true
   },
   "source": [
    "#### Localização"
   ]
  },
  {
   "cell_type": "markdown",
   "metadata": {
    "hidden": true
   },
   "source": [
    "* Tipo: menos de 4% rural"
   ]
  },
  {
   "cell_type": "code",
   "execution_count": 234,
   "metadata": {
    "hidden": true
   },
   "outputs": [
    {
     "data": {
      "text/plain": [
       "1    176989\n",
       "2      5849\n",
       "Name: TP_LOCALIZACAO, dtype: int64"
      ]
     },
     "execution_count": 234,
     "metadata": {},
     "output_type": "execute_result"
    }
   ],
   "source": [
    "alunos_rj_16['TP_LOCALIZACAO'].value_counts() # Maioria urbana: 96% !!"
   ]
  },
  {
   "cell_type": "code",
   "execution_count": 235,
   "metadata": {
    "hidden": true
   },
   "outputs": [
    {
     "data": {
      "text/plain": [
       "1    0.96801\n",
       "2    0.03199\n",
       "Name: TP_LOCALIZACAO, dtype: float64"
      ]
     },
     "execution_count": 235,
     "metadata": {},
     "output_type": "execute_result"
    }
   ],
   "source": [
    "alunos_rj_16['TP_LOCALIZACAO'].value_counts(normalize=True)"
   ]
  },
  {
   "cell_type": "markdown",
   "metadata": {
    "hidden": true
   },
   "source": [
    "* Escola: 37% no Rio, resto espalhado"
   ]
  },
  {
   "cell_type": "code",
   "execution_count": 365,
   "metadata": {
    "collapsed": true,
    "hidden": true
   },
   "outputs": [
    {
     "data": {
      "text/plain": [
       "3304557    0.376027\n",
       "3301702    0.065774\n",
       "3303500    0.057417\n",
       "3304904    0.046801\n",
       "3305109    0.035288\n",
       "3300456    0.028178\n",
       "3301009    0.027347\n",
       "3303302    0.027128\n",
       "3302502    0.018629\n",
       "3303906    0.016178\n",
       "3306305    0.015484\n",
       "3301900    0.014833\n",
       "3303203    0.014390\n",
       "3302403    0.013690\n",
       "3304144    0.013449\n",
       "3300100    0.011682\n",
       "3305802    0.011196\n",
       "3300407    0.010200\n",
       "3302858    0.010096\n",
       "3303401    0.009150\n",
       "3302007    0.009134\n",
       "3300704    0.008751\n",
       "3304201    0.008439\n",
       "3304524    0.007641\n",
       "3302700    0.007559\n",
       "3300209    0.006684\n",
       "3302270    0.006158\n",
       "3305554    0.005650\n",
       "3302205    0.005546\n",
       "3305208    0.005535\n",
       "             ...   \n",
       "3304409    0.001340\n",
       "3302254    0.001252\n",
       "3301504    0.001220\n",
       "3301108    0.001187\n",
       "3301207    0.001143\n",
       "3303104    0.001132\n",
       "3305158    0.001072\n",
       "3304102    0.001034\n",
       "3304110    0.000870\n",
       "3303955    0.000870\n",
       "3300936    0.000826\n",
       "3301603    0.000826\n",
       "3300258    0.000788\n",
       "3302056    0.000755\n",
       "3305703    0.000738\n",
       "3301157    0.000678\n",
       "3304128    0.000629\n",
       "3300902    0.000607\n",
       "3306156    0.000607\n",
       "3300225    0.000585\n",
       "3304607    0.000569\n",
       "3302304    0.000520\n",
       "3304508    0.000509\n",
       "3302809    0.000481\n",
       "3300159    0.000476\n",
       "3302452    0.000470\n",
       "3305307    0.000443\n",
       "3300951    0.000427\n",
       "3305901    0.000356\n",
       "3305133    0.000323\n",
       "Name: CO_MUNICIPIO, Length: 92, dtype: float64"
      ]
     },
     "execution_count": 365,
     "metadata": {},
     "output_type": "execute_result"
    }
   ],
   "source": [
    "alunos_rj_16['CO_MUNICIPIO'].value_counts(normalize=True) # 37% dos alunos estudam no Rio"
   ]
  },
  {
   "cell_type": "code",
   "execution_count": 366,
   "metadata": {
    "hidden": true
   },
   "outputs": [
    {
     "data": {
      "text/plain": [
       "92"
      ]
     },
     "execution_count": 366,
     "metadata": {},
     "output_type": "execute_result"
    }
   ],
   "source": [
    "len(alunos_rj_16['CO_MUNICIPIO'].unique())"
   ]
  },
  {
   "cell_type": "code",
   "execution_count": 367,
   "metadata": {
    "hidden": true
   },
   "outputs": [
    {
     "data": {
      "text/plain": [
       "1.0"
      ]
     },
     "execution_count": 367,
     "metadata": {},
     "output_type": "execute_result"
    }
   ],
   "source": [
    "# Percentual de preenchimento\n",
    "n = len(alunos_rj_16[alunos_rj_16['CO_MUNICIPIO'].isnull() == False])\n",
    "n/len(alunos_rj_16)"
   ]
  },
  {
   "cell_type": "code",
   "execution_count": 368,
   "metadata": {
    "hidden": true
   },
   "outputs": [],
   "source": [
    "# Região metropolitana (sem Rio)\n",
    "\"\"\"\n",
    "São Gonçalo, Duque de Caxias, Nova Iguaçu, Niterói, Belford Roxo, São João de Meriti, Petrópolis, Magé, \n",
    "Itaboraí, Mesquita, Nilópolis, Maricá, Queimados, Itaguaí, Japeri, Seropédica, Rio Bonito, Guapimirim, \n",
    "Cachoeiras de Macacu, Paracambi Tanguá\n",
    "\"\"\"\n",
    "\n",
    "regioes = [3304904, 3301702, 3303500, 3303302, 3300456, 3305109, \n",
    "          3303906, 3302502, 3301900, 3302858, 3303203, 3302700, \n",
    "          3304144, 3302007, 3302270, 3305554, 3304300, 3301850, \n",
    "          3300803, 3303609, 3305752]"
   ]
  },
  {
   "cell_type": "code",
   "execution_count": 369,
   "metadata": {
    "hidden": true
   },
   "outputs": [],
   "source": [
    "# 0: Rio, 1: Grande Rio, 2: Outras regiões no estado\n",
    "alunos_rj_16['IN_LOCAL_ESCOLA'] = np.where(alunos_rj_16['CO_MUNICIPIO'] == 3304557, 0, \n",
    "                                           (np.where(alunos_rj_16['CO_MUNICIPIO'].isin(regioes), 1, 2)))"
   ]
  },
  {
   "cell_type": "code",
   "execution_count": 411,
   "metadata": {
    "hidden": true
   },
   "outputs": [
    {
     "data": {
      "text/plain": [
       "1    71725\n",
       "0    68752\n",
       "2    42361\n",
       "Name: IN_LOCAL_ESCOLA, dtype: int64"
      ]
     },
     "execution_count": 411,
     "metadata": {},
     "output_type": "execute_result"
    }
   ],
   "source": [
    "n = alunos_rj_16['IN_LOCAL_ESCOLA'].value_counts()\n",
    "n"
   ]
  },
  {
   "cell_type": "code",
   "execution_count": 412,
   "metadata": {
    "hidden": true
   },
   "outputs": [
    {
     "data": {
      "text/plain": [
       "0    27670\n",
       "1    22731\n",
       "2    13959\n",
       "Name: IN_LOCAL_ESCOLA, dtype: int64"
      ]
     },
     "execution_count": 412,
     "metadata": {},
     "output_type": "execute_result"
    }
   ],
   "source": [
    "# Evadidos: maior percentual de quem é do Rio, muito próximo em valores absolutos do Grande Rio\n",
    "ev = alunos_rj_16[alunos_rj_16['IN_EVASAO'] == 1]['IN_LOCAL_ESCOLA'].value_counts()\n",
    "ev"
   ]
  },
  {
   "cell_type": "code",
   "execution_count": 413,
   "metadata": {
    "hidden": true
   },
   "outputs": [
    {
     "data": {
      "text/plain": [
       "0    0.402461\n",
       "1    0.316919\n",
       "2    0.329525\n",
       "Name: IN_LOCAL_ESCOLA, dtype: float64"
      ]
     },
     "execution_count": 413,
     "metadata": {},
     "output_type": "execute_result"
    }
   ],
   "source": [
    "ev/n"
   ]
  },
  {
   "cell_type": "code",
   "execution_count": 341,
   "metadata": {
    "hidden": true
   },
   "outputs": [],
   "source": [
    "# alunos_rj_16['IN_ESCOLA_RIO'] = np.where(alunos_rj_16['CO_MUNICIPIO'] == 3304557, 1, 0)\n",
    "\n",
    "# # Evadidos: maior percentual de quem não é do Rio\n",
    "# alunos_rj_16[alunos_rj_16['IN_EVASAO'] == 1]['IN_ESCOLA_RIO'].value_counts(normalize=True)\n",
    "\n",
    "# # Não evadidos\n",
    "# alunos_rj_16[alunos_rj_16['IN_EVASAO'] == 0]['IN_ESCOLA_RIO'].value_counts(normalize=True)"
   ]
  },
  {
   "cell_type": "markdown",
   "metadata": {
    "hidden": true
   },
   "source": [
    "* Residência: 30% no Rio, mas só é respondido por 6% :("
   ]
  },
  {
   "cell_type": "code",
   "execution_count": 241,
   "metadata": {
    "collapsed": true,
    "hidden": true
   },
   "outputs": [
    {
     "data": {
      "text/plain": [
       "3304557.0    0.309209\n",
       "3301702.0    0.092517\n",
       "3303500.0    0.065515\n",
       "3304904.0    0.032842\n",
       "3303906.0    0.027087\n",
       "3302403.0    0.025478\n",
       "3300803.0    0.024632\n",
       "3304151.0    0.024378\n",
       "3303302.0    0.022685\n",
       "3300456.0    0.022008\n",
       "3305109.0    0.021754\n",
       "3301009.0    0.020146\n",
       "3301900.0    0.018876\n",
       "3306008.0    0.017522\n",
       "3303203.0    0.016590\n",
       "3300407.0    0.012866\n",
       "3302205.0    0.011850\n",
       "3305208.0    0.011596\n",
       "3303401.0    0.010835\n",
       "3301157.0    0.010665\n",
       "3304706.0    0.009480\n",
       "3304607.0    0.008803\n",
       "3300704.0    0.008041\n",
       "3306305.0    0.007618\n",
       "3304755.0    0.007449\n",
       "3303609.0    0.007279\n",
       "3300209.0    0.007195\n",
       "3304805.0    0.007026\n",
       "3305406.0    0.006772\n",
       "3304144.0    0.006687\n",
       "               ...   \n",
       "2803005.0    0.000085\n",
       "3143906.0    0.000085\n",
       "2601607.0    0.000085\n",
       "3304508.0    0.000085\n",
       "3305133.0    0.000085\n",
       "2304400.0    0.000085\n",
       "2304657.0    0.000085\n",
       "2311959.0    0.000085\n",
       "2312908.0    0.000085\n",
       "1721000.0    0.000085\n",
       "3513009.0    0.000085\n",
       "2506301.0    0.000085\n",
       "2509107.0    0.000085\n",
       "5103403.0    0.000085\n",
       "2601102.0    0.000085\n",
       "5208004.0    0.000085\n",
       "2801207.0    0.000085\n",
       "2607604.0    0.000085\n",
       "5215231.0    0.000085\n",
       "2607901.0    0.000085\n",
       "5217609.0    0.000085\n",
       "2611606.0    0.000085\n",
       "2615300.0    0.000085\n",
       "2616506.0    0.000085\n",
       "5300108.0    0.000085\n",
       "2704302.0    0.000085\n",
       "2706703.0    0.000085\n",
       "2707305.0    0.000085\n",
       "1400100.0    0.000085\n",
       "3145851.0    0.000085\n",
       "Name: CO_MUNICIPIO_END, Length: 190, dtype: float64"
      ]
     },
     "execution_count": 241,
     "metadata": {},
     "output_type": "execute_result"
    }
   ],
   "source": [
    "alunos_rj_16['CO_MUNICIPIO_END'].value_counts(normalize=True) # 30% dos alunos moram no Rio"
   ]
  },
  {
   "cell_type": "code",
   "execution_count": 263,
   "metadata": {
    "hidden": true
   },
   "outputs": [
    {
     "data": {
      "text/plain": [
       "0.06461457683851278"
      ]
     },
     "execution_count": 263,
     "metadata": {},
     "output_type": "execute_result"
    }
   ],
   "source": [
    "n = len(alunos_rj_16[alunos_rj_16['CO_MUNICIPIO_END'].isnull() == False]) # Mas são somente 6% que responderam!\n",
    "n/len(alunos_rj_16)"
   ]
  },
  {
   "cell_type": "markdown",
   "metadata": {
    "heading_collapsed": true,
    "hidden": true
   },
   "source": [
    "#### Dados da turma\n",
    "- 70% entre 20 e 40 alunos"
   ]
  },
  {
   "cell_type": "code",
   "execution_count": 303,
   "metadata": {
    "hidden": true
   },
   "outputs": [
    {
     "data": {
      "text/plain": [
       "1.0"
      ]
     },
     "execution_count": 303,
     "metadata": {},
     "output_type": "execute_result"
    }
   ],
   "source": [
    "# Percentual de preenchimento\n",
    "n = len(alunos_rj_16[alunos_rj_16['ID_TURMA'].isnull() == False])\n",
    "n/len(alunos_rj_16)"
   ]
  },
  {
   "cell_type": "code",
   "execution_count": 438,
   "metadata": {
    "hidden": true,
    "scrolled": true
   },
   "outputs": [
    {
     "data": {
      "text/plain": [
       "5851"
      ]
     },
     "execution_count": 438,
     "metadata": {},
     "output_type": "execute_result"
    }
   ],
   "source": [
    "n_alunos_turma = alunos_rj_16[['ID_TURMA', 'ID']].groupby('ID_TURMA').count().rename({'ID': 'N_ALUNOS_TURMA'}, axis=1)\n",
    "len(n_alunos_turma)"
   ]
  },
  {
   "cell_type": "code",
   "execution_count": 439,
   "metadata": {
    "hidden": true
   },
   "outputs": [],
   "source": [
    "alunos_rj_16['N_ALUNOS_TURMA'] = alunos_rj_16['ID_TURMA'].map(n_alunos_turma['N_ALUNOS_TURMA'])"
   ]
  },
  {
   "cell_type": "code",
   "execution_count": 428,
   "metadata": {
    "hidden": true
   },
   "outputs": [
    {
     "data": {
      "text/plain": [
       "31.249017262006493"
      ]
     },
     "execution_count": 428,
     "metadata": {},
     "output_type": "execute_result"
    }
   ],
   "source": [
    "len(alunos_rj_16)/5851 # Média de alunos pelo total de turmas"
   ]
  },
  {
   "cell_type": "code",
   "execution_count": 430,
   "metadata": {
    "hidden": true,
    "scrolled": true
   },
   "outputs": [
    {
     "data": {
      "text/plain": [
       "33    286\n",
       "35    282\n",
       "32    277\n",
       "34    268\n",
       "29    266\n",
       "36    265\n",
       "31    251\n",
       "37    250\n",
       "38    250\n",
       "30    242\n",
       "Name: N_ALUNOS_TURMA, dtype: int64"
      ]
     },
     "execution_count": 430,
     "metadata": {},
     "output_type": "execute_result"
    }
   ],
   "source": [
    "n_alunos_turma['N_ALUNOS_TURMA'].value_counts()[:10]"
   ]
  },
  {
   "cell_type": "code",
   "execution_count": 444,
   "metadata": {
    "hidden": true,
    "scrolled": true
   },
   "outputs": [
    {
     "data": {
      "text/plain": [
       "(30.0, 40.0]    0.426936\n",
       "(20.0, 30.0]    0.327978\n",
       "(40.0, 50.0]    0.133481\n",
       "(10.0, 20.0]    0.096223\n",
       "(-inf, 10.0]    0.014527\n",
       "(50.0, inf]     0.000855\n",
       "Name: N_ALUNOS_TURMA, dtype: float64"
      ]
     },
     "execution_count": 444,
     "metadata": {},
     "output_type": "execute_result"
    }
   ],
   "source": [
    "# Distribuição geral\n",
    "bins_turma = pd.cut(n_alunos_turma['N_ALUNOS_TURMA'], [-np.inf, 10, 20, 30, 40, 50, np.inf])\n",
    "bins_turma.value_counts(normalize=True)"
   ]
  },
  {
   "cell_type": "code",
   "execution_count": 440,
   "metadata": {
    "hidden": true
   },
   "outputs": [],
   "source": [
    "alunos_rj_16['N_ALUNOS_TURMA_BIN'] = pd.cut(alunos_rj_16['N_ALUNOS_TURMA'], [-np.inf, 10, 20, 30, 40, 50, np.inf])"
   ]
  },
  {
   "cell_type": "code",
   "execution_count": 445,
   "metadata": {
    "hidden": true
   },
   "outputs": [
    {
     "data": {
      "text/plain": [
       "(30.0, 40.0]    0.475497\n",
       "(20.0, 30.0]    0.269111\n",
       "(40.0, 50.0]    0.198602\n",
       "(10.0, 20.0]    0.050186\n",
       "(-inf, 10.0]    0.004848\n",
       "(50.0, inf]     0.001756\n",
       "Name: N_ALUNOS_TURMA_BIN, dtype: float64"
      ]
     },
     "execution_count": 445,
     "metadata": {},
     "output_type": "execute_result"
    }
   ],
   "source": [
    "# Evadidos: 47% dos jovens evadidos são de turmas de 30-40 alunos\n",
    "alunos_rj_16[alunos_rj_16['IN_EVASAO'] == 1]['N_ALUNOS_TURMA_BIN'].value_counts(normalize=True)"
   ]
  },
  {
   "cell_type": "code",
   "execution_count": 454,
   "metadata": {
    "hidden": true
   },
   "outputs": [
    {
     "data": {
      "text/plain": [
       "2    0.480890\n",
       "0    0.275118\n",
       "3    0.187067\n",
       "1    0.051816\n",
       "4    0.003686\n",
       "5    0.001422\n",
       "Name: N_TURMA, dtype: float64"
      ]
     },
     "execution_count": 454,
     "metadata": {},
     "output_type": "execute_result"
    }
   ],
   "source": [
    "# Criando as categorias\n",
    "alunos_rj_16['N_TURMA'], n_turma_categorias = pd.factorize(alunos_rj_16['N_ALUNOS_TURMA_BIN'])\n",
    "alunos_rj_16['N_TURMA'].value_counts(normalize=True)"
   ]
  },
  {
   "cell_type": "code",
   "execution_count": 455,
   "metadata": {
    "hidden": true
   },
   "outputs": [
    {
     "data": {
      "text/plain": [
       "(30.0, 40.0]    0.480890\n",
       "(20.0, 30.0]    0.275118\n",
       "(40.0, 50.0]    0.187067\n",
       "(10.0, 20.0]    0.051816\n",
       "(-inf, 10.0]    0.003686\n",
       "(50.0, inf]     0.001422\n",
       "Name: N_ALUNOS_TURMA_BIN, dtype: float64"
      ]
     },
     "execution_count": 455,
     "metadata": {},
     "output_type": "execute_result"
    }
   ],
   "source": [
    "# Checando distribuição\n",
    "alunos_rj_16['N_ALUNOS_TURMA_BIN'].value_counts(normalize=True)"
   ]
  },
  {
   "cell_type": "markdown",
   "metadata": {},
   "source": [
    "### Filtragem das variáveis"
   ]
  },
  {
   "cell_type": "code",
   "execution_count": 456,
   "metadata": {},
   "outputs": [],
   "source": [
    "cols = ['ID', 'CO_ENTIDADE', 'TP_SEXO', 'NU_IDADE', 'IN_DISTORCAO', \n",
    "        'IN_TRANSPORTE_PUBLICO', 'IN_LOCAL_ESCOLA', 'N_TURMA', 'IN_EVASAO']"
   ]
  },
  {
   "cell_type": "code",
   "execution_count": 457,
   "metadata": {},
   "outputs": [],
   "source": [
    "df_rj_16 = alunos_rj_16[cols]"
   ]
  },
  {
   "cell_type": "markdown",
   "metadata": {},
   "source": [
    "### Infos das escolas: Censo 2017"
   ]
  },
  {
   "cell_type": "code",
   "execution_count": 458,
   "metadata": {},
   "outputs": [
    {
     "data": {
      "text/plain": [
       "1097"
      ]
     },
     "execution_count": 458,
     "metadata": {},
     "output_type": "execute_result"
    }
   ],
   "source": [
    "# Total de escolas em 2016\n",
    "len(df_rj_16['CO_ENTIDADE'].unique())"
   ]
  },
  {
   "cell_type": "code",
   "execution_count": 462,
   "metadata": {
    "scrolled": false
   },
   "outputs": [
    {
     "name": "stdout",
     "output_type": "stream",
     "text": [
      "<class 'pandas.core.frame.DataFrame'>\n",
      "RangeIndex: 1689 entries, 0 to 1688\n",
      "Data columns (total 18 columns):\n",
      "NU_ANO_CENSO                  1689 non-null int64\n",
      "CO_ENTIDADE                   1689 non-null int64\n",
      "CO_MUNICIPIO                  1689 non-null int64\n",
      "IN_AGUA_FILTRADA              1324 non-null float64\n",
      "IN_AGUA_INEXISTENTE           1324 non-null float64\n",
      "IN_ENERGIA_INEXISTENTE        1324 non-null float64\n",
      "IN_LIXO_COLETA_PERIODICA      1324 non-null float64\n",
      "IN_LABORATORIO_INFORMATICA    1324 non-null float64\n",
      "IN_LABORATORIO_CIENCIAS       1324 non-null float64\n",
      "IN_QUADRA_ESPORTES            1324 non-null float64\n",
      "IN_COZINHA                    1324 non-null float64\n",
      "IN_REFEITORIO                 1324 non-null float64\n",
      "IN_BIBLIOTECA                 1324 non-null float64\n",
      "IN_BANHEIRO_FORA_PREDIO       1324 non-null float64\n",
      "IN_BANHEIRO_DENTRO_PREDIO     1324 non-null float64\n",
      "IN_AREA_VERDE                 1324 non-null float64\n",
      "NU_COMP_ALUNO                 1324 non-null float64\n",
      "IN_ALIMENTACAO                1324 non-null float64\n",
      "dtypes: float64(15), int64(3)\n",
      "memory usage: 237.6 KB\n"
     ]
    }
   ],
   "source": [
    "escolas_rj_16 = pd.read_csv(TREAT_PATH / 'censo' / 'cleaned_escolas_rj_2016.csv')\n",
    "escolas_rj_16 = escolas_rj_16.drop('Unnamed: 0', axis=1)\n",
    "escolas_rj_16.info()"
   ]
  },
  {
   "cell_type": "code",
   "execution_count": 464,
   "metadata": {
    "scrolled": true
   },
   "outputs": [
    {
     "data": {
      "text/html": [
       "<div>\n",
       "<style scoped>\n",
       "    .dataframe tbody tr th:only-of-type {\n",
       "        vertical-align: middle;\n",
       "    }\n",
       "\n",
       "    .dataframe tbody tr th {\n",
       "        vertical-align: top;\n",
       "    }\n",
       "\n",
       "    .dataframe thead th {\n",
       "        text-align: right;\n",
       "    }\n",
       "</style>\n",
       "<table border=\"1\" class=\"dataframe\">\n",
       "  <thead>\n",
       "    <tr style=\"text-align: right;\">\n",
       "      <th></th>\n",
       "      <th>Unnamed: 0</th>\n",
       "      <th>NU_ANO_CENSO</th>\n",
       "      <th>ID_MATRICULA</th>\n",
       "      <th>NU_DIA</th>\n",
       "      <th>NU_MES</th>\n",
       "      <th>NU_ANO</th>\n",
       "      <th>NU_IDADE_REFERENCIA</th>\n",
       "      <th>NU_IDADE</th>\n",
       "      <th>NU_DURACAO_TURMA</th>\n",
       "      <th>NU_DUR_ATIV_COMP_MESMA_REDE</th>\n",
       "      <th>NU_DUR_ATIV_COMP_OUTRAS_REDES</th>\n",
       "      <th>NU_DUR_AEE_MESMA_REDE</th>\n",
       "      <th>NU_DUR_AEE_OUTRAS_REDES</th>\n",
       "      <th>NU_DIAS_ATIVIDADE</th>\n",
       "      <th>TP_SEXO</th>\n",
       "      <th>TP_COR_RACA</th>\n",
       "      <th>TP_NACIONALIDADE</th>\n",
       "      <th>CO_PAIS_ORIGEM</th>\n",
       "      <th>CO_UF_NASC</th>\n",
       "      <th>CO_MUNICIPIO_NASC</th>\n",
       "      <th>CO_UF_END</th>\n",
       "      <th>CO_MUNICIPIO_END</th>\n",
       "      <th>TP_ZONA_RESIDENCIAL</th>\n",
       "      <th>TP_OUTRO_LOCAL_AULA</th>\n",
       "      <th>IN_TRANSPORTE_PUBLICO</th>\n",
       "      <th>TP_RESPONSAVEL_TRANSPORTE</th>\n",
       "      <th>IN_TRANSP_VANS_KOMBI</th>\n",
       "      <th>IN_TRANSP_MICRO_ONIBUS</th>\n",
       "      <th>IN_TRANSP_ONIBUS</th>\n",
       "      <th>IN_TRANSP_BICICLETA</th>\n",
       "      <th>IN_TRANSP_TR_ANIMAL</th>\n",
       "      <th>IN_TRANSP_OUTRO_VEICULO</th>\n",
       "      <th>IN_TRANSP_EMBAR_ATE5</th>\n",
       "      <th>IN_TRANSP_EMBAR_5A15</th>\n",
       "      <th>IN_TRANSP_EMBAR_15A35</th>\n",
       "      <th>IN_TRANSP_EMBAR_35</th>\n",
       "      <th>IN_TRANSP_TREM_METRO</th>\n",
       "      <th>IN_NECESSIDADE_ESPECIAL</th>\n",
       "      <th>IN_CEGUEIRA</th>\n",
       "      <th>IN_BAIXA_VISAO</th>\n",
       "      <th>IN_SURDEZ</th>\n",
       "      <th>IN_DEF_AUDITIVA</th>\n",
       "      <th>IN_SURDOCEGUEIRA</th>\n",
       "      <th>IN_DEF_FISICA</th>\n",
       "      <th>IN_DEF_INTELECTUAL</th>\n",
       "      <th>IN_DEF_MULTIPLA</th>\n",
       "      <th>IN_AUTISMO</th>\n",
       "      <th>IN_SINDROME_ASPERGER</th>\n",
       "      <th>IN_SINDROME_RETT</th>\n",
       "      <th>IN_TRANSTORNO_DI</th>\n",
       "      <th>IN_SUPERDOTACAO</th>\n",
       "      <th>IN_RECURSO_LEDOR</th>\n",
       "      <th>IN_RECURSO_TRANSCRICAO</th>\n",
       "      <th>IN_RECURSO_INTERPRETE</th>\n",
       "      <th>IN_RECURSO_LIBRAS</th>\n",
       "      <th>IN_RECURSO_LABIAL</th>\n",
       "      <th>IN_RECURSO_BRAILLE</th>\n",
       "      <th>IN_RECURSO_AMPLIADA_16</th>\n",
       "      <th>IN_RECURSO_AMPLIADA_20</th>\n",
       "      <th>IN_RECURSO_AMPLIADA_24</th>\n",
       "      <th>IN_RECURSO_NENHUM</th>\n",
       "      <th>TP_INGRESSO_FEDERAIS</th>\n",
       "      <th>TP_MEDIACAO_DIDATICO_PEDAGO</th>\n",
       "      <th>IN_ESPECIAL_EXCLUSIVA</th>\n",
       "      <th>IN_REGULAR</th>\n",
       "      <th>IN_EJA</th>\n",
       "      <th>IN_PROFISSIONALIZANTE</th>\n",
       "      <th>TP_ETAPA_ENSINO</th>\n",
       "      <th>ID_TURMA</th>\n",
       "      <th>CO_CURSO_EDUC_PROFISSIONAL</th>\n",
       "      <th>TP_UNIFICADA</th>\n",
       "      <th>TP_TIPO_TURMA</th>\n",
       "      <th>CO_ENTIDADE</th>\n",
       "      <th>CO_REGIAO</th>\n",
       "      <th>CO_MESORREGIAO</th>\n",
       "      <th>CO_MICRORREGIAO</th>\n",
       "      <th>CO_UF</th>\n",
       "      <th>CO_MUNICIPIO</th>\n",
       "      <th>CO_DISTRITO</th>\n",
       "      <th>TP_DEPENDENCIA</th>\n",
       "      <th>TP_LOCALIZACAO</th>\n",
       "      <th>TP_CATEGORIA_ESCOLA_PRIVADA</th>\n",
       "      <th>IN_CONVENIADA_PP</th>\n",
       "      <th>TP_CONVENIO_PODER_PUBLICO</th>\n",
       "      <th>IN_MANT_ESCOLA_PRIVADA_EMP</th>\n",
       "      <th>IN_MANT_ESCOLA_PRIVADA_ONG</th>\n",
       "      <th>IN_MANT_ESCOLA_PRIVADA_SIND</th>\n",
       "      <th>IN_MANT_ESCOLA_PRIVADA_SIST_S</th>\n",
       "      <th>IN_MANT_ESCOLA_PRIVADA_S_FINS</th>\n",
       "      <th>TP_REGULAMENTACAO</th>\n",
       "      <th>TP_LOCALIZACAO_DIFERENCIADA</th>\n",
       "      <th>IN_EDUCACAO_INDIGENA</th>\n",
       "      <th>ID</th>\n",
       "      <th>IN_EVASAO</th>\n",
       "      <th>IN_DISTORCAO</th>\n",
       "      <th>IN_ESCOLA_RIO</th>\n",
       "      <th>IN_LOCAL_ESCOLA</th>\n",
       "      <th>N_ALUNOS_TURMA</th>\n",
       "      <th>N_ALUNOS_TURMA_BIN</th>\n",
       "      <th>N_TURMA</th>\n",
       "    </tr>\n",
       "  </thead>\n",
       "  <tbody>\n",
       "  </tbody>\n",
       "</table>\n",
       "</div>"
      ],
      "text/plain": [
       "Empty DataFrame\n",
       "Columns: [Unnamed: 0, NU_ANO_CENSO, ID_MATRICULA, NU_DIA, NU_MES, NU_ANO, NU_IDADE_REFERENCIA, NU_IDADE, NU_DURACAO_TURMA, NU_DUR_ATIV_COMP_MESMA_REDE, NU_DUR_ATIV_COMP_OUTRAS_REDES, NU_DUR_AEE_MESMA_REDE, NU_DUR_AEE_OUTRAS_REDES, NU_DIAS_ATIVIDADE, TP_SEXO, TP_COR_RACA, TP_NACIONALIDADE, CO_PAIS_ORIGEM, CO_UF_NASC, CO_MUNICIPIO_NASC, CO_UF_END, CO_MUNICIPIO_END, TP_ZONA_RESIDENCIAL, TP_OUTRO_LOCAL_AULA, IN_TRANSPORTE_PUBLICO, TP_RESPONSAVEL_TRANSPORTE, IN_TRANSP_VANS_KOMBI, IN_TRANSP_MICRO_ONIBUS, IN_TRANSP_ONIBUS, IN_TRANSP_BICICLETA, IN_TRANSP_TR_ANIMAL, IN_TRANSP_OUTRO_VEICULO, IN_TRANSP_EMBAR_ATE5, IN_TRANSP_EMBAR_5A15, IN_TRANSP_EMBAR_15A35, IN_TRANSP_EMBAR_35, IN_TRANSP_TREM_METRO, IN_NECESSIDADE_ESPECIAL, IN_CEGUEIRA, IN_BAIXA_VISAO, IN_SURDEZ, IN_DEF_AUDITIVA, IN_SURDOCEGUEIRA, IN_DEF_FISICA, IN_DEF_INTELECTUAL, IN_DEF_MULTIPLA, IN_AUTISMO, IN_SINDROME_ASPERGER, IN_SINDROME_RETT, IN_TRANSTORNO_DI, IN_SUPERDOTACAO, IN_RECURSO_LEDOR, IN_RECURSO_TRANSCRICAO, IN_RECURSO_INTERPRETE, IN_RECURSO_LIBRAS, IN_RECURSO_LABIAL, IN_RECURSO_BRAILLE, IN_RECURSO_AMPLIADA_16, IN_RECURSO_AMPLIADA_20, IN_RECURSO_AMPLIADA_24, IN_RECURSO_NENHUM, TP_INGRESSO_FEDERAIS, TP_MEDIACAO_DIDATICO_PEDAGO, IN_ESPECIAL_EXCLUSIVA, IN_REGULAR, IN_EJA, IN_PROFISSIONALIZANTE, TP_ETAPA_ENSINO, ID_TURMA, CO_CURSO_EDUC_PROFISSIONAL, TP_UNIFICADA, TP_TIPO_TURMA, CO_ENTIDADE, CO_REGIAO, CO_MESORREGIAO, CO_MICRORREGIAO, CO_UF, CO_MUNICIPIO, CO_DISTRITO, TP_DEPENDENCIA, TP_LOCALIZACAO, TP_CATEGORIA_ESCOLA_PRIVADA, IN_CONVENIADA_PP, TP_CONVENIO_PODER_PUBLICO, IN_MANT_ESCOLA_PRIVADA_EMP, IN_MANT_ESCOLA_PRIVADA_ONG, IN_MANT_ESCOLA_PRIVADA_SIND, IN_MANT_ESCOLA_PRIVADA_SIST_S, IN_MANT_ESCOLA_PRIVADA_S_FINS, TP_REGULAMENTACAO, TP_LOCALIZACAO_DIFERENCIADA, IN_EDUCACAO_INDIGENA, ID, IN_EVASAO, IN_DISTORCAO, IN_ESCOLA_RIO, IN_LOCAL_ESCOLA, N_ALUNOS_TURMA, N_ALUNOS_TURMA_BIN, N_TURMA]\n",
       "Index: []"
      ]
     },
     "execution_count": 464,
     "metadata": {},
     "output_type": "execute_result"
    }
   ],
   "source": [
    "# Todos os alunos estão em escolas que aparecem na base\n",
    "alunos_rj_16[alunos_rj_16['CO_ENTIDADE'].isin(escolas_rj_16['CO_ENTIDADE']) == False]"
   ]
  },
  {
   "cell_type": "code",
   "execution_count": 472,
   "metadata": {
    "collapsed": true
   },
   "outputs": [
    {
     "name": "stdout",
     "output_type": "stream",
     "text": [
      "<class 'pandas.core.frame.DataFrame'>\n",
      "Int64Index: 182838 entries, 0 to 182837\n",
      "Data columns (total 26 columns):\n",
      "ID                            182838 non-null int64\n",
      "CO_ENTIDADE                   182838 non-null int64\n",
      "TP_SEXO                       182838 non-null int64\n",
      "NU_IDADE                      182838 non-null int64\n",
      "IN_DISTORCAO                  182838 non-null int64\n",
      "IN_TRANSPORTE_PUBLICO         182838 non-null int64\n",
      "IN_LOCAL_ESCOLA               182838 non-null int64\n",
      "N_TURMA                       182838 non-null int64\n",
      "IN_EVASAO                     182838 non-null int64\n",
      "NU_ANO_CENSO                  182838 non-null int64\n",
      "CO_MUNICIPIO                  182838 non-null int64\n",
      "IN_AGUA_FILTRADA              182838 non-null float64\n",
      "IN_AGUA_INEXISTENTE           182838 non-null float64\n",
      "IN_ENERGIA_INEXISTENTE        182838 non-null float64\n",
      "IN_LIXO_COLETA_PERIODICA      182838 non-null float64\n",
      "IN_LABORATORIO_INFORMATICA    182838 non-null float64\n",
      "IN_LABORATORIO_CIENCIAS       182838 non-null float64\n",
      "IN_QUADRA_ESPORTES            182838 non-null float64\n",
      "IN_COZINHA                    182838 non-null float64\n",
      "IN_REFEITORIO                 182838 non-null float64\n",
      "IN_BIBLIOTECA                 182838 non-null float64\n",
      "IN_BANHEIRO_FORA_PREDIO       182838 non-null float64\n",
      "IN_BANHEIRO_DENTRO_PREDIO     182838 non-null float64\n",
      "IN_AREA_VERDE                 182838 non-null float64\n",
      "NU_COMP_ALUNO                 182838 non-null float64\n",
      "IN_ALIMENTACAO                182838 non-null float64\n",
      "dtypes: float64(15), int64(11)\n",
      "memory usage: 37.7 MB\n"
     ]
    }
   ],
   "source": [
    "df_rj_16 = df_rj_16.merge(escolas_rj_16, on='CO_ENTIDADE', how='left')\n",
    "df_rj_16.info()"
   ]
  },
  {
   "cell_type": "code",
   "execution_count": 493,
   "metadata": {
    "collapsed": true
   },
   "outputs": [
    {
     "data": {
      "text/plain": [
       "0.0      33627\n",
       "10.0     32613\n",
       "20.0      9566\n",
       "9.0       8680\n",
       "17.0      7388\n",
       "19.0      6961\n",
       "8.0       6913\n",
       "15.0      6822\n",
       "6.0       6747\n",
       "12.0      6502\n",
       "7.0       6409\n",
       "5.0       6239\n",
       "13.0      5360\n",
       "18.0      5024\n",
       "14.0      4510\n",
       "16.0      4206\n",
       "22.0      3433\n",
       "11.0      2651\n",
       "25.0      2626\n",
       "23.0      1792\n",
       "24.0      1474\n",
       "21.0      1464\n",
       "27.0      1387\n",
       "28.0      1190\n",
       "26.0      1057\n",
       "60.0       827\n",
       "1.0        732\n",
       "36.0       668\n",
       "30.0       655\n",
       "70.0       606\n",
       "4.0        572\n",
       "3.0        507\n",
       "29.0       504\n",
       "68.0       360\n",
       "50.0       351\n",
       "55.0       343\n",
       "32.0       316\n",
       "76.0       293\n",
       "31.0       249\n",
       "34.0       231\n",
       "281.0      219\n",
       "40.0       179\n",
       "72.0       166\n",
       "138.0      114\n",
       "67.0        88\n",
       "38.0        83\n",
       "49.0        72\n",
       "115.0       62\n",
       "Name: NU_COMP_ALUNO, dtype: int64"
      ]
     },
     "execution_count": 493,
     "metadata": {},
     "output_type": "execute_result"
    }
   ],
   "source": [
    "df_rj_16['NU_COMP_ALUNO'].value_counts()"
   ]
  },
  {
   "cell_type": "code",
   "execution_count": 506,
   "metadata": {},
   "outputs": [
    {
     "data": {
      "text/plain": [
       "(-inf, 15.0]    0.704908\n",
       "(15.0, inf]     0.295092\n",
       "Name: NU_COMP_ALUNO, dtype: float64"
      ]
     },
     "execution_count": 506,
     "metadata": {},
     "output_type": "execute_result"
    }
   ],
   "source": [
    "# Número médio por turma: 30 / 2 alunos por computador na aula = 15\n",
    "pd.cut(df_rj_16['NU_COMP_ALUNO'], [-np.inf, 15, np.inf]).value_counts(normalize=True)"
   ]
  },
  {
   "cell_type": "code",
   "execution_count": 508,
   "metadata": {},
   "outputs": [
    {
     "data": {
      "text/plain": [
       "0    0.704908\n",
       "1    0.295092\n",
       "Name: IN_N_COMP_15, dtype: float64"
      ]
     },
     "execution_count": 508,
     "metadata": {},
     "output_type": "execute_result"
    }
   ],
   "source": [
    "df_rj_16['IN_N_COMP_15'] = pd.cut(df_rj_16['NU_COMP_ALUNO'], [-np.inf, 15, np.inf], labels=[0,1])\n",
    "df_rj_16['IN_N_COMP_15'].value_counts(normalize=True)"
   ]
  },
  {
   "cell_type": "markdown",
   "metadata": {},
   "source": [
    "### Nível socioeconômico\n",
    "\n",
    "- Somente 936 escolas estaduais no RJ possuem o indicador de nível socioeconômico: perdemos 20% dos alunos!"
   ]
  },
  {
   "cell_type": "code",
   "execution_count": 475,
   "metadata": {},
   "outputs": [
    {
     "name": "stdout",
     "output_type": "stream",
     "text": [
      "<class 'pandas.core.frame.DataFrame'>\n",
      "RangeIndex: 936 entries, 0 to 935\n",
      "Data columns (total 14 columns):\n",
      "Unnamed: 0             936 non-null int64\n",
      "CO_ESCOLA              936 non-null int64\n",
      "NOME_ESCOLA            936 non-null object\n",
      "CO_UF                  936 non-null int64\n",
      "NOME_UF                936 non-null object\n",
      "CO_MUNICIPIO           936 non-null int64\n",
      "NOME_MUNICIPIO         936 non-null int64\n",
      "ID_AREA                936 non-null int64\n",
      "TP_DEPENDENCIA         936 non-null int64\n",
      "TP_LOCALIZACAO         936 non-null int64\n",
      "QTD_ALUNOS_INSE        936 non-null int64\n",
      "INSE_VALOR_ABSOLUTO    936 non-null float64\n",
      "INSE_CLASSIFICACAO     936 non-null object\n",
      "NIVEL                  936 non-null int64\n",
      "dtypes: float64(1), int64(10), object(3)\n",
      "memory usage: 102.5+ KB\n"
     ]
    }
   ],
   "source": [
    "inse_rj_2015 = pd.read_csv(TREAT_PATH / 'inse_2015_rj.csv')\n",
    "inse_rj_2015.info()"
   ]
  },
  {
   "cell_type": "code",
   "execution_count": 478,
   "metadata": {},
   "outputs": [
    {
     "data": {
      "text/plain": [
       "0.8162088843675822"
      ]
     },
     "execution_count": 478,
     "metadata": {},
     "output_type": "execute_result"
    }
   ],
   "source": [
    "len(df_rj_16[df_rj_16['CO_ENTIDADE'].isin(inse_rj_2015['CO_ESCOLA'])])/len(df_rj_16)"
   ]
  },
  {
   "cell_type": "code",
   "execution_count": 480,
   "metadata": {
    "scrolled": true
   },
   "outputs": [
    {
     "name": "stdout",
     "output_type": "stream",
     "text": [
      "<class 'pandas.core.frame.DataFrame'>\n",
      "Int64Index: 182838 entries, 0 to 182837\n",
      "Data columns (total 27 columns):\n",
      "ID                            182838 non-null int64\n",
      "CO_ENTIDADE                   182838 non-null int64\n",
      "TP_SEXO                       182838 non-null int64\n",
      "NU_IDADE                      182838 non-null int64\n",
      "IN_DISTORCAO                  182838 non-null int64\n",
      "IN_TRANSPORTE_PUBLICO         182838 non-null int64\n",
      "IN_LOCAL_ESCOLA               182838 non-null int64\n",
      "N_TURMA                       182838 non-null int64\n",
      "IN_EVASAO                     182838 non-null int64\n",
      "NU_ANO_CENSO                  182838 non-null int64\n",
      "CO_MUNICIPIO                  182838 non-null int64\n",
      "IN_AGUA_FILTRADA              182838 non-null float64\n",
      "IN_AGUA_INEXISTENTE           182838 non-null float64\n",
      "IN_ENERGIA_INEXISTENTE        182838 non-null float64\n",
      "IN_LIXO_COLETA_PERIODICA      182838 non-null float64\n",
      "IN_LABORATORIO_INFORMATICA    182838 non-null float64\n",
      "IN_LABORATORIO_CIENCIAS       182838 non-null float64\n",
      "IN_QUADRA_ESPORTES            182838 non-null float64\n",
      "IN_COZINHA                    182838 non-null float64\n",
      "IN_REFEITORIO                 182838 non-null float64\n",
      "IN_BIBLIOTECA                 182838 non-null float64\n",
      "IN_BANHEIRO_FORA_PREDIO       182838 non-null float64\n",
      "IN_BANHEIRO_DENTRO_PREDIO     182838 non-null float64\n",
      "IN_AREA_VERDE                 182838 non-null float64\n",
      "NU_COMP_ALUNO                 182838 non-null float64\n",
      "IN_ALIMENTACAO                182838 non-null float64\n",
      "NIVEL                         149234 non-null float64\n",
      "dtypes: float64(16), int64(11)\n",
      "memory usage: 39.1 MB\n"
     ]
    }
   ],
   "source": [
    "inse_rj_2015 = inse_rj_2015.rename({'CO_ESCOLA': 'CO_ENTIDADE'}, axis=1)\n",
    "\n",
    "df_rj_16 = df_rj_16.merge(inse_rj_2015[['CO_ENTIDADE', 'NIVEL']], on='CO_ENTIDADE', how='left')\n",
    "df_rj_16.info()"
   ]
  },
  {
   "cell_type": "code",
   "execution_count": 482,
   "metadata": {},
   "outputs": [
    {
     "data": {
      "text/plain": [
       " 3.0    44000\n",
       "-1.0    14670\n",
       " 4.0     5125\n",
       " 2.0      362\n",
       " 5.0      162\n",
       " 6.0       28\n",
       " 1.0       13\n",
       "Name: NIVEL, dtype: int64"
      ]
     },
     "execution_count": 482,
     "metadata": {},
     "output_type": "execute_result"
    }
   ],
   "source": [
    "df_rj_16[df_rj_16['IN_EVASAO'] == 1]['NIVEL'].fillna(-1).value_counts()"
   ]
  },
  {
   "cell_type": "code",
   "execution_count": 483,
   "metadata": {},
   "outputs": [
    {
     "data": {
      "text/plain": [
       "0.22793660658794282"
      ]
     },
     "execution_count": 483,
     "metadata": {},
     "output_type": "execute_result"
    }
   ],
   "source": [
    "14670/len(df_rj_16[df_rj_16['IN_EVASAO'] == 1])"
   ]
  },
  {
   "cell_type": "code",
   "execution_count": 510,
   "metadata": {},
   "outputs": [
    {
     "name": "stdout",
     "output_type": "stream",
     "text": [
      "<class 'pandas.core.frame.DataFrame'>\n",
      "Int64Index: 149234 entries, 0 to 182836\n",
      "Data columns (total 26 columns):\n",
      "ID                            149234 non-null int64\n",
      "CO_ENTIDADE                   149234 non-null int64\n",
      "TP_SEXO                       149234 non-null int64\n",
      "NU_IDADE                      149234 non-null int64\n",
      "IN_DISTORCAO                  149234 non-null int64\n",
      "IN_TRANSPORTE_PUBLICO         149234 non-null int64\n",
      "IN_LOCAL_ESCOLA               149234 non-null int64\n",
      "N_TURMA                       149234 non-null int64\n",
      "IN_EVASAO                     149234 non-null int64\n",
      "NU_ANO_CENSO                  149234 non-null int64\n",
      "IN_AGUA_FILTRADA              149234 non-null float64\n",
      "IN_AGUA_INEXISTENTE           149234 non-null float64\n",
      "IN_ENERGIA_INEXISTENTE        149234 non-null float64\n",
      "IN_LIXO_COLETA_PERIODICA      149234 non-null float64\n",
      "IN_LABORATORIO_INFORMATICA    149234 non-null float64\n",
      "IN_LABORATORIO_CIENCIAS       149234 non-null float64\n",
      "IN_QUADRA_ESPORTES            149234 non-null float64\n",
      "IN_COZINHA                    149234 non-null float64\n",
      "IN_REFEITORIO                 149234 non-null float64\n",
      "IN_BIBLIOTECA                 149234 non-null float64\n",
      "IN_BANHEIRO_FORA_PREDIO       149234 non-null float64\n",
      "IN_BANHEIRO_DENTRO_PREDIO     149234 non-null float64\n",
      "IN_AREA_VERDE                 149234 non-null float64\n",
      "IN_ALIMENTACAO                149234 non-null float64\n",
      "NIVEL                         149234 non-null float64\n",
      "IN_N_COMP_15                  149234 non-null category\n",
      "dtypes: category(1), float64(15), int64(10)\n",
      "memory usage: 29.7 MB\n"
     ]
    }
   ],
   "source": [
    "df_work = df_rj_16[df_rj_16['NIVEL'].isnull() == False]\n",
    "df_work = df_work.drop(['CO_MUNICIPIO', 'NU_COMP_ALUNO'], axis=1)\n",
    "df_work.info()"
   ]
  },
  {
   "cell_type": "code",
   "execution_count": 513,
   "metadata": {},
   "outputs": [
    {
     "data": {
      "text/plain": [
       "0    0.667033\n",
       "1    0.332967\n",
       "Name: IN_EVASAO, dtype: float64"
      ]
     },
     "execution_count": 513,
     "metadata": {},
     "output_type": "execute_result"
    }
   ],
   "source": [
    "df_work['IN_EVASAO'].value_counts(normalize=True)"
   ]
  },
  {
   "cell_type": "code",
   "execution_count": 511,
   "metadata": {},
   "outputs": [],
   "source": [
    "df_work.to_csv(TREAT_PATH / 'analysis' / 'df_alunos.csv')"
   ]
  }
 ],
 "metadata": {
  "kernelspec": {
   "display_name": "Python 3",
   "language": "python",
   "name": "python3"
  },
  "language_info": {
   "codemirror_mode": {
    "name": "ipython",
    "version": 3
   },
   "file_extension": ".py",
   "mimetype": "text/x-python",
   "name": "python",
   "nbconvert_exporter": "python",
   "pygments_lexer": "ipython3",
   "version": "3.7.4"
  },
  "toc": {
   "base_numbering": 1,
   "nav_menu": {},
   "number_sections": true,
   "sideBar": true,
   "skip_h1_title": true,
   "title_cell": "Table of Contents",
   "title_sidebar": "Contents",
   "toc_cell": true,
   "toc_position": {},
   "toc_section_display": true,
   "toc_window_display": false
  }
 },
 "nbformat": 4,
 "nbformat_minor": 2
}
