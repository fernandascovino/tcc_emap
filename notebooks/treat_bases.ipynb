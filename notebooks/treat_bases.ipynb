{
 "cells": [
  {
   "cell_type": "markdown",
   "metadata": {
    "toc": true
   },
   "source": [
    "<h1>Table of Contents<span class=\"tocSkip\"></span></h1>\n",
    "<div class=\"toc\"><ul class=\"toc-item\"><li><span><a href=\"#Matrículas---Censo-Escolar\" data-toc-modified-id=\"Matrículas---Censo-Escolar-1\"><span class=\"toc-item-num\">1&nbsp;&nbsp;</span>Matrículas - Censo Escolar</a></span><ul class=\"toc-item\"><li><span><a href=\"#Dados-faltantes\" data-toc-modified-id=\"Dados-faltantes-1.1\"><span class=\"toc-item-num\">1.1&nbsp;&nbsp;</span>Dados faltantes</a></span></li><li><span><a href=\"#Variável-de-evasão\" data-toc-modified-id=\"Variável-de-evasão-1.2\"><span class=\"toc-item-num\">1.2&nbsp;&nbsp;</span>Variável de evasão</a></span></li><li><span><a href=\"#Variáveis-de-caracterização-dos-alunos\" data-toc-modified-id=\"Variáveis-de-caracterização-dos-alunos-1.3\"><span class=\"toc-item-num\">1.3&nbsp;&nbsp;</span>Variáveis de caracterização dos alunos</a></span><ul class=\"toc-item\"><li><span><a href=\"#Pessoal\" data-toc-modified-id=\"Pessoal-1.3.1\"><span class=\"toc-item-num\">1.3.1&nbsp;&nbsp;</span>Pessoal</a></span></li><li><span><a href=\"#Transporte\" data-toc-modified-id=\"Transporte-1.3.2\"><span class=\"toc-item-num\">1.3.2&nbsp;&nbsp;</span>Transporte</a></span></li><li><span><a href=\"#Localização\" data-toc-modified-id=\"Localização-1.3.3\"><span class=\"toc-item-num\">1.3.3&nbsp;&nbsp;</span>Localização</a></span></li><li><span><a href=\"#Dados-da-turma\" data-toc-modified-id=\"Dados-da-turma-1.3.4\"><span class=\"toc-item-num\">1.3.4&nbsp;&nbsp;</span>Dados da turma</a></span></li></ul></li><li><span><a href=\"#Filtragem-das-variáveis\" data-toc-modified-id=\"Filtragem-das-variáveis-1.4\"><span class=\"toc-item-num\">1.4&nbsp;&nbsp;</span>Filtragem das variáveis</a></span></li></ul></li><li><span><a href=\"#Infos-das-escolas:-Censo-2017\" data-toc-modified-id=\"Infos-das-escolas:-Censo-2017-2\"><span class=\"toc-item-num\">2&nbsp;&nbsp;</span>Infos das escolas: Censo 2017</a></span><ul class=\"toc-item\"><li><span><a href=\"#Checando-distribuições\" data-toc-modified-id=\"Checando-distribuições-2.1\"><span class=\"toc-item-num\">2.1&nbsp;&nbsp;</span>Checando distribuições</a></span></li></ul></li><li><span><a href=\"#Nível-socioeconômico\" data-toc-modified-id=\"Nível-socioeconômico-3\"><span class=\"toc-item-num\">3&nbsp;&nbsp;</span>Nível socioeconômico</a></span><ul class=\"toc-item\"><li><span><a href=\"#Finalizando-a-base\" data-toc-modified-id=\"Finalizando-a-base-3.1\"><span class=\"toc-item-num\">3.1&nbsp;&nbsp;</span>Finalizando a base</a></span></li></ul></li></ul></div>"
   ]
  },
  {
   "cell_type": "markdown",
   "metadata": {},
   "source": [
    "# Tratamenfo inicial das bases\n",
    "----\n",
    "\n",
    "- Dados faltantes e filtragem\n",
    "- Criação de variáveis\n",
    "- Junção das bases"
   ]
  },
  {
   "cell_type": "code",
   "execution_count": 2,
   "metadata": {},
   "outputs": [
    {
     "data": {
      "text/html": [
       "        <script type=\"text/javascript\">\n",
       "        window.PlotlyConfig = {MathJaxConfig: 'local'};\n",
       "        if (window.MathJax) {MathJax.Hub.Config({SVG: {font: \"STIX-Web\"}});}\n",
       "        if (typeof require !== 'undefined') {\n",
       "        require.undef(\"plotly\");\n",
       "        requirejs.config({\n",
       "            paths: {\n",
       "                'plotly': ['https://cdn.plot.ly/plotly-latest.min']\n",
       "            }\n",
       "        });\n",
       "        require(['plotly'], function(Plotly) {\n",
       "            window._Plotly = Plotly;\n",
       "        });\n",
       "        }\n",
       "        </script>\n",
       "        "
      ]
     },
     "metadata": {},
     "output_type": "display_data"
    },
    {
     "data": {
      "text/html": [
       "        <script type=\"text/javascript\">\n",
       "        window.PlotlyConfig = {MathJaxConfig: 'local'};\n",
       "        if (window.MathJax) {MathJax.Hub.Config({SVG: {font: \"STIX-Web\"}});}\n",
       "        if (typeof require !== 'undefined') {\n",
       "        require.undef(\"plotly\");\n",
       "        requirejs.config({\n",
       "            paths: {\n",
       "                'plotly': ['https://cdn.plot.ly/plotly-latest.min']\n",
       "            }\n",
       "        });\n",
       "        require(['plotly'], function(Plotly) {\n",
       "            window._Plotly = Plotly;\n",
       "        });\n",
       "        }\n",
       "        </script>\n",
       "        "
      ]
     },
     "metadata": {},
     "output_type": "display_data"
    }
   ],
   "source": [
    "# %load first_cell.py\n",
    "%reload_ext autoreload\n",
    "%autoreload 2\n",
    "\n",
    "from paths import RAW_PATH, TREAT_PATH, OUTPUT_PATH, FIGURES_PATH\n",
    "\n",
    "import os\n",
    "from copy import deepcopy\n",
    "import numpy as np\n",
    "import pandas as pd\n",
    "pd.options.display.max_columns = 999\n",
    "import pandas_profiling\n",
    "\n",
    "import warnings\n",
    "warnings.filterwarnings('ignore')\n",
    "\n",
    "# Plotting\n",
    "import plotly\n",
    "import plotly.graph_objs as go\n",
    "import cufflinks as cf\n",
    "plotly.offline.init_notebook_mode(connected=True)\n",
    "\n",
    "cf.go_offline()\n",
    "cf.set_config_file(offline=False, world_readable=True)"
   ]
  },
  {
   "cell_type": "markdown",
   "metadata": {},
   "source": [
    "## Matrículas - Censo Escolar"
   ]
  },
  {
   "cell_type": "code",
   "execution_count": 3,
   "metadata": {},
   "outputs": [
    {
     "data": {
      "text/plain": [
       "['cleaned_escolas_rj_2017.csv',\n",
       " 'cleaned_escolas_rj_2016.csv',\n",
       " 'matriculas_rj_2017duplicado.csv',\n",
       " 'cleaned_matriculas_rj_2016.csv',\n",
       " 'cleaned_matriculas_rj_2017.csv',\n",
       " 'matriculas_rj_2016duplicado.csv']"
      ]
     },
     "execution_count": 3,
     "metadata": {},
     "output_type": "execute_result"
    }
   ],
   "source": [
    "os.listdir(TREAT_PATH / 'censo')"
   ]
  },
  {
   "cell_type": "code",
   "execution_count": 4,
   "metadata": {},
   "outputs": [
    {
     "data": {
      "text/plain": [
       "570111"
      ]
     },
     "execution_count": 4,
     "metadata": {},
     "output_type": "execute_result"
    }
   ],
   "source": [
    "alunos_rj_16 = pd.read_csv(TREAT_PATH / 'censo' / 'cleaned_matriculas_rj_2016.csv')\n",
    "len(alunos_rj_16)"
   ]
  },
  {
   "cell_type": "code",
   "execution_count": 5,
   "metadata": {
    "scrolled": true
   },
   "outputs": [
    {
     "name": "stdout",
     "output_type": "stream",
     "text": [
      "<class 'pandas.core.frame.DataFrame'>\n",
      "Int64Index: 182838 entries, 118 to 552067\n",
      "Data columns (total 93 columns):\n",
      "Unnamed: 0                       182838 non-null int64\n",
      "NU_ANO_CENSO                     182838 non-null int64\n",
      "ID_MATRICULA                     182838 non-null int64\n",
      "NU_DIA                           182838 non-null int64\n",
      "NU_MES                           182838 non-null int64\n",
      "NU_ANO                           182838 non-null int64\n",
      "NU_IDADE_REFERENCIA              182838 non-null int64\n",
      "NU_IDADE                         182838 non-null int64\n",
      "NU_DURACAO_TURMA                 182838 non-null int64\n",
      "NU_DUR_ATIV_COMP_MESMA_REDE      182838 non-null int64\n",
      "NU_DUR_ATIV_COMP_OUTRAS_REDES    182838 non-null int64\n",
      "NU_DUR_AEE_MESMA_REDE            182838 non-null int64\n",
      "NU_DUR_AEE_OUTRAS_REDES          182838 non-null int64\n",
      "NU_DIAS_ATIVIDADE                182838 non-null int64\n",
      "TP_SEXO                          182838 non-null int64\n",
      "TP_COR_RACA                      182838 non-null int64\n",
      "TP_NACIONALIDADE                 182838 non-null int64\n",
      "CO_PAIS_ORIGEM                   182838 non-null int64\n",
      "CO_UF_NASC                       182737 non-null float64\n",
      "CO_MUNICIPIO_NASC                182737 non-null float64\n",
      "CO_UF_END                        11814 non-null float64\n",
      "CO_MUNICIPIO_END                 11814 non-null float64\n",
      "TP_ZONA_RESIDENCIAL              182838 non-null int64\n",
      "TP_OUTRO_LOCAL_AULA              182838 non-null int64\n",
      "IN_TRANSPORTE_PUBLICO            182838 non-null int64\n",
      "TP_RESPONSAVEL_TRANSPORTE        121962 non-null float64\n",
      "IN_TRANSP_VANS_KOMBI             121962 non-null float64\n",
      "IN_TRANSP_MICRO_ONIBUS           121962 non-null float64\n",
      "IN_TRANSP_ONIBUS                 121962 non-null float64\n",
      "IN_TRANSP_BICICLETA              121962 non-null float64\n",
      "IN_TRANSP_TR_ANIMAL              121962 non-null float64\n",
      "IN_TRANSP_OUTRO_VEICULO          121962 non-null float64\n",
      "IN_TRANSP_EMBAR_ATE5             121962 non-null float64\n",
      "IN_TRANSP_EMBAR_5A15             121962 non-null float64\n",
      "IN_TRANSP_EMBAR_15A35            121962 non-null float64\n",
      "IN_TRANSP_EMBAR_35               121962 non-null float64\n",
      "IN_TRANSP_TREM_METRO             121962 non-null float64\n",
      "IN_NECESSIDADE_ESPECIAL          182838 non-null int64\n",
      "IN_CEGUEIRA                      964 non-null float64\n",
      "IN_BAIXA_VISAO                   964 non-null float64\n",
      "IN_SURDEZ                        964 non-null float64\n",
      "IN_DEF_AUDITIVA                  964 non-null float64\n",
      "IN_SURDOCEGUEIRA                 964 non-null float64\n",
      "IN_DEF_FISICA                    964 non-null float64\n",
      "IN_DEF_INTELECTUAL               964 non-null float64\n",
      "IN_DEF_MULTIPLA                  964 non-null float64\n",
      "IN_AUTISMO                       964 non-null float64\n",
      "IN_SINDROME_ASPERGER             964 non-null float64\n",
      "IN_SINDROME_RETT                 964 non-null float64\n",
      "IN_TRANSTORNO_DI                 964 non-null float64\n",
      "IN_SUPERDOTACAO                  964 non-null float64\n",
      "IN_RECURSO_LEDOR                 877 non-null float64\n",
      "IN_RECURSO_TRANSCRICAO           877 non-null float64\n",
      "IN_RECURSO_INTERPRETE            877 non-null float64\n",
      "IN_RECURSO_LIBRAS                877 non-null float64\n",
      "IN_RECURSO_LABIAL                877 non-null float64\n",
      "IN_RECURSO_BRAILLE               877 non-null float64\n",
      "IN_RECURSO_AMPLIADA_16           877 non-null float64\n",
      "IN_RECURSO_AMPLIADA_20           877 non-null float64\n",
      "IN_RECURSO_AMPLIADA_24           877 non-null float64\n",
      "IN_RECURSO_NENHUM                877 non-null float64\n",
      "TP_INGRESSO_FEDERAIS             0 non-null float64\n",
      "TP_MEDIACAO_DIDATICO_PEDAGO      182838 non-null int64\n",
      "IN_ESPECIAL_EXCLUSIVA            182838 non-null int64\n",
      "IN_REGULAR                       182838 non-null int64\n",
      "IN_EJA                           182838 non-null int64\n",
      "IN_PROFISSIONALIZANTE            182838 non-null int64\n",
      "TP_ETAPA_ENSINO                  182838 non-null int64\n",
      "ID_TURMA                         182838 non-null int64\n",
      "CO_CURSO_EDUC_PROFISSIONAL       4176 non-null float64\n",
      "TP_UNIFICADA                     182838 non-null int64\n",
      "TP_TIPO_TURMA                    182838 non-null int64\n",
      "CO_ENTIDADE                      182838 non-null int64\n",
      "CO_REGIAO                        182838 non-null int64\n",
      "CO_MESORREGIAO                   182838 non-null int64\n",
      "CO_MICRORREGIAO                  182838 non-null int64\n",
      "CO_UF                            182838 non-null int64\n",
      "CO_MUNICIPIO                     182838 non-null int64\n",
      "CO_DISTRITO                      182838 non-null int64\n",
      "TP_DEPENDENCIA                   182838 non-null int64\n",
      "TP_LOCALIZACAO                   182838 non-null int64\n",
      "TP_CATEGORIA_ESCOLA_PRIVADA      0 non-null float64\n",
      "IN_CONVENIADA_PP                 0 non-null float64\n",
      "TP_CONVENIO_PODER_PUBLICO        0 non-null float64\n",
      "IN_MANT_ESCOLA_PRIVADA_EMP       0 non-null float64\n",
      "IN_MANT_ESCOLA_PRIVADA_ONG       0 non-null float64\n",
      "IN_MANT_ESCOLA_PRIVADA_SIND      0 non-null float64\n",
      "IN_MANT_ESCOLA_PRIVADA_SIST_S    0 non-null float64\n",
      "IN_MANT_ESCOLA_PRIVADA_S_FINS    0 non-null float64\n",
      "TP_REGULAMENTACAO                182838 non-null int64\n",
      "TP_LOCALIZACAO_DIFERENCIADA      182838 non-null int64\n",
      "IN_EDUCACAO_INDIGENA             182838 non-null int64\n",
      "ID                               182838 non-null int64\n",
      "dtypes: float64(49), int64(44)\n",
      "memory usage: 131.1 MB\n"
     ]
    }
   ],
   "source": [
    "alunos_rj_16 = alunos_rj_16[alunos_rj_16['TP_ETAPA_ENSINO'].isin([25, 31])] \n",
    "alunos_rj_16 = alunos_rj_16[alunos_rj_16['TP_DEPENDENCIA'] == 2] # Escolas estaduais\n",
    "\n",
    "alunos_rj_16.info()"
   ]
  },
  {
   "cell_type": "code",
   "execution_count": 6,
   "metadata": {},
   "outputs": [
    {
     "data": {
      "text/plain": [
       "551630"
      ]
     },
     "execution_count": 6,
     "metadata": {},
     "output_type": "execute_result"
    }
   ],
   "source": [
    "alunos_rj_17 = pd.read_csv(TREAT_PATH / 'censo' / 'cleaned_matriculas_rj_2017.csv')\n",
    "len(alunos_rj_17)"
   ]
  },
  {
   "cell_type": "markdown",
   "metadata": {},
   "source": [
    "* Para ter o percentual mais aproximado e quem evadiu, precisamos separar alunos que permaneceram no ensino médio no ano seguinte (na mesma escola, ou em outra estadual ou particular)"
   ]
  },
  {
   "cell_type": "code",
   "execution_count": 7,
   "metadata": {
    "scrolled": true
   },
   "outputs": [
    {
     "name": "stdout",
     "output_type": "stream",
     "text": [
      "<class 'pandas.core.frame.DataFrame'>\n",
      "Int64Index: 394488 entries, 0 to 545157\n",
      "Data columns (total 93 columns):\n",
      "Unnamed: 0                       394488 non-null int64\n",
      "NU_ANO_CENSO                     394488 non-null int64\n",
      "ID_MATRICULA                     394488 non-null int64\n",
      "NU_DIA                           394488 non-null int64\n",
      "NU_MES                           394488 non-null int64\n",
      "NU_ANO                           394488 non-null int64\n",
      "NU_IDADE_REFERENCIA              394488 non-null int64\n",
      "NU_IDADE                         394488 non-null int64\n",
      "NU_DURACAO_TURMA                 394488 non-null int64\n",
      "NU_DUR_ATIV_COMP_MESMA_REDE      394488 non-null int64\n",
      "NU_DUR_ATIV_COMP_OUTRAS_REDES    394488 non-null int64\n",
      "NU_DUR_AEE_MESMA_REDE            394488 non-null int64\n",
      "NU_DUR_AEE_OUTRAS_REDES          394488 non-null int64\n",
      "NU_DIAS_ATIVIDADE                394488 non-null int64\n",
      "TP_SEXO                          394488 non-null int64\n",
      "TP_COR_RACA                      394488 non-null int64\n",
      "TP_NACIONALIDADE                 394488 non-null int64\n",
      "CO_PAIS_ORIGEM                   394488 non-null int64\n",
      "CO_UF_NASC                       393566 non-null float64\n",
      "CO_MUNICIPIO_NASC                393566 non-null float64\n",
      "CO_UF_END                        98049 non-null float64\n",
      "CO_MUNICIPIO_END                 98049 non-null float64\n",
      "TP_ZONA_RESIDENCIAL              394488 non-null int64\n",
      "TP_OUTRO_LOCAL_AULA              394488 non-null int64\n",
      "IN_TRANSPORTE_PUBLICO            394488 non-null int64\n",
      "TP_RESPONSAVEL_TRANSPORTE        212730 non-null float64\n",
      "IN_TRANSP_VANS_KOMBI             212730 non-null float64\n",
      "IN_TRANSP_MICRO_ONIBUS           212730 non-null float64\n",
      "IN_TRANSP_ONIBUS                 212730 non-null float64\n",
      "IN_TRANSP_BICICLETA              212730 non-null float64\n",
      "IN_TRANSP_TR_ANIMAL              212730 non-null float64\n",
      "IN_TRANSP_OUTRO_VEICULO          212730 non-null float64\n",
      "IN_TRANSP_EMBAR_ATE5             212730 non-null float64\n",
      "IN_TRANSP_EMBAR_5A15             212730 non-null float64\n",
      "IN_TRANSP_EMBAR_15A35            212730 non-null float64\n",
      "IN_TRANSP_EMBAR_35               212730 non-null float64\n",
      "IN_TRANSP_TREM_METRO             212730 non-null float64\n",
      "IN_NECESSIDADE_ESPECIAL          394488 non-null int64\n",
      "IN_CEGUEIRA                      2878 non-null float64\n",
      "IN_BAIXA_VISAO                   2878 non-null float64\n",
      "IN_SURDEZ                        2878 non-null float64\n",
      "IN_DEF_AUDITIVA                  2878 non-null float64\n",
      "IN_SURDOCEGUEIRA                 2878 non-null float64\n",
      "IN_DEF_FISICA                    2878 non-null float64\n",
      "IN_DEF_INTELECTUAL               2878 non-null float64\n",
      "IN_DEF_MULTIPLA                  2878 non-null float64\n",
      "IN_AUTISMO                       2878 non-null float64\n",
      "IN_SINDROME_ASPERGER             2878 non-null float64\n",
      "IN_SINDROME_RETT                 2878 non-null float64\n",
      "IN_TRANSTORNO_DI                 2878 non-null float64\n",
      "IN_SUPERDOTACAO                  2878 non-null float64\n",
      "IN_RECURSO_LEDOR                 2520 non-null float64\n",
      "IN_RECURSO_TRANSCRICAO           2520 non-null float64\n",
      "IN_RECURSO_INTERPRETE            2520 non-null float64\n",
      "IN_RECURSO_LIBRAS                2520 non-null float64\n",
      "IN_RECURSO_LABIAL                2520 non-null float64\n",
      "IN_RECURSO_BRAILLE               2520 non-null float64\n",
      "IN_RECURSO_AMPLIADA_16           2520 non-null float64\n",
      "IN_RECURSO_AMPLIADA_20           2520 non-null float64\n",
      "IN_RECURSO_AMPLIADA_24           2520 non-null float64\n",
      "IN_RECURSO_NENHUM                2520 non-null float64\n",
      "TP_INGRESSO_FEDERAIS             5225 non-null float64\n",
      "TP_MEDIACAO_DIDATICO_PEDAGO      394488 non-null int64\n",
      "IN_ESPECIAL_EXCLUSIVA            394488 non-null int64\n",
      "IN_REGULAR                       394488 non-null int64\n",
      "IN_EJA                           394488 non-null int64\n",
      "IN_PROFISSIONALIZANTE            394488 non-null int64\n",
      "TP_ETAPA_ENSINO                  394488 non-null int64\n",
      "ID_TURMA                         394488 non-null int64\n",
      "CO_CURSO_EDUC_PROFISSIONAL       14546 non-null float64\n",
      "TP_UNIFICADA                     394488 non-null int64\n",
      "TP_TIPO_TURMA                    394488 non-null int64\n",
      "CO_ENTIDADE                      394488 non-null int64\n",
      "CO_REGIAO                        394488 non-null int64\n",
      "CO_MESORREGIAO                   394488 non-null int64\n",
      "CO_MICRORREGIAO                  394488 non-null int64\n",
      "CO_UF                            394488 non-null int64\n",
      "CO_MUNICIPIO                     394488 non-null int64\n",
      "CO_DISTRITO                      394488 non-null int64\n",
      "TP_DEPENDENCIA                   394488 non-null int64\n",
      "TP_LOCALIZACAO                   394488 non-null int64\n",
      "TP_CATEGORIA_ESCOLA_PRIVADA      84550 non-null float64\n",
      "IN_CONVENIADA_PP                 84550 non-null float64\n",
      "TP_CONVENIO_PODER_PUBLICO        5647 non-null float64\n",
      "IN_MANT_ESCOLA_PRIVADA_EMP       84550 non-null float64\n",
      "IN_MANT_ESCOLA_PRIVADA_ONG       84550 non-null float64\n",
      "IN_MANT_ESCOLA_PRIVADA_SIND      84550 non-null float64\n",
      "IN_MANT_ESCOLA_PRIVADA_SIST_S    84550 non-null float64\n",
      "IN_MANT_ESCOLA_PRIVADA_S_FINS    84550 non-null float64\n",
      "TP_REGULAMENTACAO                394488 non-null int64\n",
      "TP_LOCALIZACAO_DIFERENCIADA      394488 non-null int64\n",
      "IN_EDUCACAO_INDIGENA             394488 non-null int64\n",
      "ID                               394488 non-null int64\n",
      "dtypes: float64(49), int64(44)\n",
      "memory usage: 282.9 MB\n"
     ]
    }
   ],
   "source": [
    "alunos_rj_17 = alunos_rj_17[alunos_rj_17['TP_ETAPA_ENSINO'].isin([25, 26, 31, 32])] # 1a série do MED\n",
    "# alunos_rj_17 = alunos_rj_17[alunos_rj_17['TP_DEPENDENCIA'] == 2] # Escolas estaduais\n",
    "\n",
    "alunos_rj_17.info()"
   ]
  },
  {
   "cell_type": "markdown",
   "metadata": {},
   "source": [
    "### Dados faltantes\n",
    "\n",
    "Não entram (< 30%):\n",
    "- 35 variáveis têm menos que 30% de dado\n",
    "- Variáveis de endereço e especificações de deficiência / superdotação (ex: cegueira, surdez, etc)\n",
    "- Variáveis irrelevaantes: específicas de escolas privadas\n",
    "\n",
    "< 95%:\n",
    "- 12 dentre as 58 restantes\n",
    "- Todas especificações de transporte (responsável e tipo específico de transporte)"
   ]
  },
  {
   "cell_type": "code",
   "execution_count": 8,
   "metadata": {},
   "outputs": [
    {
     "data": {
      "text/plain": [
       "True     58\n",
       "False    35\n",
       "dtype: int64"
      ]
     },
     "execution_count": 8,
     "metadata": {},
     "output_type": "execute_result"
    }
   ],
   "source": [
    "n = alunos_rj_16.count()/182838 > 0.3\n",
    "n.value_counts()"
   ]
  },
  {
   "cell_type": "code",
   "execution_count": 9,
   "metadata": {},
   "outputs": [
    {
     "data": {
      "text/plain": [
       "Index(['CO_UF_END', 'CO_MUNICIPIO_END', 'IN_CEGUEIRA', 'IN_BAIXA_VISAO',\n",
       "       'IN_SURDEZ', 'IN_DEF_AUDITIVA', 'IN_SURDOCEGUEIRA', 'IN_DEF_FISICA',\n",
       "       'IN_DEF_INTELECTUAL', 'IN_DEF_MULTIPLA', 'IN_AUTISMO',\n",
       "       'IN_SINDROME_ASPERGER', 'IN_SINDROME_RETT', 'IN_TRANSTORNO_DI',\n",
       "       'IN_SUPERDOTACAO', 'IN_RECURSO_LEDOR', 'IN_RECURSO_TRANSCRICAO',\n",
       "       'IN_RECURSO_INTERPRETE', 'IN_RECURSO_LIBRAS', 'IN_RECURSO_LABIAL',\n",
       "       'IN_RECURSO_BRAILLE', 'IN_RECURSO_AMPLIADA_16',\n",
       "       'IN_RECURSO_AMPLIADA_20', 'IN_RECURSO_AMPLIADA_24', 'IN_RECURSO_NENHUM',\n",
       "       'TP_INGRESSO_FEDERAIS', 'CO_CURSO_EDUC_PROFISSIONAL',\n",
       "       'TP_CATEGORIA_ESCOLA_PRIVADA', 'IN_CONVENIADA_PP',\n",
       "       'TP_CONVENIO_PODER_PUBLICO', 'IN_MANT_ESCOLA_PRIVADA_EMP',\n",
       "       'IN_MANT_ESCOLA_PRIVADA_ONG', 'IN_MANT_ESCOLA_PRIVADA_SIND',\n",
       "       'IN_MANT_ESCOLA_PRIVADA_SIST_S', 'IN_MANT_ESCOLA_PRIVADA_S_FINS'],\n",
       "      dtype='object')"
      ]
     },
     "execution_count": 9,
     "metadata": {},
     "output_type": "execute_result"
    }
   ],
   "source": [
    "n[n == False].index"
   ]
  },
  {
   "cell_type": "code",
   "execution_count": 10,
   "metadata": {},
   "outputs": [],
   "source": [
    "alunos_rj_16 = alunos_rj_16[n[n == True].index]"
   ]
  },
  {
   "cell_type": "code",
   "execution_count": 11,
   "metadata": {},
   "outputs": [
    {
     "data": {
      "text/plain": [
       "True     46\n",
       "False    12\n",
       "dtype: int64"
      ]
     },
     "execution_count": 11,
     "metadata": {},
     "output_type": "execute_result"
    }
   ],
   "source": [
    "n = alunos_rj_16.count()/182838 > 0.95\n",
    "n.value_counts()"
   ]
  },
  {
   "cell_type": "code",
   "execution_count": 12,
   "metadata": {},
   "outputs": [
    {
     "data": {
      "text/plain": [
       "TP_RESPONSAVEL_TRANSPORTE    0.66705\n",
       "IN_TRANSP_VANS_KOMBI         0.66705\n",
       "IN_TRANSP_MICRO_ONIBUS       0.66705\n",
       "IN_TRANSP_ONIBUS             0.66705\n",
       "IN_TRANSP_BICICLETA          0.66705\n",
       "IN_TRANSP_TR_ANIMAL          0.66705\n",
       "IN_TRANSP_OUTRO_VEICULO      0.66705\n",
       "IN_TRANSP_EMBAR_ATE5         0.66705\n",
       "IN_TRANSP_EMBAR_5A15         0.66705\n",
       "IN_TRANSP_EMBAR_15A35        0.66705\n",
       "IN_TRANSP_EMBAR_35           0.66705\n",
       "IN_TRANSP_TREM_METRO         0.66705\n",
       "dtype: float64"
      ]
     },
     "execution_count": 12,
     "metadata": {},
     "output_type": "execute_result"
    }
   ],
   "source": [
    "alunos_rj_16[n[n == False].index].count()/182838"
   ]
  },
  {
   "cell_type": "markdown",
   "metadata": {},
   "source": [
    "### Variável de evasão"
   ]
  },
  {
   "cell_type": "code",
   "execution_count": 13,
   "metadata": {},
   "outputs": [
    {
     "data": {
      "text/plain": [
       "182838"
      ]
     },
     "execution_count": 13,
     "metadata": {},
     "output_type": "execute_result"
    }
   ],
   "source": [
    "# Total de alunos 1o e 2o MED em 2016\n",
    "n = len(alunos_rj_16['ID'])\n",
    "n"
   ]
  },
  {
   "cell_type": "code",
   "execution_count": 14,
   "metadata": {},
   "outputs": [
    {
     "data": {
      "text/plain": [
       "120156"
      ]
     },
     "execution_count": 14,
     "metadata": {},
     "output_type": "execute_result"
    }
   ],
   "source": [
    "df_permanencia_16_17 = alunos_rj_16[alunos_rj_16['ID'].isin(alunos_rj_17['ID'])]['ID']\n",
    "len(df_permanencia_16_17)"
   ]
  },
  {
   "cell_type": "code",
   "execution_count": 15,
   "metadata": {},
   "outputs": [
    {
     "data": {
      "text/plain": [
       "0.6571719226856562"
      ]
     },
     "execution_count": 15,
     "metadata": {},
     "output_type": "execute_result"
    }
   ],
   "source": [
    "# Percentual de permanência\n",
    "len(df_permanencia_16_17)/n"
   ]
  },
  {
   "cell_type": "code",
   "execution_count": 16,
   "metadata": {},
   "outputs": [
    {
     "data": {
      "text/html": [
       "<div>\n",
       "<style scoped>\n",
       "    .dataframe tbody tr th:only-of-type {\n",
       "        vertical-align: middle;\n",
       "    }\n",
       "\n",
       "    .dataframe tbody tr th {\n",
       "        vertical-align: top;\n",
       "    }\n",
       "\n",
       "    .dataframe thead th {\n",
       "        text-align: right;\n",
       "    }\n",
       "</style>\n",
       "<table border=\"1\" class=\"dataframe\">\n",
       "  <thead>\n",
       "    <tr style=\"text-align: right;\">\n",
       "      <th></th>\n",
       "      <th>Unnamed: 0</th>\n",
       "      <th>NU_ANO_CENSO</th>\n",
       "      <th>ID_MATRICULA</th>\n",
       "      <th>NU_DIA</th>\n",
       "      <th>NU_MES</th>\n",
       "      <th>NU_ANO</th>\n",
       "      <th>NU_IDADE_REFERENCIA</th>\n",
       "      <th>NU_IDADE</th>\n",
       "      <th>NU_DURACAO_TURMA</th>\n",
       "      <th>NU_DUR_ATIV_COMP_MESMA_REDE</th>\n",
       "      <th>NU_DUR_ATIV_COMP_OUTRAS_REDES</th>\n",
       "      <th>NU_DUR_AEE_MESMA_REDE</th>\n",
       "      <th>NU_DUR_AEE_OUTRAS_REDES</th>\n",
       "      <th>NU_DIAS_ATIVIDADE</th>\n",
       "      <th>TP_SEXO</th>\n",
       "      <th>TP_COR_RACA</th>\n",
       "      <th>TP_NACIONALIDADE</th>\n",
       "      <th>CO_PAIS_ORIGEM</th>\n",
       "      <th>CO_UF_NASC</th>\n",
       "      <th>CO_MUNICIPIO_NASC</th>\n",
       "      <th>TP_ZONA_RESIDENCIAL</th>\n",
       "      <th>TP_OUTRO_LOCAL_AULA</th>\n",
       "      <th>IN_TRANSPORTE_PUBLICO</th>\n",
       "      <th>TP_RESPONSAVEL_TRANSPORTE</th>\n",
       "      <th>IN_TRANSP_VANS_KOMBI</th>\n",
       "      <th>IN_TRANSP_MICRO_ONIBUS</th>\n",
       "      <th>IN_TRANSP_ONIBUS</th>\n",
       "      <th>IN_TRANSP_BICICLETA</th>\n",
       "      <th>IN_TRANSP_TR_ANIMAL</th>\n",
       "      <th>IN_TRANSP_OUTRO_VEICULO</th>\n",
       "      <th>IN_TRANSP_EMBAR_ATE5</th>\n",
       "      <th>IN_TRANSP_EMBAR_5A15</th>\n",
       "      <th>IN_TRANSP_EMBAR_15A35</th>\n",
       "      <th>IN_TRANSP_EMBAR_35</th>\n",
       "      <th>IN_TRANSP_TREM_METRO</th>\n",
       "      <th>IN_NECESSIDADE_ESPECIAL</th>\n",
       "      <th>TP_MEDIACAO_DIDATICO_PEDAGO</th>\n",
       "      <th>IN_ESPECIAL_EXCLUSIVA</th>\n",
       "      <th>IN_REGULAR</th>\n",
       "      <th>IN_EJA</th>\n",
       "      <th>IN_PROFISSIONALIZANTE</th>\n",
       "      <th>TP_ETAPA_ENSINO</th>\n",
       "      <th>ID_TURMA</th>\n",
       "      <th>TP_UNIFICADA</th>\n",
       "      <th>TP_TIPO_TURMA</th>\n",
       "      <th>CO_ENTIDADE</th>\n",
       "      <th>CO_REGIAO</th>\n",
       "      <th>CO_MESORREGIAO</th>\n",
       "      <th>CO_MICRORREGIAO</th>\n",
       "      <th>CO_UF</th>\n",
       "      <th>CO_MUNICIPIO</th>\n",
       "      <th>CO_DISTRITO</th>\n",
       "      <th>TP_DEPENDENCIA</th>\n",
       "      <th>TP_LOCALIZACAO</th>\n",
       "      <th>TP_REGULAMENTACAO</th>\n",
       "      <th>TP_LOCALIZACAO_DIFERENCIADA</th>\n",
       "      <th>IN_EDUCACAO_INDIGENA</th>\n",
       "      <th>ID</th>\n",
       "      <th>IN_EVASAO</th>\n",
       "    </tr>\n",
       "  </thead>\n",
       "  <tbody>\n",
       "    <tr>\n",
       "      <th>118</th>\n",
       "      <td>118</td>\n",
       "      <td>2016</td>\n",
       "      <td>162295208</td>\n",
       "      <td>2</td>\n",
       "      <td>12</td>\n",
       "      <td>1999</td>\n",
       "      <td>16</td>\n",
       "      <td>17</td>\n",
       "      <td>680</td>\n",
       "      <td>0</td>\n",
       "      <td>0</td>\n",
       "      <td>0</td>\n",
       "      <td>0</td>\n",
       "      <td>5</td>\n",
       "      <td>2</td>\n",
       "      <td>0</td>\n",
       "      <td>1</td>\n",
       "      <td>76</td>\n",
       "      <td>33.0</td>\n",
       "      <td>3301009.0</td>\n",
       "      <td>1</td>\n",
       "      <td>3</td>\n",
       "      <td>0</td>\n",
       "      <td>NaN</td>\n",
       "      <td>NaN</td>\n",
       "      <td>NaN</td>\n",
       "      <td>NaN</td>\n",
       "      <td>NaN</td>\n",
       "      <td>NaN</td>\n",
       "      <td>NaN</td>\n",
       "      <td>NaN</td>\n",
       "      <td>NaN</td>\n",
       "      <td>NaN</td>\n",
       "      <td>NaN</td>\n",
       "      <td>NaN</td>\n",
       "      <td>0</td>\n",
       "      <td>1</td>\n",
       "      <td>0</td>\n",
       "      <td>1</td>\n",
       "      <td>0</td>\n",
       "      <td>1</td>\n",
       "      <td>31</td>\n",
       "      <td>6062013</td>\n",
       "      <td>0</td>\n",
       "      <td>0</td>\n",
       "      <td>33009627</td>\n",
       "      <td>3</td>\n",
       "      <td>3302</td>\n",
       "      <td>33003</td>\n",
       "      <td>33</td>\n",
       "      <td>3301009</td>\n",
       "      <td>330100905</td>\n",
       "      <td>2</td>\n",
       "      <td>1</td>\n",
       "      <td>1</td>\n",
       "      <td>0</td>\n",
       "      <td>0</td>\n",
       "      <td>112132289130</td>\n",
       "      <td>0</td>\n",
       "    </tr>\n",
       "    <tr>\n",
       "      <th>122</th>\n",
       "      <td>122</td>\n",
       "      <td>2016</td>\n",
       "      <td>114897083</td>\n",
       "      <td>3</td>\n",
       "      <td>12</td>\n",
       "      <td>1995</td>\n",
       "      <td>20</td>\n",
       "      <td>21</td>\n",
       "      <td>680</td>\n",
       "      <td>0</td>\n",
       "      <td>0</td>\n",
       "      <td>0</td>\n",
       "      <td>0</td>\n",
       "      <td>5</td>\n",
       "      <td>2</td>\n",
       "      <td>0</td>\n",
       "      <td>1</td>\n",
       "      <td>76</td>\n",
       "      <td>33.0</td>\n",
       "      <td>3301009.0</td>\n",
       "      <td>1</td>\n",
       "      <td>3</td>\n",
       "      <td>0</td>\n",
       "      <td>NaN</td>\n",
       "      <td>NaN</td>\n",
       "      <td>NaN</td>\n",
       "      <td>NaN</td>\n",
       "      <td>NaN</td>\n",
       "      <td>NaN</td>\n",
       "      <td>NaN</td>\n",
       "      <td>NaN</td>\n",
       "      <td>NaN</td>\n",
       "      <td>NaN</td>\n",
       "      <td>NaN</td>\n",
       "      <td>NaN</td>\n",
       "      <td>0</td>\n",
       "      <td>1</td>\n",
       "      <td>0</td>\n",
       "      <td>1</td>\n",
       "      <td>0</td>\n",
       "      <td>1</td>\n",
       "      <td>31</td>\n",
       "      <td>6062013</td>\n",
       "      <td>0</td>\n",
       "      <td>0</td>\n",
       "      <td>33009627</td>\n",
       "      <td>3</td>\n",
       "      <td>3302</td>\n",
       "      <td>33003</td>\n",
       "      <td>33</td>\n",
       "      <td>3301009</td>\n",
       "      <td>330100905</td>\n",
       "      <td>2</td>\n",
       "      <td>1</td>\n",
       "      <td>1</td>\n",
       "      <td>0</td>\n",
       "      <td>0</td>\n",
       "      <td>113220290328</td>\n",
       "      <td>1</td>\n",
       "    </tr>\n",
       "    <tr>\n",
       "      <th>124</th>\n",
       "      <td>124</td>\n",
       "      <td>2016</td>\n",
       "      <td>189344</td>\n",
       "      <td>7</td>\n",
       "      <td>5</td>\n",
       "      <td>2000</td>\n",
       "      <td>16</td>\n",
       "      <td>16</td>\n",
       "      <td>680</td>\n",
       "      <td>0</td>\n",
       "      <td>0</td>\n",
       "      <td>0</td>\n",
       "      <td>0</td>\n",
       "      <td>5</td>\n",
       "      <td>2</td>\n",
       "      <td>0</td>\n",
       "      <td>1</td>\n",
       "      <td>76</td>\n",
       "      <td>33.0</td>\n",
       "      <td>3301009.0</td>\n",
       "      <td>1</td>\n",
       "      <td>3</td>\n",
       "      <td>0</td>\n",
       "      <td>NaN</td>\n",
       "      <td>NaN</td>\n",
       "      <td>NaN</td>\n",
       "      <td>NaN</td>\n",
       "      <td>NaN</td>\n",
       "      <td>NaN</td>\n",
       "      <td>NaN</td>\n",
       "      <td>NaN</td>\n",
       "      <td>NaN</td>\n",
       "      <td>NaN</td>\n",
       "      <td>NaN</td>\n",
       "      <td>NaN</td>\n",
       "      <td>0</td>\n",
       "      <td>1</td>\n",
       "      <td>0</td>\n",
       "      <td>1</td>\n",
       "      <td>0</td>\n",
       "      <td>1</td>\n",
       "      <td>31</td>\n",
       "      <td>6060199</td>\n",
       "      <td>0</td>\n",
       "      <td>0</td>\n",
       "      <td>33009627</td>\n",
       "      <td>3</td>\n",
       "      <td>3302</td>\n",
       "      <td>33003</td>\n",
       "      <td>33</td>\n",
       "      <td>3301009</td>\n",
       "      <td>330100905</td>\n",
       "      <td>2</td>\n",
       "      <td>1</td>\n",
       "      <td>1</td>\n",
       "      <td>0</td>\n",
       "      <td>0</td>\n",
       "      <td>112752673352</td>\n",
       "      <td>0</td>\n",
       "    </tr>\n",
       "    <tr>\n",
       "      <th>142</th>\n",
       "      <td>142</td>\n",
       "      <td>2016</td>\n",
       "      <td>239895</td>\n",
       "      <td>19</td>\n",
       "      <td>8</td>\n",
       "      <td>1999</td>\n",
       "      <td>16</td>\n",
       "      <td>17</td>\n",
       "      <td>680</td>\n",
       "      <td>0</td>\n",
       "      <td>0</td>\n",
       "      <td>0</td>\n",
       "      <td>0</td>\n",
       "      <td>5</td>\n",
       "      <td>2</td>\n",
       "      <td>1</td>\n",
       "      <td>1</td>\n",
       "      <td>76</td>\n",
       "      <td>33.0</td>\n",
       "      <td>3304557.0</td>\n",
       "      <td>1</td>\n",
       "      <td>3</td>\n",
       "      <td>0</td>\n",
       "      <td>NaN</td>\n",
       "      <td>NaN</td>\n",
       "      <td>NaN</td>\n",
       "      <td>NaN</td>\n",
       "      <td>NaN</td>\n",
       "      <td>NaN</td>\n",
       "      <td>NaN</td>\n",
       "      <td>NaN</td>\n",
       "      <td>NaN</td>\n",
       "      <td>NaN</td>\n",
       "      <td>NaN</td>\n",
       "      <td>NaN</td>\n",
       "      <td>0</td>\n",
       "      <td>1</td>\n",
       "      <td>0</td>\n",
       "      <td>1</td>\n",
       "      <td>0</td>\n",
       "      <td>1</td>\n",
       "      <td>31</td>\n",
       "      <td>6070919</td>\n",
       "      <td>0</td>\n",
       "      <td>0</td>\n",
       "      <td>33009627</td>\n",
       "      <td>3</td>\n",
       "      <td>3302</td>\n",
       "      <td>33003</td>\n",
       "      <td>33</td>\n",
       "      <td>3301009</td>\n",
       "      <td>330100905</td>\n",
       "      <td>2</td>\n",
       "      <td>1</td>\n",
       "      <td>1</td>\n",
       "      <td>0</td>\n",
       "      <td>0</td>\n",
       "      <td>117459545545</td>\n",
       "      <td>0</td>\n",
       "    </tr>\n",
       "    <tr>\n",
       "      <th>150</th>\n",
       "      <td>150</td>\n",
       "      <td>2016</td>\n",
       "      <td>185051</td>\n",
       "      <td>11</td>\n",
       "      <td>10</td>\n",
       "      <td>1998</td>\n",
       "      <td>17</td>\n",
       "      <td>18</td>\n",
       "      <td>680</td>\n",
       "      <td>0</td>\n",
       "      <td>0</td>\n",
       "      <td>0</td>\n",
       "      <td>0</td>\n",
       "      <td>5</td>\n",
       "      <td>2</td>\n",
       "      <td>0</td>\n",
       "      <td>1</td>\n",
       "      <td>76</td>\n",
       "      <td>33.0</td>\n",
       "      <td>3304557.0</td>\n",
       "      <td>1</td>\n",
       "      <td>3</td>\n",
       "      <td>0</td>\n",
       "      <td>NaN</td>\n",
       "      <td>NaN</td>\n",
       "      <td>NaN</td>\n",
       "      <td>NaN</td>\n",
       "      <td>NaN</td>\n",
       "      <td>NaN</td>\n",
       "      <td>NaN</td>\n",
       "      <td>NaN</td>\n",
       "      <td>NaN</td>\n",
       "      <td>NaN</td>\n",
       "      <td>NaN</td>\n",
       "      <td>NaN</td>\n",
       "      <td>0</td>\n",
       "      <td>1</td>\n",
       "      <td>0</td>\n",
       "      <td>1</td>\n",
       "      <td>0</td>\n",
       "      <td>1</td>\n",
       "      <td>31</td>\n",
       "      <td>6060199</td>\n",
       "      <td>0</td>\n",
       "      <td>0</td>\n",
       "      <td>33009627</td>\n",
       "      <td>3</td>\n",
       "      <td>3302</td>\n",
       "      <td>33003</td>\n",
       "      <td>33</td>\n",
       "      <td>3301009</td>\n",
       "      <td>330100905</td>\n",
       "      <td>2</td>\n",
       "      <td>1</td>\n",
       "      <td>1</td>\n",
       "      <td>0</td>\n",
       "      <td>0</td>\n",
       "      <td>113868062938</td>\n",
       "      <td>1</td>\n",
       "    </tr>\n",
       "  </tbody>\n",
       "</table>\n",
       "</div>"
      ],
      "text/plain": [
       "     Unnamed: 0  NU_ANO_CENSO  ID_MATRICULA  NU_DIA  NU_MES  NU_ANO  \\\n",
       "118         118          2016     162295208       2      12    1999   \n",
       "122         122          2016     114897083       3      12    1995   \n",
       "124         124          2016        189344       7       5    2000   \n",
       "142         142          2016        239895      19       8    1999   \n",
       "150         150          2016        185051      11      10    1998   \n",
       "\n",
       "     NU_IDADE_REFERENCIA  NU_IDADE  NU_DURACAO_TURMA  \\\n",
       "118                   16        17               680   \n",
       "122                   20        21               680   \n",
       "124                   16        16               680   \n",
       "142                   16        17               680   \n",
       "150                   17        18               680   \n",
       "\n",
       "     NU_DUR_ATIV_COMP_MESMA_REDE  NU_DUR_ATIV_COMP_OUTRAS_REDES  \\\n",
       "118                            0                              0   \n",
       "122                            0                              0   \n",
       "124                            0                              0   \n",
       "142                            0                              0   \n",
       "150                            0                              0   \n",
       "\n",
       "     NU_DUR_AEE_MESMA_REDE  NU_DUR_AEE_OUTRAS_REDES  NU_DIAS_ATIVIDADE  \\\n",
       "118                      0                        0                  5   \n",
       "122                      0                        0                  5   \n",
       "124                      0                        0                  5   \n",
       "142                      0                        0                  5   \n",
       "150                      0                        0                  5   \n",
       "\n",
       "     TP_SEXO  TP_COR_RACA  TP_NACIONALIDADE  CO_PAIS_ORIGEM  CO_UF_NASC  \\\n",
       "118        2            0                 1              76        33.0   \n",
       "122        2            0                 1              76        33.0   \n",
       "124        2            0                 1              76        33.0   \n",
       "142        2            1                 1              76        33.0   \n",
       "150        2            0                 1              76        33.0   \n",
       "\n",
       "     CO_MUNICIPIO_NASC  TP_ZONA_RESIDENCIAL  TP_OUTRO_LOCAL_AULA  \\\n",
       "118          3301009.0                    1                    3   \n",
       "122          3301009.0                    1                    3   \n",
       "124          3301009.0                    1                    3   \n",
       "142          3304557.0                    1                    3   \n",
       "150          3304557.0                    1                    3   \n",
       "\n",
       "     IN_TRANSPORTE_PUBLICO  TP_RESPONSAVEL_TRANSPORTE  IN_TRANSP_VANS_KOMBI  \\\n",
       "118                      0                        NaN                   NaN   \n",
       "122                      0                        NaN                   NaN   \n",
       "124                      0                        NaN                   NaN   \n",
       "142                      0                        NaN                   NaN   \n",
       "150                      0                        NaN                   NaN   \n",
       "\n",
       "     IN_TRANSP_MICRO_ONIBUS  IN_TRANSP_ONIBUS  IN_TRANSP_BICICLETA  \\\n",
       "118                     NaN               NaN                  NaN   \n",
       "122                     NaN               NaN                  NaN   \n",
       "124                     NaN               NaN                  NaN   \n",
       "142                     NaN               NaN                  NaN   \n",
       "150                     NaN               NaN                  NaN   \n",
       "\n",
       "     IN_TRANSP_TR_ANIMAL  IN_TRANSP_OUTRO_VEICULO  IN_TRANSP_EMBAR_ATE5  \\\n",
       "118                  NaN                      NaN                   NaN   \n",
       "122                  NaN                      NaN                   NaN   \n",
       "124                  NaN                      NaN                   NaN   \n",
       "142                  NaN                      NaN                   NaN   \n",
       "150                  NaN                      NaN                   NaN   \n",
       "\n",
       "     IN_TRANSP_EMBAR_5A15  IN_TRANSP_EMBAR_15A35  IN_TRANSP_EMBAR_35  \\\n",
       "118                   NaN                    NaN                 NaN   \n",
       "122                   NaN                    NaN                 NaN   \n",
       "124                   NaN                    NaN                 NaN   \n",
       "142                   NaN                    NaN                 NaN   \n",
       "150                   NaN                    NaN                 NaN   \n",
       "\n",
       "     IN_TRANSP_TREM_METRO  IN_NECESSIDADE_ESPECIAL  \\\n",
       "118                   NaN                        0   \n",
       "122                   NaN                        0   \n",
       "124                   NaN                        0   \n",
       "142                   NaN                        0   \n",
       "150                   NaN                        0   \n",
       "\n",
       "     TP_MEDIACAO_DIDATICO_PEDAGO  IN_ESPECIAL_EXCLUSIVA  IN_REGULAR  IN_EJA  \\\n",
       "118                            1                      0           1       0   \n",
       "122                            1                      0           1       0   \n",
       "124                            1                      0           1       0   \n",
       "142                            1                      0           1       0   \n",
       "150                            1                      0           1       0   \n",
       "\n",
       "     IN_PROFISSIONALIZANTE  TP_ETAPA_ENSINO  ID_TURMA  TP_UNIFICADA  \\\n",
       "118                      1               31   6062013             0   \n",
       "122                      1               31   6062013             0   \n",
       "124                      1               31   6060199             0   \n",
       "142                      1               31   6070919             0   \n",
       "150                      1               31   6060199             0   \n",
       "\n",
       "     TP_TIPO_TURMA  CO_ENTIDADE  CO_REGIAO  CO_MESORREGIAO  CO_MICRORREGIAO  \\\n",
       "118              0     33009627          3            3302            33003   \n",
       "122              0     33009627          3            3302            33003   \n",
       "124              0     33009627          3            3302            33003   \n",
       "142              0     33009627          3            3302            33003   \n",
       "150              0     33009627          3            3302            33003   \n",
       "\n",
       "     CO_UF  CO_MUNICIPIO  CO_DISTRITO  TP_DEPENDENCIA  TP_LOCALIZACAO  \\\n",
       "118     33       3301009    330100905               2               1   \n",
       "122     33       3301009    330100905               2               1   \n",
       "124     33       3301009    330100905               2               1   \n",
       "142     33       3301009    330100905               2               1   \n",
       "150     33       3301009    330100905               2               1   \n",
       "\n",
       "     TP_REGULAMENTACAO  TP_LOCALIZACAO_DIFERENCIADA  IN_EDUCACAO_INDIGENA  \\\n",
       "118                  1                            0                     0   \n",
       "122                  1                            0                     0   \n",
       "124                  1                            0                     0   \n",
       "142                  1                            0                     0   \n",
       "150                  1                            0                     0   \n",
       "\n",
       "               ID  IN_EVASAO  \n",
       "118  112132289130          0  \n",
       "122  113220290328          1  \n",
       "124  112752673352          0  \n",
       "142  117459545545          0  \n",
       "150  113868062938          1  "
      ]
     },
     "execution_count": 16,
     "metadata": {},
     "output_type": "execute_result"
    }
   ],
   "source": [
    "alunos_rj_16['IN_EVASAO'] = np.where(alunos_rj_16['ID'].isin(df_permanencia_16_17), 0, 1)\n",
    "alunos_rj_16.head()"
   ]
  },
  {
   "cell_type": "code",
   "execution_count": 17,
   "metadata": {},
   "outputs": [
    {
     "data": {
      "text/plain": [
       "array([112132289130, 112752673352, 117459545545, 110337630479,\n",
       "       112508075220])"
      ]
     },
     "execution_count": 17,
     "metadata": {},
     "output_type": "execute_result"
    }
   ],
   "source": [
    "t = alunos_rj_16[alunos_rj_16['ID'].isin(alunos_rj_17['ID'])]\n",
    "t['ID'].values[:5]"
   ]
  },
  {
   "cell_type": "markdown",
   "metadata": {},
   "source": [
    "### Variáveis de caracterização dos alunos"
   ]
  },
  {
   "cell_type": "markdown",
   "metadata": {},
   "source": [
    "#### Pessoal"
   ]
  },
  {
   "cell_type": "markdown",
   "metadata": {},
   "source": [
    "* Raça: maioria (46%) não declarada"
   ]
  },
  {
   "cell_type": "code",
   "execution_count": 18,
   "metadata": {
    "scrolled": true
   },
   "outputs": [
    {
     "data": {
      "text/plain": [
       "0    84623\n",
       "3    51340\n",
       "1    31478\n",
       "2    14930\n",
       "4      356\n",
       "5      111\n",
       "Name: TP_COR_RACA, dtype: int64"
      ]
     },
     "execution_count": 18,
     "metadata": {},
     "output_type": "execute_result"
    }
   ],
   "source": [
    "alunos_rj_16['TP_COR_RACA'].value_counts() # Maioria não declarada"
   ]
  },
  {
   "cell_type": "code",
   "execution_count": 20,
   "metadata": {},
   "outputs": [
    {
     "data": {
      "text/plain": [
       "0    0.462830\n",
       "3    0.280795\n",
       "1    0.172163\n",
       "2    0.081657\n",
       "4    0.001947\n",
       "5    0.000607\n",
       "Name: TP_COR_RACA, dtype: float64"
      ]
     },
     "execution_count": 20,
     "metadata": {},
     "output_type": "execute_result"
    }
   ],
   "source": [
    "alunos_rj_16['TP_COR_RACA'].value_counts(normalize=True)"
   ]
  },
  {
   "cell_type": "code",
   "execution_count": 21,
   "metadata": {},
   "outputs": [
    {
     "data": {
      "text/plain": [
       "1.0"
      ]
     },
     "execution_count": 21,
     "metadata": {},
     "output_type": "execute_result"
    }
   ],
   "source": [
    "# Percentual de preenchimento\n",
    "n = len(alunos_rj_16[alunos_rj_16['TP_COR_RACA'].isnull() == False])\n",
    "n/len(alunos_rj_16)"
   ]
  },
  {
   "cell_type": "markdown",
   "metadata": {},
   "source": [
    "* Sexo: ok"
   ]
  },
  {
   "cell_type": "code",
   "execution_count": 22,
   "metadata": {},
   "outputs": [
    {
     "data": {
      "text/plain": [
       "1.0"
      ]
     },
     "execution_count": 22,
     "metadata": {},
     "output_type": "execute_result"
    }
   ],
   "source": [
    "# Percentual de preenchimento\n",
    "n = len(alunos_rj_16[alunos_rj_16['TP_SEXO'].isnull() == False])\n",
    "n/len(alunos_rj_16)"
   ]
  },
  {
   "cell_type": "code",
   "execution_count": 23,
   "metadata": {},
   "outputs": [
    {
     "data": {
      "text/plain": [
       "1    94256\n",
       "2    88582\n",
       "Name: TP_SEXO, dtype: int64"
      ]
     },
     "execution_count": 23,
     "metadata": {},
     "output_type": "execute_result"
    }
   ],
   "source": [
    "n = alunos_rj_16['TP_SEXO'].value_counts() # Maioria homem\n",
    "n"
   ]
  },
  {
   "cell_type": "code",
   "execution_count": 24,
   "metadata": {
    "scrolled": true
   },
   "outputs": [
    {
     "data": {
      "text/plain": [
       "1    0.515516\n",
       "2    0.484484\n",
       "Name: TP_SEXO, dtype: float64"
      ]
     },
     "execution_count": 24,
     "metadata": {},
     "output_type": "execute_result"
    }
   ],
   "source": [
    "alunos_rj_16['TP_SEXO'].value_counts(normalize=True)"
   ]
  },
  {
   "cell_type": "code",
   "execution_count": 25,
   "metadata": {},
   "outputs": [
    {
     "data": {
      "text/plain": [
       "1    34306\n",
       "2    28376\n",
       "Name: TP_SEXO, dtype: int64"
      ]
     },
     "execution_count": 25,
     "metadata": {},
     "output_type": "execute_result"
    }
   ],
   "source": [
    "# Evadidos: percentual semelhante, pouco mais homens\n",
    "ev = alunos_rj_16[alunos_rj_16['IN_EVASAO'] == 1]['TP_SEXO'].value_counts()\n",
    "ev"
   ]
  },
  {
   "cell_type": "code",
   "execution_count": 26,
   "metadata": {},
   "outputs": [
    {
     "data": {
      "text/plain": [
       "1    0.363966\n",
       "2    0.320336\n",
       "Name: TP_SEXO, dtype: float64"
      ]
     },
     "execution_count": 26,
     "metadata": {},
     "output_type": "execute_result"
    }
   ],
   "source": [
    "ev/n"
   ]
  },
  {
   "cell_type": "markdown",
   "metadata": {},
   "source": [
    "* Idade: ok"
   ]
  },
  {
   "cell_type": "code",
   "execution_count": 27,
   "metadata": {},
   "outputs": [
    {
     "data": {
      "text/plain": [
       "1.0"
      ]
     },
     "execution_count": 27,
     "metadata": {},
     "output_type": "execute_result"
    }
   ],
   "source": [
    "# Percentual de preenchimento\n",
    "n = len(alunos_rj_16[alunos_rj_16['NU_IDADE_REFERENCIA'].isnull() == False])\n",
    "n/len(alunos_rj_16)"
   ]
  },
  {
   "cell_type": "code",
   "execution_count": 28,
   "metadata": {
    "scrolled": false
   },
   "outputs": [
    {
     "data": {
      "text/plain": [
       "15    61605\n",
       "16    54432\n",
       "17    35777\n",
       "18    14741\n",
       "14     7120\n",
       "19     4763\n",
       "20     1959\n",
       "21      731\n",
       "22      376\n",
       "23      219\n",
       "Name: NU_IDADE_REFERENCIA, dtype: int64"
      ]
     },
     "execution_count": 28,
     "metadata": {},
     "output_type": "execute_result"
    }
   ],
   "source": [
    "alunos_rj_16['NU_IDADE_REFERENCIA'].value_counts()[:10] # Maioria entre 14-17, também idades muito discrepantes"
   ]
  },
  {
   "cell_type": "code",
   "execution_count": 29,
   "metadata": {},
   "outputs": [
    {
     "data": {
      "text/plain": [
       "(-inf, 14.0]    0.039669\n",
       "(14.0, 16.0]    0.634644\n",
       "(16.0, 18.0]    0.276299\n",
       "(18.0, 20.0]    0.036765\n",
       "(20.0, inf]     0.012623\n",
       "Name: NU_IDADE_REFERENCIA, dtype: float64"
      ]
     },
     "execution_count": 29,
     "metadata": {},
     "output_type": "execute_result"
    }
   ],
   "source": [
    "# Distorção idade série: Maior ou igual a 17 anos para o 10 ano do MED\n",
    "bins_idade = pd.cut(alunos_rj_16['NU_IDADE_REFERENCIA'], [-np.inf, 14, 16, 18, 20, np.inf])\n",
    "bins_idade.value_counts(normalize=True).sort_index()"
   ]
  },
  {
   "cell_type": "code",
   "execution_count": 30,
   "metadata": {},
   "outputs": [],
   "source": [
    "alunos_rj_16['IN_DISTORCAO'] = np.where(alunos_rj_16['NU_IDADE_REFERENCIA'] >= 17, 1, 0)"
   ]
  },
  {
   "cell_type": "code",
   "execution_count": 31,
   "metadata": {},
   "outputs": [
    {
     "data": {
      "text/plain": [
       "0    123290\n",
       "1     59548\n",
       "Name: IN_DISTORCAO, dtype: int64"
      ]
     },
     "execution_count": 31,
     "metadata": {},
     "output_type": "execute_result"
    }
   ],
   "source": [
    "n = alunos_rj_16['IN_DISTORCAO'].value_counts()\n",
    "n"
   ]
  },
  {
   "cell_type": "code",
   "execution_count": 32,
   "metadata": {},
   "outputs": [
    {
     "data": {
      "text/plain": [
       "0    0.674313\n",
       "1    0.325687\n",
       "Name: IN_DISTORCAO, dtype: float64"
      ]
     },
     "execution_count": 32,
     "metadata": {},
     "output_type": "execute_result"
    }
   ],
   "source": [
    "alunos_rj_16['IN_DISTORCAO'].value_counts(normalize=True)"
   ]
  },
  {
   "cell_type": "code",
   "execution_count": 33,
   "metadata": {},
   "outputs": [
    {
     "data": {
      "text/plain": [
       "1    34554\n",
       "0    28128\n",
       "Name: IN_DISTORCAO, dtype: int64"
      ]
     },
     "execution_count": 33,
     "metadata": {},
     "output_type": "execute_result"
    }
   ],
   "source": [
    "# Evadidos: maior percentual de alunos com distorção idade-série\n",
    "ev = alunos_rj_16[alunos_rj_16['IN_EVASAO'] == 1]['IN_DISTORCAO'].value_counts()\n",
    "ev"
   ]
  },
  {
   "cell_type": "code",
   "execution_count": 34,
   "metadata": {},
   "outputs": [
    {
     "data": {
      "text/plain": [
       "0    0.228145\n",
       "1    0.580271\n",
       "Name: IN_DISTORCAO, dtype: float64"
      ]
     },
     "execution_count": 34,
     "metadata": {},
     "output_type": "execute_result"
    }
   ],
   "source": [
    "ev/n"
   ]
  },
  {
   "cell_type": "markdown",
   "metadata": {},
   "source": [
    "* Deficiência: 99% não tem"
   ]
  },
  {
   "cell_type": "code",
   "execution_count": 35,
   "metadata": {},
   "outputs": [
    {
     "data": {
      "text/plain": [
       "0    0.994728\n",
       "1    0.005272\n",
       "Name: IN_NECESSIDADE_ESPECIAL, dtype: float64"
      ]
     },
     "execution_count": 35,
     "metadata": {},
     "output_type": "execute_result"
    }
   ],
   "source": [
    "alunos_rj_16['IN_NECESSIDADE_ESPECIAL'].value_counts(normalize=True) # Quase ninguém com necessidade especial"
   ]
  },
  {
   "cell_type": "code",
   "execution_count": 36,
   "metadata": {},
   "outputs": [
    {
     "data": {
      "text/plain": [
       "1.0"
      ]
     },
     "execution_count": 36,
     "metadata": {},
     "output_type": "execute_result"
    }
   ],
   "source": [
    "# Percentual de preenchimento\n",
    "n = len(alunos_rj_16[alunos_rj_16['IN_NECESSIDADE_ESPECIAL'].isnull() == False])\n",
    "n/len(alunos_rj_16)"
   ]
  },
  {
   "cell_type": "markdown",
   "metadata": {},
   "source": [
    "* Nacionalidade: 99% brasil"
   ]
  },
  {
   "cell_type": "code",
   "execution_count": 37,
   "metadata": {},
   "outputs": [
    {
     "data": {
      "text/plain": [
       "1    0.999448\n",
       "3    0.000509\n",
       "2    0.000044\n",
       "Name: TP_NACIONALIDADE, dtype: float64"
      ]
     },
     "execution_count": 37,
     "metadata": {},
     "output_type": "execute_result"
    }
   ],
   "source": [
    "alunos_rj_16['TP_NACIONALIDADE'].value_counts(normalize=True)"
   ]
  },
  {
   "cell_type": "markdown",
   "metadata": {},
   "source": [
    "* Local de nascimento: 94% no RJ"
   ]
  },
  {
   "cell_type": "code",
   "execution_count": 38,
   "metadata": {},
   "outputs": [
    {
     "data": {
      "text/plain": [
       "33.0    0.940237\n",
       "31.0    0.010272\n",
       "35.0    0.007628\n",
       "29.0    0.007234\n",
       "25.0    0.006851\n",
       "23.0    0.005472\n",
       "32.0    0.004115\n",
       "26.0    0.003727\n",
       "21.0    0.003705\n",
       "15.0    0.001773\n",
       "27.0    0.001445\n",
       "22.0    0.001275\n",
       "24.0    0.001177\n",
       "53.0    0.000897\n",
       "28.0    0.000821\n",
       "41.0    0.000679\n",
       "43.0    0.000509\n",
       "13.0    0.000487\n",
       "52.0    0.000405\n",
       "50.0    0.000334\n",
       "51.0    0.000246\n",
       "42.0    0.000197\n",
       "11.0    0.000186\n",
       "17.0    0.000142\n",
       "14.0    0.000077\n",
       "12.0    0.000077\n",
       "16.0    0.000033\n",
       "Name: CO_UF_NASC, dtype: float64"
      ]
     },
     "execution_count": 38,
     "metadata": {},
     "output_type": "execute_result"
    }
   ],
   "source": [
    "alunos_rj_16['CO_UF_NASC'].value_counts(normalize=True)"
   ]
  },
  {
   "cell_type": "code",
   "execution_count": 39,
   "metadata": {},
   "outputs": [
    {
     "data": {
      "text/plain": [
       "3304557.0    0.427297\n",
       "3301702.0    0.046230\n",
       "3304904.0    0.043642\n",
       "3303500.0    0.034054\n",
       "3305109.0    0.031154\n",
       "3301009.0    0.028659\n",
       "3300456.0    0.028401\n",
       "3303302.0    0.026831\n",
       "3303906.0    0.016740\n",
       "3301900.0    0.016691\n",
       "3306305.0    0.016072\n",
       "3305802.0    0.013123\n",
       "3302502.0    0.012630\n",
       "3303203.0    0.012143\n",
       "3302403.0    0.010578\n",
       "3300100.0    0.010058\n",
       "3300407.0    0.009434\n",
       "3304144.0    0.009210\n",
       "3303401.0    0.009035\n",
       "3303609.0    0.008914\n",
       "3300704.0    0.008438\n",
       "3304201.0    0.008033\n",
       "3302270.0    0.006704\n",
       "3300209.0    0.006145\n",
       "3302205.0    0.005987\n",
       "3304300.0    0.005549\n",
       "3302858.0    0.005505\n",
       "3306008.0    0.005264\n",
       "3300308.0    0.005002\n",
       "3302007.0    0.004974\n",
       "               ...   \n",
       "2703007.0    0.000005\n",
       "2703908.0    0.000005\n",
       "2303808.0    0.000005\n",
       "2704708.0    0.000005\n",
       "2303501.0    0.000005\n",
       "2705200.0    0.000005\n",
       "2616183.0    0.000005\n",
       "2305704.0    0.000005\n",
       "2615102.0    0.000005\n",
       "2306108.0    0.000005\n",
       "2309805.0    0.000005\n",
       "2309706.0    0.000005\n",
       "2309607.0    0.000005\n",
       "2309508.0    0.000005\n",
       "2309409.0    0.000005\n",
       "2612901.0    0.000005\n",
       "2308104.0    0.000005\n",
       "2613305.0    0.000005\n",
       "2613404.0    0.000005\n",
       "2613503.0    0.000005\n",
       "2307502.0    0.000005\n",
       "2614303.0    0.000005\n",
       "2307205.0    0.000005\n",
       "2307007.0    0.000005\n",
       "2306900.0    0.000005\n",
       "2306603.0    0.000005\n",
       "2614808.0    0.000005\n",
       "2306306.0    0.000005\n",
       "2306207.0    0.000005\n",
       "3145851.0    0.000005\n",
       "Name: CO_MUNICIPIO_NASC, Length: 1741, dtype: float64"
      ]
     },
     "execution_count": 39,
     "metadata": {},
     "output_type": "execute_result"
    }
   ],
   "source": [
    "alunos_rj_16['CO_MUNICIPIO_NASC'].value_counts(normalize=True)"
   ]
  },
  {
   "cell_type": "code",
   "execution_count": 40,
   "metadata": {
    "scrolled": true
   },
   "outputs": [
    {
     "data": {
      "text/plain": [
       "False    0.677069\n",
       "True     0.322931\n",
       "dtype: float64"
      ]
     },
     "execution_count": 40,
     "metadata": {},
     "output_type": "execute_result"
    }
   ],
   "source": [
    "v = alunos_rj_16['CO_MUNICIPIO_NASC'] != alunos_rj_16['CO_MUNICIPIO']\n",
    "v.value_counts(normalize=True)"
   ]
  },
  {
   "cell_type": "markdown",
   "metadata": {},
   "source": [
    "* Residência: 95% urbano, não tem cidade (< 7% preenchido)"
   ]
  },
  {
   "cell_type": "code",
   "execution_count": 41,
   "metadata": {},
   "outputs": [
    {
     "data": {
      "text/plain": [
       "1    0.956218\n",
       "2    0.043782\n",
       "Name: TP_ZONA_RESIDENCIAL, dtype: float64"
      ]
     },
     "execution_count": 41,
     "metadata": {},
     "output_type": "execute_result"
    }
   ],
   "source": [
    "alunos_rj_16['TP_ZONA_RESIDENCIAL'].value_counts(normalize=True)"
   ]
  },
  {
   "cell_type": "markdown",
   "metadata": {
    "heading_collapsed": true
   },
   "source": [
    "#### Transporte"
   ]
  },
  {
   "cell_type": "markdown",
   "metadata": {
    "hidden": true
   },
   "source": [
    "Tudo preenchido!! 2/3 utiliza transporte público"
   ]
  },
  {
   "cell_type": "code",
   "execution_count": 42,
   "metadata": {
    "hidden": true
   },
   "outputs": [
    {
     "data": {
      "text/plain": [
       "1.0"
      ]
     },
     "execution_count": 42,
     "metadata": {},
     "output_type": "execute_result"
    }
   ],
   "source": [
    "# Percentual de preenchimento\n",
    "n = len(alunos_rj_16[alunos_rj_16['IN_TRANSPORTE_PUBLICO'].isnull() == False])\n",
    "n/len(alunos_rj_16)"
   ]
  },
  {
   "cell_type": "code",
   "execution_count": 43,
   "metadata": {
    "hidden": true
   },
   "outputs": [
    {
     "data": {
      "text/plain": [
       "1    121962\n",
       "0     60876\n",
       "Name: IN_TRANSPORTE_PUBLICO, dtype: int64"
      ]
     },
     "execution_count": 43,
     "metadata": {},
     "output_type": "execute_result"
    }
   ],
   "source": [
    "n = alunos_rj_16['IN_TRANSPORTE_PUBLICO'].value_counts() # Já tem uma variação mais razoável: 2/3 utiliza\n",
    "n"
   ]
  },
  {
   "cell_type": "code",
   "execution_count": 44,
   "metadata": {
    "hidden": true
   },
   "outputs": [
    {
     "data": {
      "text/plain": [
       "1    0.66705\n",
       "0    0.33295\n",
       "Name: IN_TRANSPORTE_PUBLICO, dtype: float64"
      ]
     },
     "execution_count": 44,
     "metadata": {},
     "output_type": "execute_result"
    }
   ],
   "source": [
    "alunos_rj_16['IN_TRANSPORTE_PUBLICO'].value_counts(normalize=True)"
   ]
  },
  {
   "cell_type": "code",
   "execution_count": 45,
   "metadata": {
    "hidden": true
   },
   "outputs": [
    {
     "data": {
      "text/plain": [
       "1    37726\n",
       "0    24956\n",
       "Name: IN_TRANSPORTE_PUBLICO, dtype: int64"
      ]
     },
     "execution_count": 45,
     "metadata": {},
     "output_type": "execute_result"
    }
   ],
   "source": [
    "# Evadidos: maior percentual dentre os que não utilizam transporte público\n",
    "ev = alunos_rj_16[alunos_rj_16['IN_EVASAO'] == 1]['IN_TRANSPORTE_PUBLICO'].value_counts()\n",
    "ev"
   ]
  },
  {
   "cell_type": "code",
   "execution_count": 46,
   "metadata": {
    "hidden": true
   },
   "outputs": [
    {
     "data": {
      "text/plain": [
       "1    0.309326\n",
       "0    0.409948\n",
       "Name: IN_TRANSPORTE_PUBLICO, dtype: float64"
      ]
     },
     "execution_count": 46,
     "metadata": {},
     "output_type": "execute_result"
    }
   ],
   "source": [
    "ev/n"
   ]
  },
  {
   "cell_type": "markdown",
   "metadata": {
    "hidden": true
   },
   "source": [
    "* Responsável e tipos de transporte (só válidos para os 67% que usam): 99% anda de ônibus"
   ]
  },
  {
   "cell_type": "code",
   "execution_count": 47,
   "metadata": {
    "hidden": true
   },
   "outputs": [
    {
     "data": {
      "text/plain": [
       "array([0])"
      ]
     },
     "execution_count": 47,
     "metadata": {},
     "output_type": "execute_result"
    }
   ],
   "source": [
    "alunos_rj_16[alunos_rj_16['TP_RESPONSAVEL_TRANSPORTE'].isnull() == True]['IN_TRANSPORTE_PUBLICO'].unique()"
   ]
  },
  {
   "cell_type": "code",
   "execution_count": 48,
   "metadata": {
    "hidden": true
   },
   "outputs": [
    {
     "data": {
      "text/plain": [
       "array([1])"
      ]
     },
     "execution_count": 48,
     "metadata": {},
     "output_type": "execute_result"
    }
   ],
   "source": [
    "alunos_rj_16[alunos_rj_16['TP_RESPONSAVEL_TRANSPORTE'].isnull() == False]['IN_TRANSPORTE_PUBLICO'].unique()"
   ]
  },
  {
   "cell_type": "code",
   "execution_count": 49,
   "metadata": {
    "hidden": true
   },
   "outputs": [
    {
     "data": {
      "text/plain": [
       "1.0    0.966375\n",
       "2.0    0.033625\n",
       "Name: TP_RESPONSAVEL_TRANSPORTE, dtype: float64"
      ]
     },
     "execution_count": 49,
     "metadata": {},
     "output_type": "execute_result"
    }
   ],
   "source": [
    "n = alunos_rj_16['TP_RESPONSAVEL_TRANSPORTE'].value_counts(normalize=True) # Maioria estadual\n",
    "n"
   ]
  },
  {
   "cell_type": "code",
   "execution_count": 50,
   "metadata": {
    "hidden": true
   },
   "outputs": [
    {
     "data": {
      "text/plain": [
       "1.0    0.990341\n",
       "0.0    0.009659\n",
       "Name: IN_TRANSP_ONIBUS, dtype: float64"
      ]
     },
     "execution_count": 50,
     "metadata": {},
     "output_type": "execute_result"
    }
   ],
   "source": [
    "alunos_rj_16['IN_TRANSP_ONIBUS'].value_counts(normalize=True)"
   ]
  },
  {
   "cell_type": "code",
   "execution_count": 51,
   "metadata": {
    "hidden": true
   },
   "outputs": [
    {
     "data": {
      "text/plain": [
       "0.0    0.98807\n",
       "1.0    0.01193\n",
       "Name: IN_TRANSP_TREM_METRO, dtype: float64"
      ]
     },
     "execution_count": 51,
     "metadata": {},
     "output_type": "execute_result"
    }
   ],
   "source": [
    "alunos_rj_16['IN_TRANSP_TREM_METRO'].value_counts(normalize=True)"
   ]
  },
  {
   "cell_type": "markdown",
   "metadata": {
    "heading_collapsed": true
   },
   "source": [
    "#### Localização"
   ]
  },
  {
   "cell_type": "code",
   "execution_count": 52,
   "metadata": {
    "hidden": true
   },
   "outputs": [
    {
     "data": {
      "text/plain": [
       "1097"
      ]
     },
     "execution_count": 52,
     "metadata": {},
     "output_type": "execute_result"
    }
   ],
   "source": [
    "len(alunos_rj_16['CO_ENTIDADE'].unique()) # Número de escolas"
   ]
  },
  {
   "cell_type": "markdown",
   "metadata": {
    "hidden": true
   },
   "source": [
    "* Tipo: menos de 4% rural"
   ]
  },
  {
   "cell_type": "code",
   "execution_count": 53,
   "metadata": {
    "hidden": true
   },
   "outputs": [
    {
     "data": {
      "text/plain": [
       "1    176989\n",
       "2      5849\n",
       "Name: TP_LOCALIZACAO, dtype: int64"
      ]
     },
     "execution_count": 53,
     "metadata": {},
     "output_type": "execute_result"
    }
   ],
   "source": [
    "alunos_rj_16['TP_LOCALIZACAO'].value_counts() # Maioria urbana: 96% !!"
   ]
  },
  {
   "cell_type": "code",
   "execution_count": 54,
   "metadata": {
    "hidden": true
   },
   "outputs": [
    {
     "data": {
      "text/plain": [
       "1    0.96801\n",
       "2    0.03199\n",
       "Name: TP_LOCALIZACAO, dtype: float64"
      ]
     },
     "execution_count": 54,
     "metadata": {},
     "output_type": "execute_result"
    }
   ],
   "source": [
    "alunos_rj_16['TP_LOCALIZACAO'].value_counts(normalize=True)"
   ]
  },
  {
   "cell_type": "code",
   "execution_count": 55,
   "metadata": {
    "hidden": true
   },
   "outputs": [
    {
     "data": {
      "text/plain": [
       "3    0.995767\n",
       "2    0.003249\n",
       "1    0.000984\n",
       "Name: TP_OUTRO_LOCAL_AULA, dtype: float64"
      ]
     },
     "execution_count": 55,
     "metadata": {},
     "output_type": "execute_result"
    }
   ],
   "source": [
    "alunos_rj_16['TP_OUTRO_LOCAL_AULA'].value_counts(normalize=True) # 99% não estuda em outro local (hospital, casa, ...)"
   ]
  },
  {
   "cell_type": "code",
   "execution_count": 56,
   "metadata": {
    "hidden": true
   },
   "outputs": [
    {
     "data": {
      "text/plain": [
       "0    0.999026\n",
       "4    0.000974\n",
       "Name: TP_LOCALIZACAO_DIFERENCIADA, dtype: float64"
      ]
     },
     "execution_count": 56,
     "metadata": {},
     "output_type": "execute_result"
    }
   ],
   "source": [
    "alunos_rj_16['TP_LOCALIZACAO_DIFERENCIADA'].value_counts(normalize=True)"
   ]
  },
  {
   "cell_type": "code",
   "execution_count": 57,
   "metadata": {
    "hidden": true
   },
   "outputs": [
    {
     "data": {
      "text/plain": [
       "0    1.0\n",
       "Name: IN_EDUCACAO_INDIGENA, dtype: float64"
      ]
     },
     "execution_count": 57,
     "metadata": {},
     "output_type": "execute_result"
    }
   ],
   "source": [
    "alunos_rj_16['IN_EDUCACAO_INDIGENA'].value_counts(normalize=True)"
   ]
  },
  {
   "cell_type": "markdown",
   "metadata": {
    "hidden": true
   },
   "source": [
    "* Escola: 37% no Rio, resto espalhado"
   ]
  },
  {
   "cell_type": "code",
   "execution_count": 58,
   "metadata": {
    "hidden": true
   },
   "outputs": [
    {
     "data": {
      "text/plain": [
       "3304557    0.376027\n",
       "3301702    0.065774\n",
       "3303500    0.057417\n",
       "3304904    0.046801\n",
       "3305109    0.035288\n",
       "3300456    0.028178\n",
       "3301009    0.027347\n",
       "3303302    0.027128\n",
       "3302502    0.018629\n",
       "3303906    0.016178\n",
       "3306305    0.015484\n",
       "3301900    0.014833\n",
       "3303203    0.014390\n",
       "3302403    0.013690\n",
       "3304144    0.013449\n",
       "3300100    0.011682\n",
       "3305802    0.011196\n",
       "3300407    0.010200\n",
       "3302858    0.010096\n",
       "3303401    0.009150\n",
       "3302007    0.009134\n",
       "3300704    0.008751\n",
       "3304201    0.008439\n",
       "3304524    0.007641\n",
       "3302700    0.007559\n",
       "3300209    0.006684\n",
       "3302270    0.006158\n",
       "3305554    0.005650\n",
       "3302205    0.005546\n",
       "3305208    0.005535\n",
       "             ...   \n",
       "3304409    0.001340\n",
       "3302254    0.001252\n",
       "3301504    0.001220\n",
       "3301108    0.001187\n",
       "3301207    0.001143\n",
       "3303104    0.001132\n",
       "3305158    0.001072\n",
       "3304102    0.001034\n",
       "3304110    0.000870\n",
       "3303955    0.000870\n",
       "3300936    0.000826\n",
       "3301603    0.000826\n",
       "3300258    0.000788\n",
       "3302056    0.000755\n",
       "3305703    0.000738\n",
       "3301157    0.000678\n",
       "3304128    0.000629\n",
       "3300902    0.000607\n",
       "3306156    0.000607\n",
       "3300225    0.000585\n",
       "3304607    0.000569\n",
       "3302304    0.000520\n",
       "3304508    0.000509\n",
       "3302809    0.000481\n",
       "3300159    0.000476\n",
       "3302452    0.000470\n",
       "3305307    0.000443\n",
       "3300951    0.000427\n",
       "3305901    0.000356\n",
       "3305133    0.000323\n",
       "Name: CO_MUNICIPIO, Length: 92, dtype: float64"
      ]
     },
     "execution_count": 58,
     "metadata": {},
     "output_type": "execute_result"
    }
   ],
   "source": [
    "alunos_rj_16['CO_MUNICIPIO'].value_counts(normalize=True) # 37% dos alunos estudam no Rio"
   ]
  },
  {
   "cell_type": "code",
   "execution_count": 59,
   "metadata": {
    "hidden": true
   },
   "outputs": [
    {
     "data": {
      "text/plain": [
       "92"
      ]
     },
     "execution_count": 59,
     "metadata": {},
     "output_type": "execute_result"
    }
   ],
   "source": [
    "len(alunos_rj_16['CO_MUNICIPIO'].unique())"
   ]
  },
  {
   "cell_type": "code",
   "execution_count": 60,
   "metadata": {
    "hidden": true
   },
   "outputs": [
    {
     "data": {
      "text/plain": [
       "1.0"
      ]
     },
     "execution_count": 60,
     "metadata": {},
     "output_type": "execute_result"
    }
   ],
   "source": [
    "# Percentual de preenchimento\n",
    "n = len(alunos_rj_16[alunos_rj_16['CO_MUNICIPIO'].isnull() == False])\n",
    "n/len(alunos_rj_16)"
   ]
  },
  {
   "cell_type": "code",
   "execution_count": 61,
   "metadata": {
    "hidden": true
   },
   "outputs": [],
   "source": [
    "# Região metropolitana (sem Rio)\n",
    "\"\"\"\n",
    "São Gonçalo, Duque de Caxias, Nova Iguaçu, Niterói, Belford Roxo, São João de Meriti, Petrópolis, Magé, \n",
    "Itaboraí, Mesquita, Nilópolis, Maricá, Queimados, Itaguaí, Japeri, Seropédica, Rio Bonito, Guapimirim, \n",
    "Cachoeiras de Macacu, Paracambi Tanguá\n",
    "\"\"\"\n",
    "\n",
    "regioes = [3304904, 3301702, 3303500, 3303302, 3300456, 3305109, \n",
    "          3303906, 3302502, 3301900, 3302858, 3303203, 3302700, \n",
    "          3304144, 3302007, 3302270, 3305554, 3304300, 3301850, \n",
    "          3300803, 3303609, 3305752]"
   ]
  },
  {
   "cell_type": "code",
   "execution_count": 62,
   "metadata": {
    "hidden": true
   },
   "outputs": [],
   "source": [
    "# 0: Rio, 1: Grande Rio, 2: Outras regiões no estado\n",
    "alunos_rj_16['IN_LOCAL_ESCOLA'] = np.where(alunos_rj_16['CO_MUNICIPIO'] == 3304557, 0, \n",
    "                                           (np.where(alunos_rj_16['CO_MUNICIPIO'].isin(regioes), 1, 2)))"
   ]
  },
  {
   "cell_type": "code",
   "execution_count": 63,
   "metadata": {
    "hidden": true
   },
   "outputs": [
    {
     "data": {
      "text/plain": [
       "1    71725\n",
       "0    68752\n",
       "2    42361\n",
       "Name: IN_LOCAL_ESCOLA, dtype: int64"
      ]
     },
     "execution_count": 63,
     "metadata": {},
     "output_type": "execute_result"
    }
   ],
   "source": [
    "n = alunos_rj_16['IN_LOCAL_ESCOLA'].value_counts()\n",
    "n"
   ]
  },
  {
   "cell_type": "code",
   "execution_count": 64,
   "metadata": {
    "hidden": true
   },
   "outputs": [
    {
     "data": {
      "text/plain": [
       "1    0.392287\n",
       "0    0.376027\n",
       "2    0.231686\n",
       "Name: IN_LOCAL_ESCOLA, dtype: float64"
      ]
     },
     "execution_count": 64,
     "metadata": {},
     "output_type": "execute_result"
    }
   ],
   "source": [
    "n = alunos_rj_16['IN_LOCAL_ESCOLA'].value_counts(normalize=True)\n",
    "n"
   ]
  },
  {
   "cell_type": "code",
   "execution_count": 65,
   "metadata": {
    "hidden": true
   },
   "outputs": [
    {
     "data": {
      "text/plain": [
       "0    26923\n",
       "1    22185\n",
       "2    13574\n",
       "Name: IN_LOCAL_ESCOLA, dtype: int64"
      ]
     },
     "execution_count": 65,
     "metadata": {},
     "output_type": "execute_result"
    }
   ],
   "source": [
    "# Evadidos: maior percentual de quem é do Rio, muito próximo em valores absolutos do Grande Rio\n",
    "ev = alunos_rj_16[alunos_rj_16['IN_EVASAO'] == 1]['IN_LOCAL_ESCOLA'].value_counts()\n",
    "ev"
   ]
  },
  {
   "cell_type": "code",
   "execution_count": 66,
   "metadata": {
    "hidden": true
   },
   "outputs": [
    {
     "data": {
      "text/plain": [
       "0    71598.607662\n",
       "1    56552.959638\n",
       "2    58587.923137\n",
       "Name: IN_LOCAL_ESCOLA, dtype: float64"
      ]
     },
     "execution_count": 66,
     "metadata": {},
     "output_type": "execute_result"
    }
   ],
   "source": [
    "ev/n"
   ]
  },
  {
   "cell_type": "code",
   "execution_count": 67,
   "metadata": {
    "hidden": true
   },
   "outputs": [],
   "source": [
    "# alunos_rj_16['IN_ESCOLA_RIO'] = np.where(alunos_rj_16['CO_MUNICIPIO'] == 3304557, 1, 0)\n",
    "\n",
    "# # Evadidos: maior percentual de quem não é do Rio\n",
    "# alunos_rj_16[alunos_rj_16['IN_EVASAO'] == 1]['IN_ESCOLA_RIO'].value_counts(normalize=True)\n",
    "\n",
    "# # Não evadidos\n",
    "# alunos_rj_16[alunos_rj_16['IN_EVASAO'] == 0]['IN_ESCOLA_RIO'].value_counts(normalize=True)"
   ]
  },
  {
   "cell_type": "markdown",
   "metadata": {
    "heading_collapsed": true
   },
   "source": [
    "#### Dados da turma\n",
    "- 70% entre 20 e 40 alunos"
   ]
  },
  {
   "cell_type": "code",
   "execution_count": 68,
   "metadata": {
    "hidden": true
   },
   "outputs": [
    {
     "data": {
      "text/plain": [
       "1.0"
      ]
     },
     "execution_count": 68,
     "metadata": {},
     "output_type": "execute_result"
    }
   ],
   "source": [
    "# Percentual de preenchimento\n",
    "n = len(alunos_rj_16[alunos_rj_16['ID_TURMA'].isnull() == False])\n",
    "n/len(alunos_rj_16)"
   ]
  },
  {
   "cell_type": "code",
   "execution_count": 69,
   "metadata": {
    "hidden": true,
    "scrolled": true
   },
   "outputs": [
    {
     "data": {
      "text/plain": [
       "5851"
      ]
     },
     "execution_count": 69,
     "metadata": {},
     "output_type": "execute_result"
    }
   ],
   "source": [
    "n_alunos_turma = alunos_rj_16[['ID_TURMA', 'ID']].groupby('ID_TURMA').count().rename({'ID': 'N_ALUNOS_TURMA'}, axis=1)\n",
    "len(n_alunos_turma)"
   ]
  },
  {
   "cell_type": "code",
   "execution_count": 70,
   "metadata": {
    "hidden": true
   },
   "outputs": [],
   "source": [
    "alunos_rj_16['N_ALUNOS_TURMA'] = alunos_rj_16['ID_TURMA'].map(n_alunos_turma['N_ALUNOS_TURMA'])"
   ]
  },
  {
   "cell_type": "code",
   "execution_count": 71,
   "metadata": {
    "hidden": true
   },
   "outputs": [
    {
     "data": {
      "text/plain": [
       "31.249017262006493"
      ]
     },
     "execution_count": 71,
     "metadata": {},
     "output_type": "execute_result"
    }
   ],
   "source": [
    "len(alunos_rj_16)/5851 # Média de alunos pelo total de turmas"
   ]
  },
  {
   "cell_type": "code",
   "execution_count": 72,
   "metadata": {
    "hidden": true,
    "scrolled": true
   },
   "outputs": [
    {
     "data": {
      "text/plain": [
       "33    286\n",
       "35    282\n",
       "32    277\n",
       "34    268\n",
       "29    266\n",
       "36    265\n",
       "31    251\n",
       "37    250\n",
       "38    250\n",
       "30    242\n",
       "Name: N_ALUNOS_TURMA, dtype: int64"
      ]
     },
     "execution_count": 72,
     "metadata": {},
     "output_type": "execute_result"
    }
   ],
   "source": [
    "n_alunos_turma['N_ALUNOS_TURMA'].value_counts()[:10]"
   ]
  },
  {
   "cell_type": "code",
   "execution_count": 73,
   "metadata": {
    "hidden": true,
    "scrolled": true
   },
   "outputs": [
    {
     "data": {
      "text/plain": [
       "(-inf, 30.0]    0.438728\n",
       "(30.0, 40.0]    0.426936\n",
       "(40.0, inf]     0.134336\n",
       "Name: N_ALUNOS_TURMA, dtype: float64"
      ]
     },
     "execution_count": 73,
     "metadata": {},
     "output_type": "execute_result"
    }
   ],
   "source": [
    "# Distribuição geral\n",
    "bins = [-np.inf, 30, 40, np.inf]\n",
    "\n",
    "bins_turma = pd.cut(n_alunos_turma['N_ALUNOS_TURMA'], bins)\n",
    "bins_turma.value_counts(normalize=True)"
   ]
  },
  {
   "cell_type": "code",
   "execution_count": 74,
   "metadata": {
    "hidden": true
   },
   "outputs": [
    {
     "data": {
      "text/plain": [
       "(30.0, 40.0]    0.480890\n",
       "(-inf, 30.0]    0.330621\n",
       "(40.0, inf]     0.188489\n",
       "Name: N_ALUNOS_TURMA_BIN, dtype: float64"
      ]
     },
     "execution_count": 74,
     "metadata": {},
     "output_type": "execute_result"
    }
   ],
   "source": [
    "alunos_rj_16['N_ALUNOS_TURMA_BIN'] = pd.cut(alunos_rj_16['N_ALUNOS_TURMA'], bins)\n",
    "alunos_rj_16['N_ALUNOS_TURMA_BIN'].value_counts(normalize=True)"
   ]
  },
  {
   "cell_type": "code",
   "execution_count": 75,
   "metadata": {
    "hidden": true
   },
   "outputs": [
    {
     "data": {
      "text/plain": [
       "(30.0, 40.0]    0.474841\n",
       "(-inf, 30.0]    0.324990\n",
       "(40.0, inf]     0.200169\n",
       "Name: N_ALUNOS_TURMA_BIN, dtype: float64"
      ]
     },
     "execution_count": 75,
     "metadata": {},
     "output_type": "execute_result"
    }
   ],
   "source": [
    "# Evadidos: 47% dos jovens evadidos são de turmas de 30-40 alunos\n",
    "alunos_rj_16[alunos_rj_16['IN_EVASAO'] == 1]['N_ALUNOS_TURMA_BIN'].value_counts(normalize=True)"
   ]
  },
  {
   "cell_type": "code",
   "execution_count": 76,
   "metadata": {
    "hidden": true
   },
   "outputs": [],
   "source": [
    "alunos_rj_16['N_TURMA'] = pd.cut(alunos_rj_16['N_ALUNOS_TURMA'], bins, labels=range(0,3))"
   ]
  },
  {
   "cell_type": "code",
   "execution_count": 77,
   "metadata": {
    "hidden": true
   },
   "outputs": [
    {
     "data": {
      "text/plain": [
       "1    0.480890\n",
       "0    0.330621\n",
       "2    0.188489\n",
       "Name: N_TURMA, dtype: float64"
      ]
     },
     "execution_count": 77,
     "metadata": {},
     "output_type": "execute_result"
    }
   ],
   "source": [
    "# Checando distribuição\n",
    "alunos_rj_16['N_TURMA'].value_counts(normalize=True)"
   ]
  },
  {
   "cell_type": "markdown",
   "metadata": {
    "hidden": true
   },
   "source": [
    "* Dias de atividade: 98,5% 5 dias"
   ]
  },
  {
   "cell_type": "code",
   "execution_count": 78,
   "metadata": {
    "hidden": true
   },
   "outputs": [
    {
     "data": {
      "text/plain": [
       "5    0.985309\n",
       "6    0.014691\n",
       "Name: NU_DIAS_ATIVIDADE, dtype: float64"
      ]
     },
     "execution_count": 78,
     "metadata": {},
     "output_type": "execute_result"
    }
   ],
   "source": [
    "alunos_rj_16['NU_DIAS_ATIVIDADE'].value_counts(normalize=True)"
   ]
  },
  {
   "cell_type": "code",
   "execution_count": 79,
   "metadata": {
    "hidden": true
   },
   "outputs": [
    {
     "data": {
      "text/plain": [
       "5.250000     0.564385\n",
       "4.500000     0.142126\n",
       "5.333333     0.134234\n",
       "4.750000     0.053474\n",
       "5.166667     0.020067\n",
       "4.666667     0.017972\n",
       "5.000000     0.009889\n",
       "10.000000    0.009582\n",
       "4.833333     0.006968\n",
       "11.833333    0.004534\n",
       "11.333333    0.004255\n",
       "8.000000     0.004129\n",
       "9.666667     0.002653\n",
       "11.000000    0.002571\n",
       "9.500000     0.002543\n",
       "9.583333     0.001974\n",
       "9.416667     0.001892\n",
       "5.500000     0.001810\n",
       "9.333333     0.001783\n",
       "9.250000     0.001701\n",
       "9.916667     0.001695\n",
       "11.166667    0.001603\n",
       "9.833333     0.001493\n",
       "8.833333     0.001247\n",
       "4.583333     0.001094\n",
       "9.166667     0.001034\n",
       "11.250000    0.000624\n",
       "5.666667     0.000481\n",
       "4.916667     0.000459\n",
       "7.166667     0.000454\n",
       "9.750000     0.000284\n",
       "8.666667     0.000257\n",
       "4.333333     0.000224\n",
       "3.833333     0.000191\n",
       "3.750000     0.000153\n",
       "7.000000     0.000104\n",
       "10.500000    0.000060\n",
       "Name: NU_DURACAO_TURMA, dtype: float64"
      ]
     },
     "execution_count": 79,
     "metadata": {},
     "output_type": "execute_result"
    }
   ],
   "source": [
    "n = alunos_rj_16['NU_DURACAO_TURMA']/60\n",
    "n.value_counts(normalize=True)"
   ]
  },
  {
   "cell_type": "markdown",
   "metadata": {
    "hidden": true
   },
   "source": [
    "* Tipo de turma"
   ]
  },
  {
   "cell_type": "code",
   "execution_count": 80,
   "metadata": {
    "hidden": true
   },
   "outputs": [
    {
     "data": {
      "text/plain": [
       "0    1.0\n",
       "Name: TP_TIPO_TURMA, dtype: float64"
      ]
     },
     "execution_count": 80,
     "metadata": {},
     "output_type": "execute_result"
    }
   ],
   "source": [
    "alunos_rj_16['TP_TIPO_TURMA'].value_counts(normalize=True)"
   ]
  },
  {
   "cell_type": "code",
   "execution_count": 81,
   "metadata": {
    "hidden": true
   },
   "outputs": [
    {
     "data": {
      "text/plain": [
       "0    1.0\n",
       "Name: TP_UNIFICADA, dtype: float64"
      ]
     },
     "execution_count": 81,
     "metadata": {},
     "output_type": "execute_result"
    }
   ],
   "source": [
    "alunos_rj_16['TP_UNIFICADA'].value_counts(normalize=True)"
   ]
  },
  {
   "cell_type": "markdown",
   "metadata": {
    "hidden": true
   },
   "source": [
    "* Atividade complementar: 99% não tem"
   ]
  },
  {
   "cell_type": "code",
   "execution_count": 82,
   "metadata": {
    "hidden": true
   },
   "outputs": [
    {
     "data": {
      "text/plain": [
       "0      0.999612\n",
       "20     0.000252\n",
       "40     0.000066\n",
       "240    0.000027\n",
       "96     0.000022\n",
       "126    0.000016\n",
       "315    0.000005\n",
       "Name: NU_DUR_ATIV_COMP_MESMA_REDE, dtype: float64"
      ]
     },
     "execution_count": 82,
     "metadata": {},
     "output_type": "execute_result"
    }
   ],
   "source": [
    "alunos_rj_16['NU_DUR_ATIV_COMP_MESMA_REDE'].value_counts(normalize=True)"
   ]
  },
  {
   "cell_type": "code",
   "execution_count": 83,
   "metadata": {
    "hidden": true
   },
   "outputs": [
    {
     "data": {
      "text/plain": [
       "0      0.999557\n",
       "24     0.000098\n",
       "48     0.000060\n",
       "30     0.000060\n",
       "12     0.000038\n",
       "36     0.000033\n",
       "16     0.000027\n",
       "240    0.000022\n",
       "96     0.000022\n",
       "72     0.000016\n",
       "42     0.000011\n",
       "280    0.000011\n",
       "150    0.000011\n",
       "120    0.000011\n",
       "40     0.000005\n",
       "38     0.000005\n",
       "180    0.000005\n",
       "20     0.000005\n",
       "Name: NU_DUR_ATIV_COMP_OUTRAS_REDES, dtype: float64"
      ]
     },
     "execution_count": 83,
     "metadata": {},
     "output_type": "execute_result"
    }
   ],
   "source": [
    "alunos_rj_16['NU_DUR_ATIV_COMP_OUTRAS_REDES'].value_counts(normalize=True)"
   ]
  },
  {
   "cell_type": "code",
   "execution_count": 84,
   "metadata": {
    "hidden": true
   },
   "outputs": [
    {
     "data": {
      "text/plain": [
       "0      0.999650\n",
       "120    0.000060\n",
       "240    0.000044\n",
       "60     0.000038\n",
       "84     0.000033\n",
       "36     0.000022\n",
       "96     0.000022\n",
       "180    0.000022\n",
       "48     0.000016\n",
       "192    0.000016\n",
       "207    0.000016\n",
       "189    0.000011\n",
       "320    0.000011\n",
       "315    0.000011\n",
       "72     0.000011\n",
       "232    0.000005\n",
       "144    0.000005\n",
       "126    0.000005\n",
       "Name: NU_DUR_AEE_MESMA_REDE, dtype: float64"
      ]
     },
     "execution_count": 84,
     "metadata": {},
     "output_type": "execute_result"
    }
   ],
   "source": [
    "alunos_rj_16['NU_DUR_AEE_MESMA_REDE'].value_counts(normalize=True)"
   ]
  },
  {
   "cell_type": "code",
   "execution_count": 85,
   "metadata": {
    "hidden": true
   },
   "outputs": [
    {
     "data": {
      "text/plain": [
       "0      0.999874\n",
       "240    0.000049\n",
       "144    0.000038\n",
       "60     0.000011\n",
       "54     0.000011\n",
       "108    0.000005\n",
       "192    0.000005\n",
       "30     0.000005\n",
       "Name: NU_DUR_AEE_OUTRAS_REDES, dtype: float64"
      ]
     },
     "execution_count": 85,
     "metadata": {},
     "output_type": "execute_result"
    }
   ],
   "source": [
    "alunos_rj_16['NU_DUR_AEE_OUTRAS_REDES'].value_counts(normalize=True)"
   ]
  },
  {
   "cell_type": "code",
   "execution_count": 86,
   "metadata": {
    "hidden": true
   },
   "outputs": [
    {
     "data": {
      "text/plain": [
       "1    1.0\n",
       "Name: TP_MEDIACAO_DIDATICO_PEDAGO, dtype: float64"
      ]
     },
     "execution_count": 86,
     "metadata": {},
     "output_type": "execute_result"
    }
   ],
   "source": [
    "alunos_rj_16['TP_MEDIACAO_DIDATICO_PEDAGO'].value_counts(normalize=True)"
   ]
  },
  {
   "cell_type": "markdown",
   "metadata": {},
   "source": [
    "### Filtragem das variáveis"
   ]
  },
  {
   "cell_type": "code",
   "execution_count": 87,
   "metadata": {},
   "outputs": [
    {
     "data": {
      "text/plain": [
       "17"
      ]
     },
     "execution_count": 87,
     "metadata": {},
     "output_type": "execute_result"
    }
   ],
   "source": [
    "out_outro_campo = ['NU_ANO_CENSO', 'ID_MATRICULA', 'NU_ANO', 'NU_DIA', 'NU_MES', 'NU_DIA',  'NU_IDADE', \n",
    "                   'CO_REGIAO','CO_MESORREGIAO', 'CO_MICRORREGIAO', 'CO_UF', 'ID_TURMA',\n",
    "                   'IN_REGULAR', 'IN_EJA', 'TP_REGULAMENTACAO', 'CO_DISTRITO', 'IN_EDUCACAO_INDIGENA'] # Já temos info\n",
    "len(out_outro_campo)"
   ]
  },
  {
   "cell_type": "code",
   "execution_count": 88,
   "metadata": {},
   "outputs": [
    {
     "data": {
      "text/plain": [
       "31"
      ]
     },
     "execution_count": 88,
     "metadata": {},
     "output_type": "execute_result"
    }
   ],
   "source": [
    "out_variacao = ['NU_DURACAO_TURMA', 'NU_DUR_ATIV_COMP_MESMA_REDE', 'NU_DUR_ATIV_COMP_OUTRAS_REDES',\n",
    "                'NU_DUR_AEE_MESMA_REDE', 'NU_DUR_AEE_OUTRAS_REDES', 'NU_DIAS_ATIVIDADE', 'TP_NACIONALIDADE', \n",
    "                'CO_PAIS_ORIGEM', 'CO_UF_NASC', 'TP_OUTRO_LOCAL_AULA', 'TP_RESPONSAVEL_TRANSPORTE', \n",
    "                'IN_TRANSP_VANS_KOMBI', 'IN_TRANSP_MICRO_ONIBUS', 'IN_TRANSP_ONIBUS', 'IN_TRANSP_BICICLETA',\n",
    "                'IN_TRANSP_TR_ANIMAL', 'IN_TRANSP_OUTRO_VEICULO', 'IN_TRANSP_EMBAR_ATE5', 'IN_TRANSP_EMBAR_5A15', \n",
    "                'IN_TRANSP_EMBAR_15A35', 'IN_TRANSP_EMBAR_35', 'IN_TRANSP_TREM_METRO', 'IN_NECESSIDADE_ESPECIAL',\n",
    "                'TP_MEDIACAO_DIDATICO_PEDAGO', 'IN_ESPECIAL_EXCLUSIVA', 'IN_PROFISSIONALIZANTE', \n",
    "                'TP_DEPENDENCIA', 'TP_LOCALIZACAO', 'TP_LOCALIZACAO_DIFERENCIADA', 'TP_UNIFICADA', 'TP_TIPO_TURMA'] # Baixa variacao\n",
    "\n",
    "len(out_variacao)"
   ]
  },
  {
   "cell_type": "code",
   "execution_count": 89,
   "metadata": {},
   "outputs": [
    {
     "data": {
      "text/plain": [
       "Index(['Unnamed: 0', 'NU_ANO_CENSO', 'ID_MATRICULA', 'NU_DIA', 'NU_MES',\n",
       "       'NU_ANO', 'NU_IDADE_REFERENCIA', 'NU_IDADE', 'NU_DURACAO_TURMA',\n",
       "       'NU_DUR_ATIV_COMP_MESMA_REDE', 'NU_DUR_ATIV_COMP_OUTRAS_REDES',\n",
       "       'NU_DUR_AEE_MESMA_REDE', 'NU_DUR_AEE_OUTRAS_REDES', 'NU_DIAS_ATIVIDADE',\n",
       "       'TP_SEXO', 'TP_COR_RACA', 'TP_NACIONALIDADE', 'CO_PAIS_ORIGEM',\n",
       "       'CO_UF_NASC', 'CO_MUNICIPIO_NASC', 'TP_ZONA_RESIDENCIAL',\n",
       "       'TP_OUTRO_LOCAL_AULA', 'IN_TRANSPORTE_PUBLICO',\n",
       "       'TP_RESPONSAVEL_TRANSPORTE', 'IN_TRANSP_VANS_KOMBI',\n",
       "       'IN_TRANSP_MICRO_ONIBUS', 'IN_TRANSP_ONIBUS', 'IN_TRANSP_BICICLETA',\n",
       "       'IN_TRANSP_TR_ANIMAL', 'IN_TRANSP_OUTRO_VEICULO',\n",
       "       'IN_TRANSP_EMBAR_ATE5', 'IN_TRANSP_EMBAR_5A15', 'IN_TRANSP_EMBAR_15A35',\n",
       "       'IN_TRANSP_EMBAR_35', 'IN_TRANSP_TREM_METRO', 'IN_NECESSIDADE_ESPECIAL',\n",
       "       'TP_MEDIACAO_DIDATICO_PEDAGO', 'IN_ESPECIAL_EXCLUSIVA', 'IN_REGULAR',\n",
       "       'IN_EJA', 'IN_PROFISSIONALIZANTE', 'TP_ETAPA_ENSINO', 'ID_TURMA',\n",
       "       'TP_UNIFICADA', 'TP_TIPO_TURMA', 'CO_ENTIDADE', 'CO_REGIAO',\n",
       "       'CO_MESORREGIAO', 'CO_MICRORREGIAO', 'CO_UF', 'CO_MUNICIPIO',\n",
       "       'CO_DISTRITO', 'TP_DEPENDENCIA', 'TP_LOCALIZACAO', 'TP_REGULAMENTACAO',\n",
       "       'TP_LOCALIZACAO_DIFERENCIADA', 'IN_EDUCACAO_INDIGENA', 'ID',\n",
       "       'IN_EVASAO', 'IN_DISTORCAO', 'IN_LOCAL_ESCOLA', 'N_ALUNOS_TURMA',\n",
       "       'N_ALUNOS_TURMA_BIN', 'N_TURMA'],\n",
       "      dtype='object')"
      ]
     },
     "execution_count": 89,
     "metadata": {},
     "output_type": "execute_result"
    }
   ],
   "source": [
    "alunos_rj_16.columns"
   ]
  },
  {
   "cell_type": "code",
   "execution_count": 90,
   "metadata": {},
   "outputs": [
    {
     "data": {
      "text/plain": [
       "64"
      ]
     },
     "execution_count": 90,
     "metadata": {},
     "output_type": "execute_result"
    }
   ],
   "source": [
    "len(alunos_rj_16.columns)"
   ]
  },
  {
   "cell_type": "code",
   "execution_count": 91,
   "metadata": {},
   "outputs": [
    {
     "data": {
      "text/plain": [
       "33"
      ]
     },
     "execution_count": 91,
     "metadata": {},
     "output_type": "execute_result"
    }
   ],
   "source": [
    "in_cols = [i for i in alunos_rj_16.columns if not i in out_variacao]\n",
    "len(in_cols)"
   ]
  },
  {
   "cell_type": "code",
   "execution_count": 92,
   "metadata": {},
   "outputs": [
    {
     "data": {
      "text/plain": [
       "17"
      ]
     },
     "execution_count": 92,
     "metadata": {},
     "output_type": "execute_result"
    }
   ],
   "source": [
    "in_cols = [i for i in in_cols if not i in out_outro_campo]\n",
    "len(in_cols)"
   ]
  },
  {
   "cell_type": "code",
   "execution_count": 93,
   "metadata": {},
   "outputs": [
    {
     "data": {
      "text/plain": [
       "['Unnamed: 0',\n",
       " 'NU_IDADE_REFERENCIA',\n",
       " 'TP_SEXO',\n",
       " 'TP_COR_RACA',\n",
       " 'CO_MUNICIPIO_NASC',\n",
       " 'TP_ZONA_RESIDENCIAL',\n",
       " 'IN_TRANSPORTE_PUBLICO',\n",
       " 'TP_ETAPA_ENSINO',\n",
       " 'CO_ENTIDADE',\n",
       " 'CO_MUNICIPIO',\n",
       " 'ID',\n",
       " 'IN_EVASAO',\n",
       " 'IN_DISTORCAO',\n",
       " 'IN_LOCAL_ESCOLA',\n",
       " 'N_ALUNOS_TURMA',\n",
       " 'N_ALUNOS_TURMA_BIN',\n",
       " 'N_TURMA']"
      ]
     },
     "execution_count": 93,
     "metadata": {},
     "output_type": "execute_result"
    }
   ],
   "source": [
    "in_cols"
   ]
  },
  {
   "cell_type": "code",
   "execution_count": 94,
   "metadata": {},
   "outputs": [],
   "source": [
    "cols = ['ID', 'CO_ENTIDADE', 'TP_SEXO', 'NU_IDADE', 'IN_DISTORCAO',\n",
    "        'IN_TRANSPORTE_PUBLICO', 'IN_LOCAL_ESCOLA', 'N_TURMA', 'IN_EVASAO']"
   ]
  },
  {
   "cell_type": "code",
   "execution_count": 95,
   "metadata": {},
   "outputs": [],
   "source": [
    "df_rj_16 = alunos_rj_16[cols]"
   ]
  },
  {
   "cell_type": "markdown",
   "metadata": {},
   "source": [
    "## Infos das escolas: Censo 2017"
   ]
  },
  {
   "cell_type": "code",
   "execution_count": 96,
   "metadata": {},
   "outputs": [
    {
     "data": {
      "text/plain": [
       "1097"
      ]
     },
     "execution_count": 96,
     "metadata": {},
     "output_type": "execute_result"
    }
   ],
   "source": [
    "# Total de escolas em 2016\n",
    "len(df_rj_16['CO_ENTIDADE'].unique())"
   ]
  },
  {
   "cell_type": "code",
   "execution_count": 97,
   "metadata": {
    "scrolled": true
   },
   "outputs": [
    {
     "name": "stdout",
     "output_type": "stream",
     "text": [
      "<class 'pandas.core.frame.DataFrame'>\n",
      "RangeIndex: 1689 entries, 0 to 1688\n",
      "Data columns (total 18 columns):\n",
      "NU_ANO_CENSO                  1689 non-null int64\n",
      "CO_ENTIDADE                   1689 non-null int64\n",
      "CO_MUNICIPIO                  1689 non-null int64\n",
      "IN_AGUA_FILTRADA              1324 non-null float64\n",
      "IN_AGUA_INEXISTENTE           1324 non-null float64\n",
      "IN_ENERGIA_INEXISTENTE        1324 non-null float64\n",
      "IN_LIXO_COLETA_PERIODICA      1324 non-null float64\n",
      "IN_LABORATORIO_INFORMATICA    1324 non-null float64\n",
      "IN_LABORATORIO_CIENCIAS       1324 non-null float64\n",
      "IN_QUADRA_ESPORTES            1324 non-null float64\n",
      "IN_COZINHA                    1324 non-null float64\n",
      "IN_REFEITORIO                 1324 non-null float64\n",
      "IN_BIBLIOTECA                 1324 non-null float64\n",
      "IN_BANHEIRO_FORA_PREDIO       1324 non-null float64\n",
      "IN_BANHEIRO_DENTRO_PREDIO     1324 non-null float64\n",
      "IN_AREA_VERDE                 1324 non-null float64\n",
      "NU_COMP_ALUNO                 1324 non-null float64\n",
      "IN_ALIMENTACAO                1324 non-null float64\n",
      "dtypes: float64(15), int64(3)\n",
      "memory usage: 237.6 KB\n"
     ]
    }
   ],
   "source": [
    "escolas_rj_16 = pd.read_csv(TREAT_PATH / 'censo' / 'cleaned_escolas_rj_2016.csv')\n",
    "escolas_rj_16 = escolas_rj_16.drop('Unnamed: 0', axis=1)\n",
    "escolas_rj_16.info()"
   ]
  },
  {
   "cell_type": "code",
   "execution_count": 98,
   "metadata": {
    "scrolled": true
   },
   "outputs": [
    {
     "data": {
      "text/html": [
       "<div>\n",
       "<style scoped>\n",
       "    .dataframe tbody tr th:only-of-type {\n",
       "        vertical-align: middle;\n",
       "    }\n",
       "\n",
       "    .dataframe tbody tr th {\n",
       "        vertical-align: top;\n",
       "    }\n",
       "\n",
       "    .dataframe thead th {\n",
       "        text-align: right;\n",
       "    }\n",
       "</style>\n",
       "<table border=\"1\" class=\"dataframe\">\n",
       "  <thead>\n",
       "    <tr style=\"text-align: right;\">\n",
       "      <th></th>\n",
       "      <th>Unnamed: 0</th>\n",
       "      <th>NU_ANO_CENSO</th>\n",
       "      <th>ID_MATRICULA</th>\n",
       "      <th>NU_DIA</th>\n",
       "      <th>NU_MES</th>\n",
       "      <th>NU_ANO</th>\n",
       "      <th>NU_IDADE_REFERENCIA</th>\n",
       "      <th>NU_IDADE</th>\n",
       "      <th>NU_DURACAO_TURMA</th>\n",
       "      <th>NU_DUR_ATIV_COMP_MESMA_REDE</th>\n",
       "      <th>NU_DUR_ATIV_COMP_OUTRAS_REDES</th>\n",
       "      <th>NU_DUR_AEE_MESMA_REDE</th>\n",
       "      <th>NU_DUR_AEE_OUTRAS_REDES</th>\n",
       "      <th>NU_DIAS_ATIVIDADE</th>\n",
       "      <th>TP_SEXO</th>\n",
       "      <th>TP_COR_RACA</th>\n",
       "      <th>TP_NACIONALIDADE</th>\n",
       "      <th>CO_PAIS_ORIGEM</th>\n",
       "      <th>CO_UF_NASC</th>\n",
       "      <th>CO_MUNICIPIO_NASC</th>\n",
       "      <th>TP_ZONA_RESIDENCIAL</th>\n",
       "      <th>TP_OUTRO_LOCAL_AULA</th>\n",
       "      <th>IN_TRANSPORTE_PUBLICO</th>\n",
       "      <th>TP_RESPONSAVEL_TRANSPORTE</th>\n",
       "      <th>IN_TRANSP_VANS_KOMBI</th>\n",
       "      <th>IN_TRANSP_MICRO_ONIBUS</th>\n",
       "      <th>IN_TRANSP_ONIBUS</th>\n",
       "      <th>IN_TRANSP_BICICLETA</th>\n",
       "      <th>IN_TRANSP_TR_ANIMAL</th>\n",
       "      <th>IN_TRANSP_OUTRO_VEICULO</th>\n",
       "      <th>IN_TRANSP_EMBAR_ATE5</th>\n",
       "      <th>IN_TRANSP_EMBAR_5A15</th>\n",
       "      <th>IN_TRANSP_EMBAR_15A35</th>\n",
       "      <th>IN_TRANSP_EMBAR_35</th>\n",
       "      <th>IN_TRANSP_TREM_METRO</th>\n",
       "      <th>IN_NECESSIDADE_ESPECIAL</th>\n",
       "      <th>TP_MEDIACAO_DIDATICO_PEDAGO</th>\n",
       "      <th>IN_ESPECIAL_EXCLUSIVA</th>\n",
       "      <th>IN_REGULAR</th>\n",
       "      <th>IN_EJA</th>\n",
       "      <th>IN_PROFISSIONALIZANTE</th>\n",
       "      <th>TP_ETAPA_ENSINO</th>\n",
       "      <th>ID_TURMA</th>\n",
       "      <th>TP_UNIFICADA</th>\n",
       "      <th>TP_TIPO_TURMA</th>\n",
       "      <th>CO_ENTIDADE</th>\n",
       "      <th>CO_REGIAO</th>\n",
       "      <th>CO_MESORREGIAO</th>\n",
       "      <th>CO_MICRORREGIAO</th>\n",
       "      <th>CO_UF</th>\n",
       "      <th>CO_MUNICIPIO</th>\n",
       "      <th>CO_DISTRITO</th>\n",
       "      <th>TP_DEPENDENCIA</th>\n",
       "      <th>TP_LOCALIZACAO</th>\n",
       "      <th>TP_REGULAMENTACAO</th>\n",
       "      <th>TP_LOCALIZACAO_DIFERENCIADA</th>\n",
       "      <th>IN_EDUCACAO_INDIGENA</th>\n",
       "      <th>ID</th>\n",
       "      <th>IN_EVASAO</th>\n",
       "      <th>IN_DISTORCAO</th>\n",
       "      <th>IN_LOCAL_ESCOLA</th>\n",
       "      <th>N_ALUNOS_TURMA</th>\n",
       "      <th>N_ALUNOS_TURMA_BIN</th>\n",
       "      <th>N_TURMA</th>\n",
       "    </tr>\n",
       "  </thead>\n",
       "  <tbody>\n",
       "  </tbody>\n",
       "</table>\n",
       "</div>"
      ],
      "text/plain": [
       "Empty DataFrame\n",
       "Columns: [Unnamed: 0, NU_ANO_CENSO, ID_MATRICULA, NU_DIA, NU_MES, NU_ANO, NU_IDADE_REFERENCIA, NU_IDADE, NU_DURACAO_TURMA, NU_DUR_ATIV_COMP_MESMA_REDE, NU_DUR_ATIV_COMP_OUTRAS_REDES, NU_DUR_AEE_MESMA_REDE, NU_DUR_AEE_OUTRAS_REDES, NU_DIAS_ATIVIDADE, TP_SEXO, TP_COR_RACA, TP_NACIONALIDADE, CO_PAIS_ORIGEM, CO_UF_NASC, CO_MUNICIPIO_NASC, TP_ZONA_RESIDENCIAL, TP_OUTRO_LOCAL_AULA, IN_TRANSPORTE_PUBLICO, TP_RESPONSAVEL_TRANSPORTE, IN_TRANSP_VANS_KOMBI, IN_TRANSP_MICRO_ONIBUS, IN_TRANSP_ONIBUS, IN_TRANSP_BICICLETA, IN_TRANSP_TR_ANIMAL, IN_TRANSP_OUTRO_VEICULO, IN_TRANSP_EMBAR_ATE5, IN_TRANSP_EMBAR_5A15, IN_TRANSP_EMBAR_15A35, IN_TRANSP_EMBAR_35, IN_TRANSP_TREM_METRO, IN_NECESSIDADE_ESPECIAL, TP_MEDIACAO_DIDATICO_PEDAGO, IN_ESPECIAL_EXCLUSIVA, IN_REGULAR, IN_EJA, IN_PROFISSIONALIZANTE, TP_ETAPA_ENSINO, ID_TURMA, TP_UNIFICADA, TP_TIPO_TURMA, CO_ENTIDADE, CO_REGIAO, CO_MESORREGIAO, CO_MICRORREGIAO, CO_UF, CO_MUNICIPIO, CO_DISTRITO, TP_DEPENDENCIA, TP_LOCALIZACAO, TP_REGULAMENTACAO, TP_LOCALIZACAO_DIFERENCIADA, IN_EDUCACAO_INDIGENA, ID, IN_EVASAO, IN_DISTORCAO, IN_LOCAL_ESCOLA, N_ALUNOS_TURMA, N_ALUNOS_TURMA_BIN, N_TURMA]\n",
       "Index: []"
      ]
     },
     "execution_count": 98,
     "metadata": {},
     "output_type": "execute_result"
    }
   ],
   "source": [
    "# Todos os alunos estão em escolas que aparecem na base\n",
    "alunos_rj_16[alunos_rj_16['CO_ENTIDADE'].isin(escolas_rj_16['CO_ENTIDADE']) == False]"
   ]
  },
  {
   "cell_type": "code",
   "execution_count": 99,
   "metadata": {
    "scrolled": true
   },
   "outputs": [
    {
     "name": "stdout",
     "output_type": "stream",
     "text": [
      "<class 'pandas.core.frame.DataFrame'>\n",
      "Int64Index: 182838 entries, 0 to 182837\n",
      "Data columns (total 26 columns):\n",
      "ID                            182838 non-null int64\n",
      "CO_ENTIDADE                   182838 non-null int64\n",
      "TP_SEXO                       182838 non-null int64\n",
      "NU_IDADE                      182838 non-null int64\n",
      "IN_DISTORCAO                  182838 non-null int64\n",
      "IN_TRANSPORTE_PUBLICO         182838 non-null int64\n",
      "IN_LOCAL_ESCOLA               182838 non-null int64\n",
      "N_TURMA                       182838 non-null category\n",
      "IN_EVASAO                     182838 non-null int64\n",
      "NU_ANO_CENSO                  182838 non-null int64\n",
      "CO_MUNICIPIO                  182838 non-null int64\n",
      "IN_AGUA_FILTRADA              182838 non-null float64\n",
      "IN_AGUA_INEXISTENTE           182838 non-null float64\n",
      "IN_ENERGIA_INEXISTENTE        182838 non-null float64\n",
      "IN_LIXO_COLETA_PERIODICA      182838 non-null float64\n",
      "IN_LABORATORIO_INFORMATICA    182838 non-null float64\n",
      "IN_LABORATORIO_CIENCIAS       182838 non-null float64\n",
      "IN_QUADRA_ESPORTES            182838 non-null float64\n",
      "IN_COZINHA                    182838 non-null float64\n",
      "IN_REFEITORIO                 182838 non-null float64\n",
      "IN_BIBLIOTECA                 182838 non-null float64\n",
      "IN_BANHEIRO_FORA_PREDIO       182838 non-null float64\n",
      "IN_BANHEIRO_DENTRO_PREDIO     182838 non-null float64\n",
      "IN_AREA_VERDE                 182838 non-null float64\n",
      "NU_COMP_ALUNO                 182838 non-null float64\n",
      "IN_ALIMENTACAO                182838 non-null float64\n",
      "dtypes: category(1), float64(15), int64(10)\n",
      "memory usage: 36.4 MB\n"
     ]
    }
   ],
   "source": [
    "df_rj_16 = df_rj_16.merge(escolas_rj_16, on='CO_ENTIDADE', how='left')\n",
    "df_rj_16.info()"
   ]
  },
  {
   "cell_type": "markdown",
   "metadata": {},
   "source": [
    "### Checando distribuições"
   ]
  },
  {
   "cell_type": "code",
   "execution_count": 100,
   "metadata": {
    "scrolled": true
   },
   "outputs": [
    {
     "name": "stdout",
     "output_type": "stream",
     "text": [
      "<class 'pandas.core.frame.DataFrame'>\n",
      "Int64Index: 1097 entries, 0 to 34258\n",
      "Data columns (total 18 columns):\n",
      "NU_ANO_CENSO                  1097 non-null int64\n",
      "CO_ENTIDADE                   1097 non-null int64\n",
      "CO_MUNICIPIO                  1097 non-null int64\n",
      "IN_AGUA_FILTRADA              1097 non-null float64\n",
      "IN_AGUA_INEXISTENTE           1097 non-null float64\n",
      "IN_ENERGIA_INEXISTENTE        1097 non-null float64\n",
      "IN_LIXO_COLETA_PERIODICA      1097 non-null float64\n",
      "IN_LABORATORIO_INFORMATICA    1097 non-null float64\n",
      "IN_LABORATORIO_CIENCIAS       1097 non-null float64\n",
      "IN_QUADRA_ESPORTES            1097 non-null float64\n",
      "IN_COZINHA                    1097 non-null float64\n",
      "IN_REFEITORIO                 1097 non-null float64\n",
      "IN_BIBLIOTECA                 1097 non-null float64\n",
      "IN_BANHEIRO_FORA_PREDIO       1097 non-null float64\n",
      "IN_BANHEIRO_DENTRO_PREDIO     1097 non-null float64\n",
      "IN_AREA_VERDE                 1097 non-null float64\n",
      "NU_COMP_ALUNO                 1097 non-null float64\n",
      "IN_ALIMENTACAO                1097 non-null float64\n",
      "dtypes: float64(15), int64(3)\n",
      "memory usage: 162.8 KB\n"
     ]
    }
   ],
   "source": [
    "cols = ['NU_ANO_CENSO', 'CO_ENTIDADE', 'CO_MUNICIPIO', 'IN_AGUA_FILTRADA', \n",
    "        'IN_AGUA_INEXISTENTE', 'IN_ENERGIA_INEXISTENTE', 'IN_LIXO_COLETA_PERIODICA', 'IN_LABORATORIO_INFORMATICA', \n",
    "        'IN_LABORATORIO_CIENCIAS', 'IN_QUADRA_ESPORTES', 'IN_COZINHA', 'IN_REFEITORIO', 'IN_BIBLIOTECA',\n",
    "        'IN_BANHEIRO_FORA_PREDIO', 'IN_BANHEIRO_DENTRO_PREDIO', 'IN_AREA_VERDE', 'NU_COMP_ALUNO', 'IN_ALIMENTACAO']\n",
    "\n",
    "check_escolas_16 = df_rj_16[cols].drop_duplicates()\n",
    "check_escolas_16.info()"
   ]
  },
  {
   "cell_type": "code",
   "execution_count": 101,
   "metadata": {},
   "outputs": [
    {
     "data": {
      "text/plain": [
       "0.0    1092\n",
       "1.0       5\n",
       "Name: IN_AGUA_INEXISTENTE, dtype: int64"
      ]
     },
     "execution_count": 101,
     "metadata": {},
     "output_type": "execute_result"
    }
   ],
   "source": [
    "check_escolas_16['IN_AGUA_INEXISTENTE'].value_counts()"
   ]
  },
  {
   "cell_type": "code",
   "execution_count": 102,
   "metadata": {},
   "outputs": [],
   "source": [
    "df_rj_16 = df_rj_16.drop('IN_AGUA_INEXISTENTE', axis=1)"
   ]
  },
  {
   "cell_type": "code",
   "execution_count": 103,
   "metadata": {},
   "outputs": [
    {
     "data": {
      "text/plain": [
       "1.0    1097\n",
       "Name: IN_AGUA_FILTRADA, dtype: int64"
      ]
     },
     "execution_count": 103,
     "metadata": {},
     "output_type": "execute_result"
    }
   ],
   "source": [
    "check_escolas_16['IN_AGUA_FILTRADA'].value_counts()"
   ]
  },
  {
   "cell_type": "code",
   "execution_count": 104,
   "metadata": {},
   "outputs": [],
   "source": [
    "df_rj_16 = df_rj_16.drop('IN_AGUA_FILTRADA', axis=1)"
   ]
  },
  {
   "cell_type": "code",
   "execution_count": 105,
   "metadata": {},
   "outputs": [
    {
     "data": {
      "text/plain": [
       "0.0    1097\n",
       "Name: IN_ENERGIA_INEXISTENTE, dtype: int64"
      ]
     },
     "execution_count": 105,
     "metadata": {},
     "output_type": "execute_result"
    }
   ],
   "source": [
    "check_escolas_16['IN_ENERGIA_INEXISTENTE'].value_counts()"
   ]
  },
  {
   "cell_type": "code",
   "execution_count": 106,
   "metadata": {},
   "outputs": [],
   "source": [
    "df_rj_16 = df_rj_16.drop('IN_ENERGIA_INEXISTENTE', axis=1)"
   ]
  },
  {
   "cell_type": "code",
   "execution_count": 107,
   "metadata": {},
   "outputs": [
    {
     "data": {
      "text/plain": [
       "1.0    1093\n",
       "0.0       4\n",
       "Name: IN_LIXO_COLETA_PERIODICA, dtype: int64"
      ]
     },
     "execution_count": 107,
     "metadata": {},
     "output_type": "execute_result"
    }
   ],
   "source": [
    "check_escolas_16['IN_LIXO_COLETA_PERIODICA'].value_counts()"
   ]
  },
  {
   "cell_type": "code",
   "execution_count": 108,
   "metadata": {},
   "outputs": [],
   "source": [
    "df_rj_16 = df_rj_16.drop('IN_LIXO_COLETA_PERIODICA', axis=1)"
   ]
  },
  {
   "cell_type": "code",
   "execution_count": 109,
   "metadata": {},
   "outputs": [
    {
     "data": {
      "text/plain": [
       "1.0    0.765725\n",
       "0.0    0.234275\n",
       "Name: IN_LABORATORIO_INFORMATICA, dtype: float64"
      ]
     },
     "execution_count": 109,
     "metadata": {},
     "output_type": "execute_result"
    }
   ],
   "source": [
    "check_escolas_16['IN_LABORATORIO_INFORMATICA'].value_counts(normalize=True)"
   ]
  },
  {
   "cell_type": "code",
   "execution_count": 110,
   "metadata": {},
   "outputs": [
    {
     "data": {
      "text/plain": [
       "1.0    0.71103\n",
       "0.0    0.28897\n",
       "Name: IN_LABORATORIO_CIENCIAS, dtype: float64"
      ]
     },
     "execution_count": 110,
     "metadata": {},
     "output_type": "execute_result"
    }
   ],
   "source": [
    "check_escolas_16['IN_LABORATORIO_CIENCIAS'].value_counts(normalize=True)"
   ]
  },
  {
   "cell_type": "code",
   "execution_count": 111,
   "metadata": {},
   "outputs": [
    {
     "data": {
      "text/plain": [
       "1.0    0.915223\n",
       "0.0    0.084777\n",
       "Name: IN_QUADRA_ESPORTES, dtype: float64"
      ]
     },
     "execution_count": 111,
     "metadata": {},
     "output_type": "execute_result"
    }
   ],
   "source": [
    "check_escolas_16['IN_QUADRA_ESPORTES'].value_counts(normalize=True)"
   ]
  },
  {
   "cell_type": "code",
   "execution_count": 112,
   "metadata": {},
   "outputs": [
    {
     "data": {
      "text/plain": [
       "1.0    0.990884\n",
       "0.0    0.009116\n",
       "Name: IN_COZINHA, dtype: float64"
      ]
     },
     "execution_count": 112,
     "metadata": {},
     "output_type": "execute_result"
    }
   ],
   "source": [
    "check_escolas_16['IN_COZINHA'].value_counts(normalize=True)"
   ]
  },
  {
   "cell_type": "code",
   "execution_count": 113,
   "metadata": {},
   "outputs": [],
   "source": [
    "df_rj_16 = df_rj_16.drop('IN_COZINHA', axis=1)"
   ]
  },
  {
   "cell_type": "code",
   "execution_count": 114,
   "metadata": {},
   "outputs": [
    {
     "data": {
      "text/plain": [
       "1.0    0.968095\n",
       "0.0    0.031905\n",
       "Name: IN_REFEITORIO, dtype: float64"
      ]
     },
     "execution_count": 114,
     "metadata": {},
     "output_type": "execute_result"
    }
   ],
   "source": [
    "check_escolas_16['IN_REFEITORIO'].value_counts(normalize=True)"
   ]
  },
  {
   "cell_type": "code",
   "execution_count": 115,
   "metadata": {},
   "outputs": [],
   "source": [
    "df_rj_16 = df_rj_16.drop('IN_REFEITORIO', axis=1)"
   ]
  },
  {
   "cell_type": "code",
   "execution_count": 116,
   "metadata": {},
   "outputs": [
    {
     "data": {
      "text/plain": [
       "1.0    0.880583\n",
       "0.0    0.119417\n",
       "Name: IN_BIBLIOTECA, dtype: float64"
      ]
     },
     "execution_count": 116,
     "metadata": {},
     "output_type": "execute_result"
    }
   ],
   "source": [
    "check_escolas_16['IN_BIBLIOTECA'].value_counts(normalize=True)"
   ]
  },
  {
   "cell_type": "code",
   "execution_count": 117,
   "metadata": {},
   "outputs": [
    {
     "data": {
      "text/plain": [
       "1.0    0.749316\n",
       "0.0    0.250684\n",
       "Name: IN_BANHEIRO_FORA_PREDIO, dtype: float64"
      ]
     },
     "execution_count": 117,
     "metadata": {},
     "output_type": "execute_result"
    }
   ],
   "source": [
    "check_escolas_16['IN_BANHEIRO_FORA_PREDIO'].value_counts(normalize=True)"
   ]
  },
  {
   "cell_type": "code",
   "execution_count": 118,
   "metadata": {},
   "outputs": [
    {
     "data": {
      "text/plain": [
       "1.0    0.990884\n",
       "0.0    0.009116\n",
       "Name: IN_BANHEIRO_DENTRO_PREDIO, dtype: float64"
      ]
     },
     "execution_count": 118,
     "metadata": {},
     "output_type": "execute_result"
    }
   ],
   "source": [
    "check_escolas_16['IN_BANHEIRO_DENTRO_PREDIO'].value_counts(normalize=True)"
   ]
  },
  {
   "cell_type": "code",
   "execution_count": 119,
   "metadata": {},
   "outputs": [],
   "source": [
    "df_rj_16 = df_rj_16.drop('IN_BANHEIRO_DENTRO_PREDIO', axis=1)"
   ]
  },
  {
   "cell_type": "code",
   "execution_count": 120,
   "metadata": {},
   "outputs": [
    {
     "data": {
      "text/plain": [
       "1.0    0.859617\n",
       "0.0    0.140383\n",
       "Name: IN_AREA_VERDE, dtype: float64"
      ]
     },
     "execution_count": 120,
     "metadata": {},
     "output_type": "execute_result"
    }
   ],
   "source": [
    "check_escolas_16['IN_AREA_VERDE'].value_counts(normalize=True)"
   ]
  },
  {
   "cell_type": "code",
   "execution_count": 121,
   "metadata": {},
   "outputs": [
    {
     "data": {
      "text/plain": [
       "1.0    1.0\n",
       "Name: IN_ALIMENTACAO, dtype: float64"
      ]
     },
     "execution_count": 121,
     "metadata": {},
     "output_type": "execute_result"
    }
   ],
   "source": [
    "check_escolas_16['IN_ALIMENTACAO'].value_counts(normalize=True)"
   ]
  },
  {
   "cell_type": "code",
   "execution_count": 122,
   "metadata": {},
   "outputs": [],
   "source": [
    "df_rj_16 = df_rj_16.drop('IN_ALIMENTACAO', axis=1)"
   ]
  },
  {
   "cell_type": "code",
   "execution_count": 123,
   "metadata": {},
   "outputs": [
    {
     "data": {
      "text/plain": [
       "0.0      33627\n",
       "10.0     32613\n",
       "20.0      9566\n",
       "9.0       8680\n",
       "17.0      7388\n",
       "19.0      6961\n",
       "8.0       6913\n",
       "15.0      6822\n",
       "6.0       6747\n",
       "12.0      6502\n",
       "7.0       6409\n",
       "5.0       6239\n",
       "13.0      5360\n",
       "18.0      5024\n",
       "14.0      4510\n",
       "16.0      4206\n",
       "22.0      3433\n",
       "11.0      2651\n",
       "25.0      2626\n",
       "23.0      1792\n",
       "24.0      1474\n",
       "21.0      1464\n",
       "27.0      1387\n",
       "28.0      1190\n",
       "26.0      1057\n",
       "60.0       827\n",
       "1.0        732\n",
       "36.0       668\n",
       "30.0       655\n",
       "70.0       606\n",
       "4.0        572\n",
       "3.0        507\n",
       "29.0       504\n",
       "68.0       360\n",
       "50.0       351\n",
       "55.0       343\n",
       "32.0       316\n",
       "76.0       293\n",
       "31.0       249\n",
       "34.0       231\n",
       "281.0      219\n",
       "40.0       179\n",
       "72.0       166\n",
       "138.0      114\n",
       "67.0        88\n",
       "38.0        83\n",
       "49.0        72\n",
       "115.0       62\n",
       "Name: NU_COMP_ALUNO, dtype: int64"
      ]
     },
     "execution_count": 123,
     "metadata": {},
     "output_type": "execute_result"
    }
   ],
   "source": [
    "df_rj_16['NU_COMP_ALUNO'].value_counts()"
   ]
  },
  {
   "cell_type": "code",
   "execution_count": 124,
   "metadata": {},
   "outputs": [
    {
     "data": {
      "text/plain": [
       "(-inf, 15.0]    0.704908\n",
       "(15.0, inf]     0.295092\n",
       "Name: NU_COMP_ALUNO, dtype: float64"
      ]
     },
     "execution_count": 124,
     "metadata": {},
     "output_type": "execute_result"
    }
   ],
   "source": [
    "# Número médio por turma: 30 / 2 alunos por computador na aula = 15\n",
    "pd.cut(df_rj_16['NU_COMP_ALUNO'], [-np.inf, 15, np.inf]).value_counts(normalize=True)"
   ]
  },
  {
   "cell_type": "code",
   "execution_count": 125,
   "metadata": {},
   "outputs": [
    {
     "data": {
      "text/plain": [
       "0    0.704908\n",
       "1    0.295092\n",
       "Name: IN_N_COMP_15, dtype: float64"
      ]
     },
     "execution_count": 125,
     "metadata": {},
     "output_type": "execute_result"
    }
   ],
   "source": [
    "df_rj_16['IN_N_COMP_15'] = pd.cut(df_rj_16['NU_COMP_ALUNO'], [-np.inf, 15, np.inf], labels=[0,1])\n",
    "df_rj_16['IN_N_COMP_15'].value_counts(normalize=True)"
   ]
  },
  {
   "cell_type": "code",
   "execution_count": 126,
   "metadata": {},
   "outputs": [
    {
     "data": {
      "text/plain": [
       "Index(['ID', 'CO_ENTIDADE', 'TP_SEXO', 'NU_IDADE', 'IN_DISTORCAO',\n",
       "       'IN_TRANSPORTE_PUBLICO', 'IN_LOCAL_ESCOLA', 'N_TURMA', 'IN_EVASAO',\n",
       "       'NU_ANO_CENSO', 'CO_MUNICIPIO', 'IN_LABORATORIO_INFORMATICA',\n",
       "       'IN_LABORATORIO_CIENCIAS', 'IN_QUADRA_ESPORTES', 'IN_BIBLIOTECA',\n",
       "       'IN_BANHEIRO_FORA_PREDIO', 'IN_AREA_VERDE', 'NU_COMP_ALUNO',\n",
       "       'IN_N_COMP_15'],\n",
       "      dtype='object')"
      ]
     },
     "execution_count": 126,
     "metadata": {},
     "output_type": "execute_result"
    }
   ],
   "source": [
    "df_rj_16.columns"
   ]
  },
  {
   "cell_type": "markdown",
   "metadata": {},
   "source": [
    "## Nível socioeconômico\n",
    "\n",
    "- Somente 936 escolas estaduais no RJ possuem o indicador de nível socioeconômico\n",
    "- Dentre nosso grupo de interesse temos info de apenas 849 das 1097 escolas: as faltantes concentram 20% dos alunos evadidos!"
   ]
  },
  {
   "cell_type": "code",
   "execution_count": 127,
   "metadata": {},
   "outputs": [
    {
     "name": "stdout",
     "output_type": "stream",
     "text": [
      "<class 'pandas.core.frame.DataFrame'>\n",
      "RangeIndex: 936 entries, 0 to 935\n",
      "Data columns (total 14 columns):\n",
      "Unnamed: 0             936 non-null int64\n",
      "CO_ESCOLA              936 non-null int64\n",
      "NOME_ESCOLA            936 non-null object\n",
      "CO_UF                  936 non-null int64\n",
      "NOME_UF                936 non-null object\n",
      "CO_MUNICIPIO           936 non-null int64\n",
      "NOME_MUNICIPIO         936 non-null int64\n",
      "ID_AREA                936 non-null int64\n",
      "TP_DEPENDENCIA         936 non-null int64\n",
      "TP_LOCALIZACAO         936 non-null int64\n",
      "QTD_ALUNOS_INSE        936 non-null int64\n",
      "INSE_VALOR_ABSOLUTO    936 non-null float64\n",
      "INSE_CLASSIFICACAO     936 non-null object\n",
      "NIVEL                  936 non-null int64\n",
      "dtypes: float64(1), int64(10), object(3)\n",
      "memory usage: 102.5+ KB\n"
     ]
    }
   ],
   "source": [
    "inse_rj_2015 = pd.read_csv(TREAT_PATH / 'inse_2015_rj.csv')\n",
    "inse_rj_2015.info()"
   ]
  },
  {
   "cell_type": "code",
   "execution_count": 128,
   "metadata": {},
   "outputs": [
    {
     "data": {
      "text/plain": [
       "849"
      ]
     },
     "execution_count": 128,
     "metadata": {},
     "output_type": "execute_result"
    }
   ],
   "source": [
    "len(df_rj_16[df_rj_16['CO_ENTIDADE'].isin(inse_rj_2015['CO_ESCOLA'])]['CO_ENTIDADE'].drop_duplicates())"
   ]
  },
  {
   "cell_type": "code",
   "execution_count": 129,
   "metadata": {},
   "outputs": [
    {
     "data": {
      "text/plain": [
       "0.8162088843675822"
      ]
     },
     "execution_count": 129,
     "metadata": {},
     "output_type": "execute_result"
    }
   ],
   "source": [
    "len(df_rj_16[df_rj_16['CO_ENTIDADE'].isin(inse_rj_2015['CO_ESCOLA'])])/len(df_rj_16)"
   ]
  },
  {
   "cell_type": "code",
   "execution_count": 130,
   "metadata": {
    "scrolled": true
   },
   "outputs": [
    {
     "name": "stdout",
     "output_type": "stream",
     "text": [
      "<class 'pandas.core.frame.DataFrame'>\n",
      "Int64Index: 182838 entries, 0 to 182837\n",
      "Data columns (total 20 columns):\n",
      "ID                            182838 non-null int64\n",
      "CO_ENTIDADE                   182838 non-null int64\n",
      "TP_SEXO                       182838 non-null int64\n",
      "NU_IDADE                      182838 non-null int64\n",
      "IN_DISTORCAO                  182838 non-null int64\n",
      "IN_TRANSPORTE_PUBLICO         182838 non-null int64\n",
      "IN_LOCAL_ESCOLA               182838 non-null int64\n",
      "N_TURMA                       182838 non-null category\n",
      "IN_EVASAO                     182838 non-null int64\n",
      "NU_ANO_CENSO                  182838 non-null int64\n",
      "CO_MUNICIPIO                  182838 non-null int64\n",
      "IN_LABORATORIO_INFORMATICA    182838 non-null float64\n",
      "IN_LABORATORIO_CIENCIAS       182838 non-null float64\n",
      "IN_QUADRA_ESPORTES            182838 non-null float64\n",
      "IN_BIBLIOTECA                 182838 non-null float64\n",
      "IN_BANHEIRO_FORA_PREDIO       182838 non-null float64\n",
      "IN_AREA_VERDE                 182838 non-null float64\n",
      "NU_COMP_ALUNO                 182838 non-null float64\n",
      "IN_N_COMP_15                  182838 non-null category\n",
      "NIVEL                         149234 non-null float64\n",
      "dtypes: category(2), float64(8), int64(10)\n",
      "memory usage: 26.9 MB\n"
     ]
    }
   ],
   "source": [
    "inse_rj_2015 = inse_rj_2015.rename({'CO_ESCOLA': 'CO_ENTIDADE'}, axis=1)\n",
    "\n",
    "df_rj_16 = df_rj_16.merge(inse_rj_2015[['CO_ENTIDADE', 'NIVEL']], on='CO_ENTIDADE', how='left')\n",
    "df_rj_16.info()"
   ]
  },
  {
   "cell_type": "code",
   "execution_count": 131,
   "metadata": {},
   "outputs": [
    {
     "data": {
      "text/plain": [
       " 3.0    42760\n",
       "-1.0    14433\n",
       " 4.0     4950\n",
       " 2.0      359\n",
       " 5.0      158\n",
       " 1.0       13\n",
       " 6.0        9\n",
       "Name: NIVEL, dtype: int64"
      ]
     },
     "execution_count": 131,
     "metadata": {},
     "output_type": "execute_result"
    }
   ],
   "source": [
    "df_rj_16[df_rj_16['IN_EVASAO'] == 1]['NIVEL'].fillna(-1).value_counts()"
   ]
  },
  {
   "cell_type": "code",
   "execution_count": 132,
   "metadata": {},
   "outputs": [
    {
     "data": {
      "text/plain": [
       "0.2340384799463961"
      ]
     },
     "execution_count": 132,
     "metadata": {},
     "output_type": "execute_result"
    }
   ],
   "source": [
    "14670/len(df_rj_16[df_rj_16['IN_EVASAO'] == 1])"
   ]
  },
  {
   "cell_type": "markdown",
   "metadata": {},
   "source": [
    "### Finalizando a base"
   ]
  },
  {
   "cell_type": "code",
   "execution_count": 133,
   "metadata": {},
   "outputs": [
    {
     "name": "stdout",
     "output_type": "stream",
     "text": [
      "<class 'pandas.core.frame.DataFrame'>\n",
      "Int64Index: 182838 entries, 0 to 182837\n",
      "Data columns (total 19 columns):\n",
      "ID                            182838 non-null int64\n",
      "CO_ENTIDADE                   182838 non-null int64\n",
      "TP_SEXO                       182838 non-null int64\n",
      "NU_IDADE                      182838 non-null int64\n",
      "IN_DISTORCAO                  182838 non-null int64\n",
      "IN_TRANSPORTE_PUBLICO         182838 non-null int64\n",
      "IN_LOCAL_ESCOLA               182838 non-null int64\n",
      "N_TURMA                       182838 non-null category\n",
      "IN_EVASAO                     182838 non-null int64\n",
      "NU_ANO_CENSO                  182838 non-null int64\n",
      "CO_MUNICIPIO                  182838 non-null int64\n",
      "IN_LABORATORIO_INFORMATICA    182838 non-null float64\n",
      "IN_LABORATORIO_CIENCIAS       182838 non-null float64\n",
      "IN_QUADRA_ESPORTES            182838 non-null float64\n",
      "IN_BIBLIOTECA                 182838 non-null float64\n",
      "IN_BANHEIRO_FORA_PREDIO       182838 non-null float64\n",
      "IN_AREA_VERDE                 182838 non-null float64\n",
      "IN_N_COMP_15                  182838 non-null category\n",
      "NIVEL                         149234 non-null float64\n",
      "dtypes: category(2), float64(7), int64(10)\n",
      "memory usage: 25.5 MB\n"
     ]
    }
   ],
   "source": [
    "# df_work = df_rj_16[df_rj_16['NIVEL'].isnull() == False]\n",
    "df_work = df_rj_16.drop(['NU_COMP_ALUNO'], axis=1)\n",
    "df_work.info()"
   ]
  },
  {
   "cell_type": "code",
   "execution_count": 134,
   "metadata": {},
   "outputs": [
    {
     "data": {
      "text/plain": [
       "0    0.657172\n",
       "1    0.342828\n",
       "Name: IN_EVASAO, dtype: float64"
      ]
     },
     "execution_count": 134,
     "metadata": {},
     "output_type": "execute_result"
    }
   ],
   "source": [
    "df_work['IN_EVASAO'].value_counts(normalize=True)"
   ]
  },
  {
   "cell_type": "code",
   "execution_count": 135,
   "metadata": {},
   "outputs": [
    {
     "data": {
      "text/plain": [
       "0    0.676689\n",
       "1    0.323311\n",
       "Name: IN_EVASAO, dtype: float64"
      ]
     },
     "execution_count": 135,
     "metadata": {},
     "output_type": "execute_result"
    }
   ],
   "source": [
    "df_work[df_work['NIVEL'].isnull() == False]['IN_EVASAO'].value_counts(normalize=True)"
   ]
  },
  {
   "cell_type": "code",
   "execution_count": 136,
   "metadata": {},
   "outputs": [],
   "source": [
    "df_work.to_csv(TREAT_PATH / 'analysis' / 'df_alunos.csv')"
   ]
  }
 ],
 "metadata": {
  "kernelspec": {
   "display_name": "Python 3",
   "language": "python",
   "name": "python3"
  },
  "language_info": {
   "codemirror_mode": {
    "name": "ipython",
    "version": 3
   },
   "file_extension": ".py",
   "mimetype": "text/x-python",
   "name": "python",
   "nbconvert_exporter": "python",
   "pygments_lexer": "ipython3",
   "version": "3.7.4"
  },
  "toc": {
   "base_numbering": 1,
   "nav_menu": {},
   "number_sections": true,
   "sideBar": true,
   "skip_h1_title": true,
   "title_cell": "Table of Contents",
   "title_sidebar": "Contents",
   "toc_cell": true,
   "toc_position": {},
   "toc_section_display": true,
   "toc_window_display": false
  }
 },
 "nbformat": 4,
 "nbformat_minor": 2
}
