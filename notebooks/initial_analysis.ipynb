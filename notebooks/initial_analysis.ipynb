{
 "cells": [
  {
   "cell_type": "markdown",
   "metadata": {
    "toc": true
   },
   "source": [
    "<h1>Table of Contents<span class=\"tocSkip\"></span></h1>\n",
    "<div class=\"toc\"><ul class=\"toc-item\"><li><span><a href=\"#Inferência-do-INSE\" data-toc-modified-id=\"Inferência-do-INSE-1\"><span class=\"toc-item-num\">1&nbsp;&nbsp;</span>Inferência do INSE</a></span></li><li><span><a href=\"#Percentual-de-evasão\" data-toc-modified-id=\"Percentual-de-evasão-2\"><span class=\"toc-item-num\">2&nbsp;&nbsp;</span>Percentual de evasão</a></span><ul class=\"toc-item\"><li><span><a href=\"#Sexo\" data-toc-modified-id=\"Sexo-2.1\"><span class=\"toc-item-num\">2.1&nbsp;&nbsp;</span>Sexo</a></span></li><li><span><a href=\"#Distorção-Idade-Série\" data-toc-modified-id=\"Distorção-Idade-Série-2.2\"><span class=\"toc-item-num\">2.2&nbsp;&nbsp;</span>Distorção Idade-Série</a></span></li><li><span><a href=\"#Transporte-público\" data-toc-modified-id=\"Transporte-público-2.3\"><span class=\"toc-item-num\">2.3&nbsp;&nbsp;</span>Transporte público</a></span></li><li><span><a href=\"#Município-da-escola\" data-toc-modified-id=\"Município-da-escola-2.4\"><span class=\"toc-item-num\">2.4&nbsp;&nbsp;</span>Município da escola</a></span></li><li><span><a href=\"#Tamanho-da-turma\" data-toc-modified-id=\"Tamanho-da-turma-2.5\"><span class=\"toc-item-num\">2.5&nbsp;&nbsp;</span>Tamanho da turma</a></span></li></ul></li></ul></div>"
   ]
  },
  {
   "cell_type": "code",
   "execution_count": 252,
   "metadata": {},
   "outputs": [
    {
     "data": {
      "text/html": [
       "        <script type=\"text/javascript\">\n",
       "        window.PlotlyConfig = {MathJaxConfig: 'local'};\n",
       "        if (window.MathJax) {MathJax.Hub.Config({SVG: {font: \"STIX-Web\"}});}\n",
       "        if (typeof require !== 'undefined') {\n",
       "        require.undef(\"plotly\");\n",
       "        requirejs.config({\n",
       "            paths: {\n",
       "                'plotly': ['https://cdn.plot.ly/plotly-latest.min']\n",
       "            }\n",
       "        });\n",
       "        require(['plotly'], function(Plotly) {\n",
       "            window._Plotly = Plotly;\n",
       "        });\n",
       "        }\n",
       "        </script>\n",
       "        "
      ]
     },
     "metadata": {},
     "output_type": "display_data"
    },
    {
     "data": {
      "text/html": [
       "        <script type=\"text/javascript\">\n",
       "        window.PlotlyConfig = {MathJaxConfig: 'local'};\n",
       "        if (window.MathJax) {MathJax.Hub.Config({SVG: {font: \"STIX-Web\"}});}\n",
       "        if (typeof require !== 'undefined') {\n",
       "        require.undef(\"plotly\");\n",
       "        requirejs.config({\n",
       "            paths: {\n",
       "                'plotly': ['https://cdn.plot.ly/plotly-latest.min']\n",
       "            }\n",
       "        });\n",
       "        require(['plotly'], function(Plotly) {\n",
       "            window._Plotly = Plotly;\n",
       "        });\n",
       "        }\n",
       "        </script>\n",
       "        "
      ]
     },
     "metadata": {},
     "output_type": "display_data"
    }
   ],
   "source": [
    "# %load first_cell.py\n",
    "%reload_ext autoreload\n",
    "%autoreload 2\n",
    "\n",
    "from paths import RAW_PATH, TREAT_PATH, OUTPUT_PATH, FIGURES_PATH\n",
    "\n",
    "import os\n",
    "from copy import deepcopy\n",
    "import numpy as np\n",
    "import pandas as pd\n",
    "pd.options.display.max_columns = 999\n",
    "import pandas_profiling\n",
    "\n",
    "import warnings\n",
    "warnings.filterwarnings('ignore')\n",
    "\n",
    "# Plotting\n",
    "import plotly\n",
    "import plotly.graph_objs as go\n",
    "import cufflinks as cf\n",
    "plotly.offline.init_notebook_mode(connected=True)\n",
    "\n",
    "import seaborn as sns\n",
    "sns.set()\n",
    "\n",
    "cf.go_offline()\n",
    "cf.set_config_file(offline=False, world_readable=True)"
   ]
  },
  {
   "cell_type": "code",
   "execution_count": 253,
   "metadata": {},
   "outputs": [
    {
     "name": "stdout",
     "output_type": "stream",
     "text": [
      "<class 'pandas.core.frame.DataFrame'>\n",
      "RangeIndex: 182838 entries, 0 to 182837\n",
      "Data columns (total 20 columns):\n",
      "Unnamed: 0                    182838 non-null int64\n",
      "ID                            182838 non-null int64\n",
      "CO_ENTIDADE                   182838 non-null int64\n",
      "TP_SEXO                       182838 non-null int64\n",
      "NU_IDADE                      182838 non-null int64\n",
      "IN_DISTORCAO                  182838 non-null int64\n",
      "IN_TRANSPORTE_PUBLICO         182838 non-null int64\n",
      "IN_LOCAL_ESCOLA               182838 non-null int64\n",
      "N_TURMA                       182838 non-null int64\n",
      "IN_EVASAO                     182838 non-null int64\n",
      "NU_ANO_CENSO                  182838 non-null int64\n",
      "CO_MUNICIPIO                  182838 non-null int64\n",
      "IN_LABORATORIO_INFORMATICA    182838 non-null float64\n",
      "IN_LABORATORIO_CIENCIAS       182838 non-null float64\n",
      "IN_QUADRA_ESPORTES            182838 non-null float64\n",
      "IN_BIBLIOTECA                 182838 non-null float64\n",
      "IN_BANHEIRO_FORA_PREDIO       182838 non-null float64\n",
      "IN_AREA_VERDE                 182838 non-null float64\n",
      "IN_N_COMP_15                  182838 non-null int64\n",
      "NIVEL                         149234 non-null float64\n",
      "dtypes: float64(7), int64(13)\n",
      "memory usage: 27.9 MB\n"
     ]
    }
   ],
   "source": [
    "df = pd.read_csv(TREAT_PATH / 'analysis' / 'df_alunos.csv')\n",
    "df.info()"
   ]
  },
  {
   "cell_type": "code",
   "execution_count": 254,
   "metadata": {},
   "outputs": [
    {
     "data": {
      "text/html": [
       "<div>\n",
       "<style scoped>\n",
       "    .dataframe tbody tr th:only-of-type {\n",
       "        vertical-align: middle;\n",
       "    }\n",
       "\n",
       "    .dataframe tbody tr th {\n",
       "        vertical-align: top;\n",
       "    }\n",
       "\n",
       "    .dataframe thead th {\n",
       "        text-align: right;\n",
       "    }\n",
       "</style>\n",
       "<table border=\"1\" class=\"dataframe\">\n",
       "  <thead>\n",
       "    <tr style=\"text-align: right;\">\n",
       "      <th></th>\n",
       "      <th>Unnamed: 0</th>\n",
       "      <th>ID</th>\n",
       "      <th>CO_ENTIDADE</th>\n",
       "      <th>TP_SEXO</th>\n",
       "      <th>NU_IDADE</th>\n",
       "      <th>IN_DISTORCAO</th>\n",
       "      <th>IN_TRANSPORTE_PUBLICO</th>\n",
       "      <th>IN_LOCAL_ESCOLA</th>\n",
       "      <th>N_TURMA</th>\n",
       "      <th>IN_EVASAO</th>\n",
       "      <th>NU_ANO_CENSO</th>\n",
       "      <th>CO_MUNICIPIO</th>\n",
       "      <th>IN_LABORATORIO_INFORMATICA</th>\n",
       "      <th>IN_LABORATORIO_CIENCIAS</th>\n",
       "      <th>IN_QUADRA_ESPORTES</th>\n",
       "      <th>IN_BIBLIOTECA</th>\n",
       "      <th>IN_BANHEIRO_FORA_PREDIO</th>\n",
       "      <th>IN_AREA_VERDE</th>\n",
       "      <th>IN_N_COMP_15</th>\n",
       "      <th>NIVEL</th>\n",
       "    </tr>\n",
       "  </thead>\n",
       "  <tbody>\n",
       "    <tr>\n",
       "      <th>0</th>\n",
       "      <td>0</td>\n",
       "      <td>112132289130</td>\n",
       "      <td>33009627</td>\n",
       "      <td>2</td>\n",
       "      <td>17</td>\n",
       "      <td>0</td>\n",
       "      <td>0</td>\n",
       "      <td>2</td>\n",
       "      <td>0</td>\n",
       "      <td>0</td>\n",
       "      <td>2016</td>\n",
       "      <td>3301009</td>\n",
       "      <td>1.0</td>\n",
       "      <td>1.0</td>\n",
       "      <td>1.0</td>\n",
       "      <td>1.0</td>\n",
       "      <td>1.0</td>\n",
       "      <td>0.0</td>\n",
       "      <td>1</td>\n",
       "      <td>3.0</td>\n",
       "    </tr>\n",
       "    <tr>\n",
       "      <th>1</th>\n",
       "      <td>1</td>\n",
       "      <td>113220290328</td>\n",
       "      <td>33009627</td>\n",
       "      <td>2</td>\n",
       "      <td>21</td>\n",
       "      <td>1</td>\n",
       "      <td>0</td>\n",
       "      <td>2</td>\n",
       "      <td>0</td>\n",
       "      <td>1</td>\n",
       "      <td>2016</td>\n",
       "      <td>3301009</td>\n",
       "      <td>1.0</td>\n",
       "      <td>1.0</td>\n",
       "      <td>1.0</td>\n",
       "      <td>1.0</td>\n",
       "      <td>1.0</td>\n",
       "      <td>0.0</td>\n",
       "      <td>1</td>\n",
       "      <td>3.0</td>\n",
       "    </tr>\n",
       "    <tr>\n",
       "      <th>2</th>\n",
       "      <td>2</td>\n",
       "      <td>112752673352</td>\n",
       "      <td>33009627</td>\n",
       "      <td>2</td>\n",
       "      <td>16</td>\n",
       "      <td>0</td>\n",
       "      <td>0</td>\n",
       "      <td>2</td>\n",
       "      <td>0</td>\n",
       "      <td>0</td>\n",
       "      <td>2016</td>\n",
       "      <td>3301009</td>\n",
       "      <td>1.0</td>\n",
       "      <td>1.0</td>\n",
       "      <td>1.0</td>\n",
       "      <td>1.0</td>\n",
       "      <td>1.0</td>\n",
       "      <td>0.0</td>\n",
       "      <td>1</td>\n",
       "      <td>3.0</td>\n",
       "    </tr>\n",
       "    <tr>\n",
       "      <th>3</th>\n",
       "      <td>3</td>\n",
       "      <td>117459545545</td>\n",
       "      <td>33009627</td>\n",
       "      <td>2</td>\n",
       "      <td>17</td>\n",
       "      <td>0</td>\n",
       "      <td>0</td>\n",
       "      <td>2</td>\n",
       "      <td>0</td>\n",
       "      <td>0</td>\n",
       "      <td>2016</td>\n",
       "      <td>3301009</td>\n",
       "      <td>1.0</td>\n",
       "      <td>1.0</td>\n",
       "      <td>1.0</td>\n",
       "      <td>1.0</td>\n",
       "      <td>1.0</td>\n",
       "      <td>0.0</td>\n",
       "      <td>1</td>\n",
       "      <td>3.0</td>\n",
       "    </tr>\n",
       "    <tr>\n",
       "      <th>4</th>\n",
       "      <td>4</td>\n",
       "      <td>113868062938</td>\n",
       "      <td>33009627</td>\n",
       "      <td>2</td>\n",
       "      <td>18</td>\n",
       "      <td>1</td>\n",
       "      <td>0</td>\n",
       "      <td>2</td>\n",
       "      <td>0</td>\n",
       "      <td>1</td>\n",
       "      <td>2016</td>\n",
       "      <td>3301009</td>\n",
       "      <td>1.0</td>\n",
       "      <td>1.0</td>\n",
       "      <td>1.0</td>\n",
       "      <td>1.0</td>\n",
       "      <td>1.0</td>\n",
       "      <td>0.0</td>\n",
       "      <td>1</td>\n",
       "      <td>3.0</td>\n",
       "    </tr>\n",
       "  </tbody>\n",
       "</table>\n",
       "</div>"
      ],
      "text/plain": [
       "   Unnamed: 0            ID  CO_ENTIDADE  TP_SEXO  NU_IDADE  IN_DISTORCAO  \\\n",
       "0           0  112132289130     33009627        2        17             0   \n",
       "1           1  113220290328     33009627        2        21             1   \n",
       "2           2  112752673352     33009627        2        16             0   \n",
       "3           3  117459545545     33009627        2        17             0   \n",
       "4           4  113868062938     33009627        2        18             1   \n",
       "\n",
       "   IN_TRANSPORTE_PUBLICO  IN_LOCAL_ESCOLA  N_TURMA  IN_EVASAO  NU_ANO_CENSO  \\\n",
       "0                      0                2        0          0          2016   \n",
       "1                      0                2        0          1          2016   \n",
       "2                      0                2        0          0          2016   \n",
       "3                      0                2        0          0          2016   \n",
       "4                      0                2        0          1          2016   \n",
       "\n",
       "   CO_MUNICIPIO  IN_LABORATORIO_INFORMATICA  IN_LABORATORIO_CIENCIAS  \\\n",
       "0       3301009                         1.0                      1.0   \n",
       "1       3301009                         1.0                      1.0   \n",
       "2       3301009                         1.0                      1.0   \n",
       "3       3301009                         1.0                      1.0   \n",
       "4       3301009                         1.0                      1.0   \n",
       "\n",
       "   IN_QUADRA_ESPORTES  IN_BIBLIOTECA  IN_BANHEIRO_FORA_PREDIO  IN_AREA_VERDE  \\\n",
       "0                 1.0            1.0                      1.0            0.0   \n",
       "1                 1.0            1.0                      1.0            0.0   \n",
       "2                 1.0            1.0                      1.0            0.0   \n",
       "3                 1.0            1.0                      1.0            0.0   \n",
       "4                 1.0            1.0                      1.0            0.0   \n",
       "\n",
       "   IN_N_COMP_15  NIVEL  \n",
       "0             1    3.0  \n",
       "1             1    3.0  \n",
       "2             1    3.0  \n",
       "3             1    3.0  \n",
       "4             1    3.0  "
      ]
     },
     "execution_count": 254,
     "metadata": {},
     "output_type": "execute_result"
    }
   ],
   "source": [
    "df.head()"
   ]
  },
  {
   "cell_type": "code",
   "execution_count": 301,
   "metadata": {},
   "outputs": [],
   "source": [
    "dic_categorias = {\n",
    "    'IN_DISTORCAO': {0: 'Até 17 anos', 1: 'Maior ou igual a 17 anos'},\n",
    "    'TP_SEXO': {1: 'Homem', 2: 'Mulher'},\n",
    "    'IN_EVASAO': {0: 'Não evadido', 1: 'Evadido'},\n",
    "    'IN_TRANSPORTE_PUBLICO': {1: 'Utiliza transporte público', 0: 'Não utiliza'},\n",
    "    'IN_LOCAL_ESCOLA': {0: 'Rio de Janeiro (cidade)', 1: 'Grande Rio', 2: 'Outros municípios no estado'},\n",
    "    'N_TURMA': {0: 'Menos de 30 alunos', 1: '30 a 40', 2: 'Mais de 40 alunos'}\n",
    "}"
   ]
  },
  {
   "cell_type": "code",
   "execution_count": 303,
   "metadata": {},
   "outputs": [],
   "source": [
    "for k,v in dic_categorias.items():\n",
    "    df['CAT_'+k] = df[k].map(v)"
   ]
  },
  {
   "cell_type": "code",
   "execution_count": 305,
   "metadata": {},
   "outputs": [
    {
     "data": {
      "text/html": [
       "<div>\n",
       "<style scoped>\n",
       "    .dataframe tbody tr th:only-of-type {\n",
       "        vertical-align: middle;\n",
       "    }\n",
       "\n",
       "    .dataframe tbody tr th {\n",
       "        vertical-align: top;\n",
       "    }\n",
       "\n",
       "    .dataframe thead th {\n",
       "        text-align: right;\n",
       "    }\n",
       "</style>\n",
       "<table border=\"1\" class=\"dataframe\">\n",
       "  <thead>\n",
       "    <tr style=\"text-align: right;\">\n",
       "      <th></th>\n",
       "      <th>Unnamed: 0</th>\n",
       "      <th>ID</th>\n",
       "      <th>CO_ENTIDADE</th>\n",
       "      <th>TP_SEXO</th>\n",
       "      <th>NU_IDADE</th>\n",
       "      <th>IN_DISTORCAO</th>\n",
       "      <th>IN_TRANSPORTE_PUBLICO</th>\n",
       "      <th>IN_LOCAL_ESCOLA</th>\n",
       "      <th>N_TURMA</th>\n",
       "      <th>IN_EVASAO</th>\n",
       "      <th>NU_ANO_CENSO</th>\n",
       "      <th>CO_MUNICIPIO</th>\n",
       "      <th>IN_LABORATORIO_INFORMATICA</th>\n",
       "      <th>IN_LABORATORIO_CIENCIAS</th>\n",
       "      <th>IN_QUADRA_ESPORTES</th>\n",
       "      <th>IN_BIBLIOTECA</th>\n",
       "      <th>IN_BANHEIRO_FORA_PREDIO</th>\n",
       "      <th>IN_AREA_VERDE</th>\n",
       "      <th>IN_N_COMP_15</th>\n",
       "      <th>NIVEL</th>\n",
       "      <th>CAT_IN_DISTORCAO</th>\n",
       "      <th>CAT_TP_SEXO</th>\n",
       "      <th>CAT_IN_EVASAO</th>\n",
       "      <th>CAT_IN_TRANSPORTE_PUBLICO</th>\n",
       "      <th>CAT_IN_LOCAL_ESCOLA</th>\n",
       "      <th>CAT_N_TURMA</th>\n",
       "    </tr>\n",
       "  </thead>\n",
       "  <tbody>\n",
       "    <tr>\n",
       "      <th>0</th>\n",
       "      <td>0</td>\n",
       "      <td>112132289130</td>\n",
       "      <td>33009627</td>\n",
       "      <td>2</td>\n",
       "      <td>17</td>\n",
       "      <td>0</td>\n",
       "      <td>0</td>\n",
       "      <td>2</td>\n",
       "      <td>0</td>\n",
       "      <td>0</td>\n",
       "      <td>2016</td>\n",
       "      <td>3301009</td>\n",
       "      <td>1.0</td>\n",
       "      <td>1.0</td>\n",
       "      <td>1.0</td>\n",
       "      <td>1.0</td>\n",
       "      <td>1.0</td>\n",
       "      <td>0.0</td>\n",
       "      <td>1</td>\n",
       "      <td>3.0</td>\n",
       "      <td>Até 17 anos</td>\n",
       "      <td>Mulher</td>\n",
       "      <td>Não evadido</td>\n",
       "      <td>Não utiliza</td>\n",
       "      <td>Outros municípios no estado</td>\n",
       "      <td>Menos de 30 alunos</td>\n",
       "    </tr>\n",
       "    <tr>\n",
       "      <th>1</th>\n",
       "      <td>1</td>\n",
       "      <td>113220290328</td>\n",
       "      <td>33009627</td>\n",
       "      <td>2</td>\n",
       "      <td>21</td>\n",
       "      <td>1</td>\n",
       "      <td>0</td>\n",
       "      <td>2</td>\n",
       "      <td>0</td>\n",
       "      <td>1</td>\n",
       "      <td>2016</td>\n",
       "      <td>3301009</td>\n",
       "      <td>1.0</td>\n",
       "      <td>1.0</td>\n",
       "      <td>1.0</td>\n",
       "      <td>1.0</td>\n",
       "      <td>1.0</td>\n",
       "      <td>0.0</td>\n",
       "      <td>1</td>\n",
       "      <td>3.0</td>\n",
       "      <td>Maior ou igual a 17 anos</td>\n",
       "      <td>Mulher</td>\n",
       "      <td>Evadido</td>\n",
       "      <td>Não utiliza</td>\n",
       "      <td>Outros municípios no estado</td>\n",
       "      <td>Menos de 30 alunos</td>\n",
       "    </tr>\n",
       "    <tr>\n",
       "      <th>2</th>\n",
       "      <td>2</td>\n",
       "      <td>112752673352</td>\n",
       "      <td>33009627</td>\n",
       "      <td>2</td>\n",
       "      <td>16</td>\n",
       "      <td>0</td>\n",
       "      <td>0</td>\n",
       "      <td>2</td>\n",
       "      <td>0</td>\n",
       "      <td>0</td>\n",
       "      <td>2016</td>\n",
       "      <td>3301009</td>\n",
       "      <td>1.0</td>\n",
       "      <td>1.0</td>\n",
       "      <td>1.0</td>\n",
       "      <td>1.0</td>\n",
       "      <td>1.0</td>\n",
       "      <td>0.0</td>\n",
       "      <td>1</td>\n",
       "      <td>3.0</td>\n",
       "      <td>Até 17 anos</td>\n",
       "      <td>Mulher</td>\n",
       "      <td>Não evadido</td>\n",
       "      <td>Não utiliza</td>\n",
       "      <td>Outros municípios no estado</td>\n",
       "      <td>Menos de 30 alunos</td>\n",
       "    </tr>\n",
       "    <tr>\n",
       "      <th>3</th>\n",
       "      <td>3</td>\n",
       "      <td>117459545545</td>\n",
       "      <td>33009627</td>\n",
       "      <td>2</td>\n",
       "      <td>17</td>\n",
       "      <td>0</td>\n",
       "      <td>0</td>\n",
       "      <td>2</td>\n",
       "      <td>0</td>\n",
       "      <td>0</td>\n",
       "      <td>2016</td>\n",
       "      <td>3301009</td>\n",
       "      <td>1.0</td>\n",
       "      <td>1.0</td>\n",
       "      <td>1.0</td>\n",
       "      <td>1.0</td>\n",
       "      <td>1.0</td>\n",
       "      <td>0.0</td>\n",
       "      <td>1</td>\n",
       "      <td>3.0</td>\n",
       "      <td>Até 17 anos</td>\n",
       "      <td>Mulher</td>\n",
       "      <td>Não evadido</td>\n",
       "      <td>Não utiliza</td>\n",
       "      <td>Outros municípios no estado</td>\n",
       "      <td>Menos de 30 alunos</td>\n",
       "    </tr>\n",
       "    <tr>\n",
       "      <th>4</th>\n",
       "      <td>4</td>\n",
       "      <td>113868062938</td>\n",
       "      <td>33009627</td>\n",
       "      <td>2</td>\n",
       "      <td>18</td>\n",
       "      <td>1</td>\n",
       "      <td>0</td>\n",
       "      <td>2</td>\n",
       "      <td>0</td>\n",
       "      <td>1</td>\n",
       "      <td>2016</td>\n",
       "      <td>3301009</td>\n",
       "      <td>1.0</td>\n",
       "      <td>1.0</td>\n",
       "      <td>1.0</td>\n",
       "      <td>1.0</td>\n",
       "      <td>1.0</td>\n",
       "      <td>0.0</td>\n",
       "      <td>1</td>\n",
       "      <td>3.0</td>\n",
       "      <td>Maior ou igual a 17 anos</td>\n",
       "      <td>Mulher</td>\n",
       "      <td>Evadido</td>\n",
       "      <td>Não utiliza</td>\n",
       "      <td>Outros municípios no estado</td>\n",
       "      <td>Menos de 30 alunos</td>\n",
       "    </tr>\n",
       "  </tbody>\n",
       "</table>\n",
       "</div>"
      ],
      "text/plain": [
       "   Unnamed: 0            ID  CO_ENTIDADE  TP_SEXO  NU_IDADE  IN_DISTORCAO  \\\n",
       "0           0  112132289130     33009627        2        17             0   \n",
       "1           1  113220290328     33009627        2        21             1   \n",
       "2           2  112752673352     33009627        2        16             0   \n",
       "3           3  117459545545     33009627        2        17             0   \n",
       "4           4  113868062938     33009627        2        18             1   \n",
       "\n",
       "   IN_TRANSPORTE_PUBLICO  IN_LOCAL_ESCOLA  N_TURMA  IN_EVASAO  NU_ANO_CENSO  \\\n",
       "0                      0                2        0          0          2016   \n",
       "1                      0                2        0          1          2016   \n",
       "2                      0                2        0          0          2016   \n",
       "3                      0                2        0          0          2016   \n",
       "4                      0                2        0          1          2016   \n",
       "\n",
       "   CO_MUNICIPIO  IN_LABORATORIO_INFORMATICA  IN_LABORATORIO_CIENCIAS  \\\n",
       "0       3301009                         1.0                      1.0   \n",
       "1       3301009                         1.0                      1.0   \n",
       "2       3301009                         1.0                      1.0   \n",
       "3       3301009                         1.0                      1.0   \n",
       "4       3301009                         1.0                      1.0   \n",
       "\n",
       "   IN_QUADRA_ESPORTES  IN_BIBLIOTECA  IN_BANHEIRO_FORA_PREDIO  IN_AREA_VERDE  \\\n",
       "0                 1.0            1.0                      1.0            0.0   \n",
       "1                 1.0            1.0                      1.0            0.0   \n",
       "2                 1.0            1.0                      1.0            0.0   \n",
       "3                 1.0            1.0                      1.0            0.0   \n",
       "4                 1.0            1.0                      1.0            0.0   \n",
       "\n",
       "   IN_N_COMP_15  NIVEL          CAT_IN_DISTORCAO CAT_TP_SEXO CAT_IN_EVASAO  \\\n",
       "0             1    3.0               Até 17 anos      Mulher   Não evadido   \n",
       "1             1    3.0  Maior ou igual a 17 anos      Mulher       Evadido   \n",
       "2             1    3.0               Até 17 anos      Mulher   Não evadido   \n",
       "3             1    3.0               Até 17 anos      Mulher   Não evadido   \n",
       "4             1    3.0  Maior ou igual a 17 anos      Mulher       Evadido   \n",
       "\n",
       "  CAT_IN_TRANSPORTE_PUBLICO          CAT_IN_LOCAL_ESCOLA         CAT_N_TURMA  \n",
       "0               Não utiliza  Outros municípios no estado  Menos de 30 alunos  \n",
       "1               Não utiliza  Outros municípios no estado  Menos de 30 alunos  \n",
       "2               Não utiliza  Outros municípios no estado  Menos de 30 alunos  \n",
       "3               Não utiliza  Outros municípios no estado  Menos de 30 alunos  \n",
       "4               Não utiliza  Outros municípios no estado  Menos de 30 alunos  "
      ]
     },
     "execution_count": 305,
     "metadata": {},
     "output_type": "execute_result"
    }
   ],
   "source": [
    "df.head()"
   ]
  },
  {
   "cell_type": "markdown",
   "metadata": {
    "heading_collapsed": true
   },
   "source": [
    "##  Inferência do INSE"
   ]
  },
  {
   "cell_type": "code",
   "execution_count": 255,
   "metadata": {
    "hidden": true
   },
   "outputs": [
    {
     "data": {
      "text/plain": [
       "3.0    0.865687\n",
       "4.0    0.123035\n",
       "2.0    0.007646\n",
       "5.0    0.002747\n",
       "6.0    0.000590\n",
       "1.0    0.000295\n",
       "Name: NIVEL, dtype: float64"
      ]
     },
     "execution_count": 255,
     "metadata": {},
     "output_type": "execute_result"
    }
   ],
   "source": [
    "df['NIVEL'].value_counts(normalize=True) # total dos alunos"
   ]
  },
  {
   "cell_type": "code",
   "execution_count": 256,
   "metadata": {
    "hidden": true
   },
   "outputs": [
    {
     "data": {
      "text/plain": [
       "3.0    0.815077\n",
       "4.0    0.148410\n",
       "2.0    0.024735\n",
       "5.0    0.008245\n",
       "1.0    0.002356\n",
       "6.0    0.001178\n",
       "Name: NIVEL, dtype: float64"
      ]
     },
     "execution_count": 256,
     "metadata": {},
     "output_type": "execute_result"
    }
   ],
   "source": [
    "df[['CO_ENTIDADE', 'NIVEL']].drop_duplicates()['NIVEL'].value_counts(normalize=True)"
   ]
  },
  {
   "cell_type": "code",
   "execution_count": 257,
   "metadata": {
    "hidden": true
   },
   "outputs": [
    {
     "data": {
      "text/plain": [
       "3.0    692\n",
       "4.0    126\n",
       "2.0     21\n",
       "5.0      7\n",
       "1.0      2\n",
       "6.0      1\n",
       "Name: NIVEL, dtype: int64"
      ]
     },
     "execution_count": 257,
     "metadata": {},
     "output_type": "execute_result"
    }
   ],
   "source": [
    "df[['CO_ENTIDADE', 'NIVEL']].drop_duplicates()['NIVEL'].value_counts()"
   ]
  },
  {
   "cell_type": "code",
   "execution_count": 258,
   "metadata": {
    "hidden": true
   },
   "outputs": [
    {
     "data": {
      "text/plain": [
       "Index(['Unnamed: 0', 'ID', 'CO_ENTIDADE', 'TP_SEXO', 'NU_IDADE',\n",
       "       'IN_DISTORCAO', 'IN_TRANSPORTE_PUBLICO', 'IN_LOCAL_ESCOLA', 'N_TURMA',\n",
       "       'IN_EVASAO', 'NU_ANO_CENSO', 'CO_MUNICIPIO',\n",
       "       'IN_LABORATORIO_INFORMATICA', 'IN_LABORATORIO_CIENCIAS',\n",
       "       'IN_QUADRA_ESPORTES', 'IN_BIBLIOTECA', 'IN_BANHEIRO_FORA_PREDIO',\n",
       "       'IN_AREA_VERDE', 'IN_N_COMP_15', 'NIVEL'],\n",
       "      dtype='object')"
      ]
     },
     "execution_count": 258,
     "metadata": {},
     "output_type": "execute_result"
    }
   ],
   "source": [
    "df.columns"
   ]
  },
  {
   "cell_type": "code",
   "execution_count": 259,
   "metadata": {
    "hidden": true
   },
   "outputs": [
    {
     "name": "stdout",
     "output_type": "stream",
     "text": [
      "<class 'pandas.core.frame.DataFrame'>\n",
      "Int64Index: 1097 entries, 0 to 34258\n",
      "Data columns (total 10 columns):\n",
      "CO_ENTIDADE                   1097 non-null int64\n",
      "IN_LOCAL_ESCOLA               1097 non-null int64\n",
      "IN_LABORATORIO_INFORMATICA    1097 non-null float64\n",
      "IN_LABORATORIO_CIENCIAS       1097 non-null float64\n",
      "IN_QUADRA_ESPORTES            1097 non-null float64\n",
      "IN_BIBLIOTECA                 1097 non-null float64\n",
      "IN_BANHEIRO_FORA_PREDIO       1097 non-null float64\n",
      "IN_AREA_VERDE                 1097 non-null float64\n",
      "IN_N_COMP_15                  1097 non-null int64\n",
      "NIVEL                         849 non-null float64\n",
      "dtypes: float64(7), int64(3)\n",
      "memory usage: 94.3 KB\n"
     ]
    }
   ],
   "source": [
    "inse = df[['CO_ENTIDADE', 'IN_LOCAL_ESCOLA', 'IN_LABORATORIO_INFORMATICA', 'IN_LABORATORIO_CIENCIAS',\n",
    "           'IN_QUADRA_ESPORTES', 'IN_BIBLIOTECA', 'IN_BANHEIRO_FORA_PREDIO', 'IN_AREA_VERDE', \n",
    "           'IN_N_COMP_15', 'NIVEL']].drop_duplicates()\n",
    "inse.info()"
   ]
  },
  {
   "cell_type": "code",
   "execution_count": 260,
   "metadata": {
    "hidden": true
   },
   "outputs": [
    {
     "name": "stdout",
     "output_type": "stream",
     "text": [
      "IN_LOCAL_ESCOLA   0    1    2\n",
      "NIVEL                        \n",
      "1.0               0    0    2\n",
      "2.0               1    1   19\n",
      "3.0              81  363  248\n",
      "4.0              11   45   70\n",
      "5.0               0    2    5\n",
      "6.0               1    0    0\n"
     ]
    },
    {
     "data": {
      "text/html": [
       "<div>\n",
       "<style scoped>\n",
       "    .dataframe tbody tr th:only-of-type {\n",
       "        vertical-align: middle;\n",
       "    }\n",
       "\n",
       "    .dataframe tbody tr th {\n",
       "        vertical-align: top;\n",
       "    }\n",
       "\n",
       "    .dataframe thead th {\n",
       "        text-align: right;\n",
       "    }\n",
       "</style>\n",
       "<table border=\"1\" class=\"dataframe\">\n",
       "  <thead>\n",
       "    <tr style=\"text-align: right;\">\n",
       "      <th>IN_LOCAL_ESCOLA</th>\n",
       "      <th>0</th>\n",
       "      <th>1</th>\n",
       "      <th>2</th>\n",
       "    </tr>\n",
       "    <tr>\n",
       "      <th>NIVEL</th>\n",
       "      <th></th>\n",
       "      <th></th>\n",
       "      <th></th>\n",
       "    </tr>\n",
       "  </thead>\n",
       "  <tbody>\n",
       "    <tr>\n",
       "      <th>1.0</th>\n",
       "      <td>0.000000</td>\n",
       "      <td>0.000000</td>\n",
       "      <td>0.235571</td>\n",
       "    </tr>\n",
       "    <tr>\n",
       "      <th>2.0</th>\n",
       "      <td>0.117786</td>\n",
       "      <td>0.117786</td>\n",
       "      <td>2.237927</td>\n",
       "    </tr>\n",
       "    <tr>\n",
       "      <th>3.0</th>\n",
       "      <td>9.540636</td>\n",
       "      <td>42.756184</td>\n",
       "      <td>29.210836</td>\n",
       "    </tr>\n",
       "    <tr>\n",
       "      <th>4.0</th>\n",
       "      <td>1.295642</td>\n",
       "      <td>5.300353</td>\n",
       "      <td>8.244994</td>\n",
       "    </tr>\n",
       "    <tr>\n",
       "      <th>5.0</th>\n",
       "      <td>0.000000</td>\n",
       "      <td>0.235571</td>\n",
       "      <td>0.588928</td>\n",
       "    </tr>\n",
       "    <tr>\n",
       "      <th>6.0</th>\n",
       "      <td>0.117786</td>\n",
       "      <td>0.000000</td>\n",
       "      <td>0.000000</td>\n",
       "    </tr>\n",
       "  </tbody>\n",
       "</table>\n",
       "</div>"
      ],
      "text/plain": [
       "IN_LOCAL_ESCOLA         0          1          2\n",
       "NIVEL                                          \n",
       "1.0              0.000000   0.000000   0.235571\n",
       "2.0              0.117786   0.117786   2.237927\n",
       "3.0              9.540636  42.756184  29.210836\n",
       "4.0              1.295642   5.300353   8.244994\n",
       "5.0              0.000000   0.235571   0.588928\n",
       "6.0              0.117786   0.000000   0.000000"
      ]
     },
     "execution_count": 260,
     "metadata": {},
     "output_type": "execute_result"
    }
   ],
   "source": [
    "print(pd.crosstab(inse['NIVEL'], inse['IN_LOCAL_ESCOLA']))\n",
    "pd.crosstab(inse['NIVEL'], inse['IN_LOCAL_ESCOLA'], normalize=True)*100"
   ]
  },
  {
   "cell_type": "code",
   "execution_count": 261,
   "metadata": {
    "hidden": true
   },
   "outputs": [
    {
     "name": "stdout",
     "output_type": "stream",
     "text": [
      "IN_LABORATORIO_INFORMATICA  0.0  1.0\n",
      "NIVEL                               \n",
      "1.0                           0    2\n",
      "2.0                           3   18\n",
      "3.0                         119  573\n",
      "4.0                          17  109\n",
      "5.0                           2    5\n",
      "6.0                           0    1\n"
     ]
    },
    {
     "data": {
      "text/html": [
       "<div>\n",
       "<style scoped>\n",
       "    .dataframe tbody tr th:only-of-type {\n",
       "        vertical-align: middle;\n",
       "    }\n",
       "\n",
       "    .dataframe tbody tr th {\n",
       "        vertical-align: top;\n",
       "    }\n",
       "\n",
       "    .dataframe thead th {\n",
       "        text-align: right;\n",
       "    }\n",
       "</style>\n",
       "<table border=\"1\" class=\"dataframe\">\n",
       "  <thead>\n",
       "    <tr style=\"text-align: right;\">\n",
       "      <th>IN_LABORATORIO_INFORMATICA</th>\n",
       "      <th>0.0</th>\n",
       "      <th>1.0</th>\n",
       "    </tr>\n",
       "    <tr>\n",
       "      <th>NIVEL</th>\n",
       "      <th></th>\n",
       "      <th></th>\n",
       "    </tr>\n",
       "  </thead>\n",
       "  <tbody>\n",
       "    <tr>\n",
       "      <th>1.0</th>\n",
       "      <td>0.000000</td>\n",
       "      <td>0.282486</td>\n",
       "    </tr>\n",
       "    <tr>\n",
       "      <th>2.0</th>\n",
       "      <td>2.127660</td>\n",
       "      <td>2.542373</td>\n",
       "    </tr>\n",
       "    <tr>\n",
       "      <th>3.0</th>\n",
       "      <td>84.397163</td>\n",
       "      <td>80.932203</td>\n",
       "    </tr>\n",
       "    <tr>\n",
       "      <th>4.0</th>\n",
       "      <td>12.056738</td>\n",
       "      <td>15.395480</td>\n",
       "    </tr>\n",
       "    <tr>\n",
       "      <th>5.0</th>\n",
       "      <td>1.418440</td>\n",
       "      <td>0.706215</td>\n",
       "    </tr>\n",
       "    <tr>\n",
       "      <th>6.0</th>\n",
       "      <td>0.000000</td>\n",
       "      <td>0.141243</td>\n",
       "    </tr>\n",
       "  </tbody>\n",
       "</table>\n",
       "</div>"
      ],
      "text/plain": [
       "IN_LABORATORIO_INFORMATICA        0.0        1.0\n",
       "NIVEL                                           \n",
       "1.0                          0.000000   0.282486\n",
       "2.0                          2.127660   2.542373\n",
       "3.0                         84.397163  80.932203\n",
       "4.0                         12.056738  15.395480\n",
       "5.0                          1.418440   0.706215\n",
       "6.0                          0.000000   0.141243"
      ]
     },
     "execution_count": 261,
     "metadata": {},
     "output_type": "execute_result"
    }
   ],
   "source": [
    "print(pd.crosstab(inse['NIVEL'], inse['IN_LABORATORIO_INFORMATICA']))\n",
    "pd.crosstab(inse['NIVEL'], inse['IN_LABORATORIO_INFORMATICA'], normalize=1)*100"
   ]
  },
  {
   "cell_type": "markdown",
   "metadata": {
    "hidden": true
   },
   "source": [
    "* Todas escolas fora da região metropolitana sem laboratório de informática estão no nível 3. Porém, para outros casos, > 80% também estão nesse nível"
   ]
  },
  {
   "cell_type": "code",
   "execution_count": 262,
   "metadata": {
    "hidden": true
   },
   "outputs": [
    {
     "name": "stdout",
     "output_type": "stream",
     "text": [
      "IN_LOCAL_ESCOLA                0           1            2       \n",
      "IN_LABORATORIO_INFORMATICA   0.0   1.0   0.0    1.0   0.0    1.0\n",
      "NIVEL                                                           \n",
      "1.0                            0     0     0      0     0    200\n",
      "2.0                            0   100     0    100   300   1600\n",
      "3.0                         1600  6500  5800  30500  4500  20300\n",
      "4.0                            0  1100  1000   3500   700   6300\n",
      "5.0                            0     0   100    100   100    400\n",
      "6.0                            0   100     0      0     0      0\n"
     ]
    },
    {
     "data": {
      "text/html": [
       "<div>\n",
       "<style scoped>\n",
       "    .dataframe tbody tr th:only-of-type {\n",
       "        vertical-align: middle;\n",
       "    }\n",
       "\n",
       "    .dataframe tbody tr th {\n",
       "        vertical-align: top;\n",
       "    }\n",
       "\n",
       "    .dataframe thead tr th {\n",
       "        text-align: left;\n",
       "    }\n",
       "\n",
       "    .dataframe thead tr:last-of-type th {\n",
       "        text-align: right;\n",
       "    }\n",
       "</style>\n",
       "<table border=\"1\" class=\"dataframe\">\n",
       "  <thead>\n",
       "    <tr>\n",
       "      <th>IN_LOCAL_ESCOLA</th>\n",
       "      <th colspan=\"2\" halign=\"left\">0</th>\n",
       "      <th colspan=\"2\" halign=\"left\">1</th>\n",
       "      <th colspan=\"2\" halign=\"left\">2</th>\n",
       "    </tr>\n",
       "    <tr>\n",
       "      <th>IN_LABORATORIO_INFORMATICA</th>\n",
       "      <th>0.0</th>\n",
       "      <th>1.0</th>\n",
       "      <th>0.0</th>\n",
       "      <th>1.0</th>\n",
       "      <th>0.0</th>\n",
       "      <th>1.0</th>\n",
       "    </tr>\n",
       "    <tr>\n",
       "      <th>NIVEL</th>\n",
       "      <th></th>\n",
       "      <th></th>\n",
       "      <th></th>\n",
       "      <th></th>\n",
       "      <th></th>\n",
       "      <th></th>\n",
       "    </tr>\n",
       "  </thead>\n",
       "  <tbody>\n",
       "    <tr>\n",
       "      <th>1.0</th>\n",
       "      <td>0.0</td>\n",
       "      <td>0.000000</td>\n",
       "      <td>0.000000</td>\n",
       "      <td>0.000000</td>\n",
       "      <td>0.000000</td>\n",
       "      <td>0.694444</td>\n",
       "    </tr>\n",
       "    <tr>\n",
       "      <th>2.0</th>\n",
       "      <td>0.0</td>\n",
       "      <td>1.282051</td>\n",
       "      <td>0.000000</td>\n",
       "      <td>0.292398</td>\n",
       "      <td>5.357143</td>\n",
       "      <td>5.555556</td>\n",
       "    </tr>\n",
       "    <tr>\n",
       "      <th>3.0</th>\n",
       "      <td>100.0</td>\n",
       "      <td>83.333333</td>\n",
       "      <td>84.057971</td>\n",
       "      <td>89.181287</td>\n",
       "      <td>80.357143</td>\n",
       "      <td>70.486111</td>\n",
       "    </tr>\n",
       "    <tr>\n",
       "      <th>4.0</th>\n",
       "      <td>0.0</td>\n",
       "      <td>14.102564</td>\n",
       "      <td>14.492754</td>\n",
       "      <td>10.233918</td>\n",
       "      <td>12.500000</td>\n",
       "      <td>21.875000</td>\n",
       "    </tr>\n",
       "    <tr>\n",
       "      <th>5.0</th>\n",
       "      <td>0.0</td>\n",
       "      <td>0.000000</td>\n",
       "      <td>1.449275</td>\n",
       "      <td>0.292398</td>\n",
       "      <td>1.785714</td>\n",
       "      <td>1.388889</td>\n",
       "    </tr>\n",
       "    <tr>\n",
       "      <th>6.0</th>\n",
       "      <td>0.0</td>\n",
       "      <td>1.282051</td>\n",
       "      <td>0.000000</td>\n",
       "      <td>0.000000</td>\n",
       "      <td>0.000000</td>\n",
       "      <td>0.000000</td>\n",
       "    </tr>\n",
       "  </tbody>\n",
       "</table>\n",
       "</div>"
      ],
      "text/plain": [
       "IN_LOCAL_ESCOLA                 0                     1                     2  \\\n",
       "IN_LABORATORIO_INFORMATICA    0.0        1.0        0.0        1.0        0.0   \n",
       "NIVEL                                                                           \n",
       "1.0                           0.0   0.000000   0.000000   0.000000   0.000000   \n",
       "2.0                           0.0   1.282051   0.000000   0.292398   5.357143   \n",
       "3.0                         100.0  83.333333  84.057971  89.181287  80.357143   \n",
       "4.0                           0.0  14.102564  14.492754  10.233918  12.500000   \n",
       "5.0                           0.0   0.000000   1.449275   0.292398   1.785714   \n",
       "6.0                           0.0   1.282051   0.000000   0.000000   0.000000   \n",
       "\n",
       "IN_LOCAL_ESCOLA                        \n",
       "IN_LABORATORIO_INFORMATICA        1.0  \n",
       "NIVEL                                  \n",
       "1.0                          0.694444  \n",
       "2.0                          5.555556  \n",
       "3.0                         70.486111  \n",
       "4.0                         21.875000  \n",
       "5.0                          1.388889  \n",
       "6.0                          0.000000  "
      ]
     },
     "execution_count": 262,
     "metadata": {},
     "output_type": "execute_result"
    }
   ],
   "source": [
    "compare = [inse['IN_LOCAL_ESCOLA'], inse['IN_LABORATORIO_INFORMATICA']]\n",
    "\n",
    "print(pd.crosstab(inse['NIVEL'], compare)*100)\n",
    "pd.crosstab(inse['NIVEL'], compare, normalize=1)*100"
   ]
  },
  {
   "cell_type": "code",
   "execution_count": 263,
   "metadata": {
    "hidden": true
   },
   "outputs": [
    {
     "name": "stdout",
     "output_type": "stream",
     "text": [
      "IN_LABORATORIO_CIENCIAS  0.0  1.0\n",
      "NIVEL                            \n",
      "1.0                        2    0\n",
      "2.0                       11   10\n",
      "3.0                      174  518\n",
      "4.0                       31   95\n",
      "5.0                        1    6\n",
      "6.0                        0    1\n"
     ]
    },
    {
     "data": {
      "text/html": [
       "<div>\n",
       "<style scoped>\n",
       "    .dataframe tbody tr th:only-of-type {\n",
       "        vertical-align: middle;\n",
       "    }\n",
       "\n",
       "    .dataframe tbody tr th {\n",
       "        vertical-align: top;\n",
       "    }\n",
       "\n",
       "    .dataframe thead th {\n",
       "        text-align: right;\n",
       "    }\n",
       "</style>\n",
       "<table border=\"1\" class=\"dataframe\">\n",
       "  <thead>\n",
       "    <tr style=\"text-align: right;\">\n",
       "      <th>IN_LABORATORIO_CIENCIAS</th>\n",
       "      <th>0.0</th>\n",
       "      <th>1.0</th>\n",
       "    </tr>\n",
       "    <tr>\n",
       "      <th>NIVEL</th>\n",
       "      <th></th>\n",
       "      <th></th>\n",
       "    </tr>\n",
       "  </thead>\n",
       "  <tbody>\n",
       "    <tr>\n",
       "      <th>1.0</th>\n",
       "      <td>0.913242</td>\n",
       "      <td>0.000000</td>\n",
       "    </tr>\n",
       "    <tr>\n",
       "      <th>2.0</th>\n",
       "      <td>5.022831</td>\n",
       "      <td>1.587302</td>\n",
       "    </tr>\n",
       "    <tr>\n",
       "      <th>3.0</th>\n",
       "      <td>79.452055</td>\n",
       "      <td>82.222222</td>\n",
       "    </tr>\n",
       "    <tr>\n",
       "      <th>4.0</th>\n",
       "      <td>14.155251</td>\n",
       "      <td>15.079365</td>\n",
       "    </tr>\n",
       "    <tr>\n",
       "      <th>5.0</th>\n",
       "      <td>0.456621</td>\n",
       "      <td>0.952381</td>\n",
       "    </tr>\n",
       "    <tr>\n",
       "      <th>6.0</th>\n",
       "      <td>0.000000</td>\n",
       "      <td>0.158730</td>\n",
       "    </tr>\n",
       "  </tbody>\n",
       "</table>\n",
       "</div>"
      ],
      "text/plain": [
       "IN_LABORATORIO_CIENCIAS        0.0        1.0\n",
       "NIVEL                                        \n",
       "1.0                       0.913242   0.000000\n",
       "2.0                       5.022831   1.587302\n",
       "3.0                      79.452055  82.222222\n",
       "4.0                      14.155251  15.079365\n",
       "5.0                       0.456621   0.952381\n",
       "6.0                       0.000000   0.158730"
      ]
     },
     "execution_count": 263,
     "metadata": {},
     "output_type": "execute_result"
    }
   ],
   "source": [
    "print(pd.crosstab(inse['NIVEL'], inse['IN_LABORATORIO_CIENCIAS']))\n",
    "pd.crosstab(inse['NIVEL'], inse['IN_LABORATORIO_CIENCIAS'], normalize=1)*100"
   ]
  },
  {
   "cell_type": "code",
   "execution_count": 264,
   "metadata": {
    "hidden": true
   },
   "outputs": [
    {
     "data": {
      "text/html": [
       "<div>\n",
       "<style scoped>\n",
       "    .dataframe tbody tr th:only-of-type {\n",
       "        vertical-align: middle;\n",
       "    }\n",
       "\n",
       "    .dataframe tbody tr th {\n",
       "        vertical-align: top;\n",
       "    }\n",
       "\n",
       "    .dataframe thead tr th {\n",
       "        text-align: left;\n",
       "    }\n",
       "\n",
       "    .dataframe thead tr:last-of-type th {\n",
       "        text-align: right;\n",
       "    }\n",
       "</style>\n",
       "<table border=\"1\" class=\"dataframe\">\n",
       "  <thead>\n",
       "    <tr>\n",
       "      <th>IN_LABORATORIO_INFORMATICA</th>\n",
       "      <th colspan=\"2\" halign=\"left\">0.0</th>\n",
       "      <th colspan=\"2\" halign=\"left\">1.0</th>\n",
       "    </tr>\n",
       "    <tr>\n",
       "      <th>IN_LABORATORIO_CIENCIAS</th>\n",
       "      <th>0.0</th>\n",
       "      <th>1.0</th>\n",
       "      <th>0.0</th>\n",
       "      <th>1.0</th>\n",
       "    </tr>\n",
       "    <tr>\n",
       "      <th>NIVEL</th>\n",
       "      <th></th>\n",
       "      <th></th>\n",
       "      <th></th>\n",
       "      <th></th>\n",
       "    </tr>\n",
       "  </thead>\n",
       "  <tbody>\n",
       "    <tr>\n",
       "      <th>1.0</th>\n",
       "      <td>0.000000</td>\n",
       "      <td>0.000000</td>\n",
       "      <td>1.075269</td>\n",
       "      <td>0.000000</td>\n",
       "    </tr>\n",
       "    <tr>\n",
       "      <th>2.0</th>\n",
       "      <td>9.090909</td>\n",
       "      <td>0.000000</td>\n",
       "      <td>4.301075</td>\n",
       "      <td>1.915709</td>\n",
       "    </tr>\n",
       "    <tr>\n",
       "      <th>3.0</th>\n",
       "      <td>75.757576</td>\n",
       "      <td>87.037037</td>\n",
       "      <td>80.107527</td>\n",
       "      <td>81.226054</td>\n",
       "    </tr>\n",
       "    <tr>\n",
       "      <th>4.0</th>\n",
       "      <td>15.151515</td>\n",
       "      <td>11.111111</td>\n",
       "      <td>13.978495</td>\n",
       "      <td>15.900383</td>\n",
       "    </tr>\n",
       "    <tr>\n",
       "      <th>5.0</th>\n",
       "      <td>0.000000</td>\n",
       "      <td>1.851852</td>\n",
       "      <td>0.537634</td>\n",
       "      <td>0.766284</td>\n",
       "    </tr>\n",
       "    <tr>\n",
       "      <th>6.0</th>\n",
       "      <td>0.000000</td>\n",
       "      <td>0.000000</td>\n",
       "      <td>0.000000</td>\n",
       "      <td>0.191571</td>\n",
       "    </tr>\n",
       "  </tbody>\n",
       "</table>\n",
       "</div>"
      ],
      "text/plain": [
       "IN_LABORATORIO_INFORMATICA        0.0                   1.0           \n",
       "IN_LABORATORIO_CIENCIAS           0.0        1.0        0.0        1.0\n",
       "NIVEL                                                                 \n",
       "1.0                          0.000000   0.000000   1.075269   0.000000\n",
       "2.0                          9.090909   0.000000   4.301075   1.915709\n",
       "3.0                         75.757576  87.037037  80.107527  81.226054\n",
       "4.0                         15.151515  11.111111  13.978495  15.900383\n",
       "5.0                          0.000000   1.851852   0.537634   0.766284\n",
       "6.0                          0.000000   0.000000   0.000000   0.191571"
      ]
     },
     "execution_count": 264,
     "metadata": {},
     "output_type": "execute_result"
    }
   ],
   "source": [
    "compare = [inse['IN_LABORATORIO_INFORMATICA'], inse['IN_LABORATORIO_CIENCIAS']]\n",
    "pd.crosstab(inse['NIVEL'], compare, normalize=1)*100"
   ]
  },
  {
   "cell_type": "code",
   "execution_count": 265,
   "metadata": {
    "hidden": true
   },
   "outputs": [
    {
     "data": {
      "text/html": [
       "<div>\n",
       "<style scoped>\n",
       "    .dataframe tbody tr th:only-of-type {\n",
       "        vertical-align: middle;\n",
       "    }\n",
       "\n",
       "    .dataframe tbody tr th {\n",
       "        vertical-align: top;\n",
       "    }\n",
       "\n",
       "    .dataframe thead th {\n",
       "        text-align: right;\n",
       "    }\n",
       "</style>\n",
       "<table border=\"1\" class=\"dataframe\">\n",
       "  <thead>\n",
       "    <tr style=\"text-align: right;\">\n",
       "      <th>IN_BIBLIOTECA</th>\n",
       "      <th>0.0</th>\n",
       "      <th>1.0</th>\n",
       "    </tr>\n",
       "    <tr>\n",
       "      <th>NIVEL</th>\n",
       "      <th></th>\n",
       "      <th></th>\n",
       "    </tr>\n",
       "  </thead>\n",
       "  <tbody>\n",
       "    <tr>\n",
       "      <th>1.0</th>\n",
       "      <td>1.428571</td>\n",
       "      <td>0.128370</td>\n",
       "    </tr>\n",
       "    <tr>\n",
       "      <th>2.0</th>\n",
       "      <td>2.857143</td>\n",
       "      <td>2.439024</td>\n",
       "    </tr>\n",
       "    <tr>\n",
       "      <th>3.0</th>\n",
       "      <td>84.285714</td>\n",
       "      <td>81.258023</td>\n",
       "    </tr>\n",
       "    <tr>\n",
       "      <th>4.0</th>\n",
       "      <td>10.000000</td>\n",
       "      <td>15.275995</td>\n",
       "    </tr>\n",
       "    <tr>\n",
       "      <th>5.0</th>\n",
       "      <td>1.428571</td>\n",
       "      <td>0.770218</td>\n",
       "    </tr>\n",
       "    <tr>\n",
       "      <th>6.0</th>\n",
       "      <td>0.000000</td>\n",
       "      <td>0.128370</td>\n",
       "    </tr>\n",
       "  </tbody>\n",
       "</table>\n",
       "</div>"
      ],
      "text/plain": [
       "IN_BIBLIOTECA        0.0        1.0\n",
       "NIVEL                              \n",
       "1.0             1.428571   0.128370\n",
       "2.0             2.857143   2.439024\n",
       "3.0            84.285714  81.258023\n",
       "4.0            10.000000  15.275995\n",
       "5.0             1.428571   0.770218\n",
       "6.0             0.000000   0.128370"
      ]
     },
     "execution_count": 265,
     "metadata": {},
     "output_type": "execute_result"
    }
   ],
   "source": [
    "pd.crosstab(inse['NIVEL'], inse['IN_BIBLIOTECA'], normalize=1)*100"
   ]
  },
  {
   "cell_type": "code",
   "execution_count": 266,
   "metadata": {
    "hidden": true
   },
   "outputs": [
    {
     "data": {
      "text/html": [
       "<div>\n",
       "<style scoped>\n",
       "    .dataframe tbody tr th:only-of-type {\n",
       "        vertical-align: middle;\n",
       "    }\n",
       "\n",
       "    .dataframe tbody tr th {\n",
       "        vertical-align: top;\n",
       "    }\n",
       "\n",
       "    .dataframe thead tr th {\n",
       "        text-align: left;\n",
       "    }\n",
       "\n",
       "    .dataframe thead tr:last-of-type th {\n",
       "        text-align: right;\n",
       "    }\n",
       "</style>\n",
       "<table border=\"1\" class=\"dataframe\">\n",
       "  <thead>\n",
       "    <tr>\n",
       "      <th>IN_BIBLIOTECA</th>\n",
       "      <th colspan=\"2\" halign=\"left\">0.0</th>\n",
       "      <th colspan=\"2\" halign=\"left\">1.0</th>\n",
       "    </tr>\n",
       "    <tr>\n",
       "      <th>IN_LABORATORIO_CIENCIAS</th>\n",
       "      <th>0.0</th>\n",
       "      <th>1.0</th>\n",
       "      <th>0.0</th>\n",
       "      <th>1.0</th>\n",
       "    </tr>\n",
       "    <tr>\n",
       "      <th>NIVEL</th>\n",
       "      <th></th>\n",
       "      <th></th>\n",
       "      <th></th>\n",
       "      <th></th>\n",
       "    </tr>\n",
       "  </thead>\n",
       "  <tbody>\n",
       "    <tr>\n",
       "      <th>1.0</th>\n",
       "      <td>2.0</td>\n",
       "      <td>0.0</td>\n",
       "      <td>0.591716</td>\n",
       "      <td>0.000000</td>\n",
       "    </tr>\n",
       "    <tr>\n",
       "      <th>2.0</th>\n",
       "      <td>4.0</td>\n",
       "      <td>0.0</td>\n",
       "      <td>5.325444</td>\n",
       "      <td>1.639344</td>\n",
       "    </tr>\n",
       "    <tr>\n",
       "      <th>3.0</th>\n",
       "      <td>86.0</td>\n",
       "      <td>80.0</td>\n",
       "      <td>77.514793</td>\n",
       "      <td>82.295082</td>\n",
       "    </tr>\n",
       "    <tr>\n",
       "      <th>4.0</th>\n",
       "      <td>8.0</td>\n",
       "      <td>15.0</td>\n",
       "      <td>15.976331</td>\n",
       "      <td>15.081967</td>\n",
       "    </tr>\n",
       "    <tr>\n",
       "      <th>5.0</th>\n",
       "      <td>0.0</td>\n",
       "      <td>5.0</td>\n",
       "      <td>0.591716</td>\n",
       "      <td>0.819672</td>\n",
       "    </tr>\n",
       "    <tr>\n",
       "      <th>6.0</th>\n",
       "      <td>0.0</td>\n",
       "      <td>0.0</td>\n",
       "      <td>0.000000</td>\n",
       "      <td>0.163934</td>\n",
       "    </tr>\n",
       "  </tbody>\n",
       "</table>\n",
       "</div>"
      ],
      "text/plain": [
       "IN_BIBLIOTECA             0.0              1.0           \n",
       "IN_LABORATORIO_CIENCIAS   0.0   1.0        0.0        1.0\n",
       "NIVEL                                                    \n",
       "1.0                       2.0   0.0   0.591716   0.000000\n",
       "2.0                       4.0   0.0   5.325444   1.639344\n",
       "3.0                      86.0  80.0  77.514793  82.295082\n",
       "4.0                       8.0  15.0  15.976331  15.081967\n",
       "5.0                       0.0   5.0   0.591716   0.819672\n",
       "6.0                       0.0   0.0   0.000000   0.163934"
      ]
     },
     "execution_count": 266,
     "metadata": {},
     "output_type": "execute_result"
    }
   ],
   "source": [
    "compare = [inse['IN_BIBLIOTECA'], inse['IN_LABORATORIO_CIENCIAS']]\n",
    "pd.crosstab(inse['NIVEL'], compare, normalize=1)*100"
   ]
  },
  {
   "cell_type": "code",
   "execution_count": 267,
   "metadata": {
    "hidden": true
   },
   "outputs": [
    {
     "data": {
      "text/html": [
       "<div>\n",
       "<style scoped>\n",
       "    .dataframe tbody tr th:only-of-type {\n",
       "        vertical-align: middle;\n",
       "    }\n",
       "\n",
       "    .dataframe tbody tr th {\n",
       "        vertical-align: top;\n",
       "    }\n",
       "\n",
       "    .dataframe thead th {\n",
       "        text-align: right;\n",
       "    }\n",
       "</style>\n",
       "<table border=\"1\" class=\"dataframe\">\n",
       "  <thead>\n",
       "    <tr style=\"text-align: right;\">\n",
       "      <th>IN_BANHEIRO_FORA_PREDIO</th>\n",
       "      <th>0.0</th>\n",
       "      <th>1.0</th>\n",
       "    </tr>\n",
       "    <tr>\n",
       "      <th>NIVEL</th>\n",
       "      <th></th>\n",
       "      <th></th>\n",
       "    </tr>\n",
       "  </thead>\n",
       "  <tbody>\n",
       "    <tr>\n",
       "      <th>1.0</th>\n",
       "      <td>1.020408</td>\n",
       "      <td>0.000000</td>\n",
       "    </tr>\n",
       "    <tr>\n",
       "      <th>2.0</th>\n",
       "      <td>2.551020</td>\n",
       "      <td>2.450230</td>\n",
       "    </tr>\n",
       "    <tr>\n",
       "      <th>3.0</th>\n",
       "      <td>77.040816</td>\n",
       "      <td>82.848392</td>\n",
       "    </tr>\n",
       "    <tr>\n",
       "      <th>4.0</th>\n",
       "      <td>17.857143</td>\n",
       "      <td>13.935681</td>\n",
       "    </tr>\n",
       "    <tr>\n",
       "      <th>5.0</th>\n",
       "      <td>1.020408</td>\n",
       "      <td>0.765697</td>\n",
       "    </tr>\n",
       "    <tr>\n",
       "      <th>6.0</th>\n",
       "      <td>0.510204</td>\n",
       "      <td>0.000000</td>\n",
       "    </tr>\n",
       "  </tbody>\n",
       "</table>\n",
       "</div>"
      ],
      "text/plain": [
       "IN_BANHEIRO_FORA_PREDIO        0.0        1.0\n",
       "NIVEL                                        \n",
       "1.0                       1.020408   0.000000\n",
       "2.0                       2.551020   2.450230\n",
       "3.0                      77.040816  82.848392\n",
       "4.0                      17.857143  13.935681\n",
       "5.0                       1.020408   0.765697\n",
       "6.0                       0.510204   0.000000"
      ]
     },
     "execution_count": 267,
     "metadata": {},
     "output_type": "execute_result"
    }
   ],
   "source": [
    "pd.crosstab(inse['NIVEL'], inse['IN_BANHEIRO_FORA_PREDIO'], normalize=1)*100"
   ]
  },
  {
   "cell_type": "code",
   "execution_count": 268,
   "metadata": {
    "hidden": true
   },
   "outputs": [
    {
     "data": {
      "text/html": [
       "<div>\n",
       "<style scoped>\n",
       "    .dataframe tbody tr th:only-of-type {\n",
       "        vertical-align: middle;\n",
       "    }\n",
       "\n",
       "    .dataframe tbody tr th {\n",
       "        vertical-align: top;\n",
       "    }\n",
       "\n",
       "    .dataframe thead tr th {\n",
       "        text-align: left;\n",
       "    }\n",
       "\n",
       "    .dataframe thead tr:last-of-type th {\n",
       "        text-align: right;\n",
       "    }\n",
       "</style>\n",
       "<table border=\"1\" class=\"dataframe\">\n",
       "  <thead>\n",
       "    <tr>\n",
       "      <th>IN_BIBLIOTECA</th>\n",
       "      <th colspan=\"2\" halign=\"left\">0.0</th>\n",
       "      <th colspan=\"2\" halign=\"left\">1.0</th>\n",
       "    </tr>\n",
       "    <tr>\n",
       "      <th>IN_BANHEIRO_FORA_PREDIO</th>\n",
       "      <th>0.0</th>\n",
       "      <th>1.0</th>\n",
       "      <th>0.0</th>\n",
       "      <th>1.0</th>\n",
       "    </tr>\n",
       "    <tr>\n",
       "      <th>NIVEL</th>\n",
       "      <th></th>\n",
       "      <th></th>\n",
       "      <th></th>\n",
       "      <th></th>\n",
       "    </tr>\n",
       "  </thead>\n",
       "  <tbody>\n",
       "    <tr>\n",
       "      <th>1.0</th>\n",
       "      <td>2.222222</td>\n",
       "      <td>0.0</td>\n",
       "      <td>0.662252</td>\n",
       "      <td>0.000000</td>\n",
       "    </tr>\n",
       "    <tr>\n",
       "      <th>2.0</th>\n",
       "      <td>2.222222</td>\n",
       "      <td>4.0</td>\n",
       "      <td>2.649007</td>\n",
       "      <td>2.388535</td>\n",
       "    </tr>\n",
       "    <tr>\n",
       "      <th>3.0</th>\n",
       "      <td>88.888889</td>\n",
       "      <td>76.0</td>\n",
       "      <td>73.509934</td>\n",
       "      <td>83.121019</td>\n",
       "    </tr>\n",
       "    <tr>\n",
       "      <th>4.0</th>\n",
       "      <td>4.444444</td>\n",
       "      <td>20.0</td>\n",
       "      <td>21.854305</td>\n",
       "      <td>13.694268</td>\n",
       "    </tr>\n",
       "    <tr>\n",
       "      <th>5.0</th>\n",
       "      <td>2.222222</td>\n",
       "      <td>0.0</td>\n",
       "      <td>0.662252</td>\n",
       "      <td>0.796178</td>\n",
       "    </tr>\n",
       "    <tr>\n",
       "      <th>6.0</th>\n",
       "      <td>0.000000</td>\n",
       "      <td>0.0</td>\n",
       "      <td>0.662252</td>\n",
       "      <td>0.000000</td>\n",
       "    </tr>\n",
       "  </tbody>\n",
       "</table>\n",
       "</div>"
      ],
      "text/plain": [
       "IN_BIBLIOTECA                  0.0              1.0           \n",
       "IN_BANHEIRO_FORA_PREDIO        0.0   1.0        0.0        1.0\n",
       "NIVEL                                                         \n",
       "1.0                       2.222222   0.0   0.662252   0.000000\n",
       "2.0                       2.222222   4.0   2.649007   2.388535\n",
       "3.0                      88.888889  76.0  73.509934  83.121019\n",
       "4.0                       4.444444  20.0  21.854305  13.694268\n",
       "5.0                       2.222222   0.0   0.662252   0.796178\n",
       "6.0                       0.000000   0.0   0.662252   0.000000"
      ]
     },
     "execution_count": 268,
     "metadata": {},
     "output_type": "execute_result"
    }
   ],
   "source": [
    "compare = [inse['IN_BIBLIOTECA'], inse['IN_BANHEIRO_FORA_PREDIO']]\n",
    "pd.crosstab(inse['NIVEL'], compare, normalize=1)*100"
   ]
  },
  {
   "cell_type": "code",
   "execution_count": 269,
   "metadata": {
    "hidden": true
   },
   "outputs": [
    {
     "data": {
      "text/html": [
       "<div>\n",
       "<style scoped>\n",
       "    .dataframe tbody tr th:only-of-type {\n",
       "        vertical-align: middle;\n",
       "    }\n",
       "\n",
       "    .dataframe tbody tr th {\n",
       "        vertical-align: top;\n",
       "    }\n",
       "\n",
       "    .dataframe thead th {\n",
       "        text-align: right;\n",
       "    }\n",
       "</style>\n",
       "<table border=\"1\" class=\"dataframe\">\n",
       "  <thead>\n",
       "    <tr style=\"text-align: right;\">\n",
       "      <th>IN_N_COMP_15</th>\n",
       "      <th>0</th>\n",
       "      <th>1</th>\n",
       "    </tr>\n",
       "    <tr>\n",
       "      <th>NIVEL</th>\n",
       "      <th></th>\n",
       "      <th></th>\n",
       "    </tr>\n",
       "  </thead>\n",
       "  <tbody>\n",
       "    <tr>\n",
       "      <th>1.0</th>\n",
       "      <td>0.313480</td>\n",
       "      <td>0.000000</td>\n",
       "    </tr>\n",
       "    <tr>\n",
       "      <th>2.0</th>\n",
       "      <td>2.664577</td>\n",
       "      <td>1.895735</td>\n",
       "    </tr>\n",
       "    <tr>\n",
       "      <th>3.0</th>\n",
       "      <td>81.347962</td>\n",
       "      <td>81.990521</td>\n",
       "    </tr>\n",
       "    <tr>\n",
       "      <th>4.0</th>\n",
       "      <td>14.576803</td>\n",
       "      <td>15.639810</td>\n",
       "    </tr>\n",
       "    <tr>\n",
       "      <th>5.0</th>\n",
       "      <td>1.097179</td>\n",
       "      <td>0.000000</td>\n",
       "    </tr>\n",
       "    <tr>\n",
       "      <th>6.0</th>\n",
       "      <td>0.000000</td>\n",
       "      <td>0.473934</td>\n",
       "    </tr>\n",
       "  </tbody>\n",
       "</table>\n",
       "</div>"
      ],
      "text/plain": [
       "IN_N_COMP_15          0          1\n",
       "NIVEL                             \n",
       "1.0            0.313480   0.000000\n",
       "2.0            2.664577   1.895735\n",
       "3.0           81.347962  81.990521\n",
       "4.0           14.576803  15.639810\n",
       "5.0            1.097179   0.000000\n",
       "6.0            0.000000   0.473934"
      ]
     },
     "execution_count": 269,
     "metadata": {},
     "output_type": "execute_result"
    }
   ],
   "source": [
    "pd.crosstab(inse['NIVEL'], inse['IN_N_COMP_15'], normalize=1)*100"
   ]
  },
  {
   "cell_type": "code",
   "execution_count": 270,
   "metadata": {
    "hidden": true
   },
   "outputs": [
    {
     "data": {
      "text/html": [
       "<div>\n",
       "<style scoped>\n",
       "    .dataframe tbody tr th:only-of-type {\n",
       "        vertical-align: middle;\n",
       "    }\n",
       "\n",
       "    .dataframe tbody tr th {\n",
       "        vertical-align: top;\n",
       "    }\n",
       "\n",
       "    .dataframe thead tr th {\n",
       "        text-align: left;\n",
       "    }\n",
       "\n",
       "    .dataframe thead tr:last-of-type th {\n",
       "        text-align: right;\n",
       "    }\n",
       "</style>\n",
       "<table border=\"1\" class=\"dataframe\">\n",
       "  <thead>\n",
       "    <tr>\n",
       "      <th>IN_LABORATORIO_INFORMATICA</th>\n",
       "      <th colspan=\"4\" halign=\"left\">0.0</th>\n",
       "      <th colspan=\"4\" halign=\"left\">1.0</th>\n",
       "    </tr>\n",
       "    <tr>\n",
       "      <th>IN_LABORATORIO_CIENCIAS</th>\n",
       "      <th colspan=\"2\" halign=\"left\">0.0</th>\n",
       "      <th colspan=\"2\" halign=\"left\">1.0</th>\n",
       "      <th colspan=\"2\" halign=\"left\">0.0</th>\n",
       "      <th colspan=\"2\" halign=\"left\">1.0</th>\n",
       "    </tr>\n",
       "    <tr>\n",
       "      <th>IN_N_COMP_15</th>\n",
       "      <th>0</th>\n",
       "      <th>1</th>\n",
       "      <th>0</th>\n",
       "      <th>1</th>\n",
       "      <th>0</th>\n",
       "      <th>1</th>\n",
       "      <th>0</th>\n",
       "      <th>1</th>\n",
       "    </tr>\n",
       "    <tr>\n",
       "      <th>NIVEL</th>\n",
       "      <th></th>\n",
       "      <th></th>\n",
       "      <th></th>\n",
       "      <th></th>\n",
       "      <th></th>\n",
       "      <th></th>\n",
       "      <th></th>\n",
       "      <th></th>\n",
       "    </tr>\n",
       "  </thead>\n",
       "  <tbody>\n",
       "    <tr>\n",
       "      <th>1.0</th>\n",
       "      <td>0.000</td>\n",
       "      <td>0.0</td>\n",
       "      <td>0.000000</td>\n",
       "      <td>0.0</td>\n",
       "      <td>1.526718</td>\n",
       "      <td>0.000000</td>\n",
       "      <td>0.000000</td>\n",
       "      <td>0.000000</td>\n",
       "    </tr>\n",
       "    <tr>\n",
       "      <th>2.0</th>\n",
       "      <td>9.375</td>\n",
       "      <td>0.0</td>\n",
       "      <td>0.000000</td>\n",
       "      <td>0.0</td>\n",
       "      <td>5.343511</td>\n",
       "      <td>1.818182</td>\n",
       "      <td>1.897019</td>\n",
       "      <td>1.960784</td>\n",
       "    </tr>\n",
       "    <tr>\n",
       "      <th>3.0</th>\n",
       "      <td>78.125</td>\n",
       "      <td>0.0</td>\n",
       "      <td>86.792453</td>\n",
       "      <td>100.0</td>\n",
       "      <td>79.389313</td>\n",
       "      <td>81.818182</td>\n",
       "      <td>80.758808</td>\n",
       "      <td>82.352941</td>\n",
       "    </tr>\n",
       "    <tr>\n",
       "      <th>4.0</th>\n",
       "      <td>12.500</td>\n",
       "      <td>100.0</td>\n",
       "      <td>11.320755</td>\n",
       "      <td>0.0</td>\n",
       "      <td>12.977099</td>\n",
       "      <td>16.363636</td>\n",
       "      <td>16.260163</td>\n",
       "      <td>15.032680</td>\n",
       "    </tr>\n",
       "    <tr>\n",
       "      <th>5.0</th>\n",
       "      <td>0.000</td>\n",
       "      <td>0.0</td>\n",
       "      <td>1.886792</td>\n",
       "      <td>0.0</td>\n",
       "      <td>0.763359</td>\n",
       "      <td>0.000000</td>\n",
       "      <td>1.084011</td>\n",
       "      <td>0.000000</td>\n",
       "    </tr>\n",
       "    <tr>\n",
       "      <th>6.0</th>\n",
       "      <td>0.000</td>\n",
       "      <td>0.0</td>\n",
       "      <td>0.000000</td>\n",
       "      <td>0.0</td>\n",
       "      <td>0.000000</td>\n",
       "      <td>0.000000</td>\n",
       "      <td>0.000000</td>\n",
       "      <td>0.653595</td>\n",
       "    </tr>\n",
       "  </tbody>\n",
       "</table>\n",
       "</div>"
      ],
      "text/plain": [
       "IN_LABORATORIO_INFORMATICA     0.0                                 1.0  \\\n",
       "IN_LABORATORIO_CIENCIAS        0.0               1.0               0.0   \n",
       "IN_N_COMP_15                     0      1          0      1          0   \n",
       "NIVEL                                                                    \n",
       "1.0                          0.000    0.0   0.000000    0.0   1.526718   \n",
       "2.0                          9.375    0.0   0.000000    0.0   5.343511   \n",
       "3.0                         78.125    0.0  86.792453  100.0  79.389313   \n",
       "4.0                         12.500  100.0  11.320755    0.0  12.977099   \n",
       "5.0                          0.000    0.0   1.886792    0.0   0.763359   \n",
       "6.0                          0.000    0.0   0.000000    0.0   0.000000   \n",
       "\n",
       "IN_LABORATORIO_INFORMATICA                                   \n",
       "IN_LABORATORIO_CIENCIAS                      1.0             \n",
       "IN_N_COMP_15                        1          0          1  \n",
       "NIVEL                                                        \n",
       "1.0                          0.000000   0.000000   0.000000  \n",
       "2.0                          1.818182   1.897019   1.960784  \n",
       "3.0                         81.818182  80.758808  82.352941  \n",
       "4.0                         16.363636  16.260163  15.032680  \n",
       "5.0                          0.000000   1.084011   0.000000  \n",
       "6.0                          0.000000   0.000000   0.653595  "
      ]
     },
     "execution_count": 270,
     "metadata": {},
     "output_type": "execute_result"
    }
   ],
   "source": [
    "compare = [inse['IN_LABORATORIO_INFORMATICA'], inse['IN_LABORATORIO_CIENCIAS'], inse['IN_N_COMP_15']]\n",
    "           # inse['IN_BIBLIOTECA'], inse['IN_BANHEIRO_FORA_PREDIO'], inse['IN_QUADRA_ESPORTES']]\n",
    "\n",
    "pd.crosstab(inse['NIVEL'], compare, normalize=1)*100"
   ]
  },
  {
   "cell_type": "code",
   "execution_count": 271,
   "metadata": {
    "hidden": true
   },
   "outputs": [
    {
     "data": {
      "text/html": [
       "<div>\n",
       "<style scoped>\n",
       "    .dataframe tbody tr th:only-of-type {\n",
       "        vertical-align: middle;\n",
       "    }\n",
       "\n",
       "    .dataframe tbody tr th {\n",
       "        vertical-align: top;\n",
       "    }\n",
       "\n",
       "    .dataframe thead tr th {\n",
       "        text-align: left;\n",
       "    }\n",
       "\n",
       "    .dataframe thead tr:last-of-type th {\n",
       "        text-align: right;\n",
       "    }\n",
       "</style>\n",
       "<table border=\"1\" class=\"dataframe\">\n",
       "  <thead>\n",
       "    <tr>\n",
       "      <th>IN_BIBLIOTECA</th>\n",
       "      <th colspan=\"4\" halign=\"left\">0.0</th>\n",
       "      <th colspan=\"4\" halign=\"left\">1.0</th>\n",
       "    </tr>\n",
       "    <tr>\n",
       "      <th>IN_BANHEIRO_FORA_PREDIO</th>\n",
       "      <th colspan=\"2\" halign=\"left\">0.0</th>\n",
       "      <th colspan=\"2\" halign=\"left\">1.0</th>\n",
       "      <th colspan=\"2\" halign=\"left\">0.0</th>\n",
       "      <th colspan=\"2\" halign=\"left\">1.0</th>\n",
       "    </tr>\n",
       "    <tr>\n",
       "      <th>IN_QUADRA_ESPORTES</th>\n",
       "      <th>0.0</th>\n",
       "      <th>1.0</th>\n",
       "      <th>0.0</th>\n",
       "      <th>1.0</th>\n",
       "      <th>0.0</th>\n",
       "      <th>1.0</th>\n",
       "      <th>0.0</th>\n",
       "      <th>1.0</th>\n",
       "    </tr>\n",
       "    <tr>\n",
       "      <th>NIVEL</th>\n",
       "      <th></th>\n",
       "      <th></th>\n",
       "      <th></th>\n",
       "      <th></th>\n",
       "      <th></th>\n",
       "      <th></th>\n",
       "      <th></th>\n",
       "      <th></th>\n",
       "    </tr>\n",
       "  </thead>\n",
       "  <tbody>\n",
       "    <tr>\n",
       "      <th>1.0</th>\n",
       "      <td>5.555556</td>\n",
       "      <td>0.000000</td>\n",
       "      <td>0.0</td>\n",
       "      <td>0.000000</td>\n",
       "      <td>0.000000</td>\n",
       "      <td>0.884956</td>\n",
       "      <td>0.000000</td>\n",
       "      <td>0.000000</td>\n",
       "    </tr>\n",
       "    <tr>\n",
       "      <th>2.0</th>\n",
       "      <td>5.555556</td>\n",
       "      <td>0.000000</td>\n",
       "      <td>25.0</td>\n",
       "      <td>0.000000</td>\n",
       "      <td>2.631579</td>\n",
       "      <td>2.654867</td>\n",
       "      <td>7.142857</td>\n",
       "      <td>2.280130</td>\n",
       "    </tr>\n",
       "    <tr>\n",
       "      <th>3.0</th>\n",
       "      <td>77.777778</td>\n",
       "      <td>96.296296</td>\n",
       "      <td>50.0</td>\n",
       "      <td>80.952381</td>\n",
       "      <td>73.684211</td>\n",
       "      <td>73.451327</td>\n",
       "      <td>71.428571</td>\n",
       "      <td>83.387622</td>\n",
       "    </tr>\n",
       "    <tr>\n",
       "      <th>4.0</th>\n",
       "      <td>5.555556</td>\n",
       "      <td>3.703704</td>\n",
       "      <td>25.0</td>\n",
       "      <td>19.047619</td>\n",
       "      <td>21.052632</td>\n",
       "      <td>22.123894</td>\n",
       "      <td>21.428571</td>\n",
       "      <td>13.517915</td>\n",
       "    </tr>\n",
       "    <tr>\n",
       "      <th>5.0</th>\n",
       "      <td>5.555556</td>\n",
       "      <td>0.000000</td>\n",
       "      <td>0.0</td>\n",
       "      <td>0.000000</td>\n",
       "      <td>2.631579</td>\n",
       "      <td>0.000000</td>\n",
       "      <td>0.000000</td>\n",
       "      <td>0.814332</td>\n",
       "    </tr>\n",
       "    <tr>\n",
       "      <th>6.0</th>\n",
       "      <td>0.000000</td>\n",
       "      <td>0.000000</td>\n",
       "      <td>0.0</td>\n",
       "      <td>0.000000</td>\n",
       "      <td>0.000000</td>\n",
       "      <td>0.884956</td>\n",
       "      <td>0.000000</td>\n",
       "      <td>0.000000</td>\n",
       "    </tr>\n",
       "  </tbody>\n",
       "</table>\n",
       "</div>"
      ],
      "text/plain": [
       "IN_BIBLIOTECA                  0.0                                    1.0  \\\n",
       "IN_BANHEIRO_FORA_PREDIO        0.0              1.0                   0.0   \n",
       "IN_QUADRA_ESPORTES             0.0        1.0   0.0        1.0        0.0   \n",
       "NIVEL                                                                       \n",
       "1.0                       5.555556   0.000000   0.0   0.000000   0.000000   \n",
       "2.0                       5.555556   0.000000  25.0   0.000000   2.631579   \n",
       "3.0                      77.777778  96.296296  50.0  80.952381  73.684211   \n",
       "4.0                       5.555556   3.703704  25.0  19.047619  21.052632   \n",
       "5.0                       5.555556   0.000000   0.0   0.000000   2.631579   \n",
       "6.0                       0.000000   0.000000   0.0   0.000000   0.000000   \n",
       "\n",
       "IN_BIBLIOTECA                                             \n",
       "IN_BANHEIRO_FORA_PREDIO                   1.0             \n",
       "IN_QUADRA_ESPORTES             1.0        0.0        1.0  \n",
       "NIVEL                                                     \n",
       "1.0                       0.884956   0.000000   0.000000  \n",
       "2.0                       2.654867   7.142857   2.280130  \n",
       "3.0                      73.451327  71.428571  83.387622  \n",
       "4.0                      22.123894  21.428571  13.517915  \n",
       "5.0                       0.000000   0.000000   0.814332  \n",
       "6.0                       0.884956   0.000000   0.000000  "
      ]
     },
     "execution_count": 271,
     "metadata": {},
     "output_type": "execute_result"
    }
   ],
   "source": [
    "compare = [inse['IN_BIBLIOTECA'], inse['IN_BANHEIRO_FORA_PREDIO'], inse['IN_QUADRA_ESPORTES']]\n",
    "\n",
    "pd.crosstab(inse['NIVEL'], compare, normalize=1)*100"
   ]
  },
  {
   "cell_type": "code",
   "execution_count": 272,
   "metadata": {
    "hidden": true
   },
   "outputs": [
    {
     "data": {
      "text/html": [
       "<div>\n",
       "<style scoped>\n",
       "    .dataframe tbody tr th:only-of-type {\n",
       "        vertical-align: middle;\n",
       "    }\n",
       "\n",
       "    .dataframe tbody tr th {\n",
       "        vertical-align: top;\n",
       "    }\n",
       "\n",
       "    .dataframe thead tr th {\n",
       "        text-align: left;\n",
       "    }\n",
       "\n",
       "    .dataframe thead tr:last-of-type th {\n",
       "        text-align: right;\n",
       "    }\n",
       "</style>\n",
       "<table border=\"1\" class=\"dataframe\">\n",
       "  <thead>\n",
       "    <tr>\n",
       "      <th>IN_BIBLIOTECA</th>\n",
       "      <th colspan=\"4\" halign=\"left\">0.0</th>\n",
       "      <th colspan=\"4\" halign=\"left\">1.0</th>\n",
       "    </tr>\n",
       "    <tr>\n",
       "      <th>IN_BANHEIRO_FORA_PREDIO</th>\n",
       "      <th colspan=\"2\" halign=\"left\">0.0</th>\n",
       "      <th colspan=\"2\" halign=\"left\">1.0</th>\n",
       "      <th colspan=\"2\" halign=\"left\">0.0</th>\n",
       "      <th colspan=\"2\" halign=\"left\">1.0</th>\n",
       "    </tr>\n",
       "    <tr>\n",
       "      <th>IN_QUADRA_ESPORTES</th>\n",
       "      <th>0.0</th>\n",
       "      <th>1.0</th>\n",
       "      <th>0.0</th>\n",
       "      <th>1.0</th>\n",
       "      <th>0.0</th>\n",
       "      <th>1.0</th>\n",
       "      <th>0.0</th>\n",
       "      <th>1.0</th>\n",
       "    </tr>\n",
       "    <tr>\n",
       "      <th>NIVEL</th>\n",
       "      <th></th>\n",
       "      <th></th>\n",
       "      <th></th>\n",
       "      <th></th>\n",
       "      <th></th>\n",
       "      <th></th>\n",
       "      <th></th>\n",
       "      <th></th>\n",
       "    </tr>\n",
       "  </thead>\n",
       "  <tbody>\n",
       "    <tr>\n",
       "      <th>1.0</th>\n",
       "      <td>1</td>\n",
       "      <td>0</td>\n",
       "      <td>0</td>\n",
       "      <td>0</td>\n",
       "      <td>0</td>\n",
       "      <td>1</td>\n",
       "      <td>0</td>\n",
       "      <td>0</td>\n",
       "    </tr>\n",
       "    <tr>\n",
       "      <th>2.0</th>\n",
       "      <td>1</td>\n",
       "      <td>0</td>\n",
       "      <td>1</td>\n",
       "      <td>0</td>\n",
       "      <td>1</td>\n",
       "      <td>3</td>\n",
       "      <td>1</td>\n",
       "      <td>14</td>\n",
       "    </tr>\n",
       "    <tr>\n",
       "      <th>3.0</th>\n",
       "      <td>14</td>\n",
       "      <td>26</td>\n",
       "      <td>2</td>\n",
       "      <td>17</td>\n",
       "      <td>28</td>\n",
       "      <td>83</td>\n",
       "      <td>10</td>\n",
       "      <td>512</td>\n",
       "    </tr>\n",
       "    <tr>\n",
       "      <th>4.0</th>\n",
       "      <td>1</td>\n",
       "      <td>1</td>\n",
       "      <td>1</td>\n",
       "      <td>4</td>\n",
       "      <td>8</td>\n",
       "      <td>25</td>\n",
       "      <td>3</td>\n",
       "      <td>83</td>\n",
       "    </tr>\n",
       "    <tr>\n",
       "      <th>5.0</th>\n",
       "      <td>1</td>\n",
       "      <td>0</td>\n",
       "      <td>0</td>\n",
       "      <td>0</td>\n",
       "      <td>1</td>\n",
       "      <td>0</td>\n",
       "      <td>0</td>\n",
       "      <td>5</td>\n",
       "    </tr>\n",
       "    <tr>\n",
       "      <th>6.0</th>\n",
       "      <td>0</td>\n",
       "      <td>0</td>\n",
       "      <td>0</td>\n",
       "      <td>0</td>\n",
       "      <td>0</td>\n",
       "      <td>1</td>\n",
       "      <td>0</td>\n",
       "      <td>0</td>\n",
       "    </tr>\n",
       "  </tbody>\n",
       "</table>\n",
       "</div>"
      ],
      "text/plain": [
       "IN_BIBLIOTECA           0.0             1.0             \n",
       "IN_BANHEIRO_FORA_PREDIO 0.0     1.0     0.0     1.0     \n",
       "IN_QUADRA_ESPORTES      0.0 1.0 0.0 1.0 0.0 1.0 0.0  1.0\n",
       "NIVEL                                                   \n",
       "1.0                       1   0   0   0   0   1   0    0\n",
       "2.0                       1   0   1   0   1   3   1   14\n",
       "3.0                      14  26   2  17  28  83  10  512\n",
       "4.0                       1   1   1   4   8  25   3   83\n",
       "5.0                       1   0   0   0   1   0   0    5\n",
       "6.0                       0   0   0   0   0   1   0    0"
      ]
     },
     "execution_count": 272,
     "metadata": {},
     "output_type": "execute_result"
    }
   ],
   "source": [
    "pd.crosstab(inse['NIVEL'], compare)"
   ]
  },
  {
   "cell_type": "markdown",
   "metadata": {},
   "source": [
    "## Percentual de evasão"
   ]
  },
  {
   "cell_type": "code",
   "execution_count": 306,
   "metadata": {
    "scrolled": false
   },
   "outputs": [
    {
     "data": {
      "application/vnd.plotly.v1+json": {
       "config": {
        "linkText": "Export to plot.ly",
        "plotlyServerURL": "https://plot.ly",
        "showLink": true
       },
       "data": [
        {
         "marker": {
          "color": "rgba(139, 217, 202, 0.6)",
          "line": {
           "color": "rgba(139, 217, 202, 1.0)",
           "width": 1
          }
         },
         "name": "CAT_IN_EVASAO",
         "orientation": "v",
         "text": "",
         "type": "bar",
         "uid": "576032a1-86fd-4472-8981-bf78af96ec57",
         "x": [
          "Não evadido",
          "Evadido"
         ],
         "y": [
          0.6479943994136886,
          0.35200560058631136
         ]
        }
       ],
       "layout": {
        "legend": {
         "bgcolor": "#F5F6F9",
         "font": {
          "color": "#4D5663"
         }
        },
        "paper_bgcolor": "#F5F6F9",
        "plot_bgcolor": "#F5F6F9",
        "title": {
         "font": {
          "color": "#4D5663"
         },
         "text": "Percentual de alunos do 1º ano evadidos e não evadidos (2016 para 2017)"
        },
        "xaxis": {
         "gridcolor": "#E1E5ED",
         "showgrid": true,
         "tickfont": {
          "color": "#4D5663"
         },
         "title": {
          "font": {
           "color": "#4D5663"
          },
          "text": ""
         },
         "zerolinecolor": "#E1E5ED"
        },
        "yaxis": {
         "gridcolor": "#E1E5ED",
         "showgrid": true,
         "tickfont": {
          "color": "#4D5663"
         },
         "title": {
          "font": {
           "color": "#4D5663"
          },
          "text": ""
         },
         "zerolinecolor": "#E1E5ED"
        }
       }
      },
      "text/html": [
       "<div>\n",
       "        \n",
       "        \n",
       "            <div id=\"666efb0f-fc98-428a-a142-af95ba8b04a9\" class=\"plotly-graph-div\" style=\"height:525px; width:100%;\"></div>\n",
       "            <script type=\"text/javascript\">\n",
       "                require([\"plotly\"], function(Plotly) {\n",
       "                    window.PLOTLYENV=window.PLOTLYENV || {};\n",
       "                    window.PLOTLYENV.BASE_URL='https://plot.ly';\n",
       "                    \n",
       "                if (document.getElementById(\"666efb0f-fc98-428a-a142-af95ba8b04a9\")) {\n",
       "                    Plotly.newPlot(\n",
       "                        '666efb0f-fc98-428a-a142-af95ba8b04a9',\n",
       "                        [{\"marker\": {\"color\": \"rgba(139, 217, 202, 0.6)\", \"line\": {\"color\": \"rgba(139, 217, 202, 1.0)\", \"width\": 1}}, \"name\": \"CAT_IN_EVASAO\", \"orientation\": \"v\", \"text\": \"\", \"type\": \"bar\", \"uid\": \"576032a1-86fd-4472-8981-bf78af96ec57\", \"x\": [\"N\\u00e3o evadido\", \"Evadido\"], \"y\": [0.6479943994136886, 0.35200560058631136]}],\n",
       "                        {\"legend\": {\"bgcolor\": \"#F5F6F9\", \"font\": {\"color\": \"#4D5663\"}}, \"paper_bgcolor\": \"#F5F6F9\", \"plot_bgcolor\": \"#F5F6F9\", \"title\": {\"font\": {\"color\": \"#4D5663\"}, \"text\": \"Percentual de alunos do 1\\u00ba ano evadidos e n\\u00e3o evadidos (2016 para 2017)\"}, \"xaxis\": {\"gridcolor\": \"#E1E5ED\", \"showgrid\": true, \"tickfont\": {\"color\": \"#4D5663\"}, \"title\": {\"font\": {\"color\": \"#4D5663\"}, \"text\": \"\"}, \"zerolinecolor\": \"#E1E5ED\"}, \"yaxis\": {\"gridcolor\": \"#E1E5ED\", \"showgrid\": true, \"tickfont\": {\"color\": \"#4D5663\"}, \"title\": {\"font\": {\"color\": \"#4D5663\"}, \"text\": \"\"}, \"zerolinecolor\": \"#E1E5ED\"}},\n",
       "                        {\"showLink\": true, \"linkText\": \"Export to plot.ly\", \"plotlyServerURL\": \"https://plot.ly\", \"responsive\": true}\n",
       "                    ).then(function(){\n",
       "                            \n",
       "var gd = document.getElementById('666efb0f-fc98-428a-a142-af95ba8b04a9');\n",
       "var x = new MutationObserver(function (mutations, observer) {{\n",
       "        var display = window.getComputedStyle(gd).display;\n",
       "        if (!display || display === 'none') {{\n",
       "            console.log([gd, 'removed!']);\n",
       "            Plotly.purge(gd);\n",
       "            observer.disconnect();\n",
       "        }}\n",
       "}});\n",
       "\n",
       "// Listen for the removal of the full notebook cells\n",
       "var notebookContainer = gd.closest('#notebook-container');\n",
       "if (notebookContainer) {{\n",
       "    x.observe(notebookContainer, {childList: true});\n",
       "}}\n",
       "\n",
       "// Listen for the clearing of the current output cell\n",
       "var outputEl = gd.closest('.output');\n",
       "if (outputEl) {{\n",
       "    x.observe(outputEl, {childList: true});\n",
       "}}\n",
       "\n",
       "                        })\n",
       "                };\n",
       "                });\n",
       "            </script>\n",
       "        </div>"
      ]
     },
     "metadata": {},
     "output_type": "display_data"
    }
   ],
   "source": [
    "v = df['CAT_IN_EVASAO'].value_counts(normalize=True)\n",
    "\n",
    "fig = v.iplot(kind='bar', color='#8BD9CA', title='Percentual de alunos do 1º ano evadidos e não evadidos (2016 para 2017)')"
   ]
  },
  {
   "cell_type": "markdown",
   "metadata": {
    "heading_collapsed": true
   },
   "source": [
    "### Sexo"
   ]
  },
  {
   "cell_type": "code",
   "execution_count": 43,
   "metadata": {
    "hidden": true
   },
   "outputs": [],
   "source": [
    "# def plot_perc_categoria(x):\n",
    "    \n",
    "#     v = df[['ID', 'IN_EVASAO', x]].groupby(['IN_EVASAO', x]).sum()\n",
    "#     return v"
   ]
  },
  {
   "cell_type": "code",
   "execution_count": 214,
   "metadata": {
    "hidden": true
   },
   "outputs": [],
   "source": [
    "colorscale = ['#025951', '#8BD9CA', '#BF7F30', '#F2C124', '#8C470B', '#DFC27D']"
   ]
  },
  {
   "cell_type": "code",
   "execution_count": 313,
   "metadata": {
    "hidden": true
   },
   "outputs": [],
   "source": [
    "def plot_dist(x, title2):\n",
    "    \n",
    "    v_cat = df[x].value_counts(normalize=True)\n",
    "    data = [go.Bar({'x': v_cat.index, 'y': v_cat, 'marker': {'color': colorscale}})]\n",
    "\n",
    "    plotly.offline.iplot({'data': data, 'layout': {'title': title2}}, image='png', filename='dist_'+x)\n",
    "\n",
    "def plot_categoria(x, title1, filename, ambos=True, title2=None):\n",
    "    \n",
    "    if ambos:\n",
    "        # Distribuição total\n",
    "        plot_dist(x, title2)\n",
    "        \n",
    "    # Distribuição com evasão\n",
    "    data = []\n",
    "    i = 0\n",
    "    for label in df[x].unique():\n",
    "        \n",
    "        v_cat = df[df[x] == label]['CAT_IN_EVASAO'].value_counts(normalize=True)\n",
    "\n",
    "        data.append(go.Bar({'x': v_cat.index, 'y': v_cat, 'name': label,\n",
    "                           'marker': {'color': colorscale[i]}}))\n",
    "        i += 1\n",
    "        \n",
    "    data.append(go.Bar({'x': v.index, 'y': v, 'name': 'Total', \n",
    "                        'marker': {'color': '#dbdbdb'}}))\n",
    "\n",
    "    plotly.offline.iplot({'data': data, 'layout': {'title': title1}}, \n",
    "                         image='png', filename=filename)"
   ]
  },
  {
   "cell_type": "code",
   "execution_count": 315,
   "metadata": {
    "hidden": true
   },
   "outputs": [
    {
     "data": {
      "application/vnd.plotly.v1+json": {
       "config": {
        "linkText": "Export to plot.ly",
        "plotlyServerURL": "https://plot.ly",
        "showLink": false
       },
       "data": [
        {
         "marker": {
          "color": [
           "#025951",
           "#8BD9CA",
           "#BF7F30",
           "#F2C124",
           "#8C470B",
           "#DFC27D"
          ]
         },
         "type": "bar",
         "uid": "f14386c6-d62c-44df-b0cd-408a345a54de",
         "x": [
          "Homem",
          "Mulher"
         ],
         "y": [
          0.5155164681302574,
          0.48448353186974263
         ]
        }
       ],
       "layout": {
        "title": {
         "text": "Distribuição de sexo entre alunos"
        }
       }
      },
      "text/html": [
       "<div>\n",
       "        \n",
       "        \n",
       "            <div id=\"475d94e4-0366-4188-be55-833648ce0fe1\" class=\"plotly-graph-div\" style=\"height:525px; width:100%;\"></div>\n",
       "            <script type=\"text/javascript\">\n",
       "                require([\"plotly\"], function(Plotly) {\n",
       "                    window.PLOTLYENV=window.PLOTLYENV || {};\n",
       "                    window.PLOTLYENV.BASE_URL='https://plot.ly';\n",
       "                    \n",
       "                if (document.getElementById(\"475d94e4-0366-4188-be55-833648ce0fe1\")) {\n",
       "                    Plotly.newPlot(\n",
       "                        '475d94e4-0366-4188-be55-833648ce0fe1',\n",
       "                        [{\"marker\": {\"color\": [\"#025951\", \"#8BD9CA\", \"#BF7F30\", \"#F2C124\", \"#8C470B\", \"#DFC27D\"]}, \"type\": \"bar\", \"uid\": \"f14386c6-d62c-44df-b0cd-408a345a54de\", \"x\": [\"Homem\", \"Mulher\"], \"y\": [0.5155164681302574, 0.48448353186974263]}],\n",
       "                        {\"title\": {\"text\": \"Distribui\\u00e7\\u00e3o de sexo entre alunos\"}},\n",
       "                        {\"showLink\": false, \"linkText\": \"Export to plot.ly\", \"plotlyServerURL\": \"https://plot.ly\", \"responsive\": true}\n",
       "                    ).then(function(){\n",
       "                            \n",
       "var gd = document.getElementById('475d94e4-0366-4188-be55-833648ce0fe1');\n",
       "var x = new MutationObserver(function (mutations, observer) {{\n",
       "        var display = window.getComputedStyle(gd).display;\n",
       "        if (!display || display === 'none') {{\n",
       "            console.log([gd, 'removed!']);\n",
       "            Plotly.purge(gd);\n",
       "            observer.disconnect();\n",
       "        }}\n",
       "}});\n",
       "\n",
       "// Listen for the removal of the full notebook cells\n",
       "var notebookContainer = gd.closest('#notebook-container');\n",
       "if (notebookContainer) {{\n",
       "    x.observe(notebookContainer, {childList: true});\n",
       "}}\n",
       "\n",
       "// Listen for the clearing of the current output cell\n",
       "var outputEl = gd.closest('.output');\n",
       "if (outputEl) {{\n",
       "    x.observe(outputEl, {childList: true});\n",
       "}}\n",
       "\n",
       "                        }).then(function(){\n",
       "                            function downloadimage(format, height, width, filename) {var p = document.getElementById('475d94e4-0366-4188-be55-833648ce0fe1');Plotly.downloadImage(p, {format: format, height: height, width: width, filename: filename});};if(document.readyState == 'complete') {downloadimage('png', 600, 800, 'dist_CAT_TP_SEXO');}\n",
       "                        })\n",
       "                };\n",
       "                });\n",
       "            </script>\n",
       "        </div>"
      ]
     },
     "metadata": {},
     "output_type": "display_data"
    },
    {
     "data": {
      "application/vnd.plotly.v1+json": {
       "config": {
        "linkText": "Export to plot.ly",
        "plotlyServerURL": "https://plot.ly",
        "showLink": false
       },
       "data": [
        {
         "marker": {
          "color": "#025951"
         },
         "name": "Mulher",
         "type": "bar",
         "uid": "ac25c138-c19f-44d9-af36-fd96d6162bb9",
         "x": [
          "Não evadido",
          "Evadido"
         ],
         "y": [
          0.6701361450407533,
          0.3298638549592468
         ]
        },
        {
         "marker": {
          "color": "#8BD9CA"
         },
         "name": "Homem",
         "type": "bar",
         "uid": "b5bfd484-ac31-4abf-8145-7940663db095",
         "x": [
          "Não evadido",
          "Evadido"
         ],
         "y": [
          0.6271855372602274,
          0.37281446273977253
         ]
        },
        {
         "marker": {
          "color": "#dbdbdb"
         },
         "name": "Total",
         "type": "bar",
         "uid": "e3bcd3d8-ff24-407e-8de9-549deb3a8cf8",
         "x": [
          "Não evadido",
          "Evadido"
         ],
         "y": [
          0.6479943994136886,
          0.35200560058631136
         ]
        }
       ],
       "layout": {
        "title": {
         "text": "Dentre as mulheres e homens, qual percentual evade?"
        }
       }
      },
      "text/html": [
       "<div>\n",
       "        \n",
       "        \n",
       "            <div id=\"91671d7c-feab-449c-813a-aa62cd3a1a83\" class=\"plotly-graph-div\" style=\"height:525px; width:100%;\"></div>\n",
       "            <script type=\"text/javascript\">\n",
       "                require([\"plotly\"], function(Plotly) {\n",
       "                    window.PLOTLYENV=window.PLOTLYENV || {};\n",
       "                    window.PLOTLYENV.BASE_URL='https://plot.ly';\n",
       "                    \n",
       "                if (document.getElementById(\"91671d7c-feab-449c-813a-aa62cd3a1a83\")) {\n",
       "                    Plotly.newPlot(\n",
       "                        '91671d7c-feab-449c-813a-aa62cd3a1a83',\n",
       "                        [{\"marker\": {\"color\": \"#025951\"}, \"name\": \"Mulher\", \"type\": \"bar\", \"uid\": \"ac25c138-c19f-44d9-af36-fd96d6162bb9\", \"x\": [\"N\\u00e3o evadido\", \"Evadido\"], \"y\": [0.6701361450407533, 0.3298638549592468]}, {\"marker\": {\"color\": \"#8BD9CA\"}, \"name\": \"Homem\", \"type\": \"bar\", \"uid\": \"b5bfd484-ac31-4abf-8145-7940663db095\", \"x\": [\"N\\u00e3o evadido\", \"Evadido\"], \"y\": [0.6271855372602274, 0.37281446273977253]}, {\"marker\": {\"color\": \"#dbdbdb\"}, \"name\": \"Total\", \"type\": \"bar\", \"uid\": \"e3bcd3d8-ff24-407e-8de9-549deb3a8cf8\", \"x\": [\"N\\u00e3o evadido\", \"Evadido\"], \"y\": [0.6479943994136886, 0.35200560058631136]}],\n",
       "                        {\"title\": {\"text\": \"Dentre as mulheres e homens, qual percentual evade?\"}},\n",
       "                        {\"showLink\": false, \"linkText\": \"Export to plot.ly\", \"plotlyServerURL\": \"https://plot.ly\", \"responsive\": true}\n",
       "                    ).then(function(){\n",
       "                            \n",
       "var gd = document.getElementById('91671d7c-feab-449c-813a-aa62cd3a1a83');\n",
       "var x = new MutationObserver(function (mutations, observer) {{\n",
       "        var display = window.getComputedStyle(gd).display;\n",
       "        if (!display || display === 'none') {{\n",
       "            console.log([gd, 'removed!']);\n",
       "            Plotly.purge(gd);\n",
       "            observer.disconnect();\n",
       "        }}\n",
       "}});\n",
       "\n",
       "// Listen for the removal of the full notebook cells\n",
       "var notebookContainer = gd.closest('#notebook-container');\n",
       "if (notebookContainer) {{\n",
       "    x.observe(notebookContainer, {childList: true});\n",
       "}}\n",
       "\n",
       "// Listen for the clearing of the current output cell\n",
       "var outputEl = gd.closest('.output');\n",
       "if (outputEl) {{\n",
       "    x.observe(outputEl, {childList: true});\n",
       "}}\n",
       "\n",
       "                        }).then(function(){\n",
       "                            function downloadimage(format, height, width, filename) {var p = document.getElementById('91671d7c-feab-449c-813a-aa62cd3a1a83');Plotly.downloadImage(p, {format: format, height: height, width: width, filename: filename});};if(document.readyState == 'complete') {downloadimage('png', 600, 800, 'perc_sexo_evasao');}\n",
       "                        })\n",
       "                };\n",
       "                });\n",
       "            </script>\n",
       "        </div>"
      ]
     },
     "metadata": {},
     "output_type": "display_data"
    }
   ],
   "source": [
    "title = 'Dentre as mulheres e homens, qual percentual evade?'\n",
    "x = 'CAT_TP_SEXO'\n",
    "categorias = {1: 'Homens', 2: 'Mulheres'}\n",
    "\n",
    "plot_categoria(x, title, 'perc_sexo_evasao', title2='Distribuição de sexo entre alunos')"
   ]
  },
  {
   "cell_type": "code",
   "execution_count": 53,
   "metadata": {
    "hidden": true
   },
   "outputs": [],
   "source": [
    "# v_sexo = df[df['TP_SEXO'] == 1]['IN_EVASAO'].value_counts(normalize=True)\n",
    "\n",
    "# v_sexo.index = v_sexo.index.map({1: 'Evadidos', 0: 'Não evadidos'})\n",
    "\n",
    "# data = [go.Bar({'x': v_sexo.index, \n",
    "#                 'y': v_sexo, \n",
    "#                 'name': 'Homens'}), \n",
    "#         go.Bar({'x': v.index, \n",
    "#                 'y': v, \n",
    "#                 'name': 'Total'})]\n",
    "\n",
    "# plotly.offline.iplot({'data': data, 'layout': {'title': 'Dentre os homens, qual percentual evade?'}})"
   ]
  },
  {
   "cell_type": "code",
   "execution_count": 54,
   "metadata": {
    "hidden": true
   },
   "outputs": [],
   "source": [
    "# v_sexo = df[['ID', 'IN_EVASAO', 'TP_SEXO']].groupby(['IN_EVASAO', 'TP_SEXO']).count() # dentre evadidos, quantas mulheres?\n",
    "# n = v_sexo.groupby('IN_EVASAO').sum()\n",
    "\n",
    "# v_sexo/n\n",
    "\n",
    "# data = [go.Bar({'x': v_sexo.index, \n",
    "#                 'y': v_sexo, \n",
    "#                 'name': 'Mulheres'}), \n",
    "#         go.Bar({'x': v.index, \n",
    "#                 'y': v, \n",
    "#                 'name': 'Total'})]\n",
    "\n",
    "# plotly.offline.iplot({'data': data, 'layout': {'title': 'Dentre evadidos, quantas são mulheres?'}})"
   ]
  },
  {
   "cell_type": "markdown",
   "metadata": {
    "heading_collapsed": true
   },
   "source": [
    "### Distorção Idade-Série"
   ]
  },
  {
   "cell_type": "code",
   "execution_count": 384,
   "metadata": {
    "hidden": true
   },
   "outputs": [],
   "source": [
    "def cross_evasao_sexo(x, y='CAT_TP_SEXO'):\n",
    "    t = pd.crosstab([df[x], df[y]], df['CAT_IN_EVASAO'], normalize=0)*100\n",
    "    t.columns.name = None\n",
    "    return t\n",
    "\n",
    "def plot_categoria_sexo(x, title, filename, y='CAT_TP_SEXO'):\n",
    "    \n",
    "    v = cross_evasao_sexo(x, y).reset_index()\n",
    "        \n",
    "    # Distribuição com evasão\n",
    "    data = []\n",
    "    i = 0\n",
    "    for label in v[x].unique():\n",
    "\n",
    "        v_cat = v[v[x] == label]\n",
    "        data.append(go.Bar({'x': v_cat[y], 'y': v_cat['Evadido'], 'name': label,\n",
    "                           'marker': {'color': colorscale[i]}}))\n",
    "        i += 1\n",
    "        \n",
    "    plotly.offline.iplot({'data': data, 'layout': {'title': title}}, image='png', filename=filename)\n",
    "    return v"
   ]
  },
  {
   "cell_type": "code",
   "execution_count": 374,
   "metadata": {
    "hidden": true
   },
   "outputs": [
    {
     "data": {
      "application/vnd.plotly.v1+json": {
       "config": {
        "linkText": "Export to plot.ly",
        "plotlyServerURL": "https://plot.ly",
        "showLink": false
       },
       "data": [
        {
         "marker": {
          "color": "#025951"
         },
         "name": "Até 17 anos",
         "type": "bar",
         "uid": "654527d8-b45a-4e4a-a4e2-4d9eab70b5a6",
         "x": [
          "Homem",
          "Mulher"
         ],
         "y": [
          24.44500377548452,
          23.805636235183293
         ]
        },
        {
         "marker": {
          "color": "#8BD9CA"
         },
         "name": "Maior ou igual a 17 anos",
         "type": "bar",
         "uid": "560eb5d9-5cf3-47c5-8524-c0988be806a5",
         "x": [
          "Homem",
          "Mulher"
         ],
         "y": [
          59.35200946308531,
          56.48330453650501
         ]
        }
       ],
       "layout": {
        "title": {
         "text": "Dentre alunos com e sem distorção idade-série, qual percentual evade?"
        }
       }
      },
      "text/html": [
       "<div>\n",
       "        \n",
       "        \n",
       "            <div id=\"6bddda9a-457c-4add-805b-ab9b1d92311e\" class=\"plotly-graph-div\" style=\"height:525px; width:100%;\"></div>\n",
       "            <script type=\"text/javascript\">\n",
       "                require([\"plotly\"], function(Plotly) {\n",
       "                    window.PLOTLYENV=window.PLOTLYENV || {};\n",
       "                    window.PLOTLYENV.BASE_URL='https://plot.ly';\n",
       "                    \n",
       "                if (document.getElementById(\"6bddda9a-457c-4add-805b-ab9b1d92311e\")) {\n",
       "                    Plotly.newPlot(\n",
       "                        '6bddda9a-457c-4add-805b-ab9b1d92311e',\n",
       "                        [{\"marker\": {\"color\": \"#025951\"}, \"name\": \"At\\u00e9 17 anos\", \"type\": \"bar\", \"uid\": \"654527d8-b45a-4e4a-a4e2-4d9eab70b5a6\", \"x\": [\"Homem\", \"Mulher\"], \"y\": [24.44500377548452, 23.805636235183293]}, {\"marker\": {\"color\": \"#8BD9CA\"}, \"name\": \"Maior ou igual a 17 anos\", \"type\": \"bar\", \"uid\": \"560eb5d9-5cf3-47c5-8524-c0988be806a5\", \"x\": [\"Homem\", \"Mulher\"], \"y\": [59.35200946308531, 56.48330453650501]}],\n",
       "                        {\"title\": {\"text\": \"Dentre alunos com e sem distor\\u00e7\\u00e3o idade-s\\u00e9rie, qual percentual evade?\"}},\n",
       "                        {\"showLink\": false, \"linkText\": \"Export to plot.ly\", \"plotlyServerURL\": \"https://plot.ly\", \"responsive\": true}\n",
       "                    ).then(function(){\n",
       "                            \n",
       "var gd = document.getElementById('6bddda9a-457c-4add-805b-ab9b1d92311e');\n",
       "var x = new MutationObserver(function (mutations, observer) {{\n",
       "        var display = window.getComputedStyle(gd).display;\n",
       "        if (!display || display === 'none') {{\n",
       "            console.log([gd, 'removed!']);\n",
       "            Plotly.purge(gd);\n",
       "            observer.disconnect();\n",
       "        }}\n",
       "}});\n",
       "\n",
       "// Listen for the removal of the full notebook cells\n",
       "var notebookContainer = gd.closest('#notebook-container');\n",
       "if (notebookContainer) {{\n",
       "    x.observe(notebookContainer, {childList: true});\n",
       "}}\n",
       "\n",
       "// Listen for the clearing of the current output cell\n",
       "var outputEl = gd.closest('.output');\n",
       "if (outputEl) {{\n",
       "    x.observe(outputEl, {childList: true});\n",
       "}}\n",
       "\n",
       "                        }).then(function(){\n",
       "                            function downloadimage(format, height, width, filename) {var p = document.getElementById('6bddda9a-457c-4add-805b-ab9b1d92311e');Plotly.downloadImage(p, {format: format, height: height, width: width, filename: filename});};if(document.readyState == 'complete') {downloadimage('png', 600, 800, 'perc_sexo_idade_evasao');}\n",
       "                        })\n",
       "                };\n",
       "                });\n",
       "            </script>\n",
       "        </div>"
      ]
     },
     "metadata": {},
     "output_type": "display_data"
    },
    {
     "data": {
      "text/html": [
       "<div>\n",
       "<style scoped>\n",
       "    .dataframe tbody tr th:only-of-type {\n",
       "        vertical-align: middle;\n",
       "    }\n",
       "\n",
       "    .dataframe tbody tr th {\n",
       "        vertical-align: top;\n",
       "    }\n",
       "\n",
       "    .dataframe thead th {\n",
       "        text-align: right;\n",
       "    }\n",
       "</style>\n",
       "<table border=\"1\" class=\"dataframe\">\n",
       "  <thead>\n",
       "    <tr style=\"text-align: right;\">\n",
       "      <th></th>\n",
       "      <th>CAT_IN_DISTORCAO</th>\n",
       "      <th>CAT_TP_SEXO</th>\n",
       "      <th>Evadido</th>\n",
       "      <th>Não evadido</th>\n",
       "    </tr>\n",
       "  </thead>\n",
       "  <tbody>\n",
       "    <tr>\n",
       "      <th>0</th>\n",
       "      <td>Até 17 anos</td>\n",
       "      <td>Homem</td>\n",
       "      <td>24.445004</td>\n",
       "      <td>75.554996</td>\n",
       "    </tr>\n",
       "    <tr>\n",
       "      <th>1</th>\n",
       "      <td>Até 17 anos</td>\n",
       "      <td>Mulher</td>\n",
       "      <td>23.805636</td>\n",
       "      <td>76.194364</td>\n",
       "    </tr>\n",
       "    <tr>\n",
       "      <th>2</th>\n",
       "      <td>Maior ou igual a 17 anos</td>\n",
       "      <td>Homem</td>\n",
       "      <td>59.352009</td>\n",
       "      <td>40.647991</td>\n",
       "    </tr>\n",
       "    <tr>\n",
       "      <th>3</th>\n",
       "      <td>Maior ou igual a 17 anos</td>\n",
       "      <td>Mulher</td>\n",
       "      <td>56.483305</td>\n",
       "      <td>43.516695</td>\n",
       "    </tr>\n",
       "  </tbody>\n",
       "</table>\n",
       "</div>"
      ],
      "text/plain": [
       "           CAT_IN_DISTORCAO CAT_TP_SEXO    Evadido  Não evadido\n",
       "0               Até 17 anos       Homem  24.445004    75.554996\n",
       "1               Até 17 anos      Mulher  23.805636    76.194364\n",
       "2  Maior ou igual a 17 anos       Homem  59.352009    40.647991\n",
       "3  Maior ou igual a 17 anos      Mulher  56.483305    43.516695"
      ]
     },
     "execution_count": 374,
     "metadata": {},
     "output_type": "execute_result"
    }
   ],
   "source": [
    "title = 'Dentre alunos com e sem distorção idade-série, qual percentual evade?'\n",
    "x = 'CAT_IN_DISTORCAO'\n",
    "\n",
    "plot_categoria_sexo(x, title, 'perc_sexo_idade_evasao')"
   ]
  },
  {
   "cell_type": "code",
   "execution_count": 246,
   "metadata": {
    "hidden": true
   },
   "outputs": [
    {
     "data": {
      "application/vnd.plotly.v1+json": {
       "config": {
        "linkText": "Export to plot.ly",
        "plotlyServerURL": "https://plot.ly",
        "showLink": false
       },
       "data": [
        {
         "marker": {
          "color": [
           "#025951",
           "#8BD9CA",
           "#BF7F30",
           "#F2C124",
           "#8C470B",
           "#DFC27D"
          ]
         },
         "type": "bar",
         "uid": "c8b9b149-1495-492d-8ac2-1a00345a59ee",
         "x": [
          "Até 17 anos",
          "Maior ou igual a 17 anos"
         ],
         "y": [
          0.6743127796191164,
          0.3256872203808836
         ]
        }
       ],
       "layout": {
        "title": {
         "text": "Percentual de alunos com e sem distorção idade-série"
        }
       }
      },
      "text/html": [
       "<div>\n",
       "        \n",
       "        \n",
       "            <div id=\"61f5e89a-7b49-420d-be9b-d51f67e89ced\" class=\"plotly-graph-div\" style=\"height:525px; width:100%;\"></div>\n",
       "            <script type=\"text/javascript\">\n",
       "                require([\"plotly\"], function(Plotly) {\n",
       "                    window.PLOTLYENV=window.PLOTLYENV || {};\n",
       "                    window.PLOTLYENV.BASE_URL='https://plot.ly';\n",
       "                    \n",
       "                if (document.getElementById(\"61f5e89a-7b49-420d-be9b-d51f67e89ced\")) {\n",
       "                    Plotly.newPlot(\n",
       "                        '61f5e89a-7b49-420d-be9b-d51f67e89ced',\n",
       "                        [{\"marker\": {\"color\": [\"#025951\", \"#8BD9CA\", \"#BF7F30\", \"#F2C124\", \"#8C470B\", \"#DFC27D\"]}, \"type\": \"bar\", \"uid\": \"c8b9b149-1495-492d-8ac2-1a00345a59ee\", \"x\": [\"At\\u00e9 17 anos\", \"Maior ou igual a 17 anos\"], \"y\": [0.6743127796191164, 0.3256872203808836]}],\n",
       "                        {\"title\": {\"text\": \"Percentual de alunos com e sem distor\\u00e7\\u00e3o idade-s\\u00e9rie\"}},\n",
       "                        {\"showLink\": false, \"linkText\": \"Export to plot.ly\", \"plotlyServerURL\": \"https://plot.ly\", \"responsive\": true}\n",
       "                    ).then(function(){\n",
       "                            \n",
       "var gd = document.getElementById('61f5e89a-7b49-420d-be9b-d51f67e89ced');\n",
       "var x = new MutationObserver(function (mutations, observer) {{\n",
       "        var display = window.getComputedStyle(gd).display;\n",
       "        if (!display || display === 'none') {{\n",
       "            console.log([gd, 'removed!']);\n",
       "            Plotly.purge(gd);\n",
       "            observer.disconnect();\n",
       "        }}\n",
       "}});\n",
       "\n",
       "// Listen for the removal of the full notebook cells\n",
       "var notebookContainer = gd.closest('#notebook-container');\n",
       "if (notebookContainer) {{\n",
       "    x.observe(notebookContainer, {childList: true});\n",
       "}}\n",
       "\n",
       "// Listen for the clearing of the current output cell\n",
       "var outputEl = gd.closest('.output');\n",
       "if (outputEl) {{\n",
       "    x.observe(outputEl, {childList: true});\n",
       "}}\n",
       "\n",
       "                        }).then(function(){\n",
       "                            function downloadimage(format, height, width, filename) {var p = document.getElementById('61f5e89a-7b49-420d-be9b-d51f67e89ced');Plotly.downloadImage(p, {format: format, height: height, width: width, filename: filename});};if(document.readyState == 'complete') {downloadimage('png', 600, 800, 'dist_IN_DISTORCAO');}\n",
       "                        })\n",
       "                };\n",
       "                });\n",
       "            </script>\n",
       "        </div>"
      ]
     },
     "metadata": {},
     "output_type": "display_data"
    },
    {
     "data": {
      "application/vnd.plotly.v1+json": {
       "config": {
        "linkText": "Export to plot.ly",
        "plotlyServerURL": "https://plot.ly",
        "showLink": false
       },
       "data": [
        {
         "marker": {
          "color": "#025951"
         },
         "name": "Maior ou igual a 17 anos",
         "type": "bar",
         "uid": "211fe24e-0520-48b0-99e3-2d6c7e8f22b5",
         "x": [
          "Evadidos",
          "Não evadidos"
         ],
         "y": [
          0.581530865856116,
          0.4184691341438839
         ]
        },
        {
         "marker": {
          "color": "#8BD9CA"
         },
         "name": "Até 17 anos",
         "type": "bar",
         "uid": "42a47c3f-11d9-4aa6-8d8c-4105d44d63c2",
         "x": [
          "Não evadidos",
          "Evadidos"
         ],
         "y": [
          0.7588531105523563,
          0.24114688944764376
         ]
        },
        {
         "marker": {
          "color": "#dbdbdb"
         },
         "name": "Total",
         "type": "bar",
         "uid": "ec02d50b-31ed-40a5-be40-87858e0502ea",
         "x": [
          "Não evadidos",
          "Evadidos"
         ],
         "y": [
          0.6479943994136886,
          0.35200560058631136
         ]
        }
       ],
       "layout": {
        "title": {
         "text": "Dentre alunos com e sem distorção idade-série, qual percentual evade?"
        }
       }
      },
      "text/html": [
       "<div>\n",
       "        \n",
       "        \n",
       "            <div id=\"3f5016f2-6508-4ed6-8357-a337a991274b\" class=\"plotly-graph-div\" style=\"height:525px; width:100%;\"></div>\n",
       "            <script type=\"text/javascript\">\n",
       "                require([\"plotly\"], function(Plotly) {\n",
       "                    window.PLOTLYENV=window.PLOTLYENV || {};\n",
       "                    window.PLOTLYENV.BASE_URL='https://plot.ly';\n",
       "                    \n",
       "                if (document.getElementById(\"3f5016f2-6508-4ed6-8357-a337a991274b\")) {\n",
       "                    Plotly.newPlot(\n",
       "                        '3f5016f2-6508-4ed6-8357-a337a991274b',\n",
       "                        [{\"marker\": {\"color\": \"#025951\"}, \"name\": \"Maior ou igual a 17 anos\", \"type\": \"bar\", \"uid\": \"211fe24e-0520-48b0-99e3-2d6c7e8f22b5\", \"x\": [\"Evadidos\", \"N\\u00e3o evadidos\"], \"y\": [0.581530865856116, 0.4184691341438839]}, {\"marker\": {\"color\": \"#8BD9CA\"}, \"name\": \"At\\u00e9 17 anos\", \"type\": \"bar\", \"uid\": \"42a47c3f-11d9-4aa6-8d8c-4105d44d63c2\", \"x\": [\"N\\u00e3o evadidos\", \"Evadidos\"], \"y\": [0.7588531105523563, 0.24114688944764376]}, {\"marker\": {\"color\": \"#dbdbdb\"}, \"name\": \"Total\", \"type\": \"bar\", \"uid\": \"ec02d50b-31ed-40a5-be40-87858e0502ea\", \"x\": [\"N\\u00e3o evadidos\", \"Evadidos\"], \"y\": [0.6479943994136886, 0.35200560058631136]}],\n",
       "                        {\"title\": {\"text\": \"Dentre alunos com e sem distor\\u00e7\\u00e3o idade-s\\u00e9rie, qual percentual evade?\"}},\n",
       "                        {\"showLink\": false, \"linkText\": \"Export to plot.ly\", \"plotlyServerURL\": \"https://plot.ly\", \"responsive\": true}\n",
       "                    ).then(function(){\n",
       "                            \n",
       "var gd = document.getElementById('3f5016f2-6508-4ed6-8357-a337a991274b');\n",
       "var x = new MutationObserver(function (mutations, observer) {{\n",
       "        var display = window.getComputedStyle(gd).display;\n",
       "        if (!display || display === 'none') {{\n",
       "            console.log([gd, 'removed!']);\n",
       "            Plotly.purge(gd);\n",
       "            observer.disconnect();\n",
       "        }}\n",
       "}});\n",
       "\n",
       "// Listen for the removal of the full notebook cells\n",
       "var notebookContainer = gd.closest('#notebook-container');\n",
       "if (notebookContainer) {{\n",
       "    x.observe(notebookContainer, {childList: true});\n",
       "}}\n",
       "\n",
       "// Listen for the clearing of the current output cell\n",
       "var outputEl = gd.closest('.output');\n",
       "if (outputEl) {{\n",
       "    x.observe(outputEl, {childList: true});\n",
       "}}\n",
       "\n",
       "                        }).then(function(){\n",
       "                            function downloadimage(format, height, width, filename) {var p = document.getElementById('3f5016f2-6508-4ed6-8357-a337a991274b');Plotly.downloadImage(p, {format: format, height: height, width: width, filename: filename});};if(document.readyState == 'complete') {downloadimage('png', 600, 800, 'perc_distorcao_evasao');}\n",
       "                        })\n",
       "                };\n",
       "                });\n",
       "            </script>\n",
       "        </div>"
      ]
     },
     "metadata": {},
     "output_type": "display_data"
    }
   ],
   "source": [
    "title = 'Dentre alunos com e sem distorção idade-série, qual percentual evade?'\n",
    "x = 'IN_DISTORCAO'\n",
    "categorias = {1: 'Maior ou igual a 17 anos', 0: 'Até 17 anos'}\n",
    "\n",
    "plot_categoria(x, categorias, title, 'perc_distorcao_evasao', title2='Percentual de alunos com e sem distorção idade-série')"
   ]
  },
  {
   "cell_type": "markdown",
   "metadata": {
    "heading_collapsed": true
   },
   "source": [
    "### Transporte público"
   ]
  },
  {
   "cell_type": "code",
   "execution_count": 329,
   "metadata": {
    "hidden": true
   },
   "outputs": [
    {
     "data": {
      "text/html": [
       "<div>\n",
       "<style scoped>\n",
       "    .dataframe tbody tr th:only-of-type {\n",
       "        vertical-align: middle;\n",
       "    }\n",
       "\n",
       "    .dataframe tbody tr th {\n",
       "        vertical-align: top;\n",
       "    }\n",
       "\n",
       "    .dataframe thead th {\n",
       "        text-align: right;\n",
       "    }\n",
       "</style>\n",
       "<table border=\"1\" class=\"dataframe\">\n",
       "  <thead>\n",
       "    <tr style=\"text-align: right;\">\n",
       "      <th></th>\n",
       "      <th>CAT_IN_TRANSPORTE_PUBLICO</th>\n",
       "      <th>CAT_TP_SEXO</th>\n",
       "      <th>Evadido</th>\n",
       "      <th>Não evadido</th>\n",
       "    </tr>\n",
       "  </thead>\n",
       "  <tbody>\n",
       "    <tr>\n",
       "      <th>0</th>\n",
       "      <td>Não utiliza</td>\n",
       "      <td>Homem</td>\n",
       "      <td>43.617775</td>\n",
       "      <td>56.382225</td>\n",
       "    </tr>\n",
       "    <tr>\n",
       "      <th>1</th>\n",
       "      <td>Não utiliza</td>\n",
       "      <td>Mulher</td>\n",
       "      <td>39.707073</td>\n",
       "      <td>60.292927</td>\n",
       "    </tr>\n",
       "    <tr>\n",
       "      <th>2</th>\n",
       "      <td>Utiliza transporte público</td>\n",
       "      <td>Homem</td>\n",
       "      <td>33.951087</td>\n",
       "      <td>66.048913</td>\n",
       "    </tr>\n",
       "    <tr>\n",
       "      <th>3</th>\n",
       "      <td>Utiliza transporte público</td>\n",
       "      <td>Mulher</td>\n",
       "      <td>29.814387</td>\n",
       "      <td>70.185613</td>\n",
       "    </tr>\n",
       "  </tbody>\n",
       "</table>\n",
       "</div>"
      ],
      "text/plain": [
       "    CAT_IN_TRANSPORTE_PUBLICO CAT_TP_SEXO    Evadido  Não evadido\n",
       "0                 Não utiliza       Homem  43.617775    56.382225\n",
       "1                 Não utiliza      Mulher  39.707073    60.292927\n",
       "2  Utiliza transporte público       Homem  33.951087    66.048913\n",
       "3  Utiliza transporte público      Mulher  29.814387    70.185613"
      ]
     },
     "execution_count": 329,
     "metadata": {},
     "output_type": "execute_result"
    }
   ],
   "source": [
    "v = cross_evasao_sexo('CAT_IN_TRANSPORTE_PUBLICO').reset_index()\n",
    "v"
   ]
  },
  {
   "cell_type": "code",
   "execution_count": 375,
   "metadata": {
    "hidden": true
   },
   "outputs": [
    {
     "data": {
      "application/vnd.plotly.v1+json": {
       "config": {
        "linkText": "Export to plot.ly",
        "plotlyServerURL": "https://plot.ly",
        "showLink": false
       },
       "data": [
        {
         "marker": {
          "color": "#025951"
         },
         "name": "Não utiliza",
         "type": "bar",
         "uid": "da4e4d4c-72ca-426a-a6a0-1b6a79571552",
         "x": [
          "Homem",
          "Mulher"
         ],
         "y": [
          43.61777476672928,
          39.707073196493326
         ]
        },
        {
         "marker": {
          "color": "#8BD9CA"
         },
         "name": "Utiliza transporte público",
         "type": "bar",
         "uid": "cd5b436a-7c9d-4bde-b0b3-7e54ae1776ef",
         "x": [
          "Homem",
          "Mulher"
         ],
         "y": [
          33.951086868556075,
          29.814387078548993
         ]
        }
       ],
       "layout": {
        "title": {
         "text": "Dentre alunos que utilizam ou não transporte público, qual percentual evade?"
        }
       }
      },
      "text/html": [
       "<div>\n",
       "        \n",
       "        \n",
       "            <div id=\"b5133a6b-e568-4eb1-9b00-2db0fa3ba24b\" class=\"plotly-graph-div\" style=\"height:525px; width:100%;\"></div>\n",
       "            <script type=\"text/javascript\">\n",
       "                require([\"plotly\"], function(Plotly) {\n",
       "                    window.PLOTLYENV=window.PLOTLYENV || {};\n",
       "                    window.PLOTLYENV.BASE_URL='https://plot.ly';\n",
       "                    \n",
       "                if (document.getElementById(\"b5133a6b-e568-4eb1-9b00-2db0fa3ba24b\")) {\n",
       "                    Plotly.newPlot(\n",
       "                        'b5133a6b-e568-4eb1-9b00-2db0fa3ba24b',\n",
       "                        [{\"marker\": {\"color\": \"#025951\"}, \"name\": \"N\\u00e3o utiliza\", \"type\": \"bar\", \"uid\": \"da4e4d4c-72ca-426a-a6a0-1b6a79571552\", \"x\": [\"Homem\", \"Mulher\"], \"y\": [43.61777476672928, 39.707073196493326]}, {\"marker\": {\"color\": \"#8BD9CA\"}, \"name\": \"Utiliza transporte p\\u00fablico\", \"type\": \"bar\", \"uid\": \"cd5b436a-7c9d-4bde-b0b3-7e54ae1776ef\", \"x\": [\"Homem\", \"Mulher\"], \"y\": [33.951086868556075, 29.814387078548993]}],\n",
       "                        {\"title\": {\"text\": \"Dentre alunos que utilizam ou n\\u00e3o transporte p\\u00fablico, qual percentual evade?\"}},\n",
       "                        {\"showLink\": false, \"linkText\": \"Export to plot.ly\", \"plotlyServerURL\": \"https://plot.ly\", \"responsive\": true}\n",
       "                    ).then(function(){\n",
       "                            \n",
       "var gd = document.getElementById('b5133a6b-e568-4eb1-9b00-2db0fa3ba24b');\n",
       "var x = new MutationObserver(function (mutations, observer) {{\n",
       "        var display = window.getComputedStyle(gd).display;\n",
       "        if (!display || display === 'none') {{\n",
       "            console.log([gd, 'removed!']);\n",
       "            Plotly.purge(gd);\n",
       "            observer.disconnect();\n",
       "        }}\n",
       "}});\n",
       "\n",
       "// Listen for the removal of the full notebook cells\n",
       "var notebookContainer = gd.closest('#notebook-container');\n",
       "if (notebookContainer) {{\n",
       "    x.observe(notebookContainer, {childList: true});\n",
       "}}\n",
       "\n",
       "// Listen for the clearing of the current output cell\n",
       "var outputEl = gd.closest('.output');\n",
       "if (outputEl) {{\n",
       "    x.observe(outputEl, {childList: true});\n",
       "}}\n",
       "\n",
       "                        }).then(function(){\n",
       "                            function downloadimage(format, height, width, filename) {var p = document.getElementById('b5133a6b-e568-4eb1-9b00-2db0fa3ba24b');Plotly.downloadImage(p, {format: format, height: height, width: width, filename: filename});};if(document.readyState == 'complete') {downloadimage('png', 600, 800, 'perc_sexo_transporte_evasao');}\n",
       "                        })\n",
       "                };\n",
       "                });\n",
       "            </script>\n",
       "        </div>"
      ]
     },
     "metadata": {},
     "output_type": "display_data"
    },
    {
     "data": {
      "text/html": [
       "<div>\n",
       "<style scoped>\n",
       "    .dataframe tbody tr th:only-of-type {\n",
       "        vertical-align: middle;\n",
       "    }\n",
       "\n",
       "    .dataframe tbody tr th {\n",
       "        vertical-align: top;\n",
       "    }\n",
       "\n",
       "    .dataframe thead th {\n",
       "        text-align: right;\n",
       "    }\n",
       "</style>\n",
       "<table border=\"1\" class=\"dataframe\">\n",
       "  <thead>\n",
       "    <tr style=\"text-align: right;\">\n",
       "      <th></th>\n",
       "      <th>CAT_IN_TRANSPORTE_PUBLICO</th>\n",
       "      <th>CAT_TP_SEXO</th>\n",
       "      <th>Evadido</th>\n",
       "      <th>Não evadido</th>\n",
       "    </tr>\n",
       "  </thead>\n",
       "  <tbody>\n",
       "    <tr>\n",
       "      <th>0</th>\n",
       "      <td>Não utiliza</td>\n",
       "      <td>Homem</td>\n",
       "      <td>43.617775</td>\n",
       "      <td>56.382225</td>\n",
       "    </tr>\n",
       "    <tr>\n",
       "      <th>1</th>\n",
       "      <td>Não utiliza</td>\n",
       "      <td>Mulher</td>\n",
       "      <td>39.707073</td>\n",
       "      <td>60.292927</td>\n",
       "    </tr>\n",
       "    <tr>\n",
       "      <th>2</th>\n",
       "      <td>Utiliza transporte público</td>\n",
       "      <td>Homem</td>\n",
       "      <td>33.951087</td>\n",
       "      <td>66.048913</td>\n",
       "    </tr>\n",
       "    <tr>\n",
       "      <th>3</th>\n",
       "      <td>Utiliza transporte público</td>\n",
       "      <td>Mulher</td>\n",
       "      <td>29.814387</td>\n",
       "      <td>70.185613</td>\n",
       "    </tr>\n",
       "  </tbody>\n",
       "</table>\n",
       "</div>"
      ],
      "text/plain": [
       "    CAT_IN_TRANSPORTE_PUBLICO CAT_TP_SEXO    Evadido  Não evadido\n",
       "0                 Não utiliza       Homem  43.617775    56.382225\n",
       "1                 Não utiliza      Mulher  39.707073    60.292927\n",
       "2  Utiliza transporte público       Homem  33.951087    66.048913\n",
       "3  Utiliza transporte público      Mulher  29.814387    70.185613"
      ]
     },
     "execution_count": 375,
     "metadata": {},
     "output_type": "execute_result"
    }
   ],
   "source": [
    "title = 'Dentre alunos que utilizam ou não transporte público, qual percentual evade?'\n",
    "x = 'CAT_IN_TRANSPORTE_PUBLICO'\n",
    "\n",
    "plot_categoria_sexo(x, title, 'perc_sexo_transporte_evasao')"
   ]
  },
  {
   "cell_type": "code",
   "execution_count": 248,
   "metadata": {
    "hidden": true
   },
   "outputs": [
    {
     "data": {
      "application/vnd.plotly.v1+json": {
       "config": {
        "linkText": "Export to plot.ly",
        "plotlyServerURL": "https://plot.ly",
        "showLink": false
       },
       "data": [
        {
         "marker": {
          "color": [
           "#025951",
           "#8BD9CA",
           "#BF7F30",
           "#F2C124",
           "#8C470B",
           "#DFC27D"
          ]
         },
         "type": "bar",
         "uid": "a7a0f934-89c7-4f41-8cc0-d971fa5a5435",
         "x": [
          "Utiliza transporte público",
          "Não utiliza"
         ],
         "y": [
          0.6670495192465461,
          0.3329504807534539
         ]
        }
       ],
       "layout": {
        "title": {
         "text": "Percentual de alunos por tipo de transporte"
        }
       }
      },
      "text/html": [
       "<div>\n",
       "        \n",
       "        \n",
       "            <div id=\"988faae7-20c3-408f-ab33-e336bc635d98\" class=\"plotly-graph-div\" style=\"height:525px; width:100%;\"></div>\n",
       "            <script type=\"text/javascript\">\n",
       "                require([\"plotly\"], function(Plotly) {\n",
       "                    window.PLOTLYENV=window.PLOTLYENV || {};\n",
       "                    window.PLOTLYENV.BASE_URL='https://plot.ly';\n",
       "                    \n",
       "                if (document.getElementById(\"988faae7-20c3-408f-ab33-e336bc635d98\")) {\n",
       "                    Plotly.newPlot(\n",
       "                        '988faae7-20c3-408f-ab33-e336bc635d98',\n",
       "                        [{\"marker\": {\"color\": [\"#025951\", \"#8BD9CA\", \"#BF7F30\", \"#F2C124\", \"#8C470B\", \"#DFC27D\"]}, \"type\": \"bar\", \"uid\": \"a7a0f934-89c7-4f41-8cc0-d971fa5a5435\", \"x\": [\"Utiliza transporte p\\u00fablico\", \"N\\u00e3o utiliza\"], \"y\": [0.6670495192465461, 0.3329504807534539]}],\n",
       "                        {\"title\": {\"text\": \"Percentual de alunos por tipo de transporte\"}},\n",
       "                        {\"showLink\": false, \"linkText\": \"Export to plot.ly\", \"plotlyServerURL\": \"https://plot.ly\", \"responsive\": true}\n",
       "                    ).then(function(){\n",
       "                            \n",
       "var gd = document.getElementById('988faae7-20c3-408f-ab33-e336bc635d98');\n",
       "var x = new MutationObserver(function (mutations, observer) {{\n",
       "        var display = window.getComputedStyle(gd).display;\n",
       "        if (!display || display === 'none') {{\n",
       "            console.log([gd, 'removed!']);\n",
       "            Plotly.purge(gd);\n",
       "            observer.disconnect();\n",
       "        }}\n",
       "}});\n",
       "\n",
       "// Listen for the removal of the full notebook cells\n",
       "var notebookContainer = gd.closest('#notebook-container');\n",
       "if (notebookContainer) {{\n",
       "    x.observe(notebookContainer, {childList: true});\n",
       "}}\n",
       "\n",
       "// Listen for the clearing of the current output cell\n",
       "var outputEl = gd.closest('.output');\n",
       "if (outputEl) {{\n",
       "    x.observe(outputEl, {childList: true});\n",
       "}}\n",
       "\n",
       "                        }).then(function(){\n",
       "                            function downloadimage(format, height, width, filename) {var p = document.getElementById('988faae7-20c3-408f-ab33-e336bc635d98');Plotly.downloadImage(p, {format: format, height: height, width: width, filename: filename});};if(document.readyState == 'complete') {downloadimage('png', 600, 800, 'dist_IN_TRANSPORTE_PUBLICO');}\n",
       "                        })\n",
       "                };\n",
       "                });\n",
       "            </script>\n",
       "        </div>"
      ]
     },
     "metadata": {},
     "output_type": "display_data"
    },
    {
     "data": {
      "application/vnd.plotly.v1+json": {
       "config": {
        "linkText": "Export to plot.ly",
        "plotlyServerURL": "https://plot.ly",
        "showLink": false
       },
       "data": [
        {
         "marker": {
          "color": "#025951"
         },
         "name": "Utiliza transporte público",
         "type": "bar",
         "uid": "a1c8b9a6-42fd-4f3d-b467-494c5a3547de",
         "x": [
          "Não evadidos",
          "Evadidos"
         ],
         "y": [
          0.6809006083862187,
          0.31909939161378137
         ]
        },
        {
         "marker": {
          "color": "#8BD9CA"
         },
         "name": "Não utiliza",
         "type": "bar",
         "uid": "34f08392-de6a-431c-b1db-ad1a63d7486c",
         "x": [
          "Não evadidos",
          "Evadidos"
         ],
         "y": [
          0.5820684670477693,
          0.4179315329522308
         ]
        },
        {
         "marker": {
          "color": "#dbdbdb"
         },
         "name": "Total",
         "type": "bar",
         "uid": "f278539e-d3fe-4eaf-a159-b54b5eeec3be",
         "x": [
          "Não evadidos",
          "Evadidos"
         ],
         "y": [
          0.6479943994136886,
          0.35200560058631136
         ]
        }
       ],
       "layout": {
        "title": {
         "text": "Dentre alunos que utilizam ou não transporte público, qual percentual evade?"
        }
       }
      },
      "text/html": [
       "<div>\n",
       "        \n",
       "        \n",
       "            <div id=\"c0035290-8b5c-4b3d-8def-360b6ad569f0\" class=\"plotly-graph-div\" style=\"height:525px; width:100%;\"></div>\n",
       "            <script type=\"text/javascript\">\n",
       "                require([\"plotly\"], function(Plotly) {\n",
       "                    window.PLOTLYENV=window.PLOTLYENV || {};\n",
       "                    window.PLOTLYENV.BASE_URL='https://plot.ly';\n",
       "                    \n",
       "                if (document.getElementById(\"c0035290-8b5c-4b3d-8def-360b6ad569f0\")) {\n",
       "                    Plotly.newPlot(\n",
       "                        'c0035290-8b5c-4b3d-8def-360b6ad569f0',\n",
       "                        [{\"marker\": {\"color\": \"#025951\"}, \"name\": \"Utiliza transporte p\\u00fablico\", \"type\": \"bar\", \"uid\": \"a1c8b9a6-42fd-4f3d-b467-494c5a3547de\", \"x\": [\"N\\u00e3o evadidos\", \"Evadidos\"], \"y\": [0.6809006083862187, 0.31909939161378137]}, {\"marker\": {\"color\": \"#8BD9CA\"}, \"name\": \"N\\u00e3o utiliza\", \"type\": \"bar\", \"uid\": \"34f08392-de6a-431c-b1db-ad1a63d7486c\", \"x\": [\"N\\u00e3o evadidos\", \"Evadidos\"], \"y\": [0.5820684670477693, 0.4179315329522308]}, {\"marker\": {\"color\": \"#dbdbdb\"}, \"name\": \"Total\", \"type\": \"bar\", \"uid\": \"f278539e-d3fe-4eaf-a159-b54b5eeec3be\", \"x\": [\"N\\u00e3o evadidos\", \"Evadidos\"], \"y\": [0.6479943994136886, 0.35200560058631136]}],\n",
       "                        {\"title\": {\"text\": \"Dentre alunos que utilizam ou n\\u00e3o transporte p\\u00fablico, qual percentual evade?\"}},\n",
       "                        {\"showLink\": false, \"linkText\": \"Export to plot.ly\", \"plotlyServerURL\": \"https://plot.ly\", \"responsive\": true}\n",
       "                    ).then(function(){\n",
       "                            \n",
       "var gd = document.getElementById('c0035290-8b5c-4b3d-8def-360b6ad569f0');\n",
       "var x = new MutationObserver(function (mutations, observer) {{\n",
       "        var display = window.getComputedStyle(gd).display;\n",
       "        if (!display || display === 'none') {{\n",
       "            console.log([gd, 'removed!']);\n",
       "            Plotly.purge(gd);\n",
       "            observer.disconnect();\n",
       "        }}\n",
       "}});\n",
       "\n",
       "// Listen for the removal of the full notebook cells\n",
       "var notebookContainer = gd.closest('#notebook-container');\n",
       "if (notebookContainer) {{\n",
       "    x.observe(notebookContainer, {childList: true});\n",
       "}}\n",
       "\n",
       "// Listen for the clearing of the current output cell\n",
       "var outputEl = gd.closest('.output');\n",
       "if (outputEl) {{\n",
       "    x.observe(outputEl, {childList: true});\n",
       "}}\n",
       "\n",
       "                        }).then(function(){\n",
       "                            function downloadimage(format, height, width, filename) {var p = document.getElementById('c0035290-8b5c-4b3d-8def-360b6ad569f0');Plotly.downloadImage(p, {format: format, height: height, width: width, filename: filename});};if(document.readyState == 'complete') {downloadimage('png', 600, 800, 'perc_transporte_evasao');}\n",
       "                        })\n",
       "                };\n",
       "                });\n",
       "            </script>\n",
       "        </div>"
      ]
     },
     "metadata": {},
     "output_type": "display_data"
    }
   ],
   "source": [
    "title = 'Dentre alunos que utilizam ou não transporte público, qual percentual evade?'\n",
    "x = 'IN_TRANSPORTE_PUBLICO'\n",
    "categorias = {1: 'Utiliza transporte público', 0: 'Não utiliza'}\n",
    "\n",
    "plot_categoria(x, categorias, title, 'perc_transporte_evasao', title2='Percentual de alunos por tipo de transporte')"
   ]
  },
  {
   "cell_type": "markdown",
   "metadata": {},
   "source": [
    "### Município da escola"
   ]
  },
  {
   "cell_type": "code",
   "execution_count": 326,
   "metadata": {
    "scrolled": true
   },
   "outputs": [
    {
     "data": {
      "text/html": [
       "<div>\n",
       "<style scoped>\n",
       "    .dataframe tbody tr th:only-of-type {\n",
       "        vertical-align: middle;\n",
       "    }\n",
       "\n",
       "    .dataframe tbody tr th {\n",
       "        vertical-align: top;\n",
       "    }\n",
       "\n",
       "    .dataframe thead th {\n",
       "        text-align: right;\n",
       "    }\n",
       "</style>\n",
       "<table border=\"1\" class=\"dataframe\">\n",
       "  <thead>\n",
       "    <tr style=\"text-align: right;\">\n",
       "      <th></th>\n",
       "      <th></th>\n",
       "      <th>Evadido</th>\n",
       "      <th>Não evadido</th>\n",
       "    </tr>\n",
       "    <tr>\n",
       "      <th>CAT_IN_LOCAL_ESCOLA</th>\n",
       "      <th>CAT_TP_SEXO</th>\n",
       "      <th></th>\n",
       "      <th></th>\n",
       "    </tr>\n",
       "  </thead>\n",
       "  <tbody>\n",
       "    <tr>\n",
       "      <th rowspan=\"2\" valign=\"top\">Grande Rio</th>\n",
       "      <th>Homem</th>\n",
       "      <td>34.029359</td>\n",
       "      <td>65.970641</td>\n",
       "    </tr>\n",
       "    <tr>\n",
       "      <th>Mulher</th>\n",
       "      <td>29.277211</td>\n",
       "      <td>70.722789</td>\n",
       "    </tr>\n",
       "    <tr>\n",
       "      <th rowspan=\"2\" valign=\"top\">Outros municípios no estado</th>\n",
       "      <th>Homem</th>\n",
       "      <td>35.408016</td>\n",
       "      <td>64.591984</td>\n",
       "    </tr>\n",
       "    <tr>\n",
       "      <th>Mulher</th>\n",
       "      <td>30.437691</td>\n",
       "      <td>69.562309</td>\n",
       "    </tr>\n",
       "    <tr>\n",
       "      <th rowspan=\"2\" valign=\"top\">Rio de Janeiro (cidade)</th>\n",
       "      <th>Homem</th>\n",
       "      <td>41.643301</td>\n",
       "      <td>58.356699</td>\n",
       "    </tr>\n",
       "    <tr>\n",
       "      <th>Mulher</th>\n",
       "      <td>38.676098</td>\n",
       "      <td>61.323902</td>\n",
       "    </tr>\n",
       "  </tbody>\n",
       "</table>\n",
       "</div>"
      ],
      "text/plain": [
       "                                           Evadido  Não evadido\n",
       "CAT_IN_LOCAL_ESCOLA         CAT_TP_SEXO                        \n",
       "Grande Rio                  Homem        34.029359    65.970641\n",
       "                            Mulher       29.277211    70.722789\n",
       "Outros municípios no estado Homem        35.408016    64.591984\n",
       "                            Mulher       30.437691    69.562309\n",
       "Rio de Janeiro (cidade)     Homem        41.643301    58.356699\n",
       "                            Mulher       38.676098    61.323902"
      ]
     },
     "execution_count": 326,
     "metadata": {},
     "output_type": "execute_result"
    }
   ],
   "source": [
    "cross_evasao_sexo('CAT_IN_LOCAL_ESCOLA')"
   ]
  },
  {
   "cell_type": "code",
   "execution_count": 385,
   "metadata": {
    "collapsed": true
   },
   "outputs": [
    {
     "data": {
      "application/vnd.plotly.v1+json": {
       "config": {
        "linkText": "Export to plot.ly",
        "plotlyServerURL": "https://plot.ly",
        "showLink": false
       },
       "data": [
        {
         "marker": {
          "color": "#025951"
         },
         "name": "Grande Rio",
         "type": "bar",
         "uid": "b9d9b10d-e776-4b6e-822b-23b95feec841",
         "x": [
          "Não utiliza",
          "Utiliza transporte público"
         ],
         "y": [
          41.92959968448038,
          27.65498337901674
         ]
        },
        {
         "marker": {
          "color": "#8BD9CA"
         },
         "name": "Outros municípios no estado",
         "type": "bar",
         "uid": "1d40f71a-cef2-42eb-8b97-1edb8f512dfc",
         "x": [
          "Não utiliza",
          "Utiliza transporte público"
         ],
         "y": [
          35.79898077602301,
          30.44982698961938
         ]
        },
        {
         "marker": {
          "color": "#BF7F30"
         },
         "name": "Rio de Janeiro (cidade)",
         "type": "bar",
         "uid": "8d5f0877-e21d-4ee1-8d69-9018f8d161e5",
         "x": [
          "Não utiliza",
          "Utiliza transporte público"
         ],
         "y": [
          47.37880903095364,
          37.157923258092076
         ]
        }
       ],
       "layout": {
        "title": {
         "text": "Dentre os locais que os alunos estudam, qual percentual evade?"
        }
       }
      },
      "text/html": [
       "<div>\n",
       "        \n",
       "        \n",
       "            <div id=\"17cb53e0-4947-4542-b4ad-39b4957923b4\" class=\"plotly-graph-div\" style=\"height:525px; width:100%;\"></div>\n",
       "            <script type=\"text/javascript\">\n",
       "                require([\"plotly\"], function(Plotly) {\n",
       "                    window.PLOTLYENV=window.PLOTLYENV || {};\n",
       "                    window.PLOTLYENV.BASE_URL='https://plot.ly';\n",
       "                    \n",
       "                if (document.getElementById(\"17cb53e0-4947-4542-b4ad-39b4957923b4\")) {\n",
       "                    Plotly.newPlot(\n",
       "                        '17cb53e0-4947-4542-b4ad-39b4957923b4',\n",
       "                        [{\"marker\": {\"color\": \"#025951\"}, \"name\": \"Grande Rio\", \"type\": \"bar\", \"uid\": \"b9d9b10d-e776-4b6e-822b-23b95feec841\", \"x\": [\"N\\u00e3o utiliza\", \"Utiliza transporte p\\u00fablico\"], \"y\": [41.92959968448038, 27.65498337901674]}, {\"marker\": {\"color\": \"#8BD9CA\"}, \"name\": \"Outros munic\\u00edpios no estado\", \"type\": \"bar\", \"uid\": \"1d40f71a-cef2-42eb-8b97-1edb8f512dfc\", \"x\": [\"N\\u00e3o utiliza\", \"Utiliza transporte p\\u00fablico\"], \"y\": [35.79898077602301, 30.44982698961938]}, {\"marker\": {\"color\": \"#BF7F30\"}, \"name\": \"Rio de Janeiro (cidade)\", \"type\": \"bar\", \"uid\": \"8d5f0877-e21d-4ee1-8d69-9018f8d161e5\", \"x\": [\"N\\u00e3o utiliza\", \"Utiliza transporte p\\u00fablico\"], \"y\": [47.37880903095364, 37.157923258092076]}],\n",
       "                        {\"title\": {\"text\": \"Dentre os locais que os alunos estudam, qual percentual evade?\"}},\n",
       "                        {\"showLink\": false, \"linkText\": \"Export to plot.ly\", \"plotlyServerURL\": \"https://plot.ly\", \"responsive\": true}\n",
       "                    ).then(function(){\n",
       "                            \n",
       "var gd = document.getElementById('17cb53e0-4947-4542-b4ad-39b4957923b4');\n",
       "var x = new MutationObserver(function (mutations, observer) {{\n",
       "        var display = window.getComputedStyle(gd).display;\n",
       "        if (!display || display === 'none') {{\n",
       "            console.log([gd, 'removed!']);\n",
       "            Plotly.purge(gd);\n",
       "            observer.disconnect();\n",
       "        }}\n",
       "}});\n",
       "\n",
       "// Listen for the removal of the full notebook cells\n",
       "var notebookContainer = gd.closest('#notebook-container');\n",
       "if (notebookContainer) {{\n",
       "    x.observe(notebookContainer, {childList: true});\n",
       "}}\n",
       "\n",
       "// Listen for the clearing of the current output cell\n",
       "var outputEl = gd.closest('.output');\n",
       "if (outputEl) {{\n",
       "    x.observe(outputEl, {childList: true});\n",
       "}}\n",
       "\n",
       "                        }).then(function(){\n",
       "                            function downloadimage(format, height, width, filename) {var p = document.getElementById('17cb53e0-4947-4542-b4ad-39b4957923b4');Plotly.downloadImage(p, {format: format, height: height, width: width, filename: filename});};if(document.readyState == 'complete') {downloadimage('png', 600, 800, 'perc_cross_transp_local_evasao');}\n",
       "                        })\n",
       "                };\n",
       "                });\n",
       "            </script>\n",
       "        </div>"
      ]
     },
     "metadata": {},
     "output_type": "display_data"
    },
    {
     "data": {
      "text/html": [
       "<div>\n",
       "<style scoped>\n",
       "    .dataframe tbody tr th:only-of-type {\n",
       "        vertical-align: middle;\n",
       "    }\n",
       "\n",
       "    .dataframe tbody tr th {\n",
       "        vertical-align: top;\n",
       "    }\n",
       "\n",
       "    .dataframe thead th {\n",
       "        text-align: right;\n",
       "    }\n",
       "</style>\n",
       "<table border=\"1\" class=\"dataframe\">\n",
       "  <thead>\n",
       "    <tr style=\"text-align: right;\">\n",
       "      <th></th>\n",
       "      <th>CAT_IN_LOCAL_ESCOLA</th>\n",
       "      <th>CAT_IN_TRANSPORTE_PUBLICO</th>\n",
       "      <th>Evadido</th>\n",
       "      <th>Não evadido</th>\n",
       "    </tr>\n",
       "  </thead>\n",
       "  <tbody>\n",
       "    <tr>\n",
       "      <th>0</th>\n",
       "      <td>Grande Rio</td>\n",
       "      <td>Não utiliza</td>\n",
       "      <td>41.929600</td>\n",
       "      <td>58.070400</td>\n",
       "    </tr>\n",
       "    <tr>\n",
       "      <th>1</th>\n",
       "      <td>Grande Rio</td>\n",
       "      <td>Utiliza transporte público</td>\n",
       "      <td>27.654983</td>\n",
       "      <td>72.345017</td>\n",
       "    </tr>\n",
       "    <tr>\n",
       "      <th>2</th>\n",
       "      <td>Outros municípios no estado</td>\n",
       "      <td>Não utiliza</td>\n",
       "      <td>35.798981</td>\n",
       "      <td>64.201019</td>\n",
       "    </tr>\n",
       "    <tr>\n",
       "      <th>3</th>\n",
       "      <td>Outros municípios no estado</td>\n",
       "      <td>Utiliza transporte público</td>\n",
       "      <td>30.449827</td>\n",
       "      <td>69.550173</td>\n",
       "    </tr>\n",
       "    <tr>\n",
       "      <th>4</th>\n",
       "      <td>Rio de Janeiro (cidade)</td>\n",
       "      <td>Não utiliza</td>\n",
       "      <td>47.378809</td>\n",
       "      <td>52.621191</td>\n",
       "    </tr>\n",
       "    <tr>\n",
       "      <th>5</th>\n",
       "      <td>Rio de Janeiro (cidade)</td>\n",
       "      <td>Utiliza transporte público</td>\n",
       "      <td>37.157923</td>\n",
       "      <td>62.842077</td>\n",
       "    </tr>\n",
       "  </tbody>\n",
       "</table>\n",
       "</div>"
      ],
      "text/plain": [
       "           CAT_IN_LOCAL_ESCOLA   CAT_IN_TRANSPORTE_PUBLICO    Evadido  \\\n",
       "0                   Grande Rio                 Não utiliza  41.929600   \n",
       "1                   Grande Rio  Utiliza transporte público  27.654983   \n",
       "2  Outros municípios no estado                 Não utiliza  35.798981   \n",
       "3  Outros municípios no estado  Utiliza transporte público  30.449827   \n",
       "4      Rio de Janeiro (cidade)                 Não utiliza  47.378809   \n",
       "5      Rio de Janeiro (cidade)  Utiliza transporte público  37.157923   \n",
       "\n",
       "   Não evadido  \n",
       "0    58.070400  \n",
       "1    72.345017  \n",
       "2    64.201019  \n",
       "3    69.550173  \n",
       "4    52.621191  \n",
       "5    62.842077  "
      ]
     },
     "execution_count": 385,
     "metadata": {},
     "output_type": "execute_result"
    }
   ],
   "source": [
    "y = 'CAT_IN_TRANSPORTE_PUBLICO'\n",
    "plot_categoria_sexo(x, title, 'perc_cross_transp_local_evasao', y)"
   ]
  },
  {
   "cell_type": "code",
   "execution_count": 250,
   "metadata": {},
   "outputs": [
    {
     "data": {
      "application/vnd.plotly.v1+json": {
       "config": {
        "linkText": "Export to plot.ly",
        "plotlyServerURL": "https://plot.ly",
        "showLink": false
       },
       "data": [
        {
         "marker": {
          "color": [
           "#025951",
           "#8BD9CA",
           "#BF7F30",
           "#F2C124",
           "#8C470B",
           "#DFC27D"
          ]
         },
         "type": "bar",
         "uid": "022ce40f-cc68-4cc0-981e-5edc4c73914f",
         "x": [
          "Grande Rio",
          "Rio de Janeiro (cidade)",
          "Outros municípios no estado"
         ],
         "y": [
          0.3922871613121999,
          0.3760268653124624,
          0.23168597337533772
         ]
        }
       ],
       "layout": {
        "title": {
         "text": "Percentual de alunos por município"
        }
       }
      },
      "text/html": [
       "<div>\n",
       "        \n",
       "        \n",
       "            <div id=\"16a19fec-b542-4760-be74-e6004e24d9af\" class=\"plotly-graph-div\" style=\"height:525px; width:100%;\"></div>\n",
       "            <script type=\"text/javascript\">\n",
       "                require([\"plotly\"], function(Plotly) {\n",
       "                    window.PLOTLYENV=window.PLOTLYENV || {};\n",
       "                    window.PLOTLYENV.BASE_URL='https://plot.ly';\n",
       "                    \n",
       "                if (document.getElementById(\"16a19fec-b542-4760-be74-e6004e24d9af\")) {\n",
       "                    Plotly.newPlot(\n",
       "                        '16a19fec-b542-4760-be74-e6004e24d9af',\n",
       "                        [{\"marker\": {\"color\": [\"#025951\", \"#8BD9CA\", \"#BF7F30\", \"#F2C124\", \"#8C470B\", \"#DFC27D\"]}, \"type\": \"bar\", \"uid\": \"022ce40f-cc68-4cc0-981e-5edc4c73914f\", \"x\": [\"Grande Rio\", \"Rio de Janeiro (cidade)\", \"Outros munic\\u00edpios no estado\"], \"y\": [0.3922871613121999, 0.3760268653124624, 0.23168597337533772]}],\n",
       "                        {\"title\": {\"text\": \"Percentual de alunos por munic\\u00edpio\"}},\n",
       "                        {\"showLink\": false, \"linkText\": \"Export to plot.ly\", \"plotlyServerURL\": \"https://plot.ly\", \"responsive\": true}\n",
       "                    ).then(function(){\n",
       "                            \n",
       "var gd = document.getElementById('16a19fec-b542-4760-be74-e6004e24d9af');\n",
       "var x = new MutationObserver(function (mutations, observer) {{\n",
       "        var display = window.getComputedStyle(gd).display;\n",
       "        if (!display || display === 'none') {{\n",
       "            console.log([gd, 'removed!']);\n",
       "            Plotly.purge(gd);\n",
       "            observer.disconnect();\n",
       "        }}\n",
       "}});\n",
       "\n",
       "// Listen for the removal of the full notebook cells\n",
       "var notebookContainer = gd.closest('#notebook-container');\n",
       "if (notebookContainer) {{\n",
       "    x.observe(notebookContainer, {childList: true});\n",
       "}}\n",
       "\n",
       "// Listen for the clearing of the current output cell\n",
       "var outputEl = gd.closest('.output');\n",
       "if (outputEl) {{\n",
       "    x.observe(outputEl, {childList: true});\n",
       "}}\n",
       "\n",
       "                        }).then(function(){\n",
       "                            function downloadimage(format, height, width, filename) {var p = document.getElementById('16a19fec-b542-4760-be74-e6004e24d9af');Plotly.downloadImage(p, {format: format, height: height, width: width, filename: filename});};if(document.readyState == 'complete') {downloadimage('png', 600, 800, 'dist_IN_LOCAL_ESCOLA');}\n",
       "                        })\n",
       "                };\n",
       "                });\n",
       "            </script>\n",
       "        </div>"
      ]
     },
     "metadata": {},
     "output_type": "display_data"
    },
    {
     "data": {
      "application/vnd.plotly.v1+json": {
       "config": {
        "linkText": "Export to plot.ly",
        "plotlyServerURL": "https://plot.ly",
        "showLink": false
       },
       "data": [
        {
         "marker": {
          "color": "#025951"
         },
         "name": "Rio de Janeiro (cidade)",
         "type": "bar",
         "uid": "de7b47d9-25af-4ade-9f96-636f3571785a",
         "x": [
          "Não evadidos",
          "Evadidos"
         ],
         "y": [
          0.5975389806841983,
          0.40246101931580175
         ]
        },
        {
         "marker": {
          "color": "#8BD9CA"
         },
         "name": "Grande Rio",
         "type": "bar",
         "uid": "969802d8-416a-4760-8e98-7ade6e0982e7",
         "x": [
          "Não evadidos",
          "Evadidos"
         ],
         "y": [
          0.6830812129661903,
          0.3169187870338097
         ]
        },
        {
         "marker": {
          "color": "#BF7F30"
         },
         "name": "Outros municípios no estado",
         "type": "bar",
         "uid": "7e813c9f-1198-4ef8-8f3a-cc8124b39994",
         "x": [
          "Não evadidos",
          "Evadidos"
         ],
         "y": [
          0.6704752012464295,
          0.3295247987535705
         ]
        },
        {
         "marker": {
          "color": "#dbdbdb"
         },
         "name": "Total",
         "type": "bar",
         "uid": "548f8fe1-ba44-4299-bd03-6b3cf11c23fc",
         "x": [
          "Não evadidos",
          "Evadidos"
         ],
         "y": [
          0.6479943994136886,
          0.35200560058631136
         ]
        }
       ],
       "layout": {
        "title": {
         "text": "Dentre os locais que os alunos estudam, qual percentual evade?"
        }
       }
      },
      "text/html": [
       "<div>\n",
       "        \n",
       "        \n",
       "            <div id=\"2a279422-0194-4a87-9c69-b0bfdb87163a\" class=\"plotly-graph-div\" style=\"height:525px; width:100%;\"></div>\n",
       "            <script type=\"text/javascript\">\n",
       "                require([\"plotly\"], function(Plotly) {\n",
       "                    window.PLOTLYENV=window.PLOTLYENV || {};\n",
       "                    window.PLOTLYENV.BASE_URL='https://plot.ly';\n",
       "                    \n",
       "                if (document.getElementById(\"2a279422-0194-4a87-9c69-b0bfdb87163a\")) {\n",
       "                    Plotly.newPlot(\n",
       "                        '2a279422-0194-4a87-9c69-b0bfdb87163a',\n",
       "                        [{\"marker\": {\"color\": \"#025951\"}, \"name\": \"Rio de Janeiro (cidade)\", \"type\": \"bar\", \"uid\": \"de7b47d9-25af-4ade-9f96-636f3571785a\", \"x\": [\"N\\u00e3o evadidos\", \"Evadidos\"], \"y\": [0.5975389806841983, 0.40246101931580175]}, {\"marker\": {\"color\": \"#8BD9CA\"}, \"name\": \"Grande Rio\", \"type\": \"bar\", \"uid\": \"969802d8-416a-4760-8e98-7ade6e0982e7\", \"x\": [\"N\\u00e3o evadidos\", \"Evadidos\"], \"y\": [0.6830812129661903, 0.3169187870338097]}, {\"marker\": {\"color\": \"#BF7F30\"}, \"name\": \"Outros munic\\u00edpios no estado\", \"type\": \"bar\", \"uid\": \"7e813c9f-1198-4ef8-8f3a-cc8124b39994\", \"x\": [\"N\\u00e3o evadidos\", \"Evadidos\"], \"y\": [0.6704752012464295, 0.3295247987535705]}, {\"marker\": {\"color\": \"#dbdbdb\"}, \"name\": \"Total\", \"type\": \"bar\", \"uid\": \"548f8fe1-ba44-4299-bd03-6b3cf11c23fc\", \"x\": [\"N\\u00e3o evadidos\", \"Evadidos\"], \"y\": [0.6479943994136886, 0.35200560058631136]}],\n",
       "                        {\"title\": {\"text\": \"Dentre os locais que os alunos estudam, qual percentual evade?\"}},\n",
       "                        {\"showLink\": false, \"linkText\": \"Export to plot.ly\", \"plotlyServerURL\": \"https://plot.ly\", \"responsive\": true}\n",
       "                    ).then(function(){\n",
       "                            \n",
       "var gd = document.getElementById('2a279422-0194-4a87-9c69-b0bfdb87163a');\n",
       "var x = new MutationObserver(function (mutations, observer) {{\n",
       "        var display = window.getComputedStyle(gd).display;\n",
       "        if (!display || display === 'none') {{\n",
       "            console.log([gd, 'removed!']);\n",
       "            Plotly.purge(gd);\n",
       "            observer.disconnect();\n",
       "        }}\n",
       "}});\n",
       "\n",
       "// Listen for the removal of the full notebook cells\n",
       "var notebookContainer = gd.closest('#notebook-container');\n",
       "if (notebookContainer) {{\n",
       "    x.observe(notebookContainer, {childList: true});\n",
       "}}\n",
       "\n",
       "// Listen for the clearing of the current output cell\n",
       "var outputEl = gd.closest('.output');\n",
       "if (outputEl) {{\n",
       "    x.observe(outputEl, {childList: true});\n",
       "}}\n",
       "\n",
       "                        }).then(function(){\n",
       "                            function downloadimage(format, height, width, filename) {var p = document.getElementById('2a279422-0194-4a87-9c69-b0bfdb87163a');Plotly.downloadImage(p, {format: format, height: height, width: width, filename: filename});};if(document.readyState == 'complete') {downloadimage('png', 600, 800, 'perc_cidade_evasao');}\n",
       "                        })\n",
       "                };\n",
       "                });\n",
       "            </script>\n",
       "        </div>"
      ]
     },
     "metadata": {},
     "output_type": "display_data"
    }
   ],
   "source": [
    "title = 'Dentre os locais que os alunos estudam, qual percentual evade?'\n",
    "x = 'IN_LOCAL_ESCOLA'\n",
    "categorias = {0: 'Rio de Janeiro (cidade)', 1: 'Grande Rio', 2: 'Outros municípios no estado'}\n",
    "\n",
    "plot_categoria(x, categorias, title, 'perc_cidade_evasao', title2='Percentual de alunos por município')"
   ]
  },
  {
   "cell_type": "markdown",
   "metadata": {},
   "source": [
    "### Tamanho da turma"
   ]
  },
  {
   "cell_type": "code",
   "execution_count": 273,
   "metadata": {},
   "outputs": [
    {
     "data": {
      "text/plain": [
       "1    87925\n",
       "0    60450\n",
       "2    34463\n",
       "Name: N_TURMA, dtype: int64"
      ]
     },
     "execution_count": 273,
     "metadata": {},
     "output_type": "execute_result"
    }
   ],
   "source": [
    "df['N_TURMA'].value_counts()"
   ]
  },
  {
   "cell_type": "code",
   "execution_count": 387,
   "metadata": {},
   "outputs": [
    {
     "data": {
      "application/vnd.plotly.v1+json": {
       "config": {
        "linkText": "Export to plot.ly",
        "plotlyServerURL": "https://plot.ly",
        "showLink": false
       },
       "data": [
        {
         "marker": {
          "color": "#025951"
         },
         "name": "30 a 40",
         "type": "bar",
         "uid": "68c79840-d21c-45b3-b7b1-f38d5757b732",
         "x": [
          "Grande Rio",
          "Outros municípios no estado",
          "Rio de Janeiro (cidade)"
         ],
         "y": [
          30.77274437100328,
          32.81049399944181,
          40.47328616735789
         ]
        },
        {
         "marker": {
          "color": "#8BD9CA"
         },
         "name": "Mais de 40 alunos",
         "type": "bar",
         "uid": "14aea075-b2da-49fd-bbed-d684fc16efdb",
         "x": [
          "Grande Rio",
          "Outros municípios no estado",
          "Rio de Janeiro (cidade)"
         ],
         "y": [
          32.83672480620155,
          35.88087549336203,
          39.214346712211785
         ]
        },
        {
         "marker": {
          "color": "#BF7F30"
         },
         "name": "Menos de 30 alunos",
         "type": "bar",
         "uid": "b7511cb1-6d49-4b93-9131-a2cb1b7b49f9",
         "x": [
          "Grande Rio",
          "Outros municípios no estado",
          "Rio de Janeiro (cidade)"
         ],
         "y": [
          32.63494724010514,
          32.693106791633966,
          41.578947368421055
         ]
        }
       ],
       "layout": {
        "title": {
         "text": "Dentre os locais que os alunos estudam, qual percentual evade?"
        }
       }
      },
      "text/html": [
       "<div>\n",
       "        \n",
       "        \n",
       "            <div id=\"8435235c-2ca0-47a5-ba81-c917cf582c17\" class=\"plotly-graph-div\" style=\"height:525px; width:100%;\"></div>\n",
       "            <script type=\"text/javascript\">\n",
       "                require([\"plotly\"], function(Plotly) {\n",
       "                    window.PLOTLYENV=window.PLOTLYENV || {};\n",
       "                    window.PLOTLYENV.BASE_URL='https://plot.ly';\n",
       "                    \n",
       "                if (document.getElementById(\"8435235c-2ca0-47a5-ba81-c917cf582c17\")) {\n",
       "                    Plotly.newPlot(\n",
       "                        '8435235c-2ca0-47a5-ba81-c917cf582c17',\n",
       "                        [{\"marker\": {\"color\": \"#025951\"}, \"name\": \"30 a 40\", \"type\": \"bar\", \"uid\": \"68c79840-d21c-45b3-b7b1-f38d5757b732\", \"x\": [\"Grande Rio\", \"Outros munic\\u00edpios no estado\", \"Rio de Janeiro (cidade)\"], \"y\": [30.77274437100328, 32.81049399944181, 40.47328616735789]}, {\"marker\": {\"color\": \"#8BD9CA\"}, \"name\": \"Mais de 40 alunos\", \"type\": \"bar\", \"uid\": \"14aea075-b2da-49fd-bbed-d684fc16efdb\", \"x\": [\"Grande Rio\", \"Outros munic\\u00edpios no estado\", \"Rio de Janeiro (cidade)\"], \"y\": [32.83672480620155, 35.88087549336203, 39.214346712211785]}, {\"marker\": {\"color\": \"#BF7F30\"}, \"name\": \"Menos de 30 alunos\", \"type\": \"bar\", \"uid\": \"b7511cb1-6d49-4b93-9131-a2cb1b7b49f9\", \"x\": [\"Grande Rio\", \"Outros munic\\u00edpios no estado\", \"Rio de Janeiro (cidade)\"], \"y\": [32.63494724010514, 32.693106791633966, 41.578947368421055]}],\n",
       "                        {\"title\": {\"text\": \"Dentre os locais que os alunos estudam, qual percentual evade?\"}},\n",
       "                        {\"showLink\": false, \"linkText\": \"Export to plot.ly\", \"plotlyServerURL\": \"https://plot.ly\", \"responsive\": true}\n",
       "                    ).then(function(){\n",
       "                            \n",
       "var gd = document.getElementById('8435235c-2ca0-47a5-ba81-c917cf582c17');\n",
       "var x = new MutationObserver(function (mutations, observer) {{\n",
       "        var display = window.getComputedStyle(gd).display;\n",
       "        if (!display || display === 'none') {{\n",
       "            console.log([gd, 'removed!']);\n",
       "            Plotly.purge(gd);\n",
       "            observer.disconnect();\n",
       "        }}\n",
       "}});\n",
       "\n",
       "// Listen for the removal of the full notebook cells\n",
       "var notebookContainer = gd.closest('#notebook-container');\n",
       "if (notebookContainer) {{\n",
       "    x.observe(notebookContainer, {childList: true});\n",
       "}}\n",
       "\n",
       "// Listen for the clearing of the current output cell\n",
       "var outputEl = gd.closest('.output');\n",
       "if (outputEl) {{\n",
       "    x.observe(outputEl, {childList: true});\n",
       "}}\n",
       "\n",
       "                        }).then(function(){\n",
       "                            function downloadimage(format, height, width, filename) {var p = document.getElementById('8435235c-2ca0-47a5-ba81-c917cf582c17');Plotly.downloadImage(p, {format: format, height: height, width: width, filename: filename});};if(document.readyState == 'complete') {downloadimage('png', 600, 800, 'perc_cross_turma_local_evasao');}\n",
       "                        })\n",
       "                };\n",
       "                });\n",
       "            </script>\n",
       "        </div>"
      ]
     },
     "metadata": {},
     "output_type": "display_data"
    },
    {
     "data": {
      "text/html": [
       "<div>\n",
       "<style scoped>\n",
       "    .dataframe tbody tr th:only-of-type {\n",
       "        vertical-align: middle;\n",
       "    }\n",
       "\n",
       "    .dataframe tbody tr th {\n",
       "        vertical-align: top;\n",
       "    }\n",
       "\n",
       "    .dataframe thead th {\n",
       "        text-align: right;\n",
       "    }\n",
       "</style>\n",
       "<table border=\"1\" class=\"dataframe\">\n",
       "  <thead>\n",
       "    <tr style=\"text-align: right;\">\n",
       "      <th></th>\n",
       "      <th>CAT_N_TURMA</th>\n",
       "      <th>CAT_IN_LOCAL_ESCOLA</th>\n",
       "      <th>Evadido</th>\n",
       "      <th>Não evadido</th>\n",
       "    </tr>\n",
       "  </thead>\n",
       "  <tbody>\n",
       "    <tr>\n",
       "      <th>0</th>\n",
       "      <td>30 a 40</td>\n",
       "      <td>Grande Rio</td>\n",
       "      <td>30.772744</td>\n",
       "      <td>69.227256</td>\n",
       "    </tr>\n",
       "    <tr>\n",
       "      <th>1</th>\n",
       "      <td>30 a 40</td>\n",
       "      <td>Outros municípios no estado</td>\n",
       "      <td>32.810494</td>\n",
       "      <td>67.189506</td>\n",
       "    </tr>\n",
       "    <tr>\n",
       "      <th>2</th>\n",
       "      <td>30 a 40</td>\n",
       "      <td>Rio de Janeiro (cidade)</td>\n",
       "      <td>40.473286</td>\n",
       "      <td>59.526714</td>\n",
       "    </tr>\n",
       "    <tr>\n",
       "      <th>3</th>\n",
       "      <td>Mais de 40 alunos</td>\n",
       "      <td>Grande Rio</td>\n",
       "      <td>32.836725</td>\n",
       "      <td>67.163275</td>\n",
       "    </tr>\n",
       "    <tr>\n",
       "      <th>4</th>\n",
       "      <td>Mais de 40 alunos</td>\n",
       "      <td>Outros municípios no estado</td>\n",
       "      <td>35.880875</td>\n",
       "      <td>64.119125</td>\n",
       "    </tr>\n",
       "    <tr>\n",
       "      <th>5</th>\n",
       "      <td>Mais de 40 alunos</td>\n",
       "      <td>Rio de Janeiro (cidade)</td>\n",
       "      <td>39.214347</td>\n",
       "      <td>60.785653</td>\n",
       "    </tr>\n",
       "    <tr>\n",
       "      <th>6</th>\n",
       "      <td>Menos de 30 alunos</td>\n",
       "      <td>Grande Rio</td>\n",
       "      <td>32.634947</td>\n",
       "      <td>67.365053</td>\n",
       "    </tr>\n",
       "    <tr>\n",
       "      <th>7</th>\n",
       "      <td>Menos de 30 alunos</td>\n",
       "      <td>Outros municípios no estado</td>\n",
       "      <td>32.693107</td>\n",
       "      <td>67.306893</td>\n",
       "    </tr>\n",
       "    <tr>\n",
       "      <th>8</th>\n",
       "      <td>Menos de 30 alunos</td>\n",
       "      <td>Rio de Janeiro (cidade)</td>\n",
       "      <td>41.578947</td>\n",
       "      <td>58.421053</td>\n",
       "    </tr>\n",
       "  </tbody>\n",
       "</table>\n",
       "</div>"
      ],
      "text/plain": [
       "          CAT_N_TURMA          CAT_IN_LOCAL_ESCOLA    Evadido  Não evadido\n",
       "0             30 a 40                   Grande Rio  30.772744    69.227256\n",
       "1             30 a 40  Outros municípios no estado  32.810494    67.189506\n",
       "2             30 a 40      Rio de Janeiro (cidade)  40.473286    59.526714\n",
       "3   Mais de 40 alunos                   Grande Rio  32.836725    67.163275\n",
       "4   Mais de 40 alunos  Outros municípios no estado  35.880875    64.119125\n",
       "5   Mais de 40 alunos      Rio de Janeiro (cidade)  39.214347    60.785653\n",
       "6  Menos de 30 alunos                   Grande Rio  32.634947    67.365053\n",
       "7  Menos de 30 alunos  Outros municípios no estado  32.693107    67.306893\n",
       "8  Menos de 30 alunos      Rio de Janeiro (cidade)  41.578947    58.421053"
      ]
     },
     "execution_count": 387,
     "metadata": {},
     "output_type": "execute_result"
    }
   ],
   "source": [
    "title = 'Dentre os locais que os alunos estudam, qual percentual evade?'\n",
    "x = 'CAT_N_TURMA'\n",
    "y = 'CAT_IN_LOCAL_ESCOLA'\n",
    "\n",
    "plot_categoria_sexo(x, title, 'perc_cross_turma_local_evasao', y)"
   ]
  },
  {
   "cell_type": "code",
   "execution_count": 388,
   "metadata": {
    "collapsed": true
   },
   "outputs": [
    {
     "data": {
      "application/vnd.plotly.v1+json": {
       "config": {
        "linkText": "Export to plot.ly",
        "plotlyServerURL": "https://plot.ly",
        "showLink": false
       },
       "data": [
        {
         "marker": {
          "color": "#025951"
         },
         "name": "30 a 40",
         "type": "bar",
         "uid": "0eb6e750-2e91-4059-947c-356bb047aeef",
         "x": [
          "Homem",
          "Mulher"
         ],
         "y": [
          36.81630661402653,
          32.68983869838232
         ]
        },
        {
         "marker": {
          "color": "#8BD9CA"
         },
         "name": "Mais de 40 alunos",
         "type": "bar",
         "uid": "42aeb20e-0669-4a50-87c2-f16637859b15",
         "x": [
          "Homem",
          "Mulher"
         ],
         "y": [
          39.26349419875568,
          35.43496570809771
         ]
        },
        {
         "marker": {
          "color": "#BF7F30"
         },
         "name": "Menos de 30 alunos",
         "type": "bar",
         "uid": "62158fba-7ad3-405e-9561-883f4b99587e",
         "x": [
          "Homem",
          "Mulher"
         ],
         "y": [
          36.82211369657506,
          32.024999141513
         ]
        }
       ],
       "layout": {
        "title": {
         "text": "Dentre os locais que os alunos estudam, qual percentual evade?"
        }
       }
      },
      "text/html": [
       "<div>\n",
       "        \n",
       "        \n",
       "            <div id=\"b2f80f9e-c9ca-444b-870f-83dd24da1963\" class=\"plotly-graph-div\" style=\"height:525px; width:100%;\"></div>\n",
       "            <script type=\"text/javascript\">\n",
       "                require([\"plotly\"], function(Plotly) {\n",
       "                    window.PLOTLYENV=window.PLOTLYENV || {};\n",
       "                    window.PLOTLYENV.BASE_URL='https://plot.ly';\n",
       "                    \n",
       "                if (document.getElementById(\"b2f80f9e-c9ca-444b-870f-83dd24da1963\")) {\n",
       "                    Plotly.newPlot(\n",
       "                        'b2f80f9e-c9ca-444b-870f-83dd24da1963',\n",
       "                        [{\"marker\": {\"color\": \"#025951\"}, \"name\": \"30 a 40\", \"type\": \"bar\", \"uid\": \"0eb6e750-2e91-4059-947c-356bb047aeef\", \"x\": [\"Homem\", \"Mulher\"], \"y\": [36.81630661402653, 32.68983869838232]}, {\"marker\": {\"color\": \"#8BD9CA\"}, \"name\": \"Mais de 40 alunos\", \"type\": \"bar\", \"uid\": \"42aeb20e-0669-4a50-87c2-f16637859b15\", \"x\": [\"Homem\", \"Mulher\"], \"y\": [39.26349419875568, 35.43496570809771]}, {\"marker\": {\"color\": \"#BF7F30\"}, \"name\": \"Menos de 30 alunos\", \"type\": \"bar\", \"uid\": \"62158fba-7ad3-405e-9561-883f4b99587e\", \"x\": [\"Homem\", \"Mulher\"], \"y\": [36.82211369657506, 32.024999141513]}],\n",
       "                        {\"title\": {\"text\": \"Dentre os locais que os alunos estudam, qual percentual evade?\"}},\n",
       "                        {\"showLink\": false, \"linkText\": \"Export to plot.ly\", \"plotlyServerURL\": \"https://plot.ly\", \"responsive\": true}\n",
       "                    ).then(function(){\n",
       "                            \n",
       "var gd = document.getElementById('b2f80f9e-c9ca-444b-870f-83dd24da1963');\n",
       "var x = new MutationObserver(function (mutations, observer) {{\n",
       "        var display = window.getComputedStyle(gd).display;\n",
       "        if (!display || display === 'none') {{\n",
       "            console.log([gd, 'removed!']);\n",
       "            Plotly.purge(gd);\n",
       "            observer.disconnect();\n",
       "        }}\n",
       "}});\n",
       "\n",
       "// Listen for the removal of the full notebook cells\n",
       "var notebookContainer = gd.closest('#notebook-container');\n",
       "if (notebookContainer) {{\n",
       "    x.observe(notebookContainer, {childList: true});\n",
       "}}\n",
       "\n",
       "// Listen for the clearing of the current output cell\n",
       "var outputEl = gd.closest('.output');\n",
       "if (outputEl) {{\n",
       "    x.observe(outputEl, {childList: true});\n",
       "}}\n",
       "\n",
       "                        }).then(function(){\n",
       "                            function downloadimage(format, height, width, filename) {var p = document.getElementById('b2f80f9e-c9ca-444b-870f-83dd24da1963');Plotly.downloadImage(p, {format: format, height: height, width: width, filename: filename});};if(document.readyState == 'complete') {downloadimage('png', 600, 800, 'perc_cross_turma_sexo_evasao');}\n",
       "                        })\n",
       "                };\n",
       "                });\n",
       "            </script>\n",
       "        </div>"
      ]
     },
     "metadata": {},
     "output_type": "display_data"
    },
    {
     "data": {
      "text/html": [
       "<div>\n",
       "<style scoped>\n",
       "    .dataframe tbody tr th:only-of-type {\n",
       "        vertical-align: middle;\n",
       "    }\n",
       "\n",
       "    .dataframe tbody tr th {\n",
       "        vertical-align: top;\n",
       "    }\n",
       "\n",
       "    .dataframe thead th {\n",
       "        text-align: right;\n",
       "    }\n",
       "</style>\n",
       "<table border=\"1\" class=\"dataframe\">\n",
       "  <thead>\n",
       "    <tr style=\"text-align: right;\">\n",
       "      <th></th>\n",
       "      <th>CAT_N_TURMA</th>\n",
       "      <th>CAT_TP_SEXO</th>\n",
       "      <th>Evadido</th>\n",
       "      <th>Não evadido</th>\n",
       "    </tr>\n",
       "  </thead>\n",
       "  <tbody>\n",
       "    <tr>\n",
       "      <th>0</th>\n",
       "      <td>30 a 40</td>\n",
       "      <td>Homem</td>\n",
       "      <td>36.816307</td>\n",
       "      <td>63.183693</td>\n",
       "    </tr>\n",
       "    <tr>\n",
       "      <th>1</th>\n",
       "      <td>30 a 40</td>\n",
       "      <td>Mulher</td>\n",
       "      <td>32.689839</td>\n",
       "      <td>67.310161</td>\n",
       "    </tr>\n",
       "    <tr>\n",
       "      <th>2</th>\n",
       "      <td>Mais de 40 alunos</td>\n",
       "      <td>Homem</td>\n",
       "      <td>39.263494</td>\n",
       "      <td>60.736506</td>\n",
       "    </tr>\n",
       "    <tr>\n",
       "      <th>3</th>\n",
       "      <td>Mais de 40 alunos</td>\n",
       "      <td>Mulher</td>\n",
       "      <td>35.434966</td>\n",
       "      <td>64.565034</td>\n",
       "    </tr>\n",
       "    <tr>\n",
       "      <th>4</th>\n",
       "      <td>Menos de 30 alunos</td>\n",
       "      <td>Homem</td>\n",
       "      <td>36.822114</td>\n",
       "      <td>63.177886</td>\n",
       "    </tr>\n",
       "    <tr>\n",
       "      <th>5</th>\n",
       "      <td>Menos de 30 alunos</td>\n",
       "      <td>Mulher</td>\n",
       "      <td>32.024999</td>\n",
       "      <td>67.975001</td>\n",
       "    </tr>\n",
       "  </tbody>\n",
       "</table>\n",
       "</div>"
      ],
      "text/plain": [
       "          CAT_N_TURMA CAT_TP_SEXO    Evadido  Não evadido\n",
       "0             30 a 40       Homem  36.816307    63.183693\n",
       "1             30 a 40      Mulher  32.689839    67.310161\n",
       "2   Mais de 40 alunos       Homem  39.263494    60.736506\n",
       "3   Mais de 40 alunos      Mulher  35.434966    64.565034\n",
       "4  Menos de 30 alunos       Homem  36.822114    63.177886\n",
       "5  Menos de 30 alunos      Mulher  32.024999    67.975001"
      ]
     },
     "execution_count": 388,
     "metadata": {},
     "output_type": "execute_result"
    }
   ],
   "source": [
    "title = 'Dentre os locais que os alunos estudam, qual percentual evade?'\n",
    "x = 'CAT_N_TURMA'\n",
    "\n",
    "plot_categoria_sexo(x, title, 'perc_cross_turma_sexo_evasao')"
   ]
  },
  {
   "cell_type": "code",
   "execution_count": 276,
   "metadata": {
    "collapsed": true
   },
   "outputs": [
    {
     "data": {
      "application/vnd.plotly.v1+json": {
       "config": {
        "linkText": "Export to plot.ly",
        "plotlyServerURL": "https://plot.ly",
        "showLink": false
       },
       "data": [
        {
         "marker": {
          "color": [
           "#025951",
           "#8BD9CA",
           "#BF7F30",
           "#F2C124",
           "#8C470B",
           "#DFC27D"
          ]
         },
         "type": "bar",
         "uid": "df2063d4-ea02-4118-bfeb-4b72b85ae816",
         "x": [
          "30 a 40",
          "Menos de 30 alunos",
          "Mais de 40 alunos"
         ],
         "y": [
          0.4808901869414454,
          0.3306205493387589,
          0.18848926371979566
         ]
        }
       ],
       "layout": {
        "title": {
         "text": "Percentual de alunos por tamanho da turma"
        }
       }
      },
      "text/html": [
       "<div>\n",
       "        \n",
       "        \n",
       "            <div id=\"32317436-6722-4030-9122-8fe9ccc06127\" class=\"plotly-graph-div\" style=\"height:525px; width:100%;\"></div>\n",
       "            <script type=\"text/javascript\">\n",
       "                require([\"plotly\"], function(Plotly) {\n",
       "                    window.PLOTLYENV=window.PLOTLYENV || {};\n",
       "                    window.PLOTLYENV.BASE_URL='https://plot.ly';\n",
       "                    \n",
       "                if (document.getElementById(\"32317436-6722-4030-9122-8fe9ccc06127\")) {\n",
       "                    Plotly.newPlot(\n",
       "                        '32317436-6722-4030-9122-8fe9ccc06127',\n",
       "                        [{\"marker\": {\"color\": [\"#025951\", \"#8BD9CA\", \"#BF7F30\", \"#F2C124\", \"#8C470B\", \"#DFC27D\"]}, \"type\": \"bar\", \"uid\": \"df2063d4-ea02-4118-bfeb-4b72b85ae816\", \"x\": [\"30 a 40\", \"Menos de 30 alunos\", \"Mais de 40 alunos\"], \"y\": [0.4808901869414454, 0.3306205493387589, 0.18848926371979566]}],\n",
       "                        {\"title\": {\"text\": \"Percentual de alunos por tamanho da turma\"}},\n",
       "                        {\"showLink\": false, \"linkText\": \"Export to plot.ly\", \"plotlyServerURL\": \"https://plot.ly\", \"responsive\": true}\n",
       "                    ).then(function(){\n",
       "                            \n",
       "var gd = document.getElementById('32317436-6722-4030-9122-8fe9ccc06127');\n",
       "var x = new MutationObserver(function (mutations, observer) {{\n",
       "        var display = window.getComputedStyle(gd).display;\n",
       "        if (!display || display === 'none') {{\n",
       "            console.log([gd, 'removed!']);\n",
       "            Plotly.purge(gd);\n",
       "            observer.disconnect();\n",
       "        }}\n",
       "}});\n",
       "\n",
       "// Listen for the removal of the full notebook cells\n",
       "var notebookContainer = gd.closest('#notebook-container');\n",
       "if (notebookContainer) {{\n",
       "    x.observe(notebookContainer, {childList: true});\n",
       "}}\n",
       "\n",
       "// Listen for the clearing of the current output cell\n",
       "var outputEl = gd.closest('.output');\n",
       "if (outputEl) {{\n",
       "    x.observe(outputEl, {childList: true});\n",
       "}}\n",
       "\n",
       "                        }).then(function(){\n",
       "                            function downloadimage(format, height, width, filename) {var p = document.getElementById('32317436-6722-4030-9122-8fe9ccc06127');Plotly.downloadImage(p, {format: format, height: height, width: width, filename: filename});};if(document.readyState == 'complete') {downloadimage('png', 600, 800, 'dist_N_TURMA');}\n",
       "                        })\n",
       "                };\n",
       "                });\n",
       "            </script>\n",
       "        </div>"
      ]
     },
     "metadata": {},
     "output_type": "display_data"
    },
    {
     "data": {
      "application/vnd.plotly.v1+json": {
       "config": {
        "linkText": "Export to plot.ly",
        "plotlyServerURL": "https://plot.ly",
        "showLink": false
       },
       "data": [
        {
         "marker": {
          "color": "#025951"
         },
         "name": "Menos de 30 alunos",
         "type": "bar",
         "uid": "768c9f12-1afa-4e88-8c30-eb5e51d81883",
         "x": [
          "Não evadidos",
          "Evadidos"
         ],
         "y": [
          0.6548883374689827,
          0.3451116625310174
         ]
        },
        {
         "marker": {
          "color": "#8BD9CA"
         },
         "name": "30 a 40",
         "type": "bar",
         "uid": "140295ff-836e-4a9d-a9f0-be537b359ae4",
         "x": [
          "Não evadidos",
          "Evadidos"
         ],
         "y": [
          0.6519419960193347,
          0.34805800398066533
         ]
        },
        {
         "marker": {
          "color": "#BF7F30"
         },
         "name": "Mais de 40 alunos",
         "type": "bar",
         "uid": "b4b481fb-d008-42f0-8771-6e862ced8de9",
         "x": [
          "Não evadidos",
          "Evadidos"
         ],
         "y": [
          0.6258306009343354,
          0.3741693990656646
         ]
        },
        {
         "marker": {
          "color": "#dbdbdb"
         },
         "name": "Total",
         "type": "bar",
         "uid": "37c94127-64fe-4786-a616-e475d50b3b41",
         "x": [
          "Não evadidos",
          "Evadidos"
         ],
         "y": [
          0.6479943994136886,
          0.35200560058631136
         ]
        }
       ],
       "layout": {
        "title": {
         "text": "Qual o percentual de evasão por tamanho de turma?"
        }
       }
      },
      "text/html": [
       "<div>\n",
       "        \n",
       "        \n",
       "            <div id=\"cbbd4386-78ea-412d-8dc3-a5d454ff884f\" class=\"plotly-graph-div\" style=\"height:525px; width:100%;\"></div>\n",
       "            <script type=\"text/javascript\">\n",
       "                require([\"plotly\"], function(Plotly) {\n",
       "                    window.PLOTLYENV=window.PLOTLYENV || {};\n",
       "                    window.PLOTLYENV.BASE_URL='https://plot.ly';\n",
       "                    \n",
       "                if (document.getElementById(\"cbbd4386-78ea-412d-8dc3-a5d454ff884f\")) {\n",
       "                    Plotly.newPlot(\n",
       "                        'cbbd4386-78ea-412d-8dc3-a5d454ff884f',\n",
       "                        [{\"marker\": {\"color\": \"#025951\"}, \"name\": \"Menos de 30 alunos\", \"type\": \"bar\", \"uid\": \"768c9f12-1afa-4e88-8c30-eb5e51d81883\", \"x\": [\"N\\u00e3o evadidos\", \"Evadidos\"], \"y\": [0.6548883374689827, 0.3451116625310174]}, {\"marker\": {\"color\": \"#8BD9CA\"}, \"name\": \"30 a 40\", \"type\": \"bar\", \"uid\": \"140295ff-836e-4a9d-a9f0-be537b359ae4\", \"x\": [\"N\\u00e3o evadidos\", \"Evadidos\"], \"y\": [0.6519419960193347, 0.34805800398066533]}, {\"marker\": {\"color\": \"#BF7F30\"}, \"name\": \"Mais de 40 alunos\", \"type\": \"bar\", \"uid\": \"b4b481fb-d008-42f0-8771-6e862ced8de9\", \"x\": [\"N\\u00e3o evadidos\", \"Evadidos\"], \"y\": [0.6258306009343354, 0.3741693990656646]}, {\"marker\": {\"color\": \"#dbdbdb\"}, \"name\": \"Total\", \"type\": \"bar\", \"uid\": \"37c94127-64fe-4786-a616-e475d50b3b41\", \"x\": [\"N\\u00e3o evadidos\", \"Evadidos\"], \"y\": [0.6479943994136886, 0.35200560058631136]}],\n",
       "                        {\"title\": {\"text\": \"Qual o percentual de evas\\u00e3o por tamanho de turma?\"}},\n",
       "                        {\"showLink\": false, \"linkText\": \"Export to plot.ly\", \"plotlyServerURL\": \"https://plot.ly\", \"responsive\": true}\n",
       "                    ).then(function(){\n",
       "                            \n",
       "var gd = document.getElementById('cbbd4386-78ea-412d-8dc3-a5d454ff884f');\n",
       "var x = new MutationObserver(function (mutations, observer) {{\n",
       "        var display = window.getComputedStyle(gd).display;\n",
       "        if (!display || display === 'none') {{\n",
       "            console.log([gd, 'removed!']);\n",
       "            Plotly.purge(gd);\n",
       "            observer.disconnect();\n",
       "        }}\n",
       "}});\n",
       "\n",
       "// Listen for the removal of the full notebook cells\n",
       "var notebookContainer = gd.closest('#notebook-container');\n",
       "if (notebookContainer) {{\n",
       "    x.observe(notebookContainer, {childList: true});\n",
       "}}\n",
       "\n",
       "// Listen for the clearing of the current output cell\n",
       "var outputEl = gd.closest('.output');\n",
       "if (outputEl) {{\n",
       "    x.observe(outputEl, {childList: true});\n",
       "}}\n",
       "\n",
       "                        }).then(function(){\n",
       "                            function downloadimage(format, height, width, filename) {var p = document.getElementById('cbbd4386-78ea-412d-8dc3-a5d454ff884f');Plotly.downloadImage(p, {format: format, height: height, width: width, filename: filename});};if(document.readyState == 'complete') {downloadimage('png', 600, 800, 'perc_n_turma_evasao');}\n",
       "                        })\n",
       "                };\n",
       "                });\n",
       "            </script>\n",
       "        </div>"
      ]
     },
     "metadata": {},
     "output_type": "display_data"
    }
   ],
   "source": [
    "title = 'Qual o percentual de evasão por tamanho de turma?'\n",
    "\n",
    "x = 'N_TURMA'\n",
    "categorias = {0: 'Menos de 30 alunos',  \n",
    "              1: '30 a 40',\n",
    "              2: 'Mais de 40 alunos'\n",
    "             }\n",
    "\n",
    "plot_categoria(x, categorias, title, 'perc_n_turma_evasao', title2='Percentual de alunos por tamanho da turma')"
   ]
  },
  {
   "cell_type": "code",
   "execution_count": null,
   "metadata": {},
   "outputs": [],
   "source": []
  }
 ],
 "metadata": {
  "kernelspec": {
   "display_name": "Python 3",
   "language": "python",
   "name": "python3"
  },
  "language_info": {
   "codemirror_mode": {
    "name": "ipython",
    "version": 3
   },
   "file_extension": ".py",
   "mimetype": "text/x-python",
   "name": "python",
   "nbconvert_exporter": "python",
   "pygments_lexer": "ipython3",
   "version": "3.7.4"
  },
  "toc": {
   "base_numbering": 1,
   "nav_menu": {},
   "number_sections": true,
   "sideBar": true,
   "skip_h1_title": true,
   "title_cell": "Table of Contents",
   "title_sidebar": "Contents",
   "toc_cell": true,
   "toc_position": {},
   "toc_section_display": true,
   "toc_window_display": false
  }
 },
 "nbformat": 4,
 "nbformat_minor": 2
}
