{
 "cells": [
  {
   "cell_type": "markdown",
   "metadata": {
    "toc": true
   },
   "source": [
    "<h1>Table of Contents<span class=\"tocSkip\"></span></h1>\n",
    "<div class=\"toc\"><ul class=\"toc-item\"></ul></div>"
   ]
  },
  {
   "cell_type": "markdown",
   "metadata": {},
   "source": [
    "# Nível Socioeconômico\n",
    "---\n",
    "- Somente 936 escolas estaduais no RJ têm esse indicador"
   ]
  },
  {
   "cell_type": "code",
   "execution_count": 2,
   "metadata": {},
   "outputs": [
    {
     "data": {
      "text/html": [
       "<script>requirejs.config({paths: { 'plotly': ['https://cdn.plot.ly/plotly-latest.min']},});if(!window.Plotly) {{require(['plotly'],function(plotly) {window.Plotly=plotly;});}}</script>"
      ],
      "text/vnd.plotly.v1+html": [
       "<script>requirejs.config({paths: { 'plotly': ['https://cdn.plot.ly/plotly-latest.min']},});if(!window.Plotly) {{require(['plotly'],function(plotly) {window.Plotly=plotly;});}}</script>"
      ]
     },
     "metadata": {},
     "output_type": "display_data"
    }
   ],
   "source": [
    "# %load first_cell.py\n",
    "%reload_ext autoreload\n",
    "%autoreload 2\n",
    "\n",
    "from paths import RAW_PATH, TREAT_PATH, OUTPUT_PATH, FIGURES_PATH\n",
    "\n",
    "from copy import deepcopy\n",
    "import numpy as np\n",
    "import pandas as pd\n",
    "pd.options.display.max_columns = 999\n",
    "import pandas_profiling\n",
    "\n",
    "import warnings\n",
    "warnings.filterwarnings('ignore')\n",
    "\n",
    "# Plotting\n",
    "import plotly\n",
    "import plotly.graph_objs as go\n",
    "# import cufflinks as cf\n",
    "plotly.offline.init_notebook_mode(connected=True)\n",
    "\n",
    "# cf.go_offline()\n",
    "# cf.set_config_file(offline=False, world_readable=True)"
   ]
  },
  {
   "cell_type": "code",
   "execution_count": 5,
   "metadata": {
    "scrolled": true
   },
   "outputs": [
    {
     "name": "stdout",
     "output_type": "stream",
     "text": [
      "<class 'pandas.core.frame.DataFrame'>\n",
      "RangeIndex: 63258 entries, 0 to 63257\n",
      "Data columns (total 12 columns):\n",
      "CO_ESCOLA              63258 non-null int64\n",
      "NOME_ESCOLA            63258 non-null object\n",
      "CO_UF                  63258 non-null int64\n",
      "NOME_UF                63258 non-null object\n",
      "CO_MUNICIPIO           63258 non-null int64\n",
      "NOME_MUNICIPIO         63258 non-null int64\n",
      "ID_AREA                63258 non-null int64\n",
      "TP_DEPENDENCIA         63258 non-null int64\n",
      "TP_LOCALIZACAO         63258 non-null int64\n",
      "QTD_ALUNOS_INSE        63258 non-null int64\n",
      "INSE_VALOR_ABSOLUTO    63258 non-null float64\n",
      "INSE_CLASSIFICACAO     63258 non-null object\n",
      "dtypes: float64(1), int64(8), object(3)\n",
      "memory usage: 5.8+ MB\n"
     ]
    }
   ],
   "source": [
    "# Nível socioeconômico\n",
    "# ! pip3 install xlrd\n",
    "\n",
    "df_inse_2015 = pd.read_excel(RAW_PATH / 'INSE_2015.xlsx')\n",
    "df_inse_2015.info()"
   ]
  },
  {
   "cell_type": "code",
   "execution_count": 7,
   "metadata": {},
   "outputs": [],
   "source": [
    "df_inse_2015 = df_inse_2015[df_inse_2015['TP_DEPENDENCIA'] == 2] # Escolas estaduais\n",
    "df_inse_2015 = df_inse_2015[df_inse_2015['CO_UF'] == 33] # no RJ"
   ]
  },
  {
   "cell_type": "code",
   "execution_count": 8,
   "metadata": {},
   "outputs": [
    {
     "data": {
      "text/html": [
       "<div>\n",
       "<style scoped>\n",
       "    .dataframe tbody tr th:only-of-type {\n",
       "        vertical-align: middle;\n",
       "    }\n",
       "\n",
       "    .dataframe tbody tr th {\n",
       "        vertical-align: top;\n",
       "    }\n",
       "\n",
       "    .dataframe thead th {\n",
       "        text-align: right;\n",
       "    }\n",
       "</style>\n",
       "<table border=\"1\" class=\"dataframe\">\n",
       "  <thead>\n",
       "    <tr style=\"text-align: right;\">\n",
       "      <th></th>\n",
       "      <th>CO_ESCOLA</th>\n",
       "      <th>NOME_ESCOLA</th>\n",
       "      <th>CO_UF</th>\n",
       "      <th>NOME_UF</th>\n",
       "      <th>CO_MUNICIPIO</th>\n",
       "      <th>NOME_MUNICIPIO</th>\n",
       "      <th>ID_AREA</th>\n",
       "      <th>TP_DEPENDENCIA</th>\n",
       "      <th>TP_LOCALIZACAO</th>\n",
       "      <th>QTD_ALUNOS_INSE</th>\n",
       "      <th>INSE_VALOR_ABSOLUTO</th>\n",
       "      <th>INSE_CLASSIFICACAO</th>\n",
       "    </tr>\n",
       "  </thead>\n",
       "  <tbody>\n",
       "    <tr>\n",
       "      <th>33485</th>\n",
       "      <td>33000026</td>\n",
       "      <td>CE GOVERNADOR ROBERTO SILVEIRA</td>\n",
       "      <td>33</td>\n",
       "      <td>Rio de Janeiro</td>\n",
       "      <td>3300605</td>\n",
       "      <td>3300605</td>\n",
       "      <td>0</td>\n",
       "      <td>2</td>\n",
       "      <td>1</td>\n",
       "      <td>41</td>\n",
       "      <td>49.53</td>\n",
       "      <td>Grupo 3</td>\n",
       "    </tr>\n",
       "    <tr>\n",
       "      <th>33486</th>\n",
       "      <td>33000042</td>\n",
       "      <td>CE PADRE MELLO</td>\n",
       "      <td>33</td>\n",
       "      <td>Rio de Janeiro</td>\n",
       "      <td>3300605</td>\n",
       "      <td>3300605</td>\n",
       "      <td>0</td>\n",
       "      <td>2</td>\n",
       "      <td>1</td>\n",
       "      <td>129</td>\n",
       "      <td>46.42</td>\n",
       "      <td>Grupo 3</td>\n",
       "    </tr>\n",
       "    <tr>\n",
       "      <th>33488</th>\n",
       "      <td>33000158</td>\n",
       "      <td>CE EUCLIDES FELICIANO TARDIN</td>\n",
       "      <td>33</td>\n",
       "      <td>Rio de Janeiro</td>\n",
       "      <td>3300605</td>\n",
       "      <td>3300605</td>\n",
       "      <td>0</td>\n",
       "      <td>2</td>\n",
       "      <td>1</td>\n",
       "      <td>205</td>\n",
       "      <td>49.97</td>\n",
       "      <td>Grupo 3</td>\n",
       "    </tr>\n",
       "    <tr>\n",
       "      <th>33490</th>\n",
       "      <td>33000360</td>\n",
       "      <td>IE EBER TEIXEIRA DE FIGUEIREDO</td>\n",
       "      <td>33</td>\n",
       "      <td>Rio de Janeiro</td>\n",
       "      <td>3300605</td>\n",
       "      <td>3300605</td>\n",
       "      <td>0</td>\n",
       "      <td>2</td>\n",
       "      <td>1</td>\n",
       "      <td>232</td>\n",
       "      <td>50.68</td>\n",
       "      <td>Grupo 3</td>\n",
       "    </tr>\n",
       "    <tr>\n",
       "      <th>33492</th>\n",
       "      <td>33000670</td>\n",
       "      <td>CE MARIA DA CONCEICAO PEREIRA PINTO</td>\n",
       "      <td>33</td>\n",
       "      <td>Rio de Janeiro</td>\n",
       "      <td>3300605</td>\n",
       "      <td>3300605</td>\n",
       "      <td>0</td>\n",
       "      <td>2</td>\n",
       "      <td>2</td>\n",
       "      <td>35</td>\n",
       "      <td>46.11</td>\n",
       "      <td>Grupo 3</td>\n",
       "    </tr>\n",
       "  </tbody>\n",
       "</table>\n",
       "</div>"
      ],
      "text/plain": [
       "       CO_ESCOLA                          NOME_ESCOLA  CO_UF         NOME_UF  \\\n",
       "33485   33000026       CE GOVERNADOR ROBERTO SILVEIRA     33  Rio de Janeiro   \n",
       "33486   33000042                       CE PADRE MELLO     33  Rio de Janeiro   \n",
       "33488   33000158         CE EUCLIDES FELICIANO TARDIN     33  Rio de Janeiro   \n",
       "33490   33000360       IE EBER TEIXEIRA DE FIGUEIREDO     33  Rio de Janeiro   \n",
       "33492   33000670  CE MARIA DA CONCEICAO PEREIRA PINTO     33  Rio de Janeiro   \n",
       "\n",
       "       CO_MUNICIPIO  NOME_MUNICIPIO  ID_AREA  TP_DEPENDENCIA  TP_LOCALIZACAO  \\\n",
       "33485       3300605         3300605        0               2               1   \n",
       "33486       3300605         3300605        0               2               1   \n",
       "33488       3300605         3300605        0               2               1   \n",
       "33490       3300605         3300605        0               2               1   \n",
       "33492       3300605         3300605        0               2               2   \n",
       "\n",
       "       QTD_ALUNOS_INSE  INSE_VALOR_ABSOLUTO INSE_CLASSIFICACAO  \n",
       "33485               41                49.53            Grupo 3  \n",
       "33486              129                46.42            Grupo 3  \n",
       "33488              205                49.97            Grupo 3  \n",
       "33490              232                50.68            Grupo 3  \n",
       "33492               35                46.11            Grupo 3  "
      ]
     },
     "execution_count": 8,
     "metadata": {},
     "output_type": "execute_result"
    }
   ],
   "source": [
    "df_inse_2015.head()"
   ]
  },
  {
   "cell_type": "code",
   "execution_count": 11,
   "metadata": {},
   "outputs": [],
   "source": [
    "df_inse_2015['NIVEL'] = df_inse_2015['INSE_CLASSIFICACAO'].apply(lambda x: int(x.split()[1]))"
   ]
  },
  {
   "cell_type": "code",
   "execution_count": 12,
   "metadata": {
    "scrolled": true
   },
   "outputs": [
    {
     "name": "stdout",
     "output_type": "stream",
     "text": [
      "<class 'pandas.core.frame.DataFrame'>\n",
      "Int64Index: 936 entries, 33485 to 37804\n",
      "Data columns (total 13 columns):\n",
      "CO_ESCOLA              936 non-null int64\n",
      "NOME_ESCOLA            936 non-null object\n",
      "CO_UF                  936 non-null int64\n",
      "NOME_UF                936 non-null object\n",
      "CO_MUNICIPIO           936 non-null int64\n",
      "NOME_MUNICIPIO         936 non-null int64\n",
      "ID_AREA                936 non-null int64\n",
      "TP_DEPENDENCIA         936 non-null int64\n",
      "TP_LOCALIZACAO         936 non-null int64\n",
      "QTD_ALUNOS_INSE        936 non-null int64\n",
      "INSE_VALOR_ABSOLUTO    936 non-null float64\n",
      "INSE_CLASSIFICACAO     936 non-null object\n",
      "NIVEL                  936 non-null int64\n",
      "dtypes: float64(1), int64(9), object(3)\n",
      "memory usage: 102.4+ KB\n"
     ]
    }
   ],
   "source": [
    "df_inse_2015.info()"
   ]
  },
  {
   "cell_type": "code",
   "execution_count": 13,
   "metadata": {},
   "outputs": [],
   "source": [
    "df_inse_2015.to_csv(TREAT_PATH / 'inse_2015_rj.csv')"
   ]
  }
 ],
 "metadata": {
  "kernelspec": {
   "display_name": "Python 3",
   "language": "python",
   "name": "python3"
  },
  "language_info": {
   "codemirror_mode": {
    "name": "ipython",
    "version": 3
   },
   "file_extension": ".py",
   "mimetype": "text/x-python",
   "name": "python",
   "nbconvert_exporter": "python",
   "pygments_lexer": "ipython3",
   "version": "3.7.4"
  },
  "toc": {
   "base_numbering": 1,
   "nav_menu": {},
   "number_sections": true,
   "sideBar": true,
   "skip_h1_title": true,
   "title_cell": "Table of Contents",
   "title_sidebar": "Contents",
   "toc_cell": true,
   "toc_position": {},
   "toc_section_display": true,
   "toc_window_display": false
  }
 },
 "nbformat": 4,
 "nbformat_minor": 2
}
